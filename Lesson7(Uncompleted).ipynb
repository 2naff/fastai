{
  "nbformat": 4,
  "nbformat_minor": 0,
  "metadata": {
    "colab": {
      "name": "Lesson7(Uncompleted).ipynb",
      "provenance": [],
      "collapsed_sections": []
    },
    "kernelspec": {
      "name": "python3",
      "display_name": "Python 3"
    },
    "language_info": {
      "name": "python"
    },
    "accelerator": "GPU",
    "gpuClass": "standard"
  },
  "cells": [
    {
      "cell_type": "code",
      "execution_count": 1,
      "metadata": {
        "colab": {
          "base_uri": "https://localhost:8080/"
        },
        "id": "LBXxFcbuvBKH",
        "outputId": "b187433d-fc93-467a-d27c-008d09dbcf02"
      },
      "outputs": [
        {
          "output_type": "stream",
          "name": "stdout",
          "text": [
            "\u001b[K     |████████████████████████████████| 719 kB 29.3 MB/s \n",
            "\u001b[K     |████████████████████████████████| 1.3 MB 59.1 MB/s \n",
            "\u001b[K     |████████████████████████████████| 365 kB 67.6 MB/s \n",
            "\u001b[K     |████████████████████████████████| 4.7 MB 64.6 MB/s \n",
            "\u001b[K     |████████████████████████████████| 212 kB 72.6 MB/s \n",
            "\u001b[K     |████████████████████████████████| 115 kB 68.0 MB/s \n",
            "\u001b[K     |████████████████████████████████| 101 kB 14.4 MB/s \n",
            "\u001b[K     |████████████████████████████████| 127 kB 71.9 MB/s \n",
            "\u001b[K     |████████████████████████████████| 6.6 MB 41.3 MB/s \n",
            "\u001b[?25hMounted at /content/gdrive\n"
          ]
        }
      ],
      "source": [
        "#hide\n",
        "! [ -e /content ] && pip install -Uqq fastbook\n",
        "import fastbook\n",
        "fastbook.setup_book()\n",
        "from fastbook import *"
      ]
    },
    {
      "cell_type": "code",
      "source": [
        "from fastai.vision.all import *\n",
        "path = untar_data(URLs.IMAGENETTE)"
      ],
      "metadata": {
        "colab": {
          "base_uri": "https://localhost:8080/",
          "height": 37
        },
        "id": "lNBjPTU4vTBn",
        "outputId": "fba526d4-bdee-40b5-f72f-b6bad3f91f25"
      },
      "execution_count": 2,
      "outputs": [
        {
          "output_type": "display_data",
          "data": {
            "text/plain": [
              "<IPython.core.display.HTML object>"
            ],
            "text/html": [
              "\n",
              "<style>\n",
              "    /* Turns off some styling */\n",
              "    progress {\n",
              "        /* gets rid of default border in Firefox and Opera. */\n",
              "        border: none;\n",
              "        /* Needs to be in here for Safari polyfill so background images work as expected. */\n",
              "        background-size: auto;\n",
              "    }\n",
              "    progress:not([value]), progress:not([value])::-webkit-progress-bar {\n",
              "        background: repeating-linear-gradient(45deg, #7e7e7e, #7e7e7e 10px, #5c5c5c 10px, #5c5c5c 20px);\n",
              "    }\n",
              "    .progress-bar-interrupted, .progress-bar-interrupted::-webkit-progress-bar {\n",
              "        background: #F44336;\n",
              "    }\n",
              "</style>\n"
            ]
          },
          "metadata": {}
        },
        {
          "output_type": "display_data",
          "data": {
            "text/plain": [
              "<IPython.core.display.HTML object>"
            ],
            "text/html": [
              "\n",
              "    <div>\n",
              "      <progress value='1557168128' class='' max='1557161267' style='width:300px; height:20px; vertical-align: middle;'></progress>\n",
              "      100.00% [1557168128/1557161267 02:02&lt;00:00]\n",
              "    </div>\n",
              "    "
            ]
          },
          "metadata": {}
        }
      ]
    },
    {
      "cell_type": "code",
      "source": [
        "dblock = DataBlock(blocks=(ImageBlock(), CategoryBlock()),\n",
        "                   get_items=get_image_files, # 이미지 파일로부터 아이템을 가져오는데\n",
        "                   get_y=parent_label, # 부모는 파일의 폴더 명으로 레이블링 된다.\n",
        "                   item_tfms=Resize(460),\n",
        "                   batch_tfms=aug_transforms(size=224, min_scale=0.75))\n",
        "dls = dblock.dataloaders(path, bs=64) # 배치 사이즈 64 "
      ],
      "metadata": {
        "id": "kLIVJEClvTEc"
      },
      "execution_count": 3,
      "outputs": []
    },
    {
      "cell_type": "code",
      "source": [
        "dls.c # 도대체 c는 뭐지?"
      ],
      "metadata": {
        "colab": {
          "base_uri": "https://localhost:8080/"
        },
        "id": "pP4m9V1yS_ec",
        "outputId": "46cb89cf-5007-4bbc-fc3f-120cc762780c"
      },
      "execution_count": 9,
      "outputs": [
        {
          "output_type": "execute_result",
          "data": {
            "text/plain": [
              "10"
            ]
          },
          "metadata": {},
          "execution_count": 9
        }
      ]
    },
    {
      "cell_type": "code",
      "source": [
        "model = xresnet50(n_out=dls.c)\n",
        "learn = Learner(dls, model, loss_func=CrossEntropyLossFlat(), metrics=accuracy) # 교차엔트로피, 평가지표 : 정확도\n",
        "learn.fit_one_cycle(5, 3e-3)"
      ],
      "metadata": {
        "colab": {
          "base_uri": "https://localhost:8080/",
          "height": 206
        },
        "id": "KrS6syKYvTHZ",
        "outputId": "cd1d1dcb-3e08-47c1-88a2-41e770f13be6"
      },
      "execution_count": null,
      "outputs": [
        {
          "output_type": "display_data",
          "data": {
            "text/plain": [
              "<IPython.core.display.HTML object>"
            ],
            "text/html": [
              "\n",
              "<style>\n",
              "    /* Turns off some styling */\n",
              "    progress {\n",
              "        /* gets rid of default border in Firefox and Opera. */\n",
              "        border: none;\n",
              "        /* Needs to be in here for Safari polyfill so background images work as expected. */\n",
              "        background-size: auto;\n",
              "    }\n",
              "    progress:not([value]), progress:not([value])::-webkit-progress-bar {\n",
              "        background: repeating-linear-gradient(45deg, #7e7e7e, #7e7e7e 10px, #5c5c5c 10px, #5c5c5c 20px);\n",
              "    }\n",
              "    .progress-bar-interrupted, .progress-bar-interrupted::-webkit-progress-bar {\n",
              "        background: #F44336;\n",
              "    }\n",
              "</style>\n"
            ]
          },
          "metadata": {}
        },
        {
          "output_type": "display_data",
          "data": {
            "text/plain": [
              "<IPython.core.display.HTML object>"
            ],
            "text/html": [
              "<table border=\"1\" class=\"dataframe\">\n",
              "  <thead>\n",
              "    <tr style=\"text-align: left;\">\n",
              "      <th>epoch</th>\n",
              "      <th>train_loss</th>\n",
              "      <th>valid_loss</th>\n",
              "      <th>accuracy</th>\n",
              "      <th>time</th>\n",
              "    </tr>\n",
              "  </thead>\n",
              "  <tbody>\n",
              "    <tr>\n",
              "      <td>0</td>\n",
              "      <td>1.583717</td>\n",
              "      <td>3.737929</td>\n",
              "      <td>0.315534</td>\n",
              "      <td>02:59</td>\n",
              "    </tr>\n",
              "    <tr>\n",
              "      <td>1</td>\n",
              "      <td>1.254776</td>\n",
              "      <td>1.384987</td>\n",
              "      <td>0.591486</td>\n",
              "      <td>02:58</td>\n",
              "    </tr>\n",
              "    <tr>\n",
              "      <td>2</td>\n",
              "      <td>0.942539</td>\n",
              "      <td>0.836383</td>\n",
              "      <td>0.743092</td>\n",
              "      <td>02:57</td>\n",
              "    </tr>\n",
              "    <tr>\n",
              "      <td>3</td>\n",
              "      <td>0.725394</td>\n",
              "      <td>0.645134</td>\n",
              "      <td>0.794996</td>\n",
              "      <td>02:59</td>\n",
              "    </tr>\n",
              "    <tr>\n",
              "      <td>4</td>\n",
              "      <td>0.608696</td>\n",
              "      <td>0.550459</td>\n",
              "      <td>0.830471</td>\n",
              "      <td>02:57</td>\n",
              "    </tr>\n",
              "  </tbody>\n",
              "</table>"
            ]
          },
          "metadata": {}
        }
      ]
    },
    {
      "cell_type": "code",
      "source": [
        "x, y = dls.one_batch()\n",
        "x.mean(dim=[0,2,3]), x.std(dim=[0,2,3]) # 인덱스 1에 해당되는 채널 축은 제외"
      ],
      "metadata": {
        "colab": {
          "base_uri": "https://localhost:8080/"
        },
        "id": "myaYqwqBvTKg",
        "outputId": "390e6501-757e-4c69-d21b-55ab3c3368b0"
      },
      "execution_count": null,
      "outputs": [
        {
          "output_type": "execute_result",
          "data": {
            "text/plain": [
              "(TensorImage([0.4345, 0.4269, 0.3922], device='cuda:0'),\n",
              " TensorImage([0.2742, 0.2628, 0.2883], device='cuda:0'))"
            ]
          },
          "metadata": {},
          "execution_count": 7
        }
      ]
    },
    {
      "cell_type": "code",
      "source": [
        "def get_dls(bs, size):\n",
        "  dblock = DataBlock(blocks=(ImageBlock(), CategoryBlock()),\n",
        "                   get_items=get_image_files,\n",
        "                   get_y=parent_label,\n",
        "                   item_tfms=Resize(460),\n",
        "                   batch_tfms=[*aug_transforms(size=size, min_scale = 0.75), # 사이즈를 인자로\n",
        "                               Normalize.from_stats(*imagenet_stats)]) # 이미지넷의 자료를 가지고 정규화 평균 0 표준편차 1로 조정\n",
        "  return dblock.dataloaders(path, bs=bs)\n",
        "\n",
        "dls = get_dls(64, 224)\n",
        "\n",
        "x, y = dls.one_batch()\n",
        "\n",
        "x.mean(dim=[0,2,3]), x.std(dim=[0,2,3])"
      ],
      "metadata": {
        "id": "zS0IwazkvTNq",
        "colab": {
          "base_uri": "https://localhost:8080/"
        },
        "outputId": "ed275b52-0355-4507-9d05-91ff1296dcae"
      },
      "execution_count": null,
      "outputs": [
        {
          "output_type": "execute_result",
          "data": {
            "text/plain": [
              "(TensorImage([-0.0313,  0.0583,  0.1677], device='cuda:0'),\n",
              " TensorImage([1.2376, 1.2467, 1.3268], device='cuda:0'))"
            ]
          },
          "metadata": {},
          "execution_count": 5
        }
      ]
    },
    {
      "cell_type": "code",
      "source": [
        "model = xresnet50()\n",
        "learn = Learner(dls, model, loss_func=CrossEntropyLossFlat(), metrics=accuracy)\n",
        "learn.fit_one_cycle(5, 3e-3)"
      ],
      "metadata": {
        "id": "jpcDI6jPvTQz",
        "colab": {
          "base_uri": "https://localhost:8080/",
          "height": 206
        },
        "outputId": "554e88ae-7f2f-4a47-b2b7-8055e29e3a3b"
      },
      "execution_count": null,
      "outputs": [
        {
          "output_type": "display_data",
          "data": {
            "text/plain": [
              "<IPython.core.display.HTML object>"
            ],
            "text/html": [
              "\n",
              "<style>\n",
              "    /* Turns off some styling */\n",
              "    progress {\n",
              "        /* gets rid of default border in Firefox and Opera. */\n",
              "        border: none;\n",
              "        /* Needs to be in here for Safari polyfill so background images work as expected. */\n",
              "        background-size: auto;\n",
              "    }\n",
              "    progress:not([value]), progress:not([value])::-webkit-progress-bar {\n",
              "        background: repeating-linear-gradient(45deg, #7e7e7e, #7e7e7e 10px, #5c5c5c 10px, #5c5c5c 20px);\n",
              "    }\n",
              "    .progress-bar-interrupted, .progress-bar-interrupted::-webkit-progress-bar {\n",
              "        background: #F44336;\n",
              "    }\n",
              "</style>\n"
            ]
          },
          "metadata": {}
        },
        {
          "output_type": "display_data",
          "data": {
            "text/plain": [
              "<IPython.core.display.HTML object>"
            ],
            "text/html": [
              "<table border=\"1\" class=\"dataframe\">\n",
              "  <thead>\n",
              "    <tr style=\"text-align: left;\">\n",
              "      <th>epoch</th>\n",
              "      <th>train_loss</th>\n",
              "      <th>valid_loss</th>\n",
              "      <th>accuracy</th>\n",
              "      <th>time</th>\n",
              "    </tr>\n",
              "  </thead>\n",
              "  <tbody>\n",
              "    <tr>\n",
              "      <td>0</td>\n",
              "      <td>1.717172</td>\n",
              "      <td>3.103730</td>\n",
              "      <td>0.326736</td>\n",
              "      <td>03:03</td>\n",
              "    </tr>\n",
              "    <tr>\n",
              "      <td>1</td>\n",
              "      <td>1.279333</td>\n",
              "      <td>1.442635</td>\n",
              "      <td>0.512696</td>\n",
              "      <td>02:59</td>\n",
              "    </tr>\n",
              "    <tr>\n",
              "      <td>2</td>\n",
              "      <td>1.004035</td>\n",
              "      <td>0.855896</td>\n",
              "      <td>0.732263</td>\n",
              "      <td>02:58</td>\n",
              "    </tr>\n",
              "    <tr>\n",
              "      <td>3</td>\n",
              "      <td>0.755977</td>\n",
              "      <td>0.736605</td>\n",
              "      <td>0.761389</td>\n",
              "      <td>02:58</td>\n",
              "    </tr>\n",
              "    <tr>\n",
              "      <td>4</td>\n",
              "      <td>0.589611</td>\n",
              "      <td>0.567403</td>\n",
              "      <td>0.825243</td>\n",
              "      <td>02:57</td>\n",
              "    </tr>\n",
              "  </tbody>\n",
              "</table>"
            ]
          },
          "metadata": {}
        }
      ]
    },
    {
      "cell_type": "code",
      "source": [
        "dls =get_dls(128, 128)\n",
        "learn = Learner(dls, xresnet50(n_out=dls.c), loss_func=CrossEntropyLossFlat(),\n",
        "                metrics=accuracy)\n",
        "learn.fit_one_cycle(4, 3e-3)"
      ],
      "metadata": {
        "id": "HGnJ1NvHvTUC",
        "colab": {
          "base_uri": "https://localhost:8080/",
          "height": 175
        },
        "outputId": "f2704490-6b4c-40df-a68b-6c5d1919a6f0"
      },
      "execution_count": null,
      "outputs": [
        {
          "output_type": "display_data",
          "data": {
            "text/plain": [
              "<IPython.core.display.HTML object>"
            ],
            "text/html": [
              "\n",
              "<style>\n",
              "    /* Turns off some styling */\n",
              "    progress {\n",
              "        /* gets rid of default border in Firefox and Opera. */\n",
              "        border: none;\n",
              "        /* Needs to be in here for Safari polyfill so background images work as expected. */\n",
              "        background-size: auto;\n",
              "    }\n",
              "    progress:not([value]), progress:not([value])::-webkit-progress-bar {\n",
              "        background: repeating-linear-gradient(45deg, #7e7e7e, #7e7e7e 10px, #5c5c5c 10px, #5c5c5c 20px);\n",
              "    }\n",
              "    .progress-bar-interrupted, .progress-bar-interrupted::-webkit-progress-bar {\n",
              "        background: #F44336;\n",
              "    }\n",
              "</style>\n"
            ]
          },
          "metadata": {}
        },
        {
          "output_type": "display_data",
          "data": {
            "text/plain": [
              "<IPython.core.display.HTML object>"
            ],
            "text/html": [
              "<table border=\"1\" class=\"dataframe\">\n",
              "  <thead>\n",
              "    <tr style=\"text-align: left;\">\n",
              "      <th>epoch</th>\n",
              "      <th>train_loss</th>\n",
              "      <th>valid_loss</th>\n",
              "      <th>accuracy</th>\n",
              "      <th>time</th>\n",
              "    </tr>\n",
              "  </thead>\n",
              "  <tbody>\n",
              "    <tr>\n",
              "      <td>0</td>\n",
              "      <td>1.609498</td>\n",
              "      <td>2.208646</td>\n",
              "      <td>0.398058</td>\n",
              "      <td>02:26</td>\n",
              "    </tr>\n",
              "    <tr>\n",
              "      <td>1</td>\n",
              "      <td>1.234128</td>\n",
              "      <td>1.253801</td>\n",
              "      <td>0.638910</td>\n",
              "      <td>02:25</td>\n",
              "    </tr>\n",
              "    <tr>\n",
              "      <td>2</td>\n",
              "      <td>0.938919</td>\n",
              "      <td>0.942133</td>\n",
              "      <td>0.711725</td>\n",
              "      <td>02:24</td>\n",
              "    </tr>\n",
              "    <tr>\n",
              "      <td>3</td>\n",
              "      <td>0.741066</td>\n",
              "      <td>0.665690</td>\n",
              "      <td>0.788275</td>\n",
              "      <td>02:25</td>\n",
              "    </tr>\n",
              "  </tbody>\n",
              "</table>"
            ]
          },
          "metadata": {}
        }
      ]
    },
    {
      "cell_type": "code",
      "source": [
        "# 속도가 느려서 더 이상 진행 못하겠음\n",
        "# 향후 Fastai가 M1을 지원한다면 그때 다시 학습"
      ],
      "metadata": {
        "id": "VmQz4CqzvTXR"
      },
      "execution_count": null,
      "outputs": []
    }
  ]
}
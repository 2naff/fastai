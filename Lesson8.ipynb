{
  "nbformat": 4,
  "nbformat_minor": 0,
  "metadata": {
    "colab": {
      "name": "Lesson8.ipynb",
      "provenance": [],
      "collapsed_sections": [],
      "toc_visible": true
    },
    "kernelspec": {
      "name": "python3",
      "display_name": "Python 3"
    },
    "language_info": {
      "name": "python"
    },
    "accelerator": "GPU",
    "gpuClass": "standard"
  },
  "cells": [
    {
      "cell_type": "code",
      "execution_count": 69,
      "metadata": {
        "id": "wzRp12G9VYru"
      },
      "outputs": [],
      "source": [
        "# initiation\n",
        "! [ -e /content ] && pip install -Uqq fastbook\n",
        "import fastbook\n",
        "fastbook.setup_book()\n",
        "from fastbook import *"
      ]
    },
    {
      "cell_type": "markdown",
      "source": [
        "# Collaborative filtering 협업 필터링\n",
        "\n",
        "광고, 넷플릭스 동영상 추천 등의 알고리즘은 협업 필터링으로부터 나온다. \\\n",
        "아이언맨을 좋아한 유저 A는 토르, 헐크에 대해서도 높은 평가를 제공했으며, \\\n",
        "유저 B 역시 아이언맨을 좋아하지만 다음 동영상을 보이게 망설이고 있다. 이때 컴퓨터는 유저 A의 평가를 참조하여\\\n",
        "토르와 헐크의 영화를 추천해준다. 이와 같은 방식이 협업 필터링이다.\n",
        "\n",
        "컴퓨터는 항목과 관련된 정보를 가지고 있지 않다. \\\n",
        "그렇지만 항목을 선택한 이유와 그 항목이 가지는 의미를 표현하는 방법이 있어야 하며, 잠재 요소가 이를 잠재적으로 표현한다."
      ],
      "metadata": {
        "id": "mCZXlkj-V09B"
      }
    },
    {
      "cell_type": "code",
      "source": [
        "# 무비렌즈의 데이터셋을 들고온다. 평점 정보와 사용자 아이디, 평점 정보의 조합을 제공한다.\n",
        "\n",
        "from fastai.collab import *\n",
        "from fastai.tabular.all import *\n",
        "path = untar_data(URLs.ML_100k)"
      ],
      "metadata": {
        "id": "HQnBzEbBWmNW"
      },
      "execution_count": 70,
      "outputs": []
    },
    {
      "cell_type": "code",
      "source": [
        "# 열이름이 임베딩 되지 않았으므로 pandas를 통해 열 때 지정해주기\n",
        "\n",
        "ratings = pd.read_csv(path/'u.data', delimiter = '\\t', header=None,\n",
        "                      names = ['user', 'movie', 'rating', 'timestamp'])\n",
        "ratings.head()\n",
        "\n",
        "# 각 컬럼별로 유저의 아이디, 영화 아이디, 평점, 타임스태프를 표현한다."
      ],
      "metadata": {
        "colab": {
          "base_uri": "https://localhost:8080/",
          "height": 206
        },
        "id": "VEvqOkr4WmKF",
        "outputId": "58f928b4-5620-4285-e110-397c1539c008"
      },
      "execution_count": 71,
      "outputs": [
        {
          "output_type": "execute_result",
          "data": {
            "text/plain": [
              "   user  movie  rating  timestamp\n",
              "0   196    242       3  881250949\n",
              "1   186    302       3  891717742\n",
              "2    22    377       1  878887116\n",
              "3   244     51       2  880606923\n",
              "4   166    346       1  886397596"
            ],
            "text/html": [
              "\n",
              "  <div id=\"df-527a1a58-da6e-4ac4-8acf-9f029fd0b735\">\n",
              "    <div class=\"colab-df-container\">\n",
              "      <div>\n",
              "<style scoped>\n",
              "    .dataframe tbody tr th:only-of-type {\n",
              "        vertical-align: middle;\n",
              "    }\n",
              "\n",
              "    .dataframe tbody tr th {\n",
              "        vertical-align: top;\n",
              "    }\n",
              "\n",
              "    .dataframe thead th {\n",
              "        text-align: right;\n",
              "    }\n",
              "</style>\n",
              "<table border=\"1\" class=\"dataframe\">\n",
              "  <thead>\n",
              "    <tr style=\"text-align: right;\">\n",
              "      <th></th>\n",
              "      <th>user</th>\n",
              "      <th>movie</th>\n",
              "      <th>rating</th>\n",
              "      <th>timestamp</th>\n",
              "    </tr>\n",
              "  </thead>\n",
              "  <tbody>\n",
              "    <tr>\n",
              "      <th>0</th>\n",
              "      <td>196</td>\n",
              "      <td>242</td>\n",
              "      <td>3</td>\n",
              "      <td>881250949</td>\n",
              "    </tr>\n",
              "    <tr>\n",
              "      <th>1</th>\n",
              "      <td>186</td>\n",
              "      <td>302</td>\n",
              "      <td>3</td>\n",
              "      <td>891717742</td>\n",
              "    </tr>\n",
              "    <tr>\n",
              "      <th>2</th>\n",
              "      <td>22</td>\n",
              "      <td>377</td>\n",
              "      <td>1</td>\n",
              "      <td>878887116</td>\n",
              "    </tr>\n",
              "    <tr>\n",
              "      <th>3</th>\n",
              "      <td>244</td>\n",
              "      <td>51</td>\n",
              "      <td>2</td>\n",
              "      <td>880606923</td>\n",
              "    </tr>\n",
              "    <tr>\n",
              "      <th>4</th>\n",
              "      <td>166</td>\n",
              "      <td>346</td>\n",
              "      <td>1</td>\n",
              "      <td>886397596</td>\n",
              "    </tr>\n",
              "  </tbody>\n",
              "</table>\n",
              "</div>\n",
              "      <button class=\"colab-df-convert\" onclick=\"convertToInteractive('df-527a1a58-da6e-4ac4-8acf-9f029fd0b735')\"\n",
              "              title=\"Convert this dataframe to an interactive table.\"\n",
              "              style=\"display:none;\">\n",
              "        \n",
              "  <svg xmlns=\"http://www.w3.org/2000/svg\" height=\"24px\"viewBox=\"0 0 24 24\"\n",
              "       width=\"24px\">\n",
              "    <path d=\"M0 0h24v24H0V0z\" fill=\"none\"/>\n",
              "    <path d=\"M18.56 5.44l.94 2.06.94-2.06 2.06-.94-2.06-.94-.94-2.06-.94 2.06-2.06.94zm-11 1L8.5 8.5l.94-2.06 2.06-.94-2.06-.94L8.5 2.5l-.94 2.06-2.06.94zm10 10l.94 2.06.94-2.06 2.06-.94-2.06-.94-.94-2.06-.94 2.06-2.06.94z\"/><path d=\"M17.41 7.96l-1.37-1.37c-.4-.4-.92-.59-1.43-.59-.52 0-1.04.2-1.43.59L10.3 9.45l-7.72 7.72c-.78.78-.78 2.05 0 2.83L4 21.41c.39.39.9.59 1.41.59.51 0 1.02-.2 1.41-.59l7.78-7.78 2.81-2.81c.8-.78.8-2.07 0-2.86zM5.41 20L4 18.59l7.72-7.72 1.47 1.35L5.41 20z\"/>\n",
              "  </svg>\n",
              "      </button>\n",
              "      \n",
              "  <style>\n",
              "    .colab-df-container {\n",
              "      display:flex;\n",
              "      flex-wrap:wrap;\n",
              "      gap: 12px;\n",
              "    }\n",
              "\n",
              "    .colab-df-convert {\n",
              "      background-color: #E8F0FE;\n",
              "      border: none;\n",
              "      border-radius: 50%;\n",
              "      cursor: pointer;\n",
              "      display: none;\n",
              "      fill: #1967D2;\n",
              "      height: 32px;\n",
              "      padding: 0 0 0 0;\n",
              "      width: 32px;\n",
              "    }\n",
              "\n",
              "    .colab-df-convert:hover {\n",
              "      background-color: #E2EBFA;\n",
              "      box-shadow: 0px 1px 2px rgba(60, 64, 67, 0.3), 0px 1px 3px 1px rgba(60, 64, 67, 0.15);\n",
              "      fill: #174EA6;\n",
              "    }\n",
              "\n",
              "    [theme=dark] .colab-df-convert {\n",
              "      background-color: #3B4455;\n",
              "      fill: #D2E3FC;\n",
              "    }\n",
              "\n",
              "    [theme=dark] .colab-df-convert:hover {\n",
              "      background-color: #434B5C;\n",
              "      box-shadow: 0px 1px 3px 1px rgba(0, 0, 0, 0.15);\n",
              "      filter: drop-shadow(0px 1px 2px rgba(0, 0, 0, 0.3));\n",
              "      fill: #FFFFFF;\n",
              "    }\n",
              "  </style>\n",
              "\n",
              "      <script>\n",
              "        const buttonEl =\n",
              "          document.querySelector('#df-527a1a58-da6e-4ac4-8acf-9f029fd0b735 button.colab-df-convert');\n",
              "        buttonEl.style.display =\n",
              "          google.colab.kernel.accessAllowed ? 'block' : 'none';\n",
              "\n",
              "        async function convertToInteractive(key) {\n",
              "          const element = document.querySelector('#df-527a1a58-da6e-4ac4-8acf-9f029fd0b735');\n",
              "          const dataTable =\n",
              "            await google.colab.kernel.invokeFunction('convertToInteractive',\n",
              "                                                     [key], {});\n",
              "          if (!dataTable) return;\n",
              "\n",
              "          const docLinkHtml = 'Like what you see? Visit the ' +\n",
              "            '<a target=\"_blank\" href=https://colab.research.google.com/notebooks/data_table.ipynb>data table notebook</a>'\n",
              "            + ' to learn more about interactive tables.';\n",
              "          element.innerHTML = '';\n",
              "          dataTable['output_type'] = 'display_data';\n",
              "          await google.colab.output.renderOutput(dataTable, element);\n",
              "          const docLink = document.createElement('div');\n",
              "          docLink.innerHTML = docLinkHtml;\n",
              "          element.appendChild(docLink);\n",
              "        }\n",
              "      </script>\n",
              "    </div>\n",
              "  </div>\n",
              "  "
            ]
          },
          "metadata": {},
          "execution_count": 71
        }
      ]
    },
    {
      "cell_type": "code",
      "source": [
        "# -1 ~ +1까지 요솟값을 표현할 때 음수면 약한 매치, 양수면 강한 매치\n",
        "# SF, Action, 고전영화를 나타내는 요소를 표현하면 다음과 같다\n",
        "last_skywalker = np.array([0.98, 0.9, -0.9]) # 고전영화와 동떨어진 최신 영화이므로 약한매치로 표현되었다.\n",
        "\n",
        "# 현대적인 SF 영화를 좋아하는 사용자는 다음과 같이 표현된다.\n",
        "user1 = np.array([0.9, 0.8, -0.6])"
      ],
      "metadata": {
        "id": "GvV_Rak_WmHR"
      },
      "execution_count": 72,
      "outputs": []
    },
    {
      "cell_type": "code",
      "source": [
        "# 위 영화와 유저 간의 유사성을 계산할 수 있다.\n",
        "\n",
        "(last_skywalker * user1).sum(), (last_skywalker * user1)\n",
        "\n",
        "# 벡터 곱 후 모두 더하는 연산을 점곱이라 한다."
      ],
      "metadata": {
        "colab": {
          "base_uri": "https://localhost:8080/"
        },
        "id": "5_mH4UXbWmEz",
        "outputId": "b36858d4-172d-4050-f4c8-859e8903e810"
      },
      "execution_count": 73,
      "outputs": [
        {
          "output_type": "execute_result",
          "data": {
            "text/plain": [
              "(2.1420000000000003, array([0.882, 0.72 , 0.54 ]))"
            ]
          },
          "metadata": {},
          "execution_count": 73
        }
      ]
    },
    {
      "cell_type": "code",
      "source": [
        "# <카사블랑카와 유저의 조합>\n",
        "\n",
        "casablanca = np.array([-0.99, -0.3, 0.8])\n",
        "\n",
        "(casablanca * user1).sum()\n",
        "\n",
        "# 위와 같이 SF, Action, Classic 에 대한 요소의 값을 안다는 게 잠재요소다."
      ],
      "metadata": {
        "colab": {
          "base_uri": "https://localhost:8080/"
        },
        "id": "tAOz9J9cddZg",
        "outputId": "cbd2cea7-f9a3-4481-dd8c-de84ad09933f"
      },
      "execution_count": 74,
      "outputs": [
        {
          "output_type": "execute_result",
          "data": {
            "text/plain": [
              "-1.611"
            ]
          },
          "metadata": {},
          "execution_count": 74
        }
      ]
    },
    {
      "cell_type": "markdown",
      "source": [
        "# 잠재 요소 학습하기\n",
        "\n",
        "SGD를 통해 학습할 수 있으며 파라미터는 임의의 랜덤값으로 초기화 한다.\\\n",
        "잠재요소의 갯수는 5개로 설정하였으며 이후 잠재요소의 설정방법을 다루게 된다.\\\n",
        "\n",
        "사용자와 영화에 잠재요소가 존재하며 이를 가로, 세로에 배치하여 점곱으로 점수를 넣는다.\\\n",
        "해당 점수는 실제 사용자의 평점과 비교하는데 이때 손실함수로는 MSE를 사용한다.\\\n",
        "\n",
        "학습을 통해 학습률을 조정하고 파라미터를 수정하면 손실이 점점 줄어들고 추천점수도 어느 정도 정확하게\\\n",
        "만들어진다. 만들어진 점수를 토대로 사용자에게 추천을 해준다."
      ],
      "metadata": {
        "id": "R0weJoMIgVxD"
      }
    },
    {
      "cell_type": "code",
      "source": [
        "movies = pd.read_csv(path/'u.item', delimiter = '|', encoding='latin-1',\n",
        "                     usecols=(0,1), names = ('movie', 'title'), header = None)\n",
        "movies.head()\n",
        "\n",
        "# movies.iloc[241]\n",
        "\n",
        "# movie             242\n",
        "# title    Kolya (1996)\n",
        "# Name: 241, dtype: object"
      ],
      "metadata": {
        "colab": {
          "base_uri": "https://localhost:8080/",
          "height": 206
        },
        "id": "0Q_NnFp-eke-",
        "outputId": "7bb9cf3b-ff74-48a3-9150-5d2e2d4fb631"
      },
      "execution_count": 75,
      "outputs": [
        {
          "output_type": "execute_result",
          "data": {
            "text/plain": [
              "   movie              title\n",
              "0      1   Toy Story (1995)\n",
              "1      2   GoldenEye (1995)\n",
              "2      3  Four Rooms (1995)\n",
              "3      4  Get Shorty (1995)\n",
              "4      5     Copycat (1995)"
            ],
            "text/html": [
              "\n",
              "  <div id=\"df-daa97c6b-bcd6-420d-892d-de0811c9145a\">\n",
              "    <div class=\"colab-df-container\">\n",
              "      <div>\n",
              "<style scoped>\n",
              "    .dataframe tbody tr th:only-of-type {\n",
              "        vertical-align: middle;\n",
              "    }\n",
              "\n",
              "    .dataframe tbody tr th {\n",
              "        vertical-align: top;\n",
              "    }\n",
              "\n",
              "    .dataframe thead th {\n",
              "        text-align: right;\n",
              "    }\n",
              "</style>\n",
              "<table border=\"1\" class=\"dataframe\">\n",
              "  <thead>\n",
              "    <tr style=\"text-align: right;\">\n",
              "      <th></th>\n",
              "      <th>movie</th>\n",
              "      <th>title</th>\n",
              "    </tr>\n",
              "  </thead>\n",
              "  <tbody>\n",
              "    <tr>\n",
              "      <th>0</th>\n",
              "      <td>1</td>\n",
              "      <td>Toy Story (1995)</td>\n",
              "    </tr>\n",
              "    <tr>\n",
              "      <th>1</th>\n",
              "      <td>2</td>\n",
              "      <td>GoldenEye (1995)</td>\n",
              "    </tr>\n",
              "    <tr>\n",
              "      <th>2</th>\n",
              "      <td>3</td>\n",
              "      <td>Four Rooms (1995)</td>\n",
              "    </tr>\n",
              "    <tr>\n",
              "      <th>3</th>\n",
              "      <td>4</td>\n",
              "      <td>Get Shorty (1995)</td>\n",
              "    </tr>\n",
              "    <tr>\n",
              "      <th>4</th>\n",
              "      <td>5</td>\n",
              "      <td>Copycat (1995)</td>\n",
              "    </tr>\n",
              "  </tbody>\n",
              "</table>\n",
              "</div>\n",
              "      <button class=\"colab-df-convert\" onclick=\"convertToInteractive('df-daa97c6b-bcd6-420d-892d-de0811c9145a')\"\n",
              "              title=\"Convert this dataframe to an interactive table.\"\n",
              "              style=\"display:none;\">\n",
              "        \n",
              "  <svg xmlns=\"http://www.w3.org/2000/svg\" height=\"24px\"viewBox=\"0 0 24 24\"\n",
              "       width=\"24px\">\n",
              "    <path d=\"M0 0h24v24H0V0z\" fill=\"none\"/>\n",
              "    <path d=\"M18.56 5.44l.94 2.06.94-2.06 2.06-.94-2.06-.94-.94-2.06-.94 2.06-2.06.94zm-11 1L8.5 8.5l.94-2.06 2.06-.94-2.06-.94L8.5 2.5l-.94 2.06-2.06.94zm10 10l.94 2.06.94-2.06 2.06-.94-2.06-.94-.94-2.06-.94 2.06-2.06.94z\"/><path d=\"M17.41 7.96l-1.37-1.37c-.4-.4-.92-.59-1.43-.59-.52 0-1.04.2-1.43.59L10.3 9.45l-7.72 7.72c-.78.78-.78 2.05 0 2.83L4 21.41c.39.39.9.59 1.41.59.51 0 1.02-.2 1.41-.59l7.78-7.78 2.81-2.81c.8-.78.8-2.07 0-2.86zM5.41 20L4 18.59l7.72-7.72 1.47 1.35L5.41 20z\"/>\n",
              "  </svg>\n",
              "      </button>\n",
              "      \n",
              "  <style>\n",
              "    .colab-df-container {\n",
              "      display:flex;\n",
              "      flex-wrap:wrap;\n",
              "      gap: 12px;\n",
              "    }\n",
              "\n",
              "    .colab-df-convert {\n",
              "      background-color: #E8F0FE;\n",
              "      border: none;\n",
              "      border-radius: 50%;\n",
              "      cursor: pointer;\n",
              "      display: none;\n",
              "      fill: #1967D2;\n",
              "      height: 32px;\n",
              "      padding: 0 0 0 0;\n",
              "      width: 32px;\n",
              "    }\n",
              "\n",
              "    .colab-df-convert:hover {\n",
              "      background-color: #E2EBFA;\n",
              "      box-shadow: 0px 1px 2px rgba(60, 64, 67, 0.3), 0px 1px 3px 1px rgba(60, 64, 67, 0.15);\n",
              "      fill: #174EA6;\n",
              "    }\n",
              "\n",
              "    [theme=dark] .colab-df-convert {\n",
              "      background-color: #3B4455;\n",
              "      fill: #D2E3FC;\n",
              "    }\n",
              "\n",
              "    [theme=dark] .colab-df-convert:hover {\n",
              "      background-color: #434B5C;\n",
              "      box-shadow: 0px 1px 3px 1px rgba(0, 0, 0, 0.15);\n",
              "      filter: drop-shadow(0px 1px 2px rgba(0, 0, 0, 0.3));\n",
              "      fill: #FFFFFF;\n",
              "    }\n",
              "  </style>\n",
              "\n",
              "      <script>\n",
              "        const buttonEl =\n",
              "          document.querySelector('#df-daa97c6b-bcd6-420d-892d-de0811c9145a button.colab-df-convert');\n",
              "        buttonEl.style.display =\n",
              "          google.colab.kernel.accessAllowed ? 'block' : 'none';\n",
              "\n",
              "        async function convertToInteractive(key) {\n",
              "          const element = document.querySelector('#df-daa97c6b-bcd6-420d-892d-de0811c9145a');\n",
              "          const dataTable =\n",
              "            await google.colab.kernel.invokeFunction('convertToInteractive',\n",
              "                                                     [key], {});\n",
              "          if (!dataTable) return;\n",
              "\n",
              "          const docLinkHtml = 'Like what you see? Visit the ' +\n",
              "            '<a target=\"_blank\" href=https://colab.research.google.com/notebooks/data_table.ipynb>data table notebook</a>'\n",
              "            + ' to learn more about interactive tables.';\n",
              "          element.innerHTML = '';\n",
              "          dataTable['output_type'] = 'display_data';\n",
              "          await google.colab.output.renderOutput(dataTable, element);\n",
              "          const docLink = document.createElement('div');\n",
              "          docLink.innerHTML = docLinkHtml;\n",
              "          element.appendChild(docLink);\n",
              "        }\n",
              "      </script>\n",
              "    </div>\n",
              "  </div>\n",
              "  "
            ]
          },
          "metadata": {},
          "execution_count": 75
        }
      ]
    },
    {
      "cell_type": "code",
      "source": [
        "ratings = ratings.merge(movies)\n",
        "ratings.head() # 무비의 숫자에 맞게 타이틀이 merge 되었다."
      ],
      "metadata": {
        "colab": {
          "base_uri": "https://localhost:8080/",
          "height": 206
        },
        "id": "jITxCvH5iIJ0",
        "outputId": "cd8e1682-6780-446f-d711-ded8e9aa9c88"
      },
      "execution_count": 76,
      "outputs": [
        {
          "output_type": "execute_result",
          "data": {
            "text/plain": [
              "   user  movie  rating  timestamp         title\n",
              "0   196    242       3  881250949  Kolya (1996)\n",
              "1    63    242       3  875747190  Kolya (1996)\n",
              "2   226    242       5  883888671  Kolya (1996)\n",
              "3   154    242       3  879138235  Kolya (1996)\n",
              "4   306    242       5  876503793  Kolya (1996)"
            ],
            "text/html": [
              "\n",
              "  <div id=\"df-3256bf6b-2722-441c-98c7-8490c75e7962\">\n",
              "    <div class=\"colab-df-container\">\n",
              "      <div>\n",
              "<style scoped>\n",
              "    .dataframe tbody tr th:only-of-type {\n",
              "        vertical-align: middle;\n",
              "    }\n",
              "\n",
              "    .dataframe tbody tr th {\n",
              "        vertical-align: top;\n",
              "    }\n",
              "\n",
              "    .dataframe thead th {\n",
              "        text-align: right;\n",
              "    }\n",
              "</style>\n",
              "<table border=\"1\" class=\"dataframe\">\n",
              "  <thead>\n",
              "    <tr style=\"text-align: right;\">\n",
              "      <th></th>\n",
              "      <th>user</th>\n",
              "      <th>movie</th>\n",
              "      <th>rating</th>\n",
              "      <th>timestamp</th>\n",
              "      <th>title</th>\n",
              "    </tr>\n",
              "  </thead>\n",
              "  <tbody>\n",
              "    <tr>\n",
              "      <th>0</th>\n",
              "      <td>196</td>\n",
              "      <td>242</td>\n",
              "      <td>3</td>\n",
              "      <td>881250949</td>\n",
              "      <td>Kolya (1996)</td>\n",
              "    </tr>\n",
              "    <tr>\n",
              "      <th>1</th>\n",
              "      <td>63</td>\n",
              "      <td>242</td>\n",
              "      <td>3</td>\n",
              "      <td>875747190</td>\n",
              "      <td>Kolya (1996)</td>\n",
              "    </tr>\n",
              "    <tr>\n",
              "      <th>2</th>\n",
              "      <td>226</td>\n",
              "      <td>242</td>\n",
              "      <td>5</td>\n",
              "      <td>883888671</td>\n",
              "      <td>Kolya (1996)</td>\n",
              "    </tr>\n",
              "    <tr>\n",
              "      <th>3</th>\n",
              "      <td>154</td>\n",
              "      <td>242</td>\n",
              "      <td>3</td>\n",
              "      <td>879138235</td>\n",
              "      <td>Kolya (1996)</td>\n",
              "    </tr>\n",
              "    <tr>\n",
              "      <th>4</th>\n",
              "      <td>306</td>\n",
              "      <td>242</td>\n",
              "      <td>5</td>\n",
              "      <td>876503793</td>\n",
              "      <td>Kolya (1996)</td>\n",
              "    </tr>\n",
              "  </tbody>\n",
              "</table>\n",
              "</div>\n",
              "      <button class=\"colab-df-convert\" onclick=\"convertToInteractive('df-3256bf6b-2722-441c-98c7-8490c75e7962')\"\n",
              "              title=\"Convert this dataframe to an interactive table.\"\n",
              "              style=\"display:none;\">\n",
              "        \n",
              "  <svg xmlns=\"http://www.w3.org/2000/svg\" height=\"24px\"viewBox=\"0 0 24 24\"\n",
              "       width=\"24px\">\n",
              "    <path d=\"M0 0h24v24H0V0z\" fill=\"none\"/>\n",
              "    <path d=\"M18.56 5.44l.94 2.06.94-2.06 2.06-.94-2.06-.94-.94-2.06-.94 2.06-2.06.94zm-11 1L8.5 8.5l.94-2.06 2.06-.94-2.06-.94L8.5 2.5l-.94 2.06-2.06.94zm10 10l.94 2.06.94-2.06 2.06-.94-2.06-.94-.94-2.06-.94 2.06-2.06.94z\"/><path d=\"M17.41 7.96l-1.37-1.37c-.4-.4-.92-.59-1.43-.59-.52 0-1.04.2-1.43.59L10.3 9.45l-7.72 7.72c-.78.78-.78 2.05 0 2.83L4 21.41c.39.39.9.59 1.41.59.51 0 1.02-.2 1.41-.59l7.78-7.78 2.81-2.81c.8-.78.8-2.07 0-2.86zM5.41 20L4 18.59l7.72-7.72 1.47 1.35L5.41 20z\"/>\n",
              "  </svg>\n",
              "      </button>\n",
              "      \n",
              "  <style>\n",
              "    .colab-df-container {\n",
              "      display:flex;\n",
              "      flex-wrap:wrap;\n",
              "      gap: 12px;\n",
              "    }\n",
              "\n",
              "    .colab-df-convert {\n",
              "      background-color: #E8F0FE;\n",
              "      border: none;\n",
              "      border-radius: 50%;\n",
              "      cursor: pointer;\n",
              "      display: none;\n",
              "      fill: #1967D2;\n",
              "      height: 32px;\n",
              "      padding: 0 0 0 0;\n",
              "      width: 32px;\n",
              "    }\n",
              "\n",
              "    .colab-df-convert:hover {\n",
              "      background-color: #E2EBFA;\n",
              "      box-shadow: 0px 1px 2px rgba(60, 64, 67, 0.3), 0px 1px 3px 1px rgba(60, 64, 67, 0.15);\n",
              "      fill: #174EA6;\n",
              "    }\n",
              "\n",
              "    [theme=dark] .colab-df-convert {\n",
              "      background-color: #3B4455;\n",
              "      fill: #D2E3FC;\n",
              "    }\n",
              "\n",
              "    [theme=dark] .colab-df-convert:hover {\n",
              "      background-color: #434B5C;\n",
              "      box-shadow: 0px 1px 3px 1px rgba(0, 0, 0, 0.15);\n",
              "      filter: drop-shadow(0px 1px 2px rgba(0, 0, 0, 0.3));\n",
              "      fill: #FFFFFF;\n",
              "    }\n",
              "  </style>\n",
              "\n",
              "      <script>\n",
              "        const buttonEl =\n",
              "          document.querySelector('#df-3256bf6b-2722-441c-98c7-8490c75e7962 button.colab-df-convert');\n",
              "        buttonEl.style.display =\n",
              "          google.colab.kernel.accessAllowed ? 'block' : 'none';\n",
              "\n",
              "        async function convertToInteractive(key) {\n",
              "          const element = document.querySelector('#df-3256bf6b-2722-441c-98c7-8490c75e7962');\n",
              "          const dataTable =\n",
              "            await google.colab.kernel.invokeFunction('convertToInteractive',\n",
              "                                                     [key], {});\n",
              "          if (!dataTable) return;\n",
              "\n",
              "          const docLinkHtml = 'Like what you see? Visit the ' +\n",
              "            '<a target=\"_blank\" href=https://colab.research.google.com/notebooks/data_table.ipynb>data table notebook</a>'\n",
              "            + ' to learn more about interactive tables.';\n",
              "          element.innerHTML = '';\n",
              "          dataTable['output_type'] = 'display_data';\n",
              "          await google.colab.output.renderOutput(dataTable, element);\n",
              "          const docLink = document.createElement('div');\n",
              "          docLink.innerHTML = docLinkHtml;\n",
              "          element.appendChild(docLink);\n",
              "        }\n",
              "      </script>\n",
              "    </div>\n",
              "  </div>\n",
              "  "
            ]
          },
          "metadata": {},
          "execution_count": 76
        }
      ]
    },
    {
      "cell_type": "code",
      "source": [
        "# 협업 필터링에 특화된 CollabDataLoaders로 첫 번째를 사용자, 두 번째를 항목(items), 세 번째를 점수로 설정한다.\n",
        "# 항목에 영화의 타이틀을 넣을 거고 item_name 인자에 값을 넣어주면 항목으로 설정한다\n",
        "\n",
        "dls = CollabDataLoaders.from_df(ratings, item_name = 'title', bs = 64)\n",
        "dls.show_batch()"
      ],
      "metadata": {
        "colab": {
          "base_uri": "https://localhost:8080/",
          "height": 363
        },
        "id": "7WPBpKiTjS5w",
        "outputId": "1200ca4a-34c8-4198-b430-45ccddad44ff"
      },
      "execution_count": 77,
      "outputs": [
        {
          "output_type": "display_data",
          "data": {
            "text/plain": [
              "<IPython.core.display.HTML object>"
            ],
            "text/html": [
              "<table border=\"1\" class=\"dataframe\">\n",
              "  <thead>\n",
              "    <tr style=\"text-align: right;\">\n",
              "      <th></th>\n",
              "      <th>user</th>\n",
              "      <th>title</th>\n",
              "      <th>rating</th>\n",
              "    </tr>\n",
              "  </thead>\n",
              "  <tbody>\n",
              "    <tr>\n",
              "      <th>0</th>\n",
              "      <td>488</td>\n",
              "      <td>That Thing You Do! (1996)</td>\n",
              "      <td>3</td>\n",
              "    </tr>\n",
              "    <tr>\n",
              "      <th>1</th>\n",
              "      <td>301</td>\n",
              "      <td>Volcano (1997)</td>\n",
              "      <td>2</td>\n",
              "    </tr>\n",
              "    <tr>\n",
              "      <th>2</th>\n",
              "      <td>192</td>\n",
              "      <td>Truth About Cats &amp; Dogs, The (1996)</td>\n",
              "      <td>2</td>\n",
              "    </tr>\n",
              "    <tr>\n",
              "      <th>3</th>\n",
              "      <td>846</td>\n",
              "      <td>Santa Clause, The (1994)</td>\n",
              "      <td>3</td>\n",
              "    </tr>\n",
              "    <tr>\n",
              "      <th>4</th>\n",
              "      <td>633</td>\n",
              "      <td>Chinatown (1974)</td>\n",
              "      <td>3</td>\n",
              "    </tr>\n",
              "    <tr>\n",
              "      <th>5</th>\n",
              "      <td>795</td>\n",
              "      <td>Dances with Wolves (1990)</td>\n",
              "      <td>2</td>\n",
              "    </tr>\n",
              "    <tr>\n",
              "      <th>6</th>\n",
              "      <td>23</td>\n",
              "      <td>Better Off Dead... (1985)</td>\n",
              "      <td>4</td>\n",
              "    </tr>\n",
              "    <tr>\n",
              "      <th>7</th>\n",
              "      <td>291</td>\n",
              "      <td>Die Hard 2 (1990)</td>\n",
              "      <td>5</td>\n",
              "    </tr>\n",
              "    <tr>\n",
              "      <th>8</th>\n",
              "      <td>882</td>\n",
              "      <td>Speed (1994)</td>\n",
              "      <td>5</td>\n",
              "    </tr>\n",
              "    <tr>\n",
              "      <th>9</th>\n",
              "      <td>774</td>\n",
              "      <td>Madness of King George, The (1994)</td>\n",
              "      <td>3</td>\n",
              "    </tr>\n",
              "  </tbody>\n",
              "</table>"
            ]
          },
          "metadata": {}
        }
      ]
    },
    {
      "cell_type": "code",
      "source": [
        "# 파이토치로 교차표를 사용할 수가 없다.\n",
        "# 영화와 사용자의 잠재요소를 행렬로 표현한다.\n",
        "\n",
        "n_users = len(dls.classes['user']) # 944개\n",
        "n_movies = len(dls.classes['title']) # 1665개\n",
        "n_factors = 5\n",
        "\n",
        "\n",
        "user_factors = torch.randn(n_users, n_factors)\n",
        "movie_factors = torch.randn(n_movies, n_factors)\n",
        "\n",
        "# user_factors는 행 944개, 열 5개인 정규분포의 랜덤값이 만들어지고\n",
        "# movie_factors는 행 1665개, 열 5개인 정규분포의 랜덤값이 만들어졌다."
      ],
      "metadata": {
        "id": "ROTACIrZkAsU"
      },
      "execution_count": 78,
      "outputs": []
    },
    {
      "cell_type": "code",
      "source": [
        "# 유저와 특정 영화에 대한 계산을 할려면 색인을 해야 한다. 그러나 그건 딥러닝이 하는 게 아니라 행렬의 곱셈으로, one-hot encoding으로 색인을 대체하면 된다.\n",
        "\n",
        "one_hot_3 = one_hot(3, n_users).float() # 인덱스 3인 부분에서만 1의 값을 가진다. one-hot encoding으로 나머지는 다 0이다.\n",
        "# user_factors.t() 행렬을 바꿈\n",
        "\n",
        "user_factors.t().shape, one_hot_3.shape\n",
        "# (torch.Size([5, 944]), torch.Size([944]))\n",
        "\n",
        "user_factors.t() @ one_hot_3"
      ],
      "metadata": {
        "colab": {
          "base_uri": "https://localhost:8080/"
        },
        "id": "aGbLdONWl6wv",
        "outputId": "ccb8810d-b657-4c72-b4ca-041edcf1990e"
      },
      "execution_count": 79,
      "outputs": [
        {
          "output_type": "execute_result",
          "data": {
            "text/plain": [
              "tensor([-0.4841, -0.0882, -0.3509,  0.4031,  0.4506])"
            ]
          },
          "metadata": {},
          "execution_count": 79
        }
      ]
    },
    {
      "cell_type": "code",
      "source": [
        "# 위 결과는 행렬의 3번째 색인에 해당되는 벡터와 같다\n",
        "\n",
        "user_factors[3]"
      ],
      "metadata": {
        "colab": {
          "base_uri": "https://localhost:8080/"
        },
        "id": "sJYabaKfqQCV",
        "outputId": "e691e41f-0328-4e76-c6ee-127902bb6210"
      },
      "execution_count": 80,
      "outputs": [
        {
          "output_type": "execute_result",
          "data": {
            "text/plain": [
              "tensor([-0.4841, -0.0882, -0.3509,  0.4031,  0.4506])"
            ]
          },
          "metadata": {},
          "execution_count": 80
        }
      ]
    },
    {
      "cell_type": "markdown",
      "source": [
        "# 밑바닥부터 만드는 협업 필터링"
      ],
      "metadata": {
        "id": "DZkJwoQMr0qS"
      }
    },
    {
      "cell_type": "code",
      "source": [
        "# 파이썬은 객체지향 프로그래밍을 선호하고 그 중심에는 Class가 있다.\n",
        "# 그 예로 우리는 DataLoaders, DataBlock 등을 사용해왔다.\n",
        "\n",
        "class Example:\n",
        "  def __init__(self, a):\n",
        "    self.a = a\n",
        "  def say(self, x):\n",
        "    return f'Hello {self.a}, {x}'\n",
        "  \n",
        "ex = Example('Beom')\n",
        "# ex.a  Beom\n",
        "\n",
        "ex.say('nice to meet u')"
      ],
      "metadata": {
        "colab": {
          "base_uri": "https://localhost:8080/",
          "height": 36
        },
        "id": "Y1vYFadjs6nb",
        "outputId": "18957882-a210-4e80-8c22-69737c47ee73"
      },
      "execution_count": 81,
      "outputs": [
        {
          "output_type": "execute_result",
          "data": {
            "text/plain": [
              "'Hello Beom, nice to meet u'"
            ],
            "application/vnd.google.colaboratory.intrinsic+json": {
              "type": "string"
            }
          },
          "metadata": {},
          "execution_count": 81
        }
      ]
    },
    {
      "cell_type": "code",
      "source": [
        "# 파이토치 모듈을 만들기 위해선 Module을 상속해야 한다. 상위 클래스..\n",
        "\n",
        "# 점곱의 클래스 만들기\n",
        "\n",
        "class DotProduct(Module):\n",
        "  def __init__(self, n_users, n_movies, n_factors):\n",
        "    self.user_factors = Embedding(n_users, n_factors) # embedding 클래스를 상속받아서 사용한다. \n",
        "    # 임베딩 클래스를 통해 user의 사이즈를 받고 (944 ,5) 그걸 n_factors의 크기만큼 압축? 시킨다\n",
        "    self.movie_factors = Embedding(n_movies, n_factors)\n",
        "  \n",
        "  def forward(self, x):\n",
        "    users = self.user_factors(x[:,0]) # 첫 번째 열에는 사용자의 ID\n",
        "    movies = self.movie_factors(x[:,1]) # 두 번째 열에는 영화 ID \n",
        "    return (users * movies).sum(dim=1)\n",
        "\n",
        "\n",
        "# Embedding(944, 50)\n",
        "\n",
        "\n",
        "# \bforward의 user,movies의 x[:,0]을 생각해봤는데 batch_size(64) * 2의 형태라 했는데 그럼 1열에 user_factors의 Embedding(944, 50)이 들어가는 게 아닐까?"
      ],
      "metadata": {
        "id": "MGXlRfqJt0vH"
      },
      "execution_count": 82,
      "outputs": []
    },
    {
      "cell_type": "code",
      "source": [
        "x, y = dls.one_batch()\n",
        "x.shape # 유저 아이디와 영화 ID를 나타내고 y는 그거에 따른 평점이다.\n",
        "# 1st col = user , 2nd col = movie id but reestablished as title through item_name\n",
        "# 3rd col = rating \n",
        "\n",
        "# 자동으로 분류됨"
      ],
      "metadata": {
        "colab": {
          "base_uri": "https://localhost:8080/"
        },
        "id": "OMG9TsS8vEQM",
        "outputId": "b5801030-1fe2-4112-e9d7-77acda4343ec"
      },
      "execution_count": 83,
      "outputs": [
        {
          "output_type": "execute_result",
          "data": {
            "text/plain": [
              "torch.Size([64, 2])"
            ]
          },
          "metadata": {},
          "execution_count": 83
        }
      ]
    },
    {
      "cell_type": "code",
      "source": [
        "model = DotProduct(n_users, n_movies, 50)\n",
        "learn = Learner(dls, model, loss_func=MSELossFlat())\n",
        "\n",
        "model.user_factors.weight # 944, 50의 형태를 갖춘 임의의 파라미터로 조정된 임베딩?"
      ],
      "metadata": {
        "id": "LZ_G3vK2vLRW",
        "colab": {
          "base_uri": "https://localhost:8080/"
        },
        "outputId": "45644d13-83de-4705-e03b-66e2e8bf4664"
      },
      "execution_count": 84,
      "outputs": [
        {
          "output_type": "execute_result",
          "data": {
            "text/plain": [
              "Parameter containing:\n",
              "tensor([[ 0.0020,  0.0075, -0.0105,  ..., -0.0012,  0.0113,  0.0200],\n",
              "        [-0.0071,  0.0071,  0.0008,  ..., -0.0090,  0.0127,  0.0025],\n",
              "        [-0.0020, -0.0148, -0.0003,  ..., -0.0082,  0.0175, -0.0116],\n",
              "        ...,\n",
              "        [ 0.0035, -0.0052, -0.0041,  ...,  0.0125, -0.0072, -0.0110],\n",
              "        [-0.0032,  0.0029, -0.0061,  ...,  0.0024,  0.0051, -0.0062],\n",
              "        [ 0.0017, -0.0094,  0.0007,  ..., -0.0105, -0.0002,  0.0009]], requires_grad=True)"
            ]
          },
          "metadata": {},
          "execution_count": 84
        }
      ]
    },
    {
      "cell_type": "code",
      "source": [
        "learn.fit_one_cycle(5, 5e-3)"
      ],
      "metadata": {
        "colab": {
          "base_uri": "https://localhost:8080/",
          "height": 206
        },
        "id": "-k6FXH16wHD2",
        "outputId": "bb45a20f-82af-48b8-d4e0-d7296868eb7a"
      },
      "execution_count": 85,
      "outputs": [
        {
          "output_type": "display_data",
          "data": {
            "text/plain": [
              "<IPython.core.display.HTML object>"
            ],
            "text/html": [
              "\n",
              "<style>\n",
              "    /* Turns off some styling */\n",
              "    progress {\n",
              "        /* gets rid of default border in Firefox and Opera. */\n",
              "        border: none;\n",
              "        /* Needs to be in here for Safari polyfill so background images work as expected. */\n",
              "        background-size: auto;\n",
              "    }\n",
              "    progress:not([value]), progress:not([value])::-webkit-progress-bar {\n",
              "        background: repeating-linear-gradient(45deg, #7e7e7e, #7e7e7e 10px, #5c5c5c 10px, #5c5c5c 20px);\n",
              "    }\n",
              "    .progress-bar-interrupted, .progress-bar-interrupted::-webkit-progress-bar {\n",
              "        background: #F44336;\n",
              "    }\n",
              "</style>\n"
            ]
          },
          "metadata": {}
        },
        {
          "output_type": "display_data",
          "data": {
            "text/plain": [
              "<IPython.core.display.HTML object>"
            ],
            "text/html": [
              "<table border=\"1\" class=\"dataframe\">\n",
              "  <thead>\n",
              "    <tr style=\"text-align: left;\">\n",
              "      <th>epoch</th>\n",
              "      <th>train_loss</th>\n",
              "      <th>valid_loss</th>\n",
              "      <th>time</th>\n",
              "    </tr>\n",
              "  </thead>\n",
              "  <tbody>\n",
              "    <tr>\n",
              "      <td>0</td>\n",
              "      <td>1.346618</td>\n",
              "      <td>1.252348</td>\n",
              "      <td>00:11</td>\n",
              "    </tr>\n",
              "    <tr>\n",
              "      <td>1</td>\n",
              "      <td>1.044897</td>\n",
              "      <td>1.063812</td>\n",
              "      <td>00:11</td>\n",
              "    </tr>\n",
              "    <tr>\n",
              "      <td>2</td>\n",
              "      <td>0.924377</td>\n",
              "      <td>0.963890</td>\n",
              "      <td>00:06</td>\n",
              "    </tr>\n",
              "    <tr>\n",
              "      <td>3</td>\n",
              "      <td>0.821409</td>\n",
              "      <td>0.875664</td>\n",
              "      <td>00:07</td>\n",
              "    </tr>\n",
              "    <tr>\n",
              "      <td>4</td>\n",
              "      <td>0.764106</td>\n",
              "      <td>0.861726</td>\n",
              "      <td>00:07</td>\n",
              "    </tr>\n",
              "  </tbody>\n",
              "</table>"
            ]
          },
          "metadata": {}
        }
      ]
    },
    {
      "cell_type": "code",
      "source": [
        "class DotProduct(Module):\n",
        "  def __init__(self, n_users, n_movies, n_factors, y_range=(0, 5.5)):\n",
        "    self.user_factors = Embedding(n_users, n_factors) \n",
        "    self.movie_factors = Embedding(n_movies, n_factors)\n",
        "    self.y_range = y_range # 예측값을 0과 5.5 사이로 강제했다. 5.5로 하면 더 나은 결과를 얻을 수 있어서\n",
        "  \n",
        "  def forward(self, x):\n",
        "    users = self.user_factors(x[:,0]) \n",
        "    movies = self.movie_factors(x[:,1])\n",
        "    return sigmoid_range((users * movies).sum(dim=1), *self.y_range)\n",
        "\n",
        "\n",
        "model = DotProduct(n_users, n_movies, 50)\n",
        "learn = Learner(dls, model, loss_func=MSELossFlat())\n",
        "learn.fit_one_cycle(5, 5e-3) # 합리적인 출발선을 그었다. 시작 오차가 크지 않아짐을 알 수 있다.\n",
        "\n",
        "# sigmoid_range의 인자로 x에는 점곱의 결과를 lo, hi에는 각각 y_range의 0과 5.5가 들어간다\n",
        "# 최종적으로 연산은 점곱의 시그모이드(0~1) * 5.5라서 고점 값이 5.5 저점값이 0이 된다."
      ],
      "metadata": {
        "colab": {
          "base_uri": "https://localhost:8080/",
          "height": 206
        },
        "id": "lQCUnI9_w5dK",
        "outputId": "aba6daaf-8c94-4797-b298-4dabcfb16efe"
      },
      "execution_count": 86,
      "outputs": [
        {
          "output_type": "display_data",
          "data": {
            "text/plain": [
              "<IPython.core.display.HTML object>"
            ],
            "text/html": [
              "\n",
              "<style>\n",
              "    /* Turns off some styling */\n",
              "    progress {\n",
              "        /* gets rid of default border in Firefox and Opera. */\n",
              "        border: none;\n",
              "        /* Needs to be in here for Safari polyfill so background images work as expected. */\n",
              "        background-size: auto;\n",
              "    }\n",
              "    progress:not([value]), progress:not([value])::-webkit-progress-bar {\n",
              "        background: repeating-linear-gradient(45deg, #7e7e7e, #7e7e7e 10px, #5c5c5c 10px, #5c5c5c 20px);\n",
              "    }\n",
              "    .progress-bar-interrupted, .progress-bar-interrupted::-webkit-progress-bar {\n",
              "        background: #F44336;\n",
              "    }\n",
              "</style>\n"
            ]
          },
          "metadata": {}
        },
        {
          "output_type": "display_data",
          "data": {
            "text/plain": [
              "<IPython.core.display.HTML object>"
            ],
            "text/html": [
              "<table border=\"1\" class=\"dataframe\">\n",
              "  <thead>\n",
              "    <tr style=\"text-align: left;\">\n",
              "      <th>epoch</th>\n",
              "      <th>train_loss</th>\n",
              "      <th>valid_loss</th>\n",
              "      <th>time</th>\n",
              "    </tr>\n",
              "  </thead>\n",
              "  <tbody>\n",
              "    <tr>\n",
              "      <td>0</td>\n",
              "      <td>0.987331</td>\n",
              "      <td>0.985820</td>\n",
              "      <td>00:11</td>\n",
              "    </tr>\n",
              "    <tr>\n",
              "      <td>1</td>\n",
              "      <td>0.866686</td>\n",
              "      <td>0.901461</td>\n",
              "      <td>00:12</td>\n",
              "    </tr>\n",
              "    <tr>\n",
              "      <td>2</td>\n",
              "      <td>0.677055</td>\n",
              "      <td>0.866170</td>\n",
              "      <td>00:07</td>\n",
              "    </tr>\n",
              "    <tr>\n",
              "      <td>3</td>\n",
              "      <td>0.465154</td>\n",
              "      <td>0.869761</td>\n",
              "      <td>00:07</td>\n",
              "    </tr>\n",
              "    <tr>\n",
              "      <td>4</td>\n",
              "      <td>0.372997</td>\n",
              "      <td>0.874323</td>\n",
              "      <td>00:07</td>\n",
              "    </tr>\n",
              "  </tbody>\n",
              "</table>"
            ]
          },
          "metadata": {}
        }
      ]
    },
    {
      "cell_type": "code",
      "source": [
        "# 어떤 사용자는 다른 사용자에 비해 영화에 대해 더 긍정적이거나 부정적일 수 있고,\n",
        "# 어떤 영화는 다른 영화보다 더 좋거나 나쁠 수 있다는 사실이다\n",
        "\n",
        "# 이는 가중치와 함께 편향이 있어야 한다는 것이다.\n",
        "\n",
        "class DotProductBias(Module):\n",
        "  def __init__(self, n_users, n_movies, n_factors, y_range=(0, 5.5)):\n",
        "    self.user_factors = Embedding(n_users, n_factors)  # 임베딩은 곧 벡터다\n",
        "    self.user_bias = Embedding(n_users, 1)\n",
        "    self.movie_factors = Embedding(n_movies, n_factors)\n",
        "    self.movie_bias = Embedding(n_movies, 1)\n",
        "    self.y_range = y_range # 예측값을 0과 5.5 사이로 강제했다. 5.5로 하면 더 나은 결과를 얻을 수 있어서\n",
        "  \n",
        "  def forward(self, x):\n",
        "    users = self.user_factors(x[:,0]) \n",
        "    movies = self.movie_factors(x[:,1])\n",
        "    res = ((users * movies).sum(dim=1, keepdim = True)) \n",
        "    res += self.user_bias(x[:,0]) + self.movie_bias(x[:, 1]) # 행렬 곱이 된 후 각 컬럼마다 편향을 더해준다.\n",
        "    return sigmoid_range(res, *self.y_range) \n",
        "\n",
        "\n",
        "\n",
        "model = DotProductBias(n_users, n_movies, 50)\n",
        "learn = Learner(dls, model, loss_func=MSELossFlat())\n",
        "learn.fit_one_cycle(5, 5e-3)"
      ],
      "metadata": {
        "colab": {
          "base_uri": "https://localhost:8080/",
          "height": 206
        },
        "id": "jpaIrwkczxbo",
        "outputId": "07e817fc-62e9-4432-a0c7-19a4241b0ccd"
      },
      "execution_count": 87,
      "outputs": [
        {
          "output_type": "display_data",
          "data": {
            "text/plain": [
              "<IPython.core.display.HTML object>"
            ],
            "text/html": [
              "\n",
              "<style>\n",
              "    /* Turns off some styling */\n",
              "    progress {\n",
              "        /* gets rid of default border in Firefox and Opera. */\n",
              "        border: none;\n",
              "        /* Needs to be in here for Safari polyfill so background images work as expected. */\n",
              "        background-size: auto;\n",
              "    }\n",
              "    progress:not([value]), progress:not([value])::-webkit-progress-bar {\n",
              "        background: repeating-linear-gradient(45deg, #7e7e7e, #7e7e7e 10px, #5c5c5c 10px, #5c5c5c 20px);\n",
              "    }\n",
              "    .progress-bar-interrupted, .progress-bar-interrupted::-webkit-progress-bar {\n",
              "        background: #F44336;\n",
              "    }\n",
              "</style>\n"
            ]
          },
          "metadata": {}
        },
        {
          "output_type": "display_data",
          "data": {
            "text/plain": [
              "<IPython.core.display.HTML object>"
            ],
            "text/html": [
              "<table border=\"1\" class=\"dataframe\">\n",
              "  <thead>\n",
              "    <tr style=\"text-align: left;\">\n",
              "      <th>epoch</th>\n",
              "      <th>train_loss</th>\n",
              "      <th>valid_loss</th>\n",
              "      <th>time</th>\n",
              "    </tr>\n",
              "  </thead>\n",
              "  <tbody>\n",
              "    <tr>\n",
              "      <td>0</td>\n",
              "      <td>0.951388</td>\n",
              "      <td>0.939965</td>\n",
              "      <td>00:07</td>\n",
              "    </tr>\n",
              "    <tr>\n",
              "      <td>1</td>\n",
              "      <td>0.838728</td>\n",
              "      <td>0.864379</td>\n",
              "      <td>00:07</td>\n",
              "    </tr>\n",
              "    <tr>\n",
              "      <td>2</td>\n",
              "      <td>0.600413</td>\n",
              "      <td>0.857819</td>\n",
              "      <td>00:07</td>\n",
              "    </tr>\n",
              "    <tr>\n",
              "      <td>3</td>\n",
              "      <td>0.384986</td>\n",
              "      <td>0.879910</td>\n",
              "      <td>00:08</td>\n",
              "    </tr>\n",
              "    <tr>\n",
              "      <td>4</td>\n",
              "      <td>0.293782</td>\n",
              "      <td>0.887780</td>\n",
              "      <td>00:08</td>\n",
              "    </tr>\n",
              "  </tbody>\n",
              "</table>"
            ]
          },
          "metadata": {}
        }
      ]
    },
    {
      "cell_type": "code",
      "source": [
        "model.user_bias.weight # 임베딩 되는 벡터들은 정규분포에서 벗어나지 않는지? 임의로 조정될 때 정규분포에 따른 값을 배정받아 그게 조정되는건가?"
      ],
      "metadata": {
        "colab": {
          "base_uri": "https://localhost:8080/"
        },
        "id": "5s_eqgT8CcrO",
        "outputId": "119fdf3b-2a38-4c3f-933f-b8aa49327343"
      },
      "execution_count": 88,
      "outputs": [
        {
          "output_type": "execute_result",
          "data": {
            "text/plain": [
              "Parameter containing:\n",
              "tensor([[ 6.3406e-03],\n",
              "        [ 6.8864e-02],\n",
              "        [ 1.1467e-01],\n",
              "        [-1.4814e-01],\n",
              "        [ 4.5778e-01],\n",
              "        [-2.7660e-02],\n",
              "        [-9.0032e-02],\n",
              "        [ 5.6019e-01],\n",
              "        [ 1.5035e-01],\n",
              "        [ 3.4048e-01],\n",
              "        [ 6.1246e-01],\n",
              "        [ 1.8241e-01],\n",
              "        [ 2.9935e-01],\n",
              "        [ 3.6267e-02],\n",
              "        [ 2.1767e-01],\n",
              "        [-2.5590e-02],\n",
              "        [ 3.3488e-01],\n",
              "        [-1.1680e-01],\n",
              "        [ 2.4469e-01],\n",
              "        [ 1.5950e-01],\n",
              "        [-1.0413e-01],\n",
              "        [-6.9219e-02],\n",
              "        [-4.0402e-02],\n",
              "        [ 1.4871e-01],\n",
              "        [ 4.5999e-01],\n",
              "        [ 4.0975e-01],\n",
              "        [-1.2067e-01],\n",
              "        [ 6.5308e-02],\n",
              "        [ 1.8315e-01],\n",
              "        [ 1.6961e-01],\n",
              "        [ 4.4906e-01],\n",
              "        [ 1.5882e-01],\n",
              "        [-8.6932e-04],\n",
              "        [ 2.0839e-01],\n",
              "        [ 4.0403e-01],\n",
              "        [-8.2083e-02],\n",
              "        [ 4.1747e-01],\n",
              "        [ 2.5272e-01],\n",
              "        [ 4.0536e-01],\n",
              "        [ 3.8467e-01],\n",
              "        [-6.5981e-02],\n",
              "        [ 2.0581e-02],\n",
              "        [ 1.3819e-01],\n",
              "        [ 1.7090e-01],\n",
              "        [ 2.2401e-01],\n",
              "        [ 2.6697e-01],\n",
              "        [ 2.4217e-01],\n",
              "        [ 2.1874e-01],\n",
              "        [ 9.3050e-02],\n",
              "        [-2.6567e-01],\n",
              "        [ 1.9190e-01],\n",
              "        [-3.0812e-02],\n",
              "        [ 3.4604e-01],\n",
              "        [ 2.8569e-01],\n",
              "        [ 2.1953e-01],\n",
              "        [ 4.2036e-02],\n",
              "        [ 3.1131e-01],\n",
              "        [ 1.9312e-01],\n",
              "        [-1.5044e-03],\n",
              "        [ 4.0752e-01],\n",
              "        [ 5.0059e-01],\n",
              "        [-7.2855e-02],\n",
              "        [-1.8252e-02],\n",
              "        [ 9.5405e-03],\n",
              "        [ 1.6935e-03],\n",
              "        [ 1.6081e-01],\n",
              "        [-3.1184e-02],\n",
              "        [ 5.1491e-01],\n",
              "        [-2.9793e-02],\n",
              "        [ 2.5267e-01],\n",
              "        [ 1.3004e-01],\n",
              "        [ 1.0010e-01],\n",
              "        [ 2.6718e-01],\n",
              "        [-8.0549e-02],\n",
              "        [ 1.3582e-01],\n",
              "        [ 1.9441e-01],\n",
              "        [-6.9088e-03],\n",
              "        [-5.7247e-02],\n",
              "        [ 1.8202e-01],\n",
              "        [ 2.0351e-01],\n",
              "        [-4.3319e-02],\n",
              "        [ 1.9583e-01],\n",
              "        [-2.0850e-01],\n",
              "        [ 3.4891e-02],\n",
              "        [ 4.0463e-01],\n",
              "        [ 1.0758e-01],\n",
              "        [ 1.9177e-01],\n",
              "        [ 3.7931e-01],\n",
              "        [ 3.2548e-01],\n",
              "        [ 2.9948e-01],\n",
              "        [ 3.1841e-01],\n",
              "        [ 2.6319e-01],\n",
              "        [ 1.5720e-01],\n",
              "        [ 1.6443e-01],\n",
              "        [ 3.1713e-01],\n",
              "        [ 3.0513e-02],\n",
              "        [ 2.7520e-01],\n",
              "        [ 2.6718e-01],\n",
              "        [ 1.0501e-01],\n",
              "        [ 2.0706e-01],\n",
              "        [-1.0464e-01],\n",
              "        [-8.8633e-02],\n",
              "        [-2.1113e-01],\n",
              "        [ 8.0007e-02],\n",
              "        [-1.6673e-01],\n",
              "        [ 1.4681e-01],\n",
              "        [ 1.5210e-01],\n",
              "        [-2.7555e-02],\n",
              "        [ 1.5796e-01],\n",
              "        [ 1.2361e-01],\n",
              "        [-3.5712e-02],\n",
              "        [ 1.8087e-01],\n",
              "        [ 2.2572e-01],\n",
              "        [ 1.7885e-01],\n",
              "        [ 6.3756e-02],\n",
              "        [ 2.4808e-01],\n",
              "        [-1.3078e-01],\n",
              "        [ 4.0073e-01],\n",
              "        [ 6.4721e-01],\n",
              "        [ 5.0140e-01],\n",
              "        [ 7.1421e-02],\n",
              "        [-4.2201e-02],\n",
              "        [ 3.8605e-01],\n",
              "        [ 7.4955e-02],\n",
              "        [ 1.1933e-01],\n",
              "        [ 1.7334e-02],\n",
              "        [ 4.0635e-01],\n",
              "        [ 4.7650e-01],\n",
              "        [ 1.5017e-01],\n",
              "        [-9.6664e-02],\n",
              "        [ 6.8453e-01],\n",
              "        [ 2.0259e-01],\n",
              "        [ 6.3380e-02],\n",
              "        [ 6.7137e-02],\n",
              "        [ 2.1078e-01],\n",
              "        [ 1.0851e-01],\n",
              "        [ 2.6624e-01],\n",
              "        [ 4.9495e-01],\n",
              "        [ 3.1422e-01],\n",
              "        [ 2.5756e-01],\n",
              "        [ 2.5944e-01],\n",
              "        [ 2.9097e-02],\n",
              "        [ 9.7804e-02],\n",
              "        [ 2.0619e-01],\n",
              "        [ 1.3640e-01],\n",
              "        [ 2.2968e-01],\n",
              "        [ 1.3546e-01],\n",
              "        [ 3.0328e-01],\n",
              "        [ 1.3238e-01],\n",
              "        [-9.0638e-02],\n",
              "        [ 2.1468e-01],\n",
              "        [ 2.2928e-01],\n",
              "        [ 4.4273e-01],\n",
              "        [ 9.2515e-02],\n",
              "        [ 1.1413e-01],\n",
              "        [-1.8682e-02],\n",
              "        [ 2.5044e-04],\n",
              "        [ 3.1259e-01],\n",
              "        [ 3.5142e-01],\n",
              "        [ 2.3239e-01],\n",
              "        [ 2.1772e-01],\n",
              "        [-2.5522e-01],\n",
              "        [ 2.0494e-01],\n",
              "        [-6.8326e-02],\n",
              "        [ 3.6049e-01],\n",
              "        [ 2.7986e-01],\n",
              "        [ 4.5843e-02],\n",
              "        [-1.0419e-01],\n",
              "        [ 1.1036e-01],\n",
              "        [ 2.3382e-01],\n",
              "        [ 2.0580e-01],\n",
              "        [-2.6028e-02],\n",
              "        [ 1.4136e-01],\n",
              "        [ 5.8679e-01],\n",
              "        [ 2.0244e-01],\n",
              "        [-4.4236e-02],\n",
              "        [ 2.7068e-01],\n",
              "        [ 8.9762e-02],\n",
              "        [ 1.7623e-01],\n",
              "        [-1.2281e-01],\n",
              "        [ 2.6979e-01],\n",
              "        [-7.7141e-01],\n",
              "        [ 1.3691e-01],\n",
              "        [ 1.1448e-01],\n",
              "        [ 2.2806e-01],\n",
              "        [ 3.4915e-01],\n",
              "        [ 1.4021e-01],\n",
              "        [ 1.4411e-01],\n",
              "        [ 1.3234e-01],\n",
              "        [ 3.5696e-01],\n",
              "        [-7.1441e-02],\n",
              "        [ 5.8664e-02],\n",
              "        [ 1.9927e-01],\n",
              "        [ 9.8002e-02],\n",
              "        [-2.4033e-01],\n",
              "        [ 1.0678e-01],\n",
              "        [ 1.4332e-01],\n",
              "        [-7.1323e-02],\n",
              "        [-1.3203e-01],\n",
              "        [-2.0870e-01],\n",
              "        [ 6.9613e-01],\n",
              "        [-6.1339e-02],\n",
              "        [-5.0086e-02],\n",
              "        [ 1.3650e-01],\n",
              "        [-1.9097e-02],\n",
              "        [-3.5983e-02],\n",
              "        [-4.6901e-01],\n",
              "        [ 9.7580e-02],\n",
              "        [ 1.7852e-01],\n",
              "        [-1.7689e-01],\n",
              "        [ 3.4157e-01],\n",
              "        [ 7.8472e-02],\n",
              "        [ 1.1345e-01],\n",
              "        [ 5.5776e-01],\n",
              "        [ 3.2737e-01],\n",
              "        [ 7.2259e-02],\n",
              "        [ 1.3788e-01],\n",
              "        [-7.8087e-02],\n",
              "        [ 3.7199e-02],\n",
              "        [ 1.1686e-01],\n",
              "        [ 2.9093e-01],\n",
              "        [ 3.6474e-01],\n",
              "        [-1.8326e-01],\n",
              "        [-1.2267e-01],\n",
              "        [-2.5515e-01],\n",
              "        [ 2.7848e-01],\n",
              "        [ 1.1537e-01],\n",
              "        [ 1.3638e-01],\n",
              "        [-8.3456e-02],\n",
              "        [-6.3960e-02],\n",
              "        [ 1.8614e-01],\n",
              "        [ 2.5986e-01],\n",
              "        [ 2.7048e-01],\n",
              "        [ 5.0176e-01],\n",
              "        [-1.2389e-01],\n",
              "        [ 2.2941e-01],\n",
              "        [ 1.0659e-01],\n",
              "        [ 6.6356e-02],\n",
              "        [ 1.7837e-01],\n",
              "        [ 1.6211e-01],\n",
              "        [ 2.1414e-01],\n",
              "        [ 5.6454e-02],\n",
              "        [ 4.7973e-01],\n",
              "        [ 1.3535e-01],\n",
              "        [ 3.5132e-01],\n",
              "        [ 2.2639e-01],\n",
              "        [-6.6866e-02],\n",
              "        [ 2.0927e-01],\n",
              "        [ 3.9532e-03],\n",
              "        [ 4.5280e-01],\n",
              "        [ 3.0531e-01],\n",
              "        [ 1.9820e-01],\n",
              "        [ 2.7828e-01],\n",
              "        [ 2.4513e-01],\n",
              "        [-1.2362e-01],\n",
              "        [-1.7396e-01],\n",
              "        [ 5.6134e-01],\n",
              "        [ 2.1693e-01],\n",
              "        [ 8.6346e-02],\n",
              "        [ 3.1054e-01],\n",
              "        [ 3.6674e-01],\n",
              "        [ 5.2728e-01],\n",
              "        [ 8.6205e-02],\n",
              "        [ 2.0488e-01],\n",
              "        [ 3.6378e-01],\n",
              "        [ 1.2607e-01],\n",
              "        [-1.3165e-01],\n",
              "        [ 4.9540e-01],\n",
              "        [-1.7594e-01],\n",
              "        [-3.1430e-01],\n",
              "        [ 8.3195e-01],\n",
              "        [-8.0261e-02],\n",
              "        [ 2.2175e-01],\n",
              "        [ 2.7963e-01],\n",
              "        [ 3.9229e-01],\n",
              "        [-2.4763e-02],\n",
              "        [ 2.5262e-01],\n",
              "        [ 1.9708e-02],\n",
              "        [ 2.2457e-01],\n",
              "        [ 1.3808e-01],\n",
              "        [ 4.4599e-01],\n",
              "        [-1.7320e-02],\n",
              "        [ 1.3526e-01],\n",
              "        [ 3.5811e-01],\n",
              "        [ 2.4463e-01],\n",
              "        [ 1.6978e-01],\n",
              "        [ 4.6642e-01],\n",
              "        [ 4.5893e-01],\n",
              "        [ 1.3941e-01],\n",
              "        [-3.0091e-02],\n",
              "        [ 2.3592e-02],\n",
              "        [ 4.0315e-01],\n",
              "        [ 2.7699e-01],\n",
              "        [-2.2993e-01],\n",
              "        [ 2.8622e-01],\n",
              "        [ 7.6983e-01],\n",
              "        [ 2.0580e-01],\n",
              "        [ 7.4104e-02],\n",
              "        [ 1.6005e-01],\n",
              "        [ 1.0904e-01],\n",
              "        [ 3.9630e-01],\n",
              "        [ 2.5126e-01],\n",
              "        [-1.0485e-01],\n",
              "        [ 8.9532e-02],\n",
              "        [ 1.6564e-01],\n",
              "        [ 3.6904e-02],\n",
              "        [ 1.6691e-01],\n",
              "        [ 1.6549e-01],\n",
              "        [ 4.4258e-01],\n",
              "        [ 2.4872e-01],\n",
              "        [ 9.8570e-02],\n",
              "        [ 2.5852e-01],\n",
              "        [ 2.2397e-01],\n",
              "        [ 2.0893e-01],\n",
              "        [ 2.9301e-01],\n",
              "        [ 1.5757e-01],\n",
              "        [-1.5489e-01],\n",
              "        [ 2.9155e-01],\n",
              "        [ 2.5481e-01],\n",
              "        [ 1.3003e-01],\n",
              "        [ 4.1561e-01],\n",
              "        [ 8.1834e-02],\n",
              "        [ 1.5844e-01],\n",
              "        [ 5.3672e-02],\n",
              "        [ 7.6412e-01],\n",
              "        [-2.4826e-02],\n",
              "        [ 1.5728e-02],\n",
              "        [ 7.9785e-02],\n",
              "        [ 1.3546e-01],\n",
              "        [ 3.6079e-02],\n",
              "        [ 6.6148e-01],\n",
              "        [ 2.2464e-01],\n",
              "        [ 5.6615e-01],\n",
              "        [ 2.6247e-01],\n",
              "        [ 1.2154e-01],\n",
              "        [ 2.0200e-01],\n",
              "        [-9.1470e-02],\n",
              "        [ 1.5203e-01],\n",
              "        [ 1.9670e-01],\n",
              "        [ 3.0949e-01],\n",
              "        [ 2.2464e-01],\n",
              "        [ 3.9337e-01],\n",
              "        [-4.1313e-02],\n",
              "        [ 3.8504e-01],\n",
              "        [ 4.6040e-02],\n",
              "        [ 1.3620e-01],\n",
              "        [ 8.9010e-02],\n",
              "        [ 1.2890e-02],\n",
              "        [ 4.7096e-01],\n",
              "        [ 5.9007e-02],\n",
              "        [ 1.4709e-01],\n",
              "        [ 3.6867e-01],\n",
              "        [ 4.9330e-02],\n",
              "        [ 7.3309e-02],\n",
              "        [ 2.0941e-01],\n",
              "        [ 6.3193e-01],\n",
              "        [ 1.2887e-01],\n",
              "        [ 5.7366e-01],\n",
              "        [ 1.8486e-01],\n",
              "        [ 3.2648e-01],\n",
              "        [ 8.4247e-02],\n",
              "        [ 1.0624e-01],\n",
              "        [ 1.6726e-02],\n",
              "        [-1.6098e-01],\n",
              "        [ 1.8821e-01],\n",
              "        [ 1.1912e-01],\n",
              "        [ 6.8788e-01],\n",
              "        [ 6.5436e-01],\n",
              "        [ 1.2840e-01],\n",
              "        [ 3.9754e-01],\n",
              "        [ 1.3936e-01],\n",
              "        [ 1.9230e-01],\n",
              "        [ 8.1187e-01],\n",
              "        [ 2.6691e-01],\n",
              "        [ 3.3013e-02],\n",
              "        [ 1.7818e-01],\n",
              "        [ 7.9997e-02],\n",
              "        [ 2.6227e-01],\n",
              "        [ 2.0843e-01],\n",
              "        [ 2.8216e-01],\n",
              "        [-2.5136e-01],\n",
              "        [ 2.2404e-01],\n",
              "        [ 2.0893e-01],\n",
              "        [ 1.9845e-01],\n",
              "        [ 2.2519e-01],\n",
              "        [-1.1606e-01],\n",
              "        [ 2.7727e-01],\n",
              "        [-4.0406e-02],\n",
              "        [ 6.1428e-01],\n",
              "        [ 9.1166e-02],\n",
              "        [ 2.2784e-01],\n",
              "        [ 5.4472e-02],\n",
              "        [ 1.4879e-01],\n",
              "        [ 2.1952e-01],\n",
              "        [ 4.1080e-01],\n",
              "        [ 3.4890e-01],\n",
              "        [ 1.3648e-01],\n",
              "        [ 1.5878e-02],\n",
              "        [-6.8085e-02],\n",
              "        [ 8.9574e-03],\n",
              "        [ 2.2383e-01],\n",
              "        [-1.6453e-01],\n",
              "        [ 1.0811e-01],\n",
              "        [ 1.3083e-01],\n",
              "        [ 1.0729e-01],\n",
              "        [-6.5929e-01],\n",
              "        [ 1.5389e-01],\n",
              "        [ 7.9106e-02],\n",
              "        [ 4.2067e-01],\n",
              "        [-1.8031e-02],\n",
              "        [-7.1037e-02],\n",
              "        [ 2.3702e-01],\n",
              "        [ 2.2545e-01],\n",
              "        [ 1.6137e-01],\n",
              "        [ 3.3030e-01],\n",
              "        [ 1.7003e-01],\n",
              "        [ 3.4335e-01],\n",
              "        [ 8.9401e-02],\n",
              "        [-1.9041e-01],\n",
              "        [ 1.6311e-01],\n",
              "        [ 1.9094e-01],\n",
              "        [ 1.5992e-01],\n",
              "        [ 2.6881e-01],\n",
              "        [ 2.4948e-01],\n",
              "        [ 1.1437e-01],\n",
              "        [-4.5916e-02],\n",
              "        [ 9.3786e-02],\n",
              "        [ 7.6639e-01],\n",
              "        [ 5.0614e-01],\n",
              "        [ 6.1444e-02],\n",
              "        [ 6.8788e-02],\n",
              "        [ 9.9188e-02],\n",
              "        [ 2.1606e-01],\n",
              "        [ 1.9175e-02],\n",
              "        [ 3.3443e-01],\n",
              "        [ 1.3347e-01],\n",
              "        [ 2.8763e-01],\n",
              "        [ 3.1465e-01],\n",
              "        [ 2.5328e-01],\n",
              "        [ 2.6355e-01],\n",
              "        [ 3.5874e-01],\n",
              "        [ 1.8265e-01],\n",
              "        [ 5.9648e-04],\n",
              "        [ 1.1187e-01],\n",
              "        [ 2.1147e-01],\n",
              "        [-5.7584e-01],\n",
              "        [-1.8517e-01],\n",
              "        [ 9.6493e-02],\n",
              "        [ 3.2180e-02],\n",
              "        [ 1.2874e-02],\n",
              "        [ 3.9566e-01],\n",
              "        [-8.9738e-02],\n",
              "        [-1.1010e-01],\n",
              "        [-7.1790e-02],\n",
              "        [-1.6361e-01],\n",
              "        [ 1.7490e-01],\n",
              "        [ 2.3396e-01],\n",
              "        [ 4.8974e-01],\n",
              "        [ 2.8621e-01],\n",
              "        [ 9.3154e-02],\n",
              "        [ 9.4019e-02],\n",
              "        [ 3.8679e-03],\n",
              "        [ 2.1634e-01],\n",
              "        [-2.3266e-01],\n",
              "        [ 4.0069e-01],\n",
              "        [ 6.3904e-02],\n",
              "        [ 3.9302e-02],\n",
              "        [ 2.7848e-02],\n",
              "        [ 1.7418e-01],\n",
              "        [ 2.6295e-01],\n",
              "        [ 1.8500e-01],\n",
              "        [ 2.5854e-01],\n",
              "        [ 8.1108e-01],\n",
              "        [ 9.3638e-02],\n",
              "        [ 4.0584e-01],\n",
              "        [-1.2654e-02],\n",
              "        [ 1.5150e-01],\n",
              "        [ 8.0034e-01],\n",
              "        [ 6.7940e-02],\n",
              "        [-5.6510e-02],\n",
              "        [ 1.5327e-01],\n",
              "        [ 1.6135e-01],\n",
              "        [ 1.2506e-01],\n",
              "        [-1.8788e-02],\n",
              "        [ 3.0469e-01],\n",
              "        [ 5.5230e-02],\n",
              "        [ 1.2269e-01],\n",
              "        [ 1.3743e-01],\n",
              "        [-3.7222e-02],\n",
              "        [ 4.2489e-01],\n",
              "        [-2.3651e-01],\n",
              "        [-5.6779e-04],\n",
              "        [-9.6189e-03],\n",
              "        [ 1.7074e-01],\n",
              "        [ 6.6387e-02],\n",
              "        [ 5.0179e-01],\n",
              "        [-8.9116e-03],\n",
              "        [ 5.9651e-02],\n",
              "        [ 2.5740e-03],\n",
              "        [ 8.7940e-02],\n",
              "        [ 1.5494e-01],\n",
              "        [ 5.0114e-01],\n",
              "        [-1.2441e-02],\n",
              "        [ 1.5186e-01],\n",
              "        [ 3.8712e-01],\n",
              "        [ 2.6270e-02],\n",
              "        [ 1.8712e-02],\n",
              "        [ 8.5622e-01],\n",
              "        [ 1.2865e-01],\n",
              "        [-2.5628e-01],\n",
              "        [-4.4337e-02],\n",
              "        [ 4.1337e-01],\n",
              "        [ 2.1422e-01],\n",
              "        [ 2.7914e-01],\n",
              "        [ 9.7334e-02],\n",
              "        [ 6.0107e-02],\n",
              "        [ 2.2425e-01],\n",
              "        [ 1.3830e-01],\n",
              "        [ 3.4853e-01],\n",
              "        [ 6.5795e-01],\n",
              "        [ 1.1215e-01],\n",
              "        [-1.8283e-01],\n",
              "        [ 1.6654e-01],\n",
              "        [ 7.5942e-01],\n",
              "        [ 2.5036e-01],\n",
              "        [ 2.5335e-02],\n",
              "        [-3.0298e-02],\n",
              "        [ 8.7720e-02],\n",
              "        [ 3.9942e-02],\n",
              "        [ 3.2776e-01],\n",
              "        [ 2.3488e-01],\n",
              "        [ 1.0901e-01],\n",
              "        [ 6.4574e-01],\n",
              "        [ 1.4114e-03],\n",
              "        [ 6.0599e-01],\n",
              "        [ 2.8636e-01],\n",
              "        [ 1.8000e-01],\n",
              "        [-2.8439e-01],\n",
              "        [-5.1340e-02],\n",
              "        [ 3.1595e-01],\n",
              "        [ 4.5307e-01],\n",
              "        [ 1.9505e-01],\n",
              "        [ 2.6802e-01],\n",
              "        [ 2.0074e-01],\n",
              "        [-1.0428e-01],\n",
              "        [ 1.8260e-01],\n",
              "        [ 4.6943e-01],\n",
              "        [ 4.1462e-02],\n",
              "        [ 2.6834e-01],\n",
              "        [ 1.7767e-01],\n",
              "        [ 2.8742e-01],\n",
              "        [ 2.3408e-01],\n",
              "        [ 8.7808e-02],\n",
              "        [ 2.2934e-01],\n",
              "        [ 2.0303e-01],\n",
              "        [ 6.3788e-01],\n",
              "        [ 2.0404e-01],\n",
              "        [ 3.2046e-01],\n",
              "        [ 2.0285e-01],\n",
              "        [ 1.9423e-01],\n",
              "        [ 1.0585e-01],\n",
              "        [-1.9135e-01],\n",
              "        [ 1.3709e-01],\n",
              "        [ 3.7330e-01],\n",
              "        [ 2.8040e-01],\n",
              "        [ 4.7200e-01],\n",
              "        [ 2.9672e-02],\n",
              "        [ 1.6749e-01],\n",
              "        [-4.0606e-02],\n",
              "        [ 1.9766e-01],\n",
              "        [-1.2633e-01],\n",
              "        [-1.5700e-02],\n",
              "        [ 6.1603e-02],\n",
              "        [ 6.1443e-02],\n",
              "        [ 3.1873e-02],\n",
              "        [-7.8416e-02],\n",
              "        [ 1.1906e-01],\n",
              "        [ 3.9469e-01],\n",
              "        [-6.9189e-02],\n",
              "        [ 1.5477e-02],\n",
              "        [ 2.6271e-01],\n",
              "        [ 1.5313e-01],\n",
              "        [ 1.3836e-01],\n",
              "        [ 2.4514e-01],\n",
              "        [ 1.7163e-02],\n",
              "        [ 1.6302e-01],\n",
              "        [ 1.8194e-01],\n",
              "        [ 2.8715e-02],\n",
              "        [ 2.0615e-01],\n",
              "        [ 8.8834e-02],\n",
              "        [ 1.9412e-02],\n",
              "        [ 2.9370e-01],\n",
              "        [ 1.7776e-01],\n",
              "        [ 1.6246e-02],\n",
              "        [ 1.2658e-01],\n",
              "        [ 1.5119e-01],\n",
              "        [ 9.0092e-02],\n",
              "        [ 3.4789e-01],\n",
              "        [ 2.5160e-01],\n",
              "        [ 2.9398e-01],\n",
              "        [ 2.8046e-01],\n",
              "        [-1.2001e-01],\n",
              "        [ 4.6283e-01],\n",
              "        [ 1.6424e-01],\n",
              "        [ 9.4377e-02],\n",
              "        [ 2.2100e-01],\n",
              "        [ 3.3145e-01],\n",
              "        [ 2.9407e-02],\n",
              "        [ 1.0117e-01],\n",
              "        [-2.5430e-01],\n",
              "        [ 6.4866e-02],\n",
              "        [ 3.2374e-01],\n",
              "        [ 9.2240e-02],\n",
              "        [ 9.4855e-02],\n",
              "        [ 1.4887e-01],\n",
              "        [-4.6434e-02],\n",
              "        [ 2.5133e-01],\n",
              "        [-2.2467e-01],\n",
              "        [-1.7028e-01],\n",
              "        [ 1.3086e-02],\n",
              "        [ 4.0222e-01],\n",
              "        [ 3.6226e-01],\n",
              "        [ 9.9380e-03],\n",
              "        [-1.6279e-02],\n",
              "        [ 3.3399e-01],\n",
              "        [ 1.5080e-01],\n",
              "        [-2.2393e-01],\n",
              "        [ 1.8590e-01],\n",
              "        [ 6.3400e-01],\n",
              "        [ 1.9451e-01],\n",
              "        [ 1.3504e-01],\n",
              "        [ 2.2442e-02],\n",
              "        [-3.8648e-02],\n",
              "        [ 6.9609e-02],\n",
              "        [ 2.6026e-01],\n",
              "        [ 2.6031e-02],\n",
              "        [ 5.4409e-01],\n",
              "        [-2.8001e-01],\n",
              "        [-4.0560e-02],\n",
              "        [-3.9006e-01],\n",
              "        [ 5.6140e-01],\n",
              "        [ 3.1560e-01],\n",
              "        [ 3.8344e-01],\n",
              "        [ 3.0608e-01],\n",
              "        [ 5.6532e-01],\n",
              "        [ 1.6425e-02],\n",
              "        [-3.0272e-02],\n",
              "        [ 3.3581e-01],\n",
              "        [-7.9694e-02],\n",
              "        [ 1.5164e-01],\n",
              "        [-2.8830e-02],\n",
              "        [-6.6834e-02],\n",
              "        [ 4.6170e-02],\n",
              "        [-3.3231e-01],\n",
              "        [ 4.8668e-02],\n",
              "        [-3.4492e-02],\n",
              "        [-2.1797e-01],\n",
              "        [ 8.4569e-02],\n",
              "        [ 1.8607e-02],\n",
              "        [ 3.4718e-01],\n",
              "        [-3.6282e-01],\n",
              "        [ 1.0905e-01],\n",
              "        [ 2.7806e-01],\n",
              "        [ 1.7258e-01],\n",
              "        [ 1.1354e-01],\n",
              "        [ 3.7401e-01],\n",
              "        [ 3.0640e-01],\n",
              "        [-1.4785e-02],\n",
              "        [ 1.2285e-01],\n",
              "        [-1.1553e-01],\n",
              "        [ 1.4198e-01],\n",
              "        [ 1.7614e-01],\n",
              "        [ 5.7106e-02],\n",
              "        [ 2.7624e-01],\n",
              "        [ 1.2926e-01],\n",
              "        [ 1.3286e-01],\n",
              "        [-1.2999e-01],\n",
              "        [ 2.2998e-01],\n",
              "        [ 1.0695e-01],\n",
              "        [ 1.6696e-01],\n",
              "        [ 2.4996e-01],\n",
              "        [ 1.6665e-01],\n",
              "        [ 9.4472e-03],\n",
              "        [ 8.0215e-02],\n",
              "        [ 1.0343e-01],\n",
              "        [-3.3106e-01],\n",
              "        [ 2.4154e-01],\n",
              "        [ 1.4130e-01],\n",
              "        [ 8.5013e-01],\n",
              "        [ 2.0512e-01],\n",
              "        [-1.5947e-01],\n",
              "        [ 2.6677e-01],\n",
              "        [ 2.4291e-01],\n",
              "        [-7.4497e-02],\n",
              "        [ 3.7347e-01],\n",
              "        [ 3.0263e-01],\n",
              "        [ 1.8313e-01],\n",
              "        [ 3.0921e-01],\n",
              "        [-8.8037e-02],\n",
              "        [ 1.6351e-01],\n",
              "        [ 1.4766e-02],\n",
              "        [ 2.9387e-01],\n",
              "        [-2.6080e-01],\n",
              "        [-1.5825e-02],\n",
              "        [-1.9220e-02],\n",
              "        [ 1.6033e-01],\n",
              "        [ 7.4384e-03],\n",
              "        [ 1.5910e-01],\n",
              "        [ 1.2828e-01],\n",
              "        [ 1.4235e-01],\n",
              "        [-2.4151e-02],\n",
              "        [ 2.9730e-01],\n",
              "        [ 4.4995e-01],\n",
              "        [-4.7169e-03],\n",
              "        [ 1.7236e-01],\n",
              "        [-2.2718e-02],\n",
              "        [ 1.1011e-01],\n",
              "        [ 3.6308e-01],\n",
              "        [ 2.5759e-01],\n",
              "        [-2.5092e-01],\n",
              "        [ 3.5525e-01],\n",
              "        [ 2.0527e-01],\n",
              "        [ 3.1212e-01],\n",
              "        [-6.3237e-02],\n",
              "        [-4.0180e-01],\n",
              "        [ 2.3163e-01],\n",
              "        [ 6.6231e-02],\n",
              "        [-1.1317e-01],\n",
              "        [ 1.7572e-01],\n",
              "        [-1.1232e-01],\n",
              "        [-2.8460e-02],\n",
              "        [-2.2586e-01],\n",
              "        [ 3.0837e-01],\n",
              "        [-2.5512e-02],\n",
              "        [ 2.6593e-02],\n",
              "        [ 8.7359e-02],\n",
              "        [ 4.2033e-02],\n",
              "        [ 1.8511e-01],\n",
              "        [ 3.5897e-02],\n",
              "        [ 1.5918e-01],\n",
              "        [ 1.8327e-01],\n",
              "        [ 2.5744e-02],\n",
              "        [ 8.5268e-02],\n",
              "        [ 1.9531e-01],\n",
              "        [ 6.3540e-02],\n",
              "        [-8.0911e-02],\n",
              "        [ 3.0045e-02],\n",
              "        [ 6.2206e-02],\n",
              "        [ 1.1757e-01],\n",
              "        [ 1.4862e-01],\n",
              "        [-8.1137e-02],\n",
              "        [ 1.5422e-01],\n",
              "        [ 1.4604e-01],\n",
              "        [-4.0817e-02],\n",
              "        [ 1.7059e-01],\n",
              "        [-5.9591e-02],\n",
              "        [ 4.5653e-02],\n",
              "        [ 1.4464e-01],\n",
              "        [ 5.2660e-01],\n",
              "        [ 2.3415e-01],\n",
              "        [ 1.4488e-01],\n",
              "        [-1.1158e-01],\n",
              "        [-6.4205e-02],\n",
              "        [ 2.5021e-01],\n",
              "        [ 1.8989e-01],\n",
              "        [ 1.3770e-01],\n",
              "        [ 6.8220e-02],\n",
              "        [ 2.4335e-01],\n",
              "        [ 4.8238e-03],\n",
              "        [-8.0069e-02],\n",
              "        [ 6.1746e-01],\n",
              "        [ 1.7038e-01],\n",
              "        [ 3.1634e-01],\n",
              "        [-4.6613e-02],\n",
              "        [-5.8482e-01],\n",
              "        [ 1.3948e-01],\n",
              "        [ 8.7425e-02],\n",
              "        [ 3.5576e-01],\n",
              "        [-1.2900e-01],\n",
              "        [ 2.6070e-01],\n",
              "        [ 1.1059e-02],\n",
              "        [ 1.0562e-02],\n",
              "        [-1.3819e-01],\n",
              "        [ 4.0344e-01],\n",
              "        [ 3.2388e-01],\n",
              "        [ 7.4308e-02],\n",
              "        [ 1.6418e-01],\n",
              "        [-3.3135e-02],\n",
              "        [ 1.1938e-01],\n",
              "        [ 8.2946e-02],\n",
              "        [-3.9067e-02],\n",
              "        [ 1.7462e-01],\n",
              "        [ 1.0968e-01],\n",
              "        [ 1.5270e-01],\n",
              "        [ 2.9130e-01],\n",
              "        [ 5.5495e-02],\n",
              "        [ 1.7794e-01],\n",
              "        [-1.5798e-01],\n",
              "        [ 1.3296e-01],\n",
              "        [ 2.9933e-01],\n",
              "        [ 3.1369e-01],\n",
              "        [ 3.1959e-01],\n",
              "        [ 3.4611e-01],\n",
              "        [ 7.3216e-02],\n",
              "        [ 3.5894e-01],\n",
              "        [ 2.3413e-01],\n",
              "        [ 1.2511e-01],\n",
              "        [ 4.3255e-01],\n",
              "        [ 4.2713e-01],\n",
              "        [ 1.1792e-01],\n",
              "        [ 6.9484e-01],\n",
              "        [ 4.6898e-01],\n",
              "        [ 1.0976e-01],\n",
              "        [ 3.9977e-02],\n",
              "        [ 3.2404e-02],\n",
              "        [-7.1164e-03],\n",
              "        [ 3.3867e-01],\n",
              "        [ 2.0050e-01],\n",
              "        [ 6.8461e-02],\n",
              "        [ 4.2431e-01],\n",
              "        [ 2.0347e-02],\n",
              "        [ 2.4930e-01],\n",
              "        [-2.5745e-02],\n",
              "        [ 2.9358e-01],\n",
              "        [-8.3157e-02],\n",
              "        [ 2.9317e-01],\n",
              "        [ 4.4181e-01],\n",
              "        [ 8.1853e-02],\n",
              "        [-9.0471e-02],\n",
              "        [ 3.4333e-02],\n",
              "        [-4.7494e-02],\n",
              "        [-5.5760e-02],\n",
              "        [-7.1909e-02],\n",
              "        [-2.3407e-01],\n",
              "        [ 1.4629e-01],\n",
              "        [ 3.8523e-01],\n",
              "        [ 2.2657e-02],\n",
              "        [-1.8214e-01],\n",
              "        [ 5.0315e-01],\n",
              "        [-1.1128e-02],\n",
              "        [ 3.8897e-01],\n",
              "        [ 2.2880e-01],\n",
              "        [ 1.9351e-01],\n",
              "        [-2.7187e-02],\n",
              "        [ 1.0024e-01],\n",
              "        [ 1.0590e-01],\n",
              "        [ 2.9095e-01],\n",
              "        [-9.7893e-02],\n",
              "        [ 3.8508e-01],\n",
              "        [ 6.8370e-01],\n",
              "        [ 3.1626e-01],\n",
              "        [ 2.0333e-01],\n",
              "        [ 2.6162e-01],\n",
              "        [ 1.4423e-01],\n",
              "        [-1.3812e-01],\n",
              "        [ 7.3042e-02],\n",
              "        [ 4.9698e-02],\n",
              "        [ 2.1611e-01],\n",
              "        [ 1.4041e-01],\n",
              "        [ 3.0460e-01],\n",
              "        [ 7.6522e-02],\n",
              "        [ 2.5754e-01],\n",
              "        [ 7.1411e-01],\n",
              "        [-1.7241e-02],\n",
              "        [ 2.9777e-01],\n",
              "        [-3.2802e-01],\n",
              "        [-1.2501e-01],\n",
              "        [ 2.7930e-01],\n",
              "        [-2.2424e-01],\n",
              "        [-1.6589e-01],\n",
              "        [ 1.3626e-02],\n",
              "        [ 2.8954e-01],\n",
              "        [ 1.1653e-01],\n",
              "        [-1.5204e-01],\n",
              "        [ 7.8486e-02],\n",
              "        [ 2.5647e-01],\n",
              "        [ 2.4708e-01],\n",
              "        [ 2.3808e-01],\n",
              "        [-1.0318e-01],\n",
              "        [ 9.6123e-02],\n",
              "        [ 3.3487e-01],\n",
              "        [-4.9202e-02],\n",
              "        [ 3.8843e-01],\n",
              "        [ 5.4543e-01],\n",
              "        [ 4.2807e-03],\n",
              "        [ 1.1122e-02],\n",
              "        [-8.8177e-02],\n",
              "        [ 6.2296e-01],\n",
              "        [ 4.2323e-01],\n",
              "        [ 1.0502e-01],\n",
              "        [ 8.4045e-02],\n",
              "        [ 5.7176e-01],\n",
              "        [ 3.5867e-01],\n",
              "        [ 2.8067e-01],\n",
              "        [ 3.7254e-01],\n",
              "        [ 2.1604e-01],\n",
              "        [-2.3510e-01],\n",
              "        [ 4.6035e-01],\n",
              "        [ 4.1707e-01],\n",
              "        [ 1.2714e-02],\n",
              "        [-3.7204e-01],\n",
              "        [ 3.0358e-01],\n",
              "        [-1.0003e-01],\n",
              "        [ 2.7742e-01],\n",
              "        [ 2.9525e-01],\n",
              "        [ 6.2588e-02],\n",
              "        [ 2.8934e-01],\n",
              "        [ 1.0126e+00],\n",
              "        [ 8.1134e-02],\n",
              "        [ 4.4763e-01],\n",
              "        [-1.4358e-01],\n",
              "        [ 2.2420e-01],\n",
              "        [ 1.3863e-01],\n",
              "        [-6.2338e-02],\n",
              "        [ 1.7880e-01],\n",
              "        [-1.2512e-01],\n",
              "        [ 9.3025e-02],\n",
              "        [ 1.8060e-01],\n",
              "        [ 1.0437e-01],\n",
              "        [ 2.1479e-01],\n",
              "        [ 9.9151e-02],\n",
              "        [-4.6899e-02],\n",
              "        [ 1.9542e-01],\n",
              "        [ 6.6593e-01],\n",
              "        [ 1.4302e-01],\n",
              "        [ 6.9366e-02],\n",
              "        [ 6.7805e-02],\n",
              "        [ 2.1548e-01],\n",
              "        [ 8.3850e-01],\n",
              "        [-1.2148e-02],\n",
              "        [-3.3668e-02],\n",
              "        [ 6.5841e-02],\n",
              "        [ 2.5767e-01],\n",
              "        [-4.3399e-01],\n",
              "        [ 2.3462e-01],\n",
              "        [ 3.0802e-01],\n",
              "        [ 4.5574e-01],\n",
              "        [-3.9507e-02],\n",
              "        [ 1.7445e-01],\n",
              "        [ 6.5694e-01],\n",
              "        [ 6.1888e-02],\n",
              "        [ 2.2926e-01],\n",
              "        [ 4.2872e-01],\n",
              "        [ 5.1945e-03]], device='cuda:0', requires_grad=True)"
            ]
          },
          "metadata": {},
          "execution_count": 88
        }
      ]
    },
    {
      "cell_type": "code",
      "source": [
        "# 가중치 감소\n",
        "\n",
        "# 과적합이 일어날 때 데이터를 증강시킬 수 없다면 정규화 기법이 필요하다.\n",
        "# 계수가 클 수록 손실함수에서 경사가 급격해지는 협곡이 나타난다는 것이다. \n",
        "# 변화가 매우 심하면 학습용 데이터의 모든 데이터에 적합하게 된다. = 과적합\n",
        "\n",
        "# 가중치를 제한하는 것은 모델의 학습을 방해하지만 일반화를 더 잘 되게 만들어준다.\n",
        "\n",
        "# wd 는 fit, fit_one_cycle에서 인자로 사용할 수 있다.\n",
        "\n",
        "# \b그냥 미분되면서 값이 조정될 때 기울기가 크니까 많이 변하게 되는 데 그걸 wd만큼 곱해서 억제해주는 것 같다\n",
        "\n",
        "model = DotProductBias(n_users, n_movies, 50)\n",
        "learn = Learner(dls, model, loss_func=MSELossFlat())\n",
        "learn.fit_one_cycle(5, 5e-3, wd=0.2)"
      ],
      "metadata": {
        "colab": {
          "base_uri": "https://localhost:8080/",
          "height": 206
        },
        "id": "OMOOjK8j4NKV",
        "outputId": "12df1f58-7494-4c78-c64a-f9b0c6a6b3b7"
      },
      "execution_count": 89,
      "outputs": [
        {
          "output_type": "display_data",
          "data": {
            "text/plain": [
              "<IPython.core.display.HTML object>"
            ],
            "text/html": [
              "\n",
              "<style>\n",
              "    /* Turns off some styling */\n",
              "    progress {\n",
              "        /* gets rid of default border in Firefox and Opera. */\n",
              "        border: none;\n",
              "        /* Needs to be in here for Safari polyfill so background images work as expected. */\n",
              "        background-size: auto;\n",
              "    }\n",
              "    progress:not([value]), progress:not([value])::-webkit-progress-bar {\n",
              "        background: repeating-linear-gradient(45deg, #7e7e7e, #7e7e7e 10px, #5c5c5c 10px, #5c5c5c 20px);\n",
              "    }\n",
              "    .progress-bar-interrupted, .progress-bar-interrupted::-webkit-progress-bar {\n",
              "        background: #F44336;\n",
              "    }\n",
              "</style>\n"
            ]
          },
          "metadata": {}
        },
        {
          "output_type": "display_data",
          "data": {
            "text/plain": [
              "<IPython.core.display.HTML object>"
            ],
            "text/html": [
              "<table border=\"1\" class=\"dataframe\">\n",
              "  <thead>\n",
              "    <tr style=\"text-align: left;\">\n",
              "      <th>epoch</th>\n",
              "      <th>train_loss</th>\n",
              "      <th>valid_loss</th>\n",
              "      <th>time</th>\n",
              "    </tr>\n",
              "  </thead>\n",
              "  <tbody>\n",
              "    <tr>\n",
              "      <td>0</td>\n",
              "      <td>0.935730</td>\n",
              "      <td>0.949891</td>\n",
              "      <td>00:07</td>\n",
              "    </tr>\n",
              "    <tr>\n",
              "      <td>1</td>\n",
              "      <td>0.882569</td>\n",
              "      <td>0.890017</td>\n",
              "      <td>00:07</td>\n",
              "    </tr>\n",
              "    <tr>\n",
              "      <td>2</td>\n",
              "      <td>0.825913</td>\n",
              "      <td>0.849570</td>\n",
              "      <td>00:07</td>\n",
              "    </tr>\n",
              "    <tr>\n",
              "      <td>3</td>\n",
              "      <td>0.736475</td>\n",
              "      <td>0.824615</td>\n",
              "      <td>00:08</td>\n",
              "    </tr>\n",
              "    <tr>\n",
              "      <td>4</td>\n",
              "      <td>0.660496</td>\n",
              "      <td>0.821139</td>\n",
              "      <td>00:07</td>\n",
              "    </tr>\n",
              "  </tbody>\n",
              "</table>"
            ]
          },
          "metadata": {}
        }
      ]
    },
    {
      "cell_type": "markdown",
      "source": [
        "## 나만의 임베딩 모듈 만들기"
      ],
      "metadata": {
        "id": "ubPt5jJS6DU2"
      }
    },
    {
      "cell_type": "code",
      "source": [
        "# 임베딩의 가중치 행렬은 임의로 초기화되어야 한다. 파라미터를 호출하기 위해 텐서를 추가하더라도 파라미터 그룹에 자동으로 포함되지 않는다.\n",
        "\n",
        "class T(Module):\n",
        "  def __init__(self): self.a = torch.ones(3)\n",
        "\n",
        "L(T().parameters())"
      ],
      "metadata": {
        "colab": {
          "base_uri": "https://localhost:8080/"
        },
        "id": "KOpcCQt_6CTj",
        "outputId": "ffc3f502-24be-4a23-ecb4-f043b92e01e2"
      },
      "execution_count": 90,
      "outputs": [
        {
          "output_type": "execute_result",
          "data": {
            "text/plain": [
              "(#0) []"
            ]
          },
          "metadata": {},
          "execution_count": 90
        }
      ]
    },
    {
      "cell_type": "code",
      "source": [
        "# nn.parameters로 wrap해야 한다.\n",
        "\n",
        "class T(Module):\n",
        "  def __init__(self): self.a = nn.Parameter(torch.ones(3))\n",
        "\n",
        "L(T().parameters())\n",
        "\n",
        "# 그래야지 requires_grad_를 통해 파라미터가 조정되도록 미분가능하게 만들어주고, parameters함수에 호출될 수 있도록 해주는 marker다"
      ],
      "metadata": {
        "colab": {
          "base_uri": "https://localhost:8080/"
        },
        "id": "lj2MqdwJ6e0n",
        "outputId": "20ec5bd5-763e-4b79-88df-c6f0bef2199d"
      },
      "execution_count": 91,
      "outputs": [
        {
          "output_type": "execute_result",
          "data": {
            "text/plain": [
              "(#1) [Parameter containing:\n",
              "tensor([1., 1., 1.], requires_grad=True)]"
            ]
          },
          "metadata": {},
          "execution_count": 91
        }
      ]
    },
    {
      "cell_type": "code",
      "source": [
        "# 모든 파이토치 모듈은 학습 가능한 파라미터(SGD를 통해, ..) nn.Parameter를 사용하므로 명시적으로 사용할 필요는 없다.\n",
        "\n",
        "class T(Module):\n",
        "  def __init__(self): self.a = nn.Linear(1,3, bias=False)\n",
        "# nn.linear는 자동으로 nn.Parameter를 사용한다. shape (1,3)\n",
        "t = T()\n",
        "L(t.parameters()), type(t.a.weight)"
      ],
      "metadata": {
        "colab": {
          "base_uri": "https://localhost:8080/"
        },
        "id": "hbeAqC6m69yF",
        "outputId": "d4a80f9d-df1b-4c73-86b5-10cbcb4ded3b"
      },
      "execution_count": 92,
      "outputs": [
        {
          "output_type": "execute_result",
          "data": {
            "text/plain": [
              "((#1) [Parameter containing:\n",
              "tensor([[-0.4928],\n",
              "        [-0.1830],\n",
              "        [-0.5658]], requires_grad=True)],\n",
              " torch.nn.parameter.Parameter)"
            ]
          },
          "metadata": {},
          "execution_count": 92
        }
      ]
    },
    {
      "cell_type": "code",
      "source": [
        "# 임의 초기화된 텐서를 파라미터로 생성할 수 있다.\n",
        "\n",
        "def create_params(size):\n",
        "  return nn.Parameter(torch.zeros(*size).normal_(0, 0.01)) # normal_은 해당 값을 정규분포에 의거한 값을 빈 값(0)에 채운다는 것을 의미"
      ],
      "metadata": {
        "id": "QeGVST2W7gMK"
      },
      "execution_count": 93,
      "outputs": []
    },
    {
      "cell_type": "code",
      "source": [
        "class DotProductBias(Module):\n",
        "    def __init__(self, n_users, n_movies, n_factors, y_range=(0,5.5)):\n",
        "        self.user_factors = create_params([n_users, n_factors])\n",
        "        self.user_bias = create_params([n_users])\n",
        "        self.movie_factors = create_params([n_movies, n_factors])\n",
        "        self.movie_bias = create_params([n_movies])\n",
        "        self.y_range = y_range\n",
        "        \n",
        "    def forward(self, x):\n",
        "        users = self.user_factors[x[:,0]]\n",
        "        movies = self.movie_factors[x[:,1]]\n",
        "        res = (users*movies).sum(dim=1)\n",
        "        res += self.user_bias[x[:,0]] + self.movie_bias[x[:,1]]\n",
        "        return sigmoid_range(res, *self.y_range)"
      ],
      "metadata": {
        "id": "U4bXOTXZ8B8N"
      },
      "execution_count": 94,
      "outputs": []
    },
    {
      "cell_type": "code",
      "source": [
        "model = DotProductBias(n_users, n_movies, 50)\n",
        "learn = Learner(dls, model, loss_func=MSELossFlat())\n",
        "learn.fit_one_cycle(5, 5e-3, wd=0.1)"
      ],
      "metadata": {
        "colab": {
          "base_uri": "https://localhost:8080/",
          "height": 206
        },
        "id": "XTUmrK0Q-A8x",
        "outputId": "27daead1-ccc8-4549-ee30-d9405385283f"
      },
      "execution_count": 95,
      "outputs": [
        {
          "output_type": "display_data",
          "data": {
            "text/plain": [
              "<IPython.core.display.HTML object>"
            ],
            "text/html": [
              "\n",
              "<style>\n",
              "    /* Turns off some styling */\n",
              "    progress {\n",
              "        /* gets rid of default border in Firefox and Opera. */\n",
              "        border: none;\n",
              "        /* Needs to be in here for Safari polyfill so background images work as expected. */\n",
              "        background-size: auto;\n",
              "    }\n",
              "    progress:not([value]), progress:not([value])::-webkit-progress-bar {\n",
              "        background: repeating-linear-gradient(45deg, #7e7e7e, #7e7e7e 10px, #5c5c5c 10px, #5c5c5c 20px);\n",
              "    }\n",
              "    .progress-bar-interrupted, .progress-bar-interrupted::-webkit-progress-bar {\n",
              "        background: #F44336;\n",
              "    }\n",
              "</style>\n"
            ]
          },
          "metadata": {}
        },
        {
          "output_type": "display_data",
          "data": {
            "text/plain": [
              "<IPython.core.display.HTML object>"
            ],
            "text/html": [
              "<table border=\"1\" class=\"dataframe\">\n",
              "  <thead>\n",
              "    <tr style=\"text-align: left;\">\n",
              "      <th>epoch</th>\n",
              "      <th>train_loss</th>\n",
              "      <th>valid_loss</th>\n",
              "      <th>time</th>\n",
              "    </tr>\n",
              "  </thead>\n",
              "  <tbody>\n",
              "    <tr>\n",
              "      <td>0</td>\n",
              "      <td>0.961317</td>\n",
              "      <td>0.941786</td>\n",
              "      <td>00:08</td>\n",
              "    </tr>\n",
              "    <tr>\n",
              "      <td>1</td>\n",
              "      <td>0.841009</td>\n",
              "      <td>0.868684</td>\n",
              "      <td>00:08</td>\n",
              "    </tr>\n",
              "    <tr>\n",
              "      <td>2</td>\n",
              "      <td>0.713034</td>\n",
              "      <td>0.830291</td>\n",
              "      <td>00:07</td>\n",
              "    </tr>\n",
              "    <tr>\n",
              "      <td>3</td>\n",
              "      <td>0.597434</td>\n",
              "      <td>0.814958</td>\n",
              "      <td>00:07</td>\n",
              "    </tr>\n",
              "    <tr>\n",
              "      <td>4</td>\n",
              "      <td>0.464263</td>\n",
              "      <td>0.816198</td>\n",
              "      <td>00:08</td>\n",
              "    </tr>\n",
              "  </tbody>\n",
              "</table>"
            ]
          },
          "metadata": {}
        }
      ]
    },
    {
      "cell_type": "markdown",
      "source": [
        "# 임베딩과 편향의 분석\n",
        "\n",
        "발견한 파라미터 중 가장 분석이 쉬운 건 bias다.\n",
        "낮은 편향 벡터는 모든 사람들에게 있어서 그닥 좋아하지 않은 영화(평점이 다 낮음)\\\n",
        "높은 편향 벡터는 모든 사람들에게 있어 취향 타지 않고 다 좋아하는 영화(평점 높음)"
      ],
      "metadata": {
        "id": "VOzkNKSF-_C4"
      }
    },
    {
      "cell_type": "code",
      "source": [
        "movie_bias = learn.model.movie_bias.squeeze()\n",
        "idx = movie_bias.argsort()[:5] # 편향의 값이 오름차순으로 정렬한 뒤 인덱스 형식으로 반환되는데(영화의 len과 같음) index 5번째 값까지 값을 idx에 담는다.\n",
        "[dls.classes['title'][i] for i in idx]"
      ],
      "metadata": {
        "colab": {
          "base_uri": "https://localhost:8080/"
        },
        "id": "tWhEC4l4--qY",
        "outputId": "bc005973-19d0-4ce2-ed04-48dfceb58117"
      },
      "execution_count": 96,
      "outputs": [
        {
          "output_type": "execute_result",
          "data": {
            "text/plain": [
              "['Children of the Corn: The Gathering (1996)',\n",
              " 'Robocop 3 (1993)',\n",
              " 'Cable Guy, The (1996)',\n",
              " 'Mortal Kombat: Annihilation (1997)',\n",
              " \"McHale's Navy (1997)\"]"
            ]
          },
          "metadata": {},
          "execution_count": 96
        }
      ]
    },
    {
      "cell_type": "code",
      "source": [
        "# 편향이 높게 나온 영화들 \n",
        "\n",
        "movie_bias = learn.model.movie_bias.squeeze()\n",
        "idx = movie_bias.argsort(descending=True)[:5] # 편향의 값이 내림차순으로 역정렬\n",
        "[dls.classes['title'][i] for i in idx]"
      ],
      "metadata": {
        "colab": {
          "base_uri": "https://localhost:8080/"
        },
        "id": "QK60RJwtAk1O",
        "outputId": "5c5a6ce2-702f-44c8-e9bf-df66eb525470"
      },
      "execution_count": 97,
      "outputs": [
        {
          "output_type": "execute_result",
          "data": {
            "text/plain": [
              "['Shawshank Redemption, The (1994)',\n",
              " 'L.A. Confidential (1997)',\n",
              " \"Schindler's List (1993)\",\n",
              " 'Close Shave, A (1995)',\n",
              " 'Star Wars (1977)']"
            ]
          },
          "metadata": {},
          "execution_count": 97
        }
      ]
    },
    {
      "cell_type": "code",
      "source": [
        "# collab_learner 함수를 쓰면 앞에와 같이 정확한 구조로 협업 필터링 모델을 만들고 학습할 수 있다.\n",
        "\n",
        "learn = collab_learner(dls, n_factors=50, y_range=(0,5.5))\n",
        "\n",
        "learn.fit_one_cycle(5, 5e-3, wd=0.1)"
      ],
      "metadata": {
        "colab": {
          "base_uri": "https://localhost:8080/",
          "height": 206
        },
        "id": "VcEd3Ev7zcsA",
        "outputId": "b02d27ce-6484-4955-9e24-399ae3d8328c"
      },
      "execution_count": 109,
      "outputs": [
        {
          "output_type": "display_data",
          "data": {
            "text/plain": [
              "<IPython.core.display.HTML object>"
            ],
            "text/html": [
              "\n",
              "<style>\n",
              "    /* Turns off some styling */\n",
              "    progress {\n",
              "        /* gets rid of default border in Firefox and Opera. */\n",
              "        border: none;\n",
              "        /* Needs to be in here for Safari polyfill so background images work as expected. */\n",
              "        background-size: auto;\n",
              "    }\n",
              "    progress:not([value]), progress:not([value])::-webkit-progress-bar {\n",
              "        background: repeating-linear-gradient(45deg, #7e7e7e, #7e7e7e 10px, #5c5c5c 10px, #5c5c5c 20px);\n",
              "    }\n",
              "    .progress-bar-interrupted, .progress-bar-interrupted::-webkit-progress-bar {\n",
              "        background: #F44336;\n",
              "    }\n",
              "</style>\n"
            ]
          },
          "metadata": {}
        },
        {
          "output_type": "display_data",
          "data": {
            "text/plain": [
              "<IPython.core.display.HTML object>"
            ],
            "text/html": [
              "<table border=\"1\" class=\"dataframe\">\n",
              "  <thead>\n",
              "    <tr style=\"text-align: left;\">\n",
              "      <th>epoch</th>\n",
              "      <th>train_loss</th>\n",
              "      <th>valid_loss</th>\n",
              "      <th>time</th>\n",
              "    </tr>\n",
              "  </thead>\n",
              "  <tbody>\n",
              "    <tr>\n",
              "      <td>0</td>\n",
              "      <td>0.958528</td>\n",
              "      <td>0.956679</td>\n",
              "      <td>00:07</td>\n",
              "    </tr>\n",
              "    <tr>\n",
              "      <td>1</td>\n",
              "      <td>0.843165</td>\n",
              "      <td>0.875856</td>\n",
              "      <td>00:07</td>\n",
              "    </tr>\n",
              "    <tr>\n",
              "      <td>2</td>\n",
              "      <td>0.729444</td>\n",
              "      <td>0.827559</td>\n",
              "      <td>00:08</td>\n",
              "    </tr>\n",
              "    <tr>\n",
              "      <td>3</td>\n",
              "      <td>0.582684</td>\n",
              "      <td>0.812964</td>\n",
              "      <td>00:07</td>\n",
              "    </tr>\n",
              "    <tr>\n",
              "      <td>4</td>\n",
              "      <td>0.484730</td>\n",
              "      <td>0.813769</td>\n",
              "      <td>00:07</td>\n",
              "    </tr>\n",
              "  </tbody>\n",
              "</table>"
            ]
          },
          "metadata": {}
        }
      ]
    },
    {
      "cell_type": "code",
      "source": [
        "learn.model"
      ],
      "metadata": {
        "colab": {
          "base_uri": "https://localhost:8080/"
        },
        "id": "MskP8p2K0sW_",
        "outputId": "119abf08-06a5-4eae-c9c0-2e12a226f305"
      },
      "execution_count": 110,
      "outputs": [
        {
          "output_type": "execute_result",
          "data": {
            "text/plain": [
              "EmbeddingDotBias(\n",
              "  (u_weight): Embedding(944, 50)\n",
              "  (i_weight): Embedding(1665, 50)\n",
              "  (u_bias): Embedding(944, 1)\n",
              "  (i_bias): Embedding(1665, 1)\n",
              ")"
            ]
          },
          "metadata": {},
          "execution_count": 110
        }
      ]
    },
    {
      "cell_type": "code",
      "source": [
        "movie_bias = learn.model.i_bias.weight.squeeze()\n",
        "idxs = movie_bias.argsort(descending=True)[:5]\n",
        "[dls.classes['title'][i] for i in idxs]"
      ],
      "metadata": {
        "colab": {
          "base_uri": "https://localhost:8080/"
        },
        "id": "gyDboPx_1BwR",
        "outputId": "5bd85f3c-88ec-4387-9c24-034264478b5a"
      },
      "execution_count": 111,
      "outputs": [
        {
          "output_type": "execute_result",
          "data": {
            "text/plain": [
              "['Shawshank Redemption, The (1994)',\n",
              " 'L.A. Confidential (1997)',\n",
              " 'As Good As It Gets (1997)',\n",
              " 'Titanic (1997)',\n",
              " 'Star Wars (1977)']"
            ]
          },
          "metadata": {},
          "execution_count": 111
        }
      ]
    },
    {
      "cell_type": "code",
      "source": [
        "# 피타고라스의 정리를 통해 두 벡터 간의 거리를 파악할 수 있다.\n",
        "# 영화 간의 유사성은 대상 영화들을 좋아하는 사용자간의 유사성으로 정의할 수 있따.\n",
        "\n",
        "# <양들의 침묵과 유사한 영화찾기>\n",
        "\n",
        "movie_factors = learn.model.i_weight.weight\n",
        "# movie_factors.shape [1664, 50]\n",
        "idx = dls.classes['title'].o2i['Silence of the Lambs, The (1991)']\n",
        "# idx >> 1330 int\n",
        "distances = nn.CosineSimilarity(dim=1)(movie_factors, movie_factors[idx][None])\n",
        "idx = distances.argsort(descending=True)[1]\n",
        "dls.classes['title'][idx]\n",
        "# idx >> tensor([1330,  149, 1606,  ..., 1246, 1346,  935], device='cuda:0') descending=True니까 distance에서 가장 값이 큰 게 가장 비슷한 것\n",
        "# 근데 distance면 거리인데 이게 값이 작아야 좋은 거 아닌가? 왜 이렇지?\n",
        "\n",
        "# 21일 학습 결과 >> 코사인 유사도는 좌표 간의 거리를 코사인으로 계산하는데 가까울 수록 1에 가까운 값을 도출한다. \n",
        "\n",
        "movie_factors[1330] # 영화 하나의 가중치들\n",
        "\n",
        "# 영화 하나 당 50개의 가중치를 코사인 유사도를 계산해서 평균을 내어 distances에 저장하는 건가?\n",
        "\n",
        "# distances는 코사인 벡터값을 계산하는데 -1~1의 값이 도출된다.\n",
        "# https://stats.stackexchange.com/questions/198810/interpreting-negative-cosine-similarity"
      ],
      "metadata": {
        "colab": {
          "base_uri": "https://localhost:8080/"
        },
        "id": "KokU4kB21iOH",
        "outputId": "dfd15c59-6689-40f8-fb8e-8b2f9ed3748e"
      },
      "execution_count": 120,
      "outputs": [
        {
          "output_type": "execute_result",
          "data": {
            "text/plain": [
              "tensor([ 0.0108, -0.1563,  0.0355,  ..., -0.3127,  0.2777, -0.0410], device='cuda:0', grad_fn=<SumBackward1>)"
            ]
          },
          "metadata": {},
          "execution_count": 120
        }
      ]
    },
    {
      "cell_type": "markdown",
      "source": [
        "# 초기의 협업 필터링 모델 구축하기\n",
        "\n",
        "첫 사용자 같은 경우 어떠한 데이터도 보유하고 있지 않기 때문에 추천하기가 어렵다 \\\n",
        "\n",
        "평균 취향을 가진 사용자를 선택하는 것도 대안이지만 \\\n",
        "\n",
        "초기에 어떤 질문을 통해 응답을 독립변수로 임베딩 벡터를 종속변수로 설정해줄 수 있다. \\\n",
        "\n",
        "특이 값으로 몰리는 걸 막기위해 사람을 피드백 루프에 투입 시킨다."
      ],
      "metadata": {
        "id": "9NS8jnLv46ot"
      }
    },
    {
      "cell_type": "markdown",
      "source": [
        "# 협업 필터링을 위한 딥 러닝\n",
        "\n",
        "임베딩 결과를 활성에 연결하는 것이다. 그러면 행렬이 만들어진다.\n",
        "\n",
        "점곱을 계산하지 않고 임베딩 행렬을 이어붙여 임베딩 행렬의 크기가 다를 수 있다.\n",
        "\n",
        "임베딩 행렬에 권장되는 크기를 반환하는 get_emb_sz 함수를 제공한다."
      ],
      "metadata": {
        "id": "rCJlCBW47J2z"
      }
    },
    {
      "cell_type": "code",
      "source": [
        "embs = get_emb_sz(dls)\n",
        "embs # 잠재요소가 각각 74, 102개씩"
      ],
      "metadata": {
        "colab": {
          "base_uri": "https://localhost:8080/"
        },
        "id": "0638fDAT7dsl",
        "outputId": "5884b9f8-c110-4167-c7db-b2523dbe604f"
      },
      "execution_count": 102,
      "outputs": [
        {
          "output_type": "execute_result",
          "data": {
            "text/plain": [
              "[(944, 74), (1665, 102)]"
            ]
          },
          "metadata": {},
          "execution_count": 102
        }
      ]
    },
    {
      "cell_type": "code",
      "source": [
        "from torch.nn.modules.activation import ReLU\n",
        "class CollabNN(Module):\n",
        "  def __init__(self, user_sz, item_sz, y_range=(0,5.5), n_act=100):\n",
        "    self.user_factors = Embedding(*user_sz)\n",
        "    self.item_factors = Embedding(*item_sz)\n",
        "    self.layers = nn.Sequential(\n",
        "        nn.Linear(user_sz[1] + item_sz[1], n_act), # input size = user_sz[1] + item_sz[1] , output size = 100\n",
        "        nn.ReLU(),  # 비선형함수\n",
        "        nn.Linear(n_act, 1) # input 100, output 1\n",
        "    )\n",
        "    self.y_range = y_range\n",
        "\n",
        "  def forward(self, x):\n",
        "    embs = self.user_factors(x[:,0]),self.item_factors(x[:,1])\n",
        "    x = self.layers(torch.cat(embs, dim=1))\n",
        "    return sigmoid_range(x, *self.y_range)"
      ],
      "metadata": {
        "id": "pui22v4P7rpi"
      },
      "execution_count": 103,
      "outputs": []
    },
    {
      "cell_type": "code",
      "source": [
        "# 모델 생성\n",
        "\n",
        "model = CollabNN(*embs)"
      ],
      "metadata": {
        "id": "FwV-jhSa8493"
      },
      "execution_count": 123,
      "outputs": []
    },
    {
      "cell_type": "code",
      "source": [
        "# 학습 \n",
        "learn = Learner(dls, model, loss_func=MSELossFlat())\n",
        "learn.fit_one_cycle(5, 5e-3, wd=0.01)"
      ],
      "metadata": {
        "colab": {
          "base_uri": "https://localhost:8080/",
          "height": 206
        },
        "id": "YjN507Ti9UkA",
        "outputId": "1d0a757e-90e3-43ba-a8e6-fe35bbe96cdd"
      },
      "execution_count": 105,
      "outputs": [
        {
          "output_type": "display_data",
          "data": {
            "text/plain": [
              "<IPython.core.display.HTML object>"
            ],
            "text/html": [
              "\n",
              "<style>\n",
              "    /* Turns off some styling */\n",
              "    progress {\n",
              "        /* gets rid of default border in Firefox and Opera. */\n",
              "        border: none;\n",
              "        /* Needs to be in here for Safari polyfill so background images work as expected. */\n",
              "        background-size: auto;\n",
              "    }\n",
              "    progress:not([value]), progress:not([value])::-webkit-progress-bar {\n",
              "        background: repeating-linear-gradient(45deg, #7e7e7e, #7e7e7e 10px, #5c5c5c 10px, #5c5c5c 20px);\n",
              "    }\n",
              "    .progress-bar-interrupted, .progress-bar-interrupted::-webkit-progress-bar {\n",
              "        background: #F44336;\n",
              "    }\n",
              "</style>\n"
            ]
          },
          "metadata": {}
        },
        {
          "output_type": "display_data",
          "data": {
            "text/plain": [
              "<IPython.core.display.HTML object>"
            ],
            "text/html": [
              "<table border=\"1\" class=\"dataframe\">\n",
              "  <thead>\n",
              "    <tr style=\"text-align: left;\">\n",
              "      <th>epoch</th>\n",
              "      <th>train_loss</th>\n",
              "      <th>valid_loss</th>\n",
              "      <th>time</th>\n",
              "    </tr>\n",
              "  </thead>\n",
              "  <tbody>\n",
              "    <tr>\n",
              "      <td>0</td>\n",
              "      <td>0.941056</td>\n",
              "      <td>0.963680</td>\n",
              "      <td>00:08</td>\n",
              "    </tr>\n",
              "    <tr>\n",
              "      <td>1</td>\n",
              "      <td>0.912184</td>\n",
              "      <td>0.905097</td>\n",
              "      <td>00:08</td>\n",
              "    </tr>\n",
              "    <tr>\n",
              "      <td>2</td>\n",
              "      <td>0.863266</td>\n",
              "      <td>0.878397</td>\n",
              "      <td>00:09</td>\n",
              "    </tr>\n",
              "    <tr>\n",
              "      <td>3</td>\n",
              "      <td>0.785735</td>\n",
              "      <td>0.867272</td>\n",
              "      <td>00:08</td>\n",
              "    </tr>\n",
              "    <tr>\n",
              "      <td>4</td>\n",
              "      <td>0.770982</td>\n",
              "      <td>0.873330</td>\n",
              "      <td>00:10</td>\n",
              "    </tr>\n",
              "  </tbody>\n",
              "</table>"
            ]
          },
          "metadata": {}
        }
      ]
    },
    {
      "cell_type": "code",
      "source": [
        "# 다음과 같은 클래스를 사용하기 위해서는 collab_learner 함수 호출 시 use_nn=True를 인잣값으로 넘겨주면(내부적으로 get_emb_sz 호출) 된다.\n",
        "\n",
        "# 계층을 더 쌓기 위해서는 layers 파라미터에 리스트로 은닉 계층의 크기를 정하면 된다.\n",
        "\n",
        "learn = collab_learner(dls, use_nn=True, y_range=(0,5.5), layers=[200,100,50])\n",
        "learn.fit_one_cycle(5, 5e-3, wd=0.1)"
      ],
      "metadata": {
        "colab": {
          "base_uri": "https://localhost:8080/",
          "height": 206
        },
        "id": "KTk7-xdf91Yo",
        "outputId": "baf81dde-ec75-46cb-9e85-aa6803f92100"
      },
      "execution_count": 106,
      "outputs": [
        {
          "output_type": "display_data",
          "data": {
            "text/plain": [
              "<IPython.core.display.HTML object>"
            ],
            "text/html": [
              "\n",
              "<style>\n",
              "    /* Turns off some styling */\n",
              "    progress {\n",
              "        /* gets rid of default border in Firefox and Opera. */\n",
              "        border: none;\n",
              "        /* Needs to be in here for Safari polyfill so background images work as expected. */\n",
              "        background-size: auto;\n",
              "    }\n",
              "    progress:not([value]), progress:not([value])::-webkit-progress-bar {\n",
              "        background: repeating-linear-gradient(45deg, #7e7e7e, #7e7e7e 10px, #5c5c5c 10px, #5c5c5c 20px);\n",
              "    }\n",
              "    .progress-bar-interrupted, .progress-bar-interrupted::-webkit-progress-bar {\n",
              "        background: #F44336;\n",
              "    }\n",
              "</style>\n"
            ]
          },
          "metadata": {}
        },
        {
          "output_type": "display_data",
          "data": {
            "text/plain": [
              "<IPython.core.display.HTML object>"
            ],
            "text/html": [
              "<table border=\"1\" class=\"dataframe\">\n",
              "  <thead>\n",
              "    <tr style=\"text-align: left;\">\n",
              "      <th>epoch</th>\n",
              "      <th>train_loss</th>\n",
              "      <th>valid_loss</th>\n",
              "      <th>time</th>\n",
              "    </tr>\n",
              "  </thead>\n",
              "  <tbody>\n",
              "    <tr>\n",
              "      <td>0</td>\n",
              "      <td>0.986118</td>\n",
              "      <td>0.982550</td>\n",
              "      <td>00:16</td>\n",
              "    </tr>\n",
              "    <tr>\n",
              "      <td>1</td>\n",
              "      <td>0.969392</td>\n",
              "      <td>0.920935</td>\n",
              "      <td>00:10</td>\n",
              "    </tr>\n",
              "    <tr>\n",
              "      <td>2</td>\n",
              "      <td>0.839132</td>\n",
              "      <td>0.886788</td>\n",
              "      <td>00:10</td>\n",
              "    </tr>\n",
              "    <tr>\n",
              "      <td>3</td>\n",
              "      <td>0.851732</td>\n",
              "      <td>0.864995</td>\n",
              "      <td>00:10</td>\n",
              "    </tr>\n",
              "    <tr>\n",
              "      <td>4</td>\n",
              "      <td>0.767985</td>\n",
              "      <td>0.864151</td>\n",
              "      <td>00:10</td>\n",
              "    </tr>\n",
              "  </tbody>\n",
              "</table>"
            ]
          },
          "metadata": {}
        }
      ]
    },
    {
      "cell_type": "code",
      "source": [
        "# learn.model은 EmbeddingNN 유형의 객체\n",
        "\n",
        "@delegates(TabularModel)\n",
        "class EmbeddingNN(TabularModel):\n",
        "  def __init__(self, emb_szs, layers, **kwargs):\n",
        "    super().__init__(emb_szs, layers=layers, n_cont=0, out_sz=1, **kwargs)"
      ],
      "metadata": {
        "id": "OIMiQhwk91Q2"
      },
      "execution_count": 107,
      "outputs": []
    }
  ]
}
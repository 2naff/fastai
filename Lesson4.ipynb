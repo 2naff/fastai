{
  "nbformat": 4,
  "nbformat_minor": 0,
  "metadata": {
    "colab": {
      "name": "Lesson 4",
      "provenance": [],
      "collapsed_sections": [],
      "toc_visible": true
    },
    "kernelspec": {
      "name": "python3",
      "display_name": "Python 3"
    },
    "language_info": {
      "name": "python"
    },
    "accelerator": "GPU",
    "gpuClass": "standard"
  },
  "cells": [
    {
      "cell_type": "markdown",
      "source": [
        "# 모듈 "
      ],
      "metadata": {
        "id": "TbiIrQvF7ZLq"
      }
    },
    {
      "cell_type": "code",
      "execution_count": null,
      "metadata": {
        "colab": {
          "base_uri": "https://localhost:8080/"
        },
        "id": "z0cKuJZkqXke",
        "outputId": "3572d3f6-ec70-4a8f-9d36-ee21e25b90c7"
      },
      "outputs": [
        {
          "output_type": "stream",
          "name": "stdout",
          "text": [
            "\u001b[K     |████████████████████████████████| 719 kB 6.7 MB/s \n",
            "\u001b[K     |████████████████████████████████| 1.2 MB 65.0 MB/s \n",
            "\u001b[K     |████████████████████████████████| 365 kB 72.8 MB/s \n",
            "\u001b[K     |████████████████████████████████| 4.4 MB 59.9 MB/s \n",
            "\u001b[K     |████████████████████████████████| 140 kB 67.0 MB/s \n",
            "\u001b[K     |████████████████████████████████| 1.1 MB 66.6 MB/s \n",
            "\u001b[K     |████████████████████████████████| 101 kB 13.8 MB/s \n",
            "\u001b[K     |████████████████████████████████| 212 kB 70.3 MB/s \n",
            "\u001b[K     |████████████████████████████████| 596 kB 72.2 MB/s \n",
            "\u001b[K     |████████████████████████████████| 127 kB 76.4 MB/s \n",
            "\u001b[K     |████████████████████████████████| 271 kB 68.4 MB/s \n",
            "\u001b[K     |████████████████████████████████| 94 kB 4.1 MB/s \n",
            "\u001b[K     |████████████████████████████████| 144 kB 70.7 MB/s \n",
            "\u001b[K     |████████████████████████████████| 6.6 MB 51.3 MB/s \n",
            "\u001b[31mERROR: pip's dependency resolver does not currently take into account all the packages that are installed. This behaviour is the source of the following dependency conflicts.\n",
            "datascience 0.10.6 requires folium==0.2.1, but you have folium 0.8.3 which is incompatible.\u001b[0m\n",
            "\u001b[?25hMounted at /content/gdrive\n"
          ]
        }
      ],
      "source": [
        "! [ -e /content ] && pip install -Uqq fastbook\n",
        "import fastbook\n",
        "fastbook.setup_book()"
      ]
    },
    {
      "cell_type": "code",
      "source": [
        "from fastai.vision.all import *\n",
        "from fastbook import *\n",
        "\n",
        "matplotlib.rc('image', cmap='Greys')"
      ],
      "metadata": {
        "id": "Lsnzjj0ZqvAq"
      },
      "execution_count": null,
      "outputs": []
    },
    {
      "cell_type": "markdown",
      "source": [
        "# 데이터 배열화\n"
      ],
      "metadata": {
        "id": "4NrPXe1dxqM-"
      }
    },
    {
      "cell_type": "code",
      "source": [
        "# MNIST Dataset download\n",
        "\n",
        "path = untar_data(URLs.MNIST_SAMPLE)"
      ],
      "metadata": {
        "colab": {
          "base_uri": "https://localhost:8080/",
          "height": 37
        },
        "id": "_Q6anu6kqvEG",
        "outputId": "b2341781-b902-4d9f-f91e-4e85dc226766"
      },
      "execution_count": null,
      "outputs": [
        {
          "output_type": "display_data",
          "data": {
            "text/plain": [
              "<IPython.core.display.HTML object>"
            ],
            "text/html": [
              "\n",
              "<style>\n",
              "    /* Turns off some styling */\n",
              "    progress {\n",
              "        /* gets rid of default border in Firefox and Opera. */\n",
              "        border: none;\n",
              "        /* Needs to be in here for Safari polyfill so background images work as expected. */\n",
              "        background-size: auto;\n",
              "    }\n",
              "    .progress-bar-interrupted, .progress-bar-interrupted::-webkit-progress-bar {\n",
              "        background: #F44336;\n",
              "    }\n",
              "</style>\n"
            ]
          },
          "metadata": {}
        },
        {
          "output_type": "display_data",
          "data": {
            "text/plain": [
              "<IPython.core.display.HTML object>"
            ],
            "text/html": [
              "\n",
              "    <div>\n",
              "      <progress value='3219456' class='' max='3214948' style='width:300px; height:20px; vertical-align: middle;'></progress>\n",
              "      100.14% [3219456/3214948 00:00<00:00]\n",
              "    </div>\n",
              "    "
            ]
          },
          "metadata": {}
        }
      ]
    },
    {
      "cell_type": "code",
      "source": [
        "path.ls()"
      ],
      "metadata": {
        "colab": {
          "base_uri": "https://localhost:8080/"
        },
        "id": "0QcYDQMDrVCh",
        "outputId": "8d641a73-f62d-4423-c85a-f57738345a1e"
      },
      "execution_count": null,
      "outputs": [
        {
          "output_type": "execute_result",
          "data": {
            "text/plain": [
              "(#3) [Path('/root/.fastai/data/mnist_sample/valid'),Path('/root/.fastai/data/mnist_sample/labels.csv'),Path('/root/.fastai/data/mnist_sample/train')]"
            ]
          },
          "metadata": {},
          "execution_count": 4
        }
      ]
    },
    {
      "cell_type": "code",
      "source": [
        "(path/'train').ls()"
      ],
      "metadata": {
        "colab": {
          "base_uri": "https://localhost:8080/"
        },
        "id": "xx4ygl-xrlR2",
        "outputId": "bc213b42-68b6-4369-ea23-d7bceb668d7c"
      },
      "execution_count": null,
      "outputs": [
        {
          "output_type": "execute_result",
          "data": {
            "text/plain": [
              "(#2) [Path('/root/.fastai/data/mnist_sample/train/7'),Path('/root/.fastai/data/mnist_sample/train/3')]"
            ]
          },
          "metadata": {},
          "execution_count": 5
        }
      ]
    },
    {
      "cell_type": "code",
      "source": [
        "threes =(path/'train'/'3').ls().sorted()\n",
        "sevens =(path/'train'/'7').ls().sorted()\n",
        "threes"
      ],
      "metadata": {
        "colab": {
          "base_uri": "https://localhost:8080/"
        },
        "id": "DtNBk5PYrlUi",
        "outputId": "97ae9855-9d7c-4738-c263-c9536e3b5636"
      },
      "execution_count": null,
      "outputs": [
        {
          "output_type": "execute_result",
          "data": {
            "text/plain": [
              "(#6131) [Path('/root/.fastai/data/mnist_sample/train/3/10.png'),Path('/root/.fastai/data/mnist_sample/train/3/10000.png'),Path('/root/.fastai/data/mnist_sample/train/3/10011.png'),Path('/root/.fastai/data/mnist_sample/train/3/10031.png'),Path('/root/.fastai/data/mnist_sample/train/3/10034.png'),Path('/root/.fastai/data/mnist_sample/train/3/10042.png'),Path('/root/.fastai/data/mnist_sample/train/3/10052.png'),Path('/root/.fastai/data/mnist_sample/train/3/1007.png'),Path('/root/.fastai/data/mnist_sample/train/3/10074.png'),Path('/root/.fastai/data/mnist_sample/train/3/10091.png')...]"
            ]
          },
          "metadata": {},
          "execution_count": 6
        }
      ]
    },
    {
      "cell_type": "code",
      "source": [
        "im3_path = threes[1]\n",
        "im3 = Image.open(im3_path) # Image.open => PIL library\n",
        "im3"
      ],
      "metadata": {
        "colab": {
          "base_uri": "https://localhost:8080/",
          "height": 45
        },
        "id": "WCj7rPdLrlXA",
        "outputId": "bb1811a6-2634-4290-afec-ed11c1511105"
      },
      "execution_count": null,
      "outputs": [
        {
          "output_type": "execute_result",
          "data": {
            "text/plain": [
              "<PIL.PngImagePlugin.PngImageFile image mode=L size=28x28 at 0x7FDA150149D0>"
            ],
            "image/png": "[encoded data removed]"
          },
          "metadata": {},
          "execution_count": 10
        }
      ]
    },
    {
      "cell_type": "code",
      "source": [
        "# 넘파이의 배열을 사용하여 숫자를 확인하거나,\n",
        "array(im3)[4:10, 4:10]\n",
        "\n",
        "# pytorch의 tensor을 사용한다.\n",
        "tensor(im3)[4:10, 4:10]\n",
        "\n",
        "# 이때 숫자는 0 ~ 255까지 채도? 명도? 를 나타낸다."
      ],
      "metadata": {
        "colab": {
          "base_uri": "https://localhost:8080/"
        },
        "id": "2gvqvDMGrlZm",
        "outputId": "63e6cb16-2878-468b-c112-c47e77ec2179"
      },
      "execution_count": null,
      "outputs": [
        {
          "output_type": "execute_result",
          "data": {
            "text/plain": [
              "tensor([[  0,   0,   0,   0,   0,   0],\n",
              "        [  0,   0,   0,   0,   0,  29],\n",
              "        [  0,   0,   0,  48, 166, 224],\n",
              "        [  0,  93, 244, 249, 253, 187],\n",
              "        [  0, 107, 253, 253, 230,  48],\n",
              "        [  0,   3,  20,  20,  15,   0]], dtype=torch.uint8)"
            ]
          },
          "metadata": {},
          "execution_count": 12
        }
      ]
    },
    {
      "cell_type": "code",
      "source": [
        "# pandas 라이브러리를 통해 픽셀값에 맞춰 잘라낸 후 색상을 그라데이션 형태로 입힌다.\n",
        "im3_t = tensor(im3)\n",
        "df = pd.DataFrame(im3_t[4:15, 4:22])\n",
        "df.style.set_properties(**{'font-size' : '6pt'}).background_gradient('Greys')"
      ],
      "metadata": {
        "colab": {
          "base_uri": "https://localhost:8080/",
          "height": 394
        },
        "id": "qIboV0r1rlcN",
        "outputId": "4d5084df-7604-4d42-ff94-36aab55550ca"
      },
      "execution_count": null,
      "outputs": [
        {
          "output_type": "execute_result",
          "data": {
            "text/plain": [
              "<pandas.io.formats.style.Styler at 0x7fda148e8290>"
            ],
            "text/html": [
              "<style type=\"text/css\">\n",
              "#T_bb7d6_row0_col0, #T_bb7d6_row0_col1, #T_bb7d6_row0_col2, #T_bb7d6_row0_col3, #T_bb7d6_row0_col4, #T_bb7d6_row0_col5, #T_bb7d6_row0_col6, #T_bb7d6_row0_col7, #T_bb7d6_row0_col8, #T_bb7d6_row0_col9, #T_bb7d6_row0_col10, #T_bb7d6_row0_col11, #T_bb7d6_row0_col12, #T_bb7d6_row0_col13, #T_bb7d6_row0_col14, #T_bb7d6_row0_col15, #T_bb7d6_row0_col16, #T_bb7d6_row0_col17, #T_bb7d6_row1_col0, #T_bb7d6_row1_col1, #T_bb7d6_row1_col2, #T_bb7d6_row1_col3, #T_bb7d6_row1_col4, #T_bb7d6_row1_col15, #T_bb7d6_row1_col16, #T_bb7d6_row1_col17, #T_bb7d6_row2_col0, #T_bb7d6_row2_col1, #T_bb7d6_row2_col2, #T_bb7d6_row2_col15, #T_bb7d6_row2_col16, #T_bb7d6_row2_col17, #T_bb7d6_row3_col0, #T_bb7d6_row3_col15, #T_bb7d6_row3_col16, #T_bb7d6_row3_col17, #T_bb7d6_row4_col0, #T_bb7d6_row4_col6, #T_bb7d6_row4_col7, #T_bb7d6_row4_col8, #T_bb7d6_row4_col9, #T_bb7d6_row4_col10, #T_bb7d6_row4_col15, #T_bb7d6_row4_col16, #T_bb7d6_row4_col17, #T_bb7d6_row5_col0, #T_bb7d6_row5_col5, #T_bb7d6_row5_col6, #T_bb7d6_row5_col7, #T_bb7d6_row5_col8, #T_bb7d6_row5_col9, #T_bb7d6_row5_col15, #T_bb7d6_row5_col16, #T_bb7d6_row5_col17, #T_bb7d6_row6_col0, #T_bb7d6_row6_col1, #T_bb7d6_row6_col2, #T_bb7d6_row6_col3, #T_bb7d6_row6_col4, #T_bb7d6_row6_col5, #T_bb7d6_row6_col6, #T_bb7d6_row6_col7, #T_bb7d6_row6_col8, #T_bb7d6_row6_col9, #T_bb7d6_row6_col14, #T_bb7d6_row6_col15, #T_bb7d6_row6_col16, #T_bb7d6_row6_col17, #T_bb7d6_row7_col0, #T_bb7d6_row7_col1, #T_bb7d6_row7_col2, #T_bb7d6_row7_col3, #T_bb7d6_row7_col4, #T_bb7d6_row7_col5, #T_bb7d6_row7_col6, #T_bb7d6_row7_col13, #T_bb7d6_row7_col14, #T_bb7d6_row7_col15, #T_bb7d6_row7_col16, #T_bb7d6_row7_col17, #T_bb7d6_row8_col0, #T_bb7d6_row8_col1, #T_bb7d6_row8_col2, #T_bb7d6_row8_col3, #T_bb7d6_row8_col4, #T_bb7d6_row8_col13, #T_bb7d6_row8_col14, #T_bb7d6_row8_col15, #T_bb7d6_row8_col16, #T_bb7d6_row8_col17, #T_bb7d6_row9_col0, #T_bb7d6_row9_col1, #T_bb7d6_row9_col2, #T_bb7d6_row9_col3, #T_bb7d6_row9_col4, #T_bb7d6_row9_col16, #T_bb7d6_row9_col17, #T_bb7d6_row10_col0, #T_bb7d6_row10_col1, #T_bb7d6_row10_col2, #T_bb7d6_row10_col3, #T_bb7d6_row10_col4, #T_bb7d6_row10_col5, #T_bb7d6_row10_col6, #T_bb7d6_row10_col17 {\n",
              "  font-size: 6pt;\n",
              "  background-color: #ffffff;\n",
              "  color: #000000;\n",
              "}\n",
              "#T_bb7d6_row1_col5 {\n",
              "  font-size: 6pt;\n",
              "  background-color: #efefef;\n",
              "  color: #000000;\n",
              "}\n",
              "#T_bb7d6_row1_col6, #T_bb7d6_row1_col13 {\n",
              "  font-size: 6pt;\n",
              "  background-color: #7c7c7c;\n",
              "  color: #f1f1f1;\n",
              "}\n",
              "#T_bb7d6_row1_col7 {\n",
              "  font-size: 6pt;\n",
              "  background-color: #4a4a4a;\n",
              "  color: #f1f1f1;\n",
              "}\n",
              "#T_bb7d6_row1_col8, #T_bb7d6_row1_col9, #T_bb7d6_row1_col10, #T_bb7d6_row2_col5, #T_bb7d6_row2_col6, #T_bb7d6_row2_col7, #T_bb7d6_row2_col11, #T_bb7d6_row2_col12, #T_bb7d6_row2_col13, #T_bb7d6_row3_col4, #T_bb7d6_row3_col12, #T_bb7d6_row3_col13, #T_bb7d6_row4_col1, #T_bb7d6_row4_col2, #T_bb7d6_row4_col3, #T_bb7d6_row4_col12, #T_bb7d6_row4_col13, #T_bb7d6_row5_col12, #T_bb7d6_row6_col11, #T_bb7d6_row9_col11, #T_bb7d6_row10_col11, #T_bb7d6_row10_col12, #T_bb7d6_row10_col13, #T_bb7d6_row10_col14, #T_bb7d6_row10_col15, #T_bb7d6_row10_col16 {\n",
              "  font-size: 6pt;\n",
              "  background-color: #000000;\n",
              "  color: #f1f1f1;\n",
              "}\n",
              "#T_bb7d6_row1_col11 {\n",
              "  font-size: 6pt;\n",
              "  background-color: #606060;\n",
              "  color: #f1f1f1;\n",
              "}\n",
              "#T_bb7d6_row1_col12 {\n",
              "  font-size: 6pt;\n",
              "  background-color: #4d4d4d;\n",
              "  color: #f1f1f1;\n",
              "}\n",
              "#T_bb7d6_row1_col14 {\n",
              "  font-size: 6pt;\n",
              "  background-color: #bbbbbb;\n",
              "  color: #000000;\n",
              "}\n",
              "#T_bb7d6_row2_col3 {\n",
              "  font-size: 6pt;\n",
              "  background-color: #e4e4e4;\n",
              "  color: #000000;\n",
              "}\n",
              "#T_bb7d6_row2_col4, #T_bb7d6_row8_col6 {\n",
              "  font-size: 6pt;\n",
              "  background-color: #6b6b6b;\n",
              "  color: #f1f1f1;\n",
              "}\n",
              "#T_bb7d6_row2_col8, #T_bb7d6_row2_col14, #T_bb7d6_row3_col14 {\n",
              "  font-size: 6pt;\n",
              "  background-color: #171717;\n",
              "  color: #f1f1f1;\n",
              "}\n",
              "#T_bb7d6_row2_col9, #T_bb7d6_row3_col11 {\n",
              "  font-size: 6pt;\n",
              "  background-color: #4b4b4b;\n",
              "  color: #f1f1f1;\n",
              "}\n",
              "#T_bb7d6_row2_col10, #T_bb7d6_row7_col10, #T_bb7d6_row8_col8, #T_bb7d6_row8_col10, #T_bb7d6_row9_col8, #T_bb7d6_row9_col10 {\n",
              "  font-size: 6pt;\n",
              "  background-color: #010101;\n",
              "  color: #f1f1f1;\n",
              "}\n",
              "#T_bb7d6_row3_col1 {\n",
              "  font-size: 6pt;\n",
              "  background-color: #272727;\n",
              "  color: #f1f1f1;\n",
              "}\n",
              "#T_bb7d6_row3_col2 {\n",
              "  font-size: 6pt;\n",
              "  background-color: #0a0a0a;\n",
              "  color: #f1f1f1;\n",
              "}\n",
              "#T_bb7d6_row3_col3 {\n",
              "  font-size: 6pt;\n",
              "  background-color: #050505;\n",
              "  color: #f1f1f1;\n",
              "}\n",
              "#T_bb7d6_row3_col5 {\n",
              "  font-size: 6pt;\n",
              "  background-color: #333333;\n",
              "  color: #f1f1f1;\n",
              "}\n",
              "#T_bb7d6_row3_col6 {\n",
              "  font-size: 6pt;\n",
              "  background-color: #e6e6e6;\n",
              "  color: #000000;\n",
              "}\n",
              "#T_bb7d6_row3_col7, #T_bb7d6_row3_col10 {\n",
              "  font-size: 6pt;\n",
              "  background-color: #fafafa;\n",
              "  color: #000000;\n",
              "}\n",
              "#T_bb7d6_row3_col8 {\n",
              "  font-size: 6pt;\n",
              "  background-color: #fbfbfb;\n",
              "  color: #000000;\n",
              "}\n",
              "#T_bb7d6_row3_col9 {\n",
              "  font-size: 6pt;\n",
              "  background-color: #fdfdfd;\n",
              "  color: #000000;\n",
              "}\n",
              "#T_bb7d6_row4_col4 {\n",
              "  font-size: 6pt;\n",
              "  background-color: #1b1b1b;\n",
              "  color: #f1f1f1;\n",
              "}\n",
              "#T_bb7d6_row4_col5 {\n",
              "  font-size: 6pt;\n",
              "  background-color: #e0e0e0;\n",
              "  color: #000000;\n",
              "}\n",
              "#T_bb7d6_row4_col11 {\n",
              "  font-size: 6pt;\n",
              "  background-color: #4e4e4e;\n",
              "  color: #f1f1f1;\n",
              "}\n",
              "#T_bb7d6_row4_col14 {\n",
              "  font-size: 6pt;\n",
              "  background-color: #767676;\n",
              "  color: #f1f1f1;\n",
              "}\n",
              "#T_bb7d6_row5_col1 {\n",
              "  font-size: 6pt;\n",
              "  background-color: #fcfcfc;\n",
              "  color: #000000;\n",
              "}\n",
              "#T_bb7d6_row5_col2, #T_bb7d6_row5_col3 {\n",
              "  font-size: 6pt;\n",
              "  background-color: #f6f6f6;\n",
              "  color: #000000;\n",
              "}\n",
              "#T_bb7d6_row5_col4, #T_bb7d6_row7_col7 {\n",
              "  font-size: 6pt;\n",
              "  background-color: #f8f8f8;\n",
              "  color: #000000;\n",
              "}\n",
              "#T_bb7d6_row5_col10, #T_bb7d6_row10_col7 {\n",
              "  font-size: 6pt;\n",
              "  background-color: #e8e8e8;\n",
              "  color: #000000;\n",
              "}\n",
              "#T_bb7d6_row5_col11 {\n",
              "  font-size: 6pt;\n",
              "  background-color: #222222;\n",
              "  color: #f1f1f1;\n",
              "}\n",
              "#T_bb7d6_row5_col13, #T_bb7d6_row6_col12 {\n",
              "  font-size: 6pt;\n",
              "  background-color: #090909;\n",
              "  color: #f1f1f1;\n",
              "}\n",
              "#T_bb7d6_row5_col14 {\n",
              "  font-size: 6pt;\n",
              "  background-color: #d0d0d0;\n",
              "  color: #000000;\n",
              "}\n",
              "#T_bb7d6_row6_col10, #T_bb7d6_row7_col11, #T_bb7d6_row9_col6 {\n",
              "  font-size: 6pt;\n",
              "  background-color: #060606;\n",
              "  color: #f1f1f1;\n",
              "}\n",
              "#T_bb7d6_row6_col13 {\n",
              "  font-size: 6pt;\n",
              "  background-color: #979797;\n",
              "  color: #f1f1f1;\n",
              "}\n",
              "#T_bb7d6_row7_col8 {\n",
              "  font-size: 6pt;\n",
              "  background-color: #b6b6b6;\n",
              "  color: #000000;\n",
              "}\n",
              "#T_bb7d6_row7_col9 {\n",
              "  font-size: 6pt;\n",
              "  background-color: #252525;\n",
              "  color: #f1f1f1;\n",
              "}\n",
              "#T_bb7d6_row7_col12 {\n",
              "  font-size: 6pt;\n",
              "  background-color: #999999;\n",
              "  color: #f1f1f1;\n",
              "}\n",
              "#T_bb7d6_row8_col5 {\n",
              "  font-size: 6pt;\n",
              "  background-color: #f9f9f9;\n",
              "  color: #000000;\n",
              "}\n",
              "#T_bb7d6_row8_col7 {\n",
              "  font-size: 6pt;\n",
              "  background-color: #101010;\n",
              "  color: #f1f1f1;\n",
              "}\n",
              "#T_bb7d6_row8_col9, #T_bb7d6_row9_col9 {\n",
              "  font-size: 6pt;\n",
              "  background-color: #020202;\n",
              "  color: #f1f1f1;\n",
              "}\n",
              "#T_bb7d6_row8_col11 {\n",
              "  font-size: 6pt;\n",
              "  background-color: #545454;\n",
              "  color: #f1f1f1;\n",
              "}\n",
              "#T_bb7d6_row8_col12 {\n",
              "  font-size: 6pt;\n",
              "  background-color: #f1f1f1;\n",
              "  color: #000000;\n",
              "}\n",
              "#T_bb7d6_row9_col5 {\n",
              "  font-size: 6pt;\n",
              "  background-color: #f7f7f7;\n",
              "  color: #000000;\n",
              "}\n",
              "#T_bb7d6_row9_col7 {\n",
              "  font-size: 6pt;\n",
              "  background-color: #030303;\n",
              "  color: #f1f1f1;\n",
              "}\n",
              "#T_bb7d6_row9_col12 {\n",
              "  font-size: 6pt;\n",
              "  background-color: #181818;\n",
              "  color: #f1f1f1;\n",
              "}\n",
              "#T_bb7d6_row9_col13 {\n",
              "  font-size: 6pt;\n",
              "  background-color: #303030;\n",
              "  color: #f1f1f1;\n",
              "}\n",
              "#T_bb7d6_row9_col14 {\n",
              "  font-size: 6pt;\n",
              "  background-color: #a9a9a9;\n",
              "  color: #f1f1f1;\n",
              "}\n",
              "#T_bb7d6_row9_col15 {\n",
              "  font-size: 6pt;\n",
              "  background-color: #fefefe;\n",
              "  color: #000000;\n",
              "}\n",
              "#T_bb7d6_row10_col8, #T_bb7d6_row10_col9 {\n",
              "  font-size: 6pt;\n",
              "  background-color: #bababa;\n",
              "  color: #000000;\n",
              "}\n",
              "#T_bb7d6_row10_col10 {\n",
              "  font-size: 6pt;\n",
              "  background-color: #393939;\n",
              "  color: #f1f1f1;\n",
              "}\n",
              "</style>\n",
              "<table id=\"T_bb7d6_\" class=\"dataframe\">\n",
              "  <thead>\n",
              "    <tr>\n",
              "      <th class=\"blank level0\" >&nbsp;</th>\n",
              "      <th class=\"col_heading level0 col0\" >0</th>\n",
              "      <th class=\"col_heading level0 col1\" >1</th>\n",
              "      <th class=\"col_heading level0 col2\" >2</th>\n",
              "      <th class=\"col_heading level0 col3\" >3</th>\n",
              "      <th class=\"col_heading level0 col4\" >4</th>\n",
              "      <th class=\"col_heading level0 col5\" >5</th>\n",
              "      <th class=\"col_heading level0 col6\" >6</th>\n",
              "      <th class=\"col_heading level0 col7\" >7</th>\n",
              "      <th class=\"col_heading level0 col8\" >8</th>\n",
              "      <th class=\"col_heading level0 col9\" >9</th>\n",
              "      <th class=\"col_heading level0 col10\" >10</th>\n",
              "      <th class=\"col_heading level0 col11\" >11</th>\n",
              "      <th class=\"col_heading level0 col12\" >12</th>\n",
              "      <th class=\"col_heading level0 col13\" >13</th>\n",
              "      <th class=\"col_heading level0 col14\" >14</th>\n",
              "      <th class=\"col_heading level0 col15\" >15</th>\n",
              "      <th class=\"col_heading level0 col16\" >16</th>\n",
              "      <th class=\"col_heading level0 col17\" >17</th>\n",
              "    </tr>\n",
              "  </thead>\n",
              "  <tbody>\n",
              "    <tr>\n",
              "      <th id=\"T_bb7d6_level0_row0\" class=\"row_heading level0 row0\" >0</th>\n",
              "      <td id=\"T_bb7d6_row0_col0\" class=\"data row0 col0\" >0</td>\n",
              "      <td id=\"T_bb7d6_row0_col1\" class=\"data row0 col1\" >0</td>\n",
              "      <td id=\"T_bb7d6_row0_col2\" class=\"data row0 col2\" >0</td>\n",
              "      <td id=\"T_bb7d6_row0_col3\" class=\"data row0 col3\" >0</td>\n",
              "      <td id=\"T_bb7d6_row0_col4\" class=\"data row0 col4\" >0</td>\n",
              "      <td id=\"T_bb7d6_row0_col5\" class=\"data row0 col5\" >0</td>\n",
              "      <td id=\"T_bb7d6_row0_col6\" class=\"data row0 col6\" >0</td>\n",
              "      <td id=\"T_bb7d6_row0_col7\" class=\"data row0 col7\" >0</td>\n",
              "      <td id=\"T_bb7d6_row0_col8\" class=\"data row0 col8\" >0</td>\n",
              "      <td id=\"T_bb7d6_row0_col9\" class=\"data row0 col9\" >0</td>\n",
              "      <td id=\"T_bb7d6_row0_col10\" class=\"data row0 col10\" >0</td>\n",
              "      <td id=\"T_bb7d6_row0_col11\" class=\"data row0 col11\" >0</td>\n",
              "      <td id=\"T_bb7d6_row0_col12\" class=\"data row0 col12\" >0</td>\n",
              "      <td id=\"T_bb7d6_row0_col13\" class=\"data row0 col13\" >0</td>\n",
              "      <td id=\"T_bb7d6_row0_col14\" class=\"data row0 col14\" >0</td>\n",
              "      <td id=\"T_bb7d6_row0_col15\" class=\"data row0 col15\" >0</td>\n",
              "      <td id=\"T_bb7d6_row0_col16\" class=\"data row0 col16\" >0</td>\n",
              "      <td id=\"T_bb7d6_row0_col17\" class=\"data row0 col17\" >0</td>\n",
              "    </tr>\n",
              "    <tr>\n",
              "      <th id=\"T_bb7d6_level0_row1\" class=\"row_heading level0 row1\" >1</th>\n",
              "      <td id=\"T_bb7d6_row1_col0\" class=\"data row1 col0\" >0</td>\n",
              "      <td id=\"T_bb7d6_row1_col1\" class=\"data row1 col1\" >0</td>\n",
              "      <td id=\"T_bb7d6_row1_col2\" class=\"data row1 col2\" >0</td>\n",
              "      <td id=\"T_bb7d6_row1_col3\" class=\"data row1 col3\" >0</td>\n",
              "      <td id=\"T_bb7d6_row1_col4\" class=\"data row1 col4\" >0</td>\n",
              "      <td id=\"T_bb7d6_row1_col5\" class=\"data row1 col5\" >29</td>\n",
              "      <td id=\"T_bb7d6_row1_col6\" class=\"data row1 col6\" >150</td>\n",
              "      <td id=\"T_bb7d6_row1_col7\" class=\"data row1 col7\" >195</td>\n",
              "      <td id=\"T_bb7d6_row1_col8\" class=\"data row1 col8\" >254</td>\n",
              "      <td id=\"T_bb7d6_row1_col9\" class=\"data row1 col9\" >255</td>\n",
              "      <td id=\"T_bb7d6_row1_col10\" class=\"data row1 col10\" >254</td>\n",
              "      <td id=\"T_bb7d6_row1_col11\" class=\"data row1 col11\" >176</td>\n",
              "      <td id=\"T_bb7d6_row1_col12\" class=\"data row1 col12\" >193</td>\n",
              "      <td id=\"T_bb7d6_row1_col13\" class=\"data row1 col13\" >150</td>\n",
              "      <td id=\"T_bb7d6_row1_col14\" class=\"data row1 col14\" >96</td>\n",
              "      <td id=\"T_bb7d6_row1_col15\" class=\"data row1 col15\" >0</td>\n",
              "      <td id=\"T_bb7d6_row1_col16\" class=\"data row1 col16\" >0</td>\n",
              "      <td id=\"T_bb7d6_row1_col17\" class=\"data row1 col17\" >0</td>\n",
              "    </tr>\n",
              "    <tr>\n",
              "      <th id=\"T_bb7d6_level0_row2\" class=\"row_heading level0 row2\" >2</th>\n",
              "      <td id=\"T_bb7d6_row2_col0\" class=\"data row2 col0\" >0</td>\n",
              "      <td id=\"T_bb7d6_row2_col1\" class=\"data row2 col1\" >0</td>\n",
              "      <td id=\"T_bb7d6_row2_col2\" class=\"data row2 col2\" >0</td>\n",
              "      <td id=\"T_bb7d6_row2_col3\" class=\"data row2 col3\" >48</td>\n",
              "      <td id=\"T_bb7d6_row2_col4\" class=\"data row2 col4\" >166</td>\n",
              "      <td id=\"T_bb7d6_row2_col5\" class=\"data row2 col5\" >224</td>\n",
              "      <td id=\"T_bb7d6_row2_col6\" class=\"data row2 col6\" >253</td>\n",
              "      <td id=\"T_bb7d6_row2_col7\" class=\"data row2 col7\" >253</td>\n",
              "      <td id=\"T_bb7d6_row2_col8\" class=\"data row2 col8\" >234</td>\n",
              "      <td id=\"T_bb7d6_row2_col9\" class=\"data row2 col9\" >196</td>\n",
              "      <td id=\"T_bb7d6_row2_col10\" class=\"data row2 col10\" >253</td>\n",
              "      <td id=\"T_bb7d6_row2_col11\" class=\"data row2 col11\" >253</td>\n",
              "      <td id=\"T_bb7d6_row2_col12\" class=\"data row2 col12\" >253</td>\n",
              "      <td id=\"T_bb7d6_row2_col13\" class=\"data row2 col13\" >253</td>\n",
              "      <td id=\"T_bb7d6_row2_col14\" class=\"data row2 col14\" >233</td>\n",
              "      <td id=\"T_bb7d6_row2_col15\" class=\"data row2 col15\" >0</td>\n",
              "      <td id=\"T_bb7d6_row2_col16\" class=\"data row2 col16\" >0</td>\n",
              "      <td id=\"T_bb7d6_row2_col17\" class=\"data row2 col17\" >0</td>\n",
              "    </tr>\n",
              "    <tr>\n",
              "      <th id=\"T_bb7d6_level0_row3\" class=\"row_heading level0 row3\" >3</th>\n",
              "      <td id=\"T_bb7d6_row3_col0\" class=\"data row3 col0\" >0</td>\n",
              "      <td id=\"T_bb7d6_row3_col1\" class=\"data row3 col1\" >93</td>\n",
              "      <td id=\"T_bb7d6_row3_col2\" class=\"data row3 col2\" >244</td>\n",
              "      <td id=\"T_bb7d6_row3_col3\" class=\"data row3 col3\" >249</td>\n",
              "      <td id=\"T_bb7d6_row3_col4\" class=\"data row3 col4\" >253</td>\n",
              "      <td id=\"T_bb7d6_row3_col5\" class=\"data row3 col5\" >187</td>\n",
              "      <td id=\"T_bb7d6_row3_col6\" class=\"data row3 col6\" >46</td>\n",
              "      <td id=\"T_bb7d6_row3_col7\" class=\"data row3 col7\" >10</td>\n",
              "      <td id=\"T_bb7d6_row3_col8\" class=\"data row3 col8\" >8</td>\n",
              "      <td id=\"T_bb7d6_row3_col9\" class=\"data row3 col9\" >4</td>\n",
              "      <td id=\"T_bb7d6_row3_col10\" class=\"data row3 col10\" >10</td>\n",
              "      <td id=\"T_bb7d6_row3_col11\" class=\"data row3 col11\" >194</td>\n",
              "      <td id=\"T_bb7d6_row3_col12\" class=\"data row3 col12\" >253</td>\n",
              "      <td id=\"T_bb7d6_row3_col13\" class=\"data row3 col13\" >253</td>\n",
              "      <td id=\"T_bb7d6_row3_col14\" class=\"data row3 col14\" >233</td>\n",
              "      <td id=\"T_bb7d6_row3_col15\" class=\"data row3 col15\" >0</td>\n",
              "      <td id=\"T_bb7d6_row3_col16\" class=\"data row3 col16\" >0</td>\n",
              "      <td id=\"T_bb7d6_row3_col17\" class=\"data row3 col17\" >0</td>\n",
              "    </tr>\n",
              "    <tr>\n",
              "      <th id=\"T_bb7d6_level0_row4\" class=\"row_heading level0 row4\" >4</th>\n",
              "      <td id=\"T_bb7d6_row4_col0\" class=\"data row4 col0\" >0</td>\n",
              "      <td id=\"T_bb7d6_row4_col1\" class=\"data row4 col1\" >107</td>\n",
              "      <td id=\"T_bb7d6_row4_col2\" class=\"data row4 col2\" >253</td>\n",
              "      <td id=\"T_bb7d6_row4_col3\" class=\"data row4 col3\" >253</td>\n",
              "      <td id=\"T_bb7d6_row4_col4\" class=\"data row4 col4\" >230</td>\n",
              "      <td id=\"T_bb7d6_row4_col5\" class=\"data row4 col5\" >48</td>\n",
              "      <td id=\"T_bb7d6_row4_col6\" class=\"data row4 col6\" >0</td>\n",
              "      <td id=\"T_bb7d6_row4_col7\" class=\"data row4 col7\" >0</td>\n",
              "      <td id=\"T_bb7d6_row4_col8\" class=\"data row4 col8\" >0</td>\n",
              "      <td id=\"T_bb7d6_row4_col9\" class=\"data row4 col9\" >0</td>\n",
              "      <td id=\"T_bb7d6_row4_col10\" class=\"data row4 col10\" >0</td>\n",
              "      <td id=\"T_bb7d6_row4_col11\" class=\"data row4 col11\" >192</td>\n",
              "      <td id=\"T_bb7d6_row4_col12\" class=\"data row4 col12\" >253</td>\n",
              "      <td id=\"T_bb7d6_row4_col13\" class=\"data row4 col13\" >253</td>\n",
              "      <td id=\"T_bb7d6_row4_col14\" class=\"data row4 col14\" >156</td>\n",
              "      <td id=\"T_bb7d6_row4_col15\" class=\"data row4 col15\" >0</td>\n",
              "      <td id=\"T_bb7d6_row4_col16\" class=\"data row4 col16\" >0</td>\n",
              "      <td id=\"T_bb7d6_row4_col17\" class=\"data row4 col17\" >0</td>\n",
              "    </tr>\n",
              "    <tr>\n",
              "      <th id=\"T_bb7d6_level0_row5\" class=\"row_heading level0 row5\" >5</th>\n",
              "      <td id=\"T_bb7d6_row5_col0\" class=\"data row5 col0\" >0</td>\n",
              "      <td id=\"T_bb7d6_row5_col1\" class=\"data row5 col1\" >3</td>\n",
              "      <td id=\"T_bb7d6_row5_col2\" class=\"data row5 col2\" >20</td>\n",
              "      <td id=\"T_bb7d6_row5_col3\" class=\"data row5 col3\" >20</td>\n",
              "      <td id=\"T_bb7d6_row5_col4\" class=\"data row5 col4\" >15</td>\n",
              "      <td id=\"T_bb7d6_row5_col5\" class=\"data row5 col5\" >0</td>\n",
              "      <td id=\"T_bb7d6_row5_col6\" class=\"data row5 col6\" >0</td>\n",
              "      <td id=\"T_bb7d6_row5_col7\" class=\"data row5 col7\" >0</td>\n",
              "      <td id=\"T_bb7d6_row5_col8\" class=\"data row5 col8\" >0</td>\n",
              "      <td id=\"T_bb7d6_row5_col9\" class=\"data row5 col9\" >0</td>\n",
              "      <td id=\"T_bb7d6_row5_col10\" class=\"data row5 col10\" >43</td>\n",
              "      <td id=\"T_bb7d6_row5_col11\" class=\"data row5 col11\" >224</td>\n",
              "      <td id=\"T_bb7d6_row5_col12\" class=\"data row5 col12\" >253</td>\n",
              "      <td id=\"T_bb7d6_row5_col13\" class=\"data row5 col13\" >245</td>\n",
              "      <td id=\"T_bb7d6_row5_col14\" class=\"data row5 col14\" >74</td>\n",
              "      <td id=\"T_bb7d6_row5_col15\" class=\"data row5 col15\" >0</td>\n",
              "      <td id=\"T_bb7d6_row5_col16\" class=\"data row5 col16\" >0</td>\n",
              "      <td id=\"T_bb7d6_row5_col17\" class=\"data row5 col17\" >0</td>\n",
              "    </tr>\n",
              "    <tr>\n",
              "      <th id=\"T_bb7d6_level0_row6\" class=\"row_heading level0 row6\" >6</th>\n",
              "      <td id=\"T_bb7d6_row6_col0\" class=\"data row6 col0\" >0</td>\n",
              "      <td id=\"T_bb7d6_row6_col1\" class=\"data row6 col1\" >0</td>\n",
              "      <td id=\"T_bb7d6_row6_col2\" class=\"data row6 col2\" >0</td>\n",
              "      <td id=\"T_bb7d6_row6_col3\" class=\"data row6 col3\" >0</td>\n",
              "      <td id=\"T_bb7d6_row6_col4\" class=\"data row6 col4\" >0</td>\n",
              "      <td id=\"T_bb7d6_row6_col5\" class=\"data row6 col5\" >0</td>\n",
              "      <td id=\"T_bb7d6_row6_col6\" class=\"data row6 col6\" >0</td>\n",
              "      <td id=\"T_bb7d6_row6_col7\" class=\"data row6 col7\" >0</td>\n",
              "      <td id=\"T_bb7d6_row6_col8\" class=\"data row6 col8\" >0</td>\n",
              "      <td id=\"T_bb7d6_row6_col9\" class=\"data row6 col9\" >0</td>\n",
              "      <td id=\"T_bb7d6_row6_col10\" class=\"data row6 col10\" >249</td>\n",
              "      <td id=\"T_bb7d6_row6_col11\" class=\"data row6 col11\" >253</td>\n",
              "      <td id=\"T_bb7d6_row6_col12\" class=\"data row6 col12\" >245</td>\n",
              "      <td id=\"T_bb7d6_row6_col13\" class=\"data row6 col13\" >126</td>\n",
              "      <td id=\"T_bb7d6_row6_col14\" class=\"data row6 col14\" >0</td>\n",
              "      <td id=\"T_bb7d6_row6_col15\" class=\"data row6 col15\" >0</td>\n",
              "      <td id=\"T_bb7d6_row6_col16\" class=\"data row6 col16\" >0</td>\n",
              "      <td id=\"T_bb7d6_row6_col17\" class=\"data row6 col17\" >0</td>\n",
              "    </tr>\n",
              "    <tr>\n",
              "      <th id=\"T_bb7d6_level0_row7\" class=\"row_heading level0 row7\" >7</th>\n",
              "      <td id=\"T_bb7d6_row7_col0\" class=\"data row7 col0\" >0</td>\n",
              "      <td id=\"T_bb7d6_row7_col1\" class=\"data row7 col1\" >0</td>\n",
              "      <td id=\"T_bb7d6_row7_col2\" class=\"data row7 col2\" >0</td>\n",
              "      <td id=\"T_bb7d6_row7_col3\" class=\"data row7 col3\" >0</td>\n",
              "      <td id=\"T_bb7d6_row7_col4\" class=\"data row7 col4\" >0</td>\n",
              "      <td id=\"T_bb7d6_row7_col5\" class=\"data row7 col5\" >0</td>\n",
              "      <td id=\"T_bb7d6_row7_col6\" class=\"data row7 col6\" >0</td>\n",
              "      <td id=\"T_bb7d6_row7_col7\" class=\"data row7 col7\" >14</td>\n",
              "      <td id=\"T_bb7d6_row7_col8\" class=\"data row7 col8\" >101</td>\n",
              "      <td id=\"T_bb7d6_row7_col9\" class=\"data row7 col9\" >223</td>\n",
              "      <td id=\"T_bb7d6_row7_col10\" class=\"data row7 col10\" >253</td>\n",
              "      <td id=\"T_bb7d6_row7_col11\" class=\"data row7 col11\" >248</td>\n",
              "      <td id=\"T_bb7d6_row7_col12\" class=\"data row7 col12\" >124</td>\n",
              "      <td id=\"T_bb7d6_row7_col13\" class=\"data row7 col13\" >0</td>\n",
              "      <td id=\"T_bb7d6_row7_col14\" class=\"data row7 col14\" >0</td>\n",
              "      <td id=\"T_bb7d6_row7_col15\" class=\"data row7 col15\" >0</td>\n",
              "      <td id=\"T_bb7d6_row7_col16\" class=\"data row7 col16\" >0</td>\n",
              "      <td id=\"T_bb7d6_row7_col17\" class=\"data row7 col17\" >0</td>\n",
              "    </tr>\n",
              "    <tr>\n",
              "      <th id=\"T_bb7d6_level0_row8\" class=\"row_heading level0 row8\" >8</th>\n",
              "      <td id=\"T_bb7d6_row8_col0\" class=\"data row8 col0\" >0</td>\n",
              "      <td id=\"T_bb7d6_row8_col1\" class=\"data row8 col1\" >0</td>\n",
              "      <td id=\"T_bb7d6_row8_col2\" class=\"data row8 col2\" >0</td>\n",
              "      <td id=\"T_bb7d6_row8_col3\" class=\"data row8 col3\" >0</td>\n",
              "      <td id=\"T_bb7d6_row8_col4\" class=\"data row8 col4\" >0</td>\n",
              "      <td id=\"T_bb7d6_row8_col5\" class=\"data row8 col5\" >11</td>\n",
              "      <td id=\"T_bb7d6_row8_col6\" class=\"data row8 col6\" >166</td>\n",
              "      <td id=\"T_bb7d6_row8_col7\" class=\"data row8 col7\" >239</td>\n",
              "      <td id=\"T_bb7d6_row8_col8\" class=\"data row8 col8\" >253</td>\n",
              "      <td id=\"T_bb7d6_row8_col9\" class=\"data row8 col9\" >253</td>\n",
              "      <td id=\"T_bb7d6_row8_col10\" class=\"data row8 col10\" >253</td>\n",
              "      <td id=\"T_bb7d6_row8_col11\" class=\"data row8 col11\" >187</td>\n",
              "      <td id=\"T_bb7d6_row8_col12\" class=\"data row8 col12\" >30</td>\n",
              "      <td id=\"T_bb7d6_row8_col13\" class=\"data row8 col13\" >0</td>\n",
              "      <td id=\"T_bb7d6_row8_col14\" class=\"data row8 col14\" >0</td>\n",
              "      <td id=\"T_bb7d6_row8_col15\" class=\"data row8 col15\" >0</td>\n",
              "      <td id=\"T_bb7d6_row8_col16\" class=\"data row8 col16\" >0</td>\n",
              "      <td id=\"T_bb7d6_row8_col17\" class=\"data row8 col17\" >0</td>\n",
              "    </tr>\n",
              "    <tr>\n",
              "      <th id=\"T_bb7d6_level0_row9\" class=\"row_heading level0 row9\" >9</th>\n",
              "      <td id=\"T_bb7d6_row9_col0\" class=\"data row9 col0\" >0</td>\n",
              "      <td id=\"T_bb7d6_row9_col1\" class=\"data row9 col1\" >0</td>\n",
              "      <td id=\"T_bb7d6_row9_col2\" class=\"data row9 col2\" >0</td>\n",
              "      <td id=\"T_bb7d6_row9_col3\" class=\"data row9 col3\" >0</td>\n",
              "      <td id=\"T_bb7d6_row9_col4\" class=\"data row9 col4\" >0</td>\n",
              "      <td id=\"T_bb7d6_row9_col5\" class=\"data row9 col5\" >16</td>\n",
              "      <td id=\"T_bb7d6_row9_col6\" class=\"data row9 col6\" >248</td>\n",
              "      <td id=\"T_bb7d6_row9_col7\" class=\"data row9 col7\" >250</td>\n",
              "      <td id=\"T_bb7d6_row9_col8\" class=\"data row9 col8\" >253</td>\n",
              "      <td id=\"T_bb7d6_row9_col9\" class=\"data row9 col9\" >253</td>\n",
              "      <td id=\"T_bb7d6_row9_col10\" class=\"data row9 col10\" >253</td>\n",
              "      <td id=\"T_bb7d6_row9_col11\" class=\"data row9 col11\" >253</td>\n",
              "      <td id=\"T_bb7d6_row9_col12\" class=\"data row9 col12\" >232</td>\n",
              "      <td id=\"T_bb7d6_row9_col13\" class=\"data row9 col13\" >213</td>\n",
              "      <td id=\"T_bb7d6_row9_col14\" class=\"data row9 col14\" >111</td>\n",
              "      <td id=\"T_bb7d6_row9_col15\" class=\"data row9 col15\" >2</td>\n",
              "      <td id=\"T_bb7d6_row9_col16\" class=\"data row9 col16\" >0</td>\n",
              "      <td id=\"T_bb7d6_row9_col17\" class=\"data row9 col17\" >0</td>\n",
              "    </tr>\n",
              "    <tr>\n",
              "      <th id=\"T_bb7d6_level0_row10\" class=\"row_heading level0 row10\" >10</th>\n",
              "      <td id=\"T_bb7d6_row10_col0\" class=\"data row10 col0\" >0</td>\n",
              "      <td id=\"T_bb7d6_row10_col1\" class=\"data row10 col1\" >0</td>\n",
              "      <td id=\"T_bb7d6_row10_col2\" class=\"data row10 col2\" >0</td>\n",
              "      <td id=\"T_bb7d6_row10_col3\" class=\"data row10 col3\" >0</td>\n",
              "      <td id=\"T_bb7d6_row10_col4\" class=\"data row10 col4\" >0</td>\n",
              "      <td id=\"T_bb7d6_row10_col5\" class=\"data row10 col5\" >0</td>\n",
              "      <td id=\"T_bb7d6_row10_col6\" class=\"data row10 col6\" >0</td>\n",
              "      <td id=\"T_bb7d6_row10_col7\" class=\"data row10 col7\" >43</td>\n",
              "      <td id=\"T_bb7d6_row10_col8\" class=\"data row10 col8\" >98</td>\n",
              "      <td id=\"T_bb7d6_row10_col9\" class=\"data row10 col9\" >98</td>\n",
              "      <td id=\"T_bb7d6_row10_col10\" class=\"data row10 col10\" >208</td>\n",
              "      <td id=\"T_bb7d6_row10_col11\" class=\"data row10 col11\" >253</td>\n",
              "      <td id=\"T_bb7d6_row10_col12\" class=\"data row10 col12\" >253</td>\n",
              "      <td id=\"T_bb7d6_row10_col13\" class=\"data row10 col13\" >253</td>\n",
              "      <td id=\"T_bb7d6_row10_col14\" class=\"data row10 col14\" >253</td>\n",
              "      <td id=\"T_bb7d6_row10_col15\" class=\"data row10 col15\" >187</td>\n",
              "      <td id=\"T_bb7d6_row10_col16\" class=\"data row10 col16\" >22</td>\n",
              "      <td id=\"T_bb7d6_row10_col17\" class=\"data row10 col17\" >0</td>\n",
              "    </tr>\n",
              "  </tbody>\n",
              "</table>\n"
            ]
          },
          "metadata": {},
          "execution_count": 13
        }
      ]
    },
    {
      "cell_type": "code",
      "source": [
        "# 모든 자료들을 텐서로 저장\n",
        "# * 리스트 컴프리헨션 학습 할 것\n",
        "seven_tensors = [tensor(Image.open(o)) for o in sevens]\n",
        "three_tensors = [tensor(Image.open(o)) for o in threes]\n",
        "len(seven_tensors), len(three_tensors)"
      ],
      "metadata": {
        "colab": {
          "base_uri": "https://localhost:8080/"
        },
        "id": "OCxwpTkXrlfg",
        "outputId": "c4b3e5ff-91eb-4d8b-a2d9-d7303ef89803"
      },
      "execution_count": null,
      "outputs": [
        {
          "output_type": "execute_result",
          "data": {
            "text/plain": [
              "(6265, 6131)"
            ]
          },
          "metadata": {},
          "execution_count": 14
        }
      ]
    },
    {
      "cell_type": "code",
      "source": [
        "# 이미지 출력\n",
        "show_image(three_tensors[1]) # PIL library?"
      ],
      "metadata": {
        "colab": {
          "base_uri": "https://localhost:8080/",
          "height": 103
        },
        "id": "QpPEkWxQuz_J",
        "outputId": "4ff5b2a3-edd9-4d83-a8a2-56b02516a8a4"
      },
      "execution_count": null,
      "outputs": [
        {
          "output_type": "execute_result",
          "data": {
            "text/plain": [
              "<matplotlib.axes._subplots.AxesSubplot at 0x7fda13c07710>"
            ]
          },
          "metadata": {},
          "execution_count": 17
        },
        {
          "output_type": "display_data",
          "data": {
            "text/plain": [
              "<Figure size 72x72 with 1 Axes>"
            ],
            "image/png": "[encoded data removed]"
          },
          "metadata": {
            "needs_background": "light"
          }
        }
      ]
    },
    {
      "cell_type": "code",
      "source": [
        "# 스택과 동시에 부동소수로 표현\n",
        "stacked_threes = torch.stack(three_tensors).float()/255\n",
        "stacked_sevens = torch.stack(seven_tensors).float()/255\n",
        "stacked_threes.shape \n",
        "# shape는 축의 크기, rank 는 축의 갯수"
      ],
      "metadata": {
        "colab": {
          "base_uri": "https://localhost:8080/"
        },
        "id": "EtSYLDufuz8K",
        "outputId": "8050f0b4-6a0f-4430-ddc8-a850c380b650"
      },
      "execution_count": null,
      "outputs": [
        {
          "output_type": "execute_result",
          "data": {
            "text/plain": [
              "torch.Size([6131, 28, 28])"
            ]
          },
          "metadata": {},
          "execution_count": 18
        }
      ]
    },
    {
      "cell_type": "code",
      "source": [
        "stacked_threes.ndim\n",
        "# 3차원 형태"
      ],
      "metadata": {
        "colab": {
          "base_uri": "https://localhost:8080/"
        },
        "id": "cjBcnMLjuz5S",
        "outputId": "27286197-ab8a-4e54-f82c-24fd489ba831"
      },
      "execution_count": null,
      "outputs": [
        {
          "output_type": "execute_result",
          "data": {
            "text/plain": [
              "3"
            ]
          },
          "metadata": {},
          "execution_count": 20
        }
      ]
    },
    {
      "cell_type": "code",
      "source": [
        "# 쌓아 올린 텐서들을 가지고 해당 픽셀의 평균값을 구한 뒤 하나의 이미지로 새롭게 정의한다.\n",
        "\n",
        "# 모든 3의 픽셀값에 따른 평균 이미지 재해석\n",
        "mean3 = stacked_threes.mean(0) # <- 왜 함수의 인자로 0이 들어가는가? 1, 2, -1 다 안됨\n",
        "show_image(mean3)\n",
        "\n",
        "# 모든 7의 텐서의 픽셀값에 따른 평균 이미지 재해석\n",
        "mean7 = stacked_sevens.mean(0)\n",
        "show_image(mean7)"
      ],
      "metadata": {
        "colab": {
          "base_uri": "https://localhost:8080/",
          "height": 171
        },
        "id": "BPjAxoVAykXv",
        "outputId": "998d6d20-1641-4cfe-d544-afd8c4fcfb82"
      },
      "execution_count": null,
      "outputs": [
        {
          "output_type": "execute_result",
          "data": {
            "text/plain": [
              "<matplotlib.axes._subplots.AxesSubplot at 0x7fda139140d0>"
            ]
          },
          "metadata": {},
          "execution_count": 25
        },
        {
          "output_type": "display_data",
          "data": {
            "text/plain": [
              "<Figure size 72x72 with 1 Axes>"
            ],
            "image/png": "[encoded data removed]"
          },
          "metadata": {
            "needs_background": "light"
          }
        },
        {
          "output_type": "display_data",
          "data": {
            "text/plain": [
              "<Figure size 72x72 with 1 Axes>"
            ],
            "image/png": "[encoded data removed]"
          },
          "metadata": {
            "needs_background": "light"
          }
        }
      ]
    },
    {
      "cell_type": "code",
      "source": [
        "# 차이의 절댓값에 대한 평균 : L1 노름, 평균절대차\n",
        "# 차이의 제곱에 대한 절댓값 후 제곱근 : L2 노름, 평균제곱근오차\n",
        "\n",
        "a_3 = stacked_threes[1]\n",
        "show_image(a_3)"
      ],
      "metadata": {
        "colab": {
          "base_uri": "https://localhost:8080/",
          "height": 103
        },
        "id": "6d6wHdsFykas",
        "outputId": "12ecfa90-c0be-40f3-d60f-37a5e7ca6d87"
      },
      "execution_count": null,
      "outputs": [
        {
          "output_type": "execute_result",
          "data": {
            "text/plain": [
              "<matplotlib.axes._subplots.AxesSubplot at 0x7fda138f5890>"
            ]
          },
          "metadata": {},
          "execution_count": 26
        },
        {
          "output_type": "display_data",
          "data": {
            "text/plain": [
              "<Figure size 72x72 with 1 Axes>"
            ],
            "image/png": "[encoded data removed]"
          },
          "metadata": {
            "needs_background": "light"
          }
        }
      ]
    },
    {
      "cell_type": "code",
      "source": [
        "dist_3_abs = (a_3 - mean3).abs().mean() # absolute\n",
        "dist_3_sqr = ((a_3 - mean3)**2).mean().sqrt() # squared\n",
        "dist_3_abs, dist_3_sqr\n",
        "\n",
        "# (tensor(0.1114), tensor(0.2021))\n",
        "\n",
        "dist_7_abs = (a_3 - mean7).abs().mean()\n",
        "dist_7_sqr = ((a_3 - mean7)**2).mean().sqrt()\n",
        "dist_7_abs, dist_7_sqr\n",
        "\n",
        "# (tensor(0.1586), tensor(0.3021))"
      ],
      "metadata": {
        "colab": {
          "base_uri": "https://localhost:8080/"
        },
        "id": "pdWthfUpykgS",
        "outputId": "7df7ae10-f236-45a0-9de8-20af60be2d90"
      },
      "execution_count": null,
      "outputs": [
        {
          "output_type": "execute_result",
          "data": {
            "text/plain": [
              "(tensor(0.1586), tensor(0.3021))"
            ]
          },
          "metadata": {},
          "execution_count": 30
        }
      ]
    },
    {
      "cell_type": "code",
      "source": [
        "# 손실함수로 표현하는 방법\n",
        "\n",
        "F.l1_loss(a_3.float(), mean7), F.mse_loss(a_3, mean7).sqrt()\n",
        "\n",
        "# l1 손실함수, 평균제곱오차에서 제곱근 사용"
      ],
      "metadata": {
        "colab": {
          "base_uri": "https://localhost:8080/"
        },
        "id": "JnNzC5pS2BH7",
        "outputId": "91b3a525-80c5-40ff-ab25-5e62cb2f525f"
      },
      "execution_count": null,
      "outputs": [
        {
          "output_type": "execute_result",
          "data": {
            "text/plain": [
              "(tensor(0.1586), tensor(0.3021))"
            ]
          },
          "metadata": {},
          "execution_count": 32
        }
      ]
    },
    {
      "cell_type": "markdown",
      "source": [
        "# tensor과 numpy의 차이?\n",
        "\n",
        "* 기본적으로 numpy는 c언어를 기반으로 만들어졌기 때문에 다양한 형태의 데이터를 담을 수 있고, 자료형만 같다면 다양한 모습으로 연산을 통해 배열을 만들 수 있다.\n",
        "\n",
        "* numpy는 연산을 압축하여 메모리에 저장하기에 매우 빠른 속도를 자랑한다.\n",
        "\n",
        "* tensor는 수치형 데이터만 사용할 수 있으며, 다양한 모습으로 변할 수 없어 항상 사각형을 유지해야 한다.\n",
        "\n",
        "* 단, GPU에 연산을 맡길 수 있어 수 많은 양에 대한 연산이 매우 빠르게 적용하고, 자동으로 미분을 해주기도 한다."
      ],
      "metadata": {
        "id": "TxRvjPCt433r"
      }
    },
    {
      "cell_type": "code",
      "source": [
        "data = [[12, 35, 32], [10, 39, 20]]\n",
        "arr = array(data)\n",
        "tns = tensor(data)\n",
        "\n",
        "arr \n",
        "# array([[12, 35, 32], [10, 39, 20]])\n",
        "\n",
        "tns\n",
        "# tensor([[12, 35, 32], [10, 39, 20]])"
      ],
      "metadata": {
        "colab": {
          "base_uri": "https://localhost:8080/"
        },
        "id": "xIpfyiHk2BEr",
        "outputId": "47745fa5-732a-4499-a78c-0e78423c6007"
      },
      "execution_count": null,
      "outputs": [
        {
          "output_type": "execute_result",
          "data": {
            "text/plain": [
              "tensor([[12, 35, 32],\n",
              "        [10, 39, 20]])"
            ]
          },
          "metadata": {},
          "execution_count": 9
        }
      ]
    },
    {
      "cell_type": "code",
      "source": [
        "# tns[행 : 열]\n",
        "tns[1] # tensor([10, 39, 20]) : 인덱스 1에 해당되는 행을 들고온다. 2행\n",
        "\n",
        "tns[:, 0] # tensor([12, 10]) : 인덱스 0에 해당되는 열을 들고온다. 모든 행에 대한 1열"
      ],
      "metadata": {
        "colab": {
          "base_uri": "https://localhost:8080/"
        },
        "id": "lOQbSyxy2BCE",
        "outputId": "a30c41b2-09b7-4456-914e-7309c6889ea4"
      },
      "execution_count": null,
      "outputs": [
        {
          "output_type": "execute_result",
          "data": {
            "text/plain": [
              "tensor([12, 10])"
            ]
          },
          "metadata": {},
          "execution_count": 11
        }
      ]
    },
    {
      "cell_type": "markdown",
      "source": [
        "# 4.3"
      ],
      "metadata": {
        "id": "agIB7EC67GYJ"
      }
    }
  ]
}
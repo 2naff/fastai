{
  "nbformat": 4,
  "nbformat_minor": 0,
  "metadata": {
    "colab": {
      "name": "Lesson4",
      "provenance": [],
      "collapsed_sections": [],
      "toc_visible": true
    },
    "kernelspec": {
      "name": "python3",
      "display_name": "Python 3"
    },
    "language_info": {
      "name": "python"
    },
    "accelerator": "GPU",
    "gpuClass": "standard"
  },
  "cells": [
    {
      "cell_type": "markdown",
      "source": [
        "# 모듈 "
      ],
      "metadata": {
        "id": "TbiIrQvF7ZLq"
      }
    },
    {
      "cell_type": "code",
      "execution_count": 3,
      "metadata": {
        "id": "z0cKuJZkqXke",
        "colab": {
          "base_uri": "https://localhost:8080/"
        },
        "outputId": "52b5feb3-1ecd-4073-91af-1931c45e44a1"
      },
      "outputs": [
        {
          "output_type": "stream",
          "name": "stdout",
          "text": [
            "\u001b[K     |████████████████████████████████| 719 kB 8.1 MB/s \n",
            "\u001b[K     |████████████████████████████████| 1.2 MB 20.7 MB/s \n",
            "\u001b[K     |████████████████████████████████| 365 kB 48.4 MB/s \n",
            "\u001b[K     |████████████████████████████████| 4.7 MB 54.1 MB/s \n",
            "\u001b[K     |████████████████████████████████| 115 kB 60.6 MB/s \n",
            "\u001b[K     |████████████████████████████████| 212 kB 59.7 MB/s \n",
            "\u001b[K     |████████████████████████████████| 141 kB 46.9 MB/s \n",
            "\u001b[K     |████████████████████████████████| 101 kB 10.5 MB/s \n",
            "\u001b[K     |████████████████████████████████| 596 kB 50.6 MB/s \n",
            "\u001b[K     |████████████████████████████████| 127 kB 49.1 MB/s \n",
            "\u001b[K     |████████████████████████████████| 6.6 MB 29.9 MB/s \n",
            "\u001b[?25hMounted at /content/gdrive\n"
          ]
        }
      ],
      "source": [
        "! [ -e /content ] && pip install -Uqq fastbook\n",
        "import fastbook\n",
        "fastbook.setup_book()"
      ]
    },
    {
      "cell_type": "code",
      "source": [
        "from fastai.vision.all import *\n",
        "from fastbook import *\n",
        "\n",
        "matplotlib.rc('image', cmap='Greys')"
      ],
      "metadata": {
        "id": "Lsnzjj0ZqvAq"
      },
      "execution_count": 4,
      "outputs": []
    },
    {
      "cell_type": "markdown",
      "source": [
        "# 데이터 배열화\n"
      ],
      "metadata": {
        "id": "4NrPXe1dxqM-"
      }
    },
    {
      "cell_type": "code",
      "source": [
        "# MNIST Dataset download\n",
        "\n",
        "path = untar_data(URLs.MNIST_SAMPLE)"
      ],
      "metadata": {
        "id": "_Q6anu6kqvEG",
        "colab": {
          "base_uri": "https://localhost:8080/",
          "height": 37
        },
        "outputId": "49335482-5629-47b1-d95f-6fec826b99ed"
      },
      "execution_count": 5,
      "outputs": [
        {
          "output_type": "display_data",
          "data": {
            "text/plain": [
              "<IPython.core.display.HTML object>"
            ],
            "text/html": [
              "\n",
              "<style>\n",
              "    /* Turns off some styling */\n",
              "    progress {\n",
              "        /* gets rid of default border in Firefox and Opera. */\n",
              "        border: none;\n",
              "        /* Needs to be in here for Safari polyfill so background images work as expected. */\n",
              "        background-size: auto;\n",
              "    }\n",
              "    progress:not([value]), progress:not([value])::-webkit-progress-bar {\n",
              "        background: repeating-linear-gradient(45deg, #7e7e7e, #7e7e7e 10px, #5c5c5c 10px, #5c5c5c 20px);\n",
              "    }\n",
              "    .progress-bar-interrupted, .progress-bar-interrupted::-webkit-progress-bar {\n",
              "        background: #F44336;\n",
              "    }\n",
              "</style>\n"
            ]
          },
          "metadata": {}
        },
        {
          "output_type": "display_data",
          "data": {
            "text/plain": [
              "<IPython.core.display.HTML object>"
            ],
            "text/html": [
              "\n",
              "    <div>\n",
              "      <progress value='3219456' class='' max='3214948' style='width:300px; height:20px; vertical-align: middle;'></progress>\n",
              "      100.14% [3219456/3214948 00:00&lt;00:00]\n",
              "    </div>\n",
              "    "
            ]
          },
          "metadata": {}
        }
      ]
    },
    {
      "cell_type": "code",
      "source": [
        "path.ls()"
      ],
      "metadata": {
        "colab": {
          "base_uri": "https://localhost:8080/"
        },
        "id": "0QcYDQMDrVCh",
        "outputId": "c473aae7-3cad-4c86-eeb0-f545dd360b2c"
      },
      "execution_count": 6,
      "outputs": [
        {
          "output_type": "execute_result",
          "data": {
            "text/plain": [
              "(#3) [Path('/root/.fastai/data/mnist_sample/labels.csv'),Path('/root/.fastai/data/mnist_sample/train'),Path('/root/.fastai/data/mnist_sample/valid')]"
            ]
          },
          "metadata": {},
          "execution_count": 6
        }
      ]
    },
    {
      "cell_type": "code",
      "source": [
        "(path/'train').ls()"
      ],
      "metadata": {
        "colab": {
          "base_uri": "https://localhost:8080/"
        },
        "id": "xx4ygl-xrlR2",
        "outputId": "fcf6efab-75c8-43d3-8527-d5dcf284f60b"
      },
      "execution_count": 7,
      "outputs": [
        {
          "output_type": "execute_result",
          "data": {
            "text/plain": [
              "(#2) [Path('/root/.fastai/data/mnist_sample/train/7'),Path('/root/.fastai/data/mnist_sample/train/3')]"
            ]
          },
          "metadata": {},
          "execution_count": 7
        }
      ]
    },
    {
      "cell_type": "code",
      "source": [
        "threes =(path/'train'/'3').ls().sorted()\n",
        "sevens =(path/'train'/'7').ls().sorted()\n",
        "threes"
      ],
      "metadata": {
        "colab": {
          "base_uri": "https://localhost:8080/"
        },
        "id": "DtNBk5PYrlUi",
        "outputId": "d56c1f5b-dd6c-4c5b-db45-ee55ad420715"
      },
      "execution_count": 8,
      "outputs": [
        {
          "output_type": "execute_result",
          "data": {
            "text/plain": [
              "(#6131) [Path('/root/.fastai/data/mnist_sample/train/3/10.png'),Path('/root/.fastai/data/mnist_sample/train/3/10000.png'),Path('/root/.fastai/data/mnist_sample/train/3/10011.png'),Path('/root/.fastai/data/mnist_sample/train/3/10031.png'),Path('/root/.fastai/data/mnist_sample/train/3/10034.png'),Path('/root/.fastai/data/mnist_sample/train/3/10042.png'),Path('/root/.fastai/data/mnist_sample/train/3/10052.png'),Path('/root/.fastai/data/mnist_sample/train/3/1007.png'),Path('/root/.fastai/data/mnist_sample/train/3/10074.png'),Path('/root/.fastai/data/mnist_sample/train/3/10091.png')...]"
            ]
          },
          "metadata": {},
          "execution_count": 8
        }
      ]
    },
    {
      "cell_type": "code",
      "source": [
        "im3_path = threes[1]\n",
        "im3 = Image.open(im3_path) # Image.open => PIL library\n",
        "im3"
      ],
      "metadata": {
        "colab": {
          "base_uri": "https://localhost:8080/",
          "height": 45
        },
        "id": "WCj7rPdLrlXA",
        "outputId": "9324c5d3-c1b1-4628-ee29-c9c8c566a266"
      },
      "execution_count": 9,
      "outputs": [
        {
          "output_type": "execute_result",
          "data": {
            "text/plain": [
              "<PIL.PngImagePlugin.PngImageFile image mode=L size=28x28 at 0x7FD299621C90>"
            ],
            "image/png": "[encoded data removed]"
          },
          "metadata": {},
          "execution_count": 9
        }
      ]
    },
    {
      "cell_type": "code",
      "source": [
        "# 넘파이의 배열을 사용하여 숫자를 확인하거나,\n",
        "array(im3)[4:10, 4:10]\n",
        "\n",
        "# pytorch의 tensor을 사용한다.\n",
        "tensor(im3)[4:10, 4:10]\n",
        "\n",
        "# 이때 숫자는 0 ~ 255까지 채도? 명도? 를 나타낸다."
      ],
      "metadata": {
        "colab": {
          "base_uri": "https://localhost:8080/"
        },
        "id": "2gvqvDMGrlZm",
        "outputId": "a194fb70-ec41-4701-8fb4-fc4d34159914"
      },
      "execution_count": 10,
      "outputs": [
        {
          "output_type": "execute_result",
          "data": {
            "text/plain": [
              "tensor([[  0,   0,   0,   0,   0,   0],\n",
              "        [  0,   0,   0,   0,   0,  29],\n",
              "        [  0,   0,   0,  48, 166, 224],\n",
              "        [  0,  93, 244, 249, 253, 187],\n",
              "        [  0, 107, 253, 253, 230,  48],\n",
              "        [  0,   3,  20,  20,  15,   0]], dtype=torch.uint8)"
            ]
          },
          "metadata": {},
          "execution_count": 10
        }
      ]
    },
    {
      "cell_type": "code",
      "source": [
        "# pandas 라이브러리를 통해 픽셀값에 맞춰 잘라낸 후 색상을 그라데이션 형태로 입힌다.\n",
        "im3_t = tensor(im3)\n",
        "df = pd.DataFrame(im3_t[4:15, 4:22])\n",
        "df.style.set_properties(**{'font-size' : '6pt'}).background_gradient('Greys')"
      ],
      "metadata": {
        "colab": {
          "base_uri": "https://localhost:8080/",
          "height": 394
        },
        "id": "qIboV0r1rlcN",
        "outputId": "bd96dbac-359e-4000-d370-ac1773aa6ad5"
      },
      "execution_count": 11,
      "outputs": [
        {
          "output_type": "execute_result",
          "data": {
            "text/plain": [
              "<pandas.io.formats.style.Styler at 0x7fd299621590>"
            ],
            "text/html": [
              "<style type=\"text/css\">\n",
              "#T_a7eb9_row0_col0, #T_a7eb9_row0_col1, #T_a7eb9_row0_col2, #T_a7eb9_row0_col3, #T_a7eb9_row0_col4, #T_a7eb9_row0_col5, #T_a7eb9_row0_col6, #T_a7eb9_row0_col7, #T_a7eb9_row0_col8, #T_a7eb9_row0_col9, #T_a7eb9_row0_col10, #T_a7eb9_row0_col11, #T_a7eb9_row0_col12, #T_a7eb9_row0_col13, #T_a7eb9_row0_col14, #T_a7eb9_row0_col15, #T_a7eb9_row0_col16, #T_a7eb9_row0_col17, #T_a7eb9_row1_col0, #T_a7eb9_row1_col1, #T_a7eb9_row1_col2, #T_a7eb9_row1_col3, #T_a7eb9_row1_col4, #T_a7eb9_row1_col15, #T_a7eb9_row1_col16, #T_a7eb9_row1_col17, #T_a7eb9_row2_col0, #T_a7eb9_row2_col1, #T_a7eb9_row2_col2, #T_a7eb9_row2_col15, #T_a7eb9_row2_col16, #T_a7eb9_row2_col17, #T_a7eb9_row3_col0, #T_a7eb9_row3_col15, #T_a7eb9_row3_col16, #T_a7eb9_row3_col17, #T_a7eb9_row4_col0, #T_a7eb9_row4_col6, #T_a7eb9_row4_col7, #T_a7eb9_row4_col8, #T_a7eb9_row4_col9, #T_a7eb9_row4_col10, #T_a7eb9_row4_col15, #T_a7eb9_row4_col16, #T_a7eb9_row4_col17, #T_a7eb9_row5_col0, #T_a7eb9_row5_col5, #T_a7eb9_row5_col6, #T_a7eb9_row5_col7, #T_a7eb9_row5_col8, #T_a7eb9_row5_col9, #T_a7eb9_row5_col15, #T_a7eb9_row5_col16, #T_a7eb9_row5_col17, #T_a7eb9_row6_col0, #T_a7eb9_row6_col1, #T_a7eb9_row6_col2, #T_a7eb9_row6_col3, #T_a7eb9_row6_col4, #T_a7eb9_row6_col5, #T_a7eb9_row6_col6, #T_a7eb9_row6_col7, #T_a7eb9_row6_col8, #T_a7eb9_row6_col9, #T_a7eb9_row6_col14, #T_a7eb9_row6_col15, #T_a7eb9_row6_col16, #T_a7eb9_row6_col17, #T_a7eb9_row7_col0, #T_a7eb9_row7_col1, #T_a7eb9_row7_col2, #T_a7eb9_row7_col3, #T_a7eb9_row7_col4, #T_a7eb9_row7_col5, #T_a7eb9_row7_col6, #T_a7eb9_row7_col13, #T_a7eb9_row7_col14, #T_a7eb9_row7_col15, #T_a7eb9_row7_col16, #T_a7eb9_row7_col17, #T_a7eb9_row8_col0, #T_a7eb9_row8_col1, #T_a7eb9_row8_col2, #T_a7eb9_row8_col3, #T_a7eb9_row8_col4, #T_a7eb9_row8_col13, #T_a7eb9_row8_col14, #T_a7eb9_row8_col15, #T_a7eb9_row8_col16, #T_a7eb9_row8_col17, #T_a7eb9_row9_col0, #T_a7eb9_row9_col1, #T_a7eb9_row9_col2, #T_a7eb9_row9_col3, #T_a7eb9_row9_col4, #T_a7eb9_row9_col16, #T_a7eb9_row9_col17, #T_a7eb9_row10_col0, #T_a7eb9_row10_col1, #T_a7eb9_row10_col2, #T_a7eb9_row10_col3, #T_a7eb9_row10_col4, #T_a7eb9_row10_col5, #T_a7eb9_row10_col6, #T_a7eb9_row10_col17 {\n",
              "  font-size: 6pt;\n",
              "  background-color: #ffffff;\n",
              "  color: #000000;\n",
              "}\n",
              "#T_a7eb9_row1_col5 {\n",
              "  font-size: 6pt;\n",
              "  background-color: #efefef;\n",
              "  color: #000000;\n",
              "}\n",
              "#T_a7eb9_row1_col6, #T_a7eb9_row1_col13 {\n",
              "  font-size: 6pt;\n",
              "  background-color: #7c7c7c;\n",
              "  color: #f1f1f1;\n",
              "}\n",
              "#T_a7eb9_row1_col7 {\n",
              "  font-size: 6pt;\n",
              "  background-color: #4a4a4a;\n",
              "  color: #f1f1f1;\n",
              "}\n",
              "#T_a7eb9_row1_col8, #T_a7eb9_row1_col9, #T_a7eb9_row1_col10, #T_a7eb9_row2_col5, #T_a7eb9_row2_col6, #T_a7eb9_row2_col7, #T_a7eb9_row2_col11, #T_a7eb9_row2_col12, #T_a7eb9_row2_col13, #T_a7eb9_row3_col4, #T_a7eb9_row3_col12, #T_a7eb9_row3_col13, #T_a7eb9_row4_col1, #T_a7eb9_row4_col2, #T_a7eb9_row4_col3, #T_a7eb9_row4_col12, #T_a7eb9_row4_col13, #T_a7eb9_row5_col12, #T_a7eb9_row6_col11, #T_a7eb9_row9_col11, #T_a7eb9_row10_col11, #T_a7eb9_row10_col12, #T_a7eb9_row10_col13, #T_a7eb9_row10_col14, #T_a7eb9_row10_col15, #T_a7eb9_row10_col16 {\n",
              "  font-size: 6pt;\n",
              "  background-color: #000000;\n",
              "  color: #f1f1f1;\n",
              "}\n",
              "#T_a7eb9_row1_col11 {\n",
              "  font-size: 6pt;\n",
              "  background-color: #606060;\n",
              "  color: #f1f1f1;\n",
              "}\n",
              "#T_a7eb9_row1_col12 {\n",
              "  font-size: 6pt;\n",
              "  background-color: #4d4d4d;\n",
              "  color: #f1f1f1;\n",
              "}\n",
              "#T_a7eb9_row1_col14 {\n",
              "  font-size: 6pt;\n",
              "  background-color: #bbbbbb;\n",
              "  color: #000000;\n",
              "}\n",
              "#T_a7eb9_row2_col3 {\n",
              "  font-size: 6pt;\n",
              "  background-color: #e4e4e4;\n",
              "  color: #000000;\n",
              "}\n",
              "#T_a7eb9_row2_col4, #T_a7eb9_row8_col6 {\n",
              "  font-size: 6pt;\n",
              "  background-color: #6b6b6b;\n",
              "  color: #f1f1f1;\n",
              "}\n",
              "#T_a7eb9_row2_col8, #T_a7eb9_row2_col14, #T_a7eb9_row3_col14 {\n",
              "  font-size: 6pt;\n",
              "  background-color: #171717;\n",
              "  color: #f1f1f1;\n",
              "}\n",
              "#T_a7eb9_row2_col9, #T_a7eb9_row3_col11 {\n",
              "  font-size: 6pt;\n",
              "  background-color: #4b4b4b;\n",
              "  color: #f1f1f1;\n",
              "}\n",
              "#T_a7eb9_row2_col10, #T_a7eb9_row7_col10, #T_a7eb9_row8_col8, #T_a7eb9_row8_col10, #T_a7eb9_row9_col8, #T_a7eb9_row9_col10 {\n",
              "  font-size: 6pt;\n",
              "  background-color: #010101;\n",
              "  color: #f1f1f1;\n",
              "}\n",
              "#T_a7eb9_row3_col1 {\n",
              "  font-size: 6pt;\n",
              "  background-color: #272727;\n",
              "  color: #f1f1f1;\n",
              "}\n",
              "#T_a7eb9_row3_col2 {\n",
              "  font-size: 6pt;\n",
              "  background-color: #0a0a0a;\n",
              "  color: #f1f1f1;\n",
              "}\n",
              "#T_a7eb9_row3_col3 {\n",
              "  font-size: 6pt;\n",
              "  background-color: #050505;\n",
              "  color: #f1f1f1;\n",
              "}\n",
              "#T_a7eb9_row3_col5 {\n",
              "  font-size: 6pt;\n",
              "  background-color: #333333;\n",
              "  color: #f1f1f1;\n",
              "}\n",
              "#T_a7eb9_row3_col6 {\n",
              "  font-size: 6pt;\n",
              "  background-color: #e6e6e6;\n",
              "  color: #000000;\n",
              "}\n",
              "#T_a7eb9_row3_col7, #T_a7eb9_row3_col10 {\n",
              "  font-size: 6pt;\n",
              "  background-color: #fafafa;\n",
              "  color: #000000;\n",
              "}\n",
              "#T_a7eb9_row3_col8 {\n",
              "  font-size: 6pt;\n",
              "  background-color: #fbfbfb;\n",
              "  color: #000000;\n",
              "}\n",
              "#T_a7eb9_row3_col9 {\n",
              "  font-size: 6pt;\n",
              "  background-color: #fdfdfd;\n",
              "  color: #000000;\n",
              "}\n",
              "#T_a7eb9_row4_col4 {\n",
              "  font-size: 6pt;\n",
              "  background-color: #1b1b1b;\n",
              "  color: #f1f1f1;\n",
              "}\n",
              "#T_a7eb9_row4_col5 {\n",
              "  font-size: 6pt;\n",
              "  background-color: #e0e0e0;\n",
              "  color: #000000;\n",
              "}\n",
              "#T_a7eb9_row4_col11 {\n",
              "  font-size: 6pt;\n",
              "  background-color: #4e4e4e;\n",
              "  color: #f1f1f1;\n",
              "}\n",
              "#T_a7eb9_row4_col14 {\n",
              "  font-size: 6pt;\n",
              "  background-color: #767676;\n",
              "  color: #f1f1f1;\n",
              "}\n",
              "#T_a7eb9_row5_col1 {\n",
              "  font-size: 6pt;\n",
              "  background-color: #fcfcfc;\n",
              "  color: #000000;\n",
              "}\n",
              "#T_a7eb9_row5_col2, #T_a7eb9_row5_col3 {\n",
              "  font-size: 6pt;\n",
              "  background-color: #f6f6f6;\n",
              "  color: #000000;\n",
              "}\n",
              "#T_a7eb9_row5_col4, #T_a7eb9_row7_col7 {\n",
              "  font-size: 6pt;\n",
              "  background-color: #f8f8f8;\n",
              "  color: #000000;\n",
              "}\n",
              "#T_a7eb9_row5_col10, #T_a7eb9_row10_col7 {\n",
              "  font-size: 6pt;\n",
              "  background-color: #e8e8e8;\n",
              "  color: #000000;\n",
              "}\n",
              "#T_a7eb9_row5_col11 {\n",
              "  font-size: 6pt;\n",
              "  background-color: #222222;\n",
              "  color: #f1f1f1;\n",
              "}\n",
              "#T_a7eb9_row5_col13, #T_a7eb9_row6_col12 {\n",
              "  font-size: 6pt;\n",
              "  background-color: #090909;\n",
              "  color: #f1f1f1;\n",
              "}\n",
              "#T_a7eb9_row5_col14 {\n",
              "  font-size: 6pt;\n",
              "  background-color: #d0d0d0;\n",
              "  color: #000000;\n",
              "}\n",
              "#T_a7eb9_row6_col10, #T_a7eb9_row7_col11, #T_a7eb9_row9_col6 {\n",
              "  font-size: 6pt;\n",
              "  background-color: #060606;\n",
              "  color: #f1f1f1;\n",
              "}\n",
              "#T_a7eb9_row6_col13 {\n",
              "  font-size: 6pt;\n",
              "  background-color: #979797;\n",
              "  color: #f1f1f1;\n",
              "}\n",
              "#T_a7eb9_row7_col8 {\n",
              "  font-size: 6pt;\n",
              "  background-color: #b6b6b6;\n",
              "  color: #000000;\n",
              "}\n",
              "#T_a7eb9_row7_col9 {\n",
              "  font-size: 6pt;\n",
              "  background-color: #252525;\n",
              "  color: #f1f1f1;\n",
              "}\n",
              "#T_a7eb9_row7_col12 {\n",
              "  font-size: 6pt;\n",
              "  background-color: #999999;\n",
              "  color: #f1f1f1;\n",
              "}\n",
              "#T_a7eb9_row8_col5 {\n",
              "  font-size: 6pt;\n",
              "  background-color: #f9f9f9;\n",
              "  color: #000000;\n",
              "}\n",
              "#T_a7eb9_row8_col7 {\n",
              "  font-size: 6pt;\n",
              "  background-color: #101010;\n",
              "  color: #f1f1f1;\n",
              "}\n",
              "#T_a7eb9_row8_col9, #T_a7eb9_row9_col9 {\n",
              "  font-size: 6pt;\n",
              "  background-color: #020202;\n",
              "  color: #f1f1f1;\n",
              "}\n",
              "#T_a7eb9_row8_col11 {\n",
              "  font-size: 6pt;\n",
              "  background-color: #545454;\n",
              "  color: #f1f1f1;\n",
              "}\n",
              "#T_a7eb9_row8_col12 {\n",
              "  font-size: 6pt;\n",
              "  background-color: #f1f1f1;\n",
              "  color: #000000;\n",
              "}\n",
              "#T_a7eb9_row9_col5 {\n",
              "  font-size: 6pt;\n",
              "  background-color: #f7f7f7;\n",
              "  color: #000000;\n",
              "}\n",
              "#T_a7eb9_row9_col7 {\n",
              "  font-size: 6pt;\n",
              "  background-color: #030303;\n",
              "  color: #f1f1f1;\n",
              "}\n",
              "#T_a7eb9_row9_col12 {\n",
              "  font-size: 6pt;\n",
              "  background-color: #181818;\n",
              "  color: #f1f1f1;\n",
              "}\n",
              "#T_a7eb9_row9_col13 {\n",
              "  font-size: 6pt;\n",
              "  background-color: #303030;\n",
              "  color: #f1f1f1;\n",
              "}\n",
              "#T_a7eb9_row9_col14 {\n",
              "  font-size: 6pt;\n",
              "  background-color: #a9a9a9;\n",
              "  color: #f1f1f1;\n",
              "}\n",
              "#T_a7eb9_row9_col15 {\n",
              "  font-size: 6pt;\n",
              "  background-color: #fefefe;\n",
              "  color: #000000;\n",
              "}\n",
              "#T_a7eb9_row10_col8, #T_a7eb9_row10_col9 {\n",
              "  font-size: 6pt;\n",
              "  background-color: #bababa;\n",
              "  color: #000000;\n",
              "}\n",
              "#T_a7eb9_row10_col10 {\n",
              "  font-size: 6pt;\n",
              "  background-color: #393939;\n",
              "  color: #f1f1f1;\n",
              "}\n",
              "</style>\n",
              "<table id=\"T_a7eb9_\" class=\"dataframe\">\n",
              "  <thead>\n",
              "    <tr>\n",
              "      <th class=\"blank level0\" >&nbsp;</th>\n",
              "      <th class=\"col_heading level0 col0\" >0</th>\n",
              "      <th class=\"col_heading level0 col1\" >1</th>\n",
              "      <th class=\"col_heading level0 col2\" >2</th>\n",
              "      <th class=\"col_heading level0 col3\" >3</th>\n",
              "      <th class=\"col_heading level0 col4\" >4</th>\n",
              "      <th class=\"col_heading level0 col5\" >5</th>\n",
              "      <th class=\"col_heading level0 col6\" >6</th>\n",
              "      <th class=\"col_heading level0 col7\" >7</th>\n",
              "      <th class=\"col_heading level0 col8\" >8</th>\n",
              "      <th class=\"col_heading level0 col9\" >9</th>\n",
              "      <th class=\"col_heading level0 col10\" >10</th>\n",
              "      <th class=\"col_heading level0 col11\" >11</th>\n",
              "      <th class=\"col_heading level0 col12\" >12</th>\n",
              "      <th class=\"col_heading level0 col13\" >13</th>\n",
              "      <th class=\"col_heading level0 col14\" >14</th>\n",
              "      <th class=\"col_heading level0 col15\" >15</th>\n",
              "      <th class=\"col_heading level0 col16\" >16</th>\n",
              "      <th class=\"col_heading level0 col17\" >17</th>\n",
              "    </tr>\n",
              "  </thead>\n",
              "  <tbody>\n",
              "    <tr>\n",
              "      <th id=\"T_a7eb9_level0_row0\" class=\"row_heading level0 row0\" >0</th>\n",
              "      <td id=\"T_a7eb9_row0_col0\" class=\"data row0 col0\" >0</td>\n",
              "      <td id=\"T_a7eb9_row0_col1\" class=\"data row0 col1\" >0</td>\n",
              "      <td id=\"T_a7eb9_row0_col2\" class=\"data row0 col2\" >0</td>\n",
              "      <td id=\"T_a7eb9_row0_col3\" class=\"data row0 col3\" >0</td>\n",
              "      <td id=\"T_a7eb9_row0_col4\" class=\"data row0 col4\" >0</td>\n",
              "      <td id=\"T_a7eb9_row0_col5\" class=\"data row0 col5\" >0</td>\n",
              "      <td id=\"T_a7eb9_row0_col6\" class=\"data row0 col6\" >0</td>\n",
              "      <td id=\"T_a7eb9_row0_col7\" class=\"data row0 col7\" >0</td>\n",
              "      <td id=\"T_a7eb9_row0_col8\" class=\"data row0 col8\" >0</td>\n",
              "      <td id=\"T_a7eb9_row0_col9\" class=\"data row0 col9\" >0</td>\n",
              "      <td id=\"T_a7eb9_row0_col10\" class=\"data row0 col10\" >0</td>\n",
              "      <td id=\"T_a7eb9_row0_col11\" class=\"data row0 col11\" >0</td>\n",
              "      <td id=\"T_a7eb9_row0_col12\" class=\"data row0 col12\" >0</td>\n",
              "      <td id=\"T_a7eb9_row0_col13\" class=\"data row0 col13\" >0</td>\n",
              "      <td id=\"T_a7eb9_row0_col14\" class=\"data row0 col14\" >0</td>\n",
              "      <td id=\"T_a7eb9_row0_col15\" class=\"data row0 col15\" >0</td>\n",
              "      <td id=\"T_a7eb9_row0_col16\" class=\"data row0 col16\" >0</td>\n",
              "      <td id=\"T_a7eb9_row0_col17\" class=\"data row0 col17\" >0</td>\n",
              "    </tr>\n",
              "    <tr>\n",
              "      <th id=\"T_a7eb9_level0_row1\" class=\"row_heading level0 row1\" >1</th>\n",
              "      <td id=\"T_a7eb9_row1_col0\" class=\"data row1 col0\" >0</td>\n",
              "      <td id=\"T_a7eb9_row1_col1\" class=\"data row1 col1\" >0</td>\n",
              "      <td id=\"T_a7eb9_row1_col2\" class=\"data row1 col2\" >0</td>\n",
              "      <td id=\"T_a7eb9_row1_col3\" class=\"data row1 col3\" >0</td>\n",
              "      <td id=\"T_a7eb9_row1_col4\" class=\"data row1 col4\" >0</td>\n",
              "      <td id=\"T_a7eb9_row1_col5\" class=\"data row1 col5\" >29</td>\n",
              "      <td id=\"T_a7eb9_row1_col6\" class=\"data row1 col6\" >150</td>\n",
              "      <td id=\"T_a7eb9_row1_col7\" class=\"data row1 col7\" >195</td>\n",
              "      <td id=\"T_a7eb9_row1_col8\" class=\"data row1 col8\" >254</td>\n",
              "      <td id=\"T_a7eb9_row1_col9\" class=\"data row1 col9\" >255</td>\n",
              "      <td id=\"T_a7eb9_row1_col10\" class=\"data row1 col10\" >254</td>\n",
              "      <td id=\"T_a7eb9_row1_col11\" class=\"data row1 col11\" >176</td>\n",
              "      <td id=\"T_a7eb9_row1_col12\" class=\"data row1 col12\" >193</td>\n",
              "      <td id=\"T_a7eb9_row1_col13\" class=\"data row1 col13\" >150</td>\n",
              "      <td id=\"T_a7eb9_row1_col14\" class=\"data row1 col14\" >96</td>\n",
              "      <td id=\"T_a7eb9_row1_col15\" class=\"data row1 col15\" >0</td>\n",
              "      <td id=\"T_a7eb9_row1_col16\" class=\"data row1 col16\" >0</td>\n",
              "      <td id=\"T_a7eb9_row1_col17\" class=\"data row1 col17\" >0</td>\n",
              "    </tr>\n",
              "    <tr>\n",
              "      <th id=\"T_a7eb9_level0_row2\" class=\"row_heading level0 row2\" >2</th>\n",
              "      <td id=\"T_a7eb9_row2_col0\" class=\"data row2 col0\" >0</td>\n",
              "      <td id=\"T_a7eb9_row2_col1\" class=\"data row2 col1\" >0</td>\n",
              "      <td id=\"T_a7eb9_row2_col2\" class=\"data row2 col2\" >0</td>\n",
              "      <td id=\"T_a7eb9_row2_col3\" class=\"data row2 col3\" >48</td>\n",
              "      <td id=\"T_a7eb9_row2_col4\" class=\"data row2 col4\" >166</td>\n",
              "      <td id=\"T_a7eb9_row2_col5\" class=\"data row2 col5\" >224</td>\n",
              "      <td id=\"T_a7eb9_row2_col6\" class=\"data row2 col6\" >253</td>\n",
              "      <td id=\"T_a7eb9_row2_col7\" class=\"data row2 col7\" >253</td>\n",
              "      <td id=\"T_a7eb9_row2_col8\" class=\"data row2 col8\" >234</td>\n",
              "      <td id=\"T_a7eb9_row2_col9\" class=\"data row2 col9\" >196</td>\n",
              "      <td id=\"T_a7eb9_row2_col10\" class=\"data row2 col10\" >253</td>\n",
              "      <td id=\"T_a7eb9_row2_col11\" class=\"data row2 col11\" >253</td>\n",
              "      <td id=\"T_a7eb9_row2_col12\" class=\"data row2 col12\" >253</td>\n",
              "      <td id=\"T_a7eb9_row2_col13\" class=\"data row2 col13\" >253</td>\n",
              "      <td id=\"T_a7eb9_row2_col14\" class=\"data row2 col14\" >233</td>\n",
              "      <td id=\"T_a7eb9_row2_col15\" class=\"data row2 col15\" >0</td>\n",
              "      <td id=\"T_a7eb9_row2_col16\" class=\"data row2 col16\" >0</td>\n",
              "      <td id=\"T_a7eb9_row2_col17\" class=\"data row2 col17\" >0</td>\n",
              "    </tr>\n",
              "    <tr>\n",
              "      <th id=\"T_a7eb9_level0_row3\" class=\"row_heading level0 row3\" >3</th>\n",
              "      <td id=\"T_a7eb9_row3_col0\" class=\"data row3 col0\" >0</td>\n",
              "      <td id=\"T_a7eb9_row3_col1\" class=\"data row3 col1\" >93</td>\n",
              "      <td id=\"T_a7eb9_row3_col2\" class=\"data row3 col2\" >244</td>\n",
              "      <td id=\"T_a7eb9_row3_col3\" class=\"data row3 col3\" >249</td>\n",
              "      <td id=\"T_a7eb9_row3_col4\" class=\"data row3 col4\" >253</td>\n",
              "      <td id=\"T_a7eb9_row3_col5\" class=\"data row3 col5\" >187</td>\n",
              "      <td id=\"T_a7eb9_row3_col6\" class=\"data row3 col6\" >46</td>\n",
              "      <td id=\"T_a7eb9_row3_col7\" class=\"data row3 col7\" >10</td>\n",
              "      <td id=\"T_a7eb9_row3_col8\" class=\"data row3 col8\" >8</td>\n",
              "      <td id=\"T_a7eb9_row3_col9\" class=\"data row3 col9\" >4</td>\n",
              "      <td id=\"T_a7eb9_row3_col10\" class=\"data row3 col10\" >10</td>\n",
              "      <td id=\"T_a7eb9_row3_col11\" class=\"data row3 col11\" >194</td>\n",
              "      <td id=\"T_a7eb9_row3_col12\" class=\"data row3 col12\" >253</td>\n",
              "      <td id=\"T_a7eb9_row3_col13\" class=\"data row3 col13\" >253</td>\n",
              "      <td id=\"T_a7eb9_row3_col14\" class=\"data row3 col14\" >233</td>\n",
              "      <td id=\"T_a7eb9_row3_col15\" class=\"data row3 col15\" >0</td>\n",
              "      <td id=\"T_a7eb9_row3_col16\" class=\"data row3 col16\" >0</td>\n",
              "      <td id=\"T_a7eb9_row3_col17\" class=\"data row3 col17\" >0</td>\n",
              "    </tr>\n",
              "    <tr>\n",
              "      <th id=\"T_a7eb9_level0_row4\" class=\"row_heading level0 row4\" >4</th>\n",
              "      <td id=\"T_a7eb9_row4_col0\" class=\"data row4 col0\" >0</td>\n",
              "      <td id=\"T_a7eb9_row4_col1\" class=\"data row4 col1\" >107</td>\n",
              "      <td id=\"T_a7eb9_row4_col2\" class=\"data row4 col2\" >253</td>\n",
              "      <td id=\"T_a7eb9_row4_col3\" class=\"data row4 col3\" >253</td>\n",
              "      <td id=\"T_a7eb9_row4_col4\" class=\"data row4 col4\" >230</td>\n",
              "      <td id=\"T_a7eb9_row4_col5\" class=\"data row4 col5\" >48</td>\n",
              "      <td id=\"T_a7eb9_row4_col6\" class=\"data row4 col6\" >0</td>\n",
              "      <td id=\"T_a7eb9_row4_col7\" class=\"data row4 col7\" >0</td>\n",
              "      <td id=\"T_a7eb9_row4_col8\" class=\"data row4 col8\" >0</td>\n",
              "      <td id=\"T_a7eb9_row4_col9\" class=\"data row4 col9\" >0</td>\n",
              "      <td id=\"T_a7eb9_row4_col10\" class=\"data row4 col10\" >0</td>\n",
              "      <td id=\"T_a7eb9_row4_col11\" class=\"data row4 col11\" >192</td>\n",
              "      <td id=\"T_a7eb9_row4_col12\" class=\"data row4 col12\" >253</td>\n",
              "      <td id=\"T_a7eb9_row4_col13\" class=\"data row4 col13\" >253</td>\n",
              "      <td id=\"T_a7eb9_row4_col14\" class=\"data row4 col14\" >156</td>\n",
              "      <td id=\"T_a7eb9_row4_col15\" class=\"data row4 col15\" >0</td>\n",
              "      <td id=\"T_a7eb9_row4_col16\" class=\"data row4 col16\" >0</td>\n",
              "      <td id=\"T_a7eb9_row4_col17\" class=\"data row4 col17\" >0</td>\n",
              "    </tr>\n",
              "    <tr>\n",
              "      <th id=\"T_a7eb9_level0_row5\" class=\"row_heading level0 row5\" >5</th>\n",
              "      <td id=\"T_a7eb9_row5_col0\" class=\"data row5 col0\" >0</td>\n",
              "      <td id=\"T_a7eb9_row5_col1\" class=\"data row5 col1\" >3</td>\n",
              "      <td id=\"T_a7eb9_row5_col2\" class=\"data row5 col2\" >20</td>\n",
              "      <td id=\"T_a7eb9_row5_col3\" class=\"data row5 col3\" >20</td>\n",
              "      <td id=\"T_a7eb9_row5_col4\" class=\"data row5 col4\" >15</td>\n",
              "      <td id=\"T_a7eb9_row5_col5\" class=\"data row5 col5\" >0</td>\n",
              "      <td id=\"T_a7eb9_row5_col6\" class=\"data row5 col6\" >0</td>\n",
              "      <td id=\"T_a7eb9_row5_col7\" class=\"data row5 col7\" >0</td>\n",
              "      <td id=\"T_a7eb9_row5_col8\" class=\"data row5 col8\" >0</td>\n",
              "      <td id=\"T_a7eb9_row5_col9\" class=\"data row5 col9\" >0</td>\n",
              "      <td id=\"T_a7eb9_row5_col10\" class=\"data row5 col10\" >43</td>\n",
              "      <td id=\"T_a7eb9_row5_col11\" class=\"data row5 col11\" >224</td>\n",
              "      <td id=\"T_a7eb9_row5_col12\" class=\"data row5 col12\" >253</td>\n",
              "      <td id=\"T_a7eb9_row5_col13\" class=\"data row5 col13\" >245</td>\n",
              "      <td id=\"T_a7eb9_row5_col14\" class=\"data row5 col14\" >74</td>\n",
              "      <td id=\"T_a7eb9_row5_col15\" class=\"data row5 col15\" >0</td>\n",
              "      <td id=\"T_a7eb9_row5_col16\" class=\"data row5 col16\" >0</td>\n",
              "      <td id=\"T_a7eb9_row5_col17\" class=\"data row5 col17\" >0</td>\n",
              "    </tr>\n",
              "    <tr>\n",
              "      <th id=\"T_a7eb9_level0_row6\" class=\"row_heading level0 row6\" >6</th>\n",
              "      <td id=\"T_a7eb9_row6_col0\" class=\"data row6 col0\" >0</td>\n",
              "      <td id=\"T_a7eb9_row6_col1\" class=\"data row6 col1\" >0</td>\n",
              "      <td id=\"T_a7eb9_row6_col2\" class=\"data row6 col2\" >0</td>\n",
              "      <td id=\"T_a7eb9_row6_col3\" class=\"data row6 col3\" >0</td>\n",
              "      <td id=\"T_a7eb9_row6_col4\" class=\"data row6 col4\" >0</td>\n",
              "      <td id=\"T_a7eb9_row6_col5\" class=\"data row6 col5\" >0</td>\n",
              "      <td id=\"T_a7eb9_row6_col6\" class=\"data row6 col6\" >0</td>\n",
              "      <td id=\"T_a7eb9_row6_col7\" class=\"data row6 col7\" >0</td>\n",
              "      <td id=\"T_a7eb9_row6_col8\" class=\"data row6 col8\" >0</td>\n",
              "      <td id=\"T_a7eb9_row6_col9\" class=\"data row6 col9\" >0</td>\n",
              "      <td id=\"T_a7eb9_row6_col10\" class=\"data row6 col10\" >249</td>\n",
              "      <td id=\"T_a7eb9_row6_col11\" class=\"data row6 col11\" >253</td>\n",
              "      <td id=\"T_a7eb9_row6_col12\" class=\"data row6 col12\" >245</td>\n",
              "      <td id=\"T_a7eb9_row6_col13\" class=\"data row6 col13\" >126</td>\n",
              "      <td id=\"T_a7eb9_row6_col14\" class=\"data row6 col14\" >0</td>\n",
              "      <td id=\"T_a7eb9_row6_col15\" class=\"data row6 col15\" >0</td>\n",
              "      <td id=\"T_a7eb9_row6_col16\" class=\"data row6 col16\" >0</td>\n",
              "      <td id=\"T_a7eb9_row6_col17\" class=\"data row6 col17\" >0</td>\n",
              "    </tr>\n",
              "    <tr>\n",
              "      <th id=\"T_a7eb9_level0_row7\" class=\"row_heading level0 row7\" >7</th>\n",
              "      <td id=\"T_a7eb9_row7_col0\" class=\"data row7 col0\" >0</td>\n",
              "      <td id=\"T_a7eb9_row7_col1\" class=\"data row7 col1\" >0</td>\n",
              "      <td id=\"T_a7eb9_row7_col2\" class=\"data row7 col2\" >0</td>\n",
              "      <td id=\"T_a7eb9_row7_col3\" class=\"data row7 col3\" >0</td>\n",
              "      <td id=\"T_a7eb9_row7_col4\" class=\"data row7 col4\" >0</td>\n",
              "      <td id=\"T_a7eb9_row7_col5\" class=\"data row7 col5\" >0</td>\n",
              "      <td id=\"T_a7eb9_row7_col6\" class=\"data row7 col6\" >0</td>\n",
              "      <td id=\"T_a7eb9_row7_col7\" class=\"data row7 col7\" >14</td>\n",
              "      <td id=\"T_a7eb9_row7_col8\" class=\"data row7 col8\" >101</td>\n",
              "      <td id=\"T_a7eb9_row7_col9\" class=\"data row7 col9\" >223</td>\n",
              "      <td id=\"T_a7eb9_row7_col10\" class=\"data row7 col10\" >253</td>\n",
              "      <td id=\"T_a7eb9_row7_col11\" class=\"data row7 col11\" >248</td>\n",
              "      <td id=\"T_a7eb9_row7_col12\" class=\"data row7 col12\" >124</td>\n",
              "      <td id=\"T_a7eb9_row7_col13\" class=\"data row7 col13\" >0</td>\n",
              "      <td id=\"T_a7eb9_row7_col14\" class=\"data row7 col14\" >0</td>\n",
              "      <td id=\"T_a7eb9_row7_col15\" class=\"data row7 col15\" >0</td>\n",
              "      <td id=\"T_a7eb9_row7_col16\" class=\"data row7 col16\" >0</td>\n",
              "      <td id=\"T_a7eb9_row7_col17\" class=\"data row7 col17\" >0</td>\n",
              "    </tr>\n",
              "    <tr>\n",
              "      <th id=\"T_a7eb9_level0_row8\" class=\"row_heading level0 row8\" >8</th>\n",
              "      <td id=\"T_a7eb9_row8_col0\" class=\"data row8 col0\" >0</td>\n",
              "      <td id=\"T_a7eb9_row8_col1\" class=\"data row8 col1\" >0</td>\n",
              "      <td id=\"T_a7eb9_row8_col2\" class=\"data row8 col2\" >0</td>\n",
              "      <td id=\"T_a7eb9_row8_col3\" class=\"data row8 col3\" >0</td>\n",
              "      <td id=\"T_a7eb9_row8_col4\" class=\"data row8 col4\" >0</td>\n",
              "      <td id=\"T_a7eb9_row8_col5\" class=\"data row8 col5\" >11</td>\n",
              "      <td id=\"T_a7eb9_row8_col6\" class=\"data row8 col6\" >166</td>\n",
              "      <td id=\"T_a7eb9_row8_col7\" class=\"data row8 col7\" >239</td>\n",
              "      <td id=\"T_a7eb9_row8_col8\" class=\"data row8 col8\" >253</td>\n",
              "      <td id=\"T_a7eb9_row8_col9\" class=\"data row8 col9\" >253</td>\n",
              "      <td id=\"T_a7eb9_row8_col10\" class=\"data row8 col10\" >253</td>\n",
              "      <td id=\"T_a7eb9_row8_col11\" class=\"data row8 col11\" >187</td>\n",
              "      <td id=\"T_a7eb9_row8_col12\" class=\"data row8 col12\" >30</td>\n",
              "      <td id=\"T_a7eb9_row8_col13\" class=\"data row8 col13\" >0</td>\n",
              "      <td id=\"T_a7eb9_row8_col14\" class=\"data row8 col14\" >0</td>\n",
              "      <td id=\"T_a7eb9_row8_col15\" class=\"data row8 col15\" >0</td>\n",
              "      <td id=\"T_a7eb9_row8_col16\" class=\"data row8 col16\" >0</td>\n",
              "      <td id=\"T_a7eb9_row8_col17\" class=\"data row8 col17\" >0</td>\n",
              "    </tr>\n",
              "    <tr>\n",
              "      <th id=\"T_a7eb9_level0_row9\" class=\"row_heading level0 row9\" >9</th>\n",
              "      <td id=\"T_a7eb9_row9_col0\" class=\"data row9 col0\" >0</td>\n",
              "      <td id=\"T_a7eb9_row9_col1\" class=\"data row9 col1\" >0</td>\n",
              "      <td id=\"T_a7eb9_row9_col2\" class=\"data row9 col2\" >0</td>\n",
              "      <td id=\"T_a7eb9_row9_col3\" class=\"data row9 col3\" >0</td>\n",
              "      <td id=\"T_a7eb9_row9_col4\" class=\"data row9 col4\" >0</td>\n",
              "      <td id=\"T_a7eb9_row9_col5\" class=\"data row9 col5\" >16</td>\n",
              "      <td id=\"T_a7eb9_row9_col6\" class=\"data row9 col6\" >248</td>\n",
              "      <td id=\"T_a7eb9_row9_col7\" class=\"data row9 col7\" >250</td>\n",
              "      <td id=\"T_a7eb9_row9_col8\" class=\"data row9 col8\" >253</td>\n",
              "      <td id=\"T_a7eb9_row9_col9\" class=\"data row9 col9\" >253</td>\n",
              "      <td id=\"T_a7eb9_row9_col10\" class=\"data row9 col10\" >253</td>\n",
              "      <td id=\"T_a7eb9_row9_col11\" class=\"data row9 col11\" >253</td>\n",
              "      <td id=\"T_a7eb9_row9_col12\" class=\"data row9 col12\" >232</td>\n",
              "      <td id=\"T_a7eb9_row9_col13\" class=\"data row9 col13\" >213</td>\n",
              "      <td id=\"T_a7eb9_row9_col14\" class=\"data row9 col14\" >111</td>\n",
              "      <td id=\"T_a7eb9_row9_col15\" class=\"data row9 col15\" >2</td>\n",
              "      <td id=\"T_a7eb9_row9_col16\" class=\"data row9 col16\" >0</td>\n",
              "      <td id=\"T_a7eb9_row9_col17\" class=\"data row9 col17\" >0</td>\n",
              "    </tr>\n",
              "    <tr>\n",
              "      <th id=\"T_a7eb9_level0_row10\" class=\"row_heading level0 row10\" >10</th>\n",
              "      <td id=\"T_a7eb9_row10_col0\" class=\"data row10 col0\" >0</td>\n",
              "      <td id=\"T_a7eb9_row10_col1\" class=\"data row10 col1\" >0</td>\n",
              "      <td id=\"T_a7eb9_row10_col2\" class=\"data row10 col2\" >0</td>\n",
              "      <td id=\"T_a7eb9_row10_col3\" class=\"data row10 col3\" >0</td>\n",
              "      <td id=\"T_a7eb9_row10_col4\" class=\"data row10 col4\" >0</td>\n",
              "      <td id=\"T_a7eb9_row10_col5\" class=\"data row10 col5\" >0</td>\n",
              "      <td id=\"T_a7eb9_row10_col6\" class=\"data row10 col6\" >0</td>\n",
              "      <td id=\"T_a7eb9_row10_col7\" class=\"data row10 col7\" >43</td>\n",
              "      <td id=\"T_a7eb9_row10_col8\" class=\"data row10 col8\" >98</td>\n",
              "      <td id=\"T_a7eb9_row10_col9\" class=\"data row10 col9\" >98</td>\n",
              "      <td id=\"T_a7eb9_row10_col10\" class=\"data row10 col10\" >208</td>\n",
              "      <td id=\"T_a7eb9_row10_col11\" class=\"data row10 col11\" >253</td>\n",
              "      <td id=\"T_a7eb9_row10_col12\" class=\"data row10 col12\" >253</td>\n",
              "      <td id=\"T_a7eb9_row10_col13\" class=\"data row10 col13\" >253</td>\n",
              "      <td id=\"T_a7eb9_row10_col14\" class=\"data row10 col14\" >253</td>\n",
              "      <td id=\"T_a7eb9_row10_col15\" class=\"data row10 col15\" >187</td>\n",
              "      <td id=\"T_a7eb9_row10_col16\" class=\"data row10 col16\" >22</td>\n",
              "      <td id=\"T_a7eb9_row10_col17\" class=\"data row10 col17\" >0</td>\n",
              "    </tr>\n",
              "  </tbody>\n",
              "</table>\n"
            ]
          },
          "metadata": {},
          "execution_count": 11
        }
      ]
    },
    {
      "cell_type": "code",
      "source": [
        "# 모든 자료들을 텐서로 저장\n",
        "# * 리스트 컴프리헨션 학습 할 것\n",
        "seven_tensors = [tensor(Image.open(o)) for o in sevens]\n",
        "three_tensors = [tensor(Image.open(o)) for o in threes]\n",
        "len(seven_tensors), len(three_tensors)"
      ],
      "metadata": {
        "colab": {
          "base_uri": "https://localhost:8080/"
        },
        "id": "OCxwpTkXrlfg",
        "outputId": "3d24263c-3a27-4adb-d023-3dcdac5371fd"
      },
      "execution_count": 12,
      "outputs": [
        {
          "output_type": "execute_result",
          "data": {
            "text/plain": [
              "(6265, 6131)"
            ]
          },
          "metadata": {},
          "execution_count": 12
        }
      ]
    },
    {
      "cell_type": "code",
      "source": [
        "# 이미지 출력\n",
        "show_image(three_tensors[1]) # PIL library?"
      ],
      "metadata": {
        "colab": {
          "base_uri": "https://localhost:8080/",
          "height": 103
        },
        "id": "QpPEkWxQuz_J",
        "outputId": "ae9fa3dd-fe52-492a-8aed-27af6cc21f87"
      },
      "execution_count": 13,
      "outputs": [
        {
          "output_type": "execute_result",
          "data": {
            "text/plain": [
              "<matplotlib.axes._subplots.AxesSubplot at 0x7fd299332810>"
            ]
          },
          "metadata": {},
          "execution_count": 13
        },
        {
          "output_type": "display_data",
          "data": {
            "text/plain": [
              "<Figure size 72x72 with 1 Axes>"
            ],
            "image/png": "[encoded data removed]"
          },
          "metadata": {
            "needs_background": "light"
          }
        }
      ]
    },
    {
      "cell_type": "code",
      "source": [
        "# 스택과 동시에 부동소수로 표현\n",
        "stacked_threes = torch.stack(three_tensors).float()/255\n",
        "stacked_sevens = torch.stack(seven_tensors).float()/255\n",
        "stacked_threes.shape \n",
        "# shape는 축의 크기, rank 는 축의 갯수"
      ],
      "metadata": {
        "colab": {
          "base_uri": "https://localhost:8080/"
        },
        "id": "EtSYLDufuz8K",
        "outputId": "ac111287-cf25-4ded-c61a-5cfe223736f3"
      },
      "execution_count": 14,
      "outputs": [
        {
          "output_type": "execute_result",
          "data": {
            "text/plain": [
              "torch.Size([6131, 28, 28])"
            ]
          },
          "metadata": {},
          "execution_count": 14
        }
      ]
    },
    {
      "cell_type": "code",
      "source": [
        "stacked_threes.ndim\n",
        "# 3차원 형태"
      ],
      "metadata": {
        "colab": {
          "base_uri": "https://localhost:8080/"
        },
        "id": "cjBcnMLjuz5S",
        "outputId": "d4f3197b-ab64-4653-db1c-7cf4816ab566"
      },
      "execution_count": 15,
      "outputs": [
        {
          "output_type": "execute_result",
          "data": {
            "text/plain": [
              "3"
            ]
          },
          "metadata": {},
          "execution_count": 15
        }
      ]
    },
    {
      "cell_type": "code",
      "source": [
        "# 쌓아 올린 텐서들을 가지고 해당 픽셀의 평균값을 구한 뒤 하나의 이미지로 새롭게 정의한다.\n",
        "\n",
        "# 모든 3의 픽셀값에 따른 평균 이미지 재해석\n",
        "mean3 = stacked_threes.mean(0) # <- 왜 함수의 인자로 0이 들어가는가? 1, 2, -1 다 안됨\n",
        "show_image(mean3)\n",
        "\n",
        "# 모든 7의 텐서의 픽셀값에 따른 평균 이미지 재해석\n",
        "mean7 = stacked_sevens.mean(0)\n",
        "show_image(mean7)"
      ],
      "metadata": {
        "colab": {
          "base_uri": "https://localhost:8080/",
          "height": 171
        },
        "id": "BPjAxoVAykXv",
        "outputId": "9d628156-1c8b-4d01-e59b-1935a04238c8"
      },
      "execution_count": 16,
      "outputs": [
        {
          "output_type": "execute_result",
          "data": {
            "text/plain": [
              "<matplotlib.axes._subplots.AxesSubplot at 0x7fd2987579d0>"
            ]
          },
          "metadata": {},
          "execution_count": 16
        },
        {
          "output_type": "display_data",
          "data": {
            "text/plain": [
              "<Figure size 72x72 with 1 Axes>"
            ],
            "image/png": "[encoded data removed]"
          },
          "metadata": {
            "needs_background": "light"
          }
        },
        {
          "output_type": "display_data",
          "data": {
            "text/plain": [
              "<Figure size 72x72 with 1 Axes>"
            ],
            "image/png": "[encoded data removed]"
          },
          "metadata": {
            "needs_background": "light"
          }
        }
      ]
    },
    {
      "cell_type": "code",
      "source": [
        "# 차이의 절댓값에 대한 평균 : L1 노름, 평균절대차\n",
        "# 차이의 제곱에 대한 절댓값 후 제곱근 : L2 노름, 평균제곱근오차\n",
        "\n",
        "a_3 = stacked_threes[1]\n",
        "show_image(a_3)"
      ],
      "metadata": {
        "colab": {
          "base_uri": "https://localhost:8080/",
          "height": 103
        },
        "id": "6d6wHdsFykas",
        "outputId": "ab8e979e-4b19-4b3b-ded1-edcb65cd064d"
      },
      "execution_count": 17,
      "outputs": [
        {
          "output_type": "execute_result",
          "data": {
            "text/plain": [
              "<matplotlib.axes._subplots.AxesSubplot at 0x7fd29873c210>"
            ]
          },
          "metadata": {},
          "execution_count": 17
        },
        {
          "output_type": "display_data",
          "data": {
            "text/plain": [
              "<Figure size 72x72 with 1 Axes>"
            ],
            "image/png": "[encoded data removed]"
          },
          "metadata": {
            "needs_background": "light"
          }
        }
      ]
    },
    {
      "cell_type": "code",
      "source": [
        "dist_3_abs = (a_3 - mean3).abs().mean() # absolute\n",
        "dist_3_sqr = ((a_3 - mean3)**2).mean().sqrt() # squared\n",
        "dist_3_abs, dist_3_sqr\n",
        "\n",
        "# (tensor(0.1114), tensor(0.2021))\n",
        "\n",
        "dist_7_abs = (a_3 - mean7).abs().mean()\n",
        "dist_7_sqr = ((a_3 - mean7)**2).mean().sqrt()\n",
        "dist_7_abs, dist_7_sqr\n",
        "\n",
        "# (tensor(0.1586), tensor(0.3021))"
      ],
      "metadata": {
        "colab": {
          "base_uri": "https://localhost:8080/"
        },
        "id": "pdWthfUpykgS",
        "outputId": "b469163c-1899-44a5-e84d-a5756b4f1976"
      },
      "execution_count": 18,
      "outputs": [
        {
          "output_type": "execute_result",
          "data": {
            "text/plain": [
              "(tensor(0.1586), tensor(0.3021))"
            ]
          },
          "metadata": {},
          "execution_count": 18
        }
      ]
    },
    {
      "cell_type": "code",
      "source": [
        "# 손실함수로 표현하는 방법\n",
        "\n",
        "F.l1_loss(a_3.float(), mean7), F.mse_loss(a_3, mean7).sqrt()\n",
        "\n",
        "# l1 손실함수, 평균제곱오차(mean squared error)에서 제곱근 사용"
      ],
      "metadata": {
        "colab": {
          "base_uri": "https://localhost:8080/"
        },
        "id": "JnNzC5pS2BH7",
        "outputId": "2f89f81d-e0bf-467a-898e-74d267ba134d"
      },
      "execution_count": 19,
      "outputs": [
        {
          "output_type": "execute_result",
          "data": {
            "text/plain": [
              "(tensor(0.1586), tensor(0.3021))"
            ]
          },
          "metadata": {},
          "execution_count": 19
        }
      ]
    },
    {
      "cell_type": "markdown",
      "source": [
        "# difference between tensor and numpy\n",
        "\n",
        "* 기본적으로 numpy는 c언어를 기반으로 만들어졌기 때문에 다양한 형태의 데이터를 담을 수 있고, 자료형만 같다면 다양한 모습으로 연산을 통해 배열을 만들 수 있다.\n",
        "\n",
        "* numpy는 연산을 압축하여 메모리에 저장하기에 매우 빠른 속도를 자랑한다.\n",
        "\n",
        "* tensor는 수치형 데이터만 사용할 수 있으며, 다양한 모습으로 변할 수 없어 항상 사각형을 유지해야 한다.\n",
        "\n",
        "* 단, GPU에 연산을 맡길 수 있어 수 많은 양에 대한 연산이 매우 빠르게 적용하고, 자동으로 미분을 해주기도 한다."
      ],
      "metadata": {
        "id": "TxRvjPCt433r"
      }
    },
    {
      "cell_type": "code",
      "source": [
        "data = [[12, 35, 32], [10, 39, 20]]\n",
        "arr = array(data)\n",
        "tns = tensor(data)\n",
        "\n",
        "arr \n",
        "# array([[12, 35, 32], [10, 39, 20]])\n",
        "\n",
        "tns\n",
        "# tensor([[12, 35, 32], [10, 39, 20]])"
      ],
      "metadata": {
        "colab": {
          "base_uri": "https://localhost:8080/"
        },
        "id": "xIpfyiHk2BEr",
        "outputId": "93f4e0aa-83dc-46fb-94d6-50fa16cf4e8f"
      },
      "execution_count": 20,
      "outputs": [
        {
          "output_type": "execute_result",
          "data": {
            "text/plain": [
              "tensor([[12, 35, 32],\n",
              "        [10, 39, 20]])"
            ]
          },
          "metadata": {},
          "execution_count": 20
        }
      ]
    },
    {
      "cell_type": "code",
      "source": [
        "# tns[행 : 열]\n",
        "tns[1] # tensor([10, 39, 20]) : 인덱스 1에 해당되는 행을 들고온다. 2행\n",
        "\n",
        "tns[:, 0] # tensor([12, 10]) : 인덱스 0에 해당되는 열을 들고온다. 모든 행에 대한 1열"
      ],
      "metadata": {
        "colab": {
          "base_uri": "https://localhost:8080/"
        },
        "id": "lOQbSyxy2BCE",
        "outputId": "2783438f-0dbf-4310-dbd1-61da1451a8ee"
      },
      "execution_count": 21,
      "outputs": [
        {
          "output_type": "execute_result",
          "data": {
            "text/plain": [
              "tensor([12, 10])"
            ]
          },
          "metadata": {},
          "execution_count": 21
        }
      ]
    },
    {
      "cell_type": "code",
      "source": [
        "tns.type() # torch.LongTensor\n",
        "\n",
        "# 자동으로 정수형에서 부동소수로\n",
        "tns = tns * 1.5\n",
        "tns.type() # torch.FloatTensor"
      ],
      "metadata": {
        "colab": {
          "base_uri": "https://localhost:8080/",
          "height": 36
        },
        "id": "JYjNis3uC8q2",
        "outputId": "28ee5ea1-9aaf-4839-ec62-3062fdade8ac"
      },
      "execution_count": 22,
      "outputs": [
        {
          "output_type": "execute_result",
          "data": {
            "text/plain": [
              "'torch.FloatTensor'"
            ],
            "application/vnd.google.colaboratory.intrinsic+json": {
              "type": "string"
            }
          },
          "metadata": {},
          "execution_count": 22
        }
      ]
    },
    {
      "cell_type": "markdown",
      "source": [
        "# calculate rate through broadcasting\n",
        "\n",
        "* 학습용 데이터 셋에서만 잘 작동하는 overfit을 피하기 위해 검증용 데이터셋을 사용한다.\n",
        "\n",
        "* 보통 정확도(accuracy)를 분류 평가지표로 사용한다."
      ],
      "metadata": {
        "id": "agIB7EC67GYJ"
      }
    },
    {
      "cell_type": "code",
      "source": [
        "# MNIST 에는 검증용 데이터셋이 따로 분류되어있다. Path('/root/.fastai/data/mnist_sample/valid')\n",
        "\n",
        "valid_3_tens = torch.stack([tensor(Image.open(o))\n",
        "                            for o in (path/'valid'/'3').ls()])\n",
        "valid_3_tens = valid_3_tens.float()/255\n",
        "\n",
        "valid_7_tens = torch.stack([tensor(Image.open(o))\n",
        "                            for o in (path/'valid'/'7').ls()])\n",
        "valid_7_tens = valid_3_tens.float()/255\n",
        "\n",
        "valid_3_tens.shape, valid_7_tens.shape\n",
        "\n",
        "# (torch.Size([1010, 28, 28]), torch.Size([1010, 28, 28]))"
      ],
      "metadata": {
        "colab": {
          "base_uri": "https://localhost:8080/"
        },
        "id": "ykAxMiqFD67Z",
        "outputId": "1391bed7-f97f-4fd8-f121-93b77eb0e481"
      },
      "execution_count": 23,
      "outputs": [
        {
          "output_type": "execute_result",
          "data": {
            "text/plain": [
              "(torch.Size([1010, 28, 28]), torch.Size([1010, 28, 28]))"
            ]
          },
          "metadata": {},
          "execution_count": 23
        }
      ]
    },
    {
      "cell_type": "code",
      "source": [
        "# 평균절대오차를 계산하는 함수\n",
        "\n",
        "def mnist_distance(a,b) : return (a-b).abs().mean((-1, -2)) # 왜 평균에 인자를 넣어주면 브로드캐스팅이 되는가?\n",
        "mnist_distance(a_3, mean3)"
      ],
      "metadata": {
        "colab": {
          "base_uri": "https://localhost:8080/"
        },
        "id": "QdjgTGQkFvd2",
        "outputId": "b95081ae-2346-44d6-d824-0df09947f6b0"
      },
      "execution_count": 24,
      "outputs": [
        {
          "output_type": "execute_result",
          "data": {
            "text/plain": [
              "tensor(0.1114)"
            ]
          },
          "metadata": {},
          "execution_count": 24
        }
      ]
    },
    {
      "cell_type": "code",
      "source": [
        "valid_3_dist = mnist_distance(valid_3_tens, mean3) # 검증용 데이터와 3의 평균이미지와의 오차를 구해 계산\n",
        "valid_3_dist, valid_3_dist.shape\n",
        "\n",
        "# len(valid_3_dist) == 1010\n",
        "\n",
        "# 여기서 valid_3_tens는 rank-3에 해당되는데 mean3 는 rank-2의 테이블 형식이다.\n",
        "# mnist_distance에서 텐서 간의 격차인 (a-b)에서 broadcasting이 일어난 걸 알 수 있다."
      ],
      "metadata": {
        "colab": {
          "base_uri": "https://localhost:8080/"
        },
        "id": "X-pnzplQFvau",
        "outputId": "81cd24cb-d0b3-4461-de3b-f879dc4b366e"
      },
      "execution_count": 25,
      "outputs": [
        {
          "output_type": "execute_result",
          "data": {
            "text/plain": [
              "(tensor([0.1162, 0.1541, 0.1130,  ..., 0.1370, 0.1142, 0.1512]),\n",
              " torch.Size([1010]))"
            ]
          },
          "metadata": {},
          "execution_count": 25
        }
      ]
    },
    {
      "cell_type": "code",
      "source": [
        "# 브로드캐스팅이란?\n",
        "\n",
        "# numpy에서는 차원과 비슷한 개념인데 3차원과 2차원이 연산이 될 때 자동으로 2차원이 3차원으로 변형되면서 연산이 가능해지도록 해주는\n",
        "# 한 마디로 자동차원(rank)변환\n",
        "\n",
        "tensor([1,2,3]) + tensor(1) # rank-2의 테이블과 rank-1의 텐서에서 텐서가 자동으로 테이블로 조정되어 연산이 실행되었다."
      ],
      "metadata": {
        "colab": {
          "base_uri": "https://localhost:8080/"
        },
        "id": "aDcpdqJ1FvUe",
        "outputId": "4e497f24-a84e-4df8-fca9-5bfb79832e44"
      },
      "execution_count": 26,
      "outputs": [
        {
          "output_type": "execute_result",
          "data": {
            "text/plain": [
              "tensor([2, 3, 4])"
            ]
          },
          "metadata": {},
          "execution_count": 26
        }
      ]
    },
    {
      "cell_type": "code",
      "source": [
        "# mean3가 1010개 추가된 것처럼 보이지민 실제로 메모리가 할당되진 않는다.\n",
        "(valid_3_tens - mean3).shape"
      ],
      "metadata": {
        "colab": {
          "base_uri": "https://localhost:8080/"
        },
        "id": "7-CNsAPLFvKm",
        "outputId": "5606bb02-2690-4db7-8c40-3f7bb741e958"
      },
      "execution_count": 27,
      "outputs": [
        {
          "output_type": "execute_result",
          "data": {
            "text/plain": [
              "torch.Size([1010, 28, 28])"
            ]
          },
          "metadata": {},
          "execution_count": 27
        }
      ]
    },
    {
      "cell_type": "code",
      "source": [
        "# mean()은 그 픽셀별 뺀 값의 평균을 구해준다.\n",
        "\n",
        "def abso(a,b) : return (a-b).abs()\n",
        "\n",
        "image1 = abso(valid_3_tens[10], mean7)\n",
        "df = pd.DataFrame(image1)\n",
        "df.style.set_properties(**{'font-size' : '6pt'}).background_gradient('Greys')"
      ],
      "metadata": {
        "colab": {
          "base_uri": "https://localhost:8080/",
          "height": 947
        },
        "id": "pcfLAYOdKa--",
        "outputId": "c4f53013-e70c-4477-d17b-0261d0b09ffc"
      },
      "execution_count": 28,
      "outputs": [
        {
          "output_type": "execute_result",
          "data": {
            "text/plain": [
              "<pandas.io.formats.style.Styler at 0x7fd29864d490>"
            ],
            "text/html": [
              "<style type=\"text/css\">\n",
              "#T_d29a0_row0_col0, #T_d29a0_row0_col1, #T_d29a0_row0_col2, #T_d29a0_row0_col3, #T_d29a0_row0_col4, #T_d29a0_row0_col5, #T_d29a0_row0_col6, #T_d29a0_row0_col7, #T_d29a0_row0_col8, #T_d29a0_row0_col9, #T_d29a0_row0_col10, #T_d29a0_row0_col11, #T_d29a0_row0_col12, #T_d29a0_row0_col13, #T_d29a0_row0_col14, #T_d29a0_row0_col15, #T_d29a0_row0_col16, #T_d29a0_row0_col17, #T_d29a0_row0_col18, #T_d29a0_row0_col19, #T_d29a0_row0_col20, #T_d29a0_row0_col21, #T_d29a0_row0_col22, #T_d29a0_row0_col23, #T_d29a0_row0_col24, #T_d29a0_row0_col25, #T_d29a0_row0_col26, #T_d29a0_row0_col27, #T_d29a0_row1_col0, #T_d29a0_row1_col1, #T_d29a0_row1_col2, #T_d29a0_row1_col3, #T_d29a0_row1_col4, #T_d29a0_row1_col5, #T_d29a0_row1_col6, #T_d29a0_row1_col7, #T_d29a0_row1_col8, #T_d29a0_row1_col9, #T_d29a0_row1_col10, #T_d29a0_row1_col11, #T_d29a0_row1_col12, #T_d29a0_row1_col13, #T_d29a0_row1_col14, #T_d29a0_row1_col15, #T_d29a0_row1_col16, #T_d29a0_row1_col17, #T_d29a0_row1_col18, #T_d29a0_row1_col19, #T_d29a0_row1_col20, #T_d29a0_row1_col21, #T_d29a0_row1_col22, #T_d29a0_row1_col23, #T_d29a0_row1_col24, #T_d29a0_row1_col25, #T_d29a0_row1_col26, #T_d29a0_row1_col27, #T_d29a0_row2_col0, #T_d29a0_row2_col1, #T_d29a0_row2_col2, #T_d29a0_row2_col3, #T_d29a0_row2_col4, #T_d29a0_row2_col5, #T_d29a0_row2_col6, #T_d29a0_row2_col7, #T_d29a0_row2_col8, #T_d29a0_row2_col9, #T_d29a0_row2_col10, #T_d29a0_row2_col11, #T_d29a0_row2_col12, #T_d29a0_row2_col13, #T_d29a0_row2_col14, #T_d29a0_row2_col15, #T_d29a0_row2_col16, #T_d29a0_row2_col17, #T_d29a0_row2_col18, #T_d29a0_row2_col19, #T_d29a0_row2_col20, #T_d29a0_row2_col21, #T_d29a0_row2_col22, #T_d29a0_row2_col23, #T_d29a0_row2_col24, #T_d29a0_row2_col25, #T_d29a0_row2_col26, #T_d29a0_row2_col27, #T_d29a0_row3_col0, #T_d29a0_row3_col1, #T_d29a0_row3_col2, #T_d29a0_row3_col3, #T_d29a0_row3_col4, #T_d29a0_row3_col5, #T_d29a0_row3_col6, #T_d29a0_row3_col7, #T_d29a0_row3_col8, #T_d29a0_row3_col9, #T_d29a0_row3_col10, #T_d29a0_row3_col11, #T_d29a0_row3_col12, #T_d29a0_row3_col13, #T_d29a0_row3_col14, #T_d29a0_row3_col15, #T_d29a0_row3_col16, #T_d29a0_row3_col17, #T_d29a0_row3_col18, #T_d29a0_row3_col19, #T_d29a0_row3_col20, #T_d29a0_row3_col21, #T_d29a0_row3_col22, #T_d29a0_row3_col23, #T_d29a0_row3_col24, #T_d29a0_row3_col25, #T_d29a0_row3_col26, #T_d29a0_row3_col27, #T_d29a0_row4_col0, #T_d29a0_row4_col1, #T_d29a0_row4_col2, #T_d29a0_row4_col3, #T_d29a0_row4_col4, #T_d29a0_row4_col5, #T_d29a0_row4_col6, #T_d29a0_row4_col7, #T_d29a0_row4_col8, #T_d29a0_row4_col14, #T_d29a0_row4_col15, #T_d29a0_row4_col16, #T_d29a0_row4_col17, #T_d29a0_row4_col18, #T_d29a0_row4_col19, #T_d29a0_row4_col20, #T_d29a0_row4_col21, #T_d29a0_row4_col22, #T_d29a0_row4_col23, #T_d29a0_row4_col24, #T_d29a0_row4_col25, #T_d29a0_row4_col26, #T_d29a0_row4_col27, #T_d29a0_row5_col0, #T_d29a0_row5_col1, #T_d29a0_row5_col2, #T_d29a0_row5_col3, #T_d29a0_row5_col4, #T_d29a0_row5_col5, #T_d29a0_row5_col17, #T_d29a0_row5_col18, #T_d29a0_row5_col19, #T_d29a0_row5_col20, #T_d29a0_row5_col21, #T_d29a0_row5_col22, #T_d29a0_row5_col23, #T_d29a0_row5_col24, #T_d29a0_row5_col25, #T_d29a0_row5_col26, #T_d29a0_row5_col27, #T_d29a0_row6_col0, #T_d29a0_row6_col1, #T_d29a0_row6_col26, #T_d29a0_row6_col27, #T_d29a0_row7_col26, #T_d29a0_row7_col27, #T_d29a0_row8_col26, #T_d29a0_row8_col27, #T_d29a0_row13_col0, #T_d29a0_row13_col27, #T_d29a0_row14_col0, #T_d29a0_row14_col26, #T_d29a0_row14_col27, #T_d29a0_row15_col1, #T_d29a0_row15_col26, #T_d29a0_row15_col27, #T_d29a0_row16_col1, #T_d29a0_row16_col2, #T_d29a0_row16_col26, #T_d29a0_row16_col27, #T_d29a0_row17_col0, #T_d29a0_row17_col2, #T_d29a0_row17_col27, #T_d29a0_row18_col1, #T_d29a0_row18_col27, #T_d29a0_row19_col0, #T_d29a0_row19_col3, #T_d29a0_row19_col26, #T_d29a0_row19_col27, #T_d29a0_row20_col0, #T_d29a0_row20_col1, #T_d29a0_row20_col2, #T_d29a0_row20_col3, #T_d29a0_row20_col4, #T_d29a0_row20_col5, #T_d29a0_row20_col6, #T_d29a0_row20_col26, #T_d29a0_row20_col27, #T_d29a0_row21_col0, #T_d29a0_row21_col1, #T_d29a0_row21_col2, #T_d29a0_row21_col3, #T_d29a0_row21_col4, #T_d29a0_row21_col23, #T_d29a0_row21_col26, #T_d29a0_row21_col27, #T_d29a0_row22_col0, #T_d29a0_row22_col1, #T_d29a0_row22_col2, #T_d29a0_row22_col3, #T_d29a0_row22_col23, #T_d29a0_row22_col26, #T_d29a0_row22_col27, #T_d29a0_row23_col0, #T_d29a0_row23_col1, #T_d29a0_row23_col2, #T_d29a0_row23_col3, #T_d29a0_row23_col23, #T_d29a0_row23_col26, #T_d29a0_row23_col27, #T_d29a0_row24_col0, #T_d29a0_row24_col1, #T_d29a0_row24_col2, #T_d29a0_row24_col23, #T_d29a0_row24_col26, #T_d29a0_row24_col27, #T_d29a0_row25_col0, #T_d29a0_row25_col1, #T_d29a0_row25_col2, #T_d29a0_row25_col3, #T_d29a0_row25_col23, #T_d29a0_row25_col25, #T_d29a0_row25_col26, #T_d29a0_row25_col27, #T_d29a0_row26_col0, #T_d29a0_row26_col1, #T_d29a0_row26_col2, #T_d29a0_row26_col3, #T_d29a0_row26_col4, #T_d29a0_row26_col20, #T_d29a0_row26_col23, #T_d29a0_row26_col24, #T_d29a0_row26_col26, #T_d29a0_row26_col27, #T_d29a0_row27_col0, #T_d29a0_row27_col1, #T_d29a0_row27_col2, #T_d29a0_row27_col3, #T_d29a0_row27_col4, #T_d29a0_row27_col5, #T_d29a0_row27_col6, #T_d29a0_row27_col9, #T_d29a0_row27_col18, #T_d29a0_row27_col19, #T_d29a0_row27_col20, #T_d29a0_row27_col21, #T_d29a0_row27_col22, #T_d29a0_row27_col23, #T_d29a0_row27_col24, #T_d29a0_row27_col25, #T_d29a0_row27_col26, #T_d29a0_row27_col27 {\n",
              "  font-size: 6pt;\n",
              "  background-color: #ffffff;\n",
              "  color: #000000;\n",
              "}\n",
              "#T_d29a0_row4_col9 {\n",
              "  font-size: 6pt;\n",
              "  background-color: #a5a5a5;\n",
              "  color: #f1f1f1;\n",
              "}\n",
              "#T_d29a0_row4_col10, #T_d29a0_row4_col11, #T_d29a0_row5_col9, #T_d29a0_row5_col12, #T_d29a0_row5_col13, #T_d29a0_row8_col24, #T_d29a0_row9_col3, #T_d29a0_row9_col4, #T_d29a0_row9_col5, #T_d29a0_row9_col6, #T_d29a0_row9_col7, #T_d29a0_row9_col8, #T_d29a0_row9_col21, #T_d29a0_row9_col22, #T_d29a0_row9_col23, #T_d29a0_row9_col25, #T_d29a0_row9_col27, #T_d29a0_row10_col0, #T_d29a0_row10_col1, #T_d29a0_row10_col2, #T_d29a0_row10_col3, #T_d29a0_row10_col4, #T_d29a0_row12_col15, #T_d29a0_row12_col26, #T_d29a0_row13_col14, #T_d29a0_row16_col16, #T_d29a0_row17_col26, #T_d29a0_row18_col20, #T_d29a0_row19_col19, #T_d29a0_row20_col18, #T_d29a0_row21_col17 {\n",
              "  font-size: 6pt;\n",
              "  background-color: #000000;\n",
              "  color: #f1f1f1;\n",
              "}\n",
              "#T_d29a0_row4_col12 {\n",
              "  font-size: 6pt;\n",
              "  background-color: #535353;\n",
              "  color: #f1f1f1;\n",
              "}\n",
              "#T_d29a0_row4_col13, #T_d29a0_row11_col9, #T_d29a0_row21_col12 {\n",
              "  font-size: 6pt;\n",
              "  background-color: #aeaeae;\n",
              "  color: #000000;\n",
              "}\n",
              "#T_d29a0_row5_col6, #T_d29a0_row5_col7, #T_d29a0_row5_col16, #T_d29a0_row6_col25, #T_d29a0_row7_col16, #T_d29a0_row17_col1, #T_d29a0_row18_col2, #T_d29a0_row18_col3, #T_d29a0_row19_col2, #T_d29a0_row19_col4, #T_d29a0_row19_col5, #T_d29a0_row19_col6, #T_d29a0_row19_col9, #T_d29a0_row20_col7, #T_d29a0_row20_col23, #T_d29a0_row21_col5, #T_d29a0_row21_col6, #T_d29a0_row21_col20, #T_d29a0_row21_col22, #T_d29a0_row22_col4, #T_d29a0_row22_col20, #T_d29a0_row22_col22, #T_d29a0_row23_col20, #T_d29a0_row23_col21, #T_d29a0_row23_col22, #T_d29a0_row24_col3, #T_d29a0_row24_col20, #T_d29a0_row24_col21, #T_d29a0_row24_col22, #T_d29a0_row25_col20, #T_d29a0_row25_col22, #T_d29a0_row26_col19, #T_d29a0_row26_col21, #T_d29a0_row26_col22, #T_d29a0_row27_col7, #T_d29a0_row27_col8, #T_d29a0_row27_col10, #T_d29a0_row27_col11, #T_d29a0_row27_col17 {\n",
              "  font-size: 6pt;\n",
              "  background-color: #fefefe;\n",
              "  color: #000000;\n",
              "}\n",
              "#T_d29a0_row5_col8, #T_d29a0_row7_col20, #T_d29a0_row12_col10 {\n",
              "  font-size: 6pt;\n",
              "  background-color: #dedede;\n",
              "  color: #000000;\n",
              "}\n",
              "#T_d29a0_row5_col10, #T_d29a0_row6_col9, #T_d29a0_row9_col26, #T_d29a0_row13_col13 {\n",
              "  font-size: 6pt;\n",
              "  background-color: #050505;\n",
              "  color: #f1f1f1;\n",
              "}\n",
              "#T_d29a0_row5_col11 {\n",
              "  font-size: 6pt;\n",
              "  background-color: #030303;\n",
              "  color: #f1f1f1;\n",
              "}\n",
              "#T_d29a0_row5_col14, #T_d29a0_row16_col19 {\n",
              "  font-size: 6pt;\n",
              "  background-color: #323232;\n",
              "  color: #f1f1f1;\n",
              "}\n",
              "#T_d29a0_row5_col15, #T_d29a0_row13_col9, #T_d29a0_row14_col20, #T_d29a0_row15_col6, #T_d29a0_row20_col9, #T_d29a0_row20_col25, #T_d29a0_row21_col25 {\n",
              "  font-size: 6pt;\n",
              "  background-color: #e5e5e5;\n",
              "  color: #000000;\n",
              "}\n",
              "#T_d29a0_row6_col2, #T_d29a0_row15_col2, #T_d29a0_row15_col9, #T_d29a0_row18_col4, #T_d29a0_row18_col5, #T_d29a0_row18_col6, #T_d29a0_row19_col8, #T_d29a0_row19_col22, #T_d29a0_row19_col23, #T_d29a0_row20_col8, #T_d29a0_row21_col7, #T_d29a0_row22_col19, #T_d29a0_row22_col24, #T_d29a0_row23_col4, #T_d29a0_row23_col19, #T_d29a0_row23_col24, #T_d29a0_row24_col19, #T_d29a0_row25_col4, #T_d29a0_row25_col19, #T_d29a0_row26_col5, #T_d29a0_row26_col25, #T_d29a0_row27_col14, #T_d29a0_row27_col15, #T_d29a0_row27_col16 {\n",
              "  font-size: 6pt;\n",
              "  background-color: #fcfcfc;\n",
              "  color: #000000;\n",
              "}\n",
              "#T_d29a0_row6_col3, #T_d29a0_row14_col9, #T_d29a0_row14_col19, #T_d29a0_row15_col0, #T_d29a0_row17_col3, #T_d29a0_row19_col7, #T_d29a0_row20_col21, #T_d29a0_row20_col22, #T_d29a0_row21_col21, #T_d29a0_row22_col5, #T_d29a0_row22_col21, #T_d29a0_row24_col24, #T_d29a0_row24_col25, #T_d29a0_row25_col21, #T_d29a0_row25_col24, #T_d29a0_row27_col12, #T_d29a0_row27_col13 {\n",
              "  font-size: 6pt;\n",
              "  background-color: #fdfdfd;\n",
              "  color: #000000;\n",
              "}\n",
              "#T_d29a0_row6_col4, #T_d29a0_row6_col20, #T_d29a0_row10_col14, #T_d29a0_row16_col3, #T_d29a0_row17_col4, #T_d29a0_row18_col8, #T_d29a0_row23_col5, #T_d29a0_row23_col9 {\n",
              "  font-size: 6pt;\n",
              "  background-color: #fafafa;\n",
              "  color: #000000;\n",
              "}\n",
              "#T_d29a0_row6_col5, #T_d29a0_row15_col3, #T_d29a0_row16_col9, #T_d29a0_row16_col10, #T_d29a0_row17_col6, #T_d29a0_row17_col7, #T_d29a0_row17_col8, #T_d29a0_row18_col22, #T_d29a0_row20_col20, #T_d29a0_row21_col19, #T_d29a0_row22_col18, #T_d29a0_row23_col6, #T_d29a0_row23_col18, #T_d29a0_row23_col25, #T_d29a0_row24_col5, #T_d29a0_row26_col17 {\n",
              "  font-size: 6pt;\n",
              "  background-color: #f7f7f7;\n",
              "  color: #000000;\n",
              "}\n",
              "#T_d29a0_row6_col6, #T_d29a0_row6_col18, #T_d29a0_row6_col21, #T_d29a0_row11_col27, #T_d29a0_row14_col2, #T_d29a0_row17_col11 {\n",
              "  font-size: 6pt;\n",
              "  background-color: #f5f5f5;\n",
              "  color: #000000;\n",
              "}\n",
              "#T_d29a0_row6_col7, #T_d29a0_row6_col22, #T_d29a0_row8_col16, #T_d29a0_row18_col11 {\n",
              "  font-size: 6pt;\n",
              "  background-color: #f4f4f4;\n",
              "  color: #000000;\n",
              "}\n",
              "#T_d29a0_row6_col8, #T_d29a0_row9_col14, #T_d29a0_row12_col21 {\n",
              "  font-size: 6pt;\n",
              "  background-color: #8c8c8c;\n",
              "  color: #f1f1f1;\n",
              "}\n",
              "#T_d29a0_row6_col10 {\n",
              "  font-size: 6pt;\n",
              "  background-color: #1c1c1c;\n",
              "  color: #f1f1f1;\n",
              "}\n",
              "#T_d29a0_row6_col11, #T_d29a0_row16_col24, #T_d29a0_row24_col12 {\n",
              "  font-size: 6pt;\n",
              "  background-color: #b2b2b2;\n",
              "  color: #000000;\n",
              "}\n",
              "#T_d29a0_row6_col12 {\n",
              "  font-size: 6pt;\n",
              "  background-color: #a7a7a7;\n",
              "  color: #f1f1f1;\n",
              "}\n",
              "#T_d29a0_row6_col13 {\n",
              "  font-size: 6pt;\n",
              "  background-color: #383838;\n",
              "  color: #f1f1f1;\n",
              "}\n",
              "#T_d29a0_row6_col14, #T_d29a0_row9_col2, #T_d29a0_row14_col13, #T_d29a0_row18_col19 {\n",
              "  font-size: 6pt;\n",
              "  background-color: #090909;\n",
              "  color: #f1f1f1;\n",
              "}\n",
              "#T_d29a0_row6_col15, #T_d29a0_row8_col3, #T_d29a0_row9_col19 {\n",
              "  font-size: 6pt;\n",
              "  background-color: #686868;\n",
              "  color: #f1f1f1;\n",
              "}\n",
              "#T_d29a0_row6_col16, #T_d29a0_row6_col24, #T_d29a0_row12_col11, #T_d29a0_row17_col9, #T_d29a0_row18_col10, #T_d29a0_row25_col18 {\n",
              "  font-size: 6pt;\n",
              "  background-color: #f9f9f9;\n",
              "  color: #000000;\n",
              "}\n",
              "#T_d29a0_row6_col17, #T_d29a0_row7_col0, #T_d29a0_row7_col1, #T_d29a0_row15_col4, #T_d29a0_row16_col6, #T_d29a0_row22_col8, #T_d29a0_row22_col25, #T_d29a0_row23_col7, #T_d29a0_row26_col9 {\n",
              "  font-size: 6pt;\n",
              "  background-color: #f1f1f1;\n",
              "  color: #000000;\n",
              "}\n",
              "#T_d29a0_row6_col19, #T_d29a0_row11_col26, #T_d29a0_row17_col5, #T_d29a0_row17_col10, #T_d29a0_row20_col24, #T_d29a0_row21_col8, #T_d29a0_row22_col7, #T_d29a0_row24_col18, #T_d29a0_row25_col5, #T_d29a0_row26_col6 {\n",
              "  font-size: 6pt;\n",
              "  background-color: #f8f8f8;\n",
              "  color: #000000;\n",
              "}\n",
              "#T_d29a0_row6_col23, #T_d29a0_row16_col4, #T_d29a0_row16_col11, #T_d29a0_row18_col23, #T_d29a0_row19_col24 {\n",
              "  font-size: 6pt;\n",
              "  background-color: #f6f6f6;\n",
              "  color: #000000;\n",
              "}\n",
              "#T_d29a0_row7_col2, #T_d29a0_row11_col25, #T_d29a0_row15_col7, #T_d29a0_row19_col10, #T_d29a0_row24_col7, #T_d29a0_row25_col7, #T_d29a0_row26_col13 {\n",
              "  font-size: 6pt;\n",
              "  background-color: #e7e7e7;\n",
              "  color: #000000;\n",
              "}\n",
              "#T_d29a0_row7_col3, #T_d29a0_row16_col22, #T_d29a0_row20_col11 {\n",
              "  font-size: 6pt;\n",
              "  background-color: #e1e1e1;\n",
              "  color: #000000;\n",
              "}\n",
              "#T_d29a0_row7_col4 {\n",
              "  font-size: 6pt;\n",
              "  background-color: #d3d3d3;\n",
              "  color: #000000;\n",
              "}\n",
              "#T_d29a0_row7_col5, #T_d29a0_row7_col11, #T_d29a0_row8_col15, #T_d29a0_row12_col20, #T_d29a0_row17_col24, #T_d29a0_row25_col12 {\n",
              "  font-size: 6pt;\n",
              "  background-color: #c6c6c6;\n",
              "  color: #000000;\n",
              "}\n",
              "#T_d29a0_row7_col6, #T_d29a0_row13_col7, #T_d29a0_row24_col11 {\n",
              "  font-size: 6pt;\n",
              "  background-color: #bdbdbd;\n",
              "  color: #000000;\n",
              "}\n",
              "#T_d29a0_row7_col7, #T_d29a0_row12_col22, #T_d29a0_row24_col13 {\n",
              "  font-size: 6pt;\n",
              "  background-color: #b6b6b6;\n",
              "  color: #000000;\n",
              "}\n",
              "#T_d29a0_row7_col8, #T_d29a0_row13_col20, #T_d29a0_row13_col22 {\n",
              "  font-size: 6pt;\n",
              "  background-color: #d9d9d9;\n",
              "  color: #000000;\n",
              "}\n",
              "#T_d29a0_row7_col9, #T_d29a0_row8_col10, #T_d29a0_row10_col10, #T_d29a0_row10_col16, #T_d29a0_row12_col0 {\n",
              "  font-size: 6pt;\n",
              "  background-color: #838383;\n",
              "  color: #f1f1f1;\n",
              "}\n",
              "#T_d29a0_row7_col10, #T_d29a0_row15_col5, #T_d29a0_row17_col23, #T_d29a0_row26_col14 {\n",
              "  font-size: 6pt;\n",
              "  background-color: #e9e9e9;\n",
              "  color: #000000;\n",
              "}\n",
              "#T_d29a0_row7_col12, #T_d29a0_row22_col16 {\n",
              "  font-size: 6pt;\n",
              "  background-color: #b5b5b5;\n",
              "  color: #000000;\n",
              "}\n",
              "#T_d29a0_row7_col13 {\n",
              "  font-size: 6pt;\n",
              "  background-color: #d0d0d0;\n",
              "  color: #000000;\n",
              "}\n",
              "#T_d29a0_row7_col14 {\n",
              "  font-size: 6pt;\n",
              "  background-color: #737373;\n",
              "  color: #f1f1f1;\n",
              "}\n",
              "#T_d29a0_row7_col15, #T_d29a0_row8_col12, #T_d29a0_row11_col8 {\n",
              "  font-size: 6pt;\n",
              "  background-color: #5f5f5f;\n",
              "  color: #f1f1f1;\n",
              "}\n",
              "#T_d29a0_row7_col17 {\n",
              "  font-size: 6pt;\n",
              "  background-color: #919191;\n",
              "  color: #f1f1f1;\n",
              "}\n",
              "#T_d29a0_row7_col18 {\n",
              "  font-size: 6pt;\n",
              "  background-color: #afafaf;\n",
              "  color: #000000;\n",
              "}\n",
              "#T_d29a0_row7_col19, #T_d29a0_row18_col17 {\n",
              "  font-size: 6pt;\n",
              "  background-color: #c8c8c8;\n",
              "  color: #000000;\n",
              "}\n",
              "#T_d29a0_row7_col21, #T_d29a0_row9_col20, #T_d29a0_row10_col13 {\n",
              "  font-size: 6pt;\n",
              "  background-color: #9f9f9f;\n",
              "  color: #f1f1f1;\n",
              "}\n",
              "#T_d29a0_row7_col22 {\n",
              "  font-size: 6pt;\n",
              "  background-color: #9e9e9e;\n",
              "  color: #f1f1f1;\n",
              "}\n",
              "#T_d29a0_row7_col23 {\n",
              "  font-size: 6pt;\n",
              "  background-color: #898989;\n",
              "  color: #f1f1f1;\n",
              "}\n",
              "#T_d29a0_row7_col24, #T_d29a0_row12_col8, #T_d29a0_row15_col12, #T_d29a0_row21_col14 {\n",
              "  font-size: 6pt;\n",
              "  background-color: #929292;\n",
              "  color: #f1f1f1;\n",
              "}\n",
              "#T_d29a0_row7_col25, #T_d29a0_row10_col9, #T_d29a0_row12_col19 {\n",
              "  font-size: 6pt;\n",
              "  background-color: #828282;\n",
              "  color: #f1f1f1;\n",
              "}\n",
              "#T_d29a0_row8_col0, #T_d29a0_row12_col4, #T_d29a0_row13_col25 {\n",
              "  font-size: 6pt;\n",
              "  background-color: #9d9d9d;\n",
              "  color: #f1f1f1;\n",
              "}\n",
              "#T_d29a0_row8_col1, #T_d29a0_row12_col5, #T_d29a0_row19_col13 {\n",
              "  font-size: 6pt;\n",
              "  background-color: #999999;\n",
              "  color: #f1f1f1;\n",
              "}\n",
              "#T_d29a0_row8_col2, #T_d29a0_row23_col11 {\n",
              "  font-size: 6pt;\n",
              "  background-color: #787878;\n",
              "  color: #f1f1f1;\n",
              "}\n",
              "#T_d29a0_row8_col4, #T_d29a0_row22_col15 {\n",
              "  font-size: 6pt;\n",
              "  background-color: #616161;\n",
              "  color: #f1f1f1;\n",
              "}\n",
              "#T_d29a0_row8_col5, #T_d29a0_row11_col3 {\n",
              "  font-size: 6pt;\n",
              "  background-color: #555555;\n",
              "  color: #f1f1f1;\n",
              "}\n",
              "#T_d29a0_row8_col6, #T_d29a0_row11_col21 {\n",
              "  font-size: 6pt;\n",
              "  background-color: #4d4d4d;\n",
              "  color: #f1f1f1;\n",
              "}\n",
              "#T_d29a0_row8_col7, #T_d29a0_row9_col1 {\n",
              "  font-size: 6pt;\n",
              "  background-color: #444444;\n",
              "  color: #f1f1f1;\n",
              "}\n",
              "#T_d29a0_row8_col8, #T_d29a0_row10_col18, #T_d29a0_row16_col15 {\n",
              "  font-size: 6pt;\n",
              "  background-color: #3d3d3d;\n",
              "  color: #f1f1f1;\n",
              "}\n",
              "#T_d29a0_row8_col9 {\n",
              "  font-size: 6pt;\n",
              "  background-color: #979797;\n",
              "  color: #f1f1f1;\n",
              "}\n",
              "#T_d29a0_row8_col11, #T_d29a0_row9_col9, #T_d29a0_row15_col15 {\n",
              "  font-size: 6pt;\n",
              "  background-color: #6b6b6b;\n",
              "  color: #f1f1f1;\n",
              "}\n",
              "#T_d29a0_row8_col13, #T_d29a0_row11_col7, #T_d29a0_row18_col18, #T_d29a0_row21_col15 {\n",
              "  font-size: 6pt;\n",
              "  background-color: #5b5b5b;\n",
              "  color: #f1f1f1;\n",
              "}\n",
              "#T_d29a0_row8_col14, #T_d29a0_row22_col17, #T_d29a0_row23_col14 {\n",
              "  font-size: 6pt;\n",
              "  background-color: #f0f0f0;\n",
              "  color: #000000;\n",
              "}\n",
              "#T_d29a0_row8_col17 {\n",
              "  font-size: 6pt;\n",
              "  background-color: #252525;\n",
              "  color: #f1f1f1;\n",
              "}\n",
              "#T_d29a0_row8_col18, #T_d29a0_row11_col5 {\n",
              "  font-size: 6pt;\n",
              "  background-color: #585858;\n",
              "  color: #f1f1f1;\n",
              "}\n",
              "#T_d29a0_row8_col19, #T_d29a0_row21_col11 {\n",
              "  font-size: 6pt;\n",
              "  background-color: #848484;\n",
              "  color: #f1f1f1;\n",
              "}\n",
              "#T_d29a0_row8_col20 {\n",
              "  font-size: 6pt;\n",
              "  background-color: #b8b8b8;\n",
              "  color: #000000;\n",
              "}\n",
              "#T_d29a0_row8_col21 {\n",
              "  font-size: 6pt;\n",
              "  background-color: #2f2f2f;\n",
              "  color: #f1f1f1;\n",
              "}\n",
              "#T_d29a0_row8_col22, #T_d29a0_row14_col10 {\n",
              "  font-size: 6pt;\n",
              "  background-color: #292929;\n",
              "  color: #f1f1f1;\n",
              "}\n",
              "#T_d29a0_row8_col23 {\n",
              "  font-size: 6pt;\n",
              "  background-color: #0f0f0f;\n",
              "  color: #f1f1f1;\n",
              "}\n",
              "#T_d29a0_row8_col25 {\n",
              "  font-size: 6pt;\n",
              "  background-color: #1f1f1f;\n",
              "  color: #f1f1f1;\n",
              "}\n",
              "#T_d29a0_row9_col0, #T_d29a0_row11_col6, #T_d29a0_row11_col14, #T_d29a0_row13_col11 {\n",
              "  font-size: 6pt;\n",
              "  background-color: #575757;\n",
              "  color: #f1f1f1;\n",
              "}\n",
              "#T_d29a0_row9_col10, #T_d29a0_row19_col14, #T_d29a0_row21_col18 {\n",
              "  font-size: 6pt;\n",
              "  background-color: #646464;\n",
              "  color: #f1f1f1;\n",
              "}\n",
              "#T_d29a0_row9_col11, #T_d29a0_row9_col13 {\n",
              "  font-size: 6pt;\n",
              "  background-color: #5a5a5a;\n",
              "  color: #f1f1f1;\n",
              "}\n",
              "#T_d29a0_row9_col12, #T_d29a0_row9_col17 {\n",
              "  font-size: 6pt;\n",
              "  background-color: #565656;\n",
              "  color: #f1f1f1;\n",
              "}\n",
              "#T_d29a0_row9_col15, #T_d29a0_row13_col8, #T_d29a0_row13_col21 {\n",
              "  font-size: 6pt;\n",
              "  background-color: #c1c1c1;\n",
              "  color: #000000;\n",
              "}\n",
              "#T_d29a0_row9_col16, #T_d29a0_row10_col27, #T_d29a0_row11_col24, #T_d29a0_row12_col23, #T_d29a0_row14_col21, #T_d29a0_row16_col23, #T_d29a0_row23_col16 {\n",
              "  font-size: 6pt;\n",
              "  background-color: #d4d4d4;\n",
              "  color: #000000;\n",
              "}\n",
              "#T_d29a0_row9_col18 {\n",
              "  font-size: 6pt;\n",
              "  background-color: #363636;\n",
              "  color: #f1f1f1;\n",
              "}\n",
              "#T_d29a0_row9_col24 {\n",
              "  font-size: 6pt;\n",
              "  background-color: #161616;\n",
              "  color: #f1f1f1;\n",
              "}\n",
              "#T_d29a0_row10_col5, #T_d29a0_row17_col20, #T_d29a0_row20_col17 {\n",
              "  font-size: 6pt;\n",
              "  background-color: #0a0a0a;\n",
              "  color: #f1f1f1;\n",
              "}\n",
              "#T_d29a0_row10_col6, #T_d29a0_row10_col21, #T_d29a0_row14_col11 {\n",
              "  font-size: 6pt;\n",
              "  background-color: #0e0e0e;\n",
              "  color: #f1f1f1;\n",
              "}\n",
              "#T_d29a0_row10_col7, #T_d29a0_row17_col16 {\n",
              "  font-size: 6pt;\n",
              "  background-color: #151515;\n",
              "  color: #f1f1f1;\n",
              "}\n",
              "#T_d29a0_row10_col8 {\n",
              "  font-size: 6pt;\n",
              "  background-color: #1b1b1b;\n",
              "  color: #f1f1f1;\n",
              "}\n",
              "#T_d29a0_row10_col11, #T_d29a0_row17_col21 {\n",
              "  font-size: 6pt;\n",
              "  background-color: #888888;\n",
              "  color: #f1f1f1;\n",
              "}\n",
              "#T_d29a0_row10_col12, #T_d29a0_row22_col13 {\n",
              "  font-size: 6pt;\n",
              "  background-color: #939393;\n",
              "  color: #f1f1f1;\n",
              "}\n",
              "#T_d29a0_row10_col15, #T_d29a0_row18_col14 {\n",
              "  font-size: 6pt;\n",
              "  background-color: #6a6a6a;\n",
              "  color: #f1f1f1;\n",
              "}\n",
              "#T_d29a0_row10_col17 {\n",
              "  font-size: 6pt;\n",
              "  background-color: #878787;\n",
              "  color: #f1f1f1;\n",
              "}\n",
              "#T_d29a0_row10_col19 {\n",
              "  font-size: 6pt;\n",
              "  background-color: #666666;\n",
              "  color: #f1f1f1;\n",
              "}\n",
              "#T_d29a0_row10_col20, #T_d29a0_row11_col23 {\n",
              "  font-size: 6pt;\n",
              "  background-color: #a0a0a0;\n",
              "  color: #f1f1f1;\n",
              "}\n",
              "#T_d29a0_row10_col22 {\n",
              "  font-size: 6pt;\n",
              "  background-color: #222222;\n",
              "  color: #f1f1f1;\n",
              "}\n",
              "#T_d29a0_row10_col23, #T_d29a0_row10_col25, #T_d29a0_row22_col10 {\n",
              "  font-size: 6pt;\n",
              "  background-color: #4e4e4e;\n",
              "  color: #f1f1f1;\n",
              "}\n",
              "#T_d29a0_row10_col24, #T_d29a0_row17_col17 {\n",
              "  font-size: 6pt;\n",
              "  background-color: #777777;\n",
              "  color: #f1f1f1;\n",
              "}\n",
              "#T_d29a0_row10_col26 {\n",
              "  font-size: 6pt;\n",
              "  background-color: #272727;\n",
              "  color: #f1f1f1;\n",
              "}\n",
              "#T_d29a0_row11_col0 {\n",
              "  font-size: 6pt;\n",
              "  background-color: #212121;\n",
              "  color: #f1f1f1;\n",
              "}\n",
              "#T_d29a0_row11_col1 {\n",
              "  font-size: 6pt;\n",
              "  background-color: #484848;\n",
              "  color: #f1f1f1;\n",
              "}\n",
              "#T_d29a0_row11_col2 {\n",
              "  font-size: 6pt;\n",
              "  background-color: #434343;\n",
              "  color: #f1f1f1;\n",
              "}\n",
              "#T_d29a0_row11_col4 {\n",
              "  font-size: 6pt;\n",
              "  background-color: #505050;\n",
              "  color: #f1f1f1;\n",
              "}\n",
              "#T_d29a0_row11_col10, #T_d29a0_row20_col12, #T_d29a0_row23_col13 {\n",
              "  font-size: 6pt;\n",
              "  background-color: #bbbbbb;\n",
              "  color: #000000;\n",
              "}\n",
              "#T_d29a0_row11_col11, #T_d29a0_row24_col15 {\n",
              "  font-size: 6pt;\n",
              "  background-color: #c9c9c9;\n",
              "  color: #000000;\n",
              "}\n",
              "#T_d29a0_row11_col12, #T_d29a0_row14_col6, #T_d29a0_row15_col14, #T_d29a0_row24_col8, #T_d29a0_row25_col8, #T_d29a0_row25_col15 {\n",
              "  font-size: 6pt;\n",
              "  background-color: #d8d8d8;\n",
              "  color: #000000;\n",
              "}\n",
              "#T_d29a0_row11_col13, #T_d29a0_row13_col17, #T_d29a0_row18_col12 {\n",
              "  font-size: 6pt;\n",
              "  background-color: #e3e3e3;\n",
              "  color: #000000;\n",
              "}\n",
              "#T_d29a0_row11_col15 {\n",
              "  font-size: 6pt;\n",
              "  background-color: #171717;\n",
              "  color: #f1f1f1;\n",
              "}\n",
              "#T_d29a0_row11_col16, #T_d29a0_row11_col20, #T_d29a0_row23_col10 {\n",
              "  font-size: 6pt;\n",
              "  background-color: #b0b0b0;\n",
              "  color: #000000;\n",
              "}\n",
              "#T_d29a0_row11_col17, #T_d29a0_row15_col25 {\n",
              "  font-size: 6pt;\n",
              "  background-color: #515151;\n",
              "  color: #f1f1f1;\n",
              "}\n",
              "#T_d29a0_row11_col18, #T_d29a0_row12_col13 {\n",
              "  font-size: 6pt;\n",
              "  background-color: #464646;\n",
              "  color: #f1f1f1;\n",
              "}\n",
              "#T_d29a0_row11_col19 {\n",
              "  font-size: 6pt;\n",
              "  background-color: #707070;\n",
              "  color: #f1f1f1;\n",
              "}\n",
              "#T_d29a0_row11_col22, #T_d29a0_row12_col17, #T_d29a0_row13_col16, #T_d29a0_row15_col10 {\n",
              "  font-size: 6pt;\n",
              "  background-color: #6d6d6d;\n",
              "  color: #f1f1f1;\n",
              "}\n",
              "#T_d29a0_row12_col1, #T_d29a0_row16_col14, #T_d29a0_row17_col25 {\n",
              "  font-size: 6pt;\n",
              "  background-color: #aaaaaa;\n",
              "  color: #f1f1f1;\n",
              "}\n",
              "#T_d29a0_row12_col2, #T_d29a0_row14_col24 {\n",
              "  font-size: 6pt;\n",
              "  background-color: #a8a8a8;\n",
              "  color: #f1f1f1;\n",
              "}\n",
              "#T_d29a0_row12_col3, #T_d29a0_row12_col12 {\n",
              "  font-size: 6pt;\n",
              "  background-color: #a9a9a9;\n",
              "  color: #f1f1f1;\n",
              "}\n",
              "#T_d29a0_row12_col6 {\n",
              "  font-size: 6pt;\n",
              "  background-color: #949494;\n",
              "  color: #f1f1f1;\n",
              "}\n",
              "#T_d29a0_row12_col7 {\n",
              "  font-size: 6pt;\n",
              "  background-color: #8e8e8e;\n",
              "  color: #f1f1f1;\n",
              "}\n",
              "#T_d29a0_row12_col9, #T_d29a0_row12_col25, #T_d29a0_row14_col23, #T_d29a0_row16_col25, #T_d29a0_row19_col12, #T_d29a0_row25_col14 {\n",
              "  font-size: 6pt;\n",
              "  background-color: #d1d1d1;\n",
              "  color: #000000;\n",
              "}\n",
              "#T_d29a0_row12_col14 {\n",
              "  font-size: 6pt;\n",
              "  background-color: #020202;\n",
              "  color: #f1f1f1;\n",
              "}\n",
              "#T_d29a0_row12_col16, #T_d29a0_row12_col27 {\n",
              "  font-size: 6pt;\n",
              "  background-color: #c7c7c7;\n",
              "  color: #000000;\n",
              "}\n",
              "#T_d29a0_row12_col18, #T_d29a0_row16_col20 {\n",
              "  font-size: 6pt;\n",
              "  background-color: #4b4b4b;\n",
              "  color: #f1f1f1;\n",
              "}\n",
              "#T_d29a0_row12_col24, #T_d29a0_row18_col24, #T_d29a0_row18_col25 {\n",
              "  font-size: 6pt;\n",
              "  background-color: #eaeaea;\n",
              "  color: #000000;\n",
              "}\n",
              "#T_d29a0_row13_col1, #T_d29a0_row13_col10, #T_d29a0_row14_col3 {\n",
              "  font-size: 6pt;\n",
              "  background-color: #eeeeee;\n",
              "  color: #000000;\n",
              "}\n",
              "#T_d29a0_row13_col2, #T_d29a0_row13_col23 {\n",
              "  font-size: 6pt;\n",
              "  background-color: #dfdfdf;\n",
              "  color: #000000;\n",
              "}\n",
              "#T_d29a0_row13_col3 {\n",
              "  font-size: 6pt;\n",
              "  background-color: #dadada;\n",
              "  color: #000000;\n",
              "}\n",
              "#T_d29a0_row13_col4, #T_d29a0_row25_col11, #T_d29a0_row25_col13 {\n",
              "  font-size: 6pt;\n",
              "  background-color: #cbcbcb;\n",
              "  color: #000000;\n",
              "}\n",
              "#T_d29a0_row13_col5, #T_d29a0_row21_col13 {\n",
              "  font-size: 6pt;\n",
              "  background-color: #c5c5c5;\n",
              "  color: #000000;\n",
              "}\n",
              "#T_d29a0_row13_col6 {\n",
              "  font-size: 6pt;\n",
              "  background-color: #c0c0c0;\n",
              "  color: #000000;\n",
              "}\n",
              "#T_d29a0_row13_col12 {\n",
              "  font-size: 6pt;\n",
              "  background-color: #070707;\n",
              "  color: #f1f1f1;\n",
              "}\n",
              "#T_d29a0_row13_col15 {\n",
              "  font-size: 6pt;\n",
              "  background-color: #111111;\n",
              "  color: #f1f1f1;\n",
              "}\n",
              "#T_d29a0_row13_col18, #T_d29a0_row14_col17 {\n",
              "  font-size: 6pt;\n",
              "  background-color: #cacaca;\n",
              "  color: #000000;\n",
              "}\n",
              "#T_d29a0_row13_col19 {\n",
              "  font-size: 6pt;\n",
              "  background-color: #9a9a9a;\n",
              "  color: #f1f1f1;\n",
              "}\n",
              "#T_d29a0_row13_col24, #T_d29a0_row15_col23, #T_d29a0_row24_col10 {\n",
              "  font-size: 6pt;\n",
              "  background-color: #cccccc;\n",
              "  color: #000000;\n",
              "}\n",
              "#T_d29a0_row13_col26 {\n",
              "  font-size: 6pt;\n",
              "  background-color: #7f7f7f;\n",
              "  color: #f1f1f1;\n",
              "}\n",
              "#T_d29a0_row14_col1, #T_d29a0_row15_col20, #T_d29a0_row18_col7, #T_d29a0_row18_col9, #T_d29a0_row19_col1, #T_d29a0_row19_col21, #T_d29a0_row21_col24, #T_d29a0_row22_col6, #T_d29a0_row24_col4, #T_d29a0_row26_col18 {\n",
              "  font-size: 6pt;\n",
              "  background-color: #fbfbfb;\n",
              "  color: #000000;\n",
              "}\n",
              "#T_d29a0_row14_col4 {\n",
              "  font-size: 6pt;\n",
              "  background-color: #e2e2e2;\n",
              "  color: #000000;\n",
              "}\n",
              "#T_d29a0_row14_col5, #T_d29a0_row14_col22, #T_d29a0_row15_col22, #T_d29a0_row23_col15 {\n",
              "  font-size: 6pt;\n",
              "  background-color: #dbdbdb;\n",
              "  color: #000000;\n",
              "}\n",
              "#T_d29a0_row14_col7, #T_d29a0_row14_col16 {\n",
              "  font-size: 6pt;\n",
              "  background-color: #d7d7d7;\n",
              "  color: #000000;\n",
              "}\n",
              "#T_d29a0_row14_col8, #T_d29a0_row15_col17, #T_d29a0_row15_col21, #T_d29a0_row24_col16 {\n",
              "  font-size: 6pt;\n",
              "  background-color: #dcdcdc;\n",
              "  color: #000000;\n",
              "}\n",
              "#T_d29a0_row14_col12 {\n",
              "  font-size: 6pt;\n",
              "  background-color: #060606;\n",
              "  color: #f1f1f1;\n",
              "}\n",
              "#T_d29a0_row14_col14 {\n",
              "  font-size: 6pt;\n",
              "  background-color: #2c2c2c;\n",
              "  color: #f1f1f1;\n",
              "}\n",
              "#T_d29a0_row14_col15 {\n",
              "  font-size: 6pt;\n",
              "  background-color: #cdcdcd;\n",
              "  color: #000000;\n",
              "}\n",
              "#T_d29a0_row14_col18, #T_d29a0_row22_col9 {\n",
              "  font-size: 6pt;\n",
              "  background-color: #b3b3b3;\n",
              "  color: #000000;\n",
              "}\n",
              "#T_d29a0_row14_col25 {\n",
              "  font-size: 6pt;\n",
              "  background-color: #2e2e2e;\n",
              "  color: #f1f1f1;\n",
              "}\n",
              "#T_d29a0_row15_col8, #T_d29a0_row18_col0, #T_d29a0_row23_col17 {\n",
              "  font-size: 6pt;\n",
              "  background-color: #ececec;\n",
              "  color: #000000;\n",
              "}\n",
              "#T_d29a0_row15_col11, #T_d29a0_row18_col16 {\n",
              "  font-size: 6pt;\n",
              "  background-color: #474747;\n",
              "  color: #f1f1f1;\n",
              "}\n",
              "#T_d29a0_row15_col13 {\n",
              "  font-size: 6pt;\n",
              "  background-color: #ebebeb;\n",
              "  color: #000000;\n",
              "}\n",
              "#T_d29a0_row15_col16, #T_d29a0_row21_col16 {\n",
              "  font-size: 6pt;\n",
              "  background-color: #0d0d0d;\n",
              "  color: #f1f1f1;\n",
              "}\n",
              "#T_d29a0_row15_col18, #T_d29a0_row20_col13 {\n",
              "  font-size: 6pt;\n",
              "  background-color: #8d8d8d;\n",
              "  color: #f1f1f1;\n",
              "}\n",
              "#T_d29a0_row15_col19 {\n",
              "  font-size: 6pt;\n",
              "  background-color: #525252;\n",
              "  color: #f1f1f1;\n",
              "}\n",
              "#T_d29a0_row15_col24, #T_d29a0_row20_col15 {\n",
              "  font-size: 6pt;\n",
              "  background-color: #8f8f8f;\n",
              "  color: #f1f1f1;\n",
              "}\n",
              "#T_d29a0_row16_col0, #T_d29a0_row16_col5, #T_d29a0_row16_col8, #T_d29a0_row16_col12, #T_d29a0_row26_col7 {\n",
              "  font-size: 6pt;\n",
              "  background-color: #f3f3f3;\n",
              "  color: #000000;\n",
              "}\n",
              "#T_d29a0_row16_col7, #T_d29a0_row24_col6, #T_d29a0_row25_col6, #T_d29a0_row25_col17, #T_d29a0_row26_col16 {\n",
              "  font-size: 6pt;\n",
              "  background-color: #f2f2f2;\n",
              "  color: #000000;\n",
              "}\n",
              "#T_d29a0_row16_col13, #T_d29a0_row16_col21, #T_d29a0_row23_col8, #T_d29a0_row25_col16 {\n",
              "  font-size: 6pt;\n",
              "  background-color: #e4e4e4;\n",
              "  color: #000000;\n",
              "}\n",
              "#T_d29a0_row16_col17 {\n",
              "  font-size: 6pt;\n",
              "  background-color: #696969;\n",
              "  color: #f1f1f1;\n",
              "}\n",
              "#T_d29a0_row16_col18 {\n",
              "  font-size: 6pt;\n",
              "  background-color: #a4a4a4;\n",
              "  color: #f1f1f1;\n",
              "}\n",
              "#T_d29a0_row17_col12, #T_d29a0_row26_col8, #T_d29a0_row26_col10, #T_d29a0_row26_col15 {\n",
              "  font-size: 6pt;\n",
              "  background-color: #ededed;\n",
              "  color: #000000;\n",
              "}\n",
              "#T_d29a0_row17_col13 {\n",
              "  font-size: 6pt;\n",
              "  background-color: #cfcfcf;\n",
              "  color: #000000;\n",
              "}\n",
              "#T_d29a0_row17_col14 {\n",
              "  font-size: 6pt;\n",
              "  background-color: #818181;\n",
              "  color: #f1f1f1;\n",
              "}\n",
              "#T_d29a0_row17_col15 {\n",
              "  font-size: 6pt;\n",
              "  background-color: #242424;\n",
              "  color: #f1f1f1;\n",
              "}\n",
              "#T_d29a0_row17_col18, #T_d29a0_row25_col10 {\n",
              "  font-size: 6pt;\n",
              "  background-color: #d5d5d5;\n",
              "  color: #000000;\n",
              "}\n",
              "#T_d29a0_row17_col19 {\n",
              "  font-size: 6pt;\n",
              "  background-color: #1a1a1a;\n",
              "  color: #f1f1f1;\n",
              "}\n",
              "#T_d29a0_row17_col22, #T_d29a0_row19_col11, #T_d29a0_row19_col25, #T_d29a0_row24_col17 {\n",
              "  font-size: 6pt;\n",
              "  background-color: #efefef;\n",
              "  color: #000000;\n",
              "}\n",
              "#T_d29a0_row18_col13 {\n",
              "  font-size: 6pt;\n",
              "  background-color: #b4b4b4;\n",
              "  color: #000000;\n",
              "}\n",
              "#T_d29a0_row18_col15 {\n",
              "  font-size: 6pt;\n",
              "  background-color: #2b2b2b;\n",
              "  color: #f1f1f1;\n",
              "}\n",
              "#T_d29a0_row18_col21 {\n",
              "  font-size: 6pt;\n",
              "  background-color: #3f3f3f;\n",
              "  color: #f1f1f1;\n",
              "}\n",
              "#T_d29a0_row18_col26 {\n",
              "  font-size: 6pt;\n",
              "  background-color: #404040;\n",
              "  color: #f1f1f1;\n",
              "}\n",
              "#T_d29a0_row19_col15 {\n",
              "  font-size: 6pt;\n",
              "  background-color: #656565;\n",
              "  color: #f1f1f1;\n",
              "}\n",
              "#T_d29a0_row19_col16, #T_d29a0_row26_col12 {\n",
              "  font-size: 6pt;\n",
              "  background-color: #e6e6e6;\n",
              "  color: #000000;\n",
              "}\n",
              "#T_d29a0_row19_col17 {\n",
              "  font-size: 6pt;\n",
              "  background-color: #636363;\n",
              "  color: #f1f1f1;\n",
              "}\n",
              "#T_d29a0_row19_col18 {\n",
              "  font-size: 6pt;\n",
              "  background-color: #0c0c0c;\n",
              "  color: #f1f1f1;\n",
              "}\n",
              "#T_d29a0_row19_col20 {\n",
              "  font-size: 6pt;\n",
              "  background-color: #5e5e5e;\n",
              "  color: #f1f1f1;\n",
              "}\n",
              "#T_d29a0_row20_col10 {\n",
              "  font-size: 6pt;\n",
              "  background-color: #767676;\n",
              "  color: #f1f1f1;\n",
              "}\n",
              "#T_d29a0_row20_col14 {\n",
              "  font-size: 6pt;\n",
              "  background-color: #d6d6d6;\n",
              "  color: #000000;\n",
              "}\n",
              "#T_d29a0_row20_col16 {\n",
              "  font-size: 6pt;\n",
              "  background-color: #282828;\n",
              "  color: #f1f1f1;\n",
              "}\n",
              "#T_d29a0_row20_col19 {\n",
              "  font-size: 6pt;\n",
              "  background-color: #131313;\n",
              "  color: #f1f1f1;\n",
              "}\n",
              "#T_d29a0_row21_col9 {\n",
              "  font-size: 6pt;\n",
              "  background-color: #a2a2a2;\n",
              "  color: #f1f1f1;\n",
              "}\n",
              "#T_d29a0_row21_col10 {\n",
              "  font-size: 6pt;\n",
              "  background-color: #414141;\n",
              "  color: #f1f1f1;\n",
              "}\n",
              "#T_d29a0_row22_col11 {\n",
              "  font-size: 6pt;\n",
              "  background-color: #6f6f6f;\n",
              "  color: #f1f1f1;\n",
              "}\n",
              "#T_d29a0_row22_col12 {\n",
              "  font-size: 6pt;\n",
              "  background-color: #8a8a8a;\n",
              "  color: #f1f1f1;\n",
              "}\n",
              "#T_d29a0_row22_col14 {\n",
              "  font-size: 6pt;\n",
              "  background-color: #7c7c7c;\n",
              "  color: #f1f1f1;\n",
              "}\n",
              "#T_d29a0_row23_col12 {\n",
              "  font-size: 6pt;\n",
              "  background-color: #868686;\n",
              "  color: #f1f1f1;\n",
              "}\n",
              "#T_d29a0_row24_col9 {\n",
              "  font-size: 6pt;\n",
              "  background-color: #dddddd;\n",
              "  color: #000000;\n",
              "}\n",
              "#T_d29a0_row24_col14 {\n",
              "  font-size: 6pt;\n",
              "  background-color: #bfbfbf;\n",
              "  color: #000000;\n",
              "}\n",
              "#T_d29a0_row25_col9 {\n",
              "  font-size: 6pt;\n",
              "  background-color: #e0e0e0;\n",
              "  color: #000000;\n",
              "}\n",
              "#T_d29a0_row26_col11 {\n",
              "  font-size: 6pt;\n",
              "  background-color: #e8e8e8;\n",
              "  color: #000000;\n",
              "}\n",
              "</style>\n",
              "<table id=\"T_d29a0_\" class=\"dataframe\">\n",
              "  <thead>\n",
              "    <tr>\n",
              "      <th class=\"blank level0\" >&nbsp;</th>\n",
              "      <th class=\"col_heading level0 col0\" >0</th>\n",
              "      <th class=\"col_heading level0 col1\" >1</th>\n",
              "      <th class=\"col_heading level0 col2\" >2</th>\n",
              "      <th class=\"col_heading level0 col3\" >3</th>\n",
              "      <th class=\"col_heading level0 col4\" >4</th>\n",
              "      <th class=\"col_heading level0 col5\" >5</th>\n",
              "      <th class=\"col_heading level0 col6\" >6</th>\n",
              "      <th class=\"col_heading level0 col7\" >7</th>\n",
              "      <th class=\"col_heading level0 col8\" >8</th>\n",
              "      <th class=\"col_heading level0 col9\" >9</th>\n",
              "      <th class=\"col_heading level0 col10\" >10</th>\n",
              "      <th class=\"col_heading level0 col11\" >11</th>\n",
              "      <th class=\"col_heading level0 col12\" >12</th>\n",
              "      <th class=\"col_heading level0 col13\" >13</th>\n",
              "      <th class=\"col_heading level0 col14\" >14</th>\n",
              "      <th class=\"col_heading level0 col15\" >15</th>\n",
              "      <th class=\"col_heading level0 col16\" >16</th>\n",
              "      <th class=\"col_heading level0 col17\" >17</th>\n",
              "      <th class=\"col_heading level0 col18\" >18</th>\n",
              "      <th class=\"col_heading level0 col19\" >19</th>\n",
              "      <th class=\"col_heading level0 col20\" >20</th>\n",
              "      <th class=\"col_heading level0 col21\" >21</th>\n",
              "      <th class=\"col_heading level0 col22\" >22</th>\n",
              "      <th class=\"col_heading level0 col23\" >23</th>\n",
              "      <th class=\"col_heading level0 col24\" >24</th>\n",
              "      <th class=\"col_heading level0 col25\" >25</th>\n",
              "      <th class=\"col_heading level0 col26\" >26</th>\n",
              "      <th class=\"col_heading level0 col27\" >27</th>\n",
              "    </tr>\n",
              "  </thead>\n",
              "  <tbody>\n",
              "    <tr>\n",
              "      <th id=\"T_d29a0_level0_row0\" class=\"row_heading level0 row0\" >0</th>\n",
              "      <td id=\"T_d29a0_row0_col0\" class=\"data row0 col0\" >0.000000</td>\n",
              "      <td id=\"T_d29a0_row0_col1\" class=\"data row0 col1\" >0.000000</td>\n",
              "      <td id=\"T_d29a0_row0_col2\" class=\"data row0 col2\" >0.000000</td>\n",
              "      <td id=\"T_d29a0_row0_col3\" class=\"data row0 col3\" >0.000000</td>\n",
              "      <td id=\"T_d29a0_row0_col4\" class=\"data row0 col4\" >0.000000</td>\n",
              "      <td id=\"T_d29a0_row0_col5\" class=\"data row0 col5\" >0.000000</td>\n",
              "      <td id=\"T_d29a0_row0_col6\" class=\"data row0 col6\" >0.000000</td>\n",
              "      <td id=\"T_d29a0_row0_col7\" class=\"data row0 col7\" >0.000000</td>\n",
              "      <td id=\"T_d29a0_row0_col8\" class=\"data row0 col8\" >0.000000</td>\n",
              "      <td id=\"T_d29a0_row0_col9\" class=\"data row0 col9\" >0.000000</td>\n",
              "      <td id=\"T_d29a0_row0_col10\" class=\"data row0 col10\" >0.000000</td>\n",
              "      <td id=\"T_d29a0_row0_col11\" class=\"data row0 col11\" >0.000000</td>\n",
              "      <td id=\"T_d29a0_row0_col12\" class=\"data row0 col12\" >0.000000</td>\n",
              "      <td id=\"T_d29a0_row0_col13\" class=\"data row0 col13\" >0.000000</td>\n",
              "      <td id=\"T_d29a0_row0_col14\" class=\"data row0 col14\" >0.000000</td>\n",
              "      <td id=\"T_d29a0_row0_col15\" class=\"data row0 col15\" >0.000000</td>\n",
              "      <td id=\"T_d29a0_row0_col16\" class=\"data row0 col16\" >0.000000</td>\n",
              "      <td id=\"T_d29a0_row0_col17\" class=\"data row0 col17\" >0.000000</td>\n",
              "      <td id=\"T_d29a0_row0_col18\" class=\"data row0 col18\" >0.000000</td>\n",
              "      <td id=\"T_d29a0_row0_col19\" class=\"data row0 col19\" >0.000000</td>\n",
              "      <td id=\"T_d29a0_row0_col20\" class=\"data row0 col20\" >0.000000</td>\n",
              "      <td id=\"T_d29a0_row0_col21\" class=\"data row0 col21\" >0.000000</td>\n",
              "      <td id=\"T_d29a0_row0_col22\" class=\"data row0 col22\" >0.000000</td>\n",
              "      <td id=\"T_d29a0_row0_col23\" class=\"data row0 col23\" >0.000000</td>\n",
              "      <td id=\"T_d29a0_row0_col24\" class=\"data row0 col24\" >0.000000</td>\n",
              "      <td id=\"T_d29a0_row0_col25\" class=\"data row0 col25\" >0.000000</td>\n",
              "      <td id=\"T_d29a0_row0_col26\" class=\"data row0 col26\" >0.000000</td>\n",
              "      <td id=\"T_d29a0_row0_col27\" class=\"data row0 col27\" >0.000000</td>\n",
              "    </tr>\n",
              "    <tr>\n",
              "      <th id=\"T_d29a0_level0_row1\" class=\"row_heading level0 row1\" >1</th>\n",
              "      <td id=\"T_d29a0_row1_col0\" class=\"data row1 col0\" >0.000000</td>\n",
              "      <td id=\"T_d29a0_row1_col1\" class=\"data row1 col1\" >0.000000</td>\n",
              "      <td id=\"T_d29a0_row1_col2\" class=\"data row1 col2\" >0.000000</td>\n",
              "      <td id=\"T_d29a0_row1_col3\" class=\"data row1 col3\" >0.000000</td>\n",
              "      <td id=\"T_d29a0_row1_col4\" class=\"data row1 col4\" >0.000000</td>\n",
              "      <td id=\"T_d29a0_row1_col5\" class=\"data row1 col5\" >0.000000</td>\n",
              "      <td id=\"T_d29a0_row1_col6\" class=\"data row1 col6\" >0.000000</td>\n",
              "      <td id=\"T_d29a0_row1_col7\" class=\"data row1 col7\" >0.000000</td>\n",
              "      <td id=\"T_d29a0_row1_col8\" class=\"data row1 col8\" >0.000000</td>\n",
              "      <td id=\"T_d29a0_row1_col9\" class=\"data row1 col9\" >0.000000</td>\n",
              "      <td id=\"T_d29a0_row1_col10\" class=\"data row1 col10\" >0.000000</td>\n",
              "      <td id=\"T_d29a0_row1_col11\" class=\"data row1 col11\" >0.000000</td>\n",
              "      <td id=\"T_d29a0_row1_col12\" class=\"data row1 col12\" >0.000000</td>\n",
              "      <td id=\"T_d29a0_row1_col13\" class=\"data row1 col13\" >0.000000</td>\n",
              "      <td id=\"T_d29a0_row1_col14\" class=\"data row1 col14\" >0.000000</td>\n",
              "      <td id=\"T_d29a0_row1_col15\" class=\"data row1 col15\" >0.000000</td>\n",
              "      <td id=\"T_d29a0_row1_col16\" class=\"data row1 col16\" >0.000000</td>\n",
              "      <td id=\"T_d29a0_row1_col17\" class=\"data row1 col17\" >0.000000</td>\n",
              "      <td id=\"T_d29a0_row1_col18\" class=\"data row1 col18\" >0.000000</td>\n",
              "      <td id=\"T_d29a0_row1_col19\" class=\"data row1 col19\" >0.000000</td>\n",
              "      <td id=\"T_d29a0_row1_col20\" class=\"data row1 col20\" >0.000000</td>\n",
              "      <td id=\"T_d29a0_row1_col21\" class=\"data row1 col21\" >0.000000</td>\n",
              "      <td id=\"T_d29a0_row1_col22\" class=\"data row1 col22\" >0.000000</td>\n",
              "      <td id=\"T_d29a0_row1_col23\" class=\"data row1 col23\" >0.000000</td>\n",
              "      <td id=\"T_d29a0_row1_col24\" class=\"data row1 col24\" >0.000000</td>\n",
              "      <td id=\"T_d29a0_row1_col25\" class=\"data row1 col25\" >0.000000</td>\n",
              "      <td id=\"T_d29a0_row1_col26\" class=\"data row1 col26\" >0.000000</td>\n",
              "      <td id=\"T_d29a0_row1_col27\" class=\"data row1 col27\" >0.000000</td>\n",
              "    </tr>\n",
              "    <tr>\n",
              "      <th id=\"T_d29a0_level0_row2\" class=\"row_heading level0 row2\" >2</th>\n",
              "      <td id=\"T_d29a0_row2_col0\" class=\"data row2 col0\" >0.000000</td>\n",
              "      <td id=\"T_d29a0_row2_col1\" class=\"data row2 col1\" >0.000000</td>\n",
              "      <td id=\"T_d29a0_row2_col2\" class=\"data row2 col2\" >0.000000</td>\n",
              "      <td id=\"T_d29a0_row2_col3\" class=\"data row2 col3\" >0.000000</td>\n",
              "      <td id=\"T_d29a0_row2_col4\" class=\"data row2 col4\" >0.000000</td>\n",
              "      <td id=\"T_d29a0_row2_col5\" class=\"data row2 col5\" >0.000000</td>\n",
              "      <td id=\"T_d29a0_row2_col6\" class=\"data row2 col6\" >0.000000</td>\n",
              "      <td id=\"T_d29a0_row2_col7\" class=\"data row2 col7\" >0.000000</td>\n",
              "      <td id=\"T_d29a0_row2_col8\" class=\"data row2 col8\" >0.000000</td>\n",
              "      <td id=\"T_d29a0_row2_col9\" class=\"data row2 col9\" >0.000000</td>\n",
              "      <td id=\"T_d29a0_row2_col10\" class=\"data row2 col10\" >0.000000</td>\n",
              "      <td id=\"T_d29a0_row2_col11\" class=\"data row2 col11\" >0.000000</td>\n",
              "      <td id=\"T_d29a0_row2_col12\" class=\"data row2 col12\" >0.000000</td>\n",
              "      <td id=\"T_d29a0_row2_col13\" class=\"data row2 col13\" >0.000000</td>\n",
              "      <td id=\"T_d29a0_row2_col14\" class=\"data row2 col14\" >0.000000</td>\n",
              "      <td id=\"T_d29a0_row2_col15\" class=\"data row2 col15\" >0.000000</td>\n",
              "      <td id=\"T_d29a0_row2_col16\" class=\"data row2 col16\" >0.000000</td>\n",
              "      <td id=\"T_d29a0_row2_col17\" class=\"data row2 col17\" >0.000000</td>\n",
              "      <td id=\"T_d29a0_row2_col18\" class=\"data row2 col18\" >0.000000</td>\n",
              "      <td id=\"T_d29a0_row2_col19\" class=\"data row2 col19\" >0.000000</td>\n",
              "      <td id=\"T_d29a0_row2_col20\" class=\"data row2 col20\" >0.000000</td>\n",
              "      <td id=\"T_d29a0_row2_col21\" class=\"data row2 col21\" >0.000000</td>\n",
              "      <td id=\"T_d29a0_row2_col22\" class=\"data row2 col22\" >0.000000</td>\n",
              "      <td id=\"T_d29a0_row2_col23\" class=\"data row2 col23\" >0.000000</td>\n",
              "      <td id=\"T_d29a0_row2_col24\" class=\"data row2 col24\" >0.000000</td>\n",
              "      <td id=\"T_d29a0_row2_col25\" class=\"data row2 col25\" >0.000000</td>\n",
              "      <td id=\"T_d29a0_row2_col26\" class=\"data row2 col26\" >0.000000</td>\n",
              "      <td id=\"T_d29a0_row2_col27\" class=\"data row2 col27\" >0.000000</td>\n",
              "    </tr>\n",
              "    <tr>\n",
              "      <th id=\"T_d29a0_level0_row3\" class=\"row_heading level0 row3\" >3</th>\n",
              "      <td id=\"T_d29a0_row3_col0\" class=\"data row3 col0\" >0.000000</td>\n",
              "      <td id=\"T_d29a0_row3_col1\" class=\"data row3 col1\" >0.000000</td>\n",
              "      <td id=\"T_d29a0_row3_col2\" class=\"data row3 col2\" >0.000000</td>\n",
              "      <td id=\"T_d29a0_row3_col3\" class=\"data row3 col3\" >0.000000</td>\n",
              "      <td id=\"T_d29a0_row3_col4\" class=\"data row3 col4\" >0.000000</td>\n",
              "      <td id=\"T_d29a0_row3_col5\" class=\"data row3 col5\" >0.000000</td>\n",
              "      <td id=\"T_d29a0_row3_col6\" class=\"data row3 col6\" >0.000000</td>\n",
              "      <td id=\"T_d29a0_row3_col7\" class=\"data row3 col7\" >0.000000</td>\n",
              "      <td id=\"T_d29a0_row3_col8\" class=\"data row3 col8\" >0.000000</td>\n",
              "      <td id=\"T_d29a0_row3_col9\" class=\"data row3 col9\" >0.000000</td>\n",
              "      <td id=\"T_d29a0_row3_col10\" class=\"data row3 col10\" >0.000000</td>\n",
              "      <td id=\"T_d29a0_row3_col11\" class=\"data row3 col11\" >0.000000</td>\n",
              "      <td id=\"T_d29a0_row3_col12\" class=\"data row3 col12\" >0.000000</td>\n",
              "      <td id=\"T_d29a0_row3_col13\" class=\"data row3 col13\" >0.000000</td>\n",
              "      <td id=\"T_d29a0_row3_col14\" class=\"data row3 col14\" >0.000000</td>\n",
              "      <td id=\"T_d29a0_row3_col15\" class=\"data row3 col15\" >0.000000</td>\n",
              "      <td id=\"T_d29a0_row3_col16\" class=\"data row3 col16\" >0.000000</td>\n",
              "      <td id=\"T_d29a0_row3_col17\" class=\"data row3 col17\" >0.000000</td>\n",
              "      <td id=\"T_d29a0_row3_col18\" class=\"data row3 col18\" >0.000000</td>\n",
              "      <td id=\"T_d29a0_row3_col19\" class=\"data row3 col19\" >0.000000</td>\n",
              "      <td id=\"T_d29a0_row3_col20\" class=\"data row3 col20\" >0.000000</td>\n",
              "      <td id=\"T_d29a0_row3_col21\" class=\"data row3 col21\" >0.000000</td>\n",
              "      <td id=\"T_d29a0_row3_col22\" class=\"data row3 col22\" >0.000000</td>\n",
              "      <td id=\"T_d29a0_row3_col23\" class=\"data row3 col23\" >0.000000</td>\n",
              "      <td id=\"T_d29a0_row3_col24\" class=\"data row3 col24\" >0.000000</td>\n",
              "      <td id=\"T_d29a0_row3_col25\" class=\"data row3 col25\" >0.000000</td>\n",
              "      <td id=\"T_d29a0_row3_col26\" class=\"data row3 col26\" >0.000000</td>\n",
              "      <td id=\"T_d29a0_row3_col27\" class=\"data row3 col27\" >0.000000</td>\n",
              "    </tr>\n",
              "    <tr>\n",
              "      <th id=\"T_d29a0_level0_row4\" class=\"row_heading level0 row4\" >4</th>\n",
              "      <td id=\"T_d29a0_row4_col0\" class=\"data row4 col0\" >0.000000</td>\n",
              "      <td id=\"T_d29a0_row4_col1\" class=\"data row4 col1\" >0.000000</td>\n",
              "      <td id=\"T_d29a0_row4_col2\" class=\"data row4 col2\" >0.000000</td>\n",
              "      <td id=\"T_d29a0_row4_col3\" class=\"data row4 col3\" >0.000063</td>\n",
              "      <td id=\"T_d29a0_row4_col4\" class=\"data row4 col4\" >0.000120</td>\n",
              "      <td id=\"T_d29a0_row4_col5\" class=\"data row4 col5\" >0.000084</td>\n",
              "      <td id=\"T_d29a0_row4_col6\" class=\"data row4 col6\" >0.000016</td>\n",
              "      <td id=\"T_d29a0_row4_col7\" class=\"data row4 col7\" >0.000032</td>\n",
              "      <td id=\"T_d29a0_row4_col8\" class=\"data row4 col8\" >0.000040</td>\n",
              "      <td id=\"T_d29a0_row4_col9\" class=\"data row4 col9\" >0.423506</td>\n",
              "      <td id=\"T_d29a0_row4_col10\" class=\"data row4 col10\" >1.000000</td>\n",
              "      <td id=\"T_d29a0_row4_col11\" class=\"data row4 col11\" >0.995849</td>\n",
              "      <td id=\"T_d29a0_row4_col12\" class=\"data row4 col12\" >0.729049</td>\n",
              "      <td id=\"T_d29a0_row4_col13\" class=\"data row4 col13\" >0.415304</td>\n",
              "      <td id=\"T_d29a0_row4_col14\" class=\"data row4 col14\" >0.000337</td>\n",
              "      <td id=\"T_d29a0_row4_col15\" class=\"data row4 col15\" >0.000218</td>\n",
              "      <td id=\"T_d29a0_row4_col16\" class=\"data row4 col16\" >0.000121</td>\n",
              "      <td id=\"T_d29a0_row4_col17\" class=\"data row4 col17\" >0.000001</td>\n",
              "      <td id=\"T_d29a0_row4_col18\" class=\"data row4 col18\" >0.000000</td>\n",
              "      <td id=\"T_d29a0_row4_col19\" class=\"data row4 col19\" >0.000000</td>\n",
              "      <td id=\"T_d29a0_row4_col20\" class=\"data row4 col20\" >0.000000</td>\n",
              "      <td id=\"T_d29a0_row4_col21\" class=\"data row4 col21\" >0.000159</td>\n",
              "      <td id=\"T_d29a0_row4_col22\" class=\"data row4 col22\" >0.000031</td>\n",
              "      <td id=\"T_d29a0_row4_col23\" class=\"data row4 col23\" >0.000000</td>\n",
              "      <td id=\"T_d29a0_row4_col24\" class=\"data row4 col24\" >0.000000</td>\n",
              "      <td id=\"T_d29a0_row4_col25\" class=\"data row4 col25\" >0.000000</td>\n",
              "      <td id=\"T_d29a0_row4_col26\" class=\"data row4 col26\" >0.000000</td>\n",
              "      <td id=\"T_d29a0_row4_col27\" class=\"data row4 col27\" >0.000000</td>\n",
              "    </tr>\n",
              "    <tr>\n",
              "      <th id=\"T_d29a0_level0_row5\" class=\"row_heading level0 row5\" >5</th>\n",
              "      <td id=\"T_d29a0_row5_col0\" class=\"data row5 col0\" >0.000000</td>\n",
              "      <td id=\"T_d29a0_row5_col1\" class=\"data row5 col1\" >0.000000</td>\n",
              "      <td id=\"T_d29a0_row5_col2\" class=\"data row5 col2\" >0.000000</td>\n",
              "      <td id=\"T_d29a0_row5_col3\" class=\"data row5 col3\" >0.000093</td>\n",
              "      <td id=\"T_d29a0_row5_col4\" class=\"data row5 col4\" >0.000342</td>\n",
              "      <td id=\"T_d29a0_row5_col5\" class=\"data row5 col5\" >0.001185</td>\n",
              "      <td id=\"T_d29a0_row5_col6\" class=\"data row5 col6\" >0.002433</td>\n",
              "      <td id=\"T_d29a0_row5_col7\" class=\"data row5 col7\" >0.004050</td>\n",
              "      <td id=\"T_d29a0_row5_col8\" class=\"data row5 col8\" >0.115329</td>\n",
              "      <td id=\"T_d29a0_row5_col9\" class=\"data row5 col9\" >0.936779</td>\n",
              "      <td id=\"T_d29a0_row5_col10\" class=\"data row5 col10\" >0.983328</td>\n",
              "      <td id=\"T_d29a0_row5_col11\" class=\"data row5 col11\" >0.982636</td>\n",
              "      <td id=\"T_d29a0_row5_col12\" class=\"data row5 col12\" >0.981902</td>\n",
              "      <td id=\"T_d29a0_row5_col13\" class=\"data row5 col13\" >0.978656</td>\n",
              "      <td id=\"T_d29a0_row5_col14\" class=\"data row5 col14\" >0.763756</td>\n",
              "      <td id=\"T_d29a0_row5_col15\" class=\"data row5 col15\" >0.148699</td>\n",
              "      <td id=\"T_d29a0_row5_col16\" class=\"data row5 col16\" >0.006941</td>\n",
              "      <td id=\"T_d29a0_row5_col17\" class=\"data row5 col17\" >0.004937</td>\n",
              "      <td id=\"T_d29a0_row5_col18\" class=\"data row5 col18\" >0.003501</td>\n",
              "      <td id=\"T_d29a0_row5_col19\" class=\"data row5 col19\" >0.001519</td>\n",
              "      <td id=\"T_d29a0_row5_col20\" class=\"data row5 col20\" >0.000690</td>\n",
              "      <td id=\"T_d29a0_row5_col21\" class=\"data row5 col21\" >0.000536</td>\n",
              "      <td id=\"T_d29a0_row5_col22\" class=\"data row5 col22\" >0.000295</td>\n",
              "      <td id=\"T_d29a0_row5_col23\" class=\"data row5 col23\" >0.000001</td>\n",
              "      <td id=\"T_d29a0_row5_col24\" class=\"data row5 col24\" >0.000000</td>\n",
              "      <td id=\"T_d29a0_row5_col25\" class=\"data row5 col25\" >0.000000</td>\n",
              "      <td id=\"T_d29a0_row5_col26\" class=\"data row5 col26\" >0.000000</td>\n",
              "      <td id=\"T_d29a0_row5_col27\" class=\"data row5 col27\" >0.000000</td>\n",
              "    </tr>\n",
              "    <tr>\n",
              "      <th id=\"T_d29a0_level0_row6\" class=\"row_heading level0 row6\" >6</th>\n",
              "      <td id=\"T_d29a0_row6_col0\" class=\"data row6 col0\" >0.000000</td>\n",
              "      <td id=\"T_d29a0_row6_col1\" class=\"data row6 col1\" >0.000000</td>\n",
              "      <td id=\"T_d29a0_row6_col2\" class=\"data row6 col2\" >0.000513</td>\n",
              "      <td id=\"T_d29a0_row6_col3\" class=\"data row6 col3\" >0.001144</td>\n",
              "      <td id=\"T_d29a0_row6_col4\" class=\"data row6 col4\" >0.004512</td>\n",
              "      <td id=\"T_d29a0_row6_col5\" class=\"data row6 col5\" >0.012454</td>\n",
              "      <td id=\"T_d29a0_row6_col6\" class=\"data row6 col6\" >0.023687</td>\n",
              "      <td id=\"T_d29a0_row6_col7\" class=\"data row6 col7\" >0.037022</td>\n",
              "      <td id=\"T_d29a0_row6_col8\" class=\"data row6 col8\" >0.275071</td>\n",
              "      <td id=\"T_d29a0_row6_col9\" class=\"data row6 col9\" >0.920767</td>\n",
              "      <td id=\"T_d29a0_row6_col10\" class=\"data row6 col10\" >0.903298</td>\n",
              "      <td id=\"T_d29a0_row6_col11\" class=\"data row6 col11\" >0.410508</td>\n",
              "      <td id=\"T_d29a0_row6_col12\" class=\"data row6 col12\" >0.437886</td>\n",
              "      <td id=\"T_d29a0_row6_col13\" class=\"data row6 col13\" >0.804273</td>\n",
              "      <td id=\"T_d29a0_row6_col14\" class=\"data row6 col14\" >0.881885</td>\n",
              "      <td id=\"T_d29a0_row6_col15\" class=\"data row6 col15\" >0.530445</td>\n",
              "      <td id=\"T_d29a0_row6_col16\" class=\"data row6 col16\" >0.034989</td>\n",
              "      <td id=\"T_d29a0_row6_col17\" class=\"data row6 col17\" >0.096178</td>\n",
              "      <td id=\"T_d29a0_row6_col18\" class=\"data row6 col18\" >0.079079</td>\n",
              "      <td id=\"T_d29a0_row6_col19\" class=\"data row6 col19\" >0.058155</td>\n",
              "      <td id=\"T_d29a0_row6_col20\" class=\"data row6 col20\" >0.037206</td>\n",
              "      <td id=\"T_d29a0_row6_col21\" class=\"data row6 col21\" >0.022864</td>\n",
              "      <td id=\"T_d29a0_row6_col22\" class=\"data row6 col22\" >0.011055</td>\n",
              "      <td id=\"T_d29a0_row6_col23\" class=\"data row6 col23\" >0.003341</td>\n",
              "      <td id=\"T_d29a0_row6_col24\" class=\"data row6 col24\" >0.000456</td>\n",
              "      <td id=\"T_d29a0_row6_col25\" class=\"data row6 col25\" >0.000011</td>\n",
              "      <td id=\"T_d29a0_row6_col26\" class=\"data row6 col26\" >0.000000</td>\n",
              "      <td id=\"T_d29a0_row6_col27\" class=\"data row6 col27\" >0.000000</td>\n",
              "    </tr>\n",
              "    <tr>\n",
              "      <th id=\"T_d29a0_level0_row7\" class=\"row_heading level0 row7\" >7</th>\n",
              "      <td id=\"T_d29a0_row7_col0\" class=\"data row7 col0\" >0.000029</td>\n",
              "      <td id=\"T_d29a0_row7_col1\" class=\"data row7 col1\" >0.000424</td>\n",
              "      <td id=\"T_d29a0_row7_col2\" class=\"data row7 col2\" >0.003263</td>\n",
              "      <td id=\"T_d29a0_row7_col3\" class=\"data row7 col3\" >0.010402</td>\n",
              "      <td id=\"T_d29a0_row7_col4\" class=\"data row7 col4\" >0.028360</td>\n",
              "      <td id=\"T_d29a0_row7_col5\" class=\"data row7 col5\" >0.059792</td>\n",
              "      <td id=\"T_d29a0_row7_col6\" class=\"data row7 col6\" >0.104739</td>\n",
              "      <td id=\"T_d29a0_row7_col7\" class=\"data row7 col7\" >0.157012</td>\n",
              "      <td id=\"T_d29a0_row7_col8\" class=\"data row7 col8\" >0.128619</td>\n",
              "      <td id=\"T_d29a0_row7_col9\" class=\"data row7 col9\" >0.531018</td>\n",
              "      <td id=\"T_d29a0_row7_col10\" class=\"data row7 col10\" >0.162296</td>\n",
              "      <td id=\"T_d29a0_row7_col11\" class=\"data row7 col11\" >0.332689</td>\n",
              "      <td id=\"T_d29a0_row7_col12\" class=\"data row7 col12\" >0.392599</td>\n",
              "      <td id=\"T_d29a0_row7_col13\" class=\"data row7 col13\" >0.283776</td>\n",
              "      <td id=\"T_d29a0_row7_col14\" class=\"data row7 col14\" >0.567566</td>\n",
              "      <td id=\"T_d29a0_row7_col15\" class=\"data row7 col15\" >0.558453</td>\n",
              "      <td id=\"T_d29a0_row7_col16\" class=\"data row7 col16\" >0.010111</td>\n",
              "      <td id=\"T_d29a0_row7_col17\" class=\"data row7 col17\" >0.422286</td>\n",
              "      <td id=\"T_d29a0_row7_col18\" class=\"data row7 col18\" >0.375021</td>\n",
              "      <td id=\"T_d29a0_row7_col19\" class=\"data row7 col19\" >0.303385</td>\n",
              "      <td id=\"T_d29a0_row7_col20\" class=\"data row7 col20\" >0.210314</td>\n",
              "      <td id=\"T_d29a0_row7_col21\" class=\"data row7 col21\" >0.121410</td>\n",
              "      <td id=\"T_d29a0_row7_col22\" class=\"data row7 col22\" >0.058161</td>\n",
              "      <td id=\"T_d29a0_row7_col23\" class=\"data row7 col23\" >0.023271</td>\n",
              "      <td id=\"T_d29a0_row7_col24\" class=\"data row7 col24\" >0.004755</td>\n",
              "      <td id=\"T_d29a0_row7_col25\" class=\"data row7 col25\" >0.000730</td>\n",
              "      <td id=\"T_d29a0_row7_col26\" class=\"data row7 col26\" >0.000000</td>\n",
              "      <td id=\"T_d29a0_row7_col27\" class=\"data row7 col27\" >0.000000</td>\n",
              "    </tr>\n",
              "    <tr>\n",
              "      <th id=\"T_d29a0_level0_row8\" class=\"row_heading level0 row8\" >8</th>\n",
              "      <td id=\"T_d29a0_row8_col0\" class=\"data row8 col0\" >0.000120</td>\n",
              "      <td id=\"T_d29a0_row8_col1\" class=\"data row8 col1\" >0.001743</td>\n",
              "      <td id=\"T_d29a0_row8_col2\" class=\"data row8 col2\" >0.011414</td>\n",
              "      <td id=\"T_d29a0_row8_col3\" class=\"data row8 col3\" >0.033500</td>\n",
              "      <td id=\"T_d29a0_row8_col4\" class=\"data row8 col4\" >0.070653</td>\n",
              "      <td id=\"T_d29a0_row8_col5\" class=\"data row8 col5\" >0.132629</td>\n",
              "      <td id=\"T_d29a0_row8_col6\" class=\"data row8 col6\" >0.211860</td>\n",
              "      <td id=\"T_d29a0_row8_col7\" class=\"data row8 col7\" >0.311085</td>\n",
              "      <td id=\"T_d29a0_row8_col8\" class=\"data row8 col8\" >0.411384</td>\n",
              "      <td id=\"T_d29a0_row8_col9\" class=\"data row8 col9\" >0.465821</td>\n",
              "      <td id=\"T_d29a0_row8_col10\" class=\"data row8 col10\" >0.567491</td>\n",
              "      <td id=\"T_d29a0_row8_col11\" class=\"data row8 col11\" >0.649767</td>\n",
              "      <td id=\"T_d29a0_row8_col12\" class=\"data row8 col12\" >0.687151</td>\n",
              "      <td id=\"T_d29a0_row8_col13\" class=\"data row8 col13\" >0.700511</td>\n",
              "      <td id=\"T_d29a0_row8_col14\" class=\"data row8 col14\" >0.116644</td>\n",
              "      <td id=\"T_d29a0_row8_col15\" class=\"data row8 col15\" >0.266571</td>\n",
              "      <td id=\"T_d29a0_row8_col16\" class=\"data row8 col16\" >0.069327</td>\n",
              "      <td id=\"T_d29a0_row8_col17\" class=\"data row8 col17\" >0.714450</td>\n",
              "      <td id=\"T_d29a0_row8_col18\" class=\"data row8 col18\" >0.649480</td>\n",
              "      <td id=\"T_d29a0_row8_col19\" class=\"data row8 col19\" >0.527711</td>\n",
              "      <td id=\"T_d29a0_row8_col20\" class=\"data row8 col20\" >0.366640</td>\n",
              "      <td id=\"T_d29a0_row8_col21\" class=\"data row8 col21\" >0.217183</td>\n",
              "      <td id=\"T_d29a0_row8_col22\" class=\"data row8 col22\" >0.105576</td>\n",
              "      <td id=\"T_d29a0_row8_col23\" class=\"data row8 col23\" >0.040372</td>\n",
              "      <td id=\"T_d29a0_row8_col24\" class=\"data row8 col24\" >0.009248</td>\n",
              "      <td id=\"T_d29a0_row8_col25\" class=\"data row8 col25\" >0.001138</td>\n",
              "      <td id=\"T_d29a0_row8_col26\" class=\"data row8 col26\" >0.000000</td>\n",
              "      <td id=\"T_d29a0_row8_col27\" class=\"data row8 col27\" >0.000000</td>\n",
              "    </tr>\n",
              "    <tr>\n",
              "      <th id=\"T_d29a0_level0_row9\" class=\"row_heading level0 row9\" >9</th>\n",
              "      <td id=\"T_d29a0_row9_col0\" class=\"data row9 col0\" >0.000183</td>\n",
              "      <td id=\"T_d29a0_row9_col1\" class=\"data row9 col1\" >0.002802</td>\n",
              "      <td id=\"T_d29a0_row9_col2\" class=\"data row9 col2\" >0.018204</td>\n",
              "      <td id=\"T_d29a0_row9_col3\" class=\"data row9 col3\" >0.050405</td>\n",
              "      <td id=\"T_d29a0_row9_col4\" class=\"data row9 col4\" >0.101714</td>\n",
              "      <td id=\"T_d29a0_row9_col5\" class=\"data row9 col5\" >0.179732</td>\n",
              "      <td id=\"T_d29a0_row9_col6\" class=\"data row9 col6\" >0.278085</td>\n",
              "      <td id=\"T_d29a0_row9_col7\" class=\"data row9 col7\" >0.395733</td>\n",
              "      <td id=\"T_d29a0_row9_col8\" class=\"data row9 col8\" >0.510971</td>\n",
              "      <td id=\"T_d29a0_row9_col9\" class=\"data row9 col9\" >0.612353</td>\n",
              "      <td id=\"T_d29a0_row9_col10\" class=\"data row9 col10\" >0.681796</td>\n",
              "      <td id=\"T_d29a0_row9_col11\" class=\"data row9 col11\" >0.718202</td>\n",
              "      <td id=\"T_d29a0_row9_col12\" class=\"data row9 col12\" >0.720315</td>\n",
              "      <td id=\"T_d29a0_row9_col13\" class=\"data row9 col13\" >0.704695</td>\n",
              "      <td id=\"T_d29a0_row9_col14\" class=\"data row9 col14\" >0.489445</td>\n",
              "      <td id=\"T_d29a0_row9_col15\" class=\"data row9 col15\" >0.284848</td>\n",
              "      <td id=\"T_d29a0_row9_col16\" class=\"data row9 col16\" >0.205019</td>\n",
              "      <td id=\"T_d29a0_row9_col17\" class=\"data row9 col17\" >0.599564</td>\n",
              "      <td id=\"T_d29a0_row9_col18\" class=\"data row9 col18\" >0.740349</td>\n",
              "      <td id=\"T_d29a0_row9_col19\" class=\"data row9 col19\" >0.623884</td>\n",
              "      <td id=\"T_d29a0_row9_col20\" class=\"data row9 col20\" >0.436749</td>\n",
              "      <td id=\"T_d29a0_row9_col21\" class=\"data row9 col21\" >0.257098</td>\n",
              "      <td id=\"T_d29a0_row9_col22\" class=\"data row9 col22\" >0.122494</td>\n",
              "      <td id=\"T_d29a0_row9_col23\" class=\"data row9 col23\" >0.042672</td>\n",
              "      <td id=\"T_d29a0_row9_col24\" class=\"data row9 col24\" >0.008554</td>\n",
              "      <td id=\"T_d29a0_row9_col25\" class=\"data row9 col25\" >0.001276</td>\n",
              "      <td id=\"T_d29a0_row9_col26\" class=\"data row9 col26\" >0.000098</td>\n",
              "      <td id=\"T_d29a0_row9_col27\" class=\"data row9 col27\" >0.000128</td>\n",
              "    </tr>\n",
              "    <tr>\n",
              "      <th id=\"T_d29a0_level0_row10\" class=\"row_heading level0 row10\" >10</th>\n",
              "      <td id=\"T_d29a0_row10_col0\" class=\"data row10 col0\" >0.000250</td>\n",
              "      <td id=\"T_d29a0_row10_col1\" class=\"data row10 col1\" >0.003553</td>\n",
              "      <td id=\"T_d29a0_row10_col2\" class=\"data row10 col2\" >0.018817</td>\n",
              "      <td id=\"T_d29a0_row10_col3\" class=\"data row10 col3\" >0.050220</td>\n",
              "      <td id=\"T_d29a0_row10_col4\" class=\"data row10 col4\" >0.101496</td>\n",
              "      <td id=\"T_d29a0_row10_col5\" class=\"data row10 col5\" >0.172982</td>\n",
              "      <td id=\"T_d29a0_row10_col6\" class=\"data row10 col6\" >0.264753</td>\n",
              "      <td id=\"T_d29a0_row10_col7\" class=\"data row10 col7\" >0.367662</td>\n",
              "      <td id=\"T_d29a0_row10_col8\" class=\"data row10 col8\" >0.464732</td>\n",
              "      <td id=\"T_d29a0_row10_col9\" class=\"data row10 col9\" >0.535832</td>\n",
              "      <td id=\"T_d29a0_row10_col10\" class=\"data row10 col10\" >0.566527</td>\n",
              "      <td id=\"T_d29a0_row10_col11\" class=\"data row10 col11\" >0.548424</td>\n",
              "      <td id=\"T_d29a0_row10_col12\" class=\"data row10 col12\" >0.501837</td>\n",
              "      <td id=\"T_d29a0_row10_col13\" class=\"data row10 col13\" >0.460723</td>\n",
              "      <td id=\"T_d29a0_row10_col14\" class=\"data row10 col14\" >0.039577</td>\n",
              "      <td id=\"T_d29a0_row10_col15\" class=\"data row10 col15\" >0.523597</td>\n",
              "      <td id=\"T_d29a0_row10_col16\" class=\"data row10 col16\" >0.421830</td>\n",
              "      <td id=\"T_d29a0_row10_col17\" class=\"data row10 col17\" >0.451389</td>\n",
              "      <td id=\"T_d29a0_row10_col18\" class=\"data row10 col18\" >0.721419</td>\n",
              "      <td id=\"T_d29a0_row10_col19\" class=\"data row10 col19\" >0.628417</td>\n",
              "      <td id=\"T_d29a0_row10_col20\" class=\"data row10 col20\" >0.433381</td>\n",
              "      <td id=\"T_d29a0_row10_col21\" class=\"data row10 col21\" >0.244176</td>\n",
              "      <td id=\"T_d29a0_row10_col22\" class=\"data row10 col22\" >0.108571</td>\n",
              "      <td id=\"T_d29a0_row10_col23\" class=\"data row10 col23\" >0.032480</td>\n",
              "      <td id=\"T_d29a0_row10_col24\" class=\"data row10 col24\" >0.005645</td>\n",
              "      <td id=\"T_d29a0_row10_col25\" class=\"data row10 col25\" >0.000968</td>\n",
              "      <td id=\"T_d29a0_row10_col26\" class=\"data row10 col26\" >0.000086</td>\n",
              "      <td id=\"T_d29a0_row10_col27\" class=\"data row10 col27\" >0.000034</td>\n",
              "    </tr>\n",
              "    <tr>\n",
              "      <th id=\"T_d29a0_level0_row11\" class=\"row_heading level0 row11\" >11</th>\n",
              "      <td id=\"T_d29a0_row11_col0\" class=\"data row11 col0\" >0.000223</td>\n",
              "      <td id=\"T_d29a0_row11_col1\" class=\"data row11 col1\" >0.002754</td>\n",
              "      <td id=\"T_d29a0_row11_col2\" class=\"data row11 col2\" >0.014918</td>\n",
              "      <td id=\"T_d29a0_row11_col3\" class=\"data row11 col3\" >0.037212</td>\n",
              "      <td id=\"T_d29a0_row11_col4\" class=\"data row11 col4\" >0.076865</td>\n",
              "      <td id=\"T_d29a0_row11_col5\" class=\"data row11 col5\" >0.129961</td>\n",
              "      <td id=\"T_d29a0_row11_col6\" class=\"data row11 col6\" >0.202465</td>\n",
              "      <td id=\"T_d29a0_row11_col7\" class=\"data row11 col7\" >0.283923</td>\n",
              "      <td id=\"T_d29a0_row11_col8\" class=\"data row11 col8\" >0.358291</td>\n",
              "      <td id=\"T_d29a0_row11_col9\" class=\"data row11 col9\" >0.396650</td>\n",
              "      <td id=\"T_d29a0_row11_col10\" class=\"data row11 col10\" >0.379869</td>\n",
              "      <td id=\"T_d29a0_row11_col11\" class=\"data row11 col11\" >0.319831</td>\n",
              "      <td id=\"T_d29a0_row11_col12\" class=\"data row11 col12\" >0.251095</td>\n",
              "      <td id=\"T_d29a0_row11_col13\" class=\"data row11 col13\" >0.192690</td>\n",
              "      <td id=\"T_d29a0_row11_col14\" class=\"data row11 col14\" >0.662739</td>\n",
              "      <td id=\"T_d29a0_row11_col15\" class=\"data row11 col15\" >0.732884</td>\n",
              "      <td id=\"T_d29a0_row11_col16\" class=\"data row11 col16\" >0.308330</td>\n",
              "      <td id=\"T_d29a0_row11_col17\" class=\"data row11 col17\" >0.615946</td>\n",
              "      <td id=\"T_d29a0_row11_col18\" class=\"data row11 col18\" >0.699619</td>\n",
              "      <td id=\"T_d29a0_row11_col19\" class=\"data row11 col19\" >0.591806</td>\n",
              "      <td id=\"T_d29a0_row11_col20\" class=\"data row11 col20\" >0.388116</td>\n",
              "      <td id=\"T_d29a0_row11_col21\" class=\"data row11 col21\" >0.196702</td>\n",
              "      <td id=\"T_d29a0_row11_col22\" class=\"data row11 col22\" >0.078953</td>\n",
              "      <td id=\"T_d29a0_row11_col23\" class=\"data row11 col23\" >0.019940</td>\n",
              "      <td id=\"T_d29a0_row11_col24\" class=\"data row11 col24\" >0.002538</td>\n",
              "      <td id=\"T_d29a0_row11_col25\" class=\"data row11 col25\" >0.000220</td>\n",
              "      <td id=\"T_d29a0_row11_col26\" class=\"data row11 col26\" >0.000006</td>\n",
              "      <td id=\"T_d29a0_row11_col27\" class=\"data row11 col27\" >0.000011</td>\n",
              "    </tr>\n",
              "    <tr>\n",
              "      <th id=\"T_d29a0_level0_row12\" class=\"row_heading level0 row12\" >12</th>\n",
              "      <td id=\"T_d29a0_row12_col0\" class=\"data row12 col0\" >0.000143</td>\n",
              "      <td id=\"T_d29a0_row12_col1\" class=\"data row12 col1\" >0.001542</td>\n",
              "      <td id=\"T_d29a0_row12_col2\" class=\"data row12 col2\" >0.008351</td>\n",
              "      <td id=\"T_d29a0_row12_col3\" class=\"data row12 col3\" >0.022083</td>\n",
              "      <td id=\"T_d29a0_row12_col4\" class=\"data row12 col4\" >0.048842</td>\n",
              "      <td id=\"T_d29a0_row12_col5\" class=\"data row12 col5\" >0.088445</td>\n",
              "      <td id=\"T_d29a0_row12_col6\" class=\"data row12 col6\" >0.140848</td>\n",
              "      <td id=\"T_d29a0_row12_col7\" class=\"data row12 col7\" >0.208752</td>\n",
              "      <td id=\"T_d29a0_row12_col8\" class=\"data row12 col8\" >0.262378</td>\n",
              "      <td id=\"T_d29a0_row12_col9\" class=\"data row12 col9\" >0.269437</td>\n",
              "      <td id=\"T_d29a0_row12_col10\" class=\"data row12 col10\" >0.225658</td>\n",
              "      <td id=\"T_d29a0_row12_col11\" class=\"data row12 col11\" >0.048572</td>\n",
              "      <td id=\"T_d29a0_row12_col12\" class=\"data row12 col12\" >0.430266</td>\n",
              "      <td id=\"T_d29a0_row12_col13\" class=\"data row12 col13\" >0.768236</td>\n",
              "      <td id=\"T_d29a0_row12_col14\" class=\"data row12 col14\" >0.901652</td>\n",
              "      <td id=\"T_d29a0_row12_col15\" class=\"data row12 col15\" >0.797096</td>\n",
              "      <td id=\"T_d29a0_row12_col16\" class=\"data row12 col16\" >0.245426</td>\n",
              "      <td id=\"T_d29a0_row12_col17\" class=\"data row12 col17\" >0.529114</td>\n",
              "      <td id=\"T_d29a0_row12_col18\" class=\"data row12 col18\" >0.685930</td>\n",
              "      <td id=\"T_d29a0_row12_col19\" class=\"data row12 col19\" >0.535240</td>\n",
              "      <td id=\"T_d29a0_row12_col20\" class=\"data row12 col20\" >0.311851</td>\n",
              "      <td id=\"T_d29a0_row12_col21\" class=\"data row12 col21\" >0.137755</td>\n",
              "      <td id=\"T_d29a0_row12_col22\" class=\"data row12 col22\" >0.048628</td>\n",
              "      <td id=\"T_d29a0_row12_col23\" class=\"data row12 col23\" >0.011711</td>\n",
              "      <td id=\"T_d29a0_row12_col24\" class=\"data row12 col24\" >0.001472</td>\n",
              "      <td id=\"T_d29a0_row12_col25\" class=\"data row12 col25\" >0.000364</td>\n",
              "      <td id=\"T_d29a0_row12_col26\" class=\"data row12 col26\" >0.000100</td>\n",
              "      <td id=\"T_d29a0_row12_col27\" class=\"data row12 col27\" >0.000042</td>\n",
              "    </tr>\n",
              "    <tr>\n",
              "      <th id=\"T_d29a0_level0_row13\" class=\"row_heading level0 row13\" >13</th>\n",
              "      <td id=\"T_d29a0_row13_col0\" class=\"data row13 col0\" >0.000000</td>\n",
              "      <td id=\"T_d29a0_row13_col1\" class=\"data row13 col1\" >0.000488</td>\n",
              "      <td id=\"T_d29a0_row13_col2\" class=\"data row13 col2\" >0.004083</td>\n",
              "      <td id=\"T_d29a0_row13_col3\" class=\"data row13 col3\" >0.012475</td>\n",
              "      <td id=\"T_d29a0_row13_col4\" class=\"data row13 col4\" >0.031932</td>\n",
              "      <td id=\"T_d29a0_row13_col5\" class=\"data row13 col5\" >0.060852</td>\n",
              "      <td id=\"T_d29a0_row13_col6\" class=\"data row13 col6\" >0.100042</td>\n",
              "      <td id=\"T_d29a0_row13_col7\" class=\"data row13 col7\" >0.148651</td>\n",
              "      <td id=\"T_d29a0_row13_col8\" class=\"data row13 col8\" >0.181678</td>\n",
              "      <td id=\"T_d29a0_row13_col9\" class=\"data row13 col9\" >0.172889</td>\n",
              "      <td id=\"T_d29a0_row13_col10\" class=\"data row13 col10\" >0.136651</td>\n",
              "      <td id=\"T_d29a0_row13_col11\" class=\"data row13 col11\" >0.723962</td>\n",
              "      <td id=\"T_d29a0_row13_col12\" class=\"data row13 col12\" >0.956326</td>\n",
              "      <td id=\"T_d29a0_row13_col13\" class=\"data row13 col13\" >0.959593</td>\n",
              "      <td id=\"T_d29a0_row13_col14\" class=\"data row13 col14\" >0.911651</td>\n",
              "      <td id=\"T_d29a0_row13_col15\" class=\"data row13 col15\" >0.748463</td>\n",
              "      <td id=\"T_d29a0_row13_col16\" class=\"data row13 col16\" >0.478563</td>\n",
              "      <td id=\"T_d29a0_row13_col17\" class=\"data row13 col17\" >0.161664</td>\n",
              "      <td id=\"T_d29a0_row13_col18\" class=\"data row13 col18\" >0.283691</td>\n",
              "      <td id=\"T_d29a0_row13_col19\" class=\"data row13 col19\" >0.455353</td>\n",
              "      <td id=\"T_d29a0_row13_col20\" class=\"data row13 col20\" >0.233121</td>\n",
              "      <td id=\"T_d29a0_row13_col21\" class=\"data row13 col21\" >0.092324</td>\n",
              "      <td id=\"T_d29a0_row13_col22\" class=\"data row13 col22\" >0.030923</td>\n",
              "      <td id=\"T_d29a0_row13_col23\" class=\"data row13 col23\" >0.009407</td>\n",
              "      <td id=\"T_d29a0_row13_col24\" class=\"data row13 col24\" >0.002866</td>\n",
              "      <td id=\"T_d29a0_row13_col25\" class=\"data row13 col25\" >0.000612</td>\n",
              "      <td id=\"T_d29a0_row13_col26\" class=\"data row13 col26\" >0.000058</td>\n",
              "      <td id=\"T_d29a0_row13_col27\" class=\"data row13 col27\" >0.000000</td>\n",
              "    </tr>\n",
              "    <tr>\n",
              "      <th id=\"T_d29a0_level0_row14\" class=\"row_heading level0 row14\" >14</th>\n",
              "      <td id=\"T_d29a0_row14_col0\" class=\"data row14 col0\" >0.000000</td>\n",
              "      <td id=\"T_d29a0_row14_col1\" class=\"data row14 col1\" >0.000134</td>\n",
              "      <td id=\"T_d29a0_row14_col2\" class=\"data row14 col2\" >0.001669</td>\n",
              "      <td id=\"T_d29a0_row14_col3\" class=\"data row14 col3\" >0.006732</td>\n",
              "      <td id=\"T_d29a0_row14_col4\" class=\"data row14 col4\" >0.020395</td>\n",
              "      <td id=\"T_d29a0_row14_col5\" class=\"data row14 col5\" >0.042994</td>\n",
              "      <td id=\"T_d29a0_row14_col6\" class=\"data row14 col6\" >0.071536</td>\n",
              "      <td id=\"T_d29a0_row14_col7\" class=\"data row14 col7\" >0.103160</td>\n",
              "      <td id=\"T_d29a0_row14_col8\" class=\"data row14 col8\" >0.119221</td>\n",
              "      <td id=\"T_d29a0_row14_col9\" class=\"data row14 col9\" >0.021192</td>\n",
              "      <td id=\"T_d29a0_row14_col10\" class=\"data row14 col10\" >0.862274</td>\n",
              "      <td id=\"T_d29a0_row14_col11\" class=\"data row14 col11\" >0.948818</td>\n",
              "      <td id=\"T_d29a0_row14_col12\" class=\"data row14 col12\" >0.959092</td>\n",
              "      <td id=\"T_d29a0_row14_col13\" class=\"data row14 col13\" >0.944927</td>\n",
              "      <td id=\"T_d29a0_row14_col14\" class=\"data row14 col14\" >0.779492</td>\n",
              "      <td id=\"T_d29a0_row14_col15\" class=\"data row14 col15\" >0.240933</td>\n",
              "      <td id=\"T_d29a0_row14_col16\" class=\"data row14 col16\" >0.193131</td>\n",
              "      <td id=\"T_d29a0_row14_col17\" class=\"data row14 col17\" >0.261676</td>\n",
              "      <td id=\"T_d29a0_row14_col18\" class=\"data row14 col18\" >0.365471</td>\n",
              "      <td id=\"T_d29a0_row14_col19\" class=\"data row14 col19\" >0.015046</td>\n",
              "      <td id=\"T_d29a0_row14_col20\" class=\"data row14 col20\" >0.172839</td>\n",
              "      <td id=\"T_d29a0_row14_col21\" class=\"data row14 col21\" >0.070039</td>\n",
              "      <td id=\"T_d29a0_row14_col22\" class=\"data row14 col22\" >0.029276</td>\n",
              "      <td id=\"T_d29a0_row14_col23\" class=\"data row14 col23\" >0.012287</td>\n",
              "      <td id=\"T_d29a0_row14_col24\" class=\"data row14 col24\" >0.004096</td>\n",
              "      <td id=\"T_d29a0_row14_col25\" class=\"data row14 col25\" >0.001085</td>\n",
              "      <td id=\"T_d29a0_row14_col26\" class=\"data row14 col26\" >0.000000</td>\n",
              "      <td id=\"T_d29a0_row14_col27\" class=\"data row14 col27\" >0.000000</td>\n",
              "    </tr>\n",
              "    <tr>\n",
              "      <th id=\"T_d29a0_level0_row15\" class=\"row_heading level0 row15\" >15</th>\n",
              "      <td id=\"T_d29a0_row15_col0\" class=\"data row15 col0\" >0.000004</td>\n",
              "      <td id=\"T_d29a0_row15_col1\" class=\"data row15 col1\" >0.000000</td>\n",
              "      <td id=\"T_d29a0_row15_col2\" class=\"data row15 col2\" >0.000568</td>\n",
              "      <td id=\"T_d29a0_row15_col3\" class=\"data row15 col3\" >0.003730</td>\n",
              "      <td id=\"T_d29a0_row15_col4\" class=\"data row15 col4\" >0.012270</td>\n",
              "      <td id=\"T_d29a0_row15_col5\" class=\"data row15 col5\" >0.029221</td>\n",
              "      <td id=\"T_d29a0_row15_col6\" class=\"data row15 col6\" >0.051234</td>\n",
              "      <td id=\"T_d29a0_row15_col7\" class=\"data row15 col7\" >0.069077</td>\n",
              "      <td id=\"T_d29a0_row15_col8\" class=\"data row15 col8\" >0.075365</td>\n",
              "      <td id=\"T_d29a0_row15_col9\" class=\"data row15 col9\" >0.023981</td>\n",
              "      <td id=\"T_d29a0_row15_col10\" class=\"data row15 col10\" >0.645577</td>\n",
              "      <td id=\"T_d29a0_row15_col11\" class=\"data row15 col11\" >0.775401</td>\n",
              "      <td id=\"T_d29a0_row15_col12\" class=\"data row15 col12\" >0.502777</td>\n",
              "      <td id=\"T_d29a0_row15_col13\" class=\"data row15 col13\" >0.149120</td>\n",
              "      <td id=\"T_d29a0_row15_col14\" class=\"data row15 col14\" >0.233536</td>\n",
              "      <td id=\"T_d29a0_row15_col15\" class=\"data row15 col15\" >0.520059</td>\n",
              "      <td id=\"T_d29a0_row15_col16\" class=\"data row15 col16\" >0.707710</td>\n",
              "      <td id=\"T_d29a0_row15_col17\" class=\"data row15 col17\" >0.191343</td>\n",
              "      <td id=\"T_d29a0_row15_col18\" class=\"data row15 col18\" >0.476162</td>\n",
              "      <td id=\"T_d29a0_row15_col19\" class=\"data row15 col19\" >0.700182</td>\n",
              "      <td id=\"T_d29a0_row15_col20\" class=\"data row15 col20\" >0.030694</td>\n",
              "      <td id=\"T_d29a0_row15_col21\" class=\"data row15 col21\" >0.061220</td>\n",
              "      <td id=\"T_d29a0_row15_col22\" class=\"data row15 col22\" >0.029522</td>\n",
              "      <td id=\"T_d29a0_row15_col23\" class=\"data row15 col23\" >0.013213</td>\n",
              "      <td id=\"T_d29a0_row15_col24\" class=\"data row15 col24\" >0.004869</td>\n",
              "      <td id=\"T_d29a0_row15_col25\" class=\"data row15 col25\" >0.000958</td>\n",
              "      <td id=\"T_d29a0_row15_col26\" class=\"data row15 col26\" >0.000000</td>\n",
              "      <td id=\"T_d29a0_row15_col27\" class=\"data row15 col27\" >0.000000</td>\n",
              "    </tr>\n",
              "    <tr>\n",
              "      <th id=\"T_d29a0_level0_row16\" class=\"row_heading level0 row16\" >16</th>\n",
              "      <td id=\"T_d29a0_row16_col0\" class=\"data row16 col0\" >0.000025</td>\n",
              "      <td id=\"T_d29a0_row16_col1\" class=\"data row16 col1\" >0.000000</td>\n",
              "      <td id=\"T_d29a0_row16_col2\" class=\"data row16 col2\" >0.000132</td>\n",
              "      <td id=\"T_d29a0_row16_col3\" class=\"data row16 col3\" >0.002186</td>\n",
              "      <td id=\"T_d29a0_row16_col4\" class=\"data row16 col4\" >0.007829</td>\n",
              "      <td id=\"T_d29a0_row16_col5\" class=\"data row16 col5\" >0.018834</td>\n",
              "      <td id=\"T_d29a0_row16_col6\" class=\"data row16 col6\" >0.033185</td>\n",
              "      <td id=\"T_d29a0_row16_col7\" class=\"data row16 col7\" >0.044791</td>\n",
              "      <td id=\"T_d29a0_row16_col8\" class=\"data row16 col8\" >0.052319</td>\n",
              "      <td id=\"T_d29a0_row16_col9\" class=\"data row16 col9\" >0.059602</td>\n",
              "      <td id=\"T_d29a0_row16_col10\" class=\"data row16 col10\" >0.065327</td>\n",
              "      <td id=\"T_d29a0_row16_col11\" class=\"data row16 col11\" >0.074763</td>\n",
              "      <td id=\"T_d29a0_row16_col12\" class=\"data row16 col12\" >0.102311</td>\n",
              "      <td id=\"T_d29a0_row16_col13\" class=\"data row16 col13\" >0.186168</td>\n",
              "      <td id=\"T_d29a0_row16_col14\" class=\"data row16 col14\" >0.396730</td>\n",
              "      <td id=\"T_d29a0_row16_col15\" class=\"data row16 col15\" >0.643346</td>\n",
              "      <td id=\"T_d29a0_row16_col16\" class=\"data row16 col16\" >0.739676</td>\n",
              "      <td id=\"T_d29a0_row16_col17\" class=\"data row16 col17\" >0.541282</td>\n",
              "      <td id=\"T_d29a0_row16_col18\" class=\"data row16 col18\" >0.406062</td>\n",
              "      <td id=\"T_d29a0_row16_col19\" class=\"data row16 col19\" >0.781993</td>\n",
              "      <td id=\"T_d29a0_row16_col20\" class=\"data row16 col20\" >0.715566</td>\n",
              "      <td id=\"T_d29a0_row16_col21\" class=\"data row16 col21\" >0.048560</td>\n",
              "      <td id=\"T_d29a0_row16_col22\" class=\"data row16 col22\" >0.025334</td>\n",
              "      <td id=\"T_d29a0_row16_col23\" class=\"data row16 col23\" >0.011713</td>\n",
              "      <td id=\"T_d29a0_row16_col24\" class=\"data row16 col24\" >0.003810</td>\n",
              "      <td id=\"T_d29a0_row16_col25\" class=\"data row16 col25\" >0.000369</td>\n",
              "      <td id=\"T_d29a0_row16_col26\" class=\"data row16 col26\" >0.000000</td>\n",
              "      <td id=\"T_d29a0_row16_col27\" class=\"data row16 col27\" >0.000000</td>\n",
              "    </tr>\n",
              "    <tr>\n",
              "      <th id=\"T_d29a0_level0_row17\" class=\"row_heading level0 row17\" >17</th>\n",
              "      <td id=\"T_d29a0_row17_col0\" class=\"data row17 col0\" >0.000000</td>\n",
              "      <td id=\"T_d29a0_row17_col1\" class=\"data row17 col1\" >0.000040</td>\n",
              "      <td id=\"T_d29a0_row17_col2\" class=\"data row17 col2\" >0.000053</td>\n",
              "      <td id=\"T_d29a0_row17_col3\" class=\"data row17 col3\" >0.001142</td>\n",
              "      <td id=\"T_d29a0_row17_col4\" class=\"data row17 col4\" >0.004707</td>\n",
              "      <td id=\"T_d29a0_row17_col5\" class=\"data row17 col5\" >0.010965</td>\n",
              "      <td id=\"T_d29a0_row17_col6\" class=\"data row17 col6\" >0.017649</td>\n",
              "      <td id=\"T_d29a0_row17_col7\" class=\"data row17 col7\" >0.026093</td>\n",
              "      <td id=\"T_d29a0_row17_col8\" class=\"data row17 col8\" >0.036536</td>\n",
              "      <td id=\"T_d29a0_row17_col9\" class=\"data row17 col9\" >0.047729</td>\n",
              "      <td id=\"T_d29a0_row17_col10\" class=\"data row17 col10\" >0.059042</td>\n",
              "      <td id=\"T_d29a0_row17_col11\" class=\"data row17 col11\" >0.082097</td>\n",
              "      <td id=\"T_d29a0_row17_col12\" class=\"data row17 col12\" >0.138147</td>\n",
              "      <td id=\"T_d29a0_row17_col13\" class=\"data row17 col13\" >0.287546</td>\n",
              "      <td id=\"T_d29a0_row17_col14\" class=\"data row17 col14\" >0.526266</td>\n",
              "      <td id=\"T_d29a0_row17_col15\" class=\"data row17 col15\" >0.698864</td>\n",
              "      <td id=\"T_d29a0_row17_col16\" class=\"data row17 col16\" >0.684960</td>\n",
              "      <td id=\"T_d29a0_row17_col17\" class=\"data row17 col17\" >0.501407</td>\n",
              "      <td id=\"T_d29a0_row17_col18\" class=\"data row17 col18\" >0.239966</td>\n",
              "      <td id=\"T_d29a0_row17_col19\" class=\"data row17 col19\" >0.853334</td>\n",
              "      <td id=\"T_d29a0_row17_col20\" class=\"data row17 col20\" >0.893856</td>\n",
              "      <td id=\"T_d29a0_row17_col21\" class=\"data row17 col21\" >0.141235</td>\n",
              "      <td id=\"T_d29a0_row17_col22\" class=\"data row17 col22\" >0.015867</td>\n",
              "      <td id=\"T_d29a0_row17_col23\" class=\"data row17 col23\" >0.007142</td>\n",
              "      <td id=\"T_d29a0_row17_col24\" class=\"data row17 col24\" >0.003074</td>\n",
              "      <td id=\"T_d29a0_row17_col25\" class=\"data row17 col25\" >0.000558</td>\n",
              "      <td id=\"T_d29a0_row17_col26\" class=\"data row17 col26\" >0.000100</td>\n",
              "      <td id=\"T_d29a0_row17_col27\" class=\"data row17 col27\" >0.000000</td>\n",
              "    </tr>\n",
              "    <tr>\n",
              "      <th id=\"T_d29a0_level0_row18\" class=\"row_heading level0 row18\" >18</th>\n",
              "      <td id=\"T_d29a0_row18_col0\" class=\"data row18 col0\" >0.000038</td>\n",
              "      <td id=\"T_d29a0_row18_col1\" class=\"data row18 col1\" >0.000026</td>\n",
              "      <td id=\"T_d29a0_row18_col2\" class=\"data row18 col2\" >0.000179</td>\n",
              "      <td id=\"T_d29a0_row18_col3\" class=\"data row18 col3\" >0.000689</td>\n",
              "      <td id=\"T_d29a0_row18_col4\" class=\"data row18 col4\" >0.002655</td>\n",
              "      <td id=\"T_d29a0_row18_col5\" class=\"data row18 col5\" >0.005033</td>\n",
              "      <td id=\"T_d29a0_row18_col6\" class=\"data row18 col6\" >0.007927</td>\n",
              "      <td id=\"T_d29a0_row18_col7\" class=\"data row18 col7\" >0.013184</td>\n",
              "      <td id=\"T_d29a0_row18_col8\" class=\"data row18 col8\" >0.020997</td>\n",
              "      <td id=\"T_d29a0_row18_col9\" class=\"data row18 col9\" >0.031284</td>\n",
              "      <td id=\"T_d29a0_row18_col10\" class=\"data row18 col10\" >0.048276</td>\n",
              "      <td id=\"T_d29a0_row18_col11\" class=\"data row18 col11\" >0.090860</td>\n",
              "      <td id=\"T_d29a0_row18_col12\" class=\"data row18 col12\" >0.195333</td>\n",
              "      <td id=\"T_d29a0_row18_col13\" class=\"data row18 col13\" >0.394805</td>\n",
              "      <td id=\"T_d29a0_row18_col14\" class=\"data row18 col14\" >0.601067</td>\n",
              "      <td id=\"T_d29a0_row18_col15\" class=\"data row18 col15\" >0.682521</td>\n",
              "      <td id=\"T_d29a0_row18_col16\" class=\"data row18 col16\" >0.575082</td>\n",
              "      <td id=\"T_d29a0_row18_col17\" class=\"data row18 col17\" >0.266398</td>\n",
              "      <td id=\"T_d29a0_row18_col18\" class=\"data row18 col18\" >0.640576</td>\n",
              "      <td id=\"T_d29a0_row18_col19\" class=\"data row18 col19\" >0.904263</td>\n",
              "      <td id=\"T_d29a0_row18_col20\" class=\"data row18 col20\" >0.929948</td>\n",
              "      <td id=\"T_d29a0_row18_col21\" class=\"data row18 col21\" >0.205974</td>\n",
              "      <td id=\"T_d29a0_row18_col22\" class=\"data row18 col22\" >0.008185</td>\n",
              "      <td id=\"T_d29a0_row18_col23\" class=\"data row18 col23\" >0.003203</td>\n",
              "      <td id=\"T_d29a0_row18_col24\" class=\"data row18 col24\" >0.001447</td>\n",
              "      <td id=\"T_d29a0_row18_col25\" class=\"data row18 col25\" >0.000204</td>\n",
              "      <td id=\"T_d29a0_row18_col26\" class=\"data row18 col26\" >0.000079</td>\n",
              "      <td id=\"T_d29a0_row18_col27\" class=\"data row18 col27\" >0.000000</td>\n",
              "    </tr>\n",
              "    <tr>\n",
              "      <th id=\"T_d29a0_level0_row19\" class=\"row_heading level0 row19\" >19</th>\n",
              "      <td id=\"T_d29a0_row19_col0\" class=\"data row19 col0\" >0.000000</td>\n",
              "      <td id=\"T_d29a0_row19_col1\" class=\"data row19 col1\" >0.000124</td>\n",
              "      <td id=\"T_d29a0_row19_col2\" class=\"data row19 col2\" >0.000193</td>\n",
              "      <td id=\"T_d29a0_row19_col3\" class=\"data row19 col3\" >0.000344</td>\n",
              "      <td id=\"T_d29a0_row19_col4\" class=\"data row19 col4\" >0.001457</td>\n",
              "      <td id=\"T_d29a0_row19_col5\" class=\"data row19 col5\" >0.002192</td>\n",
              "      <td id=\"T_d29a0_row19_col6\" class=\"data row19 col6\" >0.003505</td>\n",
              "      <td id=\"T_d29a0_row19_col7\" class=\"data row19 col7\" >0.006404</td>\n",
              "      <td id=\"T_d29a0_row19_col8\" class=\"data row19 col8\" >0.012062</td>\n",
              "      <td id=\"T_d29a0_row19_col9\" class=\"data row19 col9\" >0.012068</td>\n",
              "      <td id=\"T_d29a0_row19_col10\" class=\"data row19 col10\" >0.172878</td>\n",
              "      <td id=\"T_d29a0_row19_col11\" class=\"data row19 col11\" >0.130090</td>\n",
              "      <td id=\"T_d29a0_row19_col12\" class=\"data row19 col12\" >0.283456</td>\n",
              "      <td id=\"T_d29a0_row19_col13\" class=\"data row19 col13\" >0.479385</td>\n",
              "      <td id=\"T_d29a0_row19_col14\" class=\"data row19 col14\" >0.622992</td>\n",
              "      <td id=\"T_d29a0_row19_col15\" class=\"data row19 col15\" >0.541674</td>\n",
              "      <td id=\"T_d29a0_row19_col16\" class=\"data row19 col16\" >0.135120</td>\n",
              "      <td id=\"T_d29a0_row19_col17\" class=\"data row19 col17\" >0.559275</td>\n",
              "      <td id=\"T_d29a0_row19_col18\" class=\"data row19 col18\" >0.857323</td>\n",
              "      <td id=\"T_d29a0_row19_col19\" class=\"data row19 col19\" >0.934508</td>\n",
              "      <td id=\"T_d29a0_row19_col20\" class=\"data row19 col20\" >0.654985</td>\n",
              "      <td id=\"T_d29a0_row19_col21\" class=\"data row19 col21\" >0.008741</td>\n",
              "      <td id=\"T_d29a0_row19_col22\" class=\"data row19 col22\" >0.003516</td>\n",
              "      <td id=\"T_d29a0_row19_col23\" class=\"data row19 col23\" >0.001049</td>\n",
              "      <td id=\"T_d29a0_row19_col24\" class=\"data row19 col24\" >0.000753</td>\n",
              "      <td id=\"T_d29a0_row19_col25\" class=\"data row19 col25\" >0.000167</td>\n",
              "      <td id=\"T_d29a0_row19_col26\" class=\"data row19 col26\" >0.000000</td>\n",
              "      <td id=\"T_d29a0_row19_col27\" class=\"data row19 col27\" >0.000000</td>\n",
              "    </tr>\n",
              "    <tr>\n",
              "      <th id=\"T_d29a0_level0_row20\" class=\"row_heading level0 row20\" >20</th>\n",
              "      <td id=\"T_d29a0_row20_col0\" class=\"data row20 col0\" >0.000000</td>\n",
              "      <td id=\"T_d29a0_row20_col1\" class=\"data row20 col1\" >0.000028</td>\n",
              "      <td id=\"T_d29a0_row20_col2\" class=\"data row20 col2\" >0.000005</td>\n",
              "      <td id=\"T_d29a0_row20_col3\" class=\"data row20 col3\" >0.000071</td>\n",
              "      <td id=\"T_d29a0_row20_col4\" class=\"data row20 col4\" >0.000356</td>\n",
              "      <td id=\"T_d29a0_row20_col5\" class=\"data row20 col5\" >0.001070</td>\n",
              "      <td id=\"T_d29a0_row20_col6\" class=\"data row20 col6\" >0.001913</td>\n",
              "      <td id=\"T_d29a0_row20_col7\" class=\"data row20 col7\" >0.005052</td>\n",
              "      <td id=\"T_d29a0_row20_col8\" class=\"data row20 col8\" >0.013843</td>\n",
              "      <td id=\"T_d29a0_row20_col9\" class=\"data row20 col9\" >0.175159</td>\n",
              "      <td id=\"T_d29a0_row20_col10\" class=\"data row20 col10\" >0.615863</td>\n",
              "      <td id=\"T_d29a0_row20_col11\" class=\"data row20 col11\" >0.205994</td>\n",
              "      <td id=\"T_d29a0_row20_col12\" class=\"data row20 col12\" >0.372828</td>\n",
              "      <td id=\"T_d29a0_row20_col13\" class=\"data row20 col13\" >0.523376</td>\n",
              "      <td id=\"T_d29a0_row20_col14\" class=\"data row20 col14\" >0.241575</td>\n",
              "      <td id=\"T_d29a0_row20_col15\" class=\"data row20 col15\" >0.419148</td>\n",
              "      <td id=\"T_d29a0_row20_col16\" class=\"data row20 col16\" >0.638553</td>\n",
              "      <td id=\"T_d29a0_row20_col17\" class=\"data row20 col17\" >0.787937</td>\n",
              "      <td id=\"T_d29a0_row20_col18\" class=\"data row20 col18\" >0.894132</td>\n",
              "      <td id=\"T_d29a0_row20_col19\" class=\"data row20 col19\" >0.873722</td>\n",
              "      <td id=\"T_d29a0_row20_col20\" class=\"data row20 col20\" >0.059454</td>\n",
              "      <td id=\"T_d29a0_row20_col21\" class=\"data row20 col21\" >0.005208</td>\n",
              "      <td id=\"T_d29a0_row20_col22\" class=\"data row20 col22\" >0.002049</td>\n",
              "      <td id=\"T_d29a0_row20_col23\" class=\"data row20 col23\" >0.000556</td>\n",
              "      <td id=\"T_d29a0_row20_col24\" class=\"data row20 col24\" >0.000536</td>\n",
              "      <td id=\"T_d29a0_row20_col25\" class=\"data row20 col25\" >0.000236</td>\n",
              "      <td id=\"T_d29a0_row20_col26\" class=\"data row20 col26\" >0.000000</td>\n",
              "      <td id=\"T_d29a0_row20_col27\" class=\"data row20 col27\" >0.000000</td>\n",
              "    </tr>\n",
              "    <tr>\n",
              "      <th id=\"T_d29a0_level0_row21\" class=\"row_heading level0 row21\" >21</th>\n",
              "      <td id=\"T_d29a0_row21_col0\" class=\"data row21 col0\" >0.000000</td>\n",
              "      <td id=\"T_d29a0_row21_col1\" class=\"data row21 col1\" >0.000000</td>\n",
              "      <td id=\"T_d29a0_row21_col2\" class=\"data row21 col2\" >0.000000</td>\n",
              "      <td id=\"T_d29a0_row21_col3\" class=\"data row21 col3\" >0.000000</td>\n",
              "      <td id=\"T_d29a0_row21_col4\" class=\"data row21 col4\" >0.000453</td>\n",
              "      <td id=\"T_d29a0_row21_col5\" class=\"data row21 col5\" >0.001710</td>\n",
              "      <td id=\"T_d29a0_row21_col6\" class=\"data row21 col6\" >0.004247</td>\n",
              "      <td id=\"T_d29a0_row21_col7\" class=\"data row21 col7\" >0.010677</td>\n",
              "      <td id=\"T_d29a0_row21_col8\" class=\"data row21 col8\" >0.029013</td>\n",
              "      <td id=\"T_d29a0_row21_col9\" class=\"data row21 col9\" >0.435243</td>\n",
              "      <td id=\"T_d29a0_row21_col10\" class=\"data row21 col10\" >0.794433</td>\n",
              "      <td id=\"T_d29a0_row21_col11\" class=\"data row21 col11\" >0.562143</td>\n",
              "      <td id=\"T_d29a0_row21_col12\" class=\"data row21 col12\" >0.417133</td>\n",
              "      <td id=\"T_d29a0_row21_col13\" class=\"data row21 col13\" >0.329243</td>\n",
              "      <td id=\"T_d29a0_row21_col14\" class=\"data row21 col14\" >0.469012</td>\n",
              "      <td id=\"T_d29a0_row21_col15\" class=\"data row21 col15\" >0.571770</td>\n",
              "      <td id=\"T_d29a0_row21_col16\" class=\"data row21 col16\" >0.707705</td>\n",
              "      <td id=\"T_d29a0_row21_col17\" class=\"data row21 col17\" >0.818069</td>\n",
              "      <td id=\"T_d29a0_row21_col18\" class=\"data row21 col18\" >0.608964</td>\n",
              "      <td id=\"T_d29a0_row21_col19\" class=\"data row21 col19\" >0.066408</td>\n",
              "      <td id=\"T_d29a0_row21_col20\" class=\"data row21 col20\" >0.012327</td>\n",
              "      <td id=\"T_d29a0_row21_col21\" class=\"data row21 col21\" >0.004532</td>\n",
              "      <td id=\"T_d29a0_row21_col22\" class=\"data row21 col22\" >0.001687</td>\n",
              "      <td id=\"T_d29a0_row21_col23\" class=\"data row21 col23\" >0.000312</td>\n",
              "      <td id=\"T_d29a0_row21_col24\" class=\"data row21 col24\" >0.000359</td>\n",
              "      <td id=\"T_d29a0_row21_col25\" class=\"data row21 col25\" >0.000238</td>\n",
              "      <td id=\"T_d29a0_row21_col26\" class=\"data row21 col26\" >0.000000</td>\n",
              "      <td id=\"T_d29a0_row21_col27\" class=\"data row21 col27\" >0.000000</td>\n",
              "    </tr>\n",
              "    <tr>\n",
              "      <th id=\"T_d29a0_level0_row22\" class=\"row_heading level0 row22\" >22</th>\n",
              "      <td id=\"T_d29a0_row22_col0\" class=\"data row22 col0\" >0.000000</td>\n",
              "      <td id=\"T_d29a0_row22_col1\" class=\"data row22 col1\" >0.000000</td>\n",
              "      <td id=\"T_d29a0_row22_col2\" class=\"data row22 col2\" >0.000000</td>\n",
              "      <td id=\"T_d29a0_row22_col3\" class=\"data row22 col3\" >0.000064</td>\n",
              "      <td id=\"T_d29a0_row22_col4\" class=\"data row22 col4\" >0.001094</td>\n",
              "      <td id=\"T_d29a0_row22_col5\" class=\"data row22 col5\" >0.004209</td>\n",
              "      <td id=\"T_d29a0_row22_col6\" class=\"data row22 col6\" >0.009627</td>\n",
              "      <td id=\"T_d29a0_row22_col7\" class=\"data row22 col7\" >0.024398</td>\n",
              "      <td id=\"T_d29a0_row22_col8\" class=\"data row22 col8\" >0.060991</td>\n",
              "      <td id=\"T_d29a0_row22_col9\" class=\"data row22 col9\" >0.381263</td>\n",
              "      <td id=\"T_d29a0_row22_col10\" class=\"data row22 col10\" >0.759688</td>\n",
              "      <td id=\"T_d29a0_row22_col11\" class=\"data row22 col11\" >0.635023</td>\n",
              "      <td id=\"T_d29a0_row22_col12\" class=\"data row22 col12\" >0.532989</td>\n",
              "      <td id=\"T_d29a0_row22_col13\" class=\"data row22 col13\" >0.498016</td>\n",
              "      <td id=\"T_d29a0_row22_col14\" class=\"data row22 col14\" >0.538193</td>\n",
              "      <td id=\"T_d29a0_row22_col15\" class=\"data row22 col15\" >0.553057</td>\n",
              "      <td id=\"T_d29a0_row22_col16\" class=\"data row22 col16\" >0.296586</td>\n",
              "      <td id=\"T_d29a0_row22_col17\" class=\"data row22 col17\" >0.103179</td>\n",
              "      <td id=\"T_d29a0_row22_col18\" class=\"data row22 col18\" >0.065485</td>\n",
              "      <td id=\"T_d29a0_row22_col19\" class=\"data row22 col19\" >0.028019</td>\n",
              "      <td id=\"T_d29a0_row22_col20\" class=\"data row22 col20\" >0.011355</td>\n",
              "      <td id=\"T_d29a0_row22_col21\" class=\"data row22 col21\" >0.004211</td>\n",
              "      <td id=\"T_d29a0_row22_col22\" class=\"data row22 col22\" >0.001465</td>\n",
              "      <td id=\"T_d29a0_row22_col23\" class=\"data row22 col23\" >0.000179</td>\n",
              "      <td id=\"T_d29a0_row22_col24\" class=\"data row22 col24\" >0.000246</td>\n",
              "      <td id=\"T_d29a0_row22_col25\" class=\"data row22 col25\" >0.000151</td>\n",
              "      <td id=\"T_d29a0_row22_col26\" class=\"data row22 col26\" >0.000000</td>\n",
              "      <td id=\"T_d29a0_row22_col27\" class=\"data row22 col27\" >0.000000</td>\n",
              "    </tr>\n",
              "    <tr>\n",
              "      <th id=\"T_d29a0_level0_row23\" class=\"row_heading level0 row23\" >23</th>\n",
              "      <td id=\"T_d29a0_row23_col0\" class=\"data row23 col0\" >0.000000</td>\n",
              "      <td id=\"T_d29a0_row23_col1\" class=\"data row23 col1\" >0.000000</td>\n",
              "      <td id=\"T_d29a0_row23_col2\" class=\"data row23 col2\" >0.000000</td>\n",
              "      <td id=\"T_d29a0_row23_col3\" class=\"data row23 col3\" >0.000093</td>\n",
              "      <td id=\"T_d29a0_row23_col4\" class=\"data row23 col4\" >0.002730</td>\n",
              "      <td id=\"T_d29a0_row23_col5\" class=\"data row23 col5\" >0.008028</td>\n",
              "      <td id=\"T_d29a0_row23_col6\" class=\"data row23 col6\" >0.019716</td>\n",
              "      <td id=\"T_d29a0_row23_col7\" class=\"data row23 col7\" >0.047848</td>\n",
              "      <td id=\"T_d29a0_row23_col8\" class=\"data row23 col8\" >0.099429</td>\n",
              "      <td id=\"T_d29a0_row23_col9\" class=\"data row23 col9\" >0.043606</td>\n",
              "      <td id=\"T_d29a0_row23_col10\" class=\"data row23 col10\" >0.415738</td>\n",
              "      <td id=\"T_d29a0_row23_col11\" class=\"data row23 col11\" >0.605036</td>\n",
              "      <td id=\"T_d29a0_row23_col12\" class=\"data row23 col12\" >0.546265</td>\n",
              "      <td id=\"T_d29a0_row23_col13\" class=\"data row23 col13\" >0.373566</td>\n",
              "      <td id=\"T_d29a0_row23_col14\" class=\"data row23 col14\" >0.111160</td>\n",
              "      <td id=\"T_d29a0_row23_col15\" class=\"data row23 col15\" >0.190271</td>\n",
              "      <td id=\"T_d29a0_row23_col16\" class=\"data row23 col16\" >0.201767</td>\n",
              "      <td id=\"T_d29a0_row23_col17\" class=\"data row23 col17\" >0.120309</td>\n",
              "      <td id=\"T_d29a0_row23_col18\" class=\"data row23 col18\" >0.059023</td>\n",
              "      <td id=\"T_d29a0_row23_col19\" class=\"data row23 col19\" >0.025964</td>\n",
              "      <td id=\"T_d29a0_row23_col20\" class=\"data row23 col20\" >0.010756</td>\n",
              "      <td id=\"T_d29a0_row23_col21\" class=\"data row23 col21\" >0.003725</td>\n",
              "      <td id=\"T_d29a0_row23_col22\" class=\"data row23 col22\" >0.001451</td>\n",
              "      <td id=\"T_d29a0_row23_col23\" class=\"data row23 col23\" >0.000303</td>\n",
              "      <td id=\"T_d29a0_row23_col24\" class=\"data row23 col24\" >0.000280</td>\n",
              "      <td id=\"T_d29a0_row23_col25\" class=\"data row23 col25\" >0.000091</td>\n",
              "      <td id=\"T_d29a0_row23_col26\" class=\"data row23 col26\" >0.000000</td>\n",
              "      <td id=\"T_d29a0_row23_col27\" class=\"data row23 col27\" >0.000000</td>\n",
              "    </tr>\n",
              "    <tr>\n",
              "      <th id=\"T_d29a0_level0_row24\" class=\"row_heading level0 row24\" >24</th>\n",
              "      <td id=\"T_d29a0_row24_col0\" class=\"data row24 col0\" >0.000000</td>\n",
              "      <td id=\"T_d29a0_row24_col1\" class=\"data row24 col1\" >0.000000</td>\n",
              "      <td id=\"T_d29a0_row24_col2\" class=\"data row24 col2\" >0.000066</td>\n",
              "      <td id=\"T_d29a0_row24_col3\" class=\"data row24 col3\" >0.000449</td>\n",
              "      <td id=\"T_d29a0_row24_col4\" class=\"data row24 col4\" >0.003826</td>\n",
              "      <td id=\"T_d29a0_row24_col5\" class=\"data row24 col5\" >0.011402</td>\n",
              "      <td id=\"T_d29a0_row24_col6\" class=\"data row24 col6\" >0.029948</td>\n",
              "      <td id=\"T_d29a0_row24_col7\" class=\"data row24 col7\" >0.069301</td>\n",
              "      <td id=\"T_d29a0_row24_col8\" class=\"data row24 col8\" >0.130728</td>\n",
              "      <td id=\"T_d29a0_row24_col9\" class=\"data row24 col9\" >0.213497</td>\n",
              "      <td id=\"T_d29a0_row24_col10\" class=\"data row24 col10\" >0.307747</td>\n",
              "      <td id=\"T_d29a0_row24_col11\" class=\"data row24 col11\" >0.376560</td>\n",
              "      <td id=\"T_d29a0_row24_col12\" class=\"data row24 col12\" >0.405277</td>\n",
              "      <td id=\"T_d29a0_row24_col13\" class=\"data row24 col13\" >0.388058</td>\n",
              "      <td id=\"T_d29a0_row24_col14\" class=\"data row24 col14\" >0.331440</td>\n",
              "      <td id=\"T_d29a0_row24_col15\" class=\"data row24 col15\" >0.256191</td>\n",
              "      <td id=\"T_d29a0_row24_col16\" class=\"data row24 col16\" >0.175228</td>\n",
              "      <td id=\"T_d29a0_row24_col17\" class=\"data row24 col17\" >0.106010</td>\n",
              "      <td id=\"T_d29a0_row24_col18\" class=\"data row24 col18\" >0.053060</td>\n",
              "      <td id=\"T_d29a0_row24_col19\" class=\"data row24 col19\" >0.025163</td>\n",
              "      <td id=\"T_d29a0_row24_col20\" class=\"data row24 col20\" >0.010371</td>\n",
              "      <td id=\"T_d29a0_row24_col21\" class=\"data row24 col21\" >0.004004</td>\n",
              "      <td id=\"T_d29a0_row24_col22\" class=\"data row24 col22\" >0.001169</td>\n",
              "      <td id=\"T_d29a0_row24_col23\" class=\"data row24 col23\" >0.000074</td>\n",
              "      <td id=\"T_d29a0_row24_col24\" class=\"data row24 col24\" >0.000163</td>\n",
              "      <td id=\"T_d29a0_row24_col25\" class=\"data row24 col25\" >0.000028</td>\n",
              "      <td id=\"T_d29a0_row24_col26\" class=\"data row24 col26\" >0.000000</td>\n",
              "      <td id=\"T_d29a0_row24_col27\" class=\"data row24 col27\" >0.000000</td>\n",
              "    </tr>\n",
              "    <tr>\n",
              "      <th id=\"T_d29a0_level0_row25\" class=\"row_heading level0 row25\" >25</th>\n",
              "      <td id=\"T_d29a0_row25_col0\" class=\"data row25 col0\" >0.000000</td>\n",
              "      <td id=\"T_d29a0_row25_col1\" class=\"data row25 col1\" >0.000000</td>\n",
              "      <td id=\"T_d29a0_row25_col2\" class=\"data row25 col2\" >0.000000</td>\n",
              "      <td id=\"T_d29a0_row25_col3\" class=\"data row25 col3\" >0.000387</td>\n",
              "      <td id=\"T_d29a0_row25_col4\" class=\"data row25 col4\" >0.002614</td>\n",
              "      <td id=\"T_d29a0_row25_col5\" class=\"data row25 col5\" >0.010354</td>\n",
              "      <td id=\"T_d29a0_row25_col6\" class=\"data row25 col6\" >0.031173</td>\n",
              "      <td id=\"T_d29a0_row25_col7\" class=\"data row25 col7\" >0.071038</td>\n",
              "      <td id=\"T_d29a0_row25_col8\" class=\"data row25 col8\" >0.131460</td>\n",
              "      <td id=\"T_d29a0_row25_col9\" class=\"data row25 col9\" >0.199942</td>\n",
              "      <td id=\"T_d29a0_row25_col10\" class=\"data row25 col10\" >0.268288</td>\n",
              "      <td id=\"T_d29a0_row25_col11\" class=\"data row25 col11\" >0.314036</td>\n",
              "      <td id=\"T_d29a0_row25_col12\" class=\"data row25 col12\" >0.326566</td>\n",
              "      <td id=\"T_d29a0_row25_col13\" class=\"data row25 col13\" >0.306960</td>\n",
              "      <td id=\"T_d29a0_row25_col14\" class=\"data row25 col14\" >0.261141</td>\n",
              "      <td id=\"T_d29a0_row25_col15\" class=\"data row25 col15\" >0.202807</td>\n",
              "      <td id=\"T_d29a0_row25_col16\" class=\"data row25 col16\" >0.139651</td>\n",
              "      <td id=\"T_d29a0_row25_col17\" class=\"data row25 col17\" >0.086367</td>\n",
              "      <td id=\"T_d29a0_row25_col18\" class=\"data row25 col18\" >0.046287</td>\n",
              "      <td id=\"T_d29a0_row25_col19\" class=\"data row25 col19\" >0.022879</td>\n",
              "      <td id=\"T_d29a0_row25_col20\" class=\"data row25 col20\" >0.009390</td>\n",
              "      <td id=\"T_d29a0_row25_col21\" class=\"data row25 col21\" >0.004114</td>\n",
              "      <td id=\"T_d29a0_row25_col22\" class=\"data row25 col22\" >0.001584</td>\n",
              "      <td id=\"T_d29a0_row25_col23\" class=\"data row25 col23\" >0.000120</td>\n",
              "      <td id=\"T_d29a0_row25_col24\" class=\"data row25 col24\" >0.000158</td>\n",
              "      <td id=\"T_d29a0_row25_col25\" class=\"data row25 col25\" >0.000000</td>\n",
              "      <td id=\"T_d29a0_row25_col26\" class=\"data row25 col26\" >0.000000</td>\n",
              "      <td id=\"T_d29a0_row25_col27\" class=\"data row25 col27\" >0.000000</td>\n",
              "    </tr>\n",
              "    <tr>\n",
              "      <th id=\"T_d29a0_level0_row26\" class=\"row_heading level0 row26\" >26</th>\n",
              "      <td id=\"T_d29a0_row26_col0\" class=\"data row26 col0\" >0.000000</td>\n",
              "      <td id=\"T_d29a0_row26_col1\" class=\"data row26 col1\" >0.000000</td>\n",
              "      <td id=\"T_d29a0_row26_col2\" class=\"data row26 col2\" >0.000000</td>\n",
              "      <td id=\"T_d29a0_row26_col3\" class=\"data row26 col3\" >0.000000</td>\n",
              "      <td id=\"T_d29a0_row26_col4\" class=\"data row26 col4\" >0.000683</td>\n",
              "      <td id=\"T_d29a0_row26_col5\" class=\"data row26 col5\" >0.004481</td>\n",
              "      <td id=\"T_d29a0_row26_col6\" class=\"data row26 col6\" >0.016640</td>\n",
              "      <td id=\"T_d29a0_row26_col7\" class=\"data row26 col7\" >0.039040</td>\n",
              "      <td id=\"T_d29a0_row26_col8\" class=\"data row26 col8\" >0.073101</td>\n",
              "      <td id=\"T_d29a0_row26_col9\" class=\"data row26 col9\" >0.106343</td>\n",
              "      <td id=\"T_d29a0_row26_col10\" class=\"data row26 col10\" >0.142433</td>\n",
              "      <td id=\"T_d29a0_row26_col11\" class=\"data row26 col11\" >0.169425</td>\n",
              "      <td id=\"T_d29a0_row26_col12\" class=\"data row26 col12\" >0.176472</td>\n",
              "      <td id=\"T_d29a0_row26_col13\" class=\"data row26 col13\" >0.169022</td>\n",
              "      <td id=\"T_d29a0_row26_col14\" class=\"data row26 col14\" >0.147443</td>\n",
              "      <td id=\"T_d29a0_row26_col15\" class=\"data row26 col15\" >0.114383</td>\n",
              "      <td id=\"T_d29a0_row26_col16\" class=\"data row26 col16\" >0.081698</td>\n",
              "      <td id=\"T_d29a0_row26_col17\" class=\"data row26 col17\" >0.052885</td>\n",
              "      <td id=\"T_d29a0_row26_col18\" class=\"data row26 col18\" >0.030014</td>\n",
              "      <td id=\"T_d29a0_row26_col19\" class=\"data row26 col19\" >0.014482</td>\n",
              "      <td id=\"T_d29a0_row26_col20\" class=\"data row26 col20\" >0.005050</td>\n",
              "      <td id=\"T_d29a0_row26_col21\" class=\"data row26 col21\" >0.002593</td>\n",
              "      <td id=\"T_d29a0_row26_col22\" class=\"data row26 col22\" >0.001134</td>\n",
              "      <td id=\"T_d29a0_row26_col23\" class=\"data row26 col23\" >0.000190</td>\n",
              "      <td id=\"T_d29a0_row26_col24\" class=\"data row26 col24\" >0.000000</td>\n",
              "      <td id=\"T_d29a0_row26_col25\" class=\"data row26 col25\" >0.000037</td>\n",
              "      <td id=\"T_d29a0_row26_col26\" class=\"data row26 col26\" >0.000000</td>\n",
              "      <td id=\"T_d29a0_row26_col27\" class=\"data row26 col27\" >0.000000</td>\n",
              "    </tr>\n",
              "    <tr>\n",
              "      <th id=\"T_d29a0_level0_row27\" class=\"row_heading level0 row27\" >27</th>\n",
              "      <td id=\"T_d29a0_row27_col0\" class=\"data row27 col0\" >0.000000</td>\n",
              "      <td id=\"T_d29a0_row27_col1\" class=\"data row27 col1\" >0.000000</td>\n",
              "      <td id=\"T_d29a0_row27_col2\" class=\"data row27 col2\" >0.000000</td>\n",
              "      <td id=\"T_d29a0_row27_col3\" class=\"data row27 col3\" >0.000000</td>\n",
              "      <td id=\"T_d29a0_row27_col4\" class=\"data row27 col4\" >0.000095</td>\n",
              "      <td id=\"T_d29a0_row27_col5\" class=\"data row27 col5\" >0.000585</td>\n",
              "      <td id=\"T_d29a0_row27_col6\" class=\"data row27 col6\" >0.001538</td>\n",
              "      <td id=\"T_d29a0_row27_col7\" class=\"data row27 col7\" >0.003204</td>\n",
              "      <td id=\"T_d29a0_row27_col8\" class=\"data row27 col8\" >0.004670</td>\n",
              "      <td id=\"T_d29a0_row27_col9\" class=\"data row27 col9\" >0.007148</td>\n",
              "      <td id=\"T_d29a0_row27_col10\" class=\"data row27 col10\" >0.011993</td>\n",
              "      <td id=\"T_d29a0_row27_col11\" class=\"data row27 col11\" >0.015394</td>\n",
              "      <td id=\"T_d29a0_row27_col12\" class=\"data row27 col12\" >0.018726</td>\n",
              "      <td id=\"T_d29a0_row27_col13\" class=\"data row27 col13\" >0.021517</td>\n",
              "      <td id=\"T_d29a0_row27_col14\" class=\"data row27 col14\" >0.024382</td>\n",
              "      <td id=\"T_d29a0_row27_col15\" class=\"data row27 col15\" >0.021448</td>\n",
              "      <td id=\"T_d29a0_row27_col16\" class=\"data row27 col16\" >0.017374</td>\n",
              "      <td id=\"T_d29a0_row27_col17\" class=\"data row27 col17\" >0.012364</td>\n",
              "      <td id=\"T_d29a0_row27_col18\" class=\"data row27 col18\" >0.006924</td>\n",
              "      <td id=\"T_d29a0_row27_col19\" class=\"data row27 col19\" >0.002638</td>\n",
              "      <td id=\"T_d29a0_row27_col20\" class=\"data row27 col20\" >0.001012</td>\n",
              "      <td id=\"T_d29a0_row27_col21\" class=\"data row27 col21\" >0.000413</td>\n",
              "      <td id=\"T_d29a0_row27_col22\" class=\"data row27 col22\" >0.000440</td>\n",
              "      <td id=\"T_d29a0_row27_col23\" class=\"data row27 col23\" >0.000075</td>\n",
              "      <td id=\"T_d29a0_row27_col24\" class=\"data row27 col24\" >0.000000</td>\n",
              "      <td id=\"T_d29a0_row27_col25\" class=\"data row27 col25\" >0.000000</td>\n",
              "      <td id=\"T_d29a0_row27_col26\" class=\"data row27 col26\" >0.000000</td>\n",
              "      <td id=\"T_d29a0_row27_col27\" class=\"data row27 col27\" >0.000000</td>\n",
              "    </tr>\n",
              "  </tbody>\n",
              "</table>\n"
            ]
          },
          "metadata": {},
          "execution_count": 28
        }
      ]
    },
    {
      "cell_type": "code",
      "source": [
        "# mean() 에 인자로 (-1,-2)의 튜플을 넣어주는 이유는 특정 위치의 평균만을 구하고 싶을 때 사용한다.\n",
        "# tensor의 shape는 대게 [1, 40, 40] 이런 식인데 -1, -2의 인덱싱을 통해 가로 세로의 값들만 가지고 평균을 구할 때 사용한다.\n",
        "# 즉 가로 세로를 가지고 구하는 값은 단 rank-1의 텐서를 가지며 이러한 텐서가 stack된 1010개를 가지고 있다. 그래서 텐서의 크기가 (1010)인 이유다."
      ],
      "metadata": {
        "id": "32dgqNPrKa6B"
      },
      "execution_count": 29,
      "outputs": []
    },
    {
      "cell_type": "code",
      "source": [
        "# 특정 숫자의 이미지와 이상적인 숫자의 거리가 짧다면 그 숫자가 동일하다는 판단하는 함수를 가지고 학습한다.\n",
        "def is_3(x): return mnist_distance(x, mean3) < mnist_distance(x, mean7) \n",
        "\n",
        "\n",
        "# 위 함수는 x에 특정 숫자를 넣었을 때 3과의 차이가 7보다 적다면(3과 거의 동일시) True를 반환한다.\n",
        "\n",
        "is_3(valid_3_tens[10]) # True\n",
        "is_3(valid_3_tens).float() # tensor([1., 1., 1.,  ..., 1., 1., 1.]) True면 1을 반환 False는 0을 반환\n",
        "accuracy_3s = is_3(valid_3_tens).float().mean()\n",
        "accuracy_7s = (1 - is_3(valid_7_tens).float()).mean() # 1.0 == 100% 맞다..\n",
        "\n",
        "accuracy_7s, accuracy_3s, (accuracy_7s + accuracy_3s) /2 "
      ],
      "metadata": {
        "colab": {
          "base_uri": "https://localhost:8080/"
        },
        "id": "0x8BjDL6Ka3J",
        "outputId": "fac4331f-e185-43ed-807c-9bbf67c2505a"
      },
      "execution_count": 30,
      "outputs": [
        {
          "output_type": "execute_result",
          "data": {
            "text/plain": [
              "(tensor(1.), tensor(0.9168), tensor(0.9584))"
            ]
          },
          "metadata": {},
          "execution_count": 30
        }
      ]
    },
    {
      "cell_type": "code",
      "source": [
        ""
      ],
      "metadata": {
        "id": "u9UkSJehSIDp"
      },
      "execution_count": 30,
      "outputs": []
    },
    {
      "cell_type": "markdown",
      "source": [
        "# stochastic gradient descent 확률적 경사하강법"
      ],
      "metadata": {
        "id": "L3bZ47m3SEX_"
      }
    },
    {
      "cell_type": "code",
      "source": [
        "def f(x) : return x**2\n",
        "\n",
        "plot_function(f, 'x', 'x**2') # function을 가지고 그래프를 표시, 2,3번째 인자는 각각 가로 세로의 태그"
      ],
      "metadata": {
        "colab": {
          "base_uri": "https://localhost:8080/",
          "height": 285
        },
        "id": "NjGqZ9AIKazw",
        "outputId": "19ed895b-167f-4d4b-edc9-164081419485"
      },
      "execution_count": 31,
      "outputs": [
        {
          "output_type": "display_data",
          "data": {
            "text/plain": [
              "<Figure size 432x288 with 1 Axes>"
            ],
            "image/png": "[encoded data removed]"
          },
          "metadata": {
            "needs_background": "light"
          }
        }
      ]
    },
    {
      "cell_type": "code",
      "source": [
        "plot_function(f, 'x', 'x**2')\n",
        "plt.scatter(-1.5, f(-1.5), color='red')"
      ],
      "metadata": {
        "colab": {
          "base_uri": "https://localhost:8080/",
          "height": 303
        },
        "id": "zyH0MBjFKawY",
        "outputId": "3aba0355-bab0-46ec-8f2e-ad951c4541de"
      },
      "execution_count": 32,
      "outputs": [
        {
          "output_type": "execute_result",
          "data": {
            "text/plain": [
              "<matplotlib.collections.PathCollection at 0x7fd298643650>"
            ]
          },
          "metadata": {},
          "execution_count": 32
        },
        {
          "output_type": "display_data",
          "data": {
            "text/plain": [
              "<Figure size 432x288 with 1 Axes>"
            ],
            "image/png": "[encoded data removed]"
          },
          "metadata": {
            "needs_background": "light"
          }
        }
      ]
    },
    {
      "cell_type": "code",
      "source": [
        "# 특정값의 변수에 대한 gradient를 계산해달라고 하는 함수 : requires_grad_()\n",
        "\n",
        "xt = tensor(3.).requires_grad_() # tensor(3., requires_grad=True)\n",
        "\n",
        "yt = f(xt)\n",
        "yt.backward() # 그레디언트 계산 initialize\n",
        "\n",
        "xt.grad"
      ],
      "metadata": {
        "colab": {
          "base_uri": "https://localhost:8080/"
        },
        "id": "xQPqqpjkc0u9",
        "outputId": "97db7270-7062-4fb2-8574-805916dffefc"
      },
      "execution_count": 33,
      "outputs": [
        {
          "output_type": "execute_result",
          "data": {
            "text/plain": [
              "tensor(6.)"
            ]
          },
          "metadata": {},
          "execution_count": 33
        }
      ]
    },
    {
      "cell_type": "code",
      "source": [
        "xt = tensor([10., 36., 25.]).requires_grad_()\n",
        "xt # tensor([10., 36., 25.], requires_grad=True)\n",
        "\n",
        "def f(x): return (x**2).sum()\n",
        "yt = f(xt)\n",
        "yt # 100 + 36^2 + 25^2"
      ],
      "metadata": {
        "colab": {
          "base_uri": "https://localhost:8080/"
        },
        "id": "mU82PFhkdh9p",
        "outputId": "f13bb394-c6c9-4d51-b6eb-8165bfe47980"
      },
      "execution_count": 34,
      "outputs": [
        {
          "output_type": "execute_result",
          "data": {
            "text/plain": [
              "tensor(2021., grad_fn=<SumBackward0>)"
            ]
          },
          "metadata": {},
          "execution_count": 34
        }
      ]
    },
    {
      "cell_type": "code",
      "source": [
        "# 위 예제 미분\n",
        "\n",
        "yt.backward()\n",
        "xt.grad # 기울기 2x에 값을 대입"
      ],
      "metadata": {
        "colab": {
          "base_uri": "https://localhost:8080/"
        },
        "id": "ERG5xILGd8kx",
        "outputId": "de25e230-f178-4cee-934a-731ba49af21c"
      },
      "execution_count": 35,
      "outputs": [
        {
          "output_type": "execute_result",
          "data": {
            "text/plain": [
              "tensor([20., 72., 50.])"
            ]
          },
          "metadata": {},
          "execution_count": 35
        }
      ]
    },
    {
      "cell_type": "markdown",
      "source": [
        "4.4.2"
      ],
      "metadata": {
        "id": "a727BkYwecsJ"
      }
    },
    {
      "cell_type": "code",
      "source": [
        "# 학습률을 사용하여 그레디언트의 파라미터를 조정해 나아갈 수 있다.\n",
        "# 학습률은 대게 0.1 ~ 0.001 사이며, 학습의 과정을 통해 좋은 모델의 결과 속 학습률을 사용할 수도 있다.\n",
        "\n",
        "# w -= w.grad * lr 을 최적화 단계를 사용한 파라미터의 갱신단계라고 불린다.\n",
        "def f(x) : return (x**2)\n",
        "plot_function(f, 'x' , 'x^2')\n",
        "plt.scatter(-5 , f(-5), color='red')\n",
        "\n",
        "# 만약 학습률이 0.01이라면?\n",
        "\n",
        "# -5 -= 2 * 5 * 0.01 = -4.9 << 미비함\n",
        "\n",
        "# 만약 학습률이 1이라면?\n",
        "\n",
        "# -5 -= 2 * 5 * 1 = 5 << 뛰어다니는 현상 발생"
      ],
      "metadata": {
        "colab": {
          "base_uri": "https://localhost:8080/",
          "height": 303
        },
        "id": "Jy3l9NovNn_3",
        "outputId": "636b128a-262e-424f-d3d5-5eb8962172bc"
      },
      "execution_count": 36,
      "outputs": [
        {
          "output_type": "execute_result",
          "data": {
            "text/plain": [
              "<matplotlib.collections.PathCollection at 0x7fd29858cc90>"
            ]
          },
          "metadata": {},
          "execution_count": 36
        },
        {
          "output_type": "display_data",
          "data": {
            "text/plain": [
              "<Figure size 432x288 with 1 Axes>"
            ],
            "image/png": "[encoded data removed]"
          },
          "metadata": {
            "needs_background": "light"
          }
        }
      ]
    },
    {
      "cell_type": "code",
      "source": [
        "# 확률적 경사하강법을 활용하여 시작부터 끝까지 보여주는 예제\n",
        "\n",
        "time = torch.arange(0,20).float() # tensor([ 0.,  1.,  2.,  3.,  4.,  5.,  6.,  7.,  8.,  9., 10., 11., 12., 13., 14., 15., 16., 17., 18., 19.])\n",
        "speed = torch.randn(20)*3 + 0.75 * (time-9.5)**2 + 1\n",
        "plt.scatter(time,speed)\n",
        "\n",
        "# speed => tensor([71.3436, 55.7348, 45.5466, 32.5137, 22.7267, 13.6544,  8.5335, \n",
        "# 11.6544,  5.2311, -0.8985,  2.1044,  3.5602,  0.3670,  8.0736, 15.0035, 29.3479, \n",
        "# 33.2235, 43.0720, 54.9268, 65.1467])\n",
        "\n"
      ],
      "metadata": {
        "colab": {
          "base_uri": "https://localhost:8080/",
          "height": 286
        },
        "id": "MB-knSxsNn84",
        "outputId": "3a193c06-5bd5-468d-9f69-4e422efb6fcb"
      },
      "execution_count": 37,
      "outputs": [
        {
          "output_type": "execute_result",
          "data": {
            "text/plain": [
              "<matplotlib.collections.PathCollection at 0x7fd2963bffd0>"
            ]
          },
          "metadata": {},
          "execution_count": 37
        },
        {
          "output_type": "display_data",
          "data": {
            "text/plain": [
              "<Figure size 432x288 with 1 Axes>"
            ],
            "image/png": "[encoded data removed]"
          },
          "metadata": {
            "needs_background": "light"
          }
        }
      ]
    },
    {
      "cell_type": "code",
      "source": [
        "# 파라미터를 조정할 함수의 입력\n",
        "def f(t, params):\n",
        "  a,b,c = params\n",
        "  return a*(t**2) + (b*t) + c"
      ],
      "metadata": {
        "id": "f4hobVGRNn4d"
      },
      "execution_count": 38,
      "outputs": []
    },
    {
      "cell_type": "code",
      "source": [
        "# 연속적인 값을 예측하는 회귀문제에서는 일반적으로 평균제곱오차 손실함수를 사용한다.\n",
        "def mse(pred, target): return ((pred - target)**2).mean()"
      ],
      "metadata": {
        "id": "sEkQ8abGTlSZ"
      },
      "execution_count": 39,
      "outputs": []
    },
    {
      "cell_type": "code",
      "source": [
        "params = torch.randn(3).requires_grad_() # tensor([-0.1335,  0.3415, -0.0716], requires_grad=True)\n",
        "# randn은 평균이 0이고 표준편차가 1인 정규분포 내에 값들을 크기에 맞게 랜덤으로 부여한다.\n",
        "\n",
        "preds = f(time, params) # 시간에 따라 값이 점점 더 커지는 모습을 보여준다.\n",
        "\n",
        "def show_preds(preds, ax=None):\n",
        "  if ax is None: ax = plt.subplots()[1] # 왜 인덱스 1을 넣어야하는가?\n",
        "  ax.scatter(time,speed) # 기존의 시간 별 속도 plot\n",
        "  ax.scatter(time, to_np(preds), color='red') # to_numpy로 예측값을 바꿔준다. 왜 굳이 넘파이로 변환하지?\n",
        "  ax.set_ylim(-300, 100) # 그래프 y limit\n",
        "\n",
        "# type(preds) => torch.Tensor\n",
        "# type(to_np(preds)) => numpy.ndarray\n",
        "# type(time) => torch.Tensor\n",
        "\n",
        "show_preds(preds)"
      ],
      "metadata": {
        "colab": {
          "base_uri": "https://localhost:8080/",
          "height": 273
        },
        "id": "x8j3pMsWT0fE",
        "outputId": "b125d1f5-a126-4b1c-9640-7be6de14f681"
      },
      "execution_count": 40,
      "outputs": [
        {
          "output_type": "display_data",
          "data": {
            "text/plain": [
              "<Figure size 432x288 with 1 Axes>"
            ],
            "image/png": "[encoded data removed]"
          },
          "metadata": {
            "needs_background": "light"
          }
        }
      ]
    },
    {
      "cell_type": "code",
      "source": [
        "loss = mse(preds, speed)\n",
        "loss\n",
        "\n",
        "# 다음과 같은 손실평균이 났다.\n",
        "\n",
        "# loss도 그래프처럼 만들어지는데 여기서 파라미터의 그래디언트를 계산해준다"
      ],
      "metadata": {
        "colab": {
          "base_uri": "https://localhost:8080/"
        },
        "id": "grAC3HFRV8fo",
        "outputId": "8e440d3f-4a8f-49aa-f0ca-e9f7c2a74ad4"
      },
      "execution_count": 41,
      "outputs": [
        {
          "output_type": "execute_result",
          "data": {
            "text/plain": [
              "tensor(25823.8086, grad_fn=<MeanBackward0>)"
            ]
          },
          "metadata": {},
          "execution_count": 41
        }
      ]
    },
    {
      "cell_type": "code",
      "source": [
        "loss.backward() # 한 번만 실행해주고 그 다음부턴 안됨\n",
        "params.grad\n",
        "\n",
        "# tensor([-164.1040,  -10.3645,   -0.7590])\n",
        "\n",
        "params.grad * 1e-5 # 더 작은 가중치로 조정되었다."
      ],
      "metadata": {
        "colab": {
          "base_uri": "https://localhost:8080/"
        },
        "id": "5LjODiEjYaLk",
        "outputId": "1ef1d244-31a6-49bb-a090-d5108bb3a907"
      },
      "execution_count": 42,
      "outputs": [
        {
          "output_type": "execute_result",
          "data": {
            "text/plain": [
              "tensor([-0.5320, -0.0342, -0.0025])"
            ]
          },
          "metadata": {},
          "execution_count": 42
        }
      ]
    },
    {
      "cell_type": "code",
      "source": [
        "# 가중치 갱신하기\n",
        "lr = 1e-5\n",
        "\n",
        "params.data -= lr * params.grad.data # 가중치를 조정하고\n",
        "params.grad = None # 다시 미분값을 없음으로 정의한다."
      ],
      "metadata": {
        "id": "fLsQ43x3bBAC"
      },
      "execution_count": 43,
      "outputs": []
    },
    {
      "cell_type": "code",
      "source": [
        "# 조정확인\n",
        "\n",
        "preds = f(time, params)\n",
        "mse(preds, speed) # 오차가 감소하였다."
      ],
      "metadata": {
        "colab": {
          "base_uri": "https://localhost:8080/"
        },
        "id": "GwO6DL4NcukM",
        "outputId": "273a6b5b-280d-4235-a684-b3cd1f2e1a3c"
      },
      "execution_count": 44,
      "outputs": [
        {
          "output_type": "execute_result",
          "data": {
            "text/plain": [
              "tensor(5435.5356, grad_fn=<MeanBackward0>)"
            ]
          },
          "metadata": {},
          "execution_count": 44
        }
      ]
    },
    {
      "cell_type": "code",
      "source": [
        "show_preds(preds)"
      ],
      "metadata": {
        "colab": {
          "base_uri": "https://localhost:8080/",
          "height": 273
        },
        "id": "GEVu2-ELdODx",
        "outputId": "97fb101b-77c5-4395-8114-e1fe47949677"
      },
      "execution_count": 45,
      "outputs": [
        {
          "output_type": "display_data",
          "data": {
            "text/plain": [
              "<Figure size 432x288 with 1 Axes>"
            ],
            "image/png": "[encoded data removed]"
          },
          "metadata": {
            "needs_background": "light"
          }
        }
      ]
    },
    {
      "cell_type": "markdown",
      "source": [
        "지금까지의 과정을 다시 함수로"
      ],
      "metadata": {
        "id": "I3Us_jL2dYr_"
      }
    },
    {
      "cell_type": "code",
      "source": [
        "def apply_step(params, prn=True):\n",
        "  preds = f(time, params) # 시간과 파라미터를 곱한 2차함수\n",
        "  loss = mse(preds, speed) # 예측과 스피드를 제곱평균 손실함수로 계산\n",
        "  loss.backward() # 손실을 미분가능한 상태로 만들어준 뒤\n",
        "  params.data -= lr * params.grad.data # 파라미터를 오차율과 그레디언트의 차로 계산함\n",
        "  params.grad = None\n",
        "  if prn: print(loss.item()) # 손실의 정도를 출력해주고,\n",
        "  return preds # 예측값을 반환\n"
      ],
      "metadata": {
        "id": "qiciw_Kmda7o"
      },
      "execution_count": 46,
      "outputs": []
    },
    {
      "cell_type": "code",
      "source": [
        "for i in range(10): apply_step(params)"
      ],
      "metadata": {
        "colab": {
          "base_uri": "https://localhost:8080/"
        },
        "id": "UCbgj6jrmykT",
        "outputId": "4d8c48c3-db42-4bc3-c5f0-84ca931fa2fb"
      },
      "execution_count": 47,
      "outputs": [
        {
          "output_type": "stream",
          "name": "stdout",
          "text": [
            "5435.53564453125\n",
            "1577.44921875\n",
            "847.3778076171875\n",
            "709.2225341796875\n",
            "683.0758056640625\n",
            "678.1243896484375\n",
            "677.1838989257812\n",
            "677.0023803710938\n",
            "676.9645385742188\n",
            "676.9537353515625\n"
          ]
        }
      ]
    },
    {
      "cell_type": "code",
      "source": [
        "_,axs = plt.subplots(1,4,figsize=(12,3))\n",
        "for ax in axs: show_preds(apply_step(params, False), ax)\n",
        "plt.tight_layout()"
      ],
      "metadata": {
        "colab": {
          "base_uri": "https://localhost:8080/",
          "height": 221
        },
        "id": "SfX0M9Zrnmwt",
        "outputId": "a264d64f-e6dc-44b5-d3a3-cd0bdc09184f"
      },
      "execution_count": 48,
      "outputs": [
        {
          "output_type": "display_data",
          "data": {
            "text/plain": [
              "<Figure size 864x216 with 4 Axes>"
            ],
            "image/png": "[encoded data removed]"
          },
          "metadata": {
            "needs_background": "light"
          }
        }
      ]
    },
    {
      "cell_type": "markdown",
      "source": [
        "# 4.5 MNIST Loss Function"
      ],
      "metadata": {
        "id": "3d5UFfuPSOII"
      }
    },
    {
      "cell_type": "code",
      "source": [
        "# 랭크 3의 텐서들을 랭크 2로 재배열\n",
        "# stacked_threes.shape = [6131, 28, 28]\n",
        "# stacked_sevens.shape = [6265, 28, 28]\n",
        "\n",
        "train_x = torch.cat([stacked_threes, stacked_sevens]).view(-1, 28*28)\n",
        "\n",
        "\n",
        "([1] * 10 + [0] * 5) # [1, 1, 1, 1, 1, 1, 1, 1, 1, 1, 0, 0, 0, 0, 0] 처럼 1차원 텐서로 값이 매겨진다.\n",
        "\n",
        "train_y = tensor([1] * len(threes) + [0] * len(sevens)).unsqueeze(1) # unsqueeze는 인덱스 x에 차원을 추가한다는 뜻\n",
        "# 본래 train_y는 1차원 텐서를 가지지만 unsqueeze로 2차원 텐서를 가지게 되었다.\n",
        "\n",
        "train_x.shape, train_y.shape\n",
        "train_y"
      ],
      "metadata": {
        "colab": {
          "base_uri": "https://localhost:8080/"
        },
        "id": "AAGeLJL1SNyB",
        "outputId": "6348bcf4-55ee-4147-cab1-2abbd650db44"
      },
      "execution_count": 49,
      "outputs": [
        {
          "output_type": "execute_result",
          "data": {
            "text/plain": [
              "tensor([[1],\n",
              "        [1],\n",
              "        [1],\n",
              "        ...,\n",
              "        [0],\n",
              "        [0],\n",
              "        [0]])"
            ]
          },
          "metadata": {},
          "execution_count": 49
        }
      ]
    },
    {
      "cell_type": "code",
      "source": [
        "dset = list(zip(train_x, train_y)) # 튜플로 묶은 다음 리스트로 나열\n",
        "x, y = dset[0] # dset 의 형태는 (train_x[0], train_y[0])과 같다.\n",
        "\n",
        "# x는 784개의 열을 가지지만, y는 단일열이기 때문에 tensor(1)로 나타난다.\n",
        "\n",
        "x.shape, y, y.shape"
      ],
      "metadata": {
        "colab": {
          "base_uri": "https://localhost:8080/"
        },
        "id": "kWWIZX6LUcnb",
        "outputId": "964b7dbc-bf15-418b-9906-e93c4dbe0129"
      },
      "execution_count": 50,
      "outputs": [
        {
          "output_type": "execute_result",
          "data": {
            "text/plain": [
              "(torch.Size([784]), tensor([1]), torch.Size([1]))"
            ]
          },
          "metadata": {},
          "execution_count": 50
        }
      ]
    },
    {
      "cell_type": "code",
      "source": [
        "# 검증용 데이터셋의 조정\n",
        "\n",
        "# stacked valid 3 data tensors\n",
        "valid_x = torch.cat([valid_3_tens, valid_7_tens]).view(-1, 28*28)\n",
        "valid_y = tensor([1] * len(valid_3_tens) + [0] * len(valid_7_tens)).unsqueeze(1)\n",
        "\n",
        "valid_x.shape, valid_y.shape\n",
        "# (torch.Size([2020, 784]), torch.Size([2020, 1]))\n",
        "\n",
        "valid_dset = list(zip(valid_x, valid_y))"
      ],
      "metadata": {
        "id": "Jm8POi0zUv79"
      },
      "execution_count": 51,
      "outputs": []
    },
    {
      "cell_type": "code",
      "source": [
        "torch.randn((3,3)) # randn((size))를 줌으로 크기에 맞도록 랜덤값을 얻을 수 있다.\n",
        "\n",
        "# 임의의 초기화된 가중치 만들기\n",
        "def init_params(size, std=1.0):\n",
        "  return (torch.randn(size)*std).requires_grad_()\n",
        "\n",
        "weights = init_params((28*28, 1)) # 784행, 1열로 된 y의 값에 맞출 가중치 설정\n",
        "\n",
        "bias = init_params(1) # 파라미터는 가중치 * x + bias 로 형성되어 있다. 픽셀값이 0이라면 곱한 결과도 무조건 0이 되기 때문\n",
        "\n",
        "weights.shape, bias"
      ],
      "metadata": {
        "colab": {
          "base_uri": "https://localhost:8080/"
        },
        "id": "DG30FLjlUbwA",
        "outputId": "e88e26c3-3447-4800-c6bd-80d8fb91e969"
      },
      "execution_count": 52,
      "outputs": [
        {
          "output_type": "execute_result",
          "data": {
            "text/plain": [
              "(torch.Size([784, 1]), tensor([0.3251], requires_grad=True))"
            ]
          },
          "metadata": {},
          "execution_count": 52
        }
      ]
    },
    {
      "cell_type": "code",
      "source": [
        "# train_x[0]은 그림 하나를 나타내는 랭크 1의 그림이기 때문에 가중치와 곱하고 모든 값을 더한 뒤 편차를 더한다.\n",
        "\n",
        "(train_x[0]*weights.T).sum() + bias"
      ],
      "metadata": {
        "colab": {
          "base_uri": "https://localhost:8080/"
        },
        "id": "idV4YYK-YhuB",
        "outputId": "ee560ee5-4d67-48fb-f222-40eaea493c2c"
      },
      "execution_count": 53,
      "outputs": [
        {
          "output_type": "execute_result",
          "data": {
            "text/plain": [
              "tensor([1.5501], grad_fn=<AddBackward0>)"
            ]
          },
          "metadata": {},
          "execution_count": 53
        }
      ]
    },
    {
      "cell_type": "code",
      "source": [
        "# 행렬 곱으로 train_x와 가중치를 곱한 뒤 편향을 더한다.\n",
        "\n",
        "def linear1(xb):\n",
        "  return xb@weights + bias\n",
        "\n",
        "preds = linear1(train_x)\n",
        "preds.shape # 총 12396개의 그림\n",
        "preds\n",
        "\n",
        "# 행렬 곱셈은.. 머리아프구나.."
      ],
      "metadata": {
        "colab": {
          "base_uri": "https://localhost:8080/"
        },
        "id": "G7KZ5iACYhrK",
        "outputId": "03362552-8f34-4d1f-99a3-efa28306e1d1"
      },
      "execution_count": 54,
      "outputs": [
        {
          "output_type": "execute_result",
          "data": {
            "text/plain": [
              "tensor([[ 1.5501],\n",
              "        [-5.0415],\n",
              "        [ 0.0129],\n",
              "        ...,\n",
              "        [ 0.8026],\n",
              "        [ 8.5934],\n",
              "        [-6.9015]], grad_fn=<AddBackward0>)"
            ]
          },
          "metadata": {},
          "execution_count": 54
        }
      ]
    },
    {
      "cell_type": "code",
      "source": [
        "corrects = (preds>0.0).float() == train_y \n",
        "\n",
        "# float을 하면 false = 0 , true = 1로 할당된다.\n",
        "# train_y와 같다면 true 아니라면 false\n",
        "corrects\n",
        "\n",
        "corrects.float().mean().item()"
      ],
      "metadata": {
        "colab": {
          "base_uri": "https://localhost:8080/"
        },
        "id": "ib2i8PZqYhok",
        "outputId": "39208c97-49a1-462a-da35-fe32707af620"
      },
      "execution_count": 55,
      "outputs": [
        {
          "output_type": "execute_result",
          "data": {
            "text/plain": [
              "0.36156824231147766"
            ]
          },
          "metadata": {},
          "execution_count": 55
        }
      ]
    },
    {
      "cell_type": "code",
      "source": [
        "corrects = (preds>0.0).float()\n",
        "corrects"
      ],
      "metadata": {
        "colab": {
          "base_uri": "https://localhost:8080/"
        },
        "id": "b3BBQ6BTYhMC",
        "outputId": "e698cebb-0c6f-4367-fc6e-ff275685aaed"
      },
      "execution_count": 56,
      "outputs": [
        {
          "output_type": "execute_result",
          "data": {
            "text/plain": [
              "tensor([[1.],\n",
              "        [0.],\n",
              "        [1.],\n",
              "        ...,\n",
              "        [1.],\n",
              "        [1.],\n",
              "        [0.]])"
            ]
          },
          "metadata": {},
          "execution_count": 56
        }
      ]
    },
    {
      "cell_type": "code",
      "source": [
        "train_y"
      ],
      "metadata": {
        "colab": {
          "base_uri": "https://localhost:8080/"
        },
        "id": "ciUY_keBYhJW",
        "outputId": "c7a46bee-1fc1-4203-9bb0-2b86c56b7e6b"
      },
      "execution_count": 57,
      "outputs": [
        {
          "output_type": "execute_result",
          "data": {
            "text/plain": [
              "tensor([[1],\n",
              "        [1],\n",
              "        [1],\n",
              "        ...,\n",
              "        [0],\n",
              "        [0],\n",
              "        [0]])"
            ]
          },
          "metadata": {},
          "execution_count": 57
        }
      ]
    },
    {
      "cell_type": "code",
      "source": [
        "# 가중치를 약간 바꾸면?\n",
        "\n",
        "with torch.no_grad() : weights[0] *= 1.0001\n",
        "\n",
        "preds = linear1(train_x)\n",
        "((preds>0.0).float() == train_y).float().mean().item()\n",
        "\n",
        "# 기존의 결과와 0.4801549017429352 값 차이가 없다."
      ],
      "metadata": {
        "colab": {
          "base_uri": "https://localhost:8080/"
        },
        "id": "5wQJUwiaff1D",
        "outputId": "5de59836-aa38-4820-b8ed-c77ed78d5888"
      },
      "execution_count": 58,
      "outputs": [
        {
          "output_type": "execute_result",
          "data": {
            "text/plain": [
              "0.36156824231147766"
            ]
          },
          "metadata": {},
          "execution_count": 58
        }
      ]
    },
    {
      "cell_type": "code",
      "source": [
        "trgts = tensor([1,0,1])\n",
        "preds = tensor([0.9, 0.4, 0.2])\n",
        "\n",
        "# predictions과 targets의 차이를 측정하는 손실함수\n",
        "\n",
        "def mnist_loss(prediction, targets):\n",
        "  return torch.where(targets==1, 1-prediction, prediction).mean()\n",
        "\n",
        "# no_mean() results = 0.1 , 0.4 , 0.8 \n",
        "mnist_loss(preds, trgts)"
      ],
      "metadata": {
        "colab": {
          "base_uri": "https://localhost:8080/"
        },
        "id": "eWbrIcimffyD",
        "outputId": "9854ea21-3f6c-4234-a0ad-9ef941022ec9"
      },
      "execution_count": 59,
      "outputs": [
        {
          "output_type": "execute_result",
          "data": {
            "text/plain": [
              "tensor(0.4333)"
            ]
          },
          "metadata": {},
          "execution_count": 59
        }
      ]
    },
    {
      "cell_type": "code",
      "source": [
        "# 0과 1사이의 값을 제공하는 함수 sigmoid 1 / (1 + e^-x)\n",
        "\n",
        "plot_function(torch.sigmoid, title='Sigmoid', min=-4, max = 4)"
      ],
      "metadata": {
        "colab": {
          "base_uri": "https://localhost:8080/",
          "height": 285
        },
        "id": "TxYp2wVDffu7",
        "outputId": "7515455c-1673-4d68-d55c-20cfdabc8b0a"
      },
      "execution_count": 60,
      "outputs": [
        {
          "output_type": "display_data",
          "data": {
            "text/plain": [
              "<Figure size 432x288 with 1 Axes>"
            ],
            "image/png": "[encoded data removed]"
          },
          "metadata": {
            "needs_background": "light"
          }
        }
      ]
    },
    {
      "cell_type": "code",
      "source": [
        "preds.sigmoid() # 예측이 0과 1 사이가 아니더라도 손실을 판단 가능하다.\n",
        "\n",
        "def mnist_loss(predictions, targets):\n",
        "  predictions = predictions.sigmoid()\n",
        "  return torch.where(targets==1, 1-predictions, predictions).mean() \n",
        "\n",
        "mnist_loss(preds, trgts)"
      ],
      "metadata": {
        "colab": {
          "base_uri": "https://localhost:8080/"
        },
        "id": "juTsFMFoffri",
        "outputId": "3f605e8f-d53a-4c6f-ab96-13495b94fe6a"
      },
      "execution_count": 61,
      "outputs": [
        {
          "output_type": "execute_result",
          "data": {
            "text/plain": [
              "tensor(0.4460)"
            ]
          },
          "metadata": {},
          "execution_count": 61
        }
      ]
    },
    {
      "cell_type": "markdown",
      "source": [
        "# Mini batch with SGD"
      ],
      "metadata": {
        "id": "dU8LK0aSqVnA"
      }
    },
    {
      "cell_type": "code",
      "source": [
        "# 최적화를 위해선 데이터의 손실을 파악해야 하는데, 너무 많은 데이터가 있다면 정확도에서는 높은 값을 얻을테지만 시간에 있어서는 오래 걸린다.\n",
        "# 또 하나의 데이터만 있다면 유의미한 정확도를 뽑아낼 수 없을 것이다.\n",
        "\n",
        "# 이에 일정 갯수의 데이터만을 가지고 손실을 파악하는데 그러기 위해 일정 값을 뽑아낸 걸 '미니배치학습'이라 하고 미니 배치의 크기를 batch-size\n",
        "\n",
        "coll = range(15)\n",
        "dl = DataLoader(coll, batch_size=5, shuffle=True)\n",
        "list(dl)"
      ],
      "metadata": {
        "colab": {
          "base_uri": "https://localhost:8080/"
        },
        "id": "DlJTDLJXffn6",
        "outputId": "357435a1-3ee1-4bf3-a0f5-8e3bff411bff"
      },
      "execution_count": 62,
      "outputs": [
        {
          "output_type": "execute_result",
          "data": {
            "text/plain": [
              "[tensor([ 3, 12,  8, 10,  2]),\n",
              " tensor([ 9,  4,  7, 14,  5]),\n",
              " tensor([ 1, 13,  0,  6, 11])]"
            ]
          },
          "metadata": {},
          "execution_count": 62
        }
      ]
    },
    {
      "cell_type": "code",
      "source": [
        "ds = L(enumerate(string.ascii_lowercase))\n",
        "ds\n",
        "# 독립변수, 종속변수 순\n",
        "# 2, 'c'),(3, 'd'),(4, 'e'),(5, 'f'),(6, 'g'),(7, 'h'),(8, 'i'),(9, 'j')...]\n",
        "\n",
        "# string.ascii_lowercase  파이썬에서 제공하는 알파벳\n",
        "\n",
        "dl = DataLoader(ds, batch_size=6, shuffle=True)\n",
        "list(dl)"
      ],
      "metadata": {
        "colab": {
          "base_uri": "https://localhost:8080/"
        },
        "id": "KxESYBNsrAjW",
        "outputId": "9e17da97-dc58-4fc2-f102-b5a0b4eec1fe"
      },
      "execution_count": 63,
      "outputs": [
        {
          "output_type": "execute_result",
          "data": {
            "text/plain": [
              "[(tensor([17, 18, 10, 22,  8, 14]), ('r', 's', 'k', 'w', 'i', 'o')),\n",
              " (tensor([20, 15,  9, 13, 21, 12]), ('u', 'p', 'j', 'n', 'v', 'm')),\n",
              " (tensor([ 7, 25,  6,  5, 11, 23]), ('h', 'z', 'g', 'f', 'l', 'x')),\n",
              " (tensor([ 1,  3,  0, 24, 19, 16]), ('b', 'd', 'a', 'y', 't', 'q')),\n",
              " (tensor([2, 4]), ('c', 'e'))]"
            ]
          },
          "metadata": {},
          "execution_count": 63
        }
      ]
    },
    {
      "cell_type": "markdown",
      "source": [
        "# Start From nothing to end"
      ],
      "metadata": {
        "id": "LZPUtLhjsIZo"
      }
    },
    {
      "cell_type": "code",
      "source": [
        "# 1. 파라미터 초기화\n",
        "\n",
        "def init_params(size, std=1.0):\n",
        "  return (torch.randn(size)*std).requires_grad_()\n",
        "\n",
        "weights = init_params((28*28,1))\n",
        "bias = init_params(1)\n",
        "\n",
        "weights.shape, bias, weights.mean()"
      ],
      "metadata": {
        "colab": {
          "base_uri": "https://localhost:8080/"
        },
        "id": "pp39NwJKrAZ5",
        "outputId": "08dbcb3d-5ffc-4c8b-fa30-fe4962f9b0dd"
      },
      "execution_count": 64,
      "outputs": [
        {
          "output_type": "execute_result",
          "data": {
            "text/plain": [
              "(torch.Size([784, 1]),\n",
              " tensor([-1.2630], requires_grad=True),\n",
              " tensor(0.0021, grad_fn=<MeanBackward0>))"
            ]
          },
          "metadata": {},
          "execution_count": 64
        }
      ]
    },
    {
      "cell_type": "code",
      "source": [
        "# 2. 학습용 DataLoader 생성\n",
        "\n",
        "train_x = torch.cat([stacked_threes, stacked_sevens]).view(-1, 28*28)\n",
        "train_y = tensor([1] * len(threes) + [0] * len(sevens)).unsqueeze(1)\n",
        "dset = list(zip(train_x, train_y))\n",
        "\n",
        "dl = DataLoader(dset, batch_size = 256)\n",
        "xb, yb = first(dl)\n",
        "xb.shape, yb.shape"
      ],
      "metadata": {
        "colab": {
          "base_uri": "https://localhost:8080/"
        },
        "id": "ucAUyS_9syJM",
        "outputId": "0135b11c-060b-4031-f53b-a60d875265a0"
      },
      "execution_count": 65,
      "outputs": [
        {
          "output_type": "execute_result",
          "data": {
            "text/plain": [
              "(torch.Size([256, 784]), torch.Size([256, 1]))"
            ]
          },
          "metadata": {},
          "execution_count": 65
        }
      ]
    },
    {
      "cell_type": "code",
      "source": [
        "# 3. 검증용 DataLoader 생성\n",
        "valid_x = torch.cat([valid_3_tens, valid_7_tens]).view(-1, 28*28)\n",
        "valid_y = tensor([1] * len(valid_3_tens) + [0] * len(valid_7_tens)).unsqueeze(1)\n",
        "valid_dset = list(zip(valid_x, valid_y))\n",
        "\n",
        "valid_dl = DataLoader(valid_dset, batch_size=256)"
      ],
      "metadata": {
        "id": "XkhebPGIsyTb"
      },
      "execution_count": 66,
      "outputs": []
    },
    {
      "cell_type": "code",
      "source": [
        "# 4. 간단한 배치 만들어서 검증해보기\n",
        "\n",
        "batch = train_x[:4]\n",
        "batch.shape # [4, 784]\n",
        "def linear1(xb):\n",
        "  return xb@weights + bias\n",
        "\n",
        "preds = linear1(batch)\n",
        "preds\n",
        "\n",
        "# 행렬의 곱\n",
        "#tensor([[ 9.2829],\n",
        "#        [12.3698],\n",
        "#        [ 2.2935],\n",
        "#        [ 8.1216]], grad_fn=<AddBackward0>)\n",
        "\n",
        "\n",
        "def mnist_loss(predictions, targets):\n",
        "  predictions = predictions.sigmoid()\n",
        "  return torch.where(targets==1, 1-predictions, predictions).mean() \n",
        "\n",
        "loss = mnist_loss(preds, train_y[:4]) # 예측과 기존 모델에서의 값과 차이를 비교한다. (4,1) 사이즈\n",
        "loss"
      ],
      "metadata": {
        "colab": {
          "base_uri": "https://localhost:8080/"
        },
        "id": "xow_ocojsyWn",
        "outputId": "883956d0-9cca-468f-b42c-d64e8fbaae75"
      },
      "execution_count": 67,
      "outputs": [
        {
          "output_type": "execute_result",
          "data": {
            "text/plain": [
              "tensor(9.0003e-06, grad_fn=<MeanBackward0>)"
            ]
          },
          "metadata": {},
          "execution_count": 67
        }
      ]
    },
    {
      "cell_type": "code",
      "source": [
        "# 5. 그레디언트 계산\n",
        "\n",
        "loss.backward()\n",
        "weights.grad.shape, weights.grad.mean(), bias.grad"
      ],
      "metadata": {
        "colab": {
          "base_uri": "https://localhost:8080/"
        },
        "id": "fE1abHkusyah",
        "outputId": "6b8eaa85-6916-4163-a618-d03b479bc75e"
      },
      "execution_count": 68,
      "outputs": [
        {
          "output_type": "execute_result",
          "data": {
            "text/plain": [
              "(torch.Size([784, 1]), tensor(-1.2906e-06), tensor([-9.0000e-06]))"
            ]
          },
          "metadata": {},
          "execution_count": 68
        }
      ]
    },
    {
      "cell_type": "code",
      "source": [
        "# 6. 그레디언트 함수로 최종 정의\n",
        "\n",
        "def calc_grad(xb, yb, model):\n",
        "  preds = model(xb)\n",
        "  loss = mnist_loss(preds, yb)\n",
        "  loss.backward()\n",
        "\n",
        "\n",
        "calc_grad(batch, train_y[:4], linear1)\n",
        "weights.grad.mean(), bias.grad\n",
        "# (tensor(-0.0251), tensor([-0.1752]))\n",
        "# (tensor(-0.0314), tensor([-0.2190])) 자꾸 더해지니까 앞서 계산된 기울기에 더해지는 걸 볼 수 있다. 따라서 이전 그레디언트를 0으로 설정해줘야 한다.\n",
        "\n",
        "weights.grad.zero_()\n",
        "bias.grad.zero_()"
      ],
      "metadata": {
        "colab": {
          "base_uri": "https://localhost:8080/"
        },
        "id": "9wJ4IGgpySYA",
        "outputId": "f86a6edf-6265-4462-e77c-ff2c99f359f7"
      },
      "execution_count": 69,
      "outputs": [
        {
          "output_type": "execute_result",
          "data": {
            "text/plain": [
              "tensor([0.])"
            ]
          },
          "metadata": {},
          "execution_count": 69
        }
      ]
    },
    {
      "cell_type": "code",
      "source": [
        "# 학습루프\n",
        "def train_epoch(model, lr, params):\n",
        "  for xb, yb in dl: # 데이터 로드의 두 가지를 나눠서\n",
        "    calc_grad(xb, yb, model) # 모델을 통해 오차를 계산함\n",
        "    for p in params:  # 파라미터 안에 가중치와 편향이 들어감 둘다 조정됨\n",
        "      p.data -= p.grad*lr\n",
        "      p.grad.zero_()"
      ],
      "metadata": {
        "id": "zplaHqL1ySSi"
      },
      "execution_count": 70,
      "outputs": []
    },
    {
      "cell_type": "code",
      "source": [
        "# 정확도를 측정하기\n",
        "\n",
        "(preds>0.5).float() == train_y[:4]"
      ],
      "metadata": {
        "colab": {
          "base_uri": "https://localhost:8080/"
        },
        "id": "7EnnLLoFySH3",
        "outputId": "bd1c95d9-560d-491e-ed34-1e732e2a5d5e"
      },
      "execution_count": 71,
      "outputs": [
        {
          "output_type": "execute_result",
          "data": {
            "text/plain": [
              "tensor([[True],\n",
              "        [True],\n",
              "        [True],\n",
              "        [True]])"
            ]
          },
          "metadata": {},
          "execution_count": 71
        }
      ]
    },
    {
      "cell_type": "code",
      "source": [
        "# 배치 단위의 평균정확도 계산\n",
        "\n",
        "def batch_accuracy(xb , yb):\n",
        "  preds = xb.sigmoid()\n",
        "  correct = (preds>0.5) == yb\n",
        "  return correct.float().mean()\n",
        "\n",
        "batch_accuracy(linear1(batch), train_y[:4])"
      ],
      "metadata": {
        "colab": {
          "base_uri": "https://localhost:8080/"
        },
        "id": "guUrq4S60SLD",
        "outputId": "ade08f3c-0e39-460a-e286-a5393cd9fa47"
      },
      "execution_count": 72,
      "outputs": [
        {
          "output_type": "execute_result",
          "data": {
            "text/plain": [
              "tensor(1.)"
            ]
          },
          "metadata": {},
          "execution_count": 72
        }
      ]
    },
    {
      "cell_type": "code",
      "source": [
        "# 배치 별 구한 평균정확도를 가지고 모든 배치에 대해 평균을 구하는 함수\n",
        "\n",
        "def validate_epoch(model):\n",
        "  accs = [batch_accuracy(model(xb), yb) for xb, yb in valid_dl]\n",
        "  return round(torch.stack(accs).mean().item(), 4)\n",
        "\n",
        "validate_epoch(linear1)"
      ],
      "metadata": {
        "colab": {
          "base_uri": "https://localhost:8080/"
        },
        "id": "nAs79K4f0SID",
        "outputId": "6b73f1cc-c356-451d-bdcd-663eb7da79e7"
      },
      "execution_count": 73,
      "outputs": [
        {
          "output_type": "execute_result",
          "data": {
            "text/plain": [
              "0.9854"
            ]
          },
          "metadata": {},
          "execution_count": 73
        }
      ]
    },
    {
      "cell_type": "code",
      "source": [
        "# 7. 정확도 개선\n",
        "\n",
        "lr = 1\n",
        "params = weights, bias\n",
        "train_epoch(linear1, lr, params) # 가중치 및 편향 조정\n",
        "validate_epoch(linear1) # 조정된 가중치와 편향으로 학습한 결과에 따라 모든 배치의 정확도 도출\n",
        "\n",
        "# 정확도가 향상된 걸 볼 수 있다.\n"
      ],
      "metadata": {
        "colab": {
          "base_uri": "https://localhost:8080/"
        },
        "id": "I2UHESVE0SFM",
        "outputId": "33a4f773-15b8-4dae-b3f5-d9823b2f00f4"
      },
      "execution_count": 74,
      "outputs": [
        {
          "output_type": "execute_result",
          "data": {
            "text/plain": [
              "0.6323"
            ]
          },
          "metadata": {},
          "execution_count": 74
        }
      ]
    },
    {
      "cell_type": "code",
      "source": [
        "# 8. 에포크 반복\n",
        "\n",
        "for i in range(20):\n",
        "  train_epoch(linear1, lr, params)\n",
        "  print(validate_epoch(linear1), end=' ')"
      ],
      "metadata": {
        "colab": {
          "base_uri": "https://localhost:8080/"
        },
        "id": "ApK8IbBx0SCE",
        "outputId": "38fe5f3b-b65a-45b0-82c8-4b8d0f0a6b5d"
      },
      "execution_count": 75,
      "outputs": [
        {
          "output_type": "stream",
          "name": "stdout",
          "text": [
            "0.8325 0.9141 0.9448 0.958 0.9629 0.9663 0.9707 0.9741 0.9761 0.9771 0.9775 0.9785 0.9795 0.9795 0.98 0.98 0.98 0.98 0.98 0.98 "
          ]
        }
      ]
    },
    {
      "cell_type": "markdown",
      "source": [
        "# Make the optimizer"
      ],
      "metadata": {
        "id": "QrBJW0M8OiTQ"
      }
    },
    {
      "cell_type": "code",
      "source": [
        "linear_model = nn.Linear(28*28, 1)\n",
        "linear_model"
      ],
      "metadata": {
        "colab": {
          "base_uri": "https://localhost:8080/"
        },
        "id": "x8u_R0Ov0R_E",
        "outputId": "1ef44345-6e84-48cf-81e0-03a88e00ed29"
      },
      "execution_count": 76,
      "outputs": [
        {
          "output_type": "execute_result",
          "data": {
            "text/plain": [
              "Linear(in_features=784, out_features=1, bias=True)"
            ]
          },
          "metadata": {},
          "execution_count": 76
        }
      ]
    },
    {
      "cell_type": "code",
      "source": [
        "w,b = linear_model.parameters()\n",
        "w.shape, b.shape\n",
        " # (torch.Size([1, 784]), torch.Size([1]))\n",
        "\n"
      ],
      "metadata": {
        "colab": {
          "base_uri": "https://localhost:8080/"
        },
        "id": "YYbl4QO70R79",
        "outputId": "2969eeaf-538a-442e-ebad-0ebb8c6df62d"
      },
      "execution_count": 77,
      "outputs": [
        {
          "output_type": "execute_result",
          "data": {
            "text/plain": [
              "(torch.Size([1, 784]), torch.Size([1]))"
            ]
          },
          "metadata": {},
          "execution_count": 77
        }
      ]
    },
    {
      "cell_type": "code",
      "source": [
        "# 파라미터정보로 옵티마이저를 정의하는데 활용할 수 있다.\n",
        "\n",
        "class BasicOptim:\n",
        "  def __init__(self, params, lr):\n",
        "    self.params , self.lr = list(params), lr\n",
        "  def step(self, *args, **kwargs):\n",
        "    for p in self.params: # 여기에도 역시 가중치와 편향이 들어간다.\n",
        "      p.data -= p.grad.data * self.lr\n",
        "  def zero_grad(self, *args, **kwargs):\n",
        "    for p in self.params: p.grad = None"
      ],
      "metadata": {
        "id": "60YD-h9APrF1"
      },
      "execution_count": 78,
      "outputs": []
    },
    {
      "cell_type": "code",
      "source": [
        "# 파라미터를 넣어서 옵티마이저를 정의한다.\n",
        "opt = BasicOptim(linear_model.parameters(), lr)"
      ],
      "metadata": {
        "id": "iC2-kLaXQQ56"
      },
      "execution_count": 79,
      "outputs": []
    },
    {
      "cell_type": "code",
      "source": [
        "# 학습 루프의 간소화\n",
        "\n",
        "def train_epoch(model):\n",
        "  for xb, yb in dl:\n",
        "    calc_grad(xb, yb, model)\n",
        "    opt.step()\n",
        "    opt.zero_grad()"
      ],
      "metadata": {
        "id": "ot-eG8NYQcBv"
      },
      "execution_count": 80,
      "outputs": []
    },
    {
      "cell_type": "code",
      "source": [
        "validate_epoch(linear_model)"
      ],
      "metadata": {
        "colab": {
          "base_uri": "https://localhost:8080/"
        },
        "id": "O4l84gi_QxIi",
        "outputId": "15dc15d3-64f2-4256-85be-06be6d0a3e15"
      },
      "execution_count": 81,
      "outputs": [
        {
          "output_type": "execute_result",
          "data": {
            "text/plain": [
              "0.4189"
            ]
          },
          "metadata": {},
          "execution_count": 81
        }
      ]
    },
    {
      "cell_type": "code",
      "source": [
        "# 간소화된 그리고 추상적인 관점에서 전체과정 바라보기\n",
        "\n",
        "def train_model(model, epoch):\n",
        "  for i in range(epoch): # 에포크만큼 반복하여 계속 조정한다(3)\n",
        "    train_epoch(model) # 에포크를 통해 파라미터를 조정하고(1) \n",
        "    print(validate_epoch(model), end = ' ') # 조정한 값으로 정확도를 검증한다(2)"
      ],
      "metadata": {
        "id": "ZLcICHlkQ4nd"
      },
      "execution_count": 82,
      "outputs": []
    },
    {
      "cell_type": "code",
      "source": [
        "train_model(linear_model, 40)"
      ],
      "metadata": {
        "colab": {
          "base_uri": "https://localhost:8080/"
        },
        "id": "jvkDOXJWRUJk",
        "outputId": "7c592125-46f5-45c3-b789-70c460b0802b"
      },
      "execution_count": 83,
      "outputs": [
        {
          "output_type": "stream",
          "name": "stdout",
          "text": [
            "0.4932 0.7563 0.8535 0.918 0.938 0.9507 0.96 0.9663 0.9692 0.9707 0.9731 0.9751 0.9761 0.978 0.9785 0.979 0.9805 0.981 0.9814 0.9814 0.9819 0.9819 0.9824 0.9829 0.9829 0.9829 0.9839 0.9839 0.9844 0.9849 0.9854 0.9854 0.9854 0.9854 0.9854 0.9854 0.9858 0.9858 0.9858 0.9858 "
          ]
        }
      ]
    },
    {
      "cell_type": "code",
      "source": [
        "# fastAI에서는 SGD 클래스를 제공하는데 이는 옵티마이저와 같은 방식으로 작동한다.\n",
        "\n",
        "linear_model = nn.Linear(28*28, 1)\n",
        "opt = SGD(linear_model.parameters(), lr)\n",
        "train_model(linear_model, 20)"
      ],
      "metadata": {
        "colab": {
          "base_uri": "https://localhost:8080/"
        },
        "id": "o8sximnxRjGT",
        "outputId": "9bc514cd-b5b9-496b-eeb5-fe02d62b574c"
      },
      "execution_count": 84,
      "outputs": [
        {
          "output_type": "stream",
          "name": "stdout",
          "text": [
            "0.4932 0.6909 0.8594 0.9185 0.9375 0.9517 0.9595 0.9668 0.9692 0.9707 0.9731 0.9751 0.9771 0.9775 0.979 0.979 0.9805 0.981 0.9814 0.9819 "
          ]
        }
      ]
    },
    {
      "cell_type": "code",
      "source": [
        "dls = DataLoaders(dl, valid_dl) # 학습용 데이터셋, 검증용 데이터셋을 데이터로드s로 구성한다.\n",
        "learn = Learner(dls, nn.Linear(28*28, 1), opt_func = SGD, # 데이터로더, 학습 모델, \n",
        "                loss_func = mnist_loss, metrics=batch_accuracy)\n",
        "learn.fit(10, lr = lr)"
      ],
      "metadata": {
        "colab": {
          "base_uri": "https://localhost:8080/",
          "height": 363
        },
        "id": "gSfgME56458_",
        "outputId": "060dba13-1a0d-4912-e394-2449f0b31e14"
      },
      "execution_count": 85,
      "outputs": [
        {
          "output_type": "display_data",
          "data": {
            "text/plain": [
              "<IPython.core.display.HTML object>"
            ],
            "text/html": [
              "\n",
              "<style>\n",
              "    /* Turns off some styling */\n",
              "    progress {\n",
              "        /* gets rid of default border in Firefox and Opera. */\n",
              "        border: none;\n",
              "        /* Needs to be in here for Safari polyfill so background images work as expected. */\n",
              "        background-size: auto;\n",
              "    }\n",
              "    progress:not([value]), progress:not([value])::-webkit-progress-bar {\n",
              "        background: repeating-linear-gradient(45deg, #7e7e7e, #7e7e7e 10px, #5c5c5c 10px, #5c5c5c 20px);\n",
              "    }\n",
              "    .progress-bar-interrupted, .progress-bar-interrupted::-webkit-progress-bar {\n",
              "        background: #F44336;\n",
              "    }\n",
              "</style>\n"
            ]
          },
          "metadata": {}
        },
        {
          "output_type": "display_data",
          "data": {
            "text/plain": [
              "<IPython.core.display.HTML object>"
            ],
            "text/html": [
              "<table border=\"1\" class=\"dataframe\">\n",
              "  <thead>\n",
              "    <tr style=\"text-align: left;\">\n",
              "      <th>epoch</th>\n",
              "      <th>train_loss</th>\n",
              "      <th>valid_loss</th>\n",
              "      <th>batch_accuracy</th>\n",
              "      <th>time</th>\n",
              "    </tr>\n",
              "  </thead>\n",
              "  <tbody>\n",
              "    <tr>\n",
              "      <td>0</td>\n",
              "      <td>0.636369</td>\n",
              "      <td>0.284123</td>\n",
              "      <td>0.500000</td>\n",
              "      <td>00:00</td>\n",
              "    </tr>\n",
              "    <tr>\n",
              "      <td>1</td>\n",
              "      <td>0.569279</td>\n",
              "      <td>0.434690</td>\n",
              "      <td>0.811386</td>\n",
              "      <td>00:00</td>\n",
              "    </tr>\n",
              "    <tr>\n",
              "      <td>2</td>\n",
              "      <td>0.208273</td>\n",
              "      <td>0.389695</td>\n",
              "      <td>0.843564</td>\n",
              "      <td>00:00</td>\n",
              "    </tr>\n",
              "    <tr>\n",
              "      <td>3</td>\n",
              "      <td>0.090089</td>\n",
              "      <td>0.315817</td>\n",
              "      <td>0.914356</td>\n",
              "      <td>00:00</td>\n",
              "    </tr>\n",
              "    <tr>\n",
              "      <td>4</td>\n",
              "      <td>0.046651</td>\n",
              "      <td>0.284102</td>\n",
              "      <td>0.934653</td>\n",
              "      <td>00:00</td>\n",
              "    </tr>\n",
              "    <tr>\n",
              "      <td>5</td>\n",
              "      <td>0.029789</td>\n",
              "      <td>0.265325</td>\n",
              "      <td>0.950000</td>\n",
              "      <td>00:00</td>\n",
              "    </tr>\n",
              "    <tr>\n",
              "      <td>6</td>\n",
              "      <td>0.022925</td>\n",
              "      <td>0.252521</td>\n",
              "      <td>0.958911</td>\n",
              "      <td>00:00</td>\n",
              "    </tr>\n",
              "    <tr>\n",
              "      <td>7</td>\n",
              "      <td>0.019919</td>\n",
              "      <td>0.243119</td>\n",
              "      <td>0.965347</td>\n",
              "      <td>00:00</td>\n",
              "    </tr>\n",
              "    <tr>\n",
              "      <td>8</td>\n",
              "      <td>0.018424</td>\n",
              "      <td>0.235779</td>\n",
              "      <td>0.968812</td>\n",
              "      <td>00:00</td>\n",
              "    </tr>\n",
              "    <tr>\n",
              "      <td>9</td>\n",
              "      <td>0.017541</td>\n",
              "      <td>0.229766</td>\n",
              "      <td>0.970297</td>\n",
              "      <td>00:00</td>\n",
              "    </tr>\n",
              "  </tbody>\n",
              "</table>"
            ]
          },
          "metadata": {}
        }
      ]
    },
    {
      "cell_type": "markdown",
      "source": [
        "# Add nonlinear"
      ],
      "metadata": {
        "id": "asdI814dtfex"
      }
    },
    {
      "cell_type": "code",
      "source": [
        "# 선형모델의 반복은 하나의 선형모델을 여러번 곱하는 것과 같아서 비 선형모델을 추가해줘야 한다.\n",
        "\n",
        "w1 = init_params((28*28, 30))\n",
        "b1 = init_params(30) # 행렬의 곱을 통해 나오는 결과물이 총 30개라는 뜻이다. 따라서 편향도 30개로 맞춰줘야 한다.\n",
        "w2 = init_params((30,1))\n",
        "b2 = init_params(1)\n",
        "\n",
        "def simple_net(xb):\n",
        "  res = xb@w1 + b1\n",
        "  res = res.max(tensor(0.0))\n",
        "  res = res@w2 + b2\n",
        "  return res"
      ],
      "metadata": {
        "id": "974IkH8btegi"
      },
      "execution_count": 86,
      "outputs": []
    },
    {
      "cell_type": "code",
      "source": [
        "# res.max(tensor(0,0)) 은 렐루 함수라고 한다. 정류된 선형단위이며 쉬운 말로는 x값이 0이하인 수들은 전부 0으로 취급한다이다\n",
        "\n",
        "# 비선형(not ax + b) 인 함수를 활성화 함수라고 부른다.\n",
        "plot_function(F.relu)"
      ],
      "metadata": {
        "colab": {
          "base_uri": "https://localhost:8080/",
          "height": 268
        },
        "id": "TYSu9ZfQtvNB",
        "outputId": "672be6e3-fb84-4af5-ffb7-422e4b8f3af1"
      },
      "execution_count": 87,
      "outputs": [
        {
          "output_type": "display_data",
          "data": {
            "text/plain": [
              "<Figure size 432x288 with 1 Axes>"
            ],
            "image/png": "[encoded data removed]"
          },
          "metadata": {
            "needs_background": "light"
          }
        }
      ]
    },
    {
      "cell_type": "code",
      "source": [
        "simple_net = nn.Sequential(\n",
        "    nn.Linear(28*28, 30),\n",
        "    nn.ReLU(),\n",
        "    nn.Linear(30, 1)\n",
        ")"
      ],
      "metadata": {
        "id": "mhtzwmLo1E7n"
      },
      "execution_count": 89,
      "outputs": []
    },
    {
      "cell_type": "code",
      "source": [
        "learn = Learner(dls, simple_net, opt_func=SGD,\n",
        "                loss_func=mnist_loss, metrics=batch_accuracy)\n",
        "\n",
        "learn.fit(40, lr = 0.1)"
      ],
      "metadata": {
        "colab": {
          "base_uri": "https://localhost:8080/",
          "height": 1000
        },
        "id": "DK8-128CvEv4",
        "outputId": "343eddc4-7a5b-4c8a-d63d-09eeeaa14eb1"
      },
      "execution_count": 90,
      "outputs": [
        {
          "output_type": "display_data",
          "data": {
            "text/plain": [
              "<IPython.core.display.HTML object>"
            ],
            "text/html": [
              "\n",
              "<style>\n",
              "    /* Turns off some styling */\n",
              "    progress {\n",
              "        /* gets rid of default border in Firefox and Opera. */\n",
              "        border: none;\n",
              "        /* Needs to be in here for Safari polyfill so background images work as expected. */\n",
              "        background-size: auto;\n",
              "    }\n",
              "    progress:not([value]), progress:not([value])::-webkit-progress-bar {\n",
              "        background: repeating-linear-gradient(45deg, #7e7e7e, #7e7e7e 10px, #5c5c5c 10px, #5c5c5c 20px);\n",
              "    }\n",
              "    .progress-bar-interrupted, .progress-bar-interrupted::-webkit-progress-bar {\n",
              "        background: #F44336;\n",
              "    }\n",
              "</style>\n"
            ]
          },
          "metadata": {}
        },
        {
          "output_type": "display_data",
          "data": {
            "text/plain": [
              "<IPython.core.display.HTML object>"
            ],
            "text/html": [
              "<table border=\"1\" class=\"dataframe\">\n",
              "  <thead>\n",
              "    <tr style=\"text-align: left;\">\n",
              "      <th>epoch</th>\n",
              "      <th>train_loss</th>\n",
              "      <th>valid_loss</th>\n",
              "      <th>batch_accuracy</th>\n",
              "      <th>time</th>\n",
              "    </tr>\n",
              "  </thead>\n",
              "  <tbody>\n",
              "    <tr>\n",
              "      <td>0</td>\n",
              "      <td>0.276575</td>\n",
              "      <td>0.654767</td>\n",
              "      <td>0.500495</td>\n",
              "      <td>00:00</td>\n",
              "    </tr>\n",
              "    <tr>\n",
              "      <td>1</td>\n",
              "      <td>0.134738</td>\n",
              "      <td>0.460765</td>\n",
              "      <td>0.812376</td>\n",
              "      <td>00:00</td>\n",
              "    </tr>\n",
              "    <tr>\n",
              "      <td>2</td>\n",
              "      <td>0.076688</td>\n",
              "      <td>0.350734</td>\n",
              "      <td>0.916337</td>\n",
              "      <td>00:00</td>\n",
              "    </tr>\n",
              "    <tr>\n",
              "      <td>3</td>\n",
              "      <td>0.051722</td>\n",
              "      <td>0.311421</td>\n",
              "      <td>0.944554</td>\n",
              "      <td>00:00</td>\n",
              "    </tr>\n",
              "    <tr>\n",
              "      <td>4</td>\n",
              "      <td>0.039955</td>\n",
              "      <td>0.291689</td>\n",
              "      <td>0.960396</td>\n",
              "      <td>00:00</td>\n",
              "    </tr>\n",
              "    <tr>\n",
              "      <td>5</td>\n",
              "      <td>0.033820</td>\n",
              "      <td>0.279410</td>\n",
              "      <td>0.967327</td>\n",
              "      <td>00:00</td>\n",
              "    </tr>\n",
              "    <tr>\n",
              "      <td>6</td>\n",
              "      <td>0.030213</td>\n",
              "      <td>0.270762</td>\n",
              "      <td>0.971287</td>\n",
              "      <td>00:00</td>\n",
              "    </tr>\n",
              "    <tr>\n",
              "      <td>7</td>\n",
              "      <td>0.027826</td>\n",
              "      <td>0.264125</td>\n",
              "      <td>0.971782</td>\n",
              "      <td>00:00</td>\n",
              "    </tr>\n",
              "    <tr>\n",
              "      <td>8</td>\n",
              "      <td>0.026083</td>\n",
              "      <td>0.258714</td>\n",
              "      <td>0.974257</td>\n",
              "      <td>00:00</td>\n",
              "    </tr>\n",
              "    <tr>\n",
              "      <td>9</td>\n",
              "      <td>0.024723</td>\n",
              "      <td>0.254109</td>\n",
              "      <td>0.975743</td>\n",
              "      <td>00:00</td>\n",
              "    </tr>\n",
              "    <tr>\n",
              "      <td>10</td>\n",
              "      <td>0.023615</td>\n",
              "      <td>0.250071</td>\n",
              "      <td>0.977228</td>\n",
              "      <td>00:00</td>\n",
              "    </tr>\n",
              "    <tr>\n",
              "      <td>11</td>\n",
              "      <td>0.022688</td>\n",
              "      <td>0.246455</td>\n",
              "      <td>0.978218</td>\n",
              "      <td>00:00</td>\n",
              "    </tr>\n",
              "    <tr>\n",
              "      <td>12</td>\n",
              "      <td>0.021896</td>\n",
              "      <td>0.243171</td>\n",
              "      <td>0.979208</td>\n",
              "      <td>00:00</td>\n",
              "    </tr>\n",
              "    <tr>\n",
              "      <td>13</td>\n",
              "      <td>0.021209</td>\n",
              "      <td>0.240152</td>\n",
              "      <td>0.980198</td>\n",
              "      <td>00:00</td>\n",
              "    </tr>\n",
              "    <tr>\n",
              "      <td>14</td>\n",
              "      <td>0.020605</td>\n",
              "      <td>0.237349</td>\n",
              "      <td>0.980693</td>\n",
              "      <td>00:00</td>\n",
              "    </tr>\n",
              "    <tr>\n",
              "      <td>15</td>\n",
              "      <td>0.020069</td>\n",
              "      <td>0.234726</td>\n",
              "      <td>0.980693</td>\n",
              "      <td>00:00</td>\n",
              "    </tr>\n",
              "    <tr>\n",
              "      <td>16</td>\n",
              "      <td>0.019587</td>\n",
              "      <td>0.232250</td>\n",
              "      <td>0.982178</td>\n",
              "      <td>00:00</td>\n",
              "    </tr>\n",
              "    <tr>\n",
              "      <td>17</td>\n",
              "      <td>0.019152</td>\n",
              "      <td>0.229899</td>\n",
              "      <td>0.982673</td>\n",
              "      <td>00:00</td>\n",
              "    </tr>\n",
              "    <tr>\n",
              "      <td>18</td>\n",
              "      <td>0.018756</td>\n",
              "      <td>0.227653</td>\n",
              "      <td>0.982673</td>\n",
              "      <td>00:00</td>\n",
              "    </tr>\n",
              "    <tr>\n",
              "      <td>19</td>\n",
              "      <td>0.018393</td>\n",
              "      <td>0.225497</td>\n",
              "      <td>0.983663</td>\n",
              "      <td>00:00</td>\n",
              "    </tr>\n",
              "    <tr>\n",
              "      <td>20</td>\n",
              "      <td>0.018058</td>\n",
              "      <td>0.223420</td>\n",
              "      <td>0.984158</td>\n",
              "      <td>00:00</td>\n",
              "    </tr>\n",
              "    <tr>\n",
              "      <td>21</td>\n",
              "      <td>0.017748</td>\n",
              "      <td>0.221421</td>\n",
              "      <td>0.984653</td>\n",
              "      <td>00:00</td>\n",
              "    </tr>\n",
              "    <tr>\n",
              "      <td>22</td>\n",
              "      <td>0.017460</td>\n",
              "      <td>0.219498</td>\n",
              "      <td>0.985148</td>\n",
              "      <td>00:00</td>\n",
              "    </tr>\n",
              "    <tr>\n",
              "      <td>23</td>\n",
              "      <td>0.017191</td>\n",
              "      <td>0.217649</td>\n",
              "      <td>0.985148</td>\n",
              "      <td>00:00</td>\n",
              "    </tr>\n",
              "    <tr>\n",
              "      <td>24</td>\n",
              "      <td>0.016938</td>\n",
              "      <td>0.215874</td>\n",
              "      <td>0.986139</td>\n",
              "      <td>00:00</td>\n",
              "    </tr>\n",
              "    <tr>\n",
              "      <td>25</td>\n",
              "      <td>0.016701</td>\n",
              "      <td>0.214170</td>\n",
              "      <td>0.986139</td>\n",
              "      <td>00:00</td>\n",
              "    </tr>\n",
              "    <tr>\n",
              "      <td>26</td>\n",
              "      <td>0.016477</td>\n",
              "      <td>0.212530</td>\n",
              "      <td>0.986634</td>\n",
              "      <td>00:00</td>\n",
              "    </tr>\n",
              "    <tr>\n",
              "      <td>27</td>\n",
              "      <td>0.016265</td>\n",
              "      <td>0.210949</td>\n",
              "      <td>0.986634</td>\n",
              "      <td>00:00</td>\n",
              "    </tr>\n",
              "    <tr>\n",
              "      <td>28</td>\n",
              "      <td>0.016064</td>\n",
              "      <td>0.209419</td>\n",
              "      <td>0.986634</td>\n",
              "      <td>00:00</td>\n",
              "    </tr>\n",
              "    <tr>\n",
              "      <td>29</td>\n",
              "      <td>0.015874</td>\n",
              "      <td>0.207936</td>\n",
              "      <td>0.986634</td>\n",
              "      <td>00:00</td>\n",
              "    </tr>\n",
              "    <tr>\n",
              "      <td>30</td>\n",
              "      <td>0.015692</td>\n",
              "      <td>0.206495</td>\n",
              "      <td>0.987624</td>\n",
              "      <td>00:00</td>\n",
              "    </tr>\n",
              "    <tr>\n",
              "      <td>31</td>\n",
              "      <td>0.015519</td>\n",
              "      <td>0.205088</td>\n",
              "      <td>0.987624</td>\n",
              "      <td>00:00</td>\n",
              "    </tr>\n",
              "    <tr>\n",
              "      <td>32</td>\n",
              "      <td>0.015354</td>\n",
              "      <td>0.203711</td>\n",
              "      <td>0.987624</td>\n",
              "      <td>00:00</td>\n",
              "    </tr>\n",
              "    <tr>\n",
              "      <td>33</td>\n",
              "      <td>0.015196</td>\n",
              "      <td>0.202362</td>\n",
              "      <td>0.988119</td>\n",
              "      <td>00:00</td>\n",
              "    </tr>\n",
              "    <tr>\n",
              "      <td>34</td>\n",
              "      <td>0.015045</td>\n",
              "      <td>0.201038</td>\n",
              "      <td>0.988119</td>\n",
              "      <td>00:00</td>\n",
              "    </tr>\n",
              "    <tr>\n",
              "      <td>35</td>\n",
              "      <td>0.014899</td>\n",
              "      <td>0.199740</td>\n",
              "      <td>0.988119</td>\n",
              "      <td>00:00</td>\n",
              "    </tr>\n",
              "    <tr>\n",
              "      <td>36</td>\n",
              "      <td>0.014760</td>\n",
              "      <td>0.198465</td>\n",
              "      <td>0.988119</td>\n",
              "      <td>00:00</td>\n",
              "    </tr>\n",
              "    <tr>\n",
              "      <td>37</td>\n",
              "      <td>0.014626</td>\n",
              "      <td>0.197211</td>\n",
              "      <td>0.988119</td>\n",
              "      <td>00:00</td>\n",
              "    </tr>\n",
              "    <tr>\n",
              "      <td>38</td>\n",
              "      <td>0.014497</td>\n",
              "      <td>0.195978</td>\n",
              "      <td>0.988119</td>\n",
              "      <td>00:00</td>\n",
              "    </tr>\n",
              "    <tr>\n",
              "      <td>39</td>\n",
              "      <td>0.014372</td>\n",
              "      <td>0.194765</td>\n",
              "      <td>0.988119</td>\n",
              "      <td>00:00</td>\n",
              "    </tr>\n",
              "  </tbody>\n",
              "</table>"
            ]
          },
          "metadata": {}
        }
      ]
    },
    {
      "cell_type": "code",
      "source": [
        "# 해당 학습결과는 learn.recorder에 저장된다\n",
        "\n",
        "learn.recorder.values\n",
        "\n",
        "# 인덱스는 각각 학습 손실, 검증 손실, 배치 정확도를 확인하고 있다.\n",
        "\n"
      ],
      "metadata": {
        "colab": {
          "base_uri": "https://localhost:8080/"
        },
        "id": "oCPDYiYo1x_9",
        "outputId": "b31f5a50-4417-4695-e8c6-d97cf8247c81"
      },
      "execution_count": 95,
      "outputs": [
        {
          "output_type": "execute_result",
          "data": {
            "text/plain": [
              "[(#3) [0.27657487988471985,0.6547665596008301,0.5004950761795044],\n",
              " (#3) [0.13473844528198242,0.4607648253440857,0.8123762607574463],\n",
              " (#3) [0.0766880214214325,0.35073351860046387,0.9163366556167603],\n",
              " (#3) [0.051722023636102676,0.31142139434814453,0.9445544481277466],\n",
              " (#3) [0.039954688400030136,0.2916886806488037,0.9603960514068604],\n",
              " (#3) [0.033819910138845444,0.27941006422042847,0.9673267602920532],\n",
              " (#3) [0.03021343983709812,0.2707620859146118,0.9712871313095093],\n",
              " (#3) [0.027825718745589256,0.2641249895095825,0.9717822074890137],\n",
              " (#3) [0.026082932949066162,0.2587140202522278,0.9742574095726013],\n",
              " (#3) [0.024722574278712273,0.25410914421081543,0.9757425785064697],\n",
              " (#3) [0.02361489273607731,0.2500705420970917,0.9772277474403381],\n",
              " (#3) [0.022687610238790512,0.2464546263217926,0.9782178401947021],\n",
              " (#3) [0.02189568802714348,0.24317070841789246,0.9792079329490662],\n",
              " (#3) [0.021209049969911575,0.24015207588672638,0.9801980257034302],\n",
              " (#3) [0.020605307072401047,0.23734943568706512,0.9806930422782898],\n",
              " (#3) [0.02006867714226246,0.23472553491592407,0.9806930422782898],\n",
              " (#3) [0.01958712935447693,0.23225007951259613,0.9821782112121582],\n",
              " (#3) [0.0191520806401968,0.22989851236343384,0.9826732873916626],\n",
              " (#3) [0.018756113946437836,0.2276526242494583,0.9826732873916626],\n",
              " (#3) [0.01839286834001541,0.22549718618392944,0.9836633801460266],\n",
              " (#3) [0.018058141693472862,0.22342036664485931,0.9841583967208862],\n",
              " (#3) [0.017748188227415085,0.2214214950799942,0.9846534729003906],\n",
              " (#3) [0.017459811642766,0.21949784457683563,0.9851484894752502],\n",
              " (#3) [0.01719060353934765,0.21764886379241943,0.9851484894752502],\n",
              " (#3) [0.016938216984272003,0.2158738225698471,0.986138641834259],\n",
              " (#3) [0.016700781881809235,0.21416997909545898,0.986138641834259],\n",
              " (#3) [0.016476690769195557,0.212530255317688,0.9866336584091187],\n",
              " (#3) [0.016265111044049263,0.21094907820224762,0.9866336584091187],\n",
              " (#3) [0.016064291819930077,0.2094186693429947,0.9866336584091187],\n",
              " (#3) [0.015873538330197334,0.2079361230134964,0.9866336584091187],\n",
              " (#3) [0.015691885724663734,0.2064945548772812,0.9876237511634827],\n",
              " (#3) [0.015518737956881523,0.20508815348148346,0.9876237511634827],\n",
              " (#3) [0.01535368338227272,0.2037113606929779,0.9876237511634827],\n",
              " (#3) [0.01519584096968174,0.202362060546875,0.9881188273429871],\n",
              " (#3) [0.015044527128338814,0.20103847980499268,0.9881188273429871],\n",
              " (#3) [0.01489926502108574,0.1997402459383011,0.9881188273429871],\n",
              " (#3) [0.014759841375052929,0.19846521317958832,0.9881188273429871],\n",
              " (#3) [0.014625761657953262,0.19721120595932007,0.9881188273429871],\n",
              " (#3) [0.014496724121272564,0.19597826898097992,0.9881188273429871],\n",
              " (#3) [0.014372089877724648,0.1947648525238037,0.9881188273429871]]"
            ]
          },
          "metadata": {},
          "execution_count": 95
        }
      ]
    },
    {
      "cell_type": "code",
      "source": [
        "plt.plot(L(learn.recorder.values).itemgot(2))\n",
        "\n",
        "# itemgot은 각 튜플 목록에서 지정된 색인에 해당되는 튜플 요소만 추출해서 목록을 만들어준다.\n",
        "# L을 통해 개개별의 리스트는 튜플로 지정되고 리스트에 묶였는데 거기서 batch_accuracy 만을 가지고 그래프를 그린다."
      ],
      "metadata": {
        "colab": {
          "base_uri": "https://localhost:8080/",
          "height": 286
        },
        "id": "KNsRejiw2UtX",
        "outputId": "4205cdc3-049a-4feb-9515-4cdb584472fc"
      },
      "execution_count": 96,
      "outputs": [
        {
          "output_type": "execute_result",
          "data": {
            "text/plain": [
              "[<matplotlib.lines.Line2D at 0x7fd293847bd0>]"
            ]
          },
          "metadata": {},
          "execution_count": 96
        },
        {
          "output_type": "display_data",
          "data": {
            "text/plain": [
              "<Figure size 432x288 with 1 Axes>"
            ],
            "image/png": "[encoded data removed]"
          },
          "metadata": {
            "needs_background": "light"
          }
        }
      ]
    },
    {
      "cell_type": "code",
      "source": [
        "learn.recorder.values[-1][2] # -1번째 인덱스, 즉 맨 끝의 자료 중, 2번째 인덱스인 배치 정확도의 값을 출력"
      ],
      "metadata": {
        "colab": {
          "base_uri": "https://localhost:8080/"
        },
        "id": "pbCeSSUf2qT9",
        "outputId": "9cd8b1bc-a482-4e26-cb23-a3e14afb2969"
      },
      "execution_count": 97,
      "outputs": [
        {
          "output_type": "execute_result",
          "data": {
            "text/plain": [
              "0.9881188273429871"
            ]
          },
          "metadata": {},
          "execution_count": 97
        }
      ]
    },
    {
      "cell_type": "code",
      "source": [
        "# resnet이라는 함수를 통해 총 18개의 계층을 구성하고 그걸 통해 모델을 학습시킨다.\n",
        "\n",
        "dls = ImageDataLoaders.from_folder(path)\n",
        "learn = cnn_learner(dls, resnet18, pretrained=False,\n",
        "                    loss_func=F.cross_entropy, metrics=accuracy)\n",
        "learn.fit_one_cycle(1, 0.1)"
      ],
      "metadata": {
        "colab": {
          "base_uri": "https://localhost:8080/",
          "height": 208
        },
        "id": "4rXdGq4k2z9C",
        "outputId": "f0ac4f81-eeb9-4a48-ec66-077dbe771df8"
      },
      "execution_count": 98,
      "outputs": [
        {
          "output_type": "stream",
          "name": "stderr",
          "text": [
            "/usr/local/lib/python3.7/dist-packages/fastai/vision/learner.py:287: UserWarning: `cnn_learner` has been renamed to `vision_learner` -- please update your code\n",
            "  warn(\"`cnn_learner` has been renamed to `vision_learner` -- please update your code\")\n",
            "/usr/local/lib/python3.7/dist-packages/torchvision/models/_utils.py:136: UserWarning: Using 'weights' as positional parameter(s) is deprecated since 0.13 and will be removed in 0.15. Please use keyword parameter(s) instead.\n",
            "  f\"Using {sequence_to_str(tuple(keyword_only_kwargs.keys()), separate_last='and ')} as positional \"\n",
            "/usr/local/lib/python3.7/dist-packages/torchvision/models/_utils.py:223: UserWarning: Arguments other than a weight enum or `None` for 'weights' are deprecated since 0.13 and will be removed in 0.15. The current behavior is equivalent to passing `weights=None`.\n",
            "  warnings.warn(msg)\n"
          ]
        },
        {
          "output_type": "display_data",
          "data": {
            "text/plain": [
              "<IPython.core.display.HTML object>"
            ],
            "text/html": [
              "\n",
              "<style>\n",
              "    /* Turns off some styling */\n",
              "    progress {\n",
              "        /* gets rid of default border in Firefox and Opera. */\n",
              "        border: none;\n",
              "        /* Needs to be in here for Safari polyfill so background images work as expected. */\n",
              "        background-size: auto;\n",
              "    }\n",
              "    progress:not([value]), progress:not([value])::-webkit-progress-bar {\n",
              "        background: repeating-linear-gradient(45deg, #7e7e7e, #7e7e7e 10px, #5c5c5c 10px, #5c5c5c 20px);\n",
              "    }\n",
              "    .progress-bar-interrupted, .progress-bar-interrupted::-webkit-progress-bar {\n",
              "        background: #F44336;\n",
              "    }\n",
              "</style>\n"
            ]
          },
          "metadata": {}
        },
        {
          "output_type": "display_data",
          "data": {
            "text/plain": [
              "<IPython.core.display.HTML object>"
            ],
            "text/html": [
              "<table border=\"1\" class=\"dataframe\">\n",
              "  <thead>\n",
              "    <tr style=\"text-align: left;\">\n",
              "      <th>epoch</th>\n",
              "      <th>train_loss</th>\n",
              "      <th>valid_loss</th>\n",
              "      <th>accuracy</th>\n",
              "      <th>time</th>\n",
              "    </tr>\n",
              "  </thead>\n",
              "  <tbody>\n",
              "    <tr>\n",
              "      <td>0</td>\n",
              "      <td>0.130945</td>\n",
              "      <td>0.032510</td>\n",
              "      <td>0.991659</td>\n",
              "      <td>00:26</td>\n",
              "    </tr>\n",
              "  </tbody>\n",
              "</table>"
            ]
          },
          "metadata": {}
        }
      ]
    },
    {
      "cell_type": "markdown",
      "source": [
        "# 용어 정리\n",
        "\n",
        "활성 = 선형 및 비선형 계층(Layer)에서 계산된 수(쉽게 말하면 함수를 거친 아웃풋) \\\n",
        "파라미터 = 임의로 초기화(initialization) \\\n",
        "\\\n",
        "활성과 파라미터 모두 텐서로 저장 \\\n",
        "텐서는 행과 열로 구성되는데 이를 축 또는 차원이라 부른다.\\\n",
        "랭크 0 -> 스칼라, 1 -> vector, 2 -> metrics, 3 -> 3Dimension\n",
        "\n",
        "\\\n",
        "\n",
        "\n",
        "신경망은 수 많은 계층들로 구성되어 있으며 선형과 비선형이 번갈아가면서 사용하는 신경망을 만든다.\n",
        "\n",
        "선형 -> 비선형 -> 선형 -> 비선형 ***\n",
        "\n",
        "비 선형을 활성화함수라고 표현하기도 한다."
      ],
      "metadata": {
        "id": "HV8igBwh3sN6"
      }
    }
  ]
}
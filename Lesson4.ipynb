{
  "nbformat": 4,
  "nbformat_minor": 0,
  "metadata": {
    "colab": {
      "name": "Lesson4",
      "provenance": [],
      "collapsed_sections": [],
      "toc_visible": true
    },
    "kernelspec": {
      "name": "python3",
      "display_name": "Python 3"
    },
    "language_info": {
      "name": "python"
    },
    "accelerator": "GPU",
    "gpuClass": "standard"
  },
  "cells": [
    {
      "cell_type": "markdown",
      "source": [
        "# 모듈 "
      ],
      "metadata": {
        "id": "TbiIrQvF7ZLq"
      }
    },
    {
      "cell_type": "code",
      "execution_count": 1,
      "metadata": {
        "id": "z0cKuJZkqXke",
        "colab": {
          "base_uri": "https://localhost:8080/"
        },
        "outputId": "417835c9-6e74-4c32-d3c2-ae646d7c3764"
      },
      "outputs": [
        {
          "output_type": "stream",
          "name": "stdout",
          "text": [
            "\u001b[K     |████████████████████████████████| 719 kB 5.3 MB/s \n",
            "\u001b[K     |████████████████████████████████| 1.2 MB 60.1 MB/s \n",
            "\u001b[K     |████████████████████████████████| 4.7 MB 52.0 MB/s \n",
            "\u001b[K     |████████████████████████████████| 365 kB 68.9 MB/s \n",
            "\u001b[K     |████████████████████████████████| 212 kB 74.4 MB/s \n",
            "\u001b[K     |████████████████████████████████| 101 kB 10.5 MB/s \n",
            "\u001b[K     |████████████████████████████████| 141 kB 75.8 MB/s \n",
            "\u001b[K     |████████████████████████████████| 596 kB 64.0 MB/s \n",
            "\u001b[K     |████████████████████████████████| 127 kB 57.0 MB/s \n",
            "\u001b[K     |████████████████████████████████| 6.6 MB 54.4 MB/s \n",
            "\u001b[31mERROR: pip's dependency resolver does not currently take into account all the packages that are installed. This behaviour is the source of the following dependency conflicts.\n",
            "datascience 0.10.6 requires folium==0.2.1, but you have folium 0.8.3 which is incompatible.\u001b[0m\n",
            "\u001b[?25hMounted at /content/gdrive\n"
          ]
        }
      ],
      "source": [
        "! [ -e /content ] && pip install -Uqq fastbook\n",
        "import fastbook\n",
        "fastbook.setup_book()"
      ]
    },
    {
      "cell_type": "code",
      "source": [
        "from fastai.vision.all import *\n",
        "from fastbook import *\n",
        "\n",
        "matplotlib.rc('image', cmap='Greys')"
      ],
      "metadata": {
        "id": "Lsnzjj0ZqvAq"
      },
      "execution_count": 2,
      "outputs": []
    },
    {
      "cell_type": "markdown",
      "source": [
        "# 데이터 배열화\n"
      ],
      "metadata": {
        "id": "4NrPXe1dxqM-"
      }
    },
    {
      "cell_type": "code",
      "source": [
        "# MNIST Dataset download\n",
        "\n",
        "path = untar_data(URLs.MNIST_SAMPLE)"
      ],
      "metadata": {
        "id": "_Q6anu6kqvEG",
        "colab": {
          "base_uri": "https://localhost:8080/",
          "height": 37
        },
        "outputId": "bafd1e51-d19d-4d8f-81fc-b0de394f7c5b"
      },
      "execution_count": 3,
      "outputs": [
        {
          "output_type": "display_data",
          "data": {
            "text/plain": [
              "<IPython.core.display.HTML object>"
            ],
            "text/html": [
              "\n",
              "<style>\n",
              "    /* Turns off some styling */\n",
              "    progress {\n",
              "        /* gets rid of default border in Firefox and Opera. */\n",
              "        border: none;\n",
              "        /* Needs to be in here for Safari polyfill so background images work as expected. */\n",
              "        background-size: auto;\n",
              "    }\n",
              "    progress:not([value]), progress:not([value])::-webkit-progress-bar {\n",
              "        background: repeating-linear-gradient(45deg, #7e7e7e, #7e7e7e 10px, #5c5c5c 10px, #5c5c5c 20px);\n",
              "    }\n",
              "    .progress-bar-interrupted, .progress-bar-interrupted::-webkit-progress-bar {\n",
              "        background: #F44336;\n",
              "    }\n",
              "</style>\n"
            ]
          },
          "metadata": {}
        },
        {
          "output_type": "display_data",
          "data": {
            "text/plain": [
              "<IPython.core.display.HTML object>"
            ],
            "text/html": [
              "\n",
              "    <div>\n",
              "      <progress value='3219456' class='' max='3214948' style='width:300px; height:20px; vertical-align: middle;'></progress>\n",
              "      100.14% [3219456/3214948 00:00&lt;00:00]\n",
              "    </div>\n",
              "    "
            ]
          },
          "metadata": {}
        }
      ]
    },
    {
      "cell_type": "code",
      "source": [
        "path.ls()"
      ],
      "metadata": {
        "colab": {
          "base_uri": "https://localhost:8080/"
        },
        "id": "0QcYDQMDrVCh",
        "outputId": "1db4b5de-6233-4248-cb61-f1e8a3fa9d29"
      },
      "execution_count": 4,
      "outputs": [
        {
          "output_type": "execute_result",
          "data": {
            "text/plain": [
              "(#3) [Path('/root/.fastai/data/mnist_sample/train'),Path('/root/.fastai/data/mnist_sample/valid'),Path('/root/.fastai/data/mnist_sample/labels.csv')]"
            ]
          },
          "metadata": {},
          "execution_count": 4
        }
      ]
    },
    {
      "cell_type": "code",
      "source": [
        "(path/'train').ls()"
      ],
      "metadata": {
        "colab": {
          "base_uri": "https://localhost:8080/"
        },
        "id": "xx4ygl-xrlR2",
        "outputId": "04c74963-544f-4d5d-8723-af1ef8f8cc7f"
      },
      "execution_count": 5,
      "outputs": [
        {
          "output_type": "execute_result",
          "data": {
            "text/plain": [
              "(#2) [Path('/root/.fastai/data/mnist_sample/train/3'),Path('/root/.fastai/data/mnist_sample/train/7')]"
            ]
          },
          "metadata": {},
          "execution_count": 5
        }
      ]
    },
    {
      "cell_type": "code",
      "source": [
        "threes =(path/'train'/'3').ls().sorted()\n",
        "sevens =(path/'train'/'7').ls().sorted()\n",
        "threes"
      ],
      "metadata": {
        "colab": {
          "base_uri": "https://localhost:8080/"
        },
        "id": "DtNBk5PYrlUi",
        "outputId": "5a68f3e9-bdd7-4eb7-b843-ab5672db4373"
      },
      "execution_count": 6,
      "outputs": [
        {
          "output_type": "execute_result",
          "data": {
            "text/plain": [
              "(#6131) [Path('/root/.fastai/data/mnist_sample/train/3/10.png'),Path('/root/.fastai/data/mnist_sample/train/3/10000.png'),Path('/root/.fastai/data/mnist_sample/train/3/10011.png'),Path('/root/.fastai/data/mnist_sample/train/3/10031.png'),Path('/root/.fastai/data/mnist_sample/train/3/10034.png'),Path('/root/.fastai/data/mnist_sample/train/3/10042.png'),Path('/root/.fastai/data/mnist_sample/train/3/10052.png'),Path('/root/.fastai/data/mnist_sample/train/3/1007.png'),Path('/root/.fastai/data/mnist_sample/train/3/10074.png'),Path('/root/.fastai/data/mnist_sample/train/3/10091.png')...]"
            ]
          },
          "metadata": {},
          "execution_count": 6
        }
      ]
    },
    {
      "cell_type": "code",
      "source": [
        "im3_path = threes[1]\n",
        "im3 = Image.open(im3_path) # Image.open => PIL library\n",
        "im3"
      ],
      "metadata": {
        "colab": {
          "base_uri": "https://localhost:8080/",
          "height": 45
        },
        "id": "WCj7rPdLrlXA",
        "outputId": "b4fb6234-31d9-4395-ef09-97edd199654d"
      },
      "execution_count": 7,
      "outputs": [
        {
          "output_type": "execute_result",
          "data": {
            "text/plain": [
              "<PIL.PngImagePlugin.PngImageFile image mode=L size=28x28 at 0x7FCA93960C50>"
            ],
            "image/png": "[encoded data removed]"
          },
          "metadata": {},
          "execution_count": 7
        }
      ]
    },
    {
      "cell_type": "code",
      "source": [
        "# 넘파이의 배열을 사용하여 숫자를 확인하거나,\n",
        "array(im3)[4:10, 4:10]\n",
        "\n",
        "# pytorch의 tensor을 사용한다.\n",
        "tensor(im3)[4:10, 4:10]\n",
        "\n",
        "# 이때 숫자는 0 ~ 255까지 채도? 명도? 를 나타낸다."
      ],
      "metadata": {
        "colab": {
          "base_uri": "https://localhost:8080/"
        },
        "id": "2gvqvDMGrlZm",
        "outputId": "706e42fd-25fc-4693-afa7-fe17cc2f43da"
      },
      "execution_count": 8,
      "outputs": [
        {
          "output_type": "execute_result",
          "data": {
            "text/plain": [
              "tensor([[  0,   0,   0,   0,   0,   0],\n",
              "        [  0,   0,   0,   0,   0,  29],\n",
              "        [  0,   0,   0,  48, 166, 224],\n",
              "        [  0,  93, 244, 249, 253, 187],\n",
              "        [  0, 107, 253, 253, 230,  48],\n",
              "        [  0,   3,  20,  20,  15,   0]], dtype=torch.uint8)"
            ]
          },
          "metadata": {},
          "execution_count": 8
        }
      ]
    },
    {
      "cell_type": "code",
      "source": [
        "# pandas 라이브러리를 통해 픽셀값에 맞춰 잘라낸 후 색상을 그라데이션 형태로 입힌다.\n",
        "im3_t = tensor(im3)\n",
        "df = pd.DataFrame(im3_t[4:15, 4:22])\n",
        "df.style.set_properties(**{'font-size' : '6pt'}).background_gradient('Greys')"
      ],
      "metadata": {
        "colab": {
          "base_uri": "https://localhost:8080/",
          "height": 394
        },
        "id": "qIboV0r1rlcN",
        "outputId": "b9b58008-83d9-4f64-e56e-2effa8a46f0c"
      },
      "execution_count": 9,
      "outputs": [
        {
          "output_type": "execute_result",
          "data": {
            "text/plain": [
              "<pandas.io.formats.style.Styler at 0x7fca93956390>"
            ],
            "text/html": [
              "<style type=\"text/css\">\n",
              "#T_1846a_row0_col0, #T_1846a_row0_col1, #T_1846a_row0_col2, #T_1846a_row0_col3, #T_1846a_row0_col4, #T_1846a_row0_col5, #T_1846a_row0_col6, #T_1846a_row0_col7, #T_1846a_row0_col8, #T_1846a_row0_col9, #T_1846a_row0_col10, #T_1846a_row0_col11, #T_1846a_row0_col12, #T_1846a_row0_col13, #T_1846a_row0_col14, #T_1846a_row0_col15, #T_1846a_row0_col16, #T_1846a_row0_col17, #T_1846a_row1_col0, #T_1846a_row1_col1, #T_1846a_row1_col2, #T_1846a_row1_col3, #T_1846a_row1_col4, #T_1846a_row1_col15, #T_1846a_row1_col16, #T_1846a_row1_col17, #T_1846a_row2_col0, #T_1846a_row2_col1, #T_1846a_row2_col2, #T_1846a_row2_col15, #T_1846a_row2_col16, #T_1846a_row2_col17, #T_1846a_row3_col0, #T_1846a_row3_col15, #T_1846a_row3_col16, #T_1846a_row3_col17, #T_1846a_row4_col0, #T_1846a_row4_col6, #T_1846a_row4_col7, #T_1846a_row4_col8, #T_1846a_row4_col9, #T_1846a_row4_col10, #T_1846a_row4_col15, #T_1846a_row4_col16, #T_1846a_row4_col17, #T_1846a_row5_col0, #T_1846a_row5_col5, #T_1846a_row5_col6, #T_1846a_row5_col7, #T_1846a_row5_col8, #T_1846a_row5_col9, #T_1846a_row5_col15, #T_1846a_row5_col16, #T_1846a_row5_col17, #T_1846a_row6_col0, #T_1846a_row6_col1, #T_1846a_row6_col2, #T_1846a_row6_col3, #T_1846a_row6_col4, #T_1846a_row6_col5, #T_1846a_row6_col6, #T_1846a_row6_col7, #T_1846a_row6_col8, #T_1846a_row6_col9, #T_1846a_row6_col14, #T_1846a_row6_col15, #T_1846a_row6_col16, #T_1846a_row6_col17, #T_1846a_row7_col0, #T_1846a_row7_col1, #T_1846a_row7_col2, #T_1846a_row7_col3, #T_1846a_row7_col4, #T_1846a_row7_col5, #T_1846a_row7_col6, #T_1846a_row7_col13, #T_1846a_row7_col14, #T_1846a_row7_col15, #T_1846a_row7_col16, #T_1846a_row7_col17, #T_1846a_row8_col0, #T_1846a_row8_col1, #T_1846a_row8_col2, #T_1846a_row8_col3, #T_1846a_row8_col4, #T_1846a_row8_col13, #T_1846a_row8_col14, #T_1846a_row8_col15, #T_1846a_row8_col16, #T_1846a_row8_col17, #T_1846a_row9_col0, #T_1846a_row9_col1, #T_1846a_row9_col2, #T_1846a_row9_col3, #T_1846a_row9_col4, #T_1846a_row9_col16, #T_1846a_row9_col17, #T_1846a_row10_col0, #T_1846a_row10_col1, #T_1846a_row10_col2, #T_1846a_row10_col3, #T_1846a_row10_col4, #T_1846a_row10_col5, #T_1846a_row10_col6, #T_1846a_row10_col17 {\n",
              "  font-size: 6pt;\n",
              "  background-color: #ffffff;\n",
              "  color: #000000;\n",
              "}\n",
              "#T_1846a_row1_col5 {\n",
              "  font-size: 6pt;\n",
              "  background-color: #efefef;\n",
              "  color: #000000;\n",
              "}\n",
              "#T_1846a_row1_col6, #T_1846a_row1_col13 {\n",
              "  font-size: 6pt;\n",
              "  background-color: #7c7c7c;\n",
              "  color: #f1f1f1;\n",
              "}\n",
              "#T_1846a_row1_col7 {\n",
              "  font-size: 6pt;\n",
              "  background-color: #4a4a4a;\n",
              "  color: #f1f1f1;\n",
              "}\n",
              "#T_1846a_row1_col8, #T_1846a_row1_col9, #T_1846a_row1_col10, #T_1846a_row2_col5, #T_1846a_row2_col6, #T_1846a_row2_col7, #T_1846a_row2_col11, #T_1846a_row2_col12, #T_1846a_row2_col13, #T_1846a_row3_col4, #T_1846a_row3_col12, #T_1846a_row3_col13, #T_1846a_row4_col1, #T_1846a_row4_col2, #T_1846a_row4_col3, #T_1846a_row4_col12, #T_1846a_row4_col13, #T_1846a_row5_col12, #T_1846a_row6_col11, #T_1846a_row9_col11, #T_1846a_row10_col11, #T_1846a_row10_col12, #T_1846a_row10_col13, #T_1846a_row10_col14, #T_1846a_row10_col15, #T_1846a_row10_col16 {\n",
              "  font-size: 6pt;\n",
              "  background-color: #000000;\n",
              "  color: #f1f1f1;\n",
              "}\n",
              "#T_1846a_row1_col11 {\n",
              "  font-size: 6pt;\n",
              "  background-color: #606060;\n",
              "  color: #f1f1f1;\n",
              "}\n",
              "#T_1846a_row1_col12 {\n",
              "  font-size: 6pt;\n",
              "  background-color: #4d4d4d;\n",
              "  color: #f1f1f1;\n",
              "}\n",
              "#T_1846a_row1_col14 {\n",
              "  font-size: 6pt;\n",
              "  background-color: #bbbbbb;\n",
              "  color: #000000;\n",
              "}\n",
              "#T_1846a_row2_col3 {\n",
              "  font-size: 6pt;\n",
              "  background-color: #e4e4e4;\n",
              "  color: #000000;\n",
              "}\n",
              "#T_1846a_row2_col4, #T_1846a_row8_col6 {\n",
              "  font-size: 6pt;\n",
              "  background-color: #6b6b6b;\n",
              "  color: #f1f1f1;\n",
              "}\n",
              "#T_1846a_row2_col8, #T_1846a_row2_col14, #T_1846a_row3_col14 {\n",
              "  font-size: 6pt;\n",
              "  background-color: #171717;\n",
              "  color: #f1f1f1;\n",
              "}\n",
              "#T_1846a_row2_col9, #T_1846a_row3_col11 {\n",
              "  font-size: 6pt;\n",
              "  background-color: #4b4b4b;\n",
              "  color: #f1f1f1;\n",
              "}\n",
              "#T_1846a_row2_col10, #T_1846a_row7_col10, #T_1846a_row8_col8, #T_1846a_row8_col10, #T_1846a_row9_col8, #T_1846a_row9_col10 {\n",
              "  font-size: 6pt;\n",
              "  background-color: #010101;\n",
              "  color: #f1f1f1;\n",
              "}\n",
              "#T_1846a_row3_col1 {\n",
              "  font-size: 6pt;\n",
              "  background-color: #272727;\n",
              "  color: #f1f1f1;\n",
              "}\n",
              "#T_1846a_row3_col2 {\n",
              "  font-size: 6pt;\n",
              "  background-color: #0a0a0a;\n",
              "  color: #f1f1f1;\n",
              "}\n",
              "#T_1846a_row3_col3 {\n",
              "  font-size: 6pt;\n",
              "  background-color: #050505;\n",
              "  color: #f1f1f1;\n",
              "}\n",
              "#T_1846a_row3_col5 {\n",
              "  font-size: 6pt;\n",
              "  background-color: #333333;\n",
              "  color: #f1f1f1;\n",
              "}\n",
              "#T_1846a_row3_col6 {\n",
              "  font-size: 6pt;\n",
              "  background-color: #e6e6e6;\n",
              "  color: #000000;\n",
              "}\n",
              "#T_1846a_row3_col7, #T_1846a_row3_col10 {\n",
              "  font-size: 6pt;\n",
              "  background-color: #fafafa;\n",
              "  color: #000000;\n",
              "}\n",
              "#T_1846a_row3_col8 {\n",
              "  font-size: 6pt;\n",
              "  background-color: #fbfbfb;\n",
              "  color: #000000;\n",
              "}\n",
              "#T_1846a_row3_col9 {\n",
              "  font-size: 6pt;\n",
              "  background-color: #fdfdfd;\n",
              "  color: #000000;\n",
              "}\n",
              "#T_1846a_row4_col4 {\n",
              "  font-size: 6pt;\n",
              "  background-color: #1b1b1b;\n",
              "  color: #f1f1f1;\n",
              "}\n",
              "#T_1846a_row4_col5 {\n",
              "  font-size: 6pt;\n",
              "  background-color: #e0e0e0;\n",
              "  color: #000000;\n",
              "}\n",
              "#T_1846a_row4_col11 {\n",
              "  font-size: 6pt;\n",
              "  background-color: #4e4e4e;\n",
              "  color: #f1f1f1;\n",
              "}\n",
              "#T_1846a_row4_col14 {\n",
              "  font-size: 6pt;\n",
              "  background-color: #767676;\n",
              "  color: #f1f1f1;\n",
              "}\n",
              "#T_1846a_row5_col1 {\n",
              "  font-size: 6pt;\n",
              "  background-color: #fcfcfc;\n",
              "  color: #000000;\n",
              "}\n",
              "#T_1846a_row5_col2, #T_1846a_row5_col3 {\n",
              "  font-size: 6pt;\n",
              "  background-color: #f6f6f6;\n",
              "  color: #000000;\n",
              "}\n",
              "#T_1846a_row5_col4, #T_1846a_row7_col7 {\n",
              "  font-size: 6pt;\n",
              "  background-color: #f8f8f8;\n",
              "  color: #000000;\n",
              "}\n",
              "#T_1846a_row5_col10, #T_1846a_row10_col7 {\n",
              "  font-size: 6pt;\n",
              "  background-color: #e8e8e8;\n",
              "  color: #000000;\n",
              "}\n",
              "#T_1846a_row5_col11 {\n",
              "  font-size: 6pt;\n",
              "  background-color: #222222;\n",
              "  color: #f1f1f1;\n",
              "}\n",
              "#T_1846a_row5_col13, #T_1846a_row6_col12 {\n",
              "  font-size: 6pt;\n",
              "  background-color: #090909;\n",
              "  color: #f1f1f1;\n",
              "}\n",
              "#T_1846a_row5_col14 {\n",
              "  font-size: 6pt;\n",
              "  background-color: #d0d0d0;\n",
              "  color: #000000;\n",
              "}\n",
              "#T_1846a_row6_col10, #T_1846a_row7_col11, #T_1846a_row9_col6 {\n",
              "  font-size: 6pt;\n",
              "  background-color: #060606;\n",
              "  color: #f1f1f1;\n",
              "}\n",
              "#T_1846a_row6_col13 {\n",
              "  font-size: 6pt;\n",
              "  background-color: #979797;\n",
              "  color: #f1f1f1;\n",
              "}\n",
              "#T_1846a_row7_col8 {\n",
              "  font-size: 6pt;\n",
              "  background-color: #b6b6b6;\n",
              "  color: #000000;\n",
              "}\n",
              "#T_1846a_row7_col9 {\n",
              "  font-size: 6pt;\n",
              "  background-color: #252525;\n",
              "  color: #f1f1f1;\n",
              "}\n",
              "#T_1846a_row7_col12 {\n",
              "  font-size: 6pt;\n",
              "  background-color: #999999;\n",
              "  color: #f1f1f1;\n",
              "}\n",
              "#T_1846a_row8_col5 {\n",
              "  font-size: 6pt;\n",
              "  background-color: #f9f9f9;\n",
              "  color: #000000;\n",
              "}\n",
              "#T_1846a_row8_col7 {\n",
              "  font-size: 6pt;\n",
              "  background-color: #101010;\n",
              "  color: #f1f1f1;\n",
              "}\n",
              "#T_1846a_row8_col9, #T_1846a_row9_col9 {\n",
              "  font-size: 6pt;\n",
              "  background-color: #020202;\n",
              "  color: #f1f1f1;\n",
              "}\n",
              "#T_1846a_row8_col11 {\n",
              "  font-size: 6pt;\n",
              "  background-color: #545454;\n",
              "  color: #f1f1f1;\n",
              "}\n",
              "#T_1846a_row8_col12 {\n",
              "  font-size: 6pt;\n",
              "  background-color: #f1f1f1;\n",
              "  color: #000000;\n",
              "}\n",
              "#T_1846a_row9_col5 {\n",
              "  font-size: 6pt;\n",
              "  background-color: #f7f7f7;\n",
              "  color: #000000;\n",
              "}\n",
              "#T_1846a_row9_col7 {\n",
              "  font-size: 6pt;\n",
              "  background-color: #030303;\n",
              "  color: #f1f1f1;\n",
              "}\n",
              "#T_1846a_row9_col12 {\n",
              "  font-size: 6pt;\n",
              "  background-color: #181818;\n",
              "  color: #f1f1f1;\n",
              "}\n",
              "#T_1846a_row9_col13 {\n",
              "  font-size: 6pt;\n",
              "  background-color: #303030;\n",
              "  color: #f1f1f1;\n",
              "}\n",
              "#T_1846a_row9_col14 {\n",
              "  font-size: 6pt;\n",
              "  background-color: #a9a9a9;\n",
              "  color: #f1f1f1;\n",
              "}\n",
              "#T_1846a_row9_col15 {\n",
              "  font-size: 6pt;\n",
              "  background-color: #fefefe;\n",
              "  color: #000000;\n",
              "}\n",
              "#T_1846a_row10_col8, #T_1846a_row10_col9 {\n",
              "  font-size: 6pt;\n",
              "  background-color: #bababa;\n",
              "  color: #000000;\n",
              "}\n",
              "#T_1846a_row10_col10 {\n",
              "  font-size: 6pt;\n",
              "  background-color: #393939;\n",
              "  color: #f1f1f1;\n",
              "}\n",
              "</style>\n",
              "<table id=\"T_1846a_\" class=\"dataframe\">\n",
              "  <thead>\n",
              "    <tr>\n",
              "      <th class=\"blank level0\" >&nbsp;</th>\n",
              "      <th class=\"col_heading level0 col0\" >0</th>\n",
              "      <th class=\"col_heading level0 col1\" >1</th>\n",
              "      <th class=\"col_heading level0 col2\" >2</th>\n",
              "      <th class=\"col_heading level0 col3\" >3</th>\n",
              "      <th class=\"col_heading level0 col4\" >4</th>\n",
              "      <th class=\"col_heading level0 col5\" >5</th>\n",
              "      <th class=\"col_heading level0 col6\" >6</th>\n",
              "      <th class=\"col_heading level0 col7\" >7</th>\n",
              "      <th class=\"col_heading level0 col8\" >8</th>\n",
              "      <th class=\"col_heading level0 col9\" >9</th>\n",
              "      <th class=\"col_heading level0 col10\" >10</th>\n",
              "      <th class=\"col_heading level0 col11\" >11</th>\n",
              "      <th class=\"col_heading level0 col12\" >12</th>\n",
              "      <th class=\"col_heading level0 col13\" >13</th>\n",
              "      <th class=\"col_heading level0 col14\" >14</th>\n",
              "      <th class=\"col_heading level0 col15\" >15</th>\n",
              "      <th class=\"col_heading level0 col16\" >16</th>\n",
              "      <th class=\"col_heading level0 col17\" >17</th>\n",
              "    </tr>\n",
              "  </thead>\n",
              "  <tbody>\n",
              "    <tr>\n",
              "      <th id=\"T_1846a_level0_row0\" class=\"row_heading level0 row0\" >0</th>\n",
              "      <td id=\"T_1846a_row0_col0\" class=\"data row0 col0\" >0</td>\n",
              "      <td id=\"T_1846a_row0_col1\" class=\"data row0 col1\" >0</td>\n",
              "      <td id=\"T_1846a_row0_col2\" class=\"data row0 col2\" >0</td>\n",
              "      <td id=\"T_1846a_row0_col3\" class=\"data row0 col3\" >0</td>\n",
              "      <td id=\"T_1846a_row0_col4\" class=\"data row0 col4\" >0</td>\n",
              "      <td id=\"T_1846a_row0_col5\" class=\"data row0 col5\" >0</td>\n",
              "      <td id=\"T_1846a_row0_col6\" class=\"data row0 col6\" >0</td>\n",
              "      <td id=\"T_1846a_row0_col7\" class=\"data row0 col7\" >0</td>\n",
              "      <td id=\"T_1846a_row0_col8\" class=\"data row0 col8\" >0</td>\n",
              "      <td id=\"T_1846a_row0_col9\" class=\"data row0 col9\" >0</td>\n",
              "      <td id=\"T_1846a_row0_col10\" class=\"data row0 col10\" >0</td>\n",
              "      <td id=\"T_1846a_row0_col11\" class=\"data row0 col11\" >0</td>\n",
              "      <td id=\"T_1846a_row0_col12\" class=\"data row0 col12\" >0</td>\n",
              "      <td id=\"T_1846a_row0_col13\" class=\"data row0 col13\" >0</td>\n",
              "      <td id=\"T_1846a_row0_col14\" class=\"data row0 col14\" >0</td>\n",
              "      <td id=\"T_1846a_row0_col15\" class=\"data row0 col15\" >0</td>\n",
              "      <td id=\"T_1846a_row0_col16\" class=\"data row0 col16\" >0</td>\n",
              "      <td id=\"T_1846a_row0_col17\" class=\"data row0 col17\" >0</td>\n",
              "    </tr>\n",
              "    <tr>\n",
              "      <th id=\"T_1846a_level0_row1\" class=\"row_heading level0 row1\" >1</th>\n",
              "      <td id=\"T_1846a_row1_col0\" class=\"data row1 col0\" >0</td>\n",
              "      <td id=\"T_1846a_row1_col1\" class=\"data row1 col1\" >0</td>\n",
              "      <td id=\"T_1846a_row1_col2\" class=\"data row1 col2\" >0</td>\n",
              "      <td id=\"T_1846a_row1_col3\" class=\"data row1 col3\" >0</td>\n",
              "      <td id=\"T_1846a_row1_col4\" class=\"data row1 col4\" >0</td>\n",
              "      <td id=\"T_1846a_row1_col5\" class=\"data row1 col5\" >29</td>\n",
              "      <td id=\"T_1846a_row1_col6\" class=\"data row1 col6\" >150</td>\n",
              "      <td id=\"T_1846a_row1_col7\" class=\"data row1 col7\" >195</td>\n",
              "      <td id=\"T_1846a_row1_col8\" class=\"data row1 col8\" >254</td>\n",
              "      <td id=\"T_1846a_row1_col9\" class=\"data row1 col9\" >255</td>\n",
              "      <td id=\"T_1846a_row1_col10\" class=\"data row1 col10\" >254</td>\n",
              "      <td id=\"T_1846a_row1_col11\" class=\"data row1 col11\" >176</td>\n",
              "      <td id=\"T_1846a_row1_col12\" class=\"data row1 col12\" >193</td>\n",
              "      <td id=\"T_1846a_row1_col13\" class=\"data row1 col13\" >150</td>\n",
              "      <td id=\"T_1846a_row1_col14\" class=\"data row1 col14\" >96</td>\n",
              "      <td id=\"T_1846a_row1_col15\" class=\"data row1 col15\" >0</td>\n",
              "      <td id=\"T_1846a_row1_col16\" class=\"data row1 col16\" >0</td>\n",
              "      <td id=\"T_1846a_row1_col17\" class=\"data row1 col17\" >0</td>\n",
              "    </tr>\n",
              "    <tr>\n",
              "      <th id=\"T_1846a_level0_row2\" class=\"row_heading level0 row2\" >2</th>\n",
              "      <td id=\"T_1846a_row2_col0\" class=\"data row2 col0\" >0</td>\n",
              "      <td id=\"T_1846a_row2_col1\" class=\"data row2 col1\" >0</td>\n",
              "      <td id=\"T_1846a_row2_col2\" class=\"data row2 col2\" >0</td>\n",
              "      <td id=\"T_1846a_row2_col3\" class=\"data row2 col3\" >48</td>\n",
              "      <td id=\"T_1846a_row2_col4\" class=\"data row2 col4\" >166</td>\n",
              "      <td id=\"T_1846a_row2_col5\" class=\"data row2 col5\" >224</td>\n",
              "      <td id=\"T_1846a_row2_col6\" class=\"data row2 col6\" >253</td>\n",
              "      <td id=\"T_1846a_row2_col7\" class=\"data row2 col7\" >253</td>\n",
              "      <td id=\"T_1846a_row2_col8\" class=\"data row2 col8\" >234</td>\n",
              "      <td id=\"T_1846a_row2_col9\" class=\"data row2 col9\" >196</td>\n",
              "      <td id=\"T_1846a_row2_col10\" class=\"data row2 col10\" >253</td>\n",
              "      <td id=\"T_1846a_row2_col11\" class=\"data row2 col11\" >253</td>\n",
              "      <td id=\"T_1846a_row2_col12\" class=\"data row2 col12\" >253</td>\n",
              "      <td id=\"T_1846a_row2_col13\" class=\"data row2 col13\" >253</td>\n",
              "      <td id=\"T_1846a_row2_col14\" class=\"data row2 col14\" >233</td>\n",
              "      <td id=\"T_1846a_row2_col15\" class=\"data row2 col15\" >0</td>\n",
              "      <td id=\"T_1846a_row2_col16\" class=\"data row2 col16\" >0</td>\n",
              "      <td id=\"T_1846a_row2_col17\" class=\"data row2 col17\" >0</td>\n",
              "    </tr>\n",
              "    <tr>\n",
              "      <th id=\"T_1846a_level0_row3\" class=\"row_heading level0 row3\" >3</th>\n",
              "      <td id=\"T_1846a_row3_col0\" class=\"data row3 col0\" >0</td>\n",
              "      <td id=\"T_1846a_row3_col1\" class=\"data row3 col1\" >93</td>\n",
              "      <td id=\"T_1846a_row3_col2\" class=\"data row3 col2\" >244</td>\n",
              "      <td id=\"T_1846a_row3_col3\" class=\"data row3 col3\" >249</td>\n",
              "      <td id=\"T_1846a_row3_col4\" class=\"data row3 col4\" >253</td>\n",
              "      <td id=\"T_1846a_row3_col5\" class=\"data row3 col5\" >187</td>\n",
              "      <td id=\"T_1846a_row3_col6\" class=\"data row3 col6\" >46</td>\n",
              "      <td id=\"T_1846a_row3_col7\" class=\"data row3 col7\" >10</td>\n",
              "      <td id=\"T_1846a_row3_col8\" class=\"data row3 col8\" >8</td>\n",
              "      <td id=\"T_1846a_row3_col9\" class=\"data row3 col9\" >4</td>\n",
              "      <td id=\"T_1846a_row3_col10\" class=\"data row3 col10\" >10</td>\n",
              "      <td id=\"T_1846a_row3_col11\" class=\"data row3 col11\" >194</td>\n",
              "      <td id=\"T_1846a_row3_col12\" class=\"data row3 col12\" >253</td>\n",
              "      <td id=\"T_1846a_row3_col13\" class=\"data row3 col13\" >253</td>\n",
              "      <td id=\"T_1846a_row3_col14\" class=\"data row3 col14\" >233</td>\n",
              "      <td id=\"T_1846a_row3_col15\" class=\"data row3 col15\" >0</td>\n",
              "      <td id=\"T_1846a_row3_col16\" class=\"data row3 col16\" >0</td>\n",
              "      <td id=\"T_1846a_row3_col17\" class=\"data row3 col17\" >0</td>\n",
              "    </tr>\n",
              "    <tr>\n",
              "      <th id=\"T_1846a_level0_row4\" class=\"row_heading level0 row4\" >4</th>\n",
              "      <td id=\"T_1846a_row4_col0\" class=\"data row4 col0\" >0</td>\n",
              "      <td id=\"T_1846a_row4_col1\" class=\"data row4 col1\" >107</td>\n",
              "      <td id=\"T_1846a_row4_col2\" class=\"data row4 col2\" >253</td>\n",
              "      <td id=\"T_1846a_row4_col3\" class=\"data row4 col3\" >253</td>\n",
              "      <td id=\"T_1846a_row4_col4\" class=\"data row4 col4\" >230</td>\n",
              "      <td id=\"T_1846a_row4_col5\" class=\"data row4 col5\" >48</td>\n",
              "      <td id=\"T_1846a_row4_col6\" class=\"data row4 col6\" >0</td>\n",
              "      <td id=\"T_1846a_row4_col7\" class=\"data row4 col7\" >0</td>\n",
              "      <td id=\"T_1846a_row4_col8\" class=\"data row4 col8\" >0</td>\n",
              "      <td id=\"T_1846a_row4_col9\" class=\"data row4 col9\" >0</td>\n",
              "      <td id=\"T_1846a_row4_col10\" class=\"data row4 col10\" >0</td>\n",
              "      <td id=\"T_1846a_row4_col11\" class=\"data row4 col11\" >192</td>\n",
              "      <td id=\"T_1846a_row4_col12\" class=\"data row4 col12\" >253</td>\n",
              "      <td id=\"T_1846a_row4_col13\" class=\"data row4 col13\" >253</td>\n",
              "      <td id=\"T_1846a_row4_col14\" class=\"data row4 col14\" >156</td>\n",
              "      <td id=\"T_1846a_row4_col15\" class=\"data row4 col15\" >0</td>\n",
              "      <td id=\"T_1846a_row4_col16\" class=\"data row4 col16\" >0</td>\n",
              "      <td id=\"T_1846a_row4_col17\" class=\"data row4 col17\" >0</td>\n",
              "    </tr>\n",
              "    <tr>\n",
              "      <th id=\"T_1846a_level0_row5\" class=\"row_heading level0 row5\" >5</th>\n",
              "      <td id=\"T_1846a_row5_col0\" class=\"data row5 col0\" >0</td>\n",
              "      <td id=\"T_1846a_row5_col1\" class=\"data row5 col1\" >3</td>\n",
              "      <td id=\"T_1846a_row5_col2\" class=\"data row5 col2\" >20</td>\n",
              "      <td id=\"T_1846a_row5_col3\" class=\"data row5 col3\" >20</td>\n",
              "      <td id=\"T_1846a_row5_col4\" class=\"data row5 col4\" >15</td>\n",
              "      <td id=\"T_1846a_row5_col5\" class=\"data row5 col5\" >0</td>\n",
              "      <td id=\"T_1846a_row5_col6\" class=\"data row5 col6\" >0</td>\n",
              "      <td id=\"T_1846a_row5_col7\" class=\"data row5 col7\" >0</td>\n",
              "      <td id=\"T_1846a_row5_col8\" class=\"data row5 col8\" >0</td>\n",
              "      <td id=\"T_1846a_row5_col9\" class=\"data row5 col9\" >0</td>\n",
              "      <td id=\"T_1846a_row5_col10\" class=\"data row5 col10\" >43</td>\n",
              "      <td id=\"T_1846a_row5_col11\" class=\"data row5 col11\" >224</td>\n",
              "      <td id=\"T_1846a_row5_col12\" class=\"data row5 col12\" >253</td>\n",
              "      <td id=\"T_1846a_row5_col13\" class=\"data row5 col13\" >245</td>\n",
              "      <td id=\"T_1846a_row5_col14\" class=\"data row5 col14\" >74</td>\n",
              "      <td id=\"T_1846a_row5_col15\" class=\"data row5 col15\" >0</td>\n",
              "      <td id=\"T_1846a_row5_col16\" class=\"data row5 col16\" >0</td>\n",
              "      <td id=\"T_1846a_row5_col17\" class=\"data row5 col17\" >0</td>\n",
              "    </tr>\n",
              "    <tr>\n",
              "      <th id=\"T_1846a_level0_row6\" class=\"row_heading level0 row6\" >6</th>\n",
              "      <td id=\"T_1846a_row6_col0\" class=\"data row6 col0\" >0</td>\n",
              "      <td id=\"T_1846a_row6_col1\" class=\"data row6 col1\" >0</td>\n",
              "      <td id=\"T_1846a_row6_col2\" class=\"data row6 col2\" >0</td>\n",
              "      <td id=\"T_1846a_row6_col3\" class=\"data row6 col3\" >0</td>\n",
              "      <td id=\"T_1846a_row6_col4\" class=\"data row6 col4\" >0</td>\n",
              "      <td id=\"T_1846a_row6_col5\" class=\"data row6 col5\" >0</td>\n",
              "      <td id=\"T_1846a_row6_col6\" class=\"data row6 col6\" >0</td>\n",
              "      <td id=\"T_1846a_row6_col7\" class=\"data row6 col7\" >0</td>\n",
              "      <td id=\"T_1846a_row6_col8\" class=\"data row6 col8\" >0</td>\n",
              "      <td id=\"T_1846a_row6_col9\" class=\"data row6 col9\" >0</td>\n",
              "      <td id=\"T_1846a_row6_col10\" class=\"data row6 col10\" >249</td>\n",
              "      <td id=\"T_1846a_row6_col11\" class=\"data row6 col11\" >253</td>\n",
              "      <td id=\"T_1846a_row6_col12\" class=\"data row6 col12\" >245</td>\n",
              "      <td id=\"T_1846a_row6_col13\" class=\"data row6 col13\" >126</td>\n",
              "      <td id=\"T_1846a_row6_col14\" class=\"data row6 col14\" >0</td>\n",
              "      <td id=\"T_1846a_row6_col15\" class=\"data row6 col15\" >0</td>\n",
              "      <td id=\"T_1846a_row6_col16\" class=\"data row6 col16\" >0</td>\n",
              "      <td id=\"T_1846a_row6_col17\" class=\"data row6 col17\" >0</td>\n",
              "    </tr>\n",
              "    <tr>\n",
              "      <th id=\"T_1846a_level0_row7\" class=\"row_heading level0 row7\" >7</th>\n",
              "      <td id=\"T_1846a_row7_col0\" class=\"data row7 col0\" >0</td>\n",
              "      <td id=\"T_1846a_row7_col1\" class=\"data row7 col1\" >0</td>\n",
              "      <td id=\"T_1846a_row7_col2\" class=\"data row7 col2\" >0</td>\n",
              "      <td id=\"T_1846a_row7_col3\" class=\"data row7 col3\" >0</td>\n",
              "      <td id=\"T_1846a_row7_col4\" class=\"data row7 col4\" >0</td>\n",
              "      <td id=\"T_1846a_row7_col5\" class=\"data row7 col5\" >0</td>\n",
              "      <td id=\"T_1846a_row7_col6\" class=\"data row7 col6\" >0</td>\n",
              "      <td id=\"T_1846a_row7_col7\" class=\"data row7 col7\" >14</td>\n",
              "      <td id=\"T_1846a_row7_col8\" class=\"data row7 col8\" >101</td>\n",
              "      <td id=\"T_1846a_row7_col9\" class=\"data row7 col9\" >223</td>\n",
              "      <td id=\"T_1846a_row7_col10\" class=\"data row7 col10\" >253</td>\n",
              "      <td id=\"T_1846a_row7_col11\" class=\"data row7 col11\" >248</td>\n",
              "      <td id=\"T_1846a_row7_col12\" class=\"data row7 col12\" >124</td>\n",
              "      <td id=\"T_1846a_row7_col13\" class=\"data row7 col13\" >0</td>\n",
              "      <td id=\"T_1846a_row7_col14\" class=\"data row7 col14\" >0</td>\n",
              "      <td id=\"T_1846a_row7_col15\" class=\"data row7 col15\" >0</td>\n",
              "      <td id=\"T_1846a_row7_col16\" class=\"data row7 col16\" >0</td>\n",
              "      <td id=\"T_1846a_row7_col17\" class=\"data row7 col17\" >0</td>\n",
              "    </tr>\n",
              "    <tr>\n",
              "      <th id=\"T_1846a_level0_row8\" class=\"row_heading level0 row8\" >8</th>\n",
              "      <td id=\"T_1846a_row8_col0\" class=\"data row8 col0\" >0</td>\n",
              "      <td id=\"T_1846a_row8_col1\" class=\"data row8 col1\" >0</td>\n",
              "      <td id=\"T_1846a_row8_col2\" class=\"data row8 col2\" >0</td>\n",
              "      <td id=\"T_1846a_row8_col3\" class=\"data row8 col3\" >0</td>\n",
              "      <td id=\"T_1846a_row8_col4\" class=\"data row8 col4\" >0</td>\n",
              "      <td id=\"T_1846a_row8_col5\" class=\"data row8 col5\" >11</td>\n",
              "      <td id=\"T_1846a_row8_col6\" class=\"data row8 col6\" >166</td>\n",
              "      <td id=\"T_1846a_row8_col7\" class=\"data row8 col7\" >239</td>\n",
              "      <td id=\"T_1846a_row8_col8\" class=\"data row8 col8\" >253</td>\n",
              "      <td id=\"T_1846a_row8_col9\" class=\"data row8 col9\" >253</td>\n",
              "      <td id=\"T_1846a_row8_col10\" class=\"data row8 col10\" >253</td>\n",
              "      <td id=\"T_1846a_row8_col11\" class=\"data row8 col11\" >187</td>\n",
              "      <td id=\"T_1846a_row8_col12\" class=\"data row8 col12\" >30</td>\n",
              "      <td id=\"T_1846a_row8_col13\" class=\"data row8 col13\" >0</td>\n",
              "      <td id=\"T_1846a_row8_col14\" class=\"data row8 col14\" >0</td>\n",
              "      <td id=\"T_1846a_row8_col15\" class=\"data row8 col15\" >0</td>\n",
              "      <td id=\"T_1846a_row8_col16\" class=\"data row8 col16\" >0</td>\n",
              "      <td id=\"T_1846a_row8_col17\" class=\"data row8 col17\" >0</td>\n",
              "    </tr>\n",
              "    <tr>\n",
              "      <th id=\"T_1846a_level0_row9\" class=\"row_heading level0 row9\" >9</th>\n",
              "      <td id=\"T_1846a_row9_col0\" class=\"data row9 col0\" >0</td>\n",
              "      <td id=\"T_1846a_row9_col1\" class=\"data row9 col1\" >0</td>\n",
              "      <td id=\"T_1846a_row9_col2\" class=\"data row9 col2\" >0</td>\n",
              "      <td id=\"T_1846a_row9_col3\" class=\"data row9 col3\" >0</td>\n",
              "      <td id=\"T_1846a_row9_col4\" class=\"data row9 col4\" >0</td>\n",
              "      <td id=\"T_1846a_row9_col5\" class=\"data row9 col5\" >16</td>\n",
              "      <td id=\"T_1846a_row9_col6\" class=\"data row9 col6\" >248</td>\n",
              "      <td id=\"T_1846a_row9_col7\" class=\"data row9 col7\" >250</td>\n",
              "      <td id=\"T_1846a_row9_col8\" class=\"data row9 col8\" >253</td>\n",
              "      <td id=\"T_1846a_row9_col9\" class=\"data row9 col9\" >253</td>\n",
              "      <td id=\"T_1846a_row9_col10\" class=\"data row9 col10\" >253</td>\n",
              "      <td id=\"T_1846a_row9_col11\" class=\"data row9 col11\" >253</td>\n",
              "      <td id=\"T_1846a_row9_col12\" class=\"data row9 col12\" >232</td>\n",
              "      <td id=\"T_1846a_row9_col13\" class=\"data row9 col13\" >213</td>\n",
              "      <td id=\"T_1846a_row9_col14\" class=\"data row9 col14\" >111</td>\n",
              "      <td id=\"T_1846a_row9_col15\" class=\"data row9 col15\" >2</td>\n",
              "      <td id=\"T_1846a_row9_col16\" class=\"data row9 col16\" >0</td>\n",
              "      <td id=\"T_1846a_row9_col17\" class=\"data row9 col17\" >0</td>\n",
              "    </tr>\n",
              "    <tr>\n",
              "      <th id=\"T_1846a_level0_row10\" class=\"row_heading level0 row10\" >10</th>\n",
              "      <td id=\"T_1846a_row10_col0\" class=\"data row10 col0\" >0</td>\n",
              "      <td id=\"T_1846a_row10_col1\" class=\"data row10 col1\" >0</td>\n",
              "      <td id=\"T_1846a_row10_col2\" class=\"data row10 col2\" >0</td>\n",
              "      <td id=\"T_1846a_row10_col3\" class=\"data row10 col3\" >0</td>\n",
              "      <td id=\"T_1846a_row10_col4\" class=\"data row10 col4\" >0</td>\n",
              "      <td id=\"T_1846a_row10_col5\" class=\"data row10 col5\" >0</td>\n",
              "      <td id=\"T_1846a_row10_col6\" class=\"data row10 col6\" >0</td>\n",
              "      <td id=\"T_1846a_row10_col7\" class=\"data row10 col7\" >43</td>\n",
              "      <td id=\"T_1846a_row10_col8\" class=\"data row10 col8\" >98</td>\n",
              "      <td id=\"T_1846a_row10_col9\" class=\"data row10 col9\" >98</td>\n",
              "      <td id=\"T_1846a_row10_col10\" class=\"data row10 col10\" >208</td>\n",
              "      <td id=\"T_1846a_row10_col11\" class=\"data row10 col11\" >253</td>\n",
              "      <td id=\"T_1846a_row10_col12\" class=\"data row10 col12\" >253</td>\n",
              "      <td id=\"T_1846a_row10_col13\" class=\"data row10 col13\" >253</td>\n",
              "      <td id=\"T_1846a_row10_col14\" class=\"data row10 col14\" >253</td>\n",
              "      <td id=\"T_1846a_row10_col15\" class=\"data row10 col15\" >187</td>\n",
              "      <td id=\"T_1846a_row10_col16\" class=\"data row10 col16\" >22</td>\n",
              "      <td id=\"T_1846a_row10_col17\" class=\"data row10 col17\" >0</td>\n",
              "    </tr>\n",
              "  </tbody>\n",
              "</table>\n"
            ]
          },
          "metadata": {},
          "execution_count": 9
        }
      ]
    },
    {
      "cell_type": "code",
      "source": [
        "# 모든 자료들을 텐서로 저장\n",
        "# * 리스트 컴프리헨션 학습 할 것\n",
        "seven_tensors = [tensor(Image.open(o)) for o in sevens]\n",
        "three_tensors = [tensor(Image.open(o)) for o in threes]\n",
        "len(seven_tensors), len(three_tensors)"
      ],
      "metadata": {
        "colab": {
          "base_uri": "https://localhost:8080/"
        },
        "id": "OCxwpTkXrlfg",
        "outputId": "71676506-6829-41f2-8091-c67013e6182d"
      },
      "execution_count": 10,
      "outputs": [
        {
          "output_type": "execute_result",
          "data": {
            "text/plain": [
              "(6265, 6131)"
            ]
          },
          "metadata": {},
          "execution_count": 10
        }
      ]
    },
    {
      "cell_type": "code",
      "source": [
        "# 이미지 출력\n",
        "show_image(three_tensors[1]) # PIL library?"
      ],
      "metadata": {
        "colab": {
          "base_uri": "https://localhost:8080/",
          "height": 103
        },
        "id": "QpPEkWxQuz_J",
        "outputId": "838ee8c3-dc9b-4bc9-baa9-7e2ff3c00c96"
      },
      "execution_count": 11,
      "outputs": [
        {
          "output_type": "execute_result",
          "data": {
            "text/plain": [
              "<matplotlib.axes._subplots.AxesSubplot at 0x7fca936eaa90>"
            ]
          },
          "metadata": {},
          "execution_count": 11
        },
        {
          "output_type": "display_data",
          "data": {
            "text/plain": [
              "<Figure size 72x72 with 1 Axes>"
            ],
            "image/png": "[encoded data removed]"
          },
          "metadata": {
            "needs_background": "light"
          }
        }
      ]
    },
    {
      "cell_type": "code",
      "source": [
        "# 스택과 동시에 부동소수로 표현\n",
        "stacked_threes = torch.stack(three_tensors).float()/255\n",
        "stacked_sevens = torch.stack(seven_tensors).float()/255\n",
        "stacked_threes.shape \n",
        "# shape는 축의 크기, rank 는 축의 갯수"
      ],
      "metadata": {
        "colab": {
          "base_uri": "https://localhost:8080/"
        },
        "id": "EtSYLDufuz8K",
        "outputId": "89a8f038-b7c9-46ce-cb10-ca6f5cf61dce"
      },
      "execution_count": 12,
      "outputs": [
        {
          "output_type": "execute_result",
          "data": {
            "text/plain": [
              "torch.Size([6131, 28, 28])"
            ]
          },
          "metadata": {},
          "execution_count": 12
        }
      ]
    },
    {
      "cell_type": "code",
      "source": [
        "stacked_threes.ndim\n",
        "# 3차원 형태"
      ],
      "metadata": {
        "colab": {
          "base_uri": "https://localhost:8080/"
        },
        "id": "cjBcnMLjuz5S",
        "outputId": "dc92568a-1a6e-4d7b-de3c-821e06c22c2c"
      },
      "execution_count": 13,
      "outputs": [
        {
          "output_type": "execute_result",
          "data": {
            "text/plain": [
              "3"
            ]
          },
          "metadata": {},
          "execution_count": 13
        }
      ]
    },
    {
      "cell_type": "code",
      "source": [
        "# 쌓아 올린 텐서들을 가지고 해당 픽셀의 평균값을 구한 뒤 하나의 이미지로 새롭게 정의한다.\n",
        "\n",
        "# 모든 3의 픽셀값에 따른 평균 이미지 재해석\n",
        "mean3 = stacked_threes.mean(0) # <- 왜 함수의 인자로 0이 들어가는가? 1, 2, -1 다 안됨\n",
        "show_image(mean3)\n",
        "\n",
        "# 모든 7의 텐서의 픽셀값에 따른 평균 이미지 재해석\n",
        "mean7 = stacked_sevens.mean(0)\n",
        "show_image(mean7)"
      ],
      "metadata": {
        "colab": {
          "base_uri": "https://localhost:8080/",
          "height": 171
        },
        "id": "BPjAxoVAykXv",
        "outputId": "469e941d-d382-4af4-9b21-acaa6f54e863"
      },
      "execution_count": 14,
      "outputs": [
        {
          "output_type": "execute_result",
          "data": {
            "text/plain": [
              "<matplotlib.axes._subplots.AxesSubplot at 0x7fca92aab3d0>"
            ]
          },
          "metadata": {},
          "execution_count": 14
        },
        {
          "output_type": "display_data",
          "data": {
            "text/plain": [
              "<Figure size 72x72 with 1 Axes>"
            ],
            "image/png": "[encoded data removed]"
          },
          "metadata": {
            "needs_background": "light"
          }
        },
        {
          "output_type": "display_data",
          "data": {
            "text/plain": [
              "<Figure size 72x72 with 1 Axes>"
            ],
            "image/png": "[encoded data removed]"
          },
          "metadata": {
            "needs_background": "light"
          }
        }
      ]
    },
    {
      "cell_type": "code",
      "source": [
        "# 차이의 절댓값에 대한 평균 : L1 노름, 평균절대차\n",
        "# 차이의 제곱에 대한 절댓값 후 제곱근 : L2 노름, 평균제곱근오차\n",
        "\n",
        "a_3 = stacked_threes[1]\n",
        "show_image(a_3)"
      ],
      "metadata": {
        "colab": {
          "base_uri": "https://localhost:8080/",
          "height": 103
        },
        "id": "6d6wHdsFykas",
        "outputId": "d13b65fb-61fd-4408-9670-45408837d0e0"
      },
      "execution_count": 15,
      "outputs": [
        {
          "output_type": "execute_result",
          "data": {
            "text/plain": [
              "<matplotlib.axes._subplots.AxesSubplot at 0x7fca93144250>"
            ]
          },
          "metadata": {},
          "execution_count": 15
        },
        {
          "output_type": "display_data",
          "data": {
            "text/plain": [
              "<Figure size 72x72 with 1 Axes>"
            ],
            "image/png": "[encoded data removed]"
          },
          "metadata": {
            "needs_background": "light"
          }
        }
      ]
    },
    {
      "cell_type": "code",
      "source": [
        "dist_3_abs = (a_3 - mean3).abs().mean() # absolute\n",
        "dist_3_sqr = ((a_3 - mean3)**2).mean().sqrt() # squared\n",
        "dist_3_abs, dist_3_sqr\n",
        "\n",
        "# (tensor(0.1114), tensor(0.2021))\n",
        "\n",
        "dist_7_abs = (a_3 - mean7).abs().mean()\n",
        "dist_7_sqr = ((a_3 - mean7)**2).mean().sqrt()\n",
        "dist_7_abs, dist_7_sqr\n",
        "\n",
        "# (tensor(0.1586), tensor(0.3021))"
      ],
      "metadata": {
        "colab": {
          "base_uri": "https://localhost:8080/"
        },
        "id": "pdWthfUpykgS",
        "outputId": "6a6900d3-bd39-4e61-c4cf-15cd8b298d55"
      },
      "execution_count": 16,
      "outputs": [
        {
          "output_type": "execute_result",
          "data": {
            "text/plain": [
              "(tensor(0.1586), tensor(0.3021))"
            ]
          },
          "metadata": {},
          "execution_count": 16
        }
      ]
    },
    {
      "cell_type": "code",
      "source": [
        "# 손실함수로 표현하는 방법\n",
        "\n",
        "F.l1_loss(a_3.float(), mean7), F.mse_loss(a_3, mean7).sqrt()\n",
        "\n",
        "# l1 손실함수, 평균제곱오차(mean squared error)에서 제곱근 사용"
      ],
      "metadata": {
        "colab": {
          "base_uri": "https://localhost:8080/"
        },
        "id": "JnNzC5pS2BH7",
        "outputId": "9aec668f-2348-4416-f535-32f4ba02fa54"
      },
      "execution_count": 17,
      "outputs": [
        {
          "output_type": "execute_result",
          "data": {
            "text/plain": [
              "(tensor(0.1586), tensor(0.3021))"
            ]
          },
          "metadata": {},
          "execution_count": 17
        }
      ]
    },
    {
      "cell_type": "markdown",
      "source": [
        "# difference between tensor and numpy\n",
        "\n",
        "* 기본적으로 numpy는 c언어를 기반으로 만들어졌기 때문에 다양한 형태의 데이터를 담을 수 있고, 자료형만 같다면 다양한 모습으로 연산을 통해 배열을 만들 수 있다.\n",
        "\n",
        "* numpy는 연산을 압축하여 메모리에 저장하기에 매우 빠른 속도를 자랑한다.\n",
        "\n",
        "* tensor는 수치형 데이터만 사용할 수 있으며, 다양한 모습으로 변할 수 없어 항상 사각형을 유지해야 한다.\n",
        "\n",
        "* 단, GPU에 연산을 맡길 수 있어 수 많은 양에 대한 연산이 매우 빠르게 적용하고, 자동으로 미분을 해주기도 한다."
      ],
      "metadata": {
        "id": "TxRvjPCt433r"
      }
    },
    {
      "cell_type": "code",
      "source": [
        "data = [[12, 35, 32], [10, 39, 20]]\n",
        "arr = array(data)\n",
        "tns = tensor(data)\n",
        "\n",
        "arr \n",
        "# array([[12, 35, 32], [10, 39, 20]])\n",
        "\n",
        "tns\n",
        "# tensor([[12, 35, 32], [10, 39, 20]])"
      ],
      "metadata": {
        "colab": {
          "base_uri": "https://localhost:8080/"
        },
        "id": "xIpfyiHk2BEr",
        "outputId": "a29c0cba-cbaa-45e6-8dd6-01690870d2c5"
      },
      "execution_count": 18,
      "outputs": [
        {
          "output_type": "execute_result",
          "data": {
            "text/plain": [
              "tensor([[12, 35, 32],\n",
              "        [10, 39, 20]])"
            ]
          },
          "metadata": {},
          "execution_count": 18
        }
      ]
    },
    {
      "cell_type": "code",
      "source": [
        "# tns[행 : 열]\n",
        "tns[1] # tensor([10, 39, 20]) : 인덱스 1에 해당되는 행을 들고온다. 2행\n",
        "\n",
        "tns[:, 0] # tensor([12, 10]) : 인덱스 0에 해당되는 열을 들고온다. 모든 행에 대한 1열"
      ],
      "metadata": {
        "colab": {
          "base_uri": "https://localhost:8080/"
        },
        "id": "lOQbSyxy2BCE",
        "outputId": "f51896e8-baf2-4a9d-fb73-c180358c0f6d"
      },
      "execution_count": 19,
      "outputs": [
        {
          "output_type": "execute_result",
          "data": {
            "text/plain": [
              "tensor([12, 10])"
            ]
          },
          "metadata": {},
          "execution_count": 19
        }
      ]
    },
    {
      "cell_type": "code",
      "source": [
        "tns.type() # torch.LongTensor\n",
        "\n",
        "# 자동으로 정수형에서 부동소수로\n",
        "tns = tns * 1.5\n",
        "tns.type() # torch.FloatTensor"
      ],
      "metadata": {
        "colab": {
          "base_uri": "https://localhost:8080/",
          "height": 36
        },
        "id": "JYjNis3uC8q2",
        "outputId": "a0035873-1fd1-40ab-a717-a105de2bf47a"
      },
      "execution_count": 20,
      "outputs": [
        {
          "output_type": "execute_result",
          "data": {
            "text/plain": [
              "'torch.FloatTensor'"
            ],
            "application/vnd.google.colaboratory.intrinsic+json": {
              "type": "string"
            }
          },
          "metadata": {},
          "execution_count": 20
        }
      ]
    },
    {
      "cell_type": "markdown",
      "source": [
        "# calculate rate through broadcasting\n",
        "\n",
        "* 학습용 데이터 셋에서만 잘 작동하는 overfit을 피하기 위해 검증용 데이터셋을 사용한다.\n",
        "\n",
        "* 보통 정확도(accuracy)를 분류 평가지표로 사용한다."
      ],
      "metadata": {
        "id": "agIB7EC67GYJ"
      }
    },
    {
      "cell_type": "code",
      "source": [
        "# MNIST 에는 검증용 데이터셋이 따로 분류되어있다. Path('/root/.fastai/data/mnist_sample/valid')\n",
        "\n",
        "valid_3_tens = torch.stack([tensor(Image.open(o))\n",
        "                            for o in (path/'valid'/'3').ls()])\n",
        "valid_3_tens = valid_3_tens.float()/255\n",
        "\n",
        "valid_7_tens = torch.stack([tensor(Image.open(o))\n",
        "                            for o in (path/'valid'/'7').ls()])\n",
        "valid_7_tens = valid_3_tens.float()/255\n",
        "\n",
        "valid_3_tens.shape, valid_7_tens.shape\n",
        "\n",
        "# (torch.Size([1010, 28, 28]), torch.Size([1010, 28, 28]))"
      ],
      "metadata": {
        "colab": {
          "base_uri": "https://localhost:8080/"
        },
        "id": "ykAxMiqFD67Z",
        "outputId": "3d95c26e-b53d-42ef-87df-3b7304e38881"
      },
      "execution_count": 21,
      "outputs": [
        {
          "output_type": "execute_result",
          "data": {
            "text/plain": [
              "(torch.Size([1010, 28, 28]), torch.Size([1010, 28, 28]))"
            ]
          },
          "metadata": {},
          "execution_count": 21
        }
      ]
    },
    {
      "cell_type": "code",
      "source": [
        "# 평균절대오차를 계산하는 함수\n",
        "\n",
        "def mnist_distance(a,b) : return (a-b).abs().mean((-1, -2)) # 왜 평균에 인자를 넣어주면 브로드캐스팅이 되는가?\n",
        "mnist_distance(a_3, mean3)"
      ],
      "metadata": {
        "colab": {
          "base_uri": "https://localhost:8080/"
        },
        "id": "QdjgTGQkFvd2",
        "outputId": "51c907c3-bcb6-4fa4-8cb0-704aebdd4723"
      },
      "execution_count": 22,
      "outputs": [
        {
          "output_type": "execute_result",
          "data": {
            "text/plain": [
              "tensor(0.1114)"
            ]
          },
          "metadata": {},
          "execution_count": 22
        }
      ]
    },
    {
      "cell_type": "code",
      "source": [
        "valid_3_dist = mnist_distance(valid_3_tens, mean3) # 검증용 데이터와 3의 평균이미지와의 오차를 구해 계산\n",
        "valid_3_dist, valid_3_dist.shape\n",
        "\n",
        "# len(valid_3_dist) == 1010\n",
        "\n",
        "# 여기서 valid_3_tens는 rank-3에 해당되는데 mean3 는 rank-2의 테이블 형식이다.\n",
        "# mnist_distance에서 텐서 간의 격차인 (a-b)에서 broadcasting이 일어난 걸 알 수 있다."
      ],
      "metadata": {
        "colab": {
          "base_uri": "https://localhost:8080/"
        },
        "id": "X-pnzplQFvau",
        "outputId": "258fb46a-7a95-439b-8cdb-96005e37f6fd"
      },
      "execution_count": 23,
      "outputs": [
        {
          "output_type": "execute_result",
          "data": {
            "text/plain": [
              "(tensor([0.1314, 0.1258, 0.1358,  ..., 0.1111, 0.1319, 0.1466]),\n",
              " torch.Size([1010]))"
            ]
          },
          "metadata": {},
          "execution_count": 23
        }
      ]
    },
    {
      "cell_type": "code",
      "source": [
        "# 브로드캐스팅이란?\n",
        "\n",
        "# numpy에서는 차원과 비슷한 개념인데 3차원과 2차원이 연산이 될 때 자동으로 2차원이 3차원으로 변형되면서 연산이 가능해지도록 해주는\n",
        "# 한 마디로 자동차원(rank)변환\n",
        "\n",
        "tensor([1,2,3]) + tensor(1) # rank-2의 테이블과 rank-1의 텐서에서 텐서가 자동으로 테이블로 조정되어 연산이 실행되었다."
      ],
      "metadata": {
        "colab": {
          "base_uri": "https://localhost:8080/"
        },
        "id": "aDcpdqJ1FvUe",
        "outputId": "e06a5f8a-3872-496b-f6a6-a1818d3a0bae"
      },
      "execution_count": 24,
      "outputs": [
        {
          "output_type": "execute_result",
          "data": {
            "text/plain": [
              "tensor([2, 3, 4])"
            ]
          },
          "metadata": {},
          "execution_count": 24
        }
      ]
    },
    {
      "cell_type": "code",
      "source": [
        "# mean3가 1010개 추가된 것처럼 보이지민 실제로 메모리가 할당되진 않는다.\n",
        "(valid_3_tens - mean3).shape"
      ],
      "metadata": {
        "colab": {
          "base_uri": "https://localhost:8080/"
        },
        "id": "7-CNsAPLFvKm",
        "outputId": "85084bcf-f926-40ea-fc7a-67e0c9dfc876"
      },
      "execution_count": 25,
      "outputs": [
        {
          "output_type": "execute_result",
          "data": {
            "text/plain": [
              "torch.Size([1010, 28, 28])"
            ]
          },
          "metadata": {},
          "execution_count": 25
        }
      ]
    },
    {
      "cell_type": "code",
      "source": [
        "# mean()은 그 픽셀별 뺀 값의 평균을 구해준다.\n",
        "\n",
        "def abso(a,b) : return (a-b).abs()\n",
        "\n",
        "image1 = abso(valid_3_tens[10], mean7)\n",
        "df = pd.DataFrame(image1)\n",
        "df.style.set_properties(**{'font-size' : '6pt'}).background_gradient('Greys')"
      ],
      "metadata": {
        "colab": {
          "base_uri": "https://localhost:8080/",
          "height": 947
        },
        "id": "pcfLAYOdKa--",
        "outputId": "40a1d04d-bed7-4e60-f689-114236b1cc07"
      },
      "execution_count": 26,
      "outputs": [
        {
          "output_type": "execute_result",
          "data": {
            "text/plain": [
              "<pandas.io.formats.style.Styler at 0x7fca92a908d0>"
            ],
            "text/html": [
              "<style type=\"text/css\">\n",
              "#T_734cf_row0_col0, #T_734cf_row0_col1, #T_734cf_row0_col2, #T_734cf_row0_col3, #T_734cf_row0_col4, #T_734cf_row0_col5, #T_734cf_row0_col6, #T_734cf_row0_col7, #T_734cf_row0_col8, #T_734cf_row0_col9, #T_734cf_row0_col10, #T_734cf_row0_col11, #T_734cf_row0_col12, #T_734cf_row0_col13, #T_734cf_row0_col14, #T_734cf_row0_col15, #T_734cf_row0_col16, #T_734cf_row0_col17, #T_734cf_row0_col18, #T_734cf_row0_col19, #T_734cf_row0_col20, #T_734cf_row0_col21, #T_734cf_row0_col22, #T_734cf_row0_col23, #T_734cf_row0_col24, #T_734cf_row0_col25, #T_734cf_row0_col26, #T_734cf_row0_col27, #T_734cf_row1_col0, #T_734cf_row1_col1, #T_734cf_row1_col2, #T_734cf_row1_col3, #T_734cf_row1_col4, #T_734cf_row1_col5, #T_734cf_row1_col6, #T_734cf_row1_col7, #T_734cf_row1_col8, #T_734cf_row1_col9, #T_734cf_row1_col10, #T_734cf_row1_col11, #T_734cf_row1_col12, #T_734cf_row1_col13, #T_734cf_row1_col14, #T_734cf_row1_col15, #T_734cf_row1_col16, #T_734cf_row1_col17, #T_734cf_row1_col18, #T_734cf_row1_col19, #T_734cf_row1_col20, #T_734cf_row1_col21, #T_734cf_row1_col22, #T_734cf_row1_col23, #T_734cf_row1_col24, #T_734cf_row1_col25, #T_734cf_row1_col26, #T_734cf_row1_col27, #T_734cf_row2_col0, #T_734cf_row2_col1, #T_734cf_row2_col2, #T_734cf_row2_col3, #T_734cf_row2_col4, #T_734cf_row2_col5, #T_734cf_row2_col6, #T_734cf_row2_col7, #T_734cf_row2_col8, #T_734cf_row2_col9, #T_734cf_row2_col10, #T_734cf_row2_col11, #T_734cf_row2_col12, #T_734cf_row2_col13, #T_734cf_row2_col14, #T_734cf_row2_col15, #T_734cf_row2_col16, #T_734cf_row2_col17, #T_734cf_row2_col18, #T_734cf_row2_col19, #T_734cf_row2_col20, #T_734cf_row2_col21, #T_734cf_row2_col22, #T_734cf_row2_col23, #T_734cf_row2_col24, #T_734cf_row2_col25, #T_734cf_row2_col26, #T_734cf_row2_col27, #T_734cf_row3_col0, #T_734cf_row3_col1, #T_734cf_row3_col2, #T_734cf_row3_col3, #T_734cf_row3_col4, #T_734cf_row3_col5, #T_734cf_row3_col6, #T_734cf_row3_col7, #T_734cf_row3_col8, #T_734cf_row3_col9, #T_734cf_row3_col10, #T_734cf_row3_col11, #T_734cf_row3_col12, #T_734cf_row3_col13, #T_734cf_row3_col14, #T_734cf_row3_col15, #T_734cf_row3_col16, #T_734cf_row3_col17, #T_734cf_row3_col18, #T_734cf_row3_col19, #T_734cf_row3_col20, #T_734cf_row3_col21, #T_734cf_row3_col22, #T_734cf_row3_col23, #T_734cf_row3_col24, #T_734cf_row3_col25, #T_734cf_row3_col26, #T_734cf_row3_col27, #T_734cf_row4_col0, #T_734cf_row4_col1, #T_734cf_row4_col2, #T_734cf_row4_col3, #T_734cf_row4_col4, #T_734cf_row4_col5, #T_734cf_row4_col6, #T_734cf_row4_col7, #T_734cf_row4_col8, #T_734cf_row4_col9, #T_734cf_row4_col10, #T_734cf_row4_col11, #T_734cf_row4_col12, #T_734cf_row4_col13, #T_734cf_row4_col14, #T_734cf_row4_col15, #T_734cf_row4_col16, #T_734cf_row4_col17, #T_734cf_row4_col18, #T_734cf_row4_col19, #T_734cf_row4_col20, #T_734cf_row4_col21, #T_734cf_row4_col22, #T_734cf_row4_col23, #T_734cf_row4_col24, #T_734cf_row4_col25, #T_734cf_row4_col26, #T_734cf_row4_col27, #T_734cf_row5_col0, #T_734cf_row5_col1, #T_734cf_row5_col2, #T_734cf_row5_col3, #T_734cf_row5_col4, #T_734cf_row5_col5, #T_734cf_row5_col6, #T_734cf_row5_col7, #T_734cf_row5_col8, #T_734cf_row5_col20, #T_734cf_row5_col21, #T_734cf_row5_col22, #T_734cf_row5_col23, #T_734cf_row5_col24, #T_734cf_row5_col25, #T_734cf_row5_col26, #T_734cf_row5_col27, #T_734cf_row6_col0, #T_734cf_row6_col1, #T_734cf_row6_col26, #T_734cf_row6_col27, #T_734cf_row7_col26, #T_734cf_row7_col27, #T_734cf_row8_col26, #T_734cf_row8_col27, #T_734cf_row13_col0, #T_734cf_row13_col27, #T_734cf_row14_col0, #T_734cf_row14_col26, #T_734cf_row14_col27, #T_734cf_row15_col1, #T_734cf_row15_col26, #T_734cf_row15_col27, #T_734cf_row16_col1, #T_734cf_row16_col2, #T_734cf_row16_col26, #T_734cf_row16_col27, #T_734cf_row17_col0, #T_734cf_row17_col2, #T_734cf_row17_col27, #T_734cf_row18_col1, #T_734cf_row18_col27, #T_734cf_row19_col0, #T_734cf_row19_col3, #T_734cf_row19_col26, #T_734cf_row19_col27, #T_734cf_row20_col0, #T_734cf_row20_col1, #T_734cf_row20_col2, #T_734cf_row20_col3, #T_734cf_row20_col4, #T_734cf_row20_col21, #T_734cf_row20_col26, #T_734cf_row20_col27, #T_734cf_row21_col0, #T_734cf_row21_col1, #T_734cf_row21_col2, #T_734cf_row21_col3, #T_734cf_row21_col4, #T_734cf_row21_col21, #T_734cf_row21_col23, #T_734cf_row21_col26, #T_734cf_row21_col27, #T_734cf_row22_col0, #T_734cf_row22_col1, #T_734cf_row22_col2, #T_734cf_row22_col3, #T_734cf_row22_col21, #T_734cf_row22_col23, #T_734cf_row22_col26, #T_734cf_row22_col27, #T_734cf_row23_col0, #T_734cf_row23_col1, #T_734cf_row23_col2, #T_734cf_row23_col3, #T_734cf_row23_col21, #T_734cf_row23_col23, #T_734cf_row23_col26, #T_734cf_row23_col27, #T_734cf_row24_col0, #T_734cf_row24_col1, #T_734cf_row24_col2, #T_734cf_row24_col15, #T_734cf_row24_col21, #T_734cf_row24_col23, #T_734cf_row24_col26, #T_734cf_row24_col27, #T_734cf_row25_col0, #T_734cf_row25_col1, #T_734cf_row25_col2, #T_734cf_row25_col3, #T_734cf_row25_col21, #T_734cf_row25_col23, #T_734cf_row25_col25, #T_734cf_row25_col26, #T_734cf_row25_col27, #T_734cf_row26_col0, #T_734cf_row26_col1, #T_734cf_row26_col2, #T_734cf_row26_col3, #T_734cf_row26_col4, #T_734cf_row26_col20, #T_734cf_row26_col21, #T_734cf_row26_col23, #T_734cf_row26_col24, #T_734cf_row26_col26, #T_734cf_row26_col27, #T_734cf_row27_col0, #T_734cf_row27_col1, #T_734cf_row27_col2, #T_734cf_row27_col3, #T_734cf_row27_col4, #T_734cf_row27_col5, #T_734cf_row27_col6, #T_734cf_row27_col7, #T_734cf_row27_col8, #T_734cf_row27_col9, #T_734cf_row27_col18, #T_734cf_row27_col19, #T_734cf_row27_col20, #T_734cf_row27_col21, #T_734cf_row27_col22, #T_734cf_row27_col23, #T_734cf_row27_col24, #T_734cf_row27_col25, #T_734cf_row27_col26, #T_734cf_row27_col27 {\n",
              "  font-size: 6pt;\n",
              "  background-color: #ffffff;\n",
              "  color: #000000;\n",
              "}\n",
              "#T_734cf_row5_col9, #T_734cf_row5_col10, #T_734cf_row6_col25, #T_734cf_row17_col1, #T_734cf_row18_col2, #T_734cf_row18_col3, #T_734cf_row19_col2, #T_734cf_row19_col4, #T_734cf_row19_col21, #T_734cf_row20_col23, #T_734cf_row21_col20, #T_734cf_row21_col22, #T_734cf_row22_col4, #T_734cf_row22_col5, #T_734cf_row22_col20, #T_734cf_row22_col22, #T_734cf_row23_col20, #T_734cf_row23_col22, #T_734cf_row24_col3, #T_734cf_row24_col20, #T_734cf_row24_col22, #T_734cf_row25_col20, #T_734cf_row25_col22, #T_734cf_row26_col5, #T_734cf_row26_col19, #T_734cf_row26_col22, #T_734cf_row27_col17 {\n",
              "  font-size: 6pt;\n",
              "  background-color: #fefefe;\n",
              "  color: #000000;\n",
              "}\n",
              "#T_734cf_row5_col11, #T_734cf_row11_col21, #T_734cf_row13_col22 {\n",
              "  font-size: 6pt;\n",
              "  background-color: #d9d9d9;\n",
              "  color: #000000;\n",
              "}\n",
              "#T_734cf_row5_col12, #T_734cf_row5_col13 {\n",
              "  font-size: 6pt;\n",
              "  background-color: #939393;\n",
              "  color: #f1f1f1;\n",
              "}\n",
              "#T_734cf_row5_col14 {\n",
              "  font-size: 6pt;\n",
              "  background-color: #3d3d3d;\n",
              "  color: #f1f1f1;\n",
              "}\n",
              "#T_734cf_row5_col15, #T_734cf_row5_col16, #T_734cf_row5_col17, #T_734cf_row6_col18, #T_734cf_row6_col19, #T_734cf_row6_col20, #T_734cf_row8_col21, #T_734cf_row8_col24, #T_734cf_row9_col3, #T_734cf_row9_col4, #T_734cf_row9_col22, #T_734cf_row9_col23, #T_734cf_row9_col25, #T_734cf_row9_col27, #T_734cf_row10_col0, #T_734cf_row10_col1, #T_734cf_row10_col2, #T_734cf_row10_col3, #T_734cf_row10_col4, #T_734cf_row12_col26, #T_734cf_row13_col12, #T_734cf_row13_col13, #T_734cf_row13_col14, #T_734cf_row14_col11, #T_734cf_row14_col12, #T_734cf_row17_col26, #T_734cf_row19_col5, #T_734cf_row19_col6, #T_734cf_row19_col7, #T_734cf_row20_col5, #T_734cf_row20_col6, #T_734cf_row20_col7, #T_734cf_row20_col8, #T_734cf_row21_col6, #T_734cf_row21_col9, #T_734cf_row21_col18, #T_734cf_row22_col10 {\n",
              "  font-size: 6pt;\n",
              "  background-color: #000000;\n",
              "  color: #f1f1f1;\n",
              "}\n",
              "#T_734cf_row5_col18 {\n",
              "  font-size: 6pt;\n",
              "  background-color: #8a8a8a;\n",
              "  color: #f1f1f1;\n",
              "}\n",
              "#T_734cf_row5_col19 {\n",
              "  font-size: 6pt;\n",
              "  background-color: #8d8d8d;\n",
              "  color: #f1f1f1;\n",
              "}\n",
              "#T_734cf_row6_col2, #T_734cf_row6_col5, #T_734cf_row6_col6, #T_734cf_row6_col21, #T_734cf_row15_col2, #T_734cf_row17_col7, #T_734cf_row18_col4, #T_734cf_row19_col9, #T_734cf_row19_col20, #T_734cf_row19_col22, #T_734cf_row19_col23, #T_734cf_row22_col19, #T_734cf_row22_col24, #T_734cf_row23_col4, #T_734cf_row23_col19, #T_734cf_row23_col24, #T_734cf_row24_col6, #T_734cf_row24_col19, #T_734cf_row25_col4, #T_734cf_row25_col6, #T_734cf_row25_col19, #T_734cf_row26_col25, #T_734cf_row27_col14 {\n",
              "  font-size: 6pt;\n",
              "  background-color: #fcfcfc;\n",
              "  color: #000000;\n",
              "}\n",
              "#T_734cf_row6_col3, #T_734cf_row15_col0, #T_734cf_row17_col3, #T_734cf_row17_col5, #T_734cf_row17_col6, #T_734cf_row18_col8, #T_734cf_row18_col21, #T_734cf_row20_col20, #T_734cf_row20_col22, #T_734cf_row23_col5, #T_734cf_row23_col6, #T_734cf_row24_col5, #T_734cf_row24_col24, #T_734cf_row24_col25, #T_734cf_row25_col5, #T_734cf_row25_col24, #T_734cf_row26_col6, #T_734cf_row27_col10, #T_734cf_row27_col11, #T_734cf_row27_col12, #T_734cf_row27_col13, #T_734cf_row27_col15, #T_734cf_row27_col16 {\n",
              "  font-size: 6pt;\n",
              "  background-color: #fdfdfd;\n",
              "  color: #000000;\n",
              "}\n",
              "#T_734cf_row6_col4, #T_734cf_row8_col13, #T_734cf_row16_col3, #T_734cf_row16_col7, #T_734cf_row17_col4, #T_734cf_row17_col21, #T_734cf_row18_col20, #T_734cf_row20_col9, #T_734cf_row26_col7 {\n",
              "  font-size: 6pt;\n",
              "  background-color: #fafafa;\n",
              "  color: #000000;\n",
              "}\n",
              "#T_734cf_row6_col7, #T_734cf_row14_col1, #T_734cf_row16_col5, #T_734cf_row16_col6, #T_734cf_row17_col8, #T_734cf_row18_col9, #T_734cf_row19_col1, #T_734cf_row21_col19, #T_734cf_row21_col24, #T_734cf_row24_col4, #T_734cf_row26_col18 {\n",
              "  font-size: 6pt;\n",
              "  background-color: #fbfbfb;\n",
              "  color: #000000;\n",
              "}\n",
              "#T_734cf_row6_col8, #T_734cf_row11_col26, #T_734cf_row15_col5, #T_734cf_row16_col21, #T_734cf_row20_col24, #T_734cf_row24_col18 {\n",
              "  font-size: 6pt;\n",
              "  background-color: #f8f8f8;\n",
              "  color: #000000;\n",
              "}\n",
              "#T_734cf_row6_col9, #T_734cf_row6_col23, #T_734cf_row7_col17, #T_734cf_row15_col8, #T_734cf_row15_col9, #T_734cf_row15_col21, #T_734cf_row16_col4, #T_734cf_row16_col11, #T_734cf_row17_col10, #T_734cf_row18_col23, #T_734cf_row19_col24 {\n",
              "  font-size: 6pt;\n",
              "  background-color: #f6f6f6;\n",
              "  color: #000000;\n",
              "}\n",
              "#T_734cf_row6_col10 {\n",
              "  font-size: 6pt;\n",
              "  background-color: #8c8c8c;\n",
              "  color: #f1f1f1;\n",
              "}\n",
              "#T_734cf_row6_col11, #T_734cf_row14_col14, #T_734cf_row22_col9 {\n",
              "  font-size: 6pt;\n",
              "  background-color: #101010;\n",
              "  color: #f1f1f1;\n",
              "}\n",
              "#T_734cf_row6_col12, #T_734cf_row9_col24 {\n",
              "  font-size: 6pt;\n",
              "  background-color: #161616;\n",
              "  color: #f1f1f1;\n",
              "}\n",
              "#T_734cf_row6_col13 {\n",
              "  font-size: 6pt;\n",
              "  background-color: #171717;\n",
              "  color: #f1f1f1;\n",
              "}\n",
              "#T_734cf_row6_col14, #T_734cf_row9_col2 {\n",
              "  font-size: 6pt;\n",
              "  background-color: #090909;\n",
              "  color: #f1f1f1;\n",
              "}\n",
              "#T_734cf_row6_col15, #T_734cf_row6_col16 {\n",
              "  font-size: 6pt;\n",
              "  background-color: #1d1d1d;\n",
              "  color: #f1f1f1;\n",
              "}\n",
              "#T_734cf_row6_col17 {\n",
              "  font-size: 6pt;\n",
              "  background-color: #1b1b1b;\n",
              "  color: #f1f1f1;\n",
              "}\n",
              "#T_734cf_row6_col22, #T_734cf_row18_col11 {\n",
              "  font-size: 6pt;\n",
              "  background-color: #f4f4f4;\n",
              "  color: #000000;\n",
              "}\n",
              "#T_734cf_row6_col24, #T_734cf_row15_col6, #T_734cf_row16_col8, #T_734cf_row17_col9, #T_734cf_row19_col16, #T_734cf_row25_col18, #T_734cf_row26_col17 {\n",
              "  font-size: 6pt;\n",
              "  background-color: #f9f9f9;\n",
              "  color: #000000;\n",
              "}\n",
              "#T_734cf_row7_col0, #T_734cf_row7_col1, #T_734cf_row7_col5, #T_734cf_row13_col21, #T_734cf_row14_col8, #T_734cf_row15_col4, #T_734cf_row21_col10, #T_734cf_row22_col25, #T_734cf_row26_col9, #T_734cf_row26_col15 {\n",
              "  font-size: 6pt;\n",
              "  background-color: #f1f1f1;\n",
              "  color: #000000;\n",
              "}\n",
              "#T_734cf_row7_col2, #T_734cf_row11_col25, #T_734cf_row12_col5, #T_734cf_row12_col21, #T_734cf_row14_col20, #T_734cf_row24_col16, #T_734cf_row26_col11, #T_734cf_row26_col13 {\n",
              "  font-size: 6pt;\n",
              "  background-color: #e7e7e7;\n",
              "  color: #000000;\n",
              "}\n",
              "#T_734cf_row7_col3, #T_734cf_row12_col7, #T_734cf_row16_col22, #T_734cf_row25_col15 {\n",
              "  font-size: 6pt;\n",
              "  background-color: #e1e1e1;\n",
              "  color: #000000;\n",
              "}\n",
              "#T_734cf_row7_col4, #T_734cf_row9_col6 {\n",
              "  font-size: 6pt;\n",
              "  background-color: #d3d3d3;\n",
              "  color: #000000;\n",
              "}\n",
              "#T_734cf_row7_col6, #T_734cf_row13_col6, #T_734cf_row14_col7, #T_734cf_row16_col0, #T_734cf_row16_col20 {\n",
              "  font-size: 6pt;\n",
              "  background-color: #f3f3f3;\n",
              "  color: #000000;\n",
              "}\n",
              "#T_734cf_row7_col7, #T_734cf_row8_col18, #T_734cf_row12_col24, #T_734cf_row18_col24, #T_734cf_row18_col25 {\n",
              "  font-size: 6pt;\n",
              "  background-color: #eaeaea;\n",
              "  color: #000000;\n",
              "}\n",
              "#T_734cf_row7_col8, #T_734cf_row13_col2, #T_734cf_row13_col23, #T_734cf_row15_col16, #T_734cf_row20_col11, #T_734cf_row25_col9 {\n",
              "  font-size: 6pt;\n",
              "  background-color: #dfdfdf;\n",
              "  color: #000000;\n",
              "}\n",
              "#T_734cf_row7_col9, #T_734cf_row19_col12 {\n",
              "  font-size: 6pt;\n",
              "  background-color: #cfcfcf;\n",
              "  color: #000000;\n",
              "}\n",
              "#T_734cf_row7_col10, #T_734cf_row8_col14 {\n",
              "  font-size: 6pt;\n",
              "  background-color: #dcdcdc;\n",
              "  color: #000000;\n",
              "}\n",
              "#T_734cf_row7_col11, #T_734cf_row8_col3 {\n",
              "  font-size: 6pt;\n",
              "  background-color: #686868;\n",
              "  color: #f1f1f1;\n",
              "}\n",
              "#T_734cf_row7_col12, #T_734cf_row7_col14, #T_734cf_row18_col17 {\n",
              "  font-size: 6pt;\n",
              "  background-color: #727272;\n",
              "  color: #f1f1f1;\n",
              "}\n",
              "#T_734cf_row7_col13, #T_734cf_row8_col2 {\n",
              "  font-size: 6pt;\n",
              "  background-color: #787878;\n",
              "  color: #f1f1f1;\n",
              "}\n",
              "#T_734cf_row7_col15, #T_734cf_row7_col25, #T_734cf_row10_col11, #T_734cf_row17_col14, #T_734cf_row23_col12, #T_734cf_row23_col13 {\n",
              "  font-size: 6pt;\n",
              "  background-color: #828282;\n",
              "  color: #f1f1f1;\n",
              "}\n",
              "#T_734cf_row7_col16, #T_734cf_row12_col20, #T_734cf_row14_col6, #T_734cf_row15_col3, #T_734cf_row15_col7, #T_734cf_row16_col9, #T_734cf_row17_col20, #T_734cf_row18_col10, #T_734cf_row18_col22, #T_734cf_row19_col10, #T_734cf_row22_col18, #T_734cf_row23_col18, #T_734cf_row23_col25, #T_734cf_row24_col7, #T_734cf_row25_col7, #T_734cf_row26_col8 {\n",
              "  font-size: 6pt;\n",
              "  background-color: #f7f7f7;\n",
              "  color: #000000;\n",
              "}\n",
              "#T_734cf_row7_col18, #T_734cf_row19_col14 {\n",
              "  font-size: 6pt;\n",
              "  background-color: #656565;\n",
              "  color: #f1f1f1;\n",
              "}\n",
              "#T_734cf_row7_col19, #T_734cf_row18_col7, #T_734cf_row22_col6 {\n",
              "  font-size: 6pt;\n",
              "  background-color: #545454;\n",
              "  color: #f1f1f1;\n",
              "}\n",
              "#T_734cf_row7_col20 {\n",
              "  font-size: 6pt;\n",
              "  background-color: #393939;\n",
              "  color: #f1f1f1;\n",
              "}\n",
              "#T_734cf_row7_col21, #T_734cf_row9_col18 {\n",
              "  font-size: 6pt;\n",
              "  background-color: #3f3f3f;\n",
              "  color: #f1f1f1;\n",
              "}\n",
              "#T_734cf_row7_col22, #T_734cf_row10_col13 {\n",
              "  font-size: 6pt;\n",
              "  background-color: #9e9e9e;\n",
              "  color: #f1f1f1;\n",
              "}\n",
              "#T_734cf_row7_col23 {\n",
              "  font-size: 6pt;\n",
              "  background-color: #898989;\n",
              "  color: #f1f1f1;\n",
              "}\n",
              "#T_734cf_row7_col24, #T_734cf_row20_col15 {\n",
              "  font-size: 6pt;\n",
              "  background-color: #929292;\n",
              "  color: #f1f1f1;\n",
              "}\n",
              "#T_734cf_row8_col0, #T_734cf_row10_col14, #T_734cf_row12_col4, #T_734cf_row13_col25 {\n",
              "  font-size: 6pt;\n",
              "  background-color: #9d9d9d;\n",
              "  color: #f1f1f1;\n",
              "}\n",
              "#T_734cf_row8_col1, #T_734cf_row13_col10, #T_734cf_row13_col16, #T_734cf_row18_col5, #T_734cf_row20_col19 {\n",
              "  font-size: 6pt;\n",
              "  background-color: #999999;\n",
              "  color: #f1f1f1;\n",
              "}\n",
              "#T_734cf_row8_col4 {\n",
              "  font-size: 6pt;\n",
              "  background-color: #616161;\n",
              "  color: #f1f1f1;\n",
              "}\n",
              "#T_734cf_row8_col5, #T_734cf_row10_col6, #T_734cf_row22_col13 {\n",
              "  font-size: 6pt;\n",
              "  background-color: #d6d6d6;\n",
              "  color: #000000;\n",
              "}\n",
              "#T_734cf_row8_col6 {\n",
              "  font-size: 6pt;\n",
              "  background-color: #e0e0e0;\n",
              "  color: #000000;\n",
              "}\n",
              "#T_734cf_row8_col7, #T_734cf_row13_col4 {\n",
              "  font-size: 6pt;\n",
              "  background-color: #cbcbcb;\n",
              "  color: #000000;\n",
              "}\n",
              "#T_734cf_row8_col8 {\n",
              "  font-size: 6pt;\n",
              "  background-color: #b0b0b0;\n",
              "  color: #000000;\n",
              "}\n",
              "#T_734cf_row8_col9, #T_734cf_row20_col13, #T_734cf_row21_col13 {\n",
              "  font-size: 6pt;\n",
              "  background-color: #888888;\n",
              "  color: #f1f1f1;\n",
              "}\n",
              "#T_734cf_row8_col10, #T_734cf_row12_col2, #T_734cf_row14_col24 {\n",
              "  font-size: 6pt;\n",
              "  background-color: #a8a8a8;\n",
              "  color: #f1f1f1;\n",
              "}\n",
              "#T_734cf_row8_col11, #T_734cf_row11_col8 {\n",
              "  font-size: 6pt;\n",
              "  background-color: #bfbfbf;\n",
              "  color: #000000;\n",
              "}\n",
              "#T_734cf_row8_col12 {\n",
              "  font-size: 6pt;\n",
              "  background-color: #c9c9c9;\n",
              "  color: #000000;\n",
              "}\n",
              "#T_734cf_row8_col15, #T_734cf_row19_col17 {\n",
              "  font-size: 6pt;\n",
              "  background-color: #565656;\n",
              "  color: #f1f1f1;\n",
              "}\n",
              "#T_734cf_row8_col16, #T_734cf_row10_col10, #T_734cf_row11_col3 {\n",
              "  font-size: 6pt;\n",
              "  background-color: #555555;\n",
              "  color: #f1f1f1;\n",
              "}\n",
              "#T_734cf_row8_col17 {\n",
              "  font-size: 6pt;\n",
              "  background-color: #5b5b5b;\n",
              "  color: #f1f1f1;\n",
              "}\n",
              "#T_734cf_row8_col19, #T_734cf_row17_col17 {\n",
              "  font-size: 6pt;\n",
              "  background-color: #959595;\n",
              "  color: #f1f1f1;\n",
              "}\n",
              "#T_734cf_row8_col20 {\n",
              "  font-size: 6pt;\n",
              "  background-color: #6a6a6a;\n",
              "  color: #f1f1f1;\n",
              "}\n",
              "#T_734cf_row8_col22 {\n",
              "  font-size: 6pt;\n",
              "  background-color: #292929;\n",
              "  color: #f1f1f1;\n",
              "}\n",
              "#T_734cf_row8_col23, #T_734cf_row9_col21 {\n",
              "  font-size: 6pt;\n",
              "  background-color: #0f0f0f;\n",
              "  color: #f1f1f1;\n",
              "}\n",
              "#T_734cf_row8_col25 {\n",
              "  font-size: 6pt;\n",
              "  background-color: #1f1f1f;\n",
              "  color: #f1f1f1;\n",
              "}\n",
              "#T_734cf_row9_col0, #T_734cf_row9_col13 {\n",
              "  font-size: 6pt;\n",
              "  background-color: #575757;\n",
              "  color: #f1f1f1;\n",
              "}\n",
              "#T_734cf_row9_col1 {\n",
              "  font-size: 6pt;\n",
              "  background-color: #444444;\n",
              "  color: #f1f1f1;\n",
              "}\n",
              "#T_734cf_row9_col5, #T_734cf_row12_col17 {\n",
              "  font-size: 6pt;\n",
              "  background-color: #c1c1c1;\n",
              "  color: #000000;\n",
              "}\n",
              "#T_734cf_row9_col7, #T_734cf_row12_col22, #T_734cf_row20_col16 {\n",
              "  font-size: 6pt;\n",
              "  background-color: #b6b6b6;\n",
              "  color: #000000;\n",
              "}\n",
              "#T_734cf_row9_col8, #T_734cf_row10_col12 {\n",
              "  font-size: 6pt;\n",
              "  background-color: #919191;\n",
              "  color: #f1f1f1;\n",
              "}\n",
              "#T_734cf_row9_col9, #T_734cf_row23_col14 {\n",
              "  font-size: 6pt;\n",
              "  background-color: #696969;\n",
              "  color: #f1f1f1;\n",
              "}\n",
              "#T_734cf_row9_col10, #T_734cf_row11_col0 {\n",
              "  font-size: 6pt;\n",
              "  background-color: #212121;\n",
              "  color: #f1f1f1;\n",
              "}\n",
              "#T_734cf_row9_col11, #T_734cf_row15_col25 {\n",
              "  font-size: 6pt;\n",
              "  background-color: #515151;\n",
              "  color: #f1f1f1;\n",
              "}\n",
              "#T_734cf_row9_col12, #T_734cf_row9_col16 {\n",
              "  font-size: 6pt;\n",
              "  background-color: #535353;\n",
              "  color: #f1f1f1;\n",
              "}\n",
              "#T_734cf_row9_col14, #T_734cf_row10_col23, #T_734cf_row10_col25 {\n",
              "  font-size: 6pt;\n",
              "  background-color: #4e4e4e;\n",
              "  color: #f1f1f1;\n",
              "}\n",
              "#T_734cf_row9_col15 {\n",
              "  font-size: 6pt;\n",
              "  background-color: #5c5c5c;\n",
              "  color: #f1f1f1;\n",
              "}\n",
              "#T_734cf_row9_col17, #T_734cf_row17_col18 {\n",
              "  font-size: 6pt;\n",
              "  background-color: #4a4a4a;\n",
              "  color: #f1f1f1;\n",
              "}\n",
              "#T_734cf_row9_col19 {\n",
              "  font-size: 6pt;\n",
              "  background-color: #b5b5b5;\n",
              "  color: #000000;\n",
              "}\n",
              "#T_734cf_row9_col20, #T_734cf_row12_col16, #T_734cf_row21_col15 {\n",
              "  font-size: 6pt;\n",
              "  background-color: #7e7e7e;\n",
              "  color: #f1f1f1;\n",
              "}\n",
              "#T_734cf_row9_col26, #T_734cf_row22_col7 {\n",
              "  font-size: 6pt;\n",
              "  background-color: #050505;\n",
              "  color: #f1f1f1;\n",
              "}\n",
              "#T_734cf_row10_col5 {\n",
              "  font-size: 6pt;\n",
              "  background-color: #c4c4c4;\n",
              "  color: #000000;\n",
              "}\n",
              "#T_734cf_row10_col7, #T_734cf_row13_col18, #T_734cf_row14_col16, #T_734cf_row16_col17 {\n",
              "  font-size: 6pt;\n",
              "  background-color: #bebebe;\n",
              "  color: #000000;\n",
              "}\n",
              "#T_734cf_row10_col8, #T_734cf_row10_col15, #T_734cf_row19_col19 {\n",
              "  font-size: 6pt;\n",
              "  background-color: #9f9f9f;\n",
              "  color: #f1f1f1;\n",
              "}\n",
              "#T_734cf_row10_col9, #T_734cf_row13_col26 {\n",
              "  font-size: 6pt;\n",
              "  background-color: #7f7f7f;\n",
              "  color: #f1f1f1;\n",
              "}\n",
              "#T_734cf_row10_col16, #T_734cf_row12_col0, #T_734cf_row21_col14 {\n",
              "  font-size: 6pt;\n",
              "  background-color: #838383;\n",
              "  color: #f1f1f1;\n",
              "}\n",
              "#T_734cf_row10_col17, #T_734cf_row11_col19, #T_734cf_row14_col18, #T_734cf_row16_col14 {\n",
              "  font-size: 6pt;\n",
              "  background-color: #ababab;\n",
              "  color: #000000;\n",
              "}\n",
              "#T_734cf_row10_col18, #T_734cf_row11_col13, #T_734cf_row13_col17 {\n",
              "  font-size: 6pt;\n",
              "  background-color: #cdcdcd;\n",
              "  color: #000000;\n",
              "}\n",
              "#T_734cf_row10_col19 {\n",
              "  font-size: 6pt;\n",
              "  background-color: #b8b8b8;\n",
              "  color: #000000;\n",
              "}\n",
              "#T_734cf_row10_col20 {\n",
              "  font-size: 6pt;\n",
              "  background-color: #7d7d7d;\n",
              "  color: #f1f1f1;\n",
              "}\n",
              "#T_734cf_row10_col21, #T_734cf_row11_col22, #T_734cf_row16_col18 {\n",
              "  font-size: 6pt;\n",
              "  background-color: #6d6d6d;\n",
              "  color: #f1f1f1;\n",
              "}\n",
              "#T_734cf_row10_col22, #T_734cf_row12_col11, #T_734cf_row23_col9 {\n",
              "  font-size: 6pt;\n",
              "  background-color: #222222;\n",
              "  color: #f1f1f1;\n",
              "}\n",
              "#T_734cf_row10_col24 {\n",
              "  font-size: 6pt;\n",
              "  background-color: #777777;\n",
              "  color: #f1f1f1;\n",
              "}\n",
              "#T_734cf_row10_col26, #T_734cf_row18_col18, #T_734cf_row22_col17 {\n",
              "  font-size: 6pt;\n",
              "  background-color: #272727;\n",
              "  color: #f1f1f1;\n",
              "}\n",
              "#T_734cf_row10_col27, #T_734cf_row11_col24, #T_734cf_row12_col23, #T_734cf_row14_col17, #T_734cf_row15_col14, #T_734cf_row16_col23 {\n",
              "  font-size: 6pt;\n",
              "  background-color: #d4d4d4;\n",
              "  color: #000000;\n",
              "}\n",
              "#T_734cf_row11_col1 {\n",
              "  font-size: 6pt;\n",
              "  background-color: #484848;\n",
              "  color: #f1f1f1;\n",
              "}\n",
              "#T_734cf_row11_col2 {\n",
              "  font-size: 6pt;\n",
              "  background-color: #434343;\n",
              "  color: #f1f1f1;\n",
              "}\n",
              "#T_734cf_row11_col4 {\n",
              "  font-size: 6pt;\n",
              "  background-color: #505050;\n",
              "  color: #f1f1f1;\n",
              "}\n",
              "#T_734cf_row11_col5, #T_734cf_row11_col12 {\n",
              "  font-size: 6pt;\n",
              "  background-color: #d7d7d7;\n",
              "  color: #000000;\n",
              "}\n",
              "#T_734cf_row11_col6, #T_734cf_row14_col4, #T_734cf_row18_col12 {\n",
              "  font-size: 6pt;\n",
              "  background-color: #e2e2e2;\n",
              "  color: #000000;\n",
              "}\n",
              "#T_734cf_row11_col7, #T_734cf_row12_col25, #T_734cf_row14_col23, #T_734cf_row15_col17, #T_734cf_row16_col25 {\n",
              "  font-size: 6pt;\n",
              "  background-color: #d1d1d1;\n",
              "  color: #000000;\n",
              "}\n",
              "#T_734cf_row11_col9 {\n",
              "  font-size: 6pt;\n",
              "  background-color: #adadad;\n",
              "  color: #000000;\n",
              "}\n",
              "#T_734cf_row11_col10, #T_734cf_row19_col13 {\n",
              "  font-size: 6pt;\n",
              "  background-color: #989898;\n",
              "  color: #f1f1f1;\n",
              "}\n",
              "#T_734cf_row11_col11, #T_734cf_row17_col24 {\n",
              "  font-size: 6pt;\n",
              "  background-color: #c6c6c6;\n",
              "  color: #000000;\n",
              "}\n",
              "#T_734cf_row11_col14, #T_734cf_row11_col16, #T_734cf_row12_col27, #T_734cf_row25_col11 {\n",
              "  font-size: 6pt;\n",
              "  background-color: #c7c7c7;\n",
              "  color: #000000;\n",
              "}\n",
              "#T_734cf_row11_col15, #T_734cf_row13_col3, #T_734cf_row15_col10 {\n",
              "  font-size: 6pt;\n",
              "  background-color: #dadada;\n",
              "  color: #000000;\n",
              "}\n",
              "#T_734cf_row11_col17, #T_734cf_row14_col15, #T_734cf_row17_col19, #T_734cf_row20_col12 {\n",
              "  font-size: 6pt;\n",
              "  background-color: #bababa;\n",
              "  color: #000000;\n",
              "}\n",
              "#T_734cf_row11_col18, #T_734cf_row18_col16 {\n",
              "  font-size: 6pt;\n",
              "  background-color: #c8c8c8;\n",
              "  color: #000000;\n",
              "}\n",
              "#T_734cf_row11_col20 {\n",
              "  font-size: 6pt;\n",
              "  background-color: #707070;\n",
              "  color: #f1f1f1;\n",
              "}\n",
              "#T_734cf_row11_col23, #T_734cf_row15_col11 {\n",
              "  font-size: 6pt;\n",
              "  background-color: #a0a0a0;\n",
              "  color: #f1f1f1;\n",
              "}\n",
              "#T_734cf_row11_col27, #T_734cf_row14_col2, #T_734cf_row14_col5, #T_734cf_row14_col21, #T_734cf_row16_col10, #T_734cf_row17_col11, #T_734cf_row25_col17, #T_734cf_row26_col16 {\n",
              "  font-size: 6pt;\n",
              "  background-color: #f5f5f5;\n",
              "  color: #000000;\n",
              "}\n",
              "#T_734cf_row12_col1, #T_734cf_row17_col16, #T_734cf_row17_col25 {\n",
              "  font-size: 6pt;\n",
              "  background-color: #aaaaaa;\n",
              "  color: #f1f1f1;\n",
              "}\n",
              "#T_734cf_row12_col3, #T_734cf_row18_col19 {\n",
              "  font-size: 6pt;\n",
              "  background-color: #a9a9a9;\n",
              "  color: #f1f1f1;\n",
              "}\n",
              "#T_734cf_row12_col6, #T_734cf_row17_col12, #T_734cf_row25_col16 {\n",
              "  font-size: 6pt;\n",
              "  background-color: #ededed;\n",
              "  color: #000000;\n",
              "}\n",
              "#T_734cf_row12_col8 {\n",
              "  font-size: 6pt;\n",
              "  background-color: #d5d5d5;\n",
              "  color: #000000;\n",
              "}\n",
              "#T_734cf_row12_col9 {\n",
              "  font-size: 6pt;\n",
              "  background-color: #d0d0d0;\n",
              "  color: #000000;\n",
              "}\n",
              "#T_734cf_row12_col10 {\n",
              "  font-size: 6pt;\n",
              "  background-color: #c0c0c0;\n",
              "  color: #000000;\n",
              "}\n",
              "#T_734cf_row12_col12 {\n",
              "  font-size: 6pt;\n",
              "  background-color: #131313;\n",
              "  color: #f1f1f1;\n",
              "}\n",
              "#T_734cf_row12_col13 {\n",
              "  font-size: 6pt;\n",
              "  background-color: #0c0c0c;\n",
              "  color: #f1f1f1;\n",
              "}\n",
              "#T_734cf_row12_col14 {\n",
              "  font-size: 6pt;\n",
              "  background-color: #020202;\n",
              "  color: #f1f1f1;\n",
              "}\n",
              "#T_734cf_row12_col15 {\n",
              "  font-size: 6pt;\n",
              "  background-color: #3c3c3c;\n",
              "  color: #f1f1f1;\n",
              "}\n",
              "#T_734cf_row12_col18, #T_734cf_row25_col12 {\n",
              "  font-size: 6pt;\n",
              "  background-color: #c5c5c5;\n",
              "  color: #000000;\n",
              "}\n",
              "#T_734cf_row12_col19, #T_734cf_row15_col19 {\n",
              "  font-size: 6pt;\n",
              "  background-color: #dddddd;\n",
              "  color: #000000;\n",
              "}\n",
              "#T_734cf_row13_col1, #T_734cf_row14_col3, #T_734cf_row15_col20, #T_734cf_row19_col11, #T_734cf_row25_col8 {\n",
              "  font-size: 6pt;\n",
              "  background-color: #eeeeee;\n",
              "  color: #000000;\n",
              "}\n",
              "#T_734cf_row13_col5, #T_734cf_row14_col19, #T_734cf_row20_col10 {\n",
              "  font-size: 6pt;\n",
              "  background-color: #f0f0f0;\n",
              "  color: #000000;\n",
              "}\n",
              "#T_734cf_row13_col7, #T_734cf_row18_col0 {\n",
              "  font-size: 6pt;\n",
              "  background-color: #ececec;\n",
              "  color: #000000;\n",
              "}\n",
              "#T_734cf_row13_col8, #T_734cf_row13_col9, #T_734cf_row20_col25, #T_734cf_row21_col25, #T_734cf_row24_col14, #T_734cf_row26_col10 {\n",
              "  font-size: 6pt;\n",
              "  background-color: #e5e5e5;\n",
              "  color: #000000;\n",
              "}\n",
              "#T_734cf_row13_col11 {\n",
              "  font-size: 6pt;\n",
              "  background-color: #070707;\n",
              "  color: #f1f1f1;\n",
              "}\n",
              "#T_734cf_row13_col15 {\n",
              "  font-size: 6pt;\n",
              "  background-color: #4d4d4d;\n",
              "  color: #f1f1f1;\n",
              "}\n",
              "#T_734cf_row13_col19 {\n",
              "  font-size: 6pt;\n",
              "  background-color: #9c9c9c;\n",
              "  color: #f1f1f1;\n",
              "}\n",
              "#T_734cf_row13_col20, #T_734cf_row14_col22, #T_734cf_row15_col22, #T_734cf_row16_col16 {\n",
              "  font-size: 6pt;\n",
              "  background-color: #dbdbdb;\n",
              "  color: #000000;\n",
              "}\n",
              "#T_734cf_row13_col24, #T_734cf_row15_col23, #T_734cf_row16_col19, #T_734cf_row21_col11, #T_734cf_row24_col9 {\n",
              "  font-size: 6pt;\n",
              "  background-color: #cccccc;\n",
              "  color: #000000;\n",
              "}\n",
              "#T_734cf_row14_col9, #T_734cf_row16_col12, #T_734cf_row24_col17 {\n",
              "  font-size: 6pt;\n",
              "  background-color: #f2f2f2;\n",
              "  color: #000000;\n",
              "}\n",
              "#T_734cf_row14_col10 {\n",
              "  font-size: 6pt;\n",
              "  background-color: #858585;\n",
              "  color: #f1f1f1;\n",
              "}\n",
              "#T_734cf_row14_col13, #T_734cf_row21_col8 {\n",
              "  font-size: 6pt;\n",
              "  background-color: #030303;\n",
              "  color: #f1f1f1;\n",
              "}\n",
              "#T_734cf_row14_col25 {\n",
              "  font-size: 6pt;\n",
              "  background-color: #2e2e2e;\n",
              "  color: #f1f1f1;\n",
              "}\n",
              "#T_734cf_row15_col12, #T_734cf_row23_col7 {\n",
              "  font-size: 6pt;\n",
              "  background-color: #a4a4a4;\n",
              "  color: #f1f1f1;\n",
              "}\n",
              "#T_734cf_row15_col13 {\n",
              "  font-size: 6pt;\n",
              "  background-color: #ebebeb;\n",
              "  color: #000000;\n",
              "}\n",
              "#T_734cf_row15_col15, #T_734cf_row15_col18, #T_734cf_row15_col24 {\n",
              "  font-size: 6pt;\n",
              "  background-color: #8f8f8f;\n",
              "  color: #f1f1f1;\n",
              "}\n",
              "#T_734cf_row16_col13 {\n",
              "  font-size: 6pt;\n",
              "  background-color: #e4e4e4;\n",
              "  color: #000000;\n",
              "}\n",
              "#T_734cf_row16_col15, #T_734cf_row24_col11 {\n",
              "  font-size: 6pt;\n",
              "  background-color: #6c6c6c;\n",
              "  color: #f1f1f1;\n",
              "}\n",
              "#T_734cf_row16_col24 {\n",
              "  font-size: 6pt;\n",
              "  background-color: #b2b2b2;\n",
              "  color: #000000;\n",
              "}\n",
              "#T_734cf_row17_col13, #T_734cf_row22_col12 {\n",
              "  font-size: 6pt;\n",
              "  background-color: #cecece;\n",
              "  color: #000000;\n",
              "}\n",
              "#T_734cf_row17_col15, #T_734cf_row23_col15 {\n",
              "  font-size: 6pt;\n",
              "  background-color: #5e5e5e;\n",
              "  color: #f1f1f1;\n",
              "}\n",
              "#T_734cf_row17_col22, #T_734cf_row19_col25, #T_734cf_row23_col17, #T_734cf_row24_col8 {\n",
              "  font-size: 6pt;\n",
              "  background-color: #efefef;\n",
              "  color: #000000;\n",
              "}\n",
              "#T_734cf_row17_col23, #T_734cf_row26_col14 {\n",
              "  font-size: 6pt;\n",
              "  background-color: #e9e9e9;\n",
              "  color: #000000;\n",
              "}\n",
              "#T_734cf_row18_col6, #T_734cf_row21_col7 {\n",
              "  font-size: 6pt;\n",
              "  background-color: #010101;\n",
              "  color: #f1f1f1;\n",
              "}\n",
              "#T_734cf_row18_col13 {\n",
              "  font-size: 6pt;\n",
              "  background-color: #b3b3b3;\n",
              "  color: #000000;\n",
              "}\n",
              "#T_734cf_row18_col14, #T_734cf_row22_col15 {\n",
              "  font-size: 6pt;\n",
              "  background-color: #6b6b6b;\n",
              "  color: #f1f1f1;\n",
              "}\n",
              "#T_734cf_row18_col15 {\n",
              "  font-size: 6pt;\n",
              "  background-color: #626262;\n",
              "  color: #f1f1f1;\n",
              "}\n",
              "#T_734cf_row18_col26, #T_734cf_row20_col17 {\n",
              "  font-size: 6pt;\n",
              "  background-color: #404040;\n",
              "  color: #f1f1f1;\n",
              "}\n",
              "#T_734cf_row19_col8, #T_734cf_row21_col5 {\n",
              "  font-size: 6pt;\n",
              "  background-color: #979797;\n",
              "  color: #f1f1f1;\n",
              "}\n",
              "#T_734cf_row19_col15, #T_734cf_row24_col12 {\n",
              "  font-size: 6pt;\n",
              "  background-color: #767676;\n",
              "  color: #f1f1f1;\n",
              "}\n",
              "#T_734cf_row19_col18 {\n",
              "  font-size: 6pt;\n",
              "  background-color: #111111;\n",
              "  color: #f1f1f1;\n",
              "}\n",
              "#T_734cf_row20_col14, #T_734cf_row23_col11 {\n",
              "  font-size: 6pt;\n",
              "  background-color: #6e6e6e;\n",
              "  color: #f1f1f1;\n",
              "}\n",
              "#T_734cf_row20_col18 {\n",
              "  font-size: 6pt;\n",
              "  background-color: #060606;\n",
              "  color: #f1f1f1;\n",
              "}\n",
              "#T_734cf_row21_col12 {\n",
              "  font-size: 6pt;\n",
              "  background-color: #a5a5a5;\n",
              "  color: #f1f1f1;\n",
              "}\n",
              "#T_734cf_row21_col16 {\n",
              "  font-size: 6pt;\n",
              "  background-color: #5a5a5a;\n",
              "  color: #f1f1f1;\n",
              "}\n",
              "#T_734cf_row21_col17 {\n",
              "  font-size: 6pt;\n",
              "  background-color: #303030;\n",
              "  color: #f1f1f1;\n",
              "}\n",
              "#T_734cf_row22_col8 {\n",
              "  font-size: 6pt;\n",
              "  background-color: #0e0e0e;\n",
              "  color: #f1f1f1;\n",
              "}\n",
              "#T_734cf_row22_col11 {\n",
              "  font-size: 6pt;\n",
              "  background-color: #666666;\n",
              "  color: #f1f1f1;\n",
              "}\n",
              "#T_734cf_row22_col14 {\n",
              "  font-size: 6pt;\n",
              "  background-color: #7b7b7b;\n",
              "  color: #f1f1f1;\n",
              "}\n",
              "#T_734cf_row22_col16 {\n",
              "  font-size: 6pt;\n",
              "  background-color: #4b4b4b;\n",
              "  color: #f1f1f1;\n",
              "}\n",
              "#T_734cf_row23_col8 {\n",
              "  font-size: 6pt;\n",
              "  background-color: #1a1a1a;\n",
              "  color: #f1f1f1;\n",
              "}\n",
              "#T_734cf_row23_col10 {\n",
              "  font-size: 6pt;\n",
              "  background-color: #141414;\n",
              "  color: #f1f1f1;\n",
              "}\n",
              "#T_734cf_row23_col16 {\n",
              "  font-size: 6pt;\n",
              "  background-color: #878787;\n",
              "  color: #f1f1f1;\n",
              "}\n",
              "#T_734cf_row24_col10 {\n",
              "  font-size: 6pt;\n",
              "  background-color: #818181;\n",
              "  color: #f1f1f1;\n",
              "}\n",
              "#T_734cf_row24_col13 {\n",
              "  font-size: 6pt;\n",
              "  background-color: #717171;\n",
              "  color: #f1f1f1;\n",
              "}\n",
              "#T_734cf_row25_col10 {\n",
              "  font-size: 6pt;\n",
              "  background-color: #c3c3c3;\n",
              "  color: #000000;\n",
              "}\n",
              "#T_734cf_row25_col13 {\n",
              "  font-size: 6pt;\n",
              "  background-color: #cacaca;\n",
              "  color: #000000;\n",
              "}\n",
              "#T_734cf_row25_col14 {\n",
              "  font-size: 6pt;\n",
              "  background-color: #d2d2d2;\n",
              "  color: #000000;\n",
              "}\n",
              "#T_734cf_row26_col12 {\n",
              "  font-size: 6pt;\n",
              "  background-color: #e6e6e6;\n",
              "  color: #000000;\n",
              "}\n",
              "</style>\n",
              "<table id=\"T_734cf_\" class=\"dataframe\">\n",
              "  <thead>\n",
              "    <tr>\n",
              "      <th class=\"blank level0\" >&nbsp;</th>\n",
              "      <th class=\"col_heading level0 col0\" >0</th>\n",
              "      <th class=\"col_heading level0 col1\" >1</th>\n",
              "      <th class=\"col_heading level0 col2\" >2</th>\n",
              "      <th class=\"col_heading level0 col3\" >3</th>\n",
              "      <th class=\"col_heading level0 col4\" >4</th>\n",
              "      <th class=\"col_heading level0 col5\" >5</th>\n",
              "      <th class=\"col_heading level0 col6\" >6</th>\n",
              "      <th class=\"col_heading level0 col7\" >7</th>\n",
              "      <th class=\"col_heading level0 col8\" >8</th>\n",
              "      <th class=\"col_heading level0 col9\" >9</th>\n",
              "      <th class=\"col_heading level0 col10\" >10</th>\n",
              "      <th class=\"col_heading level0 col11\" >11</th>\n",
              "      <th class=\"col_heading level0 col12\" >12</th>\n",
              "      <th class=\"col_heading level0 col13\" >13</th>\n",
              "      <th class=\"col_heading level0 col14\" >14</th>\n",
              "      <th class=\"col_heading level0 col15\" >15</th>\n",
              "      <th class=\"col_heading level0 col16\" >16</th>\n",
              "      <th class=\"col_heading level0 col17\" >17</th>\n",
              "      <th class=\"col_heading level0 col18\" >18</th>\n",
              "      <th class=\"col_heading level0 col19\" >19</th>\n",
              "      <th class=\"col_heading level0 col20\" >20</th>\n",
              "      <th class=\"col_heading level0 col21\" >21</th>\n",
              "      <th class=\"col_heading level0 col22\" >22</th>\n",
              "      <th class=\"col_heading level0 col23\" >23</th>\n",
              "      <th class=\"col_heading level0 col24\" >24</th>\n",
              "      <th class=\"col_heading level0 col25\" >25</th>\n",
              "      <th class=\"col_heading level0 col26\" >26</th>\n",
              "      <th class=\"col_heading level0 col27\" >27</th>\n",
              "    </tr>\n",
              "  </thead>\n",
              "  <tbody>\n",
              "    <tr>\n",
              "      <th id=\"T_734cf_level0_row0\" class=\"row_heading level0 row0\" >0</th>\n",
              "      <td id=\"T_734cf_row0_col0\" class=\"data row0 col0\" >0.000000</td>\n",
              "      <td id=\"T_734cf_row0_col1\" class=\"data row0 col1\" >0.000000</td>\n",
              "      <td id=\"T_734cf_row0_col2\" class=\"data row0 col2\" >0.000000</td>\n",
              "      <td id=\"T_734cf_row0_col3\" class=\"data row0 col3\" >0.000000</td>\n",
              "      <td id=\"T_734cf_row0_col4\" class=\"data row0 col4\" >0.000000</td>\n",
              "      <td id=\"T_734cf_row0_col5\" class=\"data row0 col5\" >0.000000</td>\n",
              "      <td id=\"T_734cf_row0_col6\" class=\"data row0 col6\" >0.000000</td>\n",
              "      <td id=\"T_734cf_row0_col7\" class=\"data row0 col7\" >0.000000</td>\n",
              "      <td id=\"T_734cf_row0_col8\" class=\"data row0 col8\" >0.000000</td>\n",
              "      <td id=\"T_734cf_row0_col9\" class=\"data row0 col9\" >0.000000</td>\n",
              "      <td id=\"T_734cf_row0_col10\" class=\"data row0 col10\" >0.000000</td>\n",
              "      <td id=\"T_734cf_row0_col11\" class=\"data row0 col11\" >0.000000</td>\n",
              "      <td id=\"T_734cf_row0_col12\" class=\"data row0 col12\" >0.000000</td>\n",
              "      <td id=\"T_734cf_row0_col13\" class=\"data row0 col13\" >0.000000</td>\n",
              "      <td id=\"T_734cf_row0_col14\" class=\"data row0 col14\" >0.000000</td>\n",
              "      <td id=\"T_734cf_row0_col15\" class=\"data row0 col15\" >0.000000</td>\n",
              "      <td id=\"T_734cf_row0_col16\" class=\"data row0 col16\" >0.000000</td>\n",
              "      <td id=\"T_734cf_row0_col17\" class=\"data row0 col17\" >0.000000</td>\n",
              "      <td id=\"T_734cf_row0_col18\" class=\"data row0 col18\" >0.000000</td>\n",
              "      <td id=\"T_734cf_row0_col19\" class=\"data row0 col19\" >0.000000</td>\n",
              "      <td id=\"T_734cf_row0_col20\" class=\"data row0 col20\" >0.000000</td>\n",
              "      <td id=\"T_734cf_row0_col21\" class=\"data row0 col21\" >0.000000</td>\n",
              "      <td id=\"T_734cf_row0_col22\" class=\"data row0 col22\" >0.000000</td>\n",
              "      <td id=\"T_734cf_row0_col23\" class=\"data row0 col23\" >0.000000</td>\n",
              "      <td id=\"T_734cf_row0_col24\" class=\"data row0 col24\" >0.000000</td>\n",
              "      <td id=\"T_734cf_row0_col25\" class=\"data row0 col25\" >0.000000</td>\n",
              "      <td id=\"T_734cf_row0_col26\" class=\"data row0 col26\" >0.000000</td>\n",
              "      <td id=\"T_734cf_row0_col27\" class=\"data row0 col27\" >0.000000</td>\n",
              "    </tr>\n",
              "    <tr>\n",
              "      <th id=\"T_734cf_level0_row1\" class=\"row_heading level0 row1\" >1</th>\n",
              "      <td id=\"T_734cf_row1_col0\" class=\"data row1 col0\" >0.000000</td>\n",
              "      <td id=\"T_734cf_row1_col1\" class=\"data row1 col1\" >0.000000</td>\n",
              "      <td id=\"T_734cf_row1_col2\" class=\"data row1 col2\" >0.000000</td>\n",
              "      <td id=\"T_734cf_row1_col3\" class=\"data row1 col3\" >0.000000</td>\n",
              "      <td id=\"T_734cf_row1_col4\" class=\"data row1 col4\" >0.000000</td>\n",
              "      <td id=\"T_734cf_row1_col5\" class=\"data row1 col5\" >0.000000</td>\n",
              "      <td id=\"T_734cf_row1_col6\" class=\"data row1 col6\" >0.000000</td>\n",
              "      <td id=\"T_734cf_row1_col7\" class=\"data row1 col7\" >0.000000</td>\n",
              "      <td id=\"T_734cf_row1_col8\" class=\"data row1 col8\" >0.000000</td>\n",
              "      <td id=\"T_734cf_row1_col9\" class=\"data row1 col9\" >0.000000</td>\n",
              "      <td id=\"T_734cf_row1_col10\" class=\"data row1 col10\" >0.000000</td>\n",
              "      <td id=\"T_734cf_row1_col11\" class=\"data row1 col11\" >0.000000</td>\n",
              "      <td id=\"T_734cf_row1_col12\" class=\"data row1 col12\" >0.000000</td>\n",
              "      <td id=\"T_734cf_row1_col13\" class=\"data row1 col13\" >0.000000</td>\n",
              "      <td id=\"T_734cf_row1_col14\" class=\"data row1 col14\" >0.000000</td>\n",
              "      <td id=\"T_734cf_row1_col15\" class=\"data row1 col15\" >0.000000</td>\n",
              "      <td id=\"T_734cf_row1_col16\" class=\"data row1 col16\" >0.000000</td>\n",
              "      <td id=\"T_734cf_row1_col17\" class=\"data row1 col17\" >0.000000</td>\n",
              "      <td id=\"T_734cf_row1_col18\" class=\"data row1 col18\" >0.000000</td>\n",
              "      <td id=\"T_734cf_row1_col19\" class=\"data row1 col19\" >0.000000</td>\n",
              "      <td id=\"T_734cf_row1_col20\" class=\"data row1 col20\" >0.000000</td>\n",
              "      <td id=\"T_734cf_row1_col21\" class=\"data row1 col21\" >0.000000</td>\n",
              "      <td id=\"T_734cf_row1_col22\" class=\"data row1 col22\" >0.000000</td>\n",
              "      <td id=\"T_734cf_row1_col23\" class=\"data row1 col23\" >0.000000</td>\n",
              "      <td id=\"T_734cf_row1_col24\" class=\"data row1 col24\" >0.000000</td>\n",
              "      <td id=\"T_734cf_row1_col25\" class=\"data row1 col25\" >0.000000</td>\n",
              "      <td id=\"T_734cf_row1_col26\" class=\"data row1 col26\" >0.000000</td>\n",
              "      <td id=\"T_734cf_row1_col27\" class=\"data row1 col27\" >0.000000</td>\n",
              "    </tr>\n",
              "    <tr>\n",
              "      <th id=\"T_734cf_level0_row2\" class=\"row_heading level0 row2\" >2</th>\n",
              "      <td id=\"T_734cf_row2_col0\" class=\"data row2 col0\" >0.000000</td>\n",
              "      <td id=\"T_734cf_row2_col1\" class=\"data row2 col1\" >0.000000</td>\n",
              "      <td id=\"T_734cf_row2_col2\" class=\"data row2 col2\" >0.000000</td>\n",
              "      <td id=\"T_734cf_row2_col3\" class=\"data row2 col3\" >0.000000</td>\n",
              "      <td id=\"T_734cf_row2_col4\" class=\"data row2 col4\" >0.000000</td>\n",
              "      <td id=\"T_734cf_row2_col5\" class=\"data row2 col5\" >0.000000</td>\n",
              "      <td id=\"T_734cf_row2_col6\" class=\"data row2 col6\" >0.000000</td>\n",
              "      <td id=\"T_734cf_row2_col7\" class=\"data row2 col7\" >0.000000</td>\n",
              "      <td id=\"T_734cf_row2_col8\" class=\"data row2 col8\" >0.000000</td>\n",
              "      <td id=\"T_734cf_row2_col9\" class=\"data row2 col9\" >0.000000</td>\n",
              "      <td id=\"T_734cf_row2_col10\" class=\"data row2 col10\" >0.000000</td>\n",
              "      <td id=\"T_734cf_row2_col11\" class=\"data row2 col11\" >0.000000</td>\n",
              "      <td id=\"T_734cf_row2_col12\" class=\"data row2 col12\" >0.000000</td>\n",
              "      <td id=\"T_734cf_row2_col13\" class=\"data row2 col13\" >0.000000</td>\n",
              "      <td id=\"T_734cf_row2_col14\" class=\"data row2 col14\" >0.000000</td>\n",
              "      <td id=\"T_734cf_row2_col15\" class=\"data row2 col15\" >0.000000</td>\n",
              "      <td id=\"T_734cf_row2_col16\" class=\"data row2 col16\" >0.000000</td>\n",
              "      <td id=\"T_734cf_row2_col17\" class=\"data row2 col17\" >0.000000</td>\n",
              "      <td id=\"T_734cf_row2_col18\" class=\"data row2 col18\" >0.000000</td>\n",
              "      <td id=\"T_734cf_row2_col19\" class=\"data row2 col19\" >0.000000</td>\n",
              "      <td id=\"T_734cf_row2_col20\" class=\"data row2 col20\" >0.000000</td>\n",
              "      <td id=\"T_734cf_row2_col21\" class=\"data row2 col21\" >0.000000</td>\n",
              "      <td id=\"T_734cf_row2_col22\" class=\"data row2 col22\" >0.000000</td>\n",
              "      <td id=\"T_734cf_row2_col23\" class=\"data row2 col23\" >0.000000</td>\n",
              "      <td id=\"T_734cf_row2_col24\" class=\"data row2 col24\" >0.000000</td>\n",
              "      <td id=\"T_734cf_row2_col25\" class=\"data row2 col25\" >0.000000</td>\n",
              "      <td id=\"T_734cf_row2_col26\" class=\"data row2 col26\" >0.000000</td>\n",
              "      <td id=\"T_734cf_row2_col27\" class=\"data row2 col27\" >0.000000</td>\n",
              "    </tr>\n",
              "    <tr>\n",
              "      <th id=\"T_734cf_level0_row3\" class=\"row_heading level0 row3\" >3</th>\n",
              "      <td id=\"T_734cf_row3_col0\" class=\"data row3 col0\" >0.000000</td>\n",
              "      <td id=\"T_734cf_row3_col1\" class=\"data row3 col1\" >0.000000</td>\n",
              "      <td id=\"T_734cf_row3_col2\" class=\"data row3 col2\" >0.000000</td>\n",
              "      <td id=\"T_734cf_row3_col3\" class=\"data row3 col3\" >0.000000</td>\n",
              "      <td id=\"T_734cf_row3_col4\" class=\"data row3 col4\" >0.000000</td>\n",
              "      <td id=\"T_734cf_row3_col5\" class=\"data row3 col5\" >0.000000</td>\n",
              "      <td id=\"T_734cf_row3_col6\" class=\"data row3 col6\" >0.000000</td>\n",
              "      <td id=\"T_734cf_row3_col7\" class=\"data row3 col7\" >0.000000</td>\n",
              "      <td id=\"T_734cf_row3_col8\" class=\"data row3 col8\" >0.000000</td>\n",
              "      <td id=\"T_734cf_row3_col9\" class=\"data row3 col9\" >0.000000</td>\n",
              "      <td id=\"T_734cf_row3_col10\" class=\"data row3 col10\" >0.000000</td>\n",
              "      <td id=\"T_734cf_row3_col11\" class=\"data row3 col11\" >0.000000</td>\n",
              "      <td id=\"T_734cf_row3_col12\" class=\"data row3 col12\" >0.000000</td>\n",
              "      <td id=\"T_734cf_row3_col13\" class=\"data row3 col13\" >0.000000</td>\n",
              "      <td id=\"T_734cf_row3_col14\" class=\"data row3 col14\" >0.000000</td>\n",
              "      <td id=\"T_734cf_row3_col15\" class=\"data row3 col15\" >0.000000</td>\n",
              "      <td id=\"T_734cf_row3_col16\" class=\"data row3 col16\" >0.000000</td>\n",
              "      <td id=\"T_734cf_row3_col17\" class=\"data row3 col17\" >0.000000</td>\n",
              "      <td id=\"T_734cf_row3_col18\" class=\"data row3 col18\" >0.000000</td>\n",
              "      <td id=\"T_734cf_row3_col19\" class=\"data row3 col19\" >0.000000</td>\n",
              "      <td id=\"T_734cf_row3_col20\" class=\"data row3 col20\" >0.000000</td>\n",
              "      <td id=\"T_734cf_row3_col21\" class=\"data row3 col21\" >0.000000</td>\n",
              "      <td id=\"T_734cf_row3_col22\" class=\"data row3 col22\" >0.000000</td>\n",
              "      <td id=\"T_734cf_row3_col23\" class=\"data row3 col23\" >0.000000</td>\n",
              "      <td id=\"T_734cf_row3_col24\" class=\"data row3 col24\" >0.000000</td>\n",
              "      <td id=\"T_734cf_row3_col25\" class=\"data row3 col25\" >0.000000</td>\n",
              "      <td id=\"T_734cf_row3_col26\" class=\"data row3 col26\" >0.000000</td>\n",
              "      <td id=\"T_734cf_row3_col27\" class=\"data row3 col27\" >0.000000</td>\n",
              "    </tr>\n",
              "    <tr>\n",
              "      <th id=\"T_734cf_level0_row4\" class=\"row_heading level0 row4\" >4</th>\n",
              "      <td id=\"T_734cf_row4_col0\" class=\"data row4 col0\" >0.000000</td>\n",
              "      <td id=\"T_734cf_row4_col1\" class=\"data row4 col1\" >0.000000</td>\n",
              "      <td id=\"T_734cf_row4_col2\" class=\"data row4 col2\" >0.000000</td>\n",
              "      <td id=\"T_734cf_row4_col3\" class=\"data row4 col3\" >0.000063</td>\n",
              "      <td id=\"T_734cf_row4_col4\" class=\"data row4 col4\" >0.000120</td>\n",
              "      <td id=\"T_734cf_row4_col5\" class=\"data row4 col5\" >0.000084</td>\n",
              "      <td id=\"T_734cf_row4_col6\" class=\"data row4 col6\" >0.000016</td>\n",
              "      <td id=\"T_734cf_row4_col7\" class=\"data row4 col7\" >0.000032</td>\n",
              "      <td id=\"T_734cf_row4_col8\" class=\"data row4 col8\" >0.000040</td>\n",
              "      <td id=\"T_734cf_row4_col9\" class=\"data row4 col9\" >0.000024</td>\n",
              "      <td id=\"T_734cf_row4_col10\" class=\"data row4 col10\" >0.000000</td>\n",
              "      <td id=\"T_734cf_row4_col11\" class=\"data row4 col11\" >0.000230</td>\n",
              "      <td id=\"T_734cf_row4_col12\" class=\"data row4 col12\" >0.000363</td>\n",
              "      <td id=\"T_734cf_row4_col13\" class=\"data row4 col13\" >0.000382</td>\n",
              "      <td id=\"T_734cf_row4_col14\" class=\"data row4 col14\" >0.000337</td>\n",
              "      <td id=\"T_734cf_row4_col15\" class=\"data row4 col15\" >0.000218</td>\n",
              "      <td id=\"T_734cf_row4_col16\" class=\"data row4 col16\" >0.000121</td>\n",
              "      <td id=\"T_734cf_row4_col17\" class=\"data row4 col17\" >0.000001</td>\n",
              "      <td id=\"T_734cf_row4_col18\" class=\"data row4 col18\" >0.000000</td>\n",
              "      <td id=\"T_734cf_row4_col19\" class=\"data row4 col19\" >0.000000</td>\n",
              "      <td id=\"T_734cf_row4_col20\" class=\"data row4 col20\" >0.000000</td>\n",
              "      <td id=\"T_734cf_row4_col21\" class=\"data row4 col21\" >0.000159</td>\n",
              "      <td id=\"T_734cf_row4_col22\" class=\"data row4 col22\" >0.000031</td>\n",
              "      <td id=\"T_734cf_row4_col23\" class=\"data row4 col23\" >0.000000</td>\n",
              "      <td id=\"T_734cf_row4_col24\" class=\"data row4 col24\" >0.000000</td>\n",
              "      <td id=\"T_734cf_row4_col25\" class=\"data row4 col25\" >0.000000</td>\n",
              "      <td id=\"T_734cf_row4_col26\" class=\"data row4 col26\" >0.000000</td>\n",
              "      <td id=\"T_734cf_row4_col27\" class=\"data row4 col27\" >0.000000</td>\n",
              "    </tr>\n",
              "    <tr>\n",
              "      <th id=\"T_734cf_level0_row5\" class=\"row_heading level0 row5\" >5</th>\n",
              "      <td id=\"T_734cf_row5_col0\" class=\"data row5 col0\" >0.000000</td>\n",
              "      <td id=\"T_734cf_row5_col1\" class=\"data row5 col1\" >0.000000</td>\n",
              "      <td id=\"T_734cf_row5_col2\" class=\"data row5 col2\" >0.000000</td>\n",
              "      <td id=\"T_734cf_row5_col3\" class=\"data row5 col3\" >0.000093</td>\n",
              "      <td id=\"T_734cf_row5_col4\" class=\"data row5 col4\" >0.000342</td>\n",
              "      <td id=\"T_734cf_row5_col5\" class=\"data row5 col5\" >0.001185</td>\n",
              "      <td id=\"T_734cf_row5_col6\" class=\"data row5 col6\" >0.002433</td>\n",
              "      <td id=\"T_734cf_row5_col7\" class=\"data row5 col7\" >0.004050</td>\n",
              "      <td id=\"T_734cf_row5_col8\" class=\"data row5 col8\" >0.006239</td>\n",
              "      <td id=\"T_734cf_row5_col9\" class=\"data row5 col9\" >0.008319</td>\n",
              "      <td id=\"T_734cf_row5_col10\" class=\"data row5 col10\" >0.008828</td>\n",
              "      <td id=\"T_734cf_row5_col11\" class=\"data row5 col11\" >0.241460</td>\n",
              "      <td id=\"T_734cf_row5_col12\" class=\"data row5 col12\" >0.491706</td>\n",
              "      <td id=\"T_734cf_row5_col13\" class=\"data row5 col13\" >0.492382</td>\n",
              "      <td id=\"T_734cf_row5_col14\" class=\"data row5 col14\" >0.740226</td>\n",
              "      <td id=\"T_734cf_row5_col15\" class=\"data row5 col15\" >0.991836</td>\n",
              "      <td id=\"T_734cf_row5_col16\" class=\"data row5 col16\" >0.993059</td>\n",
              "      <td id=\"T_734cf_row5_col17\" class=\"data row5 col17\" >0.995063</td>\n",
              "      <td id=\"T_734cf_row5_col18\" class=\"data row5 col18\" >0.498460</td>\n",
              "      <td id=\"T_734cf_row5_col19\" class=\"data row5 col19\" >0.500442</td>\n",
              "      <td id=\"T_734cf_row5_col20\" class=\"data row5 col20\" >0.000690</td>\n",
              "      <td id=\"T_734cf_row5_col21\" class=\"data row5 col21\" >0.000536</td>\n",
              "      <td id=\"T_734cf_row5_col22\" class=\"data row5 col22\" >0.000295</td>\n",
              "      <td id=\"T_734cf_row5_col23\" class=\"data row5 col23\" >0.000001</td>\n",
              "      <td id=\"T_734cf_row5_col24\" class=\"data row5 col24\" >0.000000</td>\n",
              "      <td id=\"T_734cf_row5_col25\" class=\"data row5 col25\" >0.000000</td>\n",
              "      <td id=\"T_734cf_row5_col26\" class=\"data row5 col26\" >0.000000</td>\n",
              "      <td id=\"T_734cf_row5_col27\" class=\"data row5 col27\" >0.000000</td>\n",
              "    </tr>\n",
              "    <tr>\n",
              "      <th id=\"T_734cf_level0_row6\" class=\"row_heading level0 row6\" >6</th>\n",
              "      <td id=\"T_734cf_row6_col0\" class=\"data row6 col0\" >0.000000</td>\n",
              "      <td id=\"T_734cf_row6_col1\" class=\"data row6 col1\" >0.000000</td>\n",
              "      <td id=\"T_734cf_row6_col2\" class=\"data row6 col2\" >0.000513</td>\n",
              "      <td id=\"T_734cf_row6_col3\" class=\"data row6 col3\" >0.001144</td>\n",
              "      <td id=\"T_734cf_row6_col4\" class=\"data row6 col4\" >0.004512</td>\n",
              "      <td id=\"T_734cf_row6_col5\" class=\"data row6 col5\" >0.012454</td>\n",
              "      <td id=\"T_734cf_row6_col6\" class=\"data row6 col6\" >0.023687</td>\n",
              "      <td id=\"T_734cf_row6_col7\" class=\"data row6 col7\" >0.037022</td>\n",
              "      <td id=\"T_734cf_row6_col8\" class=\"data row6 col8\" >0.054341</td>\n",
              "      <td id=\"T_734cf_row6_col9\" class=\"data row6 col9\" >0.071389</td>\n",
              "      <td id=\"T_734cf_row6_col10\" class=\"data row6 col10\" >0.413102</td>\n",
              "      <td id=\"T_734cf_row6_col11\" class=\"data row6 col11\" >0.900705</td>\n",
              "      <td id=\"T_734cf_row6_col12\" class=\"data row6 col12\" >0.892788</td>\n",
              "      <td id=\"T_734cf_row6_col13\" class=\"data row6 col13\" >0.890547</td>\n",
              "      <td id=\"T_734cf_row6_col14\" class=\"data row6 col14\" >0.889728</td>\n",
              "      <td id=\"T_734cf_row6_col15\" class=\"data row6 col15\" >0.891229</td>\n",
              "      <td id=\"T_734cf_row6_col16\" class=\"data row6 col16\" >0.894422</td>\n",
              "      <td id=\"T_734cf_row6_col17\" class=\"data row6 col17\" >0.903822</td>\n",
              "      <td id=\"T_734cf_row6_col18\" class=\"data row6 col18\" >0.920921</td>\n",
              "      <td id=\"T_734cf_row6_col19\" class=\"data row6 col19\" >0.941845</td>\n",
              "      <td id=\"T_734cf_row6_col20\" class=\"data row6 col20\" >0.962794</td>\n",
              "      <td id=\"T_734cf_row6_col21\" class=\"data row6 col21\" >0.022864</td>\n",
              "      <td id=\"T_734cf_row6_col22\" class=\"data row6 col22\" >0.011055</td>\n",
              "      <td id=\"T_734cf_row6_col23\" class=\"data row6 col23\" >0.003341</td>\n",
              "      <td id=\"T_734cf_row6_col24\" class=\"data row6 col24\" >0.000456</td>\n",
              "      <td id=\"T_734cf_row6_col25\" class=\"data row6 col25\" >0.000011</td>\n",
              "      <td id=\"T_734cf_row6_col26\" class=\"data row6 col26\" >0.000000</td>\n",
              "      <td id=\"T_734cf_row6_col27\" class=\"data row6 col27\" >0.000000</td>\n",
              "    </tr>\n",
              "    <tr>\n",
              "      <th id=\"T_734cf_level0_row7\" class=\"row_heading level0 row7\" >7</th>\n",
              "      <td id=\"T_734cf_row7_col0\" class=\"data row7 col0\" >0.000029</td>\n",
              "      <td id=\"T_734cf_row7_col1\" class=\"data row7 col1\" >0.000424</td>\n",
              "      <td id=\"T_734cf_row7_col2\" class=\"data row7 col2\" >0.003263</td>\n",
              "      <td id=\"T_734cf_row7_col3\" class=\"data row7 col3\" >0.010402</td>\n",
              "      <td id=\"T_734cf_row7_col4\" class=\"data row7 col4\" >0.028360</td>\n",
              "      <td id=\"T_734cf_row7_col5\" class=\"data row7 col5\" >0.059792</td>\n",
              "      <td id=\"T_734cf_row7_col6\" class=\"data row7 col6\" >0.104739</td>\n",
              "      <td id=\"T_734cf_row7_col7\" class=\"data row7 col7\" >0.157012</td>\n",
              "      <td id=\"T_734cf_row7_col8\" class=\"data row7 col8\" >0.214893</td>\n",
              "      <td id=\"T_734cf_row7_col9\" class=\"data row7 col9\" >0.272904</td>\n",
              "      <td id=\"T_734cf_row7_col10\" class=\"data row7 col10\" >0.177982</td>\n",
              "      <td id=\"T_734cf_row7_col11\" class=\"data row7 col11\" >0.635939</td>\n",
              "      <td id=\"T_734cf_row7_col12\" class=\"data row7 col12\" >0.607401</td>\n",
              "      <td id=\"T_734cf_row7_col13\" class=\"data row7 col13\" >0.586812</td>\n",
              "      <td id=\"T_734cf_row7_col14\" class=\"data row7 col14\" >0.575410</td>\n",
              "      <td id=\"T_734cf_row7_col15\" class=\"data row7 col15\" >0.566296</td>\n",
              "      <td id=\"T_734cf_row7_col16\" class=\"data row7 col16\" >0.064399</td>\n",
              "      <td id=\"T_734cf_row7_col17\" class=\"data row7 col17\" >0.079675</td>\n",
              "      <td id=\"T_734cf_row7_col18\" class=\"data row7 col18\" >0.624979</td>\n",
              "      <td id=\"T_734cf_row7_col19\" class=\"data row7 col19\" >0.696615</td>\n",
              "      <td id=\"T_734cf_row7_col20\" class=\"data row7 col20\" >0.789686</td>\n",
              "      <td id=\"T_734cf_row7_col21\" class=\"data row7 col21\" >0.627609</td>\n",
              "      <td id=\"T_734cf_row7_col22\" class=\"data row7 col22\" >0.058161</td>\n",
              "      <td id=\"T_734cf_row7_col23\" class=\"data row7 col23\" >0.023271</td>\n",
              "      <td id=\"T_734cf_row7_col24\" class=\"data row7 col24\" >0.004755</td>\n",
              "      <td id=\"T_734cf_row7_col25\" class=\"data row7 col25\" >0.000730</td>\n",
              "      <td id=\"T_734cf_row7_col26\" class=\"data row7 col26\" >0.000000</td>\n",
              "      <td id=\"T_734cf_row7_col27\" class=\"data row7 col27\" >0.000000</td>\n",
              "    </tr>\n",
              "    <tr>\n",
              "      <th id=\"T_734cf_level0_row8\" class=\"row_heading level0 row8\" >8</th>\n",
              "      <td id=\"T_734cf_row8_col0\" class=\"data row8 col0\" >0.000120</td>\n",
              "      <td id=\"T_734cf_row8_col1\" class=\"data row8 col1\" >0.001743</td>\n",
              "      <td id=\"T_734cf_row8_col2\" class=\"data row8 col2\" >0.011414</td>\n",
              "      <td id=\"T_734cf_row8_col3\" class=\"data row8 col3\" >0.033500</td>\n",
              "      <td id=\"T_734cf_row8_col4\" class=\"data row8 col4\" >0.070653</td>\n",
              "      <td id=\"T_734cf_row8_col5\" class=\"data row8 col5\" >0.132629</td>\n",
              "      <td id=\"T_734cf_row8_col6\" class=\"data row8 col6\" >0.211860</td>\n",
              "      <td id=\"T_734cf_row8_col7\" class=\"data row8 col7\" >0.311085</td>\n",
              "      <td id=\"T_734cf_row8_col8\" class=\"data row8 col8\" >0.411384</td>\n",
              "      <td id=\"T_734cf_row8_col9\" class=\"data row8 col9\" >0.508958</td>\n",
              "      <td id=\"T_734cf_row8_col10\" class=\"data row8 col10\" >0.340040</td>\n",
              "      <td id=\"T_734cf_row8_col11\" class=\"data row8 col11\" >0.350233</td>\n",
              "      <td id=\"T_734cf_row8_col12\" class=\"data row8 col12\" >0.312849</td>\n",
              "      <td id=\"T_734cf_row8_col13\" class=\"data row8 col13\" >0.044588</td>\n",
              "      <td id=\"T_734cf_row8_col14\" class=\"data row8 col14\" >0.214683</td>\n",
              "      <td id=\"T_734cf_row8_col15\" class=\"data row8 col15\" >0.725586</td>\n",
              "      <td id=\"T_734cf_row8_col16\" class=\"data row8 col16\" >0.730673</td>\n",
              "      <td id=\"T_734cf_row8_col17\" class=\"data row8 col17\" >0.714450</td>\n",
              "      <td id=\"T_734cf_row8_col18\" class=\"data row8 col18\" >0.147519</td>\n",
              "      <td id=\"T_734cf_row8_col19\" class=\"data row8 col19\" >0.472289</td>\n",
              "      <td id=\"T_734cf_row8_col20\" class=\"data row8 col20\" >0.633360</td>\n",
              "      <td id=\"T_734cf_row8_col21\" class=\"data row8 col21\" >0.782817</td>\n",
              "      <td id=\"T_734cf_row8_col22\" class=\"data row8 col22\" >0.105576</td>\n",
              "      <td id=\"T_734cf_row8_col23\" class=\"data row8 col23\" >0.040372</td>\n",
              "      <td id=\"T_734cf_row8_col24\" class=\"data row8 col24\" >0.009248</td>\n",
              "      <td id=\"T_734cf_row8_col25\" class=\"data row8 col25\" >0.001138</td>\n",
              "      <td id=\"T_734cf_row8_col26\" class=\"data row8 col26\" >0.000000</td>\n",
              "      <td id=\"T_734cf_row8_col27\" class=\"data row8 col27\" >0.000000</td>\n",
              "    </tr>\n",
              "    <tr>\n",
              "      <th id=\"T_734cf_level0_row9\" class=\"row_heading level0 row9\" >9</th>\n",
              "      <td id=\"T_734cf_row9_col0\" class=\"data row9 col0\" >0.000183</td>\n",
              "      <td id=\"T_734cf_row9_col1\" class=\"data row9 col1\" >0.002802</td>\n",
              "      <td id=\"T_734cf_row9_col2\" class=\"data row9 col2\" >0.018204</td>\n",
              "      <td id=\"T_734cf_row9_col3\" class=\"data row9 col3\" >0.050405</td>\n",
              "      <td id=\"T_734cf_row9_col4\" class=\"data row9 col4\" >0.101714</td>\n",
              "      <td id=\"T_734cf_row9_col5\" class=\"data row9 col5\" >0.179732</td>\n",
              "      <td id=\"T_734cf_row9_col6\" class=\"data row9 col6\" >0.278085</td>\n",
              "      <td id=\"T_734cf_row9_col7\" class=\"data row9 col7\" >0.395733</td>\n",
              "      <td id=\"T_734cf_row9_col8\" class=\"data row9 col8\" >0.510971</td>\n",
              "      <td id=\"T_734cf_row9_col9\" class=\"data row9 col9\" >0.612353</td>\n",
              "      <td id=\"T_734cf_row9_col10\" class=\"data row9 col10\" >0.681796</td>\n",
              "      <td id=\"T_734cf_row9_col11\" class=\"data row9 col11\" >0.718202</td>\n",
              "      <td id=\"T_734cf_row9_col12\" class=\"data row9 col12\" >0.720315</td>\n",
              "      <td id=\"T_734cf_row9_col13\" class=\"data row9 col13\" >0.704695</td>\n",
              "      <td id=\"T_734cf_row9_col14\" class=\"data row9 col14\" >0.697288</td>\n",
              "      <td id=\"T_734cf_row9_col15\" class=\"data row9 col15\" >0.707309</td>\n",
              "      <td id=\"T_734cf_row9_col16\" class=\"data row9 col16\" >0.740079</td>\n",
              "      <td id=\"T_734cf_row9_col17\" class=\"data row9 col17\" >0.768192</td>\n",
              "      <td id=\"T_734cf_row9_col18\" class=\"data row9 col18\" >0.740349</td>\n",
              "      <td id=\"T_734cf_row9_col19\" class=\"data row9 col19\" >0.376116</td>\n",
              "      <td id=\"T_734cf_row9_col20\" class=\"data row9 col20\" >0.563251</td>\n",
              "      <td id=\"T_734cf_row9_col21\" class=\"data row9 col21\" >0.742902</td>\n",
              "      <td id=\"T_734cf_row9_col22\" class=\"data row9 col22\" >0.122494</td>\n",
              "      <td id=\"T_734cf_row9_col23\" class=\"data row9 col23\" >0.042672</td>\n",
              "      <td id=\"T_734cf_row9_col24\" class=\"data row9 col24\" >0.008554</td>\n",
              "      <td id=\"T_734cf_row9_col25\" class=\"data row9 col25\" >0.001276</td>\n",
              "      <td id=\"T_734cf_row9_col26\" class=\"data row9 col26\" >0.000098</td>\n",
              "      <td id=\"T_734cf_row9_col27\" class=\"data row9 col27\" >0.000128</td>\n",
              "    </tr>\n",
              "    <tr>\n",
              "      <th id=\"T_734cf_level0_row10\" class=\"row_heading level0 row10\" >10</th>\n",
              "      <td id=\"T_734cf_row10_col0\" class=\"data row10 col0\" >0.000250</td>\n",
              "      <td id=\"T_734cf_row10_col1\" class=\"data row10 col1\" >0.003553</td>\n",
              "      <td id=\"T_734cf_row10_col2\" class=\"data row10 col2\" >0.018817</td>\n",
              "      <td id=\"T_734cf_row10_col3\" class=\"data row10 col3\" >0.050220</td>\n",
              "      <td id=\"T_734cf_row10_col4\" class=\"data row10 col4\" >0.101496</td>\n",
              "      <td id=\"T_734cf_row10_col5\" class=\"data row10 col5\" >0.172982</td>\n",
              "      <td id=\"T_734cf_row10_col6\" class=\"data row10 col6\" >0.264753</td>\n",
              "      <td id=\"T_734cf_row10_col7\" class=\"data row10 col7\" >0.367662</td>\n",
              "      <td id=\"T_734cf_row10_col8\" class=\"data row10 col8\" >0.464732</td>\n",
              "      <td id=\"T_734cf_row10_col9\" class=\"data row10 col9\" >0.535832</td>\n",
              "      <td id=\"T_734cf_row10_col10\" class=\"data row10 col10\" >0.566527</td>\n",
              "      <td id=\"T_734cf_row10_col11\" class=\"data row10 col11\" >0.548424</td>\n",
              "      <td id=\"T_734cf_row10_col12\" class=\"data row10 col12\" >0.501837</td>\n",
              "      <td id=\"T_734cf_row10_col13\" class=\"data row10 col13\" >0.460723</td>\n",
              "      <td id=\"T_734cf_row10_col14\" class=\"data row10 col14\" >0.439577</td>\n",
              "      <td id=\"T_734cf_row10_col15\" class=\"data row10 col15\" >0.468560</td>\n",
              "      <td id=\"T_734cf_row10_col16\" class=\"data row10 col16\" >0.562484</td>\n",
              "      <td id=\"T_734cf_row10_col17\" class=\"data row10 col17\" >0.427859</td>\n",
              "      <td id=\"T_734cf_row10_col18\" class=\"data row10 col18\" >0.278581</td>\n",
              "      <td id=\"T_734cf_row10_col19\" class=\"data row10 col19\" >0.371583</td>\n",
              "      <td id=\"T_734cf_row10_col20\" class=\"data row10 col20\" >0.566619</td>\n",
              "      <td id=\"T_734cf_row10_col21\" class=\"data row10 col21\" >0.504844</td>\n",
              "      <td id=\"T_734cf_row10_col22\" class=\"data row10 col22\" >0.108571</td>\n",
              "      <td id=\"T_734cf_row10_col23\" class=\"data row10 col23\" >0.032480</td>\n",
              "      <td id=\"T_734cf_row10_col24\" class=\"data row10 col24\" >0.005645</td>\n",
              "      <td id=\"T_734cf_row10_col25\" class=\"data row10 col25\" >0.000968</td>\n",
              "      <td id=\"T_734cf_row10_col26\" class=\"data row10 col26\" >0.000086</td>\n",
              "      <td id=\"T_734cf_row10_col27\" class=\"data row10 col27\" >0.000034</td>\n",
              "    </tr>\n",
              "    <tr>\n",
              "      <th id=\"T_734cf_level0_row11\" class=\"row_heading level0 row11\" >11</th>\n",
              "      <td id=\"T_734cf_row11_col0\" class=\"data row11 col0\" >0.000223</td>\n",
              "      <td id=\"T_734cf_row11_col1\" class=\"data row11 col1\" >0.002754</td>\n",
              "      <td id=\"T_734cf_row11_col2\" class=\"data row11 col2\" >0.014918</td>\n",
              "      <td id=\"T_734cf_row11_col3\" class=\"data row11 col3\" >0.037212</td>\n",
              "      <td id=\"T_734cf_row11_col4\" class=\"data row11 col4\" >0.076865</td>\n",
              "      <td id=\"T_734cf_row11_col5\" class=\"data row11 col5\" >0.129961</td>\n",
              "      <td id=\"T_734cf_row11_col6\" class=\"data row11 col6\" >0.202465</td>\n",
              "      <td id=\"T_734cf_row11_col7\" class=\"data row11 col7\" >0.283923</td>\n",
              "      <td id=\"T_734cf_row11_col8\" class=\"data row11 col8\" >0.358291</td>\n",
              "      <td id=\"T_734cf_row11_col9\" class=\"data row11 col9\" >0.396650</td>\n",
              "      <td id=\"T_734cf_row11_col10\" class=\"data row11 col10\" >0.379869</td>\n",
              "      <td id=\"T_734cf_row11_col11\" class=\"data row11 col11\" >0.319831</td>\n",
              "      <td id=\"T_734cf_row11_col12\" class=\"data row11 col12\" >0.250866</td>\n",
              "      <td id=\"T_734cf_row11_col13\" class=\"data row11 col13\" >0.293585</td>\n",
              "      <td id=\"T_734cf_row11_col14\" class=\"data row11 col14\" >0.301955</td>\n",
              "      <td id=\"T_734cf_row11_col15\" class=\"data row11 col15\" >0.242688</td>\n",
              "      <td id=\"T_734cf_row11_col16\" class=\"data row11 col16\" >0.327938</td>\n",
              "      <td id=\"T_734cf_row11_col17\" class=\"data row11 col17\" >0.384054</td>\n",
              "      <td id=\"T_734cf_row11_col18\" class=\"data row11 col18\" >0.300381</td>\n",
              "      <td id=\"T_734cf_row11_col19\" class=\"data row11 col19\" >0.408194</td>\n",
              "      <td id=\"T_734cf_row11_col20\" class=\"data row11 col20\" >0.611884</td>\n",
              "      <td id=\"T_734cf_row11_col21\" class=\"data row11 col21\" >0.196702</td>\n",
              "      <td id=\"T_734cf_row11_col22\" class=\"data row11 col22\" >0.078953</td>\n",
              "      <td id=\"T_734cf_row11_col23\" class=\"data row11 col23\" >0.019940</td>\n",
              "      <td id=\"T_734cf_row11_col24\" class=\"data row11 col24\" >0.002538</td>\n",
              "      <td id=\"T_734cf_row11_col25\" class=\"data row11 col25\" >0.000220</td>\n",
              "      <td id=\"T_734cf_row11_col26\" class=\"data row11 col26\" >0.000006</td>\n",
              "      <td id=\"T_734cf_row11_col27\" class=\"data row11 col27\" >0.000011</td>\n",
              "    </tr>\n",
              "    <tr>\n",
              "      <th id=\"T_734cf_level0_row12\" class=\"row_heading level0 row12\" >12</th>\n",
              "      <td id=\"T_734cf_row12_col0\" class=\"data row12 col0\" >0.000143</td>\n",
              "      <td id=\"T_734cf_row12_col1\" class=\"data row12 col1\" >0.001542</td>\n",
              "      <td id=\"T_734cf_row12_col2\" class=\"data row12 col2\" >0.008351</td>\n",
              "      <td id=\"T_734cf_row12_col3\" class=\"data row12 col3\" >0.022083</td>\n",
              "      <td id=\"T_734cf_row12_col4\" class=\"data row12 col4\" >0.048842</td>\n",
              "      <td id=\"T_734cf_row12_col5\" class=\"data row12 col5\" >0.088445</td>\n",
              "      <td id=\"T_734cf_row12_col6\" class=\"data row12 col6\" >0.140848</td>\n",
              "      <td id=\"T_734cf_row12_col7\" class=\"data row12 col7\" >0.208752</td>\n",
              "      <td id=\"T_734cf_row12_col8\" class=\"data row12 col8\" >0.262378</td>\n",
              "      <td id=\"T_734cf_row12_col9\" class=\"data row12 col9\" >0.269437</td>\n",
              "      <td id=\"T_734cf_row12_col10\" class=\"data row12 col10\" >0.276303</td>\n",
              "      <td id=\"T_734cf_row12_col11\" class=\"data row12 col11\" >0.844650</td>\n",
              "      <td id=\"T_734cf_row12_col12\" class=\"data row12 col12\" >0.904776</td>\n",
              "      <td id=\"T_734cf_row12_col13\" class=\"data row12 col13\" >0.929020</td>\n",
              "      <td id=\"T_734cf_row12_col14\" class=\"data row12 col14\" >0.909495</td>\n",
              "      <td id=\"T_734cf_row12_col15\" class=\"data row12 col15\" >0.804939</td>\n",
              "      <td id=\"T_734cf_row12_col16\" class=\"data row12 col16\" >0.578760</td>\n",
              "      <td id=\"T_734cf_row12_col17\" class=\"data row12 col17\" >0.357161</td>\n",
              "      <td id=\"T_734cf_row12_col18\" class=\"data row12 col18\" >0.314070</td>\n",
              "      <td id=\"T_734cf_row12_col19\" class=\"data row12 col19\" >0.213780</td>\n",
              "      <td id=\"T_734cf_row12_col20\" class=\"data row12 col20\" >0.060871</td>\n",
              "      <td id=\"T_734cf_row12_col21\" class=\"data row12 col21\" >0.137755</td>\n",
              "      <td id=\"T_734cf_row12_col22\" class=\"data row12 col22\" >0.048628</td>\n",
              "      <td id=\"T_734cf_row12_col23\" class=\"data row12 col23\" >0.011711</td>\n",
              "      <td id=\"T_734cf_row12_col24\" class=\"data row12 col24\" >0.001472</td>\n",
              "      <td id=\"T_734cf_row12_col25\" class=\"data row12 col25\" >0.000364</td>\n",
              "      <td id=\"T_734cf_row12_col26\" class=\"data row12 col26\" >0.000100</td>\n",
              "      <td id=\"T_734cf_row12_col27\" class=\"data row12 col27\" >0.000042</td>\n",
              "    </tr>\n",
              "    <tr>\n",
              "      <th id=\"T_734cf_level0_row13\" class=\"row_heading level0 row13\" >13</th>\n",
              "      <td id=\"T_734cf_row13_col0\" class=\"data row13 col0\" >0.000000</td>\n",
              "      <td id=\"T_734cf_row13_col1\" class=\"data row13 col1\" >0.000488</td>\n",
              "      <td id=\"T_734cf_row13_col2\" class=\"data row13 col2\" >0.004083</td>\n",
              "      <td id=\"T_734cf_row13_col3\" class=\"data row13 col3\" >0.012475</td>\n",
              "      <td id=\"T_734cf_row13_col4\" class=\"data row13 col4\" >0.031932</td>\n",
              "      <td id=\"T_734cf_row13_col5\" class=\"data row13 col5\" >0.060852</td>\n",
              "      <td id=\"T_734cf_row13_col6\" class=\"data row13 col6\" >0.100042</td>\n",
              "      <td id=\"T_734cf_row13_col7\" class=\"data row13 col7\" >0.148651</td>\n",
              "      <td id=\"T_734cf_row13_col8\" class=\"data row13 col8\" >0.181678</td>\n",
              "      <td id=\"T_734cf_row13_col9\" class=\"data row13 col9\" >0.172889</td>\n",
              "      <td id=\"T_734cf_row13_col10\" class=\"data row13 col10\" >0.375867</td>\n",
              "      <td id=\"T_734cf_row13_col11\" class=\"data row13 col11\" >0.931805</td>\n",
              "      <td id=\"T_734cf_row13_col12\" class=\"data row13 col12\" >0.964169</td>\n",
              "      <td id=\"T_734cf_row13_col13\" class=\"data row13 col13\" >0.967436</td>\n",
              "      <td id=\"T_734cf_row13_col14\" class=\"data row13 col14\" >0.919494</td>\n",
              "      <td id=\"T_734cf_row13_col15\" class=\"data row13 col15\" >0.756306</td>\n",
              "      <td id=\"T_734cf_row13_col16\" class=\"data row13 col16\" >0.486406</td>\n",
              "      <td id=\"T_734cf_row13_col17\" class=\"data row13 col17\" >0.302841</td>\n",
              "      <td id=\"T_734cf_row13_col18\" class=\"data row13 col18\" >0.343760</td>\n",
              "      <td id=\"T_734cf_row13_col19\" class=\"data row13 col19\" >0.455353</td>\n",
              "      <td id=\"T_734cf_row13_col20\" class=\"data row13 col20\" >0.233121</td>\n",
              "      <td id=\"T_734cf_row13_col21\" class=\"data row13 col21\" >0.092324</td>\n",
              "      <td id=\"T_734cf_row13_col22\" class=\"data row13 col22\" >0.030923</td>\n",
              "      <td id=\"T_734cf_row13_col23\" class=\"data row13 col23\" >0.009407</td>\n",
              "      <td id=\"T_734cf_row13_col24\" class=\"data row13 col24\" >0.002866</td>\n",
              "      <td id=\"T_734cf_row13_col25\" class=\"data row13 col25\" >0.000612</td>\n",
              "      <td id=\"T_734cf_row13_col26\" class=\"data row13 col26\" >0.000058</td>\n",
              "      <td id=\"T_734cf_row13_col27\" class=\"data row13 col27\" >0.000000</td>\n",
              "    </tr>\n",
              "    <tr>\n",
              "      <th id=\"T_734cf_level0_row14\" class=\"row_heading level0 row14\" >14</th>\n",
              "      <td id=\"T_734cf_row14_col0\" class=\"data row14 col0\" >0.000000</td>\n",
              "      <td id=\"T_734cf_row14_col1\" class=\"data row14 col1\" >0.000134</td>\n",
              "      <td id=\"T_734cf_row14_col2\" class=\"data row14 col2\" >0.001669</td>\n",
              "      <td id=\"T_734cf_row14_col3\" class=\"data row14 col3\" >0.006732</td>\n",
              "      <td id=\"T_734cf_row14_col4\" class=\"data row14 col4\" >0.020395</td>\n",
              "      <td id=\"T_734cf_row14_col5\" class=\"data row14 col5\" >0.042994</td>\n",
              "      <td id=\"T_734cf_row14_col6\" class=\"data row14 col6\" >0.071536</td>\n",
              "      <td id=\"T_734cf_row14_col7\" class=\"data row14 col7\" >0.103160</td>\n",
              "      <td id=\"T_734cf_row14_col8\" class=\"data row14 col8\" >0.119221</td>\n",
              "      <td id=\"T_734cf_row14_col9\" class=\"data row14 col9\" >0.103545</td>\n",
              "      <td id=\"T_734cf_row14_col10\" class=\"data row14 col10\" >0.430901</td>\n",
              "      <td id=\"T_734cf_row14_col11\" class=\"data row14 col11\" >0.956661</td>\n",
              "      <td id=\"T_734cf_row14_col12\" class=\"data row14 col12\" >0.966935</td>\n",
              "      <td id=\"T_734cf_row14_col13\" class=\"data row14 col13\" >0.952770</td>\n",
              "      <td id=\"T_734cf_row14_col14\" class=\"data row14 col14\" >0.865767</td>\n",
              "      <td id=\"T_734cf_row14_col15\" class=\"data row14 col15\" >0.382109</td>\n",
              "      <td id=\"T_734cf_row14_col16\" class=\"data row14 col16\" >0.365680</td>\n",
              "      <td id=\"T_734cf_row14_col17\" class=\"data row14 col17\" >0.269520</td>\n",
              "      <td id=\"T_734cf_row14_col18\" class=\"data row14 col18\" >0.396844</td>\n",
              "      <td id=\"T_734cf_row14_col19\" class=\"data row14 col19\" >0.118287</td>\n",
              "      <td id=\"T_734cf_row14_col20\" class=\"data row14 col20\" >0.172839</td>\n",
              "      <td id=\"T_734cf_row14_col21\" class=\"data row14 col21\" >0.070039</td>\n",
              "      <td id=\"T_734cf_row14_col22\" class=\"data row14 col22\" >0.029276</td>\n",
              "      <td id=\"T_734cf_row14_col23\" class=\"data row14 col23\" >0.012287</td>\n",
              "      <td id=\"T_734cf_row14_col24\" class=\"data row14 col24\" >0.004096</td>\n",
              "      <td id=\"T_734cf_row14_col25\" class=\"data row14 col25\" >0.001085</td>\n",
              "      <td id=\"T_734cf_row14_col26\" class=\"data row14 col26\" >0.000000</td>\n",
              "      <td id=\"T_734cf_row14_col27\" class=\"data row14 col27\" >0.000000</td>\n",
              "    </tr>\n",
              "    <tr>\n",
              "      <th id=\"T_734cf_level0_row15\" class=\"row_heading level0 row15\" >15</th>\n",
              "      <td id=\"T_734cf_row15_col0\" class=\"data row15 col0\" >0.000004</td>\n",
              "      <td id=\"T_734cf_row15_col1\" class=\"data row15 col1\" >0.000000</td>\n",
              "      <td id=\"T_734cf_row15_col2\" class=\"data row15 col2\" >0.000568</td>\n",
              "      <td id=\"T_734cf_row15_col3\" class=\"data row15 col3\" >0.003730</td>\n",
              "      <td id=\"T_734cf_row15_col4\" class=\"data row15 col4\" >0.012270</td>\n",
              "      <td id=\"T_734cf_row15_col5\" class=\"data row15 col5\" >0.029221</td>\n",
              "      <td id=\"T_734cf_row15_col6\" class=\"data row15 col6\" >0.051234</td>\n",
              "      <td id=\"T_734cf_row15_col7\" class=\"data row15 col7\" >0.069077</td>\n",
              "      <td id=\"T_734cf_row15_col8\" class=\"data row15 col8\" >0.075365</td>\n",
              "      <td id=\"T_734cf_row15_col9\" class=\"data row15 col9\" >0.071040</td>\n",
              "      <td id=\"T_734cf_row15_col10\" class=\"data row15 col10\" >0.190675</td>\n",
              "      <td id=\"T_734cf_row15_col11\" class=\"data row15 col11\" >0.445990</td>\n",
              "      <td id=\"T_734cf_row15_col12\" class=\"data row15 col12\" >0.440032</td>\n",
              "      <td id=\"T_734cf_row15_col13\" class=\"data row15 col13\" >0.149120</td>\n",
              "      <td id=\"T_734cf_row15_col14\" class=\"data row15 col14\" >0.249223</td>\n",
              "      <td id=\"T_734cf_row15_col15\" class=\"data row15 col15\" >0.520059</td>\n",
              "      <td id=\"T_734cf_row15_col16\" class=\"data row15 col16\" >0.217513</td>\n",
              "      <td id=\"T_734cf_row15_col17\" class=\"data row15 col17\" >0.287088</td>\n",
              "      <td id=\"T_734cf_row15_col18\" class=\"data row15 col18\" >0.484005</td>\n",
              "      <td id=\"T_734cf_row15_col19\" class=\"data row15 col19\" >0.213908</td>\n",
              "      <td id=\"T_734cf_row15_col20\" class=\"data row15 col20\" >0.134012</td>\n",
              "      <td id=\"T_734cf_row15_col21\" class=\"data row15 col21\" >0.061220</td>\n",
              "      <td id=\"T_734cf_row15_col22\" class=\"data row15 col22\" >0.029522</td>\n",
              "      <td id=\"T_734cf_row15_col23\" class=\"data row15 col23\" >0.013213</td>\n",
              "      <td id=\"T_734cf_row15_col24\" class=\"data row15 col24\" >0.004869</td>\n",
              "      <td id=\"T_734cf_row15_col25\" class=\"data row15 col25\" >0.000958</td>\n",
              "      <td id=\"T_734cf_row15_col26\" class=\"data row15 col26\" >0.000000</td>\n",
              "      <td id=\"T_734cf_row15_col27\" class=\"data row15 col27\" >0.000000</td>\n",
              "    </tr>\n",
              "    <tr>\n",
              "      <th id=\"T_734cf_level0_row16\" class=\"row_heading level0 row16\" >16</th>\n",
              "      <td id=\"T_734cf_row16_col0\" class=\"data row16 col0\" >0.000025</td>\n",
              "      <td id=\"T_734cf_row16_col1\" class=\"data row16 col1\" >0.000000</td>\n",
              "      <td id=\"T_734cf_row16_col2\" class=\"data row16 col2\" >0.000132</td>\n",
              "      <td id=\"T_734cf_row16_col3\" class=\"data row16 col3\" >0.002186</td>\n",
              "      <td id=\"T_734cf_row16_col4\" class=\"data row16 col4\" >0.007829</td>\n",
              "      <td id=\"T_734cf_row16_col5\" class=\"data row16 col5\" >0.018834</td>\n",
              "      <td id=\"T_734cf_row16_col6\" class=\"data row16 col6\" >0.033185</td>\n",
              "      <td id=\"T_734cf_row16_col7\" class=\"data row16 col7\" >0.044791</td>\n",
              "      <td id=\"T_734cf_row16_col8\" class=\"data row16 col8\" >0.052319</td>\n",
              "      <td id=\"T_734cf_row16_col9\" class=\"data row16 col9\" >0.059602</td>\n",
              "      <td id=\"T_734cf_row16_col10\" class=\"data row16 col10\" >0.065327</td>\n",
              "      <td id=\"T_734cf_row16_col11\" class=\"data row16 col11\" >0.074763</td>\n",
              "      <td id=\"T_734cf_row16_col12\" class=\"data row16 col12\" >0.102311</td>\n",
              "      <td id=\"T_734cf_row16_col13\" class=\"data row16 col13\" >0.186168</td>\n",
              "      <td id=\"T_734cf_row16_col14\" class=\"data row16 col14\" >0.396730</td>\n",
              "      <td id=\"T_734cf_row16_col15\" class=\"data row16 col15\" >0.643346</td>\n",
              "      <td id=\"T_734cf_row16_col16\" class=\"data row16 col16\" >0.237715</td>\n",
              "      <td id=\"T_734cf_row16_col17\" class=\"data row16 col17\" >0.372444</td>\n",
              "      <td id=\"T_734cf_row16_col18\" class=\"data row16 col18\" >0.598219</td>\n",
              "      <td id=\"T_734cf_row16_col19\" class=\"data row16 col19\" >0.291797</td>\n",
              "      <td id=\"T_734cf_row16_col20\" class=\"data row16 col20\" >0.096198</td>\n",
              "      <td id=\"T_734cf_row16_col21\" class=\"data row16 col21\" >0.048560</td>\n",
              "      <td id=\"T_734cf_row16_col22\" class=\"data row16 col22\" >0.025334</td>\n",
              "      <td id=\"T_734cf_row16_col23\" class=\"data row16 col23\" >0.011713</td>\n",
              "      <td id=\"T_734cf_row16_col24\" class=\"data row16 col24\" >0.003810</td>\n",
              "      <td id=\"T_734cf_row16_col25\" class=\"data row16 col25\" >0.000369</td>\n",
              "      <td id=\"T_734cf_row16_col26\" class=\"data row16 col26\" >0.000000</td>\n",
              "      <td id=\"T_734cf_row16_col27\" class=\"data row16 col27\" >0.000000</td>\n",
              "    </tr>\n",
              "    <tr>\n",
              "      <th id=\"T_734cf_level0_row17\" class=\"row_heading level0 row17\" >17</th>\n",
              "      <td id=\"T_734cf_row17_col0\" class=\"data row17 col0\" >0.000000</td>\n",
              "      <td id=\"T_734cf_row17_col1\" class=\"data row17 col1\" >0.000040</td>\n",
              "      <td id=\"T_734cf_row17_col2\" class=\"data row17 col2\" >0.000053</td>\n",
              "      <td id=\"T_734cf_row17_col3\" class=\"data row17 col3\" >0.001142</td>\n",
              "      <td id=\"T_734cf_row17_col4\" class=\"data row17 col4\" >0.004707</td>\n",
              "      <td id=\"T_734cf_row17_col5\" class=\"data row17 col5\" >0.010965</td>\n",
              "      <td id=\"T_734cf_row17_col6\" class=\"data row17 col6\" >0.017649</td>\n",
              "      <td id=\"T_734cf_row17_col7\" class=\"data row17 col7\" >0.026093</td>\n",
              "      <td id=\"T_734cf_row17_col8\" class=\"data row17 col8\" >0.036536</td>\n",
              "      <td id=\"T_734cf_row17_col9\" class=\"data row17 col9\" >0.047729</td>\n",
              "      <td id=\"T_734cf_row17_col10\" class=\"data row17 col10\" >0.059042</td>\n",
              "      <td id=\"T_734cf_row17_col11\" class=\"data row17 col11\" >0.082097</td>\n",
              "      <td id=\"T_734cf_row17_col12\" class=\"data row17 col12\" >0.138147</td>\n",
              "      <td id=\"T_734cf_row17_col13\" class=\"data row17 col13\" >0.287546</td>\n",
              "      <td id=\"T_734cf_row17_col14\" class=\"data row17 col14\" >0.526266</td>\n",
              "      <td id=\"T_734cf_row17_col15\" class=\"data row17 col15\" >0.698864</td>\n",
              "      <td id=\"T_734cf_row17_col16\" class=\"data row17 col16\" >0.433980</td>\n",
              "      <td id=\"T_734cf_row17_col17\" class=\"data row17 col17\" >0.498593</td>\n",
              "      <td id=\"T_734cf_row17_col18\" class=\"data row17 col18\" >0.710554</td>\n",
              "      <td id=\"T_734cf_row17_col19\" class=\"data row17 col19\" >0.363138</td>\n",
              "      <td id=\"T_734cf_row17_col20\" class=\"data row17 col20\" >0.063007</td>\n",
              "      <td id=\"T_734cf_row17_col21\" class=\"data row17 col21\" >0.031314</td>\n",
              "      <td id=\"T_734cf_row17_col22\" class=\"data row17 col22\" >0.015867</td>\n",
              "      <td id=\"T_734cf_row17_col23\" class=\"data row17 col23\" >0.007142</td>\n",
              "      <td id=\"T_734cf_row17_col24\" class=\"data row17 col24\" >0.003074</td>\n",
              "      <td id=\"T_734cf_row17_col25\" class=\"data row17 col25\" >0.000558</td>\n",
              "      <td id=\"T_734cf_row17_col26\" class=\"data row17 col26\" >0.000100</td>\n",
              "      <td id=\"T_734cf_row17_col27\" class=\"data row17 col27\" >0.000000</td>\n",
              "    </tr>\n",
              "    <tr>\n",
              "      <th id=\"T_734cf_level0_row18\" class=\"row_heading level0 row18\" >18</th>\n",
              "      <td id=\"T_734cf_row18_col0\" class=\"data row18 col0\" >0.000038</td>\n",
              "      <td id=\"T_734cf_row18_col1\" class=\"data row18 col1\" >0.000026</td>\n",
              "      <td id=\"T_734cf_row18_col2\" class=\"data row18 col2\" >0.000179</td>\n",
              "      <td id=\"T_734cf_row18_col3\" class=\"data row18 col3\" >0.000689</td>\n",
              "      <td id=\"T_734cf_row18_col4\" class=\"data row18 col4\" >0.002655</td>\n",
              "      <td id=\"T_734cf_row18_col5\" class=\"data row18 col5\" >0.245948</td>\n",
              "      <td id=\"T_734cf_row18_col6\" class=\"data row18 col6\" >0.992073</td>\n",
              "      <td id=\"T_734cf_row18_col7\" class=\"data row18 col7\" >0.735836</td>\n",
              "      <td id=\"T_734cf_row18_col8\" class=\"data row18 col8\" >0.020997</td>\n",
              "      <td id=\"T_734cf_row18_col9\" class=\"data row18 col9\" >0.031284</td>\n",
              "      <td id=\"T_734cf_row18_col10\" class=\"data row18 col10\" >0.048276</td>\n",
              "      <td id=\"T_734cf_row18_col11\" class=\"data row18 col11\" >0.090860</td>\n",
              "      <td id=\"T_734cf_row18_col12\" class=\"data row18 col12\" >0.195333</td>\n",
              "      <td id=\"T_734cf_row18_col13\" class=\"data row18 col13\" >0.394805</td>\n",
              "      <td id=\"T_734cf_row18_col14\" class=\"data row18 col14\" >0.601067</td>\n",
              "      <td id=\"T_734cf_row18_col15\" class=\"data row18 col15\" >0.682521</td>\n",
              "      <td id=\"T_734cf_row18_col16\" class=\"data row18 col16\" >0.324101</td>\n",
              "      <td id=\"T_734cf_row18_col17\" class=\"data row18 col17\" >0.623798</td>\n",
              "      <td id=\"T_734cf_row18_col18\" class=\"data row18 col18\" >0.801361</td>\n",
              "      <td id=\"T_734cf_row18_col19\" class=\"data row18 col19\" >0.414067</td>\n",
              "      <td id=\"T_734cf_row18_col20\" class=\"data row18 col20\" >0.038680</td>\n",
              "      <td id=\"T_734cf_row18_col21\" class=\"data row18 col21\" >0.017555</td>\n",
              "      <td id=\"T_734cf_row18_col22\" class=\"data row18 col22\" >0.008185</td>\n",
              "      <td id=\"T_734cf_row18_col23\" class=\"data row18 col23\" >0.003203</td>\n",
              "      <td id=\"T_734cf_row18_col24\" class=\"data row18 col24\" >0.001447</td>\n",
              "      <td id=\"T_734cf_row18_col25\" class=\"data row18 col25\" >0.000204</td>\n",
              "      <td id=\"T_734cf_row18_col26\" class=\"data row18 col26\" >0.000079</td>\n",
              "      <td id=\"T_734cf_row18_col27\" class=\"data row18 col27\" >0.000000</td>\n",
              "    </tr>\n",
              "    <tr>\n",
              "      <th id=\"T_734cf_level0_row19\" class=\"row_heading level0 row19\" >19</th>\n",
              "      <td id=\"T_734cf_row19_col0\" class=\"data row19 col0\" >0.000000</td>\n",
              "      <td id=\"T_734cf_row19_col1\" class=\"data row19 col1\" >0.000124</td>\n",
              "      <td id=\"T_734cf_row19_col2\" class=\"data row19 col2\" >0.000193</td>\n",
              "      <td id=\"T_734cf_row19_col3\" class=\"data row19 col3\" >0.000344</td>\n",
              "      <td id=\"T_734cf_row19_col4\" class=\"data row19 col4\" >0.001457</td>\n",
              "      <td id=\"T_734cf_row19_col5\" class=\"data row19 col5\" >0.499769</td>\n",
              "      <td id=\"T_734cf_row19_col6\" class=\"data row19 col6\" >0.996495</td>\n",
              "      <td id=\"T_734cf_row19_col7\" class=\"data row19 col7\" >0.993596</td>\n",
              "      <td id=\"T_734cf_row19_col8\" class=\"data row19 col8\" >0.489899</td>\n",
              "      <td id=\"T_734cf_row19_col9\" class=\"data row19 col9\" >0.023833</td>\n",
              "      <td id=\"T_734cf_row19_col10\" class=\"data row19 col10\" >0.054573</td>\n",
              "      <td id=\"T_734cf_row19_col11\" class=\"data row19 col11\" >0.130090</td>\n",
              "      <td id=\"T_734cf_row19_col12\" class=\"data row19 col12\" >0.283456</td>\n",
              "      <td id=\"T_734cf_row19_col13\" class=\"data row19 col13\" >0.479385</td>\n",
              "      <td id=\"T_734cf_row19_col14\" class=\"data row19 col14\" >0.622992</td>\n",
              "      <td id=\"T_734cf_row19_col15\" class=\"data row19 col15\" >0.608341</td>\n",
              "      <td id=\"T_734cf_row19_col16\" class=\"data row19 col16\" >0.049194</td>\n",
              "      <td id=\"T_734cf_row19_col17\" class=\"data row19 col17\" >0.727902</td>\n",
              "      <td id=\"T_734cf_row19_col18\" class=\"data row19 col18\" >0.865166</td>\n",
              "      <td id=\"T_734cf_row19_col19\" class=\"data row19 col19\" >0.444312</td>\n",
              "      <td id=\"T_734cf_row19_col20\" class=\"data row19 col20\" >0.023446</td>\n",
              "      <td id=\"T_734cf_row19_col21\" class=\"data row19 col21\" >0.008741</td>\n",
              "      <td id=\"T_734cf_row19_col22\" class=\"data row19 col22\" >0.003516</td>\n",
              "      <td id=\"T_734cf_row19_col23\" class=\"data row19 col23\" >0.001049</td>\n",
              "      <td id=\"T_734cf_row19_col24\" class=\"data row19 col24\" >0.000753</td>\n",
              "      <td id=\"T_734cf_row19_col25\" class=\"data row19 col25\" >0.000167</td>\n",
              "      <td id=\"T_734cf_row19_col26\" class=\"data row19 col26\" >0.000000</td>\n",
              "      <td id=\"T_734cf_row19_col27\" class=\"data row19 col27\" >0.000000</td>\n",
              "    </tr>\n",
              "    <tr>\n",
              "      <th id=\"T_734cf_level0_row20\" class=\"row_heading level0 row20\" >20</th>\n",
              "      <td id=\"T_734cf_row20_col0\" class=\"data row20 col0\" >0.000000</td>\n",
              "      <td id=\"T_734cf_row20_col1\" class=\"data row20 col1\" >0.000028</td>\n",
              "      <td id=\"T_734cf_row20_col2\" class=\"data row20 col2\" >0.000005</td>\n",
              "      <td id=\"T_734cf_row20_col3\" class=\"data row20 col3\" >0.000071</td>\n",
              "      <td id=\"T_734cf_row20_col4\" class=\"data row20 col4\" >0.000356</td>\n",
              "      <td id=\"T_734cf_row20_col5\" class=\"data row20 col5\" >0.500890</td>\n",
              "      <td id=\"T_734cf_row20_col6\" class=\"data row20 col6\" >0.998087</td>\n",
              "      <td id=\"T_734cf_row20_col7\" class=\"data row20 col7\" >0.994948</td>\n",
              "      <td id=\"T_734cf_row20_col8\" class=\"data row20 col8\" >0.986157</td>\n",
              "      <td id=\"T_734cf_row20_col9\" class=\"data row20 col9\" >0.036606</td>\n",
              "      <td id=\"T_734cf_row20_col10\" class=\"data row20 col10\" >0.093941</td>\n",
              "      <td id=\"T_734cf_row20_col11\" class=\"data row20 col11\" >0.205994</td>\n",
              "      <td id=\"T_734cf_row20_col12\" class=\"data row20 col12\" >0.372828</td>\n",
              "      <td id=\"T_734cf_row20_col13\" class=\"data row20 col13\" >0.531220</td>\n",
              "      <td id=\"T_734cf_row20_col14\" class=\"data row20 col14\" >0.590595</td>\n",
              "      <td id=\"T_734cf_row20_col15\" class=\"data row20 col15\" >0.510263</td>\n",
              "      <td id=\"T_734cf_row20_col16\" class=\"data row20 col16\" >0.395416</td>\n",
              "      <td id=\"T_734cf_row20_col17\" class=\"data row20 col17\" >0.795780</td>\n",
              "      <td id=\"T_734cf_row20_col18\" class=\"data row20 col18\" >0.901975</td>\n",
              "      <td id=\"T_734cf_row20_col19\" class=\"data row20 col19\" >0.461957</td>\n",
              "      <td id=\"T_734cf_row20_col20\" class=\"data row20 col20\" >0.015055</td>\n",
              "      <td id=\"T_734cf_row20_col21\" class=\"data row20 col21\" >0.005208</td>\n",
              "      <td id=\"T_734cf_row20_col22\" class=\"data row20 col22\" >0.002049</td>\n",
              "      <td id=\"T_734cf_row20_col23\" class=\"data row20 col23\" >0.000556</td>\n",
              "      <td id=\"T_734cf_row20_col24\" class=\"data row20 col24\" >0.000536</td>\n",
              "      <td id=\"T_734cf_row20_col25\" class=\"data row20 col25\" >0.000236</td>\n",
              "      <td id=\"T_734cf_row20_col26\" class=\"data row20 col26\" >0.000000</td>\n",
              "      <td id=\"T_734cf_row20_col27\" class=\"data row20 col27\" >0.000000</td>\n",
              "    </tr>\n",
              "    <tr>\n",
              "      <th id=\"T_734cf_level0_row21\" class=\"row_heading level0 row21\" >21</th>\n",
              "      <td id=\"T_734cf_row21_col0\" class=\"data row21 col0\" >0.000000</td>\n",
              "      <td id=\"T_734cf_row21_col1\" class=\"data row21 col1\" >0.000000</td>\n",
              "      <td id=\"T_734cf_row21_col2\" class=\"data row21 col2\" >0.000000</td>\n",
              "      <td id=\"T_734cf_row21_col3\" class=\"data row21 col3\" >0.000000</td>\n",
              "      <td id=\"T_734cf_row21_col4\" class=\"data row21 col4\" >0.000453</td>\n",
              "      <td id=\"T_734cf_row21_col5\" class=\"data row21 col5\" >0.249270</td>\n",
              "      <td id=\"T_734cf_row21_col6\" class=\"data row21 col6\" >0.995753</td>\n",
              "      <td id=\"T_734cf_row21_col7\" class=\"data row21 col7\" >0.989323</td>\n",
              "      <td id=\"T_734cf_row21_col8\" class=\"data row21 col8\" >0.970987</td>\n",
              "      <td id=\"T_734cf_row21_col9\" class=\"data row21 col9\" >0.925439</td>\n",
              "      <td id=\"T_734cf_row21_col10\" class=\"data row21 col10\" >0.092473</td>\n",
              "      <td id=\"T_734cf_row21_col11\" class=\"data row21 col11\" >0.292759</td>\n",
              "      <td id=\"T_734cf_row21_col12\" class=\"data row21 col12\" >0.437769</td>\n",
              "      <td id=\"T_734cf_row21_col13\" class=\"data row21 col13\" >0.529580</td>\n",
              "      <td id=\"T_734cf_row21_col14\" class=\"data row21 col14\" >0.523145</td>\n",
              "      <td id=\"T_734cf_row21_col15\" class=\"data row21 col15\" >0.579613</td>\n",
              "      <td id=\"T_734cf_row21_col16\" class=\"data row21 col16\" >0.715548</td>\n",
              "      <td id=\"T_734cf_row21_col17\" class=\"data row21 col17\" >0.837676</td>\n",
              "      <td id=\"T_734cf_row21_col18\" class=\"data row21 col18\" >0.922690</td>\n",
              "      <td id=\"T_734cf_row21_col19\" class=\"data row21 col19\" >0.031631</td>\n",
              "      <td id=\"T_734cf_row21_col20\" class=\"data row21 col20\" >0.012327</td>\n",
              "      <td id=\"T_734cf_row21_col21\" class=\"data row21 col21\" >0.004532</td>\n",
              "      <td id=\"T_734cf_row21_col22\" class=\"data row21 col22\" >0.001687</td>\n",
              "      <td id=\"T_734cf_row21_col23\" class=\"data row21 col23\" >0.000312</td>\n",
              "      <td id=\"T_734cf_row21_col24\" class=\"data row21 col24\" >0.000359</td>\n",
              "      <td id=\"T_734cf_row21_col25\" class=\"data row21 col25\" >0.000238</td>\n",
              "      <td id=\"T_734cf_row21_col26\" class=\"data row21 col26\" >0.000000</td>\n",
              "      <td id=\"T_734cf_row21_col27\" class=\"data row21 col27\" >0.000000</td>\n",
              "    </tr>\n",
              "    <tr>\n",
              "      <th id=\"T_734cf_level0_row22\" class=\"row_heading level0 row22\" >22</th>\n",
              "      <td id=\"T_734cf_row22_col0\" class=\"data row22 col0\" >0.000000</td>\n",
              "      <td id=\"T_734cf_row22_col1\" class=\"data row22 col1\" >0.000000</td>\n",
              "      <td id=\"T_734cf_row22_col2\" class=\"data row22 col2\" >0.000000</td>\n",
              "      <td id=\"T_734cf_row22_col3\" class=\"data row22 col3\" >0.000064</td>\n",
              "      <td id=\"T_734cf_row22_col4\" class=\"data row22 col4\" >0.001094</td>\n",
              "      <td id=\"T_734cf_row22_col5\" class=\"data row22 col5\" >0.004209</td>\n",
              "      <td id=\"T_734cf_row22_col6\" class=\"data row22 col6\" >0.739393</td>\n",
              "      <td id=\"T_734cf_row22_col7\" class=\"data row22 col7\" >0.975602</td>\n",
              "      <td id=\"T_734cf_row22_col8\" class=\"data row22 col8\" >0.939009</td>\n",
              "      <td id=\"T_734cf_row22_col9\" class=\"data row22 col9\" >0.871459</td>\n",
              "      <td id=\"T_734cf_row22_col10\" class=\"data row22 col10\" >0.767531</td>\n",
              "      <td id=\"T_734cf_row22_col11\" class=\"data row22 col11\" >0.642866</td>\n",
              "      <td id=\"T_734cf_row22_col12\" class=\"data row22 col12\" >0.289852</td>\n",
              "      <td id=\"T_734cf_row22_col13\" class=\"data row22 col13\" >0.254879</td>\n",
              "      <td id=\"T_734cf_row22_col14\" class=\"data row22 col14\" >0.546036</td>\n",
              "      <td id=\"T_734cf_row22_col15\" class=\"data row22 col15\" >0.647175</td>\n",
              "      <td id=\"T_734cf_row22_col16\" class=\"data row22 col16\" >0.763252</td>\n",
              "      <td id=\"T_734cf_row22_col17\" class=\"data row22 col17\" >0.863963</td>\n",
              "      <td id=\"T_734cf_row22_col18\" class=\"data row22 col18\" >0.065485</td>\n",
              "      <td id=\"T_734cf_row22_col19\" class=\"data row22 col19\" >0.028019</td>\n",
              "      <td id=\"T_734cf_row22_col20\" class=\"data row22 col20\" >0.011355</td>\n",
              "      <td id=\"T_734cf_row22_col21\" class=\"data row22 col21\" >0.004211</td>\n",
              "      <td id=\"T_734cf_row22_col22\" class=\"data row22 col22\" >0.001465</td>\n",
              "      <td id=\"T_734cf_row22_col23\" class=\"data row22 col23\" >0.000179</td>\n",
              "      <td id=\"T_734cf_row22_col24\" class=\"data row22 col24\" >0.000246</td>\n",
              "      <td id=\"T_734cf_row22_col25\" class=\"data row22 col25\" >0.000151</td>\n",
              "      <td id=\"T_734cf_row22_col26\" class=\"data row22 col26\" >0.000000</td>\n",
              "      <td id=\"T_734cf_row22_col27\" class=\"data row22 col27\" >0.000000</td>\n",
              "    </tr>\n",
              "    <tr>\n",
              "      <th id=\"T_734cf_level0_row23\" class=\"row_heading level0 row23\" >23</th>\n",
              "      <td id=\"T_734cf_row23_col0\" class=\"data row23 col0\" >0.000000</td>\n",
              "      <td id=\"T_734cf_row23_col1\" class=\"data row23 col1\" >0.000000</td>\n",
              "      <td id=\"T_734cf_row23_col2\" class=\"data row23 col2\" >0.000000</td>\n",
              "      <td id=\"T_734cf_row23_col3\" class=\"data row23 col3\" >0.000093</td>\n",
              "      <td id=\"T_734cf_row23_col4\" class=\"data row23 col4\" >0.002730</td>\n",
              "      <td id=\"T_734cf_row23_col5\" class=\"data row23 col5\" >0.008028</td>\n",
              "      <td id=\"T_734cf_row23_col6\" class=\"data row23 col6\" >0.019716</td>\n",
              "      <td id=\"T_734cf_row23_col7\" class=\"data row23 col7\" >0.454113</td>\n",
              "      <td id=\"T_734cf_row23_col8\" class=\"data row23 col8\" >0.900571</td>\n",
              "      <td id=\"T_734cf_row23_col9\" class=\"data row23 col9\" >0.819139</td>\n",
              "      <td id=\"T_734cf_row23_col10\" class=\"data row23 col10\" >0.713777</td>\n",
              "      <td id=\"T_734cf_row23_col11\" class=\"data row23 col11\" >0.612879</td>\n",
              "      <td id=\"T_734cf_row23_col12\" class=\"data row23 col12\" >0.554109</td>\n",
              "      <td id=\"T_734cf_row23_col13\" class=\"data row23 col13\" >0.553958</td>\n",
              "      <td id=\"T_734cf_row23_col14\" class=\"data row23 col14\" >0.609199</td>\n",
              "      <td id=\"T_734cf_row23_col15\" class=\"data row23 col15\" >0.699925</td>\n",
              "      <td id=\"T_734cf_row23_col16\" class=\"data row23 col16\" >0.547253</td>\n",
              "      <td id=\"T_734cf_row23_col17\" class=\"data row23 col17\" >0.130672</td>\n",
              "      <td id=\"T_734cf_row23_col18\" class=\"data row23 col18\" >0.059023</td>\n",
              "      <td id=\"T_734cf_row23_col19\" class=\"data row23 col19\" >0.025964</td>\n",
              "      <td id=\"T_734cf_row23_col20\" class=\"data row23 col20\" >0.010756</td>\n",
              "      <td id=\"T_734cf_row23_col21\" class=\"data row23 col21\" >0.003725</td>\n",
              "      <td id=\"T_734cf_row23_col22\" class=\"data row23 col22\" >0.001451</td>\n",
              "      <td id=\"T_734cf_row23_col23\" class=\"data row23 col23\" >0.000303</td>\n",
              "      <td id=\"T_734cf_row23_col24\" class=\"data row23 col24\" >0.000280</td>\n",
              "      <td id=\"T_734cf_row23_col25\" class=\"data row23 col25\" >0.000091</td>\n",
              "      <td id=\"T_734cf_row23_col26\" class=\"data row23 col26\" >0.000000</td>\n",
              "      <td id=\"T_734cf_row23_col27\" class=\"data row23 col27\" >0.000000</td>\n",
              "    </tr>\n",
              "    <tr>\n",
              "      <th id=\"T_734cf_level0_row24\" class=\"row_heading level0 row24\" >24</th>\n",
              "      <td id=\"T_734cf_row24_col0\" class=\"data row24 col0\" >0.000000</td>\n",
              "      <td id=\"T_734cf_row24_col1\" class=\"data row24 col1\" >0.000000</td>\n",
              "      <td id=\"T_734cf_row24_col2\" class=\"data row24 col2\" >0.000066</td>\n",
              "      <td id=\"T_734cf_row24_col3\" class=\"data row24 col3\" >0.000449</td>\n",
              "      <td id=\"T_734cf_row24_col4\" class=\"data row24 col4\" >0.003826</td>\n",
              "      <td id=\"T_734cf_row24_col5\" class=\"data row24 col5\" >0.011402</td>\n",
              "      <td id=\"T_734cf_row24_col6\" class=\"data row24 col6\" >0.029948</td>\n",
              "      <td id=\"T_734cf_row24_col7\" class=\"data row24 col7\" >0.069301</td>\n",
              "      <td id=\"T_734cf_row24_col8\" class=\"data row24 col8\" >0.130728</td>\n",
              "      <td id=\"T_734cf_row24_col9\" class=\"data row24 col9\" >0.288463</td>\n",
              "      <td id=\"T_734cf_row24_col10\" class=\"data row24 col10\" >0.441273</td>\n",
              "      <td id=\"T_734cf_row24_col11\" class=\"data row24 col11\" >0.623440</td>\n",
              "      <td id=\"T_734cf_row24_col12\" class=\"data row24 col12\" >0.594723</td>\n",
              "      <td id=\"T_734cf_row24_col13\" class=\"data row24 col13\" >0.611942</td>\n",
              "      <td id=\"T_734cf_row24_col14\" class=\"data row24 col14\" >0.170520</td>\n",
              "      <td id=\"T_734cf_row24_col15\" class=\"data row24 col15\" >0.005211</td>\n",
              "      <td id=\"T_734cf_row24_col16\" class=\"data row24 col16\" >0.175228</td>\n",
              "      <td id=\"T_734cf_row24_col17\" class=\"data row24 col17\" >0.106010</td>\n",
              "      <td id=\"T_734cf_row24_col18\" class=\"data row24 col18\" >0.053060</td>\n",
              "      <td id=\"T_734cf_row24_col19\" class=\"data row24 col19\" >0.025163</td>\n",
              "      <td id=\"T_734cf_row24_col20\" class=\"data row24 col20\" >0.010371</td>\n",
              "      <td id=\"T_734cf_row24_col21\" class=\"data row24 col21\" >0.004004</td>\n",
              "      <td id=\"T_734cf_row24_col22\" class=\"data row24 col22\" >0.001169</td>\n",
              "      <td id=\"T_734cf_row24_col23\" class=\"data row24 col23\" >0.000074</td>\n",
              "      <td id=\"T_734cf_row24_col24\" class=\"data row24 col24\" >0.000163</td>\n",
              "      <td id=\"T_734cf_row24_col25\" class=\"data row24 col25\" >0.000028</td>\n",
              "      <td id=\"T_734cf_row24_col26\" class=\"data row24 col26\" >0.000000</td>\n",
              "      <td id=\"T_734cf_row24_col27\" class=\"data row24 col27\" >0.000000</td>\n",
              "    </tr>\n",
              "    <tr>\n",
              "      <th id=\"T_734cf_level0_row25\" class=\"row_heading level0 row25\" >25</th>\n",
              "      <td id=\"T_734cf_row25_col0\" class=\"data row25 col0\" >0.000000</td>\n",
              "      <td id=\"T_734cf_row25_col1\" class=\"data row25 col1\" >0.000000</td>\n",
              "      <td id=\"T_734cf_row25_col2\" class=\"data row25 col2\" >0.000000</td>\n",
              "      <td id=\"T_734cf_row25_col3\" class=\"data row25 col3\" >0.000387</td>\n",
              "      <td id=\"T_734cf_row25_col4\" class=\"data row25 col4\" >0.002614</td>\n",
              "      <td id=\"T_734cf_row25_col5\" class=\"data row25 col5\" >0.010354</td>\n",
              "      <td id=\"T_734cf_row25_col6\" class=\"data row25 col6\" >0.031173</td>\n",
              "      <td id=\"T_734cf_row25_col7\" class=\"data row25 col7\" >0.071038</td>\n",
              "      <td id=\"T_734cf_row25_col8\" class=\"data row25 col8\" >0.131460</td>\n",
              "      <td id=\"T_734cf_row25_col9\" class=\"data row25 col9\" >0.199942</td>\n",
              "      <td id=\"T_734cf_row25_col10\" class=\"data row25 col10\" >0.268288</td>\n",
              "      <td id=\"T_734cf_row25_col11\" class=\"data row25 col11\" >0.314036</td>\n",
              "      <td id=\"T_734cf_row25_col12\" class=\"data row25 col12\" >0.326566</td>\n",
              "      <td id=\"T_734cf_row25_col13\" class=\"data row25 col13\" >0.306960</td>\n",
              "      <td id=\"T_734cf_row25_col14\" class=\"data row25 col14\" >0.261141</td>\n",
              "      <td id=\"T_734cf_row25_col15\" class=\"data row25 col15\" >0.202807</td>\n",
              "      <td id=\"T_734cf_row25_col16\" class=\"data row25 col16\" >0.139651</td>\n",
              "      <td id=\"T_734cf_row25_col17\" class=\"data row25 col17\" >0.086367</td>\n",
              "      <td id=\"T_734cf_row25_col18\" class=\"data row25 col18\" >0.046287</td>\n",
              "      <td id=\"T_734cf_row25_col19\" class=\"data row25 col19\" >0.022879</td>\n",
              "      <td id=\"T_734cf_row25_col20\" class=\"data row25 col20\" >0.009390</td>\n",
              "      <td id=\"T_734cf_row25_col21\" class=\"data row25 col21\" >0.004114</td>\n",
              "      <td id=\"T_734cf_row25_col22\" class=\"data row25 col22\" >0.001584</td>\n",
              "      <td id=\"T_734cf_row25_col23\" class=\"data row25 col23\" >0.000120</td>\n",
              "      <td id=\"T_734cf_row25_col24\" class=\"data row25 col24\" >0.000158</td>\n",
              "      <td id=\"T_734cf_row25_col25\" class=\"data row25 col25\" >0.000000</td>\n",
              "      <td id=\"T_734cf_row25_col26\" class=\"data row25 col26\" >0.000000</td>\n",
              "      <td id=\"T_734cf_row25_col27\" class=\"data row25 col27\" >0.000000</td>\n",
              "    </tr>\n",
              "    <tr>\n",
              "      <th id=\"T_734cf_level0_row26\" class=\"row_heading level0 row26\" >26</th>\n",
              "      <td id=\"T_734cf_row26_col0\" class=\"data row26 col0\" >0.000000</td>\n",
              "      <td id=\"T_734cf_row26_col1\" class=\"data row26 col1\" >0.000000</td>\n",
              "      <td id=\"T_734cf_row26_col2\" class=\"data row26 col2\" >0.000000</td>\n",
              "      <td id=\"T_734cf_row26_col3\" class=\"data row26 col3\" >0.000000</td>\n",
              "      <td id=\"T_734cf_row26_col4\" class=\"data row26 col4\" >0.000683</td>\n",
              "      <td id=\"T_734cf_row26_col5\" class=\"data row26 col5\" >0.004481</td>\n",
              "      <td id=\"T_734cf_row26_col6\" class=\"data row26 col6\" >0.016640</td>\n",
              "      <td id=\"T_734cf_row26_col7\" class=\"data row26 col7\" >0.039040</td>\n",
              "      <td id=\"T_734cf_row26_col8\" class=\"data row26 col8\" >0.073101</td>\n",
              "      <td id=\"T_734cf_row26_col9\" class=\"data row26 col9\" >0.106343</td>\n",
              "      <td id=\"T_734cf_row26_col10\" class=\"data row26 col10\" >0.142433</td>\n",
              "      <td id=\"T_734cf_row26_col11\" class=\"data row26 col11\" >0.169425</td>\n",
              "      <td id=\"T_734cf_row26_col12\" class=\"data row26 col12\" >0.176472</td>\n",
              "      <td id=\"T_734cf_row26_col13\" class=\"data row26 col13\" >0.169022</td>\n",
              "      <td id=\"T_734cf_row26_col14\" class=\"data row26 col14\" >0.147443</td>\n",
              "      <td id=\"T_734cf_row26_col15\" class=\"data row26 col15\" >0.114383</td>\n",
              "      <td id=\"T_734cf_row26_col16\" class=\"data row26 col16\" >0.081698</td>\n",
              "      <td id=\"T_734cf_row26_col17\" class=\"data row26 col17\" >0.052885</td>\n",
              "      <td id=\"T_734cf_row26_col18\" class=\"data row26 col18\" >0.030014</td>\n",
              "      <td id=\"T_734cf_row26_col19\" class=\"data row26 col19\" >0.014482</td>\n",
              "      <td id=\"T_734cf_row26_col20\" class=\"data row26 col20\" >0.005050</td>\n",
              "      <td id=\"T_734cf_row26_col21\" class=\"data row26 col21\" >0.002593</td>\n",
              "      <td id=\"T_734cf_row26_col22\" class=\"data row26 col22\" >0.001134</td>\n",
              "      <td id=\"T_734cf_row26_col23\" class=\"data row26 col23\" >0.000190</td>\n",
              "      <td id=\"T_734cf_row26_col24\" class=\"data row26 col24\" >0.000000</td>\n",
              "      <td id=\"T_734cf_row26_col25\" class=\"data row26 col25\" >0.000037</td>\n",
              "      <td id=\"T_734cf_row26_col26\" class=\"data row26 col26\" >0.000000</td>\n",
              "      <td id=\"T_734cf_row26_col27\" class=\"data row26 col27\" >0.000000</td>\n",
              "    </tr>\n",
              "    <tr>\n",
              "      <th id=\"T_734cf_level0_row27\" class=\"row_heading level0 row27\" >27</th>\n",
              "      <td id=\"T_734cf_row27_col0\" class=\"data row27 col0\" >0.000000</td>\n",
              "      <td id=\"T_734cf_row27_col1\" class=\"data row27 col1\" >0.000000</td>\n",
              "      <td id=\"T_734cf_row27_col2\" class=\"data row27 col2\" >0.000000</td>\n",
              "      <td id=\"T_734cf_row27_col3\" class=\"data row27 col3\" >0.000000</td>\n",
              "      <td id=\"T_734cf_row27_col4\" class=\"data row27 col4\" >0.000095</td>\n",
              "      <td id=\"T_734cf_row27_col5\" class=\"data row27 col5\" >0.000585</td>\n",
              "      <td id=\"T_734cf_row27_col6\" class=\"data row27 col6\" >0.001538</td>\n",
              "      <td id=\"T_734cf_row27_col7\" class=\"data row27 col7\" >0.003204</td>\n",
              "      <td id=\"T_734cf_row27_col8\" class=\"data row27 col8\" >0.004670</td>\n",
              "      <td id=\"T_734cf_row27_col9\" class=\"data row27 col9\" >0.007148</td>\n",
              "      <td id=\"T_734cf_row27_col10\" class=\"data row27 col10\" >0.011993</td>\n",
              "      <td id=\"T_734cf_row27_col11\" class=\"data row27 col11\" >0.015394</td>\n",
              "      <td id=\"T_734cf_row27_col12\" class=\"data row27 col12\" >0.018726</td>\n",
              "      <td id=\"T_734cf_row27_col13\" class=\"data row27 col13\" >0.021517</td>\n",
              "      <td id=\"T_734cf_row27_col14\" class=\"data row27 col14\" >0.024382</td>\n",
              "      <td id=\"T_734cf_row27_col15\" class=\"data row27 col15\" >0.021448</td>\n",
              "      <td id=\"T_734cf_row27_col16\" class=\"data row27 col16\" >0.017374</td>\n",
              "      <td id=\"T_734cf_row27_col17\" class=\"data row27 col17\" >0.012364</td>\n",
              "      <td id=\"T_734cf_row27_col18\" class=\"data row27 col18\" >0.006924</td>\n",
              "      <td id=\"T_734cf_row27_col19\" class=\"data row27 col19\" >0.002638</td>\n",
              "      <td id=\"T_734cf_row27_col20\" class=\"data row27 col20\" >0.001012</td>\n",
              "      <td id=\"T_734cf_row27_col21\" class=\"data row27 col21\" >0.000413</td>\n",
              "      <td id=\"T_734cf_row27_col22\" class=\"data row27 col22\" >0.000440</td>\n",
              "      <td id=\"T_734cf_row27_col23\" class=\"data row27 col23\" >0.000075</td>\n",
              "      <td id=\"T_734cf_row27_col24\" class=\"data row27 col24\" >0.000000</td>\n",
              "      <td id=\"T_734cf_row27_col25\" class=\"data row27 col25\" >0.000000</td>\n",
              "      <td id=\"T_734cf_row27_col26\" class=\"data row27 col26\" >0.000000</td>\n",
              "      <td id=\"T_734cf_row27_col27\" class=\"data row27 col27\" >0.000000</td>\n",
              "    </tr>\n",
              "  </tbody>\n",
              "</table>\n"
            ]
          },
          "metadata": {},
          "execution_count": 26
        }
      ]
    },
    {
      "cell_type": "code",
      "source": [
        "# mean() 에 인자로 (-1,-2)의 튜플을 넣어주는 이유는 특정 위치의 평균만을 구하고 싶을 때 사용한다.\n",
        "# tensor의 shape는 대게 [1, 40, 40] 이런 식인데 -1, -2의 인덱싱을 통해 가로 세로의 값들만 가지고 평균을 구할 때 사용한다.\n",
        "# 즉 가로 세로를 가지고 구하는 값은 단 rank-1의 텐서를 가지며 이러한 텐서가 stack된 1010개를 가지고 있다. 그래서 텐서의 크기가 (1010)인 이유다."
      ],
      "metadata": {
        "id": "32dgqNPrKa6B"
      },
      "execution_count": 27,
      "outputs": []
    },
    {
      "cell_type": "code",
      "source": [
        "# 특정 숫자의 이미지와 이상적인 숫자의 거리가 짧다면 그 숫자가 동일하다는 판단하는 함수를 가지고 학습한다.\n",
        "def is_3(x): return mnist_distance(x, mean3) < mnist_distance(x, mean7) \n",
        "\n",
        "\n",
        "# 위 함수는 x에 특정 숫자를 넣었을 때 3과의 차이가 7보다 적다면(3과 거의 동일시) True를 반환한다.\n",
        "\n",
        "is_3(valid_3_tens[10]) # True\n",
        "is_3(valid_3_tens).float() # tensor([1., 1., 1.,  ..., 1., 1., 1.]) True면 1을 반환 False는 0을 반환\n",
        "accuracy_3s = is_3(valid_3_tens).float().mean()\n",
        "accuracy_7s = (1 - is_3(valid_7_tens).float()).mean() # 1.0 == 100% 맞다..\n",
        "\n",
        "accuracy_7s, accuracy_3s, (accuracy_7s + accuracy_3s) /2 "
      ],
      "metadata": {
        "colab": {
          "base_uri": "https://localhost:8080/"
        },
        "id": "0x8BjDL6Ka3J",
        "outputId": "4dca508a-0b48-4df0-d564-4cae7b1bfeac"
      },
      "execution_count": 28,
      "outputs": [
        {
          "output_type": "execute_result",
          "data": {
            "text/plain": [
              "(tensor(1.), tensor(0.9168), tensor(0.9584))"
            ]
          },
          "metadata": {},
          "execution_count": 28
        }
      ]
    },
    {
      "cell_type": "code",
      "source": [
        ""
      ],
      "metadata": {
        "id": "u9UkSJehSIDp"
      },
      "execution_count": 28,
      "outputs": []
    },
    {
      "cell_type": "markdown",
      "source": [
        "# stochastic gradient descent 확률적 경사하강법"
      ],
      "metadata": {
        "id": "L3bZ47m3SEX_"
      }
    },
    {
      "cell_type": "code",
      "source": [
        "def f(x) : return x**2\n",
        "\n",
        "plot_function(f, 'x', 'x**2') # function을 가지고 그래프를 표시, 2,3번째 인자는 각각 가로 세로의 태그"
      ],
      "metadata": {
        "colab": {
          "base_uri": "https://localhost:8080/",
          "height": 279
        },
        "id": "NjGqZ9AIKazw",
        "outputId": "e1723540-e909-488f-be08-811af2ef910f"
      },
      "execution_count": 29,
      "outputs": [
        {
          "output_type": "display_data",
          "data": {
            "text/plain": [
              "<Figure size 432x288 with 1 Axes>"
            ],
            "image/png": "[encoded data removed]"
          },
          "metadata": {
            "needs_background": "light"
          }
        }
      ]
    },
    {
      "cell_type": "code",
      "source": [
        "plot_function(f, 'x', 'x**2')\n",
        "plt.scatter(-1.5, f(-1.5), color='red')"
      ],
      "metadata": {
        "colab": {
          "base_uri": "https://localhost:8080/",
          "height": 297
        },
        "id": "zyH0MBjFKawY",
        "outputId": "30404fe6-0ea2-4f79-bd01-5a84d83cec52"
      },
      "execution_count": 30,
      "outputs": [
        {
          "output_type": "execute_result",
          "data": {
            "text/plain": [
              "<matplotlib.collections.PathCollection at 0x7fca9289c890>"
            ]
          },
          "metadata": {},
          "execution_count": 30
        },
        {
          "output_type": "display_data",
          "data": {
            "text/plain": [
              "<Figure size 432x288 with 1 Axes>"
            ],
            "image/png": "[encoded data removed]"
          },
          "metadata": {
            "needs_background": "light"
          }
        }
      ]
    },
    {
      "cell_type": "code",
      "source": [
        "# 특정값의 변수에 대한 gradient를 계산해달라고 하는 함수 : requires_grad_()\n",
        "\n",
        "xt = tensor(3.).requires_grad_() # tensor(3., requires_grad=True)\n",
        "\n",
        "yt = f(xt)\n",
        "yt.backward() # 그레디언트 계산 initialize\n",
        "\n",
        "xt.grad"
      ],
      "metadata": {
        "colab": {
          "base_uri": "https://localhost:8080/"
        },
        "id": "xQPqqpjkc0u9",
        "outputId": "50d5ff87-21cb-4494-98cf-1e4f5644008a"
      },
      "execution_count": 31,
      "outputs": [
        {
          "output_type": "execute_result",
          "data": {
            "text/plain": [
              "tensor(6.)"
            ]
          },
          "metadata": {},
          "execution_count": 31
        }
      ]
    },
    {
      "cell_type": "code",
      "source": [
        "xt = tensor([10., 36., 25.]).requires_grad_()\n",
        "xt # tensor([10., 36., 25.], requires_grad=True)\n",
        "\n",
        "def f(x): return (x**2).sum()\n",
        "yt = f(xt)\n",
        "yt # 100 + 36^2 + 25^2"
      ],
      "metadata": {
        "colab": {
          "base_uri": "https://localhost:8080/"
        },
        "id": "mU82PFhkdh9p",
        "outputId": "abe327ca-5a83-4ca9-f9fb-cac8d23ae807"
      },
      "execution_count": 32,
      "outputs": [
        {
          "output_type": "execute_result",
          "data": {
            "text/plain": [
              "tensor(2021., grad_fn=<SumBackward0>)"
            ]
          },
          "metadata": {},
          "execution_count": 32
        }
      ]
    },
    {
      "cell_type": "code",
      "source": [
        "# 위 예제 미분\n",
        "\n",
        "yt.backward()\n",
        "xt.grad # 기울기 2x에 값을 대입"
      ],
      "metadata": {
        "colab": {
          "base_uri": "https://localhost:8080/"
        },
        "id": "ERG5xILGd8kx",
        "outputId": "f201705d-5c25-4256-80f6-abc65c07ba99"
      },
      "execution_count": 33,
      "outputs": [
        {
          "output_type": "execute_result",
          "data": {
            "text/plain": [
              "tensor([20., 72., 50.])"
            ]
          },
          "metadata": {},
          "execution_count": 33
        }
      ]
    },
    {
      "cell_type": "markdown",
      "source": [
        "4.4.2"
      ],
      "metadata": {
        "id": "a727BkYwecsJ"
      }
    },
    {
      "cell_type": "code",
      "source": [
        "# 학습률을 사용하여 그레디언트의 파라미터를 조정해 나아갈 수 있다.\n",
        "# 학습률은 대게 0.1 ~ 0.001 사이며, 학습의 과정을 통해 좋은 모델의 결과 속 학습률을 사용할 수도 있다.\n",
        "\n",
        "# w -= w.grad * lr 을 최적화 단계를 사용한 파라미터의 갱신단계라고 불린다.\n",
        "def f(x) : return (x**2)\n",
        "plot_function(f, 'x' , 'x^2')\n",
        "plt.scatter(-5 , f(-5), color='red')\n",
        "\n",
        "# 만약 학습률이 0.01이라면?\n",
        "\n",
        "# -5 -= 2 * 5 * 0.01 = -4.9 << 미비함\n",
        "\n",
        "# 만약 학습률이 1이라면?\n",
        "\n",
        "# -5 -= 2 * 5 * 1 = 5 << 뛰어다니는 현상 발생"
      ],
      "metadata": {
        "colab": {
          "base_uri": "https://localhost:8080/",
          "height": 297
        },
        "id": "Jy3l9NovNn_3",
        "outputId": "05e0d9ee-e31d-4287-9d60-59a91847f0aa"
      },
      "execution_count": 34,
      "outputs": [
        {
          "output_type": "execute_result",
          "data": {
            "text/plain": [
              "<matplotlib.collections.PathCollection at 0x7fca907a7510>"
            ]
          },
          "metadata": {},
          "execution_count": 34
        },
        {
          "output_type": "display_data",
          "data": {
            "text/plain": [
              "<Figure size 432x288 with 1 Axes>"
            ],
            "image/png": "[encoded data removed]"
          },
          "metadata": {
            "needs_background": "light"
          }
        }
      ]
    },
    {
      "cell_type": "code",
      "source": [
        "# 확률적 경사하강법을 활용하여 시작부터 끝까지 보여주는 예제\n",
        "\n",
        "time = torch.arange(0,20).float() # tensor([ 0.,  1.,  2.,  3.,  4.,  5.,  6.,  7.,  8.,  9., 10., 11., 12., 13., 14., 15., 16., 17., 18., 19.])\n",
        "speed = torch.randn(20)*3 + 0.75 * (time-9.5)**2 + 1\n",
        "plt.scatter(time,speed)\n",
        "\n",
        "# speed => tensor([71.3436, 55.7348, 45.5466, 32.5137, 22.7267, 13.6544,  8.5335, \n",
        "# 11.6544,  5.2311, -0.8985,  2.1044,  3.5602,  0.3670,  8.0736, 15.0035, 29.3479, \n",
        "# 33.2235, 43.0720, 54.9268, 65.1467])\n",
        "\n"
      ],
      "metadata": {
        "colab": {
          "base_uri": "https://localhost:8080/",
          "height": 283
        },
        "id": "MB-knSxsNn84",
        "outputId": "1d5ab548-8533-4c1e-c151-2f8b295ede44"
      },
      "execution_count": 35,
      "outputs": [
        {
          "output_type": "execute_result",
          "data": {
            "text/plain": [
              "<matplotlib.collections.PathCollection at 0x7fca9075e850>"
            ]
          },
          "metadata": {},
          "execution_count": 35
        },
        {
          "output_type": "display_data",
          "data": {
            "text/plain": [
              "<Figure size 432x288 with 1 Axes>"
            ],
            "image/png": "[encoded data removed]"
          },
          "metadata": {
            "needs_background": "light"
          }
        }
      ]
    },
    {
      "cell_type": "code",
      "source": [
        "# 파라미터를 조정할 함수의 입력\n",
        "def f(t, params):\n",
        "  a,b,c = params\n",
        "  return a*(t**2) + (b*t) + c"
      ],
      "metadata": {
        "id": "f4hobVGRNn4d"
      },
      "execution_count": 36,
      "outputs": []
    },
    {
      "cell_type": "code",
      "source": [
        "# 연속적인 값을 예측하는 회귀문제에서는 일반적으로 평균제곱오차 손실함수를 사용한다.\n",
        "def mse(pred, target): return ((pred - target)**2).mean()"
      ],
      "metadata": {
        "id": "sEkQ8abGTlSZ"
      },
      "execution_count": 37,
      "outputs": []
    },
    {
      "cell_type": "code",
      "source": [
        "params = torch.randn(3).requires_grad_() # tensor([-0.1335,  0.3415, -0.0716], requires_grad=True)\n",
        "# randn은 평균이 0이고 표준편차가 1인 정규분포 내에 값들을 크기에 맞게 랜덤으로 부여한다.\n",
        "\n",
        "preds = f(time, params) # 시간에 따라 값이 점점 더 커지는 모습을 보여준다.\n",
        "\n",
        "def show_preds(preds, ax=None):\n",
        "  if ax is None: ax = plt.subplots()[1] # 왜 인덱스 1을 넣어야하는가?\n",
        "  ax.scatter(time,speed) # 기존의 시간 별 속도 plot\n",
        "  ax.scatter(time, to_np(preds), color='red') # to_numpy로 예측값을 바꿔준다. 왜 굳이 넘파이로 변환하지?\n",
        "  ax.set_ylim(-300, 100) # 그래프 y limit\n",
        "\n",
        "# type(preds) => torch.Tensor\n",
        "# type(to_np(preds)) => numpy.ndarray\n",
        "# type(time) => torch.Tensor\n",
        "\n",
        "show_preds(preds)"
      ],
      "metadata": {
        "colab": {
          "base_uri": "https://localhost:8080/",
          "height": 269
        },
        "id": "x8j3pMsWT0fE",
        "outputId": "5a0060c2-2999-490f-9d82-c412b377f9c1"
      },
      "execution_count": 38,
      "outputs": [
        {
          "output_type": "display_data",
          "data": {
            "text/plain": [
              "<Figure size 432x288 with 1 Axes>"
            ],
            "image/png": "[encoded data removed]"
          },
          "metadata": {
            "needs_background": "light"
          }
        }
      ]
    },
    {
      "cell_type": "code",
      "source": [
        "loss = mse(preds, speed)\n",
        "loss\n",
        "\n",
        "# 다음과 같은 손실평균이 났다.\n",
        "\n",
        "# loss도 그래프처럼 만들어지는데 여기서 파라미터의 그래디언트를 계산해준다"
      ],
      "metadata": {
        "colab": {
          "base_uri": "https://localhost:8080/"
        },
        "id": "grAC3HFRV8fo",
        "outputId": "5b5419bd-a192-4269-8789-2a817ed780ba"
      },
      "execution_count": 39,
      "outputs": [
        {
          "output_type": "execute_result",
          "data": {
            "text/plain": [
              "tensor(25823.8086, grad_fn=<MeanBackward0>)"
            ]
          },
          "metadata": {},
          "execution_count": 39
        }
      ]
    },
    {
      "cell_type": "code",
      "source": [
        "loss.backward() # 한 번만 실행해주고 그 다음부턴 안됨\n",
        "params.grad\n",
        "\n",
        "# tensor([-164.1040,  -10.3645,   -0.7590])\n",
        "\n",
        "params.grad * 1e-5 # 더 작은 가중치로 조정되었다."
      ],
      "metadata": {
        "colab": {
          "base_uri": "https://localhost:8080/"
        },
        "id": "5LjODiEjYaLk",
        "outputId": "608d8c57-95e3-48fd-c72f-7b057ab2f59b"
      },
      "execution_count": 40,
      "outputs": [
        {
          "output_type": "execute_result",
          "data": {
            "text/plain": [
              "tensor([-0.5320, -0.0342, -0.0025])"
            ]
          },
          "metadata": {},
          "execution_count": 40
        }
      ]
    },
    {
      "cell_type": "code",
      "source": [
        "# 가중치 갱신하기\n",
        "lr = 1e-5\n",
        "\n",
        "params.data -= lr * params.grad.data # 가중치를 조정하고\n",
        "params.grad = None # 다시 미분값을 없음으로 정의한다."
      ],
      "metadata": {
        "id": "fLsQ43x3bBAC"
      },
      "execution_count": 41,
      "outputs": []
    },
    {
      "cell_type": "code",
      "source": [
        "# 조정확인\n",
        "\n",
        "preds = f(time, params)\n",
        "mse(preds, speed) # 오차가 감소하였다."
      ],
      "metadata": {
        "colab": {
          "base_uri": "https://localhost:8080/"
        },
        "id": "GwO6DL4NcukM",
        "outputId": "b4583d1c-7c2d-4e8f-f2cc-7348bf9263ba"
      },
      "execution_count": 42,
      "outputs": [
        {
          "output_type": "execute_result",
          "data": {
            "text/plain": [
              "tensor(5435.5356, grad_fn=<MeanBackward0>)"
            ]
          },
          "metadata": {},
          "execution_count": 42
        }
      ]
    },
    {
      "cell_type": "code",
      "source": [
        "show_preds(preds)"
      ],
      "metadata": {
        "colab": {
          "base_uri": "https://localhost:8080/",
          "height": 269
        },
        "id": "GEVu2-ELdODx",
        "outputId": "b046324b-ac70-4e2e-928b-b78dea9423e3"
      },
      "execution_count": 43,
      "outputs": [
        {
          "output_type": "display_data",
          "data": {
            "text/plain": [
              "<Figure size 432x288 with 1 Axes>"
            ],
            "image/png": "[encoded data removed]"
          },
          "metadata": {
            "needs_background": "light"
          }
        }
      ]
    },
    {
      "cell_type": "markdown",
      "source": [
        "지금까지의 과정을 다시 함수로"
      ],
      "metadata": {
        "id": "I3Us_jL2dYr_"
      }
    },
    {
      "cell_type": "code",
      "source": [
        "def apply_step(params, prn=True):\n",
        "  preds = f(time, params) # 시간과 파라미터를 곱한 2차함수\n",
        "  loss = mse(preds, speed) # 예측과 스피드를 제곱평균 손실함수로 계산\n",
        "  loss.backward() # 손실을 미분가능한 상태로 만들어준 뒤\n",
        "  params.data -= lr * params.grad.data # 파라미터를 오차율과 그레디언트의 차로 계산함\n",
        "  params.grad = None\n",
        "  if prn: print(loss.item()) # 손실의 정도를 출력해주고,\n",
        "  return preds # 예측값을 반환\n"
      ],
      "metadata": {
        "id": "qiciw_Kmda7o"
      },
      "execution_count": 44,
      "outputs": []
    },
    {
      "cell_type": "code",
      "source": [
        "for i in range(10): apply_step(params)"
      ],
      "metadata": {
        "colab": {
          "base_uri": "https://localhost:8080/"
        },
        "id": "UCbgj6jrmykT",
        "outputId": "168e9a28-9cab-415b-f011-487ab23b2ad3"
      },
      "execution_count": 45,
      "outputs": [
        {
          "output_type": "stream",
          "name": "stdout",
          "text": [
            "5435.53564453125\n",
            "1577.44921875\n",
            "847.3778076171875\n",
            "709.2225341796875\n",
            "683.0758056640625\n",
            "678.1243896484375\n",
            "677.1838989257812\n",
            "677.0023803710938\n",
            "676.9645385742188\n",
            "676.9537353515625\n"
          ]
        }
      ]
    },
    {
      "cell_type": "code",
      "source": [
        "_,axs = plt.subplots(1,4,figsize=(12,3))\n",
        "for ax in axs: show_preds(apply_step(params, False), ax)\n",
        "plt.tight_layout()"
      ],
      "metadata": {
        "colab": {
          "base_uri": "https://localhost:8080/",
          "height": 225
        },
        "id": "SfX0M9Zrnmwt",
        "outputId": "6ff5cef0-62f4-46a8-ce0b-cb19fe5e2cb3"
      },
      "execution_count": 46,
      "outputs": [
        {
          "output_type": "display_data",
          "data": {
            "text/plain": [
              "<Figure size 864x216 with 4 Axes>"
            ],
            "image/png": "[encoded data removed]"
          },
          "metadata": {
            "needs_background": "light"
          }
        }
      ]
    },
    {
      "cell_type": "markdown",
      "source": [
        "# 4.5 MNIST Loss Function"
      ],
      "metadata": {
        "id": "3d5UFfuPSOII"
      }
    },
    {
      "cell_type": "code",
      "source": [
        "# 랭크 3의 텐서들을 랭크 2로 재배열\n",
        "# stacked_threes.shape = [6131, 28, 28]\n",
        "# stacked_sevens.shape = [6265, 28, 28]\n",
        "\n",
        "train_x = torch.cat([stacked_threes, stacked_sevens]).view(-1, 28*28)\n",
        "\n",
        "\n",
        "([1] * 10 + [0] * 5) # [1, 1, 1, 1, 1, 1, 1, 1, 1, 1, 0, 0, 0, 0, 0] 처럼 1차원 텐서로 값이 매겨진다.\n",
        "\n",
        "train_y = tensor([1] * len(threes) + [0] * len(sevens)).unsqueeze(1) # unsqueeze는 인덱스 x에 차원을 추가한다는 뜻\n",
        "# 본래 train_y는 1차원 텐서를 가지지만 unsqueeze로 2차원 텐서를 가지게 되었다.\n",
        "\n",
        "train_x.shape, train_y.shape\n",
        "train_y"
      ],
      "metadata": {
        "colab": {
          "base_uri": "https://localhost:8080/"
        },
        "id": "AAGeLJL1SNyB",
        "outputId": "974a6ded-be65-4099-9dbb-22cee5cde576"
      },
      "execution_count": 47,
      "outputs": [
        {
          "output_type": "execute_result",
          "data": {
            "text/plain": [
              "tensor([[1],\n",
              "        [1],\n",
              "        [1],\n",
              "        ...,\n",
              "        [0],\n",
              "        [0],\n",
              "        [0]])"
            ]
          },
          "metadata": {},
          "execution_count": 47
        }
      ]
    },
    {
      "cell_type": "code",
      "source": [
        "dset = list(zip(train_x, train_y)) # 튜플로 묶은 다음 리스트로 나열\n",
        "x, y = dset[0] # dset 의 형태는 (train_x[0], train_y[0])과 같다.\n",
        "\n",
        "# x는 784개의 열을 가지지만, y는 단일열이기 때문에 tensor(1)로 나타난다.\n",
        "\n",
        "x.shape, y, y.shape"
      ],
      "metadata": {
        "colab": {
          "base_uri": "https://localhost:8080/"
        },
        "id": "kWWIZX6LUcnb",
        "outputId": "1230bb26-f8cf-488c-9cf0-6d9f071c6410"
      },
      "execution_count": 48,
      "outputs": [
        {
          "output_type": "execute_result",
          "data": {
            "text/plain": [
              "(torch.Size([784]), tensor([1]), torch.Size([1]))"
            ]
          },
          "metadata": {},
          "execution_count": 48
        }
      ]
    },
    {
      "cell_type": "code",
      "source": [
        "# 검증용 데이터셋의 조정\n",
        "\n",
        "# stacked valid 3 data tensors\n",
        "valid_x = torch.cat([valid_3_tens, valid_7_tens]).view(-1, 28*28)\n",
        "valid_y = tensor([1] * len(valid_3_tens) + [0] * len(valid_7_tens)).unsqueeze(1)\n",
        "\n",
        "valid_x.shape, valid_y.shape\n",
        "# (torch.Size([2020, 784]), torch.Size([2020, 1]))\n",
        "\n",
        "valid_dset = list(zip(valid_x, valid_y))"
      ],
      "metadata": {
        "id": "Jm8POi0zUv79"
      },
      "execution_count": 49,
      "outputs": []
    },
    {
      "cell_type": "code",
      "source": [
        "torch.randn((3,3)) # randn((size))를 줌으로 크기에 맞도록 랜덤값을 얻을 수 있다.\n",
        "\n",
        "# 임의의 초기화된 가중치 만들기\n",
        "def init_params(size, std=1.0):\n",
        "  return (torch.randn(size)*std).requires_grad_()\n",
        "\n",
        "weights = init_params((28*28, 1)) # 784행, 1열로 된 y의 값에 맞출 가중치 설정\n",
        "\n",
        "bias = init_params(1) # 파라미터는 가중치 * x + bias 로 형성되어 있다. 픽셀값이 0이라면 곱한 결과도 무조건 0이 되기 때문\n",
        "\n",
        "weights.shape, bias"
      ],
      "metadata": {
        "colab": {
          "base_uri": "https://localhost:8080/"
        },
        "id": "DG30FLjlUbwA",
        "outputId": "c7172050-d855-4f11-9427-a869124e38d8"
      },
      "execution_count": 88,
      "outputs": [
        {
          "output_type": "execute_result",
          "data": {
            "text/plain": [
              "(torch.Size([784, 1]), tensor([0.4998], requires_grad=True))"
            ]
          },
          "metadata": {},
          "execution_count": 88
        }
      ]
    },
    {
      "cell_type": "code",
      "source": [
        "# train_x[0]은 그림 하나를 나타내는 랭크 1의 그림이기 때문에 가중치와 곱하고 모든 값을 더한 뒤 편차를 더한다.\n",
        "\n",
        "(train_x[0]*weights.T).sum() + bias"
      ],
      "metadata": {
        "colab": {
          "base_uri": "https://localhost:8080/"
        },
        "id": "idV4YYK-YhuB",
        "outputId": "0e6484f7-9c08-4b34-bd0a-2ece1f244fc3"
      },
      "execution_count": 51,
      "outputs": [
        {
          "output_type": "execute_result",
          "data": {
            "text/plain": [
              "tensor([1.5501], grad_fn=<AddBackward0>)"
            ]
          },
          "metadata": {},
          "execution_count": 51
        }
      ]
    },
    {
      "cell_type": "code",
      "source": [
        "# 행렬 곱으로 train_x와 가중치를 곱한 뒤 편향을 더한다.\n",
        "\n",
        "def linear1(xb):\n",
        "  return xb@weights + bias\n",
        "\n",
        "preds = linear1(train_x)\n",
        "preds.shape # 총 12396개의 그림\n",
        "preds\n",
        "\n",
        "# 행렬 곱셈은.. 머리아프구나.."
      ],
      "metadata": {
        "colab": {
          "base_uri": "https://localhost:8080/"
        },
        "id": "G7KZ5iACYhrK",
        "outputId": "cda791e3-d8fa-4a79-c7a3-1b7dd81cc166"
      },
      "execution_count": 52,
      "outputs": [
        {
          "output_type": "execute_result",
          "data": {
            "text/plain": [
              "tensor([[ 1.5501],\n",
              "        [-5.0415],\n",
              "        [ 0.0129],\n",
              "        ...,\n",
              "        [ 0.8026],\n",
              "        [ 8.5934],\n",
              "        [-6.9015]], grad_fn=<AddBackward0>)"
            ]
          },
          "metadata": {},
          "execution_count": 52
        }
      ]
    },
    {
      "cell_type": "code",
      "source": [
        "corrects = (preds>0.0).float() == train_y \n",
        "\n",
        "# float을 하면 false = 0 , true = 1로 할당된다.\n",
        "# train_y와 같다면 true 아니라면 false\n",
        "corrects\n",
        "\n",
        "corrects.float().mean().item()"
      ],
      "metadata": {
        "colab": {
          "base_uri": "https://localhost:8080/"
        },
        "id": "ib2i8PZqYhok",
        "outputId": "1a40fab7-eebb-46c0-e785-c3aec64bdfe3"
      },
      "execution_count": 53,
      "outputs": [
        {
          "output_type": "execute_result",
          "data": {
            "text/plain": [
              "0.36156824231147766"
            ]
          },
          "metadata": {},
          "execution_count": 53
        }
      ]
    },
    {
      "cell_type": "code",
      "source": [
        "corrects = (preds>0.0).float()\n",
        "corrects"
      ],
      "metadata": {
        "colab": {
          "base_uri": "https://localhost:8080/"
        },
        "id": "b3BBQ6BTYhMC",
        "outputId": "733b05fc-6112-486f-9218-cd06c21e793d"
      },
      "execution_count": 54,
      "outputs": [
        {
          "output_type": "execute_result",
          "data": {
            "text/plain": [
              "tensor([[1.],\n",
              "        [0.],\n",
              "        [1.],\n",
              "        ...,\n",
              "        [1.],\n",
              "        [1.],\n",
              "        [0.]])"
            ]
          },
          "metadata": {},
          "execution_count": 54
        }
      ]
    },
    {
      "cell_type": "code",
      "source": [
        "train_y"
      ],
      "metadata": {
        "colab": {
          "base_uri": "https://localhost:8080/"
        },
        "id": "ciUY_keBYhJW",
        "outputId": "d918bf2c-4c68-4fd9-c30b-5da4321c3de3"
      },
      "execution_count": 55,
      "outputs": [
        {
          "output_type": "execute_result",
          "data": {
            "text/plain": [
              "tensor([[1],\n",
              "        [1],\n",
              "        [1],\n",
              "        ...,\n",
              "        [0],\n",
              "        [0],\n",
              "        [0]])"
            ]
          },
          "metadata": {},
          "execution_count": 55
        }
      ]
    },
    {
      "cell_type": "code",
      "source": [
        "# 가중치를 약간 바꾸면?\n",
        "\n",
        "with torch.no_grad() : weights[0] *= 1.0001\n",
        "\n",
        "preds = linear1(train_x)\n",
        "((preds>0.0).float() == train_y).float().mean().item()\n",
        "\n",
        "# 기존의 결과와 0.4801549017429352 값 차이가 없다."
      ],
      "metadata": {
        "colab": {
          "base_uri": "https://localhost:8080/"
        },
        "id": "5wQJUwiaff1D",
        "outputId": "cd747112-2520-4ff0-da99-2d6b59619748"
      },
      "execution_count": 56,
      "outputs": [
        {
          "output_type": "execute_result",
          "data": {
            "text/plain": [
              "0.36156824231147766"
            ]
          },
          "metadata": {},
          "execution_count": 56
        }
      ]
    },
    {
      "cell_type": "code",
      "source": [
        "trgts = tensor([1,0,1])\n",
        "preds = tensor([0.9, 0.4, 0.2])\n",
        "\n",
        "# predictions과 targets의 차이를 측정하는 손실함수\n",
        "\n",
        "def mnist_loss(prediction, targets):\n",
        "  return torch.where(targets==1, 1-prediction, prediction).mean()\n",
        "\n",
        "# no_mean() results = 0.1 , 0.4 , 0.8 \n",
        "mnist_loss(preds, trgts)"
      ],
      "metadata": {
        "colab": {
          "base_uri": "https://localhost:8080/"
        },
        "id": "eWbrIcimffyD",
        "outputId": "014ebda8-a3eb-4806-b74d-8a858ae52440"
      },
      "execution_count": 57,
      "outputs": [
        {
          "output_type": "execute_result",
          "data": {
            "text/plain": [
              "tensor(0.4333)"
            ]
          },
          "metadata": {},
          "execution_count": 57
        }
      ]
    },
    {
      "cell_type": "code",
      "source": [
        "# 0과 1사이의 값을 제공하는 함수 sigmoid 1 / (1 + e^-x)\n",
        "\n",
        "plot_function(torch.sigmoid, title='Sigmoid', min=-4, max = 4)"
      ],
      "metadata": {
        "colab": {
          "base_uri": "https://localhost:8080/",
          "height": 281
        },
        "id": "TxYp2wVDffu7",
        "outputId": "d7e16703-b5c0-48ca-f186-0b2eda80fc57"
      },
      "execution_count": 58,
      "outputs": [
        {
          "output_type": "display_data",
          "data": {
            "text/plain": [
              "<Figure size 432x288 with 1 Axes>"
            ],
            "image/png": "[encoded data removed]"
          },
          "metadata": {
            "needs_background": "light"
          }
        }
      ]
    },
    {
      "cell_type": "code",
      "source": [
        "preds.sigmoid() # 예측이 0과 1 사이가 아니더라도 손실을 판단 가능하다.\n",
        "\n",
        "def mnist_loss(predictions, targets):\n",
        "  predictions = predictions.sigmoid()\n",
        "  return torch.where(targets==1, 1-predictions, predictions).mean() \n",
        "\n",
        "mnist_loss(preds, trgts)"
      ],
      "metadata": {
        "colab": {
          "base_uri": "https://localhost:8080/"
        },
        "id": "juTsFMFoffri",
        "outputId": "6e885dc7-bada-4252-8253-c0048298fff2"
      },
      "execution_count": 59,
      "outputs": [
        {
          "output_type": "execute_result",
          "data": {
            "text/plain": [
              "tensor(0.4460)"
            ]
          },
          "metadata": {},
          "execution_count": 59
        }
      ]
    },
    {
      "cell_type": "markdown",
      "source": [
        "# Mini batch with SGD"
      ],
      "metadata": {
        "id": "dU8LK0aSqVnA"
      }
    },
    {
      "cell_type": "code",
      "source": [
        "# 최적화를 위해선 데이터의 손실을 파악해야 하는데, 너무 많은 데이터가 있다면 정확도에서는 높은 값을 얻을테지만 시간에 있어서는 오래 걸린다.\n",
        "# 또 하나의 데이터만 있다면 유의미한 정확도를 뽑아낼 수 없을 것이다.\n",
        "\n",
        "# 이에 일정 갯수의 데이터만을 가지고 손실을 파악하는데 그러기 위해 일정 값을 뽑아낸 걸 '미니배치학습'이라 하고 미니 배치의 크기를 batch-size\n",
        "\n",
        "coll = range(15)\n",
        "dl = DataLoader(coll, batch_size=5, shuffle=True)\n",
        "list(dl)"
      ],
      "metadata": {
        "colab": {
          "base_uri": "https://localhost:8080/"
        },
        "id": "DlJTDLJXffn6",
        "outputId": "f03bfcb2-985f-4a7b-a00b-05aa3956c16d"
      },
      "execution_count": 60,
      "outputs": [
        {
          "output_type": "execute_result",
          "data": {
            "text/plain": [
              "[tensor([ 3, 12,  8, 10,  2]),\n",
              " tensor([ 9,  4,  7, 14,  5]),\n",
              " tensor([ 1, 13,  0,  6, 11])]"
            ]
          },
          "metadata": {},
          "execution_count": 60
        }
      ]
    },
    {
      "cell_type": "code",
      "source": [
        "ds = L(enumerate(string.ascii_lowercase))\n",
        "ds\n",
        "# 독립변수, 종속변수 순\n",
        "# 2, 'c'),(3, 'd'),(4, 'e'),(5, 'f'),(6, 'g'),(7, 'h'),(8, 'i'),(9, 'j')...]\n",
        "\n",
        "# string.ascii_lowercase  파이썬에서 제공하는 알파벳\n",
        "\n",
        "dl = DataLoader(ds, batch_size=6, shuffle=True)\n",
        "list(dl)"
      ],
      "metadata": {
        "colab": {
          "base_uri": "https://localhost:8080/"
        },
        "id": "KxESYBNsrAjW",
        "outputId": "577b3ce1-2ddb-49cc-bc58-369bec1591ba"
      },
      "execution_count": 61,
      "outputs": [
        {
          "output_type": "execute_result",
          "data": {
            "text/plain": [
              "[(tensor([17, 18, 10, 22,  8, 14]), ('r', 's', 'k', 'w', 'i', 'o')),\n",
              " (tensor([20, 15,  9, 13, 21, 12]), ('u', 'p', 'j', 'n', 'v', 'm')),\n",
              " (tensor([ 7, 25,  6,  5, 11, 23]), ('h', 'z', 'g', 'f', 'l', 'x')),\n",
              " (tensor([ 1,  3,  0, 24, 19, 16]), ('b', 'd', 'a', 'y', 't', 'q')),\n",
              " (tensor([2, 4]), ('c', 'e'))]"
            ]
          },
          "metadata": {},
          "execution_count": 61
        }
      ]
    },
    {
      "cell_type": "markdown",
      "source": [
        "# Start From nothing to end"
      ],
      "metadata": {
        "id": "LZPUtLhjsIZo"
      }
    },
    {
      "cell_type": "code",
      "source": [
        "# 1. 파라미터 초기화\n",
        "\n",
        "def init_params(size, std=1.0):\n",
        "  return (torch.randn(size)*std).requires_grad_()\n",
        "\n",
        "weights = init_params((28*28,1))\n",
        "bias = init_params(1)\n",
        "\n",
        "weights.shape, bias, weights.mean()"
      ],
      "metadata": {
        "colab": {
          "base_uri": "https://localhost:8080/"
        },
        "id": "pp39NwJKrAZ5",
        "outputId": "09ff468d-7f5c-4158-ce34-da8900907c70"
      },
      "execution_count": 62,
      "outputs": [
        {
          "output_type": "execute_result",
          "data": {
            "text/plain": [
              "(torch.Size([784, 1]),\n",
              " tensor([-1.2630], requires_grad=True),\n",
              " tensor(0.0021, grad_fn=<MeanBackward0>))"
            ]
          },
          "metadata": {},
          "execution_count": 62
        }
      ]
    },
    {
      "cell_type": "code",
      "source": [
        "# 2. 학습용 DataLoader 생성\n",
        "\n",
        "train_x = torch.cat([stacked_threes, stacked_sevens]).view(-1, 28*28)\n",
        "train_y = tensor([1] * len(threes) + [0] * len(sevens)).unsqueeze(1)\n",
        "dset = list(zip(train_x, train_y))\n",
        "\n",
        "dl = DataLoader(dset, batch_size = 256)\n",
        "xb, yb = first(dl)\n",
        "xb.shape, yb.shape"
      ],
      "metadata": {
        "colab": {
          "base_uri": "https://localhost:8080/"
        },
        "id": "ucAUyS_9syJM",
        "outputId": "54b94f46-f39d-47c3-f214-773ce171a722"
      },
      "execution_count": 63,
      "outputs": [
        {
          "output_type": "execute_result",
          "data": {
            "text/plain": [
              "(torch.Size([256, 784]), torch.Size([256, 1]))"
            ]
          },
          "metadata": {},
          "execution_count": 63
        }
      ]
    },
    {
      "cell_type": "code",
      "source": [
        "# 3. 검증용 DataLoader 생성\n",
        "valid_x = torch.cat([valid_3_tens, valid_7_tens]).view(-1, 28*28)\n",
        "valid_y = tensor([1] * len(valid_3_tens) + [0] * len(valid_7_tens)).unsqueeze(1)\n",
        "valid_dset = list(zip(valid_x, valid_y))\n",
        "\n",
        "valid_dl = DataLoader(valid_dset, batch_size=256)"
      ],
      "metadata": {
        "id": "XkhebPGIsyTb"
      },
      "execution_count": 64,
      "outputs": []
    },
    {
      "cell_type": "code",
      "source": [
        "# 4. 간단한 배치 만들어서 검증해보기\n",
        "\n",
        "batch = train_x[:4]\n",
        "batch.shape # [4, 784]\n",
        "def linear1(xb):\n",
        "  return xb@weights + bias\n",
        "\n",
        "preds = linear1(batch)\n",
        "preds\n",
        "\n",
        "# 행렬의 곱\n",
        "#tensor([[ 9.2829],\n",
        "#        [12.3698],\n",
        "#        [ 2.2935],\n",
        "#        [ 8.1216]], grad_fn=<AddBackward0>)\n",
        "\n",
        "\n",
        "def mnist_loss(predictions, targets):\n",
        "  predictions = predictions.sigmoid()\n",
        "  return torch.where(targets==1, 1-predictions, predictions).mean() \n",
        "\n",
        "loss = mnist_loss(preds, train_y[:4]) # 예측과 기존 모델에서의 값과 차이를 비교한다. (4,1) 사이즈\n",
        "loss"
      ],
      "metadata": {
        "colab": {
          "base_uri": "https://localhost:8080/"
        },
        "id": "xow_ocojsyWn",
        "outputId": "18eebf17-4087-4cda-f67b-c7d501567474"
      },
      "execution_count": 65,
      "outputs": [
        {
          "output_type": "execute_result",
          "data": {
            "text/plain": [
              "tensor(9.0003e-06, grad_fn=<MeanBackward0>)"
            ]
          },
          "metadata": {},
          "execution_count": 65
        }
      ]
    },
    {
      "cell_type": "code",
      "source": [
        "# 5. 그레디언트 계산\n",
        "\n",
        "loss.backward()\n",
        "weights.grad.shape, weights.grad.mean(), bias.grad"
      ],
      "metadata": {
        "colab": {
          "base_uri": "https://localhost:8080/"
        },
        "id": "fE1abHkusyah",
        "outputId": "e00d14c0-757d-4f36-de35-cfca27484cd9"
      },
      "execution_count": 66,
      "outputs": [
        {
          "output_type": "execute_result",
          "data": {
            "text/plain": [
              "(torch.Size([784, 1]), tensor(-1.2906e-06), tensor([-9.0000e-06]))"
            ]
          },
          "metadata": {},
          "execution_count": 66
        }
      ]
    },
    {
      "cell_type": "code",
      "source": [
        "# 6. 그레디언트 함수로 최종 정의\n",
        "\n",
        "def calc_grad(xb, yb, model):\n",
        "  preds = model(xb)\n",
        "  loss = mnist_loss(preds, yb)\n",
        "  loss.backward()\n",
        "\n",
        "\n",
        "calc_grad(batch, train_y[:4], linear1)\n",
        "weights.grad.mean(), bias.grad\n",
        "# (tensor(-0.0251), tensor([-0.1752]))\n",
        "# (tensor(-0.0314), tensor([-0.2190])) 자꾸 더해지니까 앞서 계산된 기울기에 더해지는 걸 볼 수 있다. 따라서 이전 그레디언트를 0으로 설정해줘야 한다.\n",
        "\n",
        "weights.grad.zero_()\n",
        "bias.grad.zero_()"
      ],
      "metadata": {
        "colab": {
          "base_uri": "https://localhost:8080/"
        },
        "id": "9wJ4IGgpySYA",
        "outputId": "ff94740e-3b27-488e-ff43-40b4ca872abf"
      },
      "execution_count": 67,
      "outputs": [
        {
          "output_type": "execute_result",
          "data": {
            "text/plain": [
              "tensor([0.])"
            ]
          },
          "metadata": {},
          "execution_count": 67
        }
      ]
    },
    {
      "cell_type": "code",
      "source": [
        "# 학습루프\n",
        "def train_epoch(model, lr, params):\n",
        "  for xb, yb in dl: # 데이터 로드의 두 가지를 나눠서\n",
        "    calc_grad(xb, yb, model) # 모델을 통해 오차를 계산함\n",
        "    for p in params:  # 파라미터 안에 가중치와 편향이 들어감 둘다 조정됨\n",
        "      p.data -= p.grad*lr\n",
        "      p.grad.zero_()"
      ],
      "metadata": {
        "id": "zplaHqL1ySSi"
      },
      "execution_count": 68,
      "outputs": []
    },
    {
      "cell_type": "code",
      "source": [
        "# 정확도를 측정하기\n",
        "\n",
        "(preds>0.5).float() == train_y[:4]"
      ],
      "metadata": {
        "colab": {
          "base_uri": "https://localhost:8080/"
        },
        "id": "7EnnLLoFySH3",
        "outputId": "20d68ab1-bec9-4653-d4fa-60528766d695"
      },
      "execution_count": 69,
      "outputs": [
        {
          "output_type": "execute_result",
          "data": {
            "text/plain": [
              "tensor([[True],\n",
              "        [True],\n",
              "        [True],\n",
              "        [True]])"
            ]
          },
          "metadata": {},
          "execution_count": 69
        }
      ]
    },
    {
      "cell_type": "code",
      "source": [
        "# 배치 단위의 평균정확도 계산\n",
        "\n",
        "def batch_accuracy(xb , yb):\n",
        "  preds = xb.sigmoid()\n",
        "  correct = (preds>0.5) == yb\n",
        "  return correct.float().mean()\n",
        "\n",
        "batch_accuracy(linear1(batch), train_y[:4])"
      ],
      "metadata": {
        "colab": {
          "base_uri": "https://localhost:8080/"
        },
        "id": "guUrq4S60SLD",
        "outputId": "54314c9f-41cd-4a6e-be1e-64f7a5f84cd7"
      },
      "execution_count": 70,
      "outputs": [
        {
          "output_type": "execute_result",
          "data": {
            "text/plain": [
              "tensor(1.)"
            ]
          },
          "metadata": {},
          "execution_count": 70
        }
      ]
    },
    {
      "cell_type": "code",
      "source": [
        "# 배치 별 구한 평균정확도를 가지고 모든 배치에 대해 평균을 구하는 함수\n",
        "\n",
        "def validate_epoch(model):\n",
        "  accs = [batch_accuracy(model(xb), yb) for xb, yb in valid_dl]\n",
        "  return round(torch.stack(accs).mean().item(), 4)\n",
        "\n",
        "validate_epoch(linear1)"
      ],
      "metadata": {
        "colab": {
          "base_uri": "https://localhost:8080/"
        },
        "id": "nAs79K4f0SID",
        "outputId": "850aebb8-ed51-44aa-ef3f-cb7784c87bf2"
      },
      "execution_count": 71,
      "outputs": [
        {
          "output_type": "execute_result",
          "data": {
            "text/plain": [
              "0.9854"
            ]
          },
          "metadata": {},
          "execution_count": 71
        }
      ]
    },
    {
      "cell_type": "code",
      "source": [
        "# 7. 정확도 개선\n",
        "\n",
        "lr = 1\n",
        "params = weights, bias\n",
        "train_epoch(linear1, lr, params) # 가중치 및 편향 조정\n",
        "validate_epoch(linear1) # 조정된 가중치와 편향으로 학습한 결과에 따라 모든 배치의 정확도 도출\n",
        "\n",
        "# 정확도가 향상된 걸 볼 수 있다.\n"
      ],
      "metadata": {
        "colab": {
          "base_uri": "https://localhost:8080/"
        },
        "id": "I2UHESVE0SFM",
        "outputId": "0a308a11-d976-485a-8fcc-8f99784112ee"
      },
      "execution_count": 72,
      "outputs": [
        {
          "output_type": "execute_result",
          "data": {
            "text/plain": [
              "0.6323"
            ]
          },
          "metadata": {},
          "execution_count": 72
        }
      ]
    },
    {
      "cell_type": "code",
      "source": [
        "# 8. 에포크 반복\n",
        "\n",
        "for i in range(20):\n",
        "  train_epoch(linear1, lr, params)\n",
        "  print(validate_epoch(linear1), end=' ')"
      ],
      "metadata": {
        "colab": {
          "base_uri": "https://localhost:8080/"
        },
        "id": "ApK8IbBx0SCE",
        "outputId": "6f015c6c-4afd-4bff-f3a2-121d123c0d47"
      },
      "execution_count": 73,
      "outputs": [
        {
          "output_type": "stream",
          "name": "stdout",
          "text": [
            "0.8325 0.9141 0.9448 0.958 0.9629 0.9663 0.9707 0.9741 0.9761 0.9771 0.9775 0.9785 0.9795 0.9795 0.98 0.98 0.98 0.98 0.98 0.98 "
          ]
        }
      ]
    },
    {
      "cell_type": "markdown",
      "source": [
        "# Make the optimizer"
      ],
      "metadata": {
        "id": "QrBJW0M8OiTQ"
      }
    },
    {
      "cell_type": "code",
      "source": [
        "linear_model = nn.Linear(28*28, 1)\n",
        "linear_model"
      ],
      "metadata": {
        "colab": {
          "base_uri": "https://localhost:8080/"
        },
        "id": "x8u_R0Ov0R_E",
        "outputId": "c2651660-f5de-4194-eea0-be1eb512484c"
      },
      "execution_count": 74,
      "outputs": [
        {
          "output_type": "execute_result",
          "data": {
            "text/plain": [
              "Linear(in_features=784, out_features=1, bias=True)"
            ]
          },
          "metadata": {},
          "execution_count": 74
        }
      ]
    },
    {
      "cell_type": "code",
      "source": [
        "w,b = linear_model.parameters()\n",
        "w.shape, b.shape\n",
        " # (torch.Size([1, 784]), torch.Size([1]))\n",
        "\n"
      ],
      "metadata": {
        "colab": {
          "base_uri": "https://localhost:8080/"
        },
        "id": "YYbl4QO70R79",
        "outputId": "7c4e94a6-87d1-47a3-a4fc-65a32a7bf5a2"
      },
      "execution_count": 75,
      "outputs": [
        {
          "output_type": "execute_result",
          "data": {
            "text/plain": [
              "(torch.Size([1, 784]), torch.Size([1]))"
            ]
          },
          "metadata": {},
          "execution_count": 75
        }
      ]
    },
    {
      "cell_type": "code",
      "source": [
        "# 파라미터정보로 옵티마이저를 정의하는데 활용할 수 있다.\n",
        "\n",
        "class BasicOptim:\n",
        "  def __init__(self, params, lr):\n",
        "    self.params , self.lr = list(params), lr\n",
        "  def step(self, *args, **kwargs):\n",
        "    for p in self.params: # 여기에도 역시 가중치와 편향이 들어간다.\n",
        "      p.data -= p.grad.data * self.lr\n",
        "  def zero_grad(self, *args, **kwargs):\n",
        "    for p in self.params: p.grad = None"
      ],
      "metadata": {
        "id": "60YD-h9APrF1"
      },
      "execution_count": 76,
      "outputs": []
    },
    {
      "cell_type": "code",
      "source": [
        "# 파라미터를 넣어서 옵티마이저를 정의한다.\n",
        "opt = BasicOptim(linear_model.parameters(), lr)"
      ],
      "metadata": {
        "id": "iC2-kLaXQQ56"
      },
      "execution_count": 77,
      "outputs": []
    },
    {
      "cell_type": "code",
      "source": [
        "# 학습 루프의 간소화\n",
        "\n",
        "def train_epoch(model):\n",
        "  for xb, yb in dl:\n",
        "    calc_grad(xb, yb, model)\n",
        "    opt.step()\n",
        "    opt.zero_grad()"
      ],
      "metadata": {
        "id": "ot-eG8NYQcBv"
      },
      "execution_count": 78,
      "outputs": []
    },
    {
      "cell_type": "code",
      "source": [
        "validate_epoch(linear_model)"
      ],
      "metadata": {
        "colab": {
          "base_uri": "https://localhost:8080/"
        },
        "id": "O4l84gi_QxIi",
        "outputId": "5c515cac-db71-40d5-97cf-304af9106b56"
      },
      "execution_count": 79,
      "outputs": [
        {
          "output_type": "execute_result",
          "data": {
            "text/plain": [
              "0.4183"
            ]
          },
          "metadata": {},
          "execution_count": 79
        }
      ]
    },
    {
      "cell_type": "code",
      "source": [
        "# 간소화된 그리고 추상적인 관점에서 전체과정 바라보기\n",
        "\n",
        "def train_model(model, epoch):\n",
        "  for i in range(epoch): # 에포크만큼 반복하여 계속 조정한다(3)\n",
        "    train_epoch(model) # 에포크를 통해 파라미터를 조정하고(1) \n",
        "    print(validate_epoch(model), end = ' ') # 조정한 값으로 정확도를 검증한다(2)"
      ],
      "metadata": {
        "id": "ZLcICHlkQ4nd"
      },
      "execution_count": 80,
      "outputs": []
    },
    {
      "cell_type": "code",
      "source": [
        "train_model(linear_model, 40)"
      ],
      "metadata": {
        "colab": {
          "base_uri": "https://localhost:8080/"
        },
        "id": "jvkDOXJWRUJk",
        "outputId": "a70847c6-1608-4793-e6c5-0902aa082d27"
      },
      "execution_count": 81,
      "outputs": [
        {
          "output_type": "stream",
          "name": "stdout",
          "text": [
            "0.4932 0.7563 0.8535 0.918 0.938 0.9507 0.96 0.9663 0.9692 0.9707 0.9731 0.9751 0.9761 0.978 0.9785 0.979 0.9805 0.981 0.9814 0.9814 0.9819 0.9819 0.9824 0.9829 0.9829 0.9829 0.9839 0.9839 0.9844 0.9849 0.9854 0.9854 0.9854 0.9854 0.9854 0.9854 0.9858 0.9858 0.9858 0.9858 "
          ]
        }
      ]
    },
    {
      "cell_type": "code",
      "source": [
        "# fastAI에서는 SGD 클래스를 제공하는데 이는 옵티마이저와 같은 방식으로 작동한다.\n",
        "\n",
        "linear_model = nn.Linear(28*28, 1)\n",
        "opt = SGD(linear_model.parameters(), lr)\n",
        "train_model(linear_model, 20)"
      ],
      "metadata": {
        "colab": {
          "base_uri": "https://localhost:8080/"
        },
        "id": "o8sximnxRjGT",
        "outputId": "a20f776e-1a92-46df-dec0-bf19fa9e5fa6"
      },
      "execution_count": 89,
      "outputs": [
        {
          "output_type": "stream",
          "name": "stdout",
          "text": [
            "0.4932 0.7124 0.8589 0.9204 0.938 0.9526 0.96 0.9673 0.9688 0.9707 0.9731 0.9741 0.9775 0.978 0.979 0.9805 0.9805 0.9805 0.9814 0.9819 "
          ]
        }
      ]
    },
    {
      "cell_type": "code",
      "source": [
        "dls = DataLoaders(dl, valid_dl) # 학습용 데이터셋, 검증용 데이터셋을 데이터로드s로 구성한다.\n",
        "learn = Learner(dls, nn.Linear(28*28, 1), opt_func = SGD, # 데이터로더, 학습 모델, \n",
        "                loss_func = mnist_loss, metrics=batch_accuracy)\n",
        "learn.fit(10, lr = lr)"
      ],
      "metadata": {
        "colab": {
          "base_uri": "https://localhost:8080/",
          "height": 363
        },
        "id": "gSfgME56458_",
        "outputId": "3b317e07-70d7-4841-fb2d-ece7a450c55f"
      },
      "execution_count": 90,
      "outputs": [
        {
          "output_type": "display_data",
          "data": {
            "text/plain": [
              "<IPython.core.display.HTML object>"
            ],
            "text/html": [
              "\n",
              "<style>\n",
              "    /* Turns off some styling */\n",
              "    progress {\n",
              "        /* gets rid of default border in Firefox and Opera. */\n",
              "        border: none;\n",
              "        /* Needs to be in here for Safari polyfill so background images work as expected. */\n",
              "        background-size: auto;\n",
              "    }\n",
              "    progress:not([value]), progress:not([value])::-webkit-progress-bar {\n",
              "        background: repeating-linear-gradient(45deg, #7e7e7e, #7e7e7e 10px, #5c5c5c 10px, #5c5c5c 20px);\n",
              "    }\n",
              "    .progress-bar-interrupted, .progress-bar-interrupted::-webkit-progress-bar {\n",
              "        background: #F44336;\n",
              "    }\n",
              "</style>\n"
            ]
          },
          "metadata": {}
        },
        {
          "output_type": "display_data",
          "data": {
            "text/plain": [
              "<IPython.core.display.HTML object>"
            ],
            "text/html": [
              "<table border=\"1\" class=\"dataframe\">\n",
              "  <thead>\n",
              "    <tr style=\"text-align: left;\">\n",
              "      <th>epoch</th>\n",
              "      <th>train_loss</th>\n",
              "      <th>valid_loss</th>\n",
              "      <th>batch_accuracy</th>\n",
              "      <th>time</th>\n",
              "    </tr>\n",
              "  </thead>\n",
              "  <tbody>\n",
              "    <tr>\n",
              "      <td>0</td>\n",
              "      <td>0.637240</td>\n",
              "      <td>0.277676</td>\n",
              "      <td>0.500000</td>\n",
              "      <td>00:00</td>\n",
              "    </tr>\n",
              "    <tr>\n",
              "      <td>1</td>\n",
              "      <td>0.417462</td>\n",
              "      <td>0.475034</td>\n",
              "      <td>0.760891</td>\n",
              "      <td>00:00</td>\n",
              "    </tr>\n",
              "    <tr>\n",
              "      <td>2</td>\n",
              "      <td>0.157421</td>\n",
              "      <td>0.374498</td>\n",
              "      <td>0.851980</td>\n",
              "      <td>00:00</td>\n",
              "    </tr>\n",
              "    <tr>\n",
              "      <td>3</td>\n",
              "      <td>0.071393</td>\n",
              "      <td>0.307312</td>\n",
              "      <td>0.915347</td>\n",
              "      <td>00:00</td>\n",
              "    </tr>\n",
              "    <tr>\n",
              "      <td>4</td>\n",
              "      <td>0.039569</td>\n",
              "      <td>0.277045</td>\n",
              "      <td>0.936139</td>\n",
              "      <td>00:00</td>\n",
              "    </tr>\n",
              "    <tr>\n",
              "      <td>5</td>\n",
              "      <td>0.027032</td>\n",
              "      <td>0.258915</td>\n",
              "      <td>0.949505</td>\n",
              "      <td>00:00</td>\n",
              "    </tr>\n",
              "    <tr>\n",
              "      <td>6</td>\n",
              "      <td>0.021800</td>\n",
              "      <td>0.246501</td>\n",
              "      <td>0.958416</td>\n",
              "      <td>00:00</td>\n",
              "    </tr>\n",
              "    <tr>\n",
              "      <td>7</td>\n",
              "      <td>0.019413</td>\n",
              "      <td>0.237350</td>\n",
              "      <td>0.965842</td>\n",
              "      <td>00:00</td>\n",
              "    </tr>\n",
              "    <tr>\n",
              "      <td>8</td>\n",
              "      <td>0.018160</td>\n",
              "      <td>0.230182</td>\n",
              "      <td>0.968812</td>\n",
              "      <td>00:00</td>\n",
              "    </tr>\n",
              "    <tr>\n",
              "      <td>9</td>\n",
              "      <td>0.017378</td>\n",
              "      <td>0.224297</td>\n",
              "      <td>0.969802</td>\n",
              "      <td>00:00</td>\n",
              "    </tr>\n",
              "  </tbody>\n",
              "</table>"
            ]
          },
          "metadata": {}
        }
      ]
    }
  ]
}
{
  "nbformat": 4,
  "nbformat_minor": 0,
  "metadata": {
    "colab": {
      "name": "Lesson4",
      "provenance": [],
      "collapsed_sections": [],
      "toc_visible": true
    },
    "kernelspec": {
      "name": "python3",
      "display_name": "Python 3"
    },
    "language_info": {
      "name": "python"
    },
    "accelerator": "GPU",
    "gpuClass": "standard"
  },
  "cells": [
    {
      "cell_type": "markdown",
      "source": [
        "# 모듈 "
      ],
      "metadata": {
        "id": "TbiIrQvF7ZLq"
      }
    },
    {
      "cell_type": "code",
      "execution_count": 211,
      "metadata": {
        "id": "z0cKuJZkqXke"
      },
      "outputs": [],
      "source": [
        "! [ -e /content ] && pip install -Uqq fastbook\n",
        "import fastbook\n",
        "fastbook.setup_book()"
      ]
    },
    {
      "cell_type": "code",
      "source": [
        "from fastai.vision.all import *\n",
        "from fastbook import *\n",
        "\n",
        "matplotlib.rc('image', cmap='Greys')"
      ],
      "metadata": {
        "id": "Lsnzjj0ZqvAq"
      },
      "execution_count": 212,
      "outputs": []
    },
    {
      "cell_type": "markdown",
      "source": [
        "# 데이터 배열화\n"
      ],
      "metadata": {
        "id": "4NrPXe1dxqM-"
      }
    },
    {
      "cell_type": "code",
      "source": [
        "# MNIST Dataset download\n",
        "\n",
        "path = untar_data(URLs.MNIST_SAMPLE)"
      ],
      "metadata": {
        "id": "_Q6anu6kqvEG"
      },
      "execution_count": 213,
      "outputs": []
    },
    {
      "cell_type": "code",
      "source": [
        "path.ls()"
      ],
      "metadata": {
        "colab": {
          "base_uri": "https://localhost:8080/"
        },
        "id": "0QcYDQMDrVCh",
        "outputId": "a52c48ff-7efb-4e63-b962-d740e507bdd9"
      },
      "execution_count": 214,
      "outputs": [
        {
          "output_type": "execute_result",
          "data": {
            "text/plain": [
              "(#3) [Path('/root/.fastai/data/mnist_sample/train'),Path('/root/.fastai/data/mnist_sample/valid'),Path('/root/.fastai/data/mnist_sample/labels.csv')]"
            ]
          },
          "metadata": {},
          "execution_count": 214
        }
      ]
    },
    {
      "cell_type": "code",
      "source": [
        "(path/'train').ls()"
      ],
      "metadata": {
        "colab": {
          "base_uri": "https://localhost:8080/"
        },
        "id": "xx4ygl-xrlR2",
        "outputId": "248e8896-f27b-4e50-b5b0-5a8ac0acd5ed"
      },
      "execution_count": 215,
      "outputs": [
        {
          "output_type": "execute_result",
          "data": {
            "text/plain": [
              "(#2) [Path('/root/.fastai/data/mnist_sample/train/7'),Path('/root/.fastai/data/mnist_sample/train/3')]"
            ]
          },
          "metadata": {},
          "execution_count": 215
        }
      ]
    },
    {
      "cell_type": "code",
      "source": [
        "threes =(path/'train'/'3').ls().sorted()\n",
        "sevens =(path/'train'/'7').ls().sorted()\n",
        "threes"
      ],
      "metadata": {
        "colab": {
          "base_uri": "https://localhost:8080/"
        },
        "id": "DtNBk5PYrlUi",
        "outputId": "878829f8-2d55-4245-f45a-361267208717"
      },
      "execution_count": 216,
      "outputs": [
        {
          "output_type": "execute_result",
          "data": {
            "text/plain": [
              "(#6131) [Path('/root/.fastai/data/mnist_sample/train/3/10.png'),Path('/root/.fastai/data/mnist_sample/train/3/10000.png'),Path('/root/.fastai/data/mnist_sample/train/3/10011.png'),Path('/root/.fastai/data/mnist_sample/train/3/10031.png'),Path('/root/.fastai/data/mnist_sample/train/3/10034.png'),Path('/root/.fastai/data/mnist_sample/train/3/10042.png'),Path('/root/.fastai/data/mnist_sample/train/3/10052.png'),Path('/root/.fastai/data/mnist_sample/train/3/1007.png'),Path('/root/.fastai/data/mnist_sample/train/3/10074.png'),Path('/root/.fastai/data/mnist_sample/train/3/10091.png')...]"
            ]
          },
          "metadata": {},
          "execution_count": 216
        }
      ]
    },
    {
      "cell_type": "code",
      "source": [
        "im3_path = threes[1]\n",
        "im3 = Image.open(im3_path) # Image.open => PIL library\n",
        "im3"
      ],
      "metadata": {
        "colab": {
          "base_uri": "https://localhost:8080/",
          "height": 45
        },
        "id": "WCj7rPdLrlXA",
        "outputId": "8e362a64-7caf-4a26-8aac-8742d03b8df6"
      },
      "execution_count": 217,
      "outputs": [
        {
          "output_type": "execute_result",
          "data": {
            "text/plain": [
              "<PIL.PngImagePlugin.PngImageFile image mode=L size=28x28 at 0x7F546A409410>"
            ],
            "image/png": "[encoded data removed]"
          },
          "metadata": {},
          "execution_count": 217
        }
      ]
    },
    {
      "cell_type": "code",
      "source": [
        "# 넘파이의 배열을 사용하여 숫자를 확인하거나,\n",
        "array(im3)[4:10, 4:10]\n",
        "\n",
        "# pytorch의 tensor을 사용한다.\n",
        "tensor(im3)[4:10, 4:10]\n",
        "\n",
        "# 이때 숫자는 0 ~ 255까지 채도? 명도? 를 나타낸다."
      ],
      "metadata": {
        "colab": {
          "base_uri": "https://localhost:8080/"
        },
        "id": "2gvqvDMGrlZm",
        "outputId": "6b1dbb35-5964-4229-e667-665daa1a2730"
      },
      "execution_count": 218,
      "outputs": [
        {
          "output_type": "execute_result",
          "data": {
            "text/plain": [
              "tensor([[  0,   0,   0,   0,   0,   0],\n",
              "        [  0,   0,   0,   0,   0,  29],\n",
              "        [  0,   0,   0,  48, 166, 224],\n",
              "        [  0,  93, 244, 249, 253, 187],\n",
              "        [  0, 107, 253, 253, 230,  48],\n",
              "        [  0,   3,  20,  20,  15,   0]], dtype=torch.uint8)"
            ]
          },
          "metadata": {},
          "execution_count": 218
        }
      ]
    },
    {
      "cell_type": "code",
      "source": [
        "# pandas 라이브러리를 통해 픽셀값에 맞춰 잘라낸 후 색상을 그라데이션 형태로 입힌다.\n",
        "im3_t = tensor(im3)\n",
        "df = pd.DataFrame(im3_t[4:15, 4:22])\n",
        "df.style.set_properties(**{'font-size' : '6pt'}).background_gradient('Greys')"
      ],
      "metadata": {
        "colab": {
          "base_uri": "https://localhost:8080/",
          "height": 394
        },
        "id": "qIboV0r1rlcN",
        "outputId": "a4283ed6-9977-4ec0-ce46-8e8e68221ca1"
      },
      "execution_count": 219,
      "outputs": [
        {
          "output_type": "execute_result",
          "data": {
            "text/plain": [
              "<pandas.io.formats.style.Styler at 0x7f5470ba2650>"
            ],
            "text/html": [
              "<style type=\"text/css\">\n",
              "#T_e9101_row0_col0, #T_e9101_row0_col1, #T_e9101_row0_col2, #T_e9101_row0_col3, #T_e9101_row0_col4, #T_e9101_row0_col5, #T_e9101_row0_col6, #T_e9101_row0_col7, #T_e9101_row0_col8, #T_e9101_row0_col9, #T_e9101_row0_col10, #T_e9101_row0_col11, #T_e9101_row0_col12, #T_e9101_row0_col13, #T_e9101_row0_col14, #T_e9101_row0_col15, #T_e9101_row0_col16, #T_e9101_row0_col17, #T_e9101_row1_col0, #T_e9101_row1_col1, #T_e9101_row1_col2, #T_e9101_row1_col3, #T_e9101_row1_col4, #T_e9101_row1_col15, #T_e9101_row1_col16, #T_e9101_row1_col17, #T_e9101_row2_col0, #T_e9101_row2_col1, #T_e9101_row2_col2, #T_e9101_row2_col15, #T_e9101_row2_col16, #T_e9101_row2_col17, #T_e9101_row3_col0, #T_e9101_row3_col15, #T_e9101_row3_col16, #T_e9101_row3_col17, #T_e9101_row4_col0, #T_e9101_row4_col6, #T_e9101_row4_col7, #T_e9101_row4_col8, #T_e9101_row4_col9, #T_e9101_row4_col10, #T_e9101_row4_col15, #T_e9101_row4_col16, #T_e9101_row4_col17, #T_e9101_row5_col0, #T_e9101_row5_col5, #T_e9101_row5_col6, #T_e9101_row5_col7, #T_e9101_row5_col8, #T_e9101_row5_col9, #T_e9101_row5_col15, #T_e9101_row5_col16, #T_e9101_row5_col17, #T_e9101_row6_col0, #T_e9101_row6_col1, #T_e9101_row6_col2, #T_e9101_row6_col3, #T_e9101_row6_col4, #T_e9101_row6_col5, #T_e9101_row6_col6, #T_e9101_row6_col7, #T_e9101_row6_col8, #T_e9101_row6_col9, #T_e9101_row6_col14, #T_e9101_row6_col15, #T_e9101_row6_col16, #T_e9101_row6_col17, #T_e9101_row7_col0, #T_e9101_row7_col1, #T_e9101_row7_col2, #T_e9101_row7_col3, #T_e9101_row7_col4, #T_e9101_row7_col5, #T_e9101_row7_col6, #T_e9101_row7_col13, #T_e9101_row7_col14, #T_e9101_row7_col15, #T_e9101_row7_col16, #T_e9101_row7_col17, #T_e9101_row8_col0, #T_e9101_row8_col1, #T_e9101_row8_col2, #T_e9101_row8_col3, #T_e9101_row8_col4, #T_e9101_row8_col13, #T_e9101_row8_col14, #T_e9101_row8_col15, #T_e9101_row8_col16, #T_e9101_row8_col17, #T_e9101_row9_col0, #T_e9101_row9_col1, #T_e9101_row9_col2, #T_e9101_row9_col3, #T_e9101_row9_col4, #T_e9101_row9_col16, #T_e9101_row9_col17, #T_e9101_row10_col0, #T_e9101_row10_col1, #T_e9101_row10_col2, #T_e9101_row10_col3, #T_e9101_row10_col4, #T_e9101_row10_col5, #T_e9101_row10_col6, #T_e9101_row10_col17 {\n",
              "  font-size: 6pt;\n",
              "  background-color: #ffffff;\n",
              "  color: #000000;\n",
              "}\n",
              "#T_e9101_row1_col5 {\n",
              "  font-size: 6pt;\n",
              "  background-color: #efefef;\n",
              "  color: #000000;\n",
              "}\n",
              "#T_e9101_row1_col6, #T_e9101_row1_col13 {\n",
              "  font-size: 6pt;\n",
              "  background-color: #7c7c7c;\n",
              "  color: #f1f1f1;\n",
              "}\n",
              "#T_e9101_row1_col7 {\n",
              "  font-size: 6pt;\n",
              "  background-color: #4a4a4a;\n",
              "  color: #f1f1f1;\n",
              "}\n",
              "#T_e9101_row1_col8, #T_e9101_row1_col9, #T_e9101_row1_col10, #T_e9101_row2_col5, #T_e9101_row2_col6, #T_e9101_row2_col7, #T_e9101_row2_col11, #T_e9101_row2_col12, #T_e9101_row2_col13, #T_e9101_row3_col4, #T_e9101_row3_col12, #T_e9101_row3_col13, #T_e9101_row4_col1, #T_e9101_row4_col2, #T_e9101_row4_col3, #T_e9101_row4_col12, #T_e9101_row4_col13, #T_e9101_row5_col12, #T_e9101_row6_col11, #T_e9101_row9_col11, #T_e9101_row10_col11, #T_e9101_row10_col12, #T_e9101_row10_col13, #T_e9101_row10_col14, #T_e9101_row10_col15, #T_e9101_row10_col16 {\n",
              "  font-size: 6pt;\n",
              "  background-color: #000000;\n",
              "  color: #f1f1f1;\n",
              "}\n",
              "#T_e9101_row1_col11 {\n",
              "  font-size: 6pt;\n",
              "  background-color: #606060;\n",
              "  color: #f1f1f1;\n",
              "}\n",
              "#T_e9101_row1_col12 {\n",
              "  font-size: 6pt;\n",
              "  background-color: #4d4d4d;\n",
              "  color: #f1f1f1;\n",
              "}\n",
              "#T_e9101_row1_col14 {\n",
              "  font-size: 6pt;\n",
              "  background-color: #bbbbbb;\n",
              "  color: #000000;\n",
              "}\n",
              "#T_e9101_row2_col3 {\n",
              "  font-size: 6pt;\n",
              "  background-color: #e4e4e4;\n",
              "  color: #000000;\n",
              "}\n",
              "#T_e9101_row2_col4, #T_e9101_row8_col6 {\n",
              "  font-size: 6pt;\n",
              "  background-color: #6b6b6b;\n",
              "  color: #f1f1f1;\n",
              "}\n",
              "#T_e9101_row2_col8, #T_e9101_row2_col14, #T_e9101_row3_col14 {\n",
              "  font-size: 6pt;\n",
              "  background-color: #171717;\n",
              "  color: #f1f1f1;\n",
              "}\n",
              "#T_e9101_row2_col9, #T_e9101_row3_col11 {\n",
              "  font-size: 6pt;\n",
              "  background-color: #4b4b4b;\n",
              "  color: #f1f1f1;\n",
              "}\n",
              "#T_e9101_row2_col10, #T_e9101_row7_col10, #T_e9101_row8_col8, #T_e9101_row8_col10, #T_e9101_row9_col8, #T_e9101_row9_col10 {\n",
              "  font-size: 6pt;\n",
              "  background-color: #010101;\n",
              "  color: #f1f1f1;\n",
              "}\n",
              "#T_e9101_row3_col1 {\n",
              "  font-size: 6pt;\n",
              "  background-color: #272727;\n",
              "  color: #f1f1f1;\n",
              "}\n",
              "#T_e9101_row3_col2 {\n",
              "  font-size: 6pt;\n",
              "  background-color: #0a0a0a;\n",
              "  color: #f1f1f1;\n",
              "}\n",
              "#T_e9101_row3_col3 {\n",
              "  font-size: 6pt;\n",
              "  background-color: #050505;\n",
              "  color: #f1f1f1;\n",
              "}\n",
              "#T_e9101_row3_col5 {\n",
              "  font-size: 6pt;\n",
              "  background-color: #333333;\n",
              "  color: #f1f1f1;\n",
              "}\n",
              "#T_e9101_row3_col6 {\n",
              "  font-size: 6pt;\n",
              "  background-color: #e6e6e6;\n",
              "  color: #000000;\n",
              "}\n",
              "#T_e9101_row3_col7, #T_e9101_row3_col10 {\n",
              "  font-size: 6pt;\n",
              "  background-color: #fafafa;\n",
              "  color: #000000;\n",
              "}\n",
              "#T_e9101_row3_col8 {\n",
              "  font-size: 6pt;\n",
              "  background-color: #fbfbfb;\n",
              "  color: #000000;\n",
              "}\n",
              "#T_e9101_row3_col9 {\n",
              "  font-size: 6pt;\n",
              "  background-color: #fdfdfd;\n",
              "  color: #000000;\n",
              "}\n",
              "#T_e9101_row4_col4 {\n",
              "  font-size: 6pt;\n",
              "  background-color: #1b1b1b;\n",
              "  color: #f1f1f1;\n",
              "}\n",
              "#T_e9101_row4_col5 {\n",
              "  font-size: 6pt;\n",
              "  background-color: #e0e0e0;\n",
              "  color: #000000;\n",
              "}\n",
              "#T_e9101_row4_col11 {\n",
              "  font-size: 6pt;\n",
              "  background-color: #4e4e4e;\n",
              "  color: #f1f1f1;\n",
              "}\n",
              "#T_e9101_row4_col14 {\n",
              "  font-size: 6pt;\n",
              "  background-color: #767676;\n",
              "  color: #f1f1f1;\n",
              "}\n",
              "#T_e9101_row5_col1 {\n",
              "  font-size: 6pt;\n",
              "  background-color: #fcfcfc;\n",
              "  color: #000000;\n",
              "}\n",
              "#T_e9101_row5_col2, #T_e9101_row5_col3 {\n",
              "  font-size: 6pt;\n",
              "  background-color: #f6f6f6;\n",
              "  color: #000000;\n",
              "}\n",
              "#T_e9101_row5_col4, #T_e9101_row7_col7 {\n",
              "  font-size: 6pt;\n",
              "  background-color: #f8f8f8;\n",
              "  color: #000000;\n",
              "}\n",
              "#T_e9101_row5_col10, #T_e9101_row10_col7 {\n",
              "  font-size: 6pt;\n",
              "  background-color: #e8e8e8;\n",
              "  color: #000000;\n",
              "}\n",
              "#T_e9101_row5_col11 {\n",
              "  font-size: 6pt;\n",
              "  background-color: #222222;\n",
              "  color: #f1f1f1;\n",
              "}\n",
              "#T_e9101_row5_col13, #T_e9101_row6_col12 {\n",
              "  font-size: 6pt;\n",
              "  background-color: #090909;\n",
              "  color: #f1f1f1;\n",
              "}\n",
              "#T_e9101_row5_col14 {\n",
              "  font-size: 6pt;\n",
              "  background-color: #d0d0d0;\n",
              "  color: #000000;\n",
              "}\n",
              "#T_e9101_row6_col10, #T_e9101_row7_col11, #T_e9101_row9_col6 {\n",
              "  font-size: 6pt;\n",
              "  background-color: #060606;\n",
              "  color: #f1f1f1;\n",
              "}\n",
              "#T_e9101_row6_col13 {\n",
              "  font-size: 6pt;\n",
              "  background-color: #979797;\n",
              "  color: #f1f1f1;\n",
              "}\n",
              "#T_e9101_row7_col8 {\n",
              "  font-size: 6pt;\n",
              "  background-color: #b6b6b6;\n",
              "  color: #000000;\n",
              "}\n",
              "#T_e9101_row7_col9 {\n",
              "  font-size: 6pt;\n",
              "  background-color: #252525;\n",
              "  color: #f1f1f1;\n",
              "}\n",
              "#T_e9101_row7_col12 {\n",
              "  font-size: 6pt;\n",
              "  background-color: #999999;\n",
              "  color: #f1f1f1;\n",
              "}\n",
              "#T_e9101_row8_col5 {\n",
              "  font-size: 6pt;\n",
              "  background-color: #f9f9f9;\n",
              "  color: #000000;\n",
              "}\n",
              "#T_e9101_row8_col7 {\n",
              "  font-size: 6pt;\n",
              "  background-color: #101010;\n",
              "  color: #f1f1f1;\n",
              "}\n",
              "#T_e9101_row8_col9, #T_e9101_row9_col9 {\n",
              "  font-size: 6pt;\n",
              "  background-color: #020202;\n",
              "  color: #f1f1f1;\n",
              "}\n",
              "#T_e9101_row8_col11 {\n",
              "  font-size: 6pt;\n",
              "  background-color: #545454;\n",
              "  color: #f1f1f1;\n",
              "}\n",
              "#T_e9101_row8_col12 {\n",
              "  font-size: 6pt;\n",
              "  background-color: #f1f1f1;\n",
              "  color: #000000;\n",
              "}\n",
              "#T_e9101_row9_col5 {\n",
              "  font-size: 6pt;\n",
              "  background-color: #f7f7f7;\n",
              "  color: #000000;\n",
              "}\n",
              "#T_e9101_row9_col7 {\n",
              "  font-size: 6pt;\n",
              "  background-color: #030303;\n",
              "  color: #f1f1f1;\n",
              "}\n",
              "#T_e9101_row9_col12 {\n",
              "  font-size: 6pt;\n",
              "  background-color: #181818;\n",
              "  color: #f1f1f1;\n",
              "}\n",
              "#T_e9101_row9_col13 {\n",
              "  font-size: 6pt;\n",
              "  background-color: #303030;\n",
              "  color: #f1f1f1;\n",
              "}\n",
              "#T_e9101_row9_col14 {\n",
              "  font-size: 6pt;\n",
              "  background-color: #a9a9a9;\n",
              "  color: #f1f1f1;\n",
              "}\n",
              "#T_e9101_row9_col15 {\n",
              "  font-size: 6pt;\n",
              "  background-color: #fefefe;\n",
              "  color: #000000;\n",
              "}\n",
              "#T_e9101_row10_col8, #T_e9101_row10_col9 {\n",
              "  font-size: 6pt;\n",
              "  background-color: #bababa;\n",
              "  color: #000000;\n",
              "}\n",
              "#T_e9101_row10_col10 {\n",
              "  font-size: 6pt;\n",
              "  background-color: #393939;\n",
              "  color: #f1f1f1;\n",
              "}\n",
              "</style>\n",
              "<table id=\"T_e9101_\" class=\"dataframe\">\n",
              "  <thead>\n",
              "    <tr>\n",
              "      <th class=\"blank level0\" >&nbsp;</th>\n",
              "      <th class=\"col_heading level0 col0\" >0</th>\n",
              "      <th class=\"col_heading level0 col1\" >1</th>\n",
              "      <th class=\"col_heading level0 col2\" >2</th>\n",
              "      <th class=\"col_heading level0 col3\" >3</th>\n",
              "      <th class=\"col_heading level0 col4\" >4</th>\n",
              "      <th class=\"col_heading level0 col5\" >5</th>\n",
              "      <th class=\"col_heading level0 col6\" >6</th>\n",
              "      <th class=\"col_heading level0 col7\" >7</th>\n",
              "      <th class=\"col_heading level0 col8\" >8</th>\n",
              "      <th class=\"col_heading level0 col9\" >9</th>\n",
              "      <th class=\"col_heading level0 col10\" >10</th>\n",
              "      <th class=\"col_heading level0 col11\" >11</th>\n",
              "      <th class=\"col_heading level0 col12\" >12</th>\n",
              "      <th class=\"col_heading level0 col13\" >13</th>\n",
              "      <th class=\"col_heading level0 col14\" >14</th>\n",
              "      <th class=\"col_heading level0 col15\" >15</th>\n",
              "      <th class=\"col_heading level0 col16\" >16</th>\n",
              "      <th class=\"col_heading level0 col17\" >17</th>\n",
              "    </tr>\n",
              "  </thead>\n",
              "  <tbody>\n",
              "    <tr>\n",
              "      <th id=\"T_e9101_level0_row0\" class=\"row_heading level0 row0\" >0</th>\n",
              "      <td id=\"T_e9101_row0_col0\" class=\"data row0 col0\" >0</td>\n",
              "      <td id=\"T_e9101_row0_col1\" class=\"data row0 col1\" >0</td>\n",
              "      <td id=\"T_e9101_row0_col2\" class=\"data row0 col2\" >0</td>\n",
              "      <td id=\"T_e9101_row0_col3\" class=\"data row0 col3\" >0</td>\n",
              "      <td id=\"T_e9101_row0_col4\" class=\"data row0 col4\" >0</td>\n",
              "      <td id=\"T_e9101_row0_col5\" class=\"data row0 col5\" >0</td>\n",
              "      <td id=\"T_e9101_row0_col6\" class=\"data row0 col6\" >0</td>\n",
              "      <td id=\"T_e9101_row0_col7\" class=\"data row0 col7\" >0</td>\n",
              "      <td id=\"T_e9101_row0_col8\" class=\"data row0 col8\" >0</td>\n",
              "      <td id=\"T_e9101_row0_col9\" class=\"data row0 col9\" >0</td>\n",
              "      <td id=\"T_e9101_row0_col10\" class=\"data row0 col10\" >0</td>\n",
              "      <td id=\"T_e9101_row0_col11\" class=\"data row0 col11\" >0</td>\n",
              "      <td id=\"T_e9101_row0_col12\" class=\"data row0 col12\" >0</td>\n",
              "      <td id=\"T_e9101_row0_col13\" class=\"data row0 col13\" >0</td>\n",
              "      <td id=\"T_e9101_row0_col14\" class=\"data row0 col14\" >0</td>\n",
              "      <td id=\"T_e9101_row0_col15\" class=\"data row0 col15\" >0</td>\n",
              "      <td id=\"T_e9101_row0_col16\" class=\"data row0 col16\" >0</td>\n",
              "      <td id=\"T_e9101_row0_col17\" class=\"data row0 col17\" >0</td>\n",
              "    </tr>\n",
              "    <tr>\n",
              "      <th id=\"T_e9101_level0_row1\" class=\"row_heading level0 row1\" >1</th>\n",
              "      <td id=\"T_e9101_row1_col0\" class=\"data row1 col0\" >0</td>\n",
              "      <td id=\"T_e9101_row1_col1\" class=\"data row1 col1\" >0</td>\n",
              "      <td id=\"T_e9101_row1_col2\" class=\"data row1 col2\" >0</td>\n",
              "      <td id=\"T_e9101_row1_col3\" class=\"data row1 col3\" >0</td>\n",
              "      <td id=\"T_e9101_row1_col4\" class=\"data row1 col4\" >0</td>\n",
              "      <td id=\"T_e9101_row1_col5\" class=\"data row1 col5\" >29</td>\n",
              "      <td id=\"T_e9101_row1_col6\" class=\"data row1 col6\" >150</td>\n",
              "      <td id=\"T_e9101_row1_col7\" class=\"data row1 col7\" >195</td>\n",
              "      <td id=\"T_e9101_row1_col8\" class=\"data row1 col8\" >254</td>\n",
              "      <td id=\"T_e9101_row1_col9\" class=\"data row1 col9\" >255</td>\n",
              "      <td id=\"T_e9101_row1_col10\" class=\"data row1 col10\" >254</td>\n",
              "      <td id=\"T_e9101_row1_col11\" class=\"data row1 col11\" >176</td>\n",
              "      <td id=\"T_e9101_row1_col12\" class=\"data row1 col12\" >193</td>\n",
              "      <td id=\"T_e9101_row1_col13\" class=\"data row1 col13\" >150</td>\n",
              "      <td id=\"T_e9101_row1_col14\" class=\"data row1 col14\" >96</td>\n",
              "      <td id=\"T_e9101_row1_col15\" class=\"data row1 col15\" >0</td>\n",
              "      <td id=\"T_e9101_row1_col16\" class=\"data row1 col16\" >0</td>\n",
              "      <td id=\"T_e9101_row1_col17\" class=\"data row1 col17\" >0</td>\n",
              "    </tr>\n",
              "    <tr>\n",
              "      <th id=\"T_e9101_level0_row2\" class=\"row_heading level0 row2\" >2</th>\n",
              "      <td id=\"T_e9101_row2_col0\" class=\"data row2 col0\" >0</td>\n",
              "      <td id=\"T_e9101_row2_col1\" class=\"data row2 col1\" >0</td>\n",
              "      <td id=\"T_e9101_row2_col2\" class=\"data row2 col2\" >0</td>\n",
              "      <td id=\"T_e9101_row2_col3\" class=\"data row2 col3\" >48</td>\n",
              "      <td id=\"T_e9101_row2_col4\" class=\"data row2 col4\" >166</td>\n",
              "      <td id=\"T_e9101_row2_col5\" class=\"data row2 col5\" >224</td>\n",
              "      <td id=\"T_e9101_row2_col6\" class=\"data row2 col6\" >253</td>\n",
              "      <td id=\"T_e9101_row2_col7\" class=\"data row2 col7\" >253</td>\n",
              "      <td id=\"T_e9101_row2_col8\" class=\"data row2 col8\" >234</td>\n",
              "      <td id=\"T_e9101_row2_col9\" class=\"data row2 col9\" >196</td>\n",
              "      <td id=\"T_e9101_row2_col10\" class=\"data row2 col10\" >253</td>\n",
              "      <td id=\"T_e9101_row2_col11\" class=\"data row2 col11\" >253</td>\n",
              "      <td id=\"T_e9101_row2_col12\" class=\"data row2 col12\" >253</td>\n",
              "      <td id=\"T_e9101_row2_col13\" class=\"data row2 col13\" >253</td>\n",
              "      <td id=\"T_e9101_row2_col14\" class=\"data row2 col14\" >233</td>\n",
              "      <td id=\"T_e9101_row2_col15\" class=\"data row2 col15\" >0</td>\n",
              "      <td id=\"T_e9101_row2_col16\" class=\"data row2 col16\" >0</td>\n",
              "      <td id=\"T_e9101_row2_col17\" class=\"data row2 col17\" >0</td>\n",
              "    </tr>\n",
              "    <tr>\n",
              "      <th id=\"T_e9101_level0_row3\" class=\"row_heading level0 row3\" >3</th>\n",
              "      <td id=\"T_e9101_row3_col0\" class=\"data row3 col0\" >0</td>\n",
              "      <td id=\"T_e9101_row3_col1\" class=\"data row3 col1\" >93</td>\n",
              "      <td id=\"T_e9101_row3_col2\" class=\"data row3 col2\" >244</td>\n",
              "      <td id=\"T_e9101_row3_col3\" class=\"data row3 col3\" >249</td>\n",
              "      <td id=\"T_e9101_row3_col4\" class=\"data row3 col4\" >253</td>\n",
              "      <td id=\"T_e9101_row3_col5\" class=\"data row3 col5\" >187</td>\n",
              "      <td id=\"T_e9101_row3_col6\" class=\"data row3 col6\" >46</td>\n",
              "      <td id=\"T_e9101_row3_col7\" class=\"data row3 col7\" >10</td>\n",
              "      <td id=\"T_e9101_row3_col8\" class=\"data row3 col8\" >8</td>\n",
              "      <td id=\"T_e9101_row3_col9\" class=\"data row3 col9\" >4</td>\n",
              "      <td id=\"T_e9101_row3_col10\" class=\"data row3 col10\" >10</td>\n",
              "      <td id=\"T_e9101_row3_col11\" class=\"data row3 col11\" >194</td>\n",
              "      <td id=\"T_e9101_row3_col12\" class=\"data row3 col12\" >253</td>\n",
              "      <td id=\"T_e9101_row3_col13\" class=\"data row3 col13\" >253</td>\n",
              "      <td id=\"T_e9101_row3_col14\" class=\"data row3 col14\" >233</td>\n",
              "      <td id=\"T_e9101_row3_col15\" class=\"data row3 col15\" >0</td>\n",
              "      <td id=\"T_e9101_row3_col16\" class=\"data row3 col16\" >0</td>\n",
              "      <td id=\"T_e9101_row3_col17\" class=\"data row3 col17\" >0</td>\n",
              "    </tr>\n",
              "    <tr>\n",
              "      <th id=\"T_e9101_level0_row4\" class=\"row_heading level0 row4\" >4</th>\n",
              "      <td id=\"T_e9101_row4_col0\" class=\"data row4 col0\" >0</td>\n",
              "      <td id=\"T_e9101_row4_col1\" class=\"data row4 col1\" >107</td>\n",
              "      <td id=\"T_e9101_row4_col2\" class=\"data row4 col2\" >253</td>\n",
              "      <td id=\"T_e9101_row4_col3\" class=\"data row4 col3\" >253</td>\n",
              "      <td id=\"T_e9101_row4_col4\" class=\"data row4 col4\" >230</td>\n",
              "      <td id=\"T_e9101_row4_col5\" class=\"data row4 col5\" >48</td>\n",
              "      <td id=\"T_e9101_row4_col6\" class=\"data row4 col6\" >0</td>\n",
              "      <td id=\"T_e9101_row4_col7\" class=\"data row4 col7\" >0</td>\n",
              "      <td id=\"T_e9101_row4_col8\" class=\"data row4 col8\" >0</td>\n",
              "      <td id=\"T_e9101_row4_col9\" class=\"data row4 col9\" >0</td>\n",
              "      <td id=\"T_e9101_row4_col10\" class=\"data row4 col10\" >0</td>\n",
              "      <td id=\"T_e9101_row4_col11\" class=\"data row4 col11\" >192</td>\n",
              "      <td id=\"T_e9101_row4_col12\" class=\"data row4 col12\" >253</td>\n",
              "      <td id=\"T_e9101_row4_col13\" class=\"data row4 col13\" >253</td>\n",
              "      <td id=\"T_e9101_row4_col14\" class=\"data row4 col14\" >156</td>\n",
              "      <td id=\"T_e9101_row4_col15\" class=\"data row4 col15\" >0</td>\n",
              "      <td id=\"T_e9101_row4_col16\" class=\"data row4 col16\" >0</td>\n",
              "      <td id=\"T_e9101_row4_col17\" class=\"data row4 col17\" >0</td>\n",
              "    </tr>\n",
              "    <tr>\n",
              "      <th id=\"T_e9101_level0_row5\" class=\"row_heading level0 row5\" >5</th>\n",
              "      <td id=\"T_e9101_row5_col0\" class=\"data row5 col0\" >0</td>\n",
              "      <td id=\"T_e9101_row5_col1\" class=\"data row5 col1\" >3</td>\n",
              "      <td id=\"T_e9101_row5_col2\" class=\"data row5 col2\" >20</td>\n",
              "      <td id=\"T_e9101_row5_col3\" class=\"data row5 col3\" >20</td>\n",
              "      <td id=\"T_e9101_row5_col4\" class=\"data row5 col4\" >15</td>\n",
              "      <td id=\"T_e9101_row5_col5\" class=\"data row5 col5\" >0</td>\n",
              "      <td id=\"T_e9101_row5_col6\" class=\"data row5 col6\" >0</td>\n",
              "      <td id=\"T_e9101_row5_col7\" class=\"data row5 col7\" >0</td>\n",
              "      <td id=\"T_e9101_row5_col8\" class=\"data row5 col8\" >0</td>\n",
              "      <td id=\"T_e9101_row5_col9\" class=\"data row5 col9\" >0</td>\n",
              "      <td id=\"T_e9101_row5_col10\" class=\"data row5 col10\" >43</td>\n",
              "      <td id=\"T_e9101_row5_col11\" class=\"data row5 col11\" >224</td>\n",
              "      <td id=\"T_e9101_row5_col12\" class=\"data row5 col12\" >253</td>\n",
              "      <td id=\"T_e9101_row5_col13\" class=\"data row5 col13\" >245</td>\n",
              "      <td id=\"T_e9101_row5_col14\" class=\"data row5 col14\" >74</td>\n",
              "      <td id=\"T_e9101_row5_col15\" class=\"data row5 col15\" >0</td>\n",
              "      <td id=\"T_e9101_row5_col16\" class=\"data row5 col16\" >0</td>\n",
              "      <td id=\"T_e9101_row5_col17\" class=\"data row5 col17\" >0</td>\n",
              "    </tr>\n",
              "    <tr>\n",
              "      <th id=\"T_e9101_level0_row6\" class=\"row_heading level0 row6\" >6</th>\n",
              "      <td id=\"T_e9101_row6_col0\" class=\"data row6 col0\" >0</td>\n",
              "      <td id=\"T_e9101_row6_col1\" class=\"data row6 col1\" >0</td>\n",
              "      <td id=\"T_e9101_row6_col2\" class=\"data row6 col2\" >0</td>\n",
              "      <td id=\"T_e9101_row6_col3\" class=\"data row6 col3\" >0</td>\n",
              "      <td id=\"T_e9101_row6_col4\" class=\"data row6 col4\" >0</td>\n",
              "      <td id=\"T_e9101_row6_col5\" class=\"data row6 col5\" >0</td>\n",
              "      <td id=\"T_e9101_row6_col6\" class=\"data row6 col6\" >0</td>\n",
              "      <td id=\"T_e9101_row6_col7\" class=\"data row6 col7\" >0</td>\n",
              "      <td id=\"T_e9101_row6_col8\" class=\"data row6 col8\" >0</td>\n",
              "      <td id=\"T_e9101_row6_col9\" class=\"data row6 col9\" >0</td>\n",
              "      <td id=\"T_e9101_row6_col10\" class=\"data row6 col10\" >249</td>\n",
              "      <td id=\"T_e9101_row6_col11\" class=\"data row6 col11\" >253</td>\n",
              "      <td id=\"T_e9101_row6_col12\" class=\"data row6 col12\" >245</td>\n",
              "      <td id=\"T_e9101_row6_col13\" class=\"data row6 col13\" >126</td>\n",
              "      <td id=\"T_e9101_row6_col14\" class=\"data row6 col14\" >0</td>\n",
              "      <td id=\"T_e9101_row6_col15\" class=\"data row6 col15\" >0</td>\n",
              "      <td id=\"T_e9101_row6_col16\" class=\"data row6 col16\" >0</td>\n",
              "      <td id=\"T_e9101_row6_col17\" class=\"data row6 col17\" >0</td>\n",
              "    </tr>\n",
              "    <tr>\n",
              "      <th id=\"T_e9101_level0_row7\" class=\"row_heading level0 row7\" >7</th>\n",
              "      <td id=\"T_e9101_row7_col0\" class=\"data row7 col0\" >0</td>\n",
              "      <td id=\"T_e9101_row7_col1\" class=\"data row7 col1\" >0</td>\n",
              "      <td id=\"T_e9101_row7_col2\" class=\"data row7 col2\" >0</td>\n",
              "      <td id=\"T_e9101_row7_col3\" class=\"data row7 col3\" >0</td>\n",
              "      <td id=\"T_e9101_row7_col4\" class=\"data row7 col4\" >0</td>\n",
              "      <td id=\"T_e9101_row7_col5\" class=\"data row7 col5\" >0</td>\n",
              "      <td id=\"T_e9101_row7_col6\" class=\"data row7 col6\" >0</td>\n",
              "      <td id=\"T_e9101_row7_col7\" class=\"data row7 col7\" >14</td>\n",
              "      <td id=\"T_e9101_row7_col8\" class=\"data row7 col8\" >101</td>\n",
              "      <td id=\"T_e9101_row7_col9\" class=\"data row7 col9\" >223</td>\n",
              "      <td id=\"T_e9101_row7_col10\" class=\"data row7 col10\" >253</td>\n",
              "      <td id=\"T_e9101_row7_col11\" class=\"data row7 col11\" >248</td>\n",
              "      <td id=\"T_e9101_row7_col12\" class=\"data row7 col12\" >124</td>\n",
              "      <td id=\"T_e9101_row7_col13\" class=\"data row7 col13\" >0</td>\n",
              "      <td id=\"T_e9101_row7_col14\" class=\"data row7 col14\" >0</td>\n",
              "      <td id=\"T_e9101_row7_col15\" class=\"data row7 col15\" >0</td>\n",
              "      <td id=\"T_e9101_row7_col16\" class=\"data row7 col16\" >0</td>\n",
              "      <td id=\"T_e9101_row7_col17\" class=\"data row7 col17\" >0</td>\n",
              "    </tr>\n",
              "    <tr>\n",
              "      <th id=\"T_e9101_level0_row8\" class=\"row_heading level0 row8\" >8</th>\n",
              "      <td id=\"T_e9101_row8_col0\" class=\"data row8 col0\" >0</td>\n",
              "      <td id=\"T_e9101_row8_col1\" class=\"data row8 col1\" >0</td>\n",
              "      <td id=\"T_e9101_row8_col2\" class=\"data row8 col2\" >0</td>\n",
              "      <td id=\"T_e9101_row8_col3\" class=\"data row8 col3\" >0</td>\n",
              "      <td id=\"T_e9101_row8_col4\" class=\"data row8 col4\" >0</td>\n",
              "      <td id=\"T_e9101_row8_col5\" class=\"data row8 col5\" >11</td>\n",
              "      <td id=\"T_e9101_row8_col6\" class=\"data row8 col6\" >166</td>\n",
              "      <td id=\"T_e9101_row8_col7\" class=\"data row8 col7\" >239</td>\n",
              "      <td id=\"T_e9101_row8_col8\" class=\"data row8 col8\" >253</td>\n",
              "      <td id=\"T_e9101_row8_col9\" class=\"data row8 col9\" >253</td>\n",
              "      <td id=\"T_e9101_row8_col10\" class=\"data row8 col10\" >253</td>\n",
              "      <td id=\"T_e9101_row8_col11\" class=\"data row8 col11\" >187</td>\n",
              "      <td id=\"T_e9101_row8_col12\" class=\"data row8 col12\" >30</td>\n",
              "      <td id=\"T_e9101_row8_col13\" class=\"data row8 col13\" >0</td>\n",
              "      <td id=\"T_e9101_row8_col14\" class=\"data row8 col14\" >0</td>\n",
              "      <td id=\"T_e9101_row8_col15\" class=\"data row8 col15\" >0</td>\n",
              "      <td id=\"T_e9101_row8_col16\" class=\"data row8 col16\" >0</td>\n",
              "      <td id=\"T_e9101_row8_col17\" class=\"data row8 col17\" >0</td>\n",
              "    </tr>\n",
              "    <tr>\n",
              "      <th id=\"T_e9101_level0_row9\" class=\"row_heading level0 row9\" >9</th>\n",
              "      <td id=\"T_e9101_row9_col0\" class=\"data row9 col0\" >0</td>\n",
              "      <td id=\"T_e9101_row9_col1\" class=\"data row9 col1\" >0</td>\n",
              "      <td id=\"T_e9101_row9_col2\" class=\"data row9 col2\" >0</td>\n",
              "      <td id=\"T_e9101_row9_col3\" class=\"data row9 col3\" >0</td>\n",
              "      <td id=\"T_e9101_row9_col4\" class=\"data row9 col4\" >0</td>\n",
              "      <td id=\"T_e9101_row9_col5\" class=\"data row9 col5\" >16</td>\n",
              "      <td id=\"T_e9101_row9_col6\" class=\"data row9 col6\" >248</td>\n",
              "      <td id=\"T_e9101_row9_col7\" class=\"data row9 col7\" >250</td>\n",
              "      <td id=\"T_e9101_row9_col8\" class=\"data row9 col8\" >253</td>\n",
              "      <td id=\"T_e9101_row9_col9\" class=\"data row9 col9\" >253</td>\n",
              "      <td id=\"T_e9101_row9_col10\" class=\"data row9 col10\" >253</td>\n",
              "      <td id=\"T_e9101_row9_col11\" class=\"data row9 col11\" >253</td>\n",
              "      <td id=\"T_e9101_row9_col12\" class=\"data row9 col12\" >232</td>\n",
              "      <td id=\"T_e9101_row9_col13\" class=\"data row9 col13\" >213</td>\n",
              "      <td id=\"T_e9101_row9_col14\" class=\"data row9 col14\" >111</td>\n",
              "      <td id=\"T_e9101_row9_col15\" class=\"data row9 col15\" >2</td>\n",
              "      <td id=\"T_e9101_row9_col16\" class=\"data row9 col16\" >0</td>\n",
              "      <td id=\"T_e9101_row9_col17\" class=\"data row9 col17\" >0</td>\n",
              "    </tr>\n",
              "    <tr>\n",
              "      <th id=\"T_e9101_level0_row10\" class=\"row_heading level0 row10\" >10</th>\n",
              "      <td id=\"T_e9101_row10_col0\" class=\"data row10 col0\" >0</td>\n",
              "      <td id=\"T_e9101_row10_col1\" class=\"data row10 col1\" >0</td>\n",
              "      <td id=\"T_e9101_row10_col2\" class=\"data row10 col2\" >0</td>\n",
              "      <td id=\"T_e9101_row10_col3\" class=\"data row10 col3\" >0</td>\n",
              "      <td id=\"T_e9101_row10_col4\" class=\"data row10 col4\" >0</td>\n",
              "      <td id=\"T_e9101_row10_col5\" class=\"data row10 col5\" >0</td>\n",
              "      <td id=\"T_e9101_row10_col6\" class=\"data row10 col6\" >0</td>\n",
              "      <td id=\"T_e9101_row10_col7\" class=\"data row10 col7\" >43</td>\n",
              "      <td id=\"T_e9101_row10_col8\" class=\"data row10 col8\" >98</td>\n",
              "      <td id=\"T_e9101_row10_col9\" class=\"data row10 col9\" >98</td>\n",
              "      <td id=\"T_e9101_row10_col10\" class=\"data row10 col10\" >208</td>\n",
              "      <td id=\"T_e9101_row10_col11\" class=\"data row10 col11\" >253</td>\n",
              "      <td id=\"T_e9101_row10_col12\" class=\"data row10 col12\" >253</td>\n",
              "      <td id=\"T_e9101_row10_col13\" class=\"data row10 col13\" >253</td>\n",
              "      <td id=\"T_e9101_row10_col14\" class=\"data row10 col14\" >253</td>\n",
              "      <td id=\"T_e9101_row10_col15\" class=\"data row10 col15\" >187</td>\n",
              "      <td id=\"T_e9101_row10_col16\" class=\"data row10 col16\" >22</td>\n",
              "      <td id=\"T_e9101_row10_col17\" class=\"data row10 col17\" >0</td>\n",
              "    </tr>\n",
              "  </tbody>\n",
              "</table>\n"
            ]
          },
          "metadata": {},
          "execution_count": 219
        }
      ]
    },
    {
      "cell_type": "code",
      "source": [
        "# 모든 자료들을 텐서로 저장\n",
        "# * 리스트 컴프리헨션 학습 할 것\n",
        "seven_tensors = [tensor(Image.open(o)) for o in sevens]\n",
        "three_tensors = [tensor(Image.open(o)) for o in threes]\n",
        "len(seven_tensors), len(three_tensors)"
      ],
      "metadata": {
        "colab": {
          "base_uri": "https://localhost:8080/"
        },
        "id": "OCxwpTkXrlfg",
        "outputId": "63e598c7-bad3-44e9-d490-80a30eca85c3"
      },
      "execution_count": 220,
      "outputs": [
        {
          "output_type": "execute_result",
          "data": {
            "text/plain": [
              "(6265, 6131)"
            ]
          },
          "metadata": {},
          "execution_count": 220
        }
      ]
    },
    {
      "cell_type": "code",
      "source": [
        "# 이미지 출력\n",
        "show_image(three_tensors[1]) # PIL library?"
      ],
      "metadata": {
        "colab": {
          "base_uri": "https://localhost:8080/",
          "height": 103
        },
        "id": "QpPEkWxQuz_J",
        "outputId": "6d80ab80-7c93-4f95-bfd0-0a233916c550"
      },
      "execution_count": 221,
      "outputs": [
        {
          "output_type": "execute_result",
          "data": {
            "text/plain": [
              "<matplotlib.axes._subplots.AxesSubplot at 0x7f546a9d9e50>"
            ]
          },
          "metadata": {},
          "execution_count": 221
        },
        {
          "output_type": "display_data",
          "data": {
            "text/plain": [
              "<Figure size 72x72 with 1 Axes>"
            ],
            "image/png": "[encoded data removed]"
          },
          "metadata": {
            "needs_background": "light"
          }
        }
      ]
    },
    {
      "cell_type": "code",
      "source": [
        "# 스택과 동시에 부동소수로 표현\n",
        "stacked_threes = torch.stack(three_tensors).float()/255\n",
        "stacked_sevens = torch.stack(seven_tensors).float()/255\n",
        "stacked_threes.shape \n",
        "# shape는 축의 크기, rank 는 축의 갯수"
      ],
      "metadata": {
        "colab": {
          "base_uri": "https://localhost:8080/"
        },
        "id": "EtSYLDufuz8K",
        "outputId": "dd9642dd-1840-4017-f2b1-ffdc6a1e26c7"
      },
      "execution_count": 222,
      "outputs": [
        {
          "output_type": "execute_result",
          "data": {
            "text/plain": [
              "torch.Size([6131, 28, 28])"
            ]
          },
          "metadata": {},
          "execution_count": 222
        }
      ]
    },
    {
      "cell_type": "code",
      "source": [
        "stacked_threes.ndim\n",
        "# 3차원 형태"
      ],
      "metadata": {
        "colab": {
          "base_uri": "https://localhost:8080/"
        },
        "id": "cjBcnMLjuz5S",
        "outputId": "c29b84d8-7dc2-487d-ce09-acc64b2ba79f"
      },
      "execution_count": 223,
      "outputs": [
        {
          "output_type": "execute_result",
          "data": {
            "text/plain": [
              "3"
            ]
          },
          "metadata": {},
          "execution_count": 223
        }
      ]
    },
    {
      "cell_type": "code",
      "source": [
        "# 쌓아 올린 텐서들을 가지고 해당 픽셀의 평균값을 구한 뒤 하나의 이미지로 새롭게 정의한다.\n",
        "\n",
        "# 모든 3의 픽셀값에 따른 평균 이미지 재해석\n",
        "mean3 = stacked_threes.mean(0) # <- 왜 함수의 인자로 0이 들어가는가? 1, 2, -1 다 안됨\n",
        "show_image(mean3)\n",
        "\n",
        "# 모든 7의 텐서의 픽셀값에 따른 평균 이미지 재해석\n",
        "mean7 = stacked_sevens.mean(0)\n",
        "show_image(mean7)"
      ],
      "metadata": {
        "colab": {
          "base_uri": "https://localhost:8080/",
          "height": 171
        },
        "id": "BPjAxoVAykXv",
        "outputId": "3c9b1404-1593-44df-c54a-50e0b3e2f232"
      },
      "execution_count": 224,
      "outputs": [
        {
          "output_type": "execute_result",
          "data": {
            "text/plain": [
              "<matplotlib.axes._subplots.AxesSubplot at 0x7f5470c9cd10>"
            ]
          },
          "metadata": {},
          "execution_count": 224
        },
        {
          "output_type": "display_data",
          "data": {
            "text/plain": [
              "<Figure size 72x72 with 1 Axes>"
            ],
            "image/png": "[encoded data removed]"
          },
          "metadata": {
            "needs_background": "light"
          }
        },
        {
          "output_type": "display_data",
          "data": {
            "text/plain": [
              "<Figure size 72x72 with 1 Axes>"
            ],
            "image/png": "[encoded data removed]"
          },
          "metadata": {
            "needs_background": "light"
          }
        }
      ]
    },
    {
      "cell_type": "code",
      "source": [
        "# 차이의 절댓값에 대한 평균 : L1 노름, 평균절대차\n",
        "# 차이의 제곱에 대한 절댓값 후 제곱근 : L2 노름, 평균제곱근오차\n",
        "\n",
        "a_3 = stacked_threes[1]\n",
        "show_image(a_3)"
      ],
      "metadata": {
        "colab": {
          "base_uri": "https://localhost:8080/",
          "height": 103
        },
        "id": "6d6wHdsFykas",
        "outputId": "204d591e-6e4c-42b4-c833-38885883acfa"
      },
      "execution_count": 225,
      "outputs": [
        {
          "output_type": "execute_result",
          "data": {
            "text/plain": [
              "<matplotlib.axes._subplots.AxesSubplot at 0x7f547022dc50>"
            ]
          },
          "metadata": {},
          "execution_count": 225
        },
        {
          "output_type": "display_data",
          "data": {
            "text/plain": [
              "<Figure size 72x72 with 1 Axes>"
            ],
            "image/png": "[encoded data removed]"
          },
          "metadata": {
            "needs_background": "light"
          }
        }
      ]
    },
    {
      "cell_type": "code",
      "source": [
        "dist_3_abs = (a_3 - mean3).abs().mean() # absolute\n",
        "dist_3_sqr = ((a_3 - mean3)**2).mean().sqrt() # squared\n",
        "dist_3_abs, dist_3_sqr\n",
        "\n",
        "# (tensor(0.1114), tensor(0.2021))\n",
        "\n",
        "dist_7_abs = (a_3 - mean7).abs().mean()\n",
        "dist_7_sqr = ((a_3 - mean7)**2).mean().sqrt()\n",
        "dist_7_abs, dist_7_sqr\n",
        "\n",
        "# (tensor(0.1586), tensor(0.3021))"
      ],
      "metadata": {
        "colab": {
          "base_uri": "https://localhost:8080/"
        },
        "id": "pdWthfUpykgS",
        "outputId": "fe4019f1-ed26-4738-f068-4f08422a225f"
      },
      "execution_count": 226,
      "outputs": [
        {
          "output_type": "execute_result",
          "data": {
            "text/plain": [
              "(tensor(0.1586), tensor(0.3021))"
            ]
          },
          "metadata": {},
          "execution_count": 226
        }
      ]
    },
    {
      "cell_type": "code",
      "source": [
        "# 손실함수로 표현하는 방법\n",
        "\n",
        "F.l1_loss(a_3.float(), mean7), F.mse_loss(a_3, mean7).sqrt()\n",
        "\n",
        "# l1 손실함수, 평균제곱오차(mean squared error)에서 제곱근 사용"
      ],
      "metadata": {
        "colab": {
          "base_uri": "https://localhost:8080/"
        },
        "id": "JnNzC5pS2BH7",
        "outputId": "dca90b65-890d-46e1-a14d-42485ab9b914"
      },
      "execution_count": 227,
      "outputs": [
        {
          "output_type": "execute_result",
          "data": {
            "text/plain": [
              "(tensor(0.1586), tensor(0.3021))"
            ]
          },
          "metadata": {},
          "execution_count": 227
        }
      ]
    },
    {
      "cell_type": "markdown",
      "source": [
        "# difference between tensor and numpy\n",
        "\n",
        "* 기본적으로 numpy는 c언어를 기반으로 만들어졌기 때문에 다양한 형태의 데이터를 담을 수 있고, 자료형만 같다면 다양한 모습으로 연산을 통해 배열을 만들 수 있다.\n",
        "\n",
        "* numpy는 연산을 압축하여 메모리에 저장하기에 매우 빠른 속도를 자랑한다.\n",
        "\n",
        "* tensor는 수치형 데이터만 사용할 수 있으며, 다양한 모습으로 변할 수 없어 항상 사각형을 유지해야 한다.\n",
        "\n",
        "* 단, GPU에 연산을 맡길 수 있어 수 많은 양에 대한 연산이 매우 빠르게 적용하고, 자동으로 미분을 해주기도 한다."
      ],
      "metadata": {
        "id": "TxRvjPCt433r"
      }
    },
    {
      "cell_type": "code",
      "source": [
        "data = [[12, 35, 32], [10, 39, 20]]\n",
        "arr = array(data)\n",
        "tns = tensor(data)\n",
        "\n",
        "arr \n",
        "# array([[12, 35, 32], [10, 39, 20]])\n",
        "\n",
        "tns\n",
        "# tensor([[12, 35, 32], [10, 39, 20]])"
      ],
      "metadata": {
        "colab": {
          "base_uri": "https://localhost:8080/"
        },
        "id": "xIpfyiHk2BEr",
        "outputId": "5ac69eb6-ef63-4358-ca15-342d8f89ede4"
      },
      "execution_count": 228,
      "outputs": [
        {
          "output_type": "execute_result",
          "data": {
            "text/plain": [
              "tensor([[12, 35, 32],\n",
              "        [10, 39, 20]])"
            ]
          },
          "metadata": {},
          "execution_count": 228
        }
      ]
    },
    {
      "cell_type": "code",
      "source": [
        "# tns[행 : 열]\n",
        "tns[1] # tensor([10, 39, 20]) : 인덱스 1에 해당되는 행을 들고온다. 2행\n",
        "\n",
        "tns[:, 0] # tensor([12, 10]) : 인덱스 0에 해당되는 열을 들고온다. 모든 행에 대한 1열"
      ],
      "metadata": {
        "colab": {
          "base_uri": "https://localhost:8080/"
        },
        "id": "lOQbSyxy2BCE",
        "outputId": "6c251425-eb15-462f-ab9d-dcda44aae289"
      },
      "execution_count": 229,
      "outputs": [
        {
          "output_type": "execute_result",
          "data": {
            "text/plain": [
              "tensor([12, 10])"
            ]
          },
          "metadata": {},
          "execution_count": 229
        }
      ]
    },
    {
      "cell_type": "code",
      "source": [
        "tns.type() # torch.LongTensor\n",
        "\n",
        "# 자동으로 정수형에서 부동소수로\n",
        "tns = tns * 1.5\n",
        "tns.type() # torch.FloatTensor"
      ],
      "metadata": {
        "colab": {
          "base_uri": "https://localhost:8080/",
          "height": 36
        },
        "id": "JYjNis3uC8q2",
        "outputId": "1515a2ff-975e-4db5-b77a-78900b320d2e"
      },
      "execution_count": 230,
      "outputs": [
        {
          "output_type": "execute_result",
          "data": {
            "text/plain": [
              "'torch.FloatTensor'"
            ],
            "application/vnd.google.colaboratory.intrinsic+json": {
              "type": "string"
            }
          },
          "metadata": {},
          "execution_count": 230
        }
      ]
    },
    {
      "cell_type": "markdown",
      "source": [
        "# calculate rate through broadcasting\n",
        "\n",
        "* 학습용 데이터 셋에서만 잘 작동하는 overfit을 피하기 위해 검증용 데이터셋을 사용한다.\n",
        "\n",
        "* 보통 정확도(accuracy)를 분류 평가지표로 사용한다."
      ],
      "metadata": {
        "id": "agIB7EC67GYJ"
      }
    },
    {
      "cell_type": "code",
      "source": [
        "# MNIST 에는 검증용 데이터셋이 따로 분류되어있다. Path('/root/.fastai/data/mnist_sample/valid')\n",
        "\n",
        "valid_3_tens = torch.stack([tensor(Image.open(o))\n",
        "                            for o in (path/'valid'/'3').ls()])\n",
        "valid_3_tens = valid_3_tens.float()/255\n",
        "\n",
        "valid_7_tens = torch.stack([tensor(Image.open(o))\n",
        "                            for o in (path/'valid'/'7').ls()])\n",
        "valid_7_tens = valid_3_tens.float()/255\n",
        "\n",
        "valid_3_tens.shape, valid_7_tens.shape\n",
        "\n",
        "# (torch.Size([1010, 28, 28]), torch.Size([1010, 28, 28]))"
      ],
      "metadata": {
        "colab": {
          "base_uri": "https://localhost:8080/"
        },
        "id": "ykAxMiqFD67Z",
        "outputId": "0fc64333-aa1d-4c19-960f-06e2e8809786"
      },
      "execution_count": 231,
      "outputs": [
        {
          "output_type": "execute_result",
          "data": {
            "text/plain": [
              "(torch.Size([1010, 28, 28]), torch.Size([1010, 28, 28]))"
            ]
          },
          "metadata": {},
          "execution_count": 231
        }
      ]
    },
    {
      "cell_type": "code",
      "source": [
        "# 평균절대오차를 계산하는 함수\n",
        "\n",
        "def mnist_distance(a,b) : return (a-b).abs().mean((-1, -2)) # 왜 평균에 인자를 넣어주면 브로드캐스팅이 되는가?\n",
        "mnist_distance(a_3, mean3)"
      ],
      "metadata": {
        "colab": {
          "base_uri": "https://localhost:8080/"
        },
        "id": "QdjgTGQkFvd2",
        "outputId": "5b281d19-69e1-4ec8-b3d3-9d48ff1abe43"
      },
      "execution_count": 232,
      "outputs": [
        {
          "output_type": "execute_result",
          "data": {
            "text/plain": [
              "tensor(0.1114)"
            ]
          },
          "metadata": {},
          "execution_count": 232
        }
      ]
    },
    {
      "cell_type": "code",
      "source": [
        "valid_3_dist = mnist_distance(valid_3_tens, mean3) # 검증용 데이터와 3의 평균이미지와의 오차를 구해 계산\n",
        "valid_3_dist, valid_3_dist.shape\n",
        "\n",
        "# len(valid_3_dist) == 1010\n",
        "\n",
        "# 여기서 valid_3_tens는 rank-3에 해당되는데 mean3 는 rank-2의 테이블 형식이다.\n",
        "# mnist_distance에서 텐서 간의 격차인 (a-b)에서 broadcasting이 일어난 걸 알 수 있다."
      ],
      "metadata": {
        "colab": {
          "base_uri": "https://localhost:8080/"
        },
        "id": "X-pnzplQFvau",
        "outputId": "13c752b4-4341-41dc-a33c-0bdcb96f5605"
      },
      "execution_count": 233,
      "outputs": [
        {
          "output_type": "execute_result",
          "data": {
            "text/plain": [
              "(tensor([0.1153, 0.1063, 0.1471,  ..., 0.1366, 0.1125, 0.1317]),\n",
              " torch.Size([1010]))"
            ]
          },
          "metadata": {},
          "execution_count": 233
        }
      ]
    },
    {
      "cell_type": "code",
      "source": [
        "# 브로드캐스팅이란?\n",
        "\n",
        "# numpy에서는 차원과 비슷한 개념인데 3차원과 2차원이 연산이 될 때 자동으로 2차원이 3차원으로 변형되면서 연산이 가능해지도록 해주는\n",
        "# 한 마디로 자동차원(rank)변환\n",
        "\n",
        "tensor([1,2,3]) + tensor(1) # rank-2의 테이블과 rank-1의 텐서에서 텐서가 자동으로 테이블로 조정되어 연산이 실행되었다."
      ],
      "metadata": {
        "colab": {
          "base_uri": "https://localhost:8080/"
        },
        "id": "aDcpdqJ1FvUe",
        "outputId": "a3dda565-0e8a-4198-f03c-4684ea58e6a9"
      },
      "execution_count": 234,
      "outputs": [
        {
          "output_type": "execute_result",
          "data": {
            "text/plain": [
              "tensor([2, 3, 4])"
            ]
          },
          "metadata": {},
          "execution_count": 234
        }
      ]
    },
    {
      "cell_type": "code",
      "source": [
        "# mean3가 1010개 추가된 것처럼 보이지민 실제로 메모리가 할당되진 않는다.\n",
        "(valid_3_tens - mean3).shape"
      ],
      "metadata": {
        "colab": {
          "base_uri": "https://localhost:8080/"
        },
        "id": "7-CNsAPLFvKm",
        "outputId": "5b5445da-d5f5-4c7e-b03b-a979093b170f"
      },
      "execution_count": 235,
      "outputs": [
        {
          "output_type": "execute_result",
          "data": {
            "text/plain": [
              "torch.Size([1010, 28, 28])"
            ]
          },
          "metadata": {},
          "execution_count": 235
        }
      ]
    },
    {
      "cell_type": "code",
      "source": [
        "# mean()은 그 픽셀별 뺀 값의 평균을 구해준다.\n",
        "\n",
        "def abso(a,b) : return (a-b).abs()\n",
        "\n",
        "image1 = abso(valid_3_tens[10], mean7)\n",
        "df = pd.DataFrame(image1)\n",
        "df.style.set_properties(**{'font-size' : '6pt'}).background_gradient('Greys')"
      ],
      "metadata": {
        "colab": {
          "base_uri": "https://localhost:8080/",
          "height": 947
        },
        "id": "pcfLAYOdKa--",
        "outputId": "96bc6ea2-7977-4e20-a654-ff1e11c2231f"
      },
      "execution_count": 236,
      "outputs": [
        {
          "output_type": "execute_result",
          "data": {
            "text/plain": [
              "<pandas.io.formats.style.Styler at 0x7f546a409b50>"
            ],
            "text/html": [
              "<style type=\"text/css\">\n",
              "#T_9b4b0_row0_col0, #T_9b4b0_row0_col1, #T_9b4b0_row0_col2, #T_9b4b0_row0_col3, #T_9b4b0_row0_col4, #T_9b4b0_row0_col5, #T_9b4b0_row0_col6, #T_9b4b0_row0_col7, #T_9b4b0_row0_col8, #T_9b4b0_row0_col9, #T_9b4b0_row0_col10, #T_9b4b0_row0_col11, #T_9b4b0_row0_col12, #T_9b4b0_row0_col13, #T_9b4b0_row0_col14, #T_9b4b0_row0_col15, #T_9b4b0_row0_col16, #T_9b4b0_row0_col17, #T_9b4b0_row0_col18, #T_9b4b0_row0_col19, #T_9b4b0_row0_col20, #T_9b4b0_row0_col21, #T_9b4b0_row0_col22, #T_9b4b0_row0_col23, #T_9b4b0_row0_col24, #T_9b4b0_row0_col25, #T_9b4b0_row0_col26, #T_9b4b0_row0_col27, #T_9b4b0_row1_col0, #T_9b4b0_row1_col1, #T_9b4b0_row1_col2, #T_9b4b0_row1_col3, #T_9b4b0_row1_col4, #T_9b4b0_row1_col5, #T_9b4b0_row1_col6, #T_9b4b0_row1_col7, #T_9b4b0_row1_col8, #T_9b4b0_row1_col9, #T_9b4b0_row1_col10, #T_9b4b0_row1_col11, #T_9b4b0_row1_col12, #T_9b4b0_row1_col13, #T_9b4b0_row1_col14, #T_9b4b0_row1_col15, #T_9b4b0_row1_col16, #T_9b4b0_row1_col17, #T_9b4b0_row1_col18, #T_9b4b0_row1_col19, #T_9b4b0_row1_col20, #T_9b4b0_row1_col21, #T_9b4b0_row1_col22, #T_9b4b0_row1_col23, #T_9b4b0_row1_col24, #T_9b4b0_row1_col25, #T_9b4b0_row1_col26, #T_9b4b0_row1_col27, #T_9b4b0_row2_col0, #T_9b4b0_row2_col1, #T_9b4b0_row2_col2, #T_9b4b0_row2_col3, #T_9b4b0_row2_col4, #T_9b4b0_row2_col5, #T_9b4b0_row2_col6, #T_9b4b0_row2_col7, #T_9b4b0_row2_col8, #T_9b4b0_row2_col9, #T_9b4b0_row2_col10, #T_9b4b0_row2_col11, #T_9b4b0_row2_col12, #T_9b4b0_row2_col13, #T_9b4b0_row2_col14, #T_9b4b0_row2_col15, #T_9b4b0_row2_col16, #T_9b4b0_row2_col17, #T_9b4b0_row2_col18, #T_9b4b0_row2_col19, #T_9b4b0_row2_col20, #T_9b4b0_row2_col21, #T_9b4b0_row2_col22, #T_9b4b0_row2_col23, #T_9b4b0_row2_col24, #T_9b4b0_row2_col25, #T_9b4b0_row2_col26, #T_9b4b0_row2_col27, #T_9b4b0_row3_col0, #T_9b4b0_row3_col1, #T_9b4b0_row3_col2, #T_9b4b0_row3_col3, #T_9b4b0_row3_col4, #T_9b4b0_row3_col5, #T_9b4b0_row3_col6, #T_9b4b0_row3_col7, #T_9b4b0_row3_col8, #T_9b4b0_row3_col9, #T_9b4b0_row3_col10, #T_9b4b0_row3_col11, #T_9b4b0_row3_col12, #T_9b4b0_row3_col13, #T_9b4b0_row3_col14, #T_9b4b0_row3_col15, #T_9b4b0_row3_col16, #T_9b4b0_row3_col17, #T_9b4b0_row3_col18, #T_9b4b0_row3_col19, #T_9b4b0_row3_col20, #T_9b4b0_row3_col21, #T_9b4b0_row3_col22, #T_9b4b0_row3_col23, #T_9b4b0_row3_col24, #T_9b4b0_row3_col25, #T_9b4b0_row3_col26, #T_9b4b0_row3_col27, #T_9b4b0_row4_col0, #T_9b4b0_row4_col1, #T_9b4b0_row4_col2, #T_9b4b0_row4_col3, #T_9b4b0_row4_col4, #T_9b4b0_row4_col5, #T_9b4b0_row4_col6, #T_9b4b0_row4_col7, #T_9b4b0_row4_col8, #T_9b4b0_row4_col9, #T_9b4b0_row4_col10, #T_9b4b0_row4_col11, #T_9b4b0_row4_col12, #T_9b4b0_row4_col13, #T_9b4b0_row4_col14, #T_9b4b0_row4_col15, #T_9b4b0_row4_col16, #T_9b4b0_row4_col17, #T_9b4b0_row4_col18, #T_9b4b0_row4_col19, #T_9b4b0_row4_col20, #T_9b4b0_row4_col21, #T_9b4b0_row4_col22, #T_9b4b0_row4_col23, #T_9b4b0_row4_col24, #T_9b4b0_row4_col25, #T_9b4b0_row4_col26, #T_9b4b0_row4_col27, #T_9b4b0_row5_col0, #T_9b4b0_row5_col1, #T_9b4b0_row5_col2, #T_9b4b0_row5_col3, #T_9b4b0_row5_col4, #T_9b4b0_row5_col5, #T_9b4b0_row5_col6, #T_9b4b0_row5_col7, #T_9b4b0_row5_col8, #T_9b4b0_row5_col17, #T_9b4b0_row5_col18, #T_9b4b0_row5_col19, #T_9b4b0_row5_col20, #T_9b4b0_row5_col21, #T_9b4b0_row5_col22, #T_9b4b0_row5_col23, #T_9b4b0_row5_col24, #T_9b4b0_row5_col25, #T_9b4b0_row5_col26, #T_9b4b0_row5_col27, #T_9b4b0_row6_col0, #T_9b4b0_row6_col1, #T_9b4b0_row6_col18, #T_9b4b0_row6_col26, #T_9b4b0_row6_col27, #T_9b4b0_row7_col26, #T_9b4b0_row7_col27, #T_9b4b0_row8_col26, #T_9b4b0_row8_col27, #T_9b4b0_row13_col0, #T_9b4b0_row13_col27, #T_9b4b0_row14_col0, #T_9b4b0_row14_col26, #T_9b4b0_row14_col27, #T_9b4b0_row15_col1, #T_9b4b0_row15_col26, #T_9b4b0_row15_col27, #T_9b4b0_row16_col1, #T_9b4b0_row16_col2, #T_9b4b0_row16_col26, #T_9b4b0_row16_col27, #T_9b4b0_row17_col0, #T_9b4b0_row17_col2, #T_9b4b0_row17_col27, #T_9b4b0_row18_col1, #T_9b4b0_row18_col5, #T_9b4b0_row18_col27, #T_9b4b0_row19_col0, #T_9b4b0_row19_col3, #T_9b4b0_row19_col5, #T_9b4b0_row19_col6, #T_9b4b0_row19_col7, #T_9b4b0_row19_col26, #T_9b4b0_row19_col27, #T_9b4b0_row20_col0, #T_9b4b0_row20_col1, #T_9b4b0_row20_col2, #T_9b4b0_row20_col3, #T_9b4b0_row20_col4, #T_9b4b0_row20_col5, #T_9b4b0_row20_col6, #T_9b4b0_row20_col7, #T_9b4b0_row20_col26, #T_9b4b0_row20_col27, #T_9b4b0_row21_col0, #T_9b4b0_row21_col1, #T_9b4b0_row21_col2, #T_9b4b0_row21_col3, #T_9b4b0_row21_col4, #T_9b4b0_row21_col5, #T_9b4b0_row21_col6, #T_9b4b0_row21_col23, #T_9b4b0_row21_col26, #T_9b4b0_row21_col27, #T_9b4b0_row22_col0, #T_9b4b0_row22_col1, #T_9b4b0_row22_col2, #T_9b4b0_row22_col3, #T_9b4b0_row22_col23, #T_9b4b0_row22_col26, #T_9b4b0_row22_col27, #T_9b4b0_row23_col0, #T_9b4b0_row23_col1, #T_9b4b0_row23_col2, #T_9b4b0_row23_col3, #T_9b4b0_row23_col23, #T_9b4b0_row23_col26, #T_9b4b0_row23_col27, #T_9b4b0_row24_col0, #T_9b4b0_row24_col1, #T_9b4b0_row24_col2, #T_9b4b0_row24_col23, #T_9b4b0_row24_col26, #T_9b4b0_row24_col27, #T_9b4b0_row25_col0, #T_9b4b0_row25_col1, #T_9b4b0_row25_col2, #T_9b4b0_row25_col3, #T_9b4b0_row25_col23, #T_9b4b0_row25_col25, #T_9b4b0_row25_col26, #T_9b4b0_row25_col27, #T_9b4b0_row26_col0, #T_9b4b0_row26_col1, #T_9b4b0_row26_col2, #T_9b4b0_row26_col3, #T_9b4b0_row26_col4, #T_9b4b0_row26_col5, #T_9b4b0_row26_col23, #T_9b4b0_row26_col24, #T_9b4b0_row26_col26, #T_9b4b0_row26_col27, #T_9b4b0_row27_col0, #T_9b4b0_row27_col1, #T_9b4b0_row27_col2, #T_9b4b0_row27_col3, #T_9b4b0_row27_col4, #T_9b4b0_row27_col5, #T_9b4b0_row27_col6, #T_9b4b0_row27_col7, #T_9b4b0_row27_col8, #T_9b4b0_row27_col19, #T_9b4b0_row27_col20, #T_9b4b0_row27_col21, #T_9b4b0_row27_col22, #T_9b4b0_row27_col23, #T_9b4b0_row27_col24, #T_9b4b0_row27_col25, #T_9b4b0_row27_col26, #T_9b4b0_row27_col27 {\n",
              "  font-size: 6pt;\n",
              "  background-color: #ffffff;\n",
              "  color: #000000;\n",
              "}\n",
              "#T_9b4b0_row5_col9, #T_9b4b0_row5_col14, #T_9b4b0_row5_col15, #T_9b4b0_row5_col16, #T_9b4b0_row6_col25, #T_9b4b0_row12_col13, #T_9b4b0_row17_col1, #T_9b4b0_row18_col2, #T_9b4b0_row18_col3, #T_9b4b0_row18_col6, #T_9b4b0_row18_col7, #T_9b4b0_row19_col2, #T_9b4b0_row19_col4, #T_9b4b0_row19_col8, #T_9b4b0_row20_col23, #T_9b4b0_row21_col7, #T_9b4b0_row21_col22, #T_9b4b0_row22_col4, #T_9b4b0_row22_col5, #T_9b4b0_row22_col22, #T_9b4b0_row23_col21, #T_9b4b0_row23_col22, #T_9b4b0_row24_col3, #T_9b4b0_row24_col21, #T_9b4b0_row24_col22, #T_9b4b0_row25_col22, #T_9b4b0_row26_col21, #T_9b4b0_row26_col22, #T_9b4b0_row27_col9, #T_9b4b0_row27_col10, #T_9b4b0_row27_col18 {\n",
              "  font-size: 6pt;\n",
              "  background-color: #fefefe;\n",
              "  color: #000000;\n",
              "}\n",
              "#T_9b4b0_row5_col10, #T_9b4b0_row6_col24, #T_9b4b0_row15_col6, #T_9b4b0_row16_col7, #T_9b4b0_row18_col10, #T_9b4b0_row20_col20, #T_9b4b0_row23_col19, #T_9b4b0_row24_col19, #T_9b4b0_row26_col18 {\n",
              "  font-size: 6pt;\n",
              "  background-color: #f9f9f9;\n",
              "  color: #000000;\n",
              "}\n",
              "#T_9b4b0_row5_col11, #T_9b4b0_row24_col7 {\n",
              "  font-size: 6pt;\n",
              "  background-color: #979797;\n",
              "  color: #f1f1f1;\n",
              "}\n",
              "#T_9b4b0_row5_col12, #T_9b4b0_row8_col24, #T_9b4b0_row9_col3, #T_9b4b0_row9_col4, #T_9b4b0_row9_col21, #T_9b4b0_row9_col22, #T_9b4b0_row9_col23, #T_9b4b0_row9_col25, #T_9b4b0_row9_col27, #T_9b4b0_row10_col0, #T_9b4b0_row10_col1, #T_9b4b0_row10_col2, #T_9b4b0_row10_col3, #T_9b4b0_row10_col4, #T_9b4b0_row12_col15, #T_9b4b0_row12_col19, #T_9b4b0_row12_col20, #T_9b4b0_row12_col26, #T_9b4b0_row13_col14, #T_9b4b0_row14_col13, #T_9b4b0_row14_col17, #T_9b4b0_row14_col18, #T_9b4b0_row15_col10, #T_9b4b0_row15_col11, #T_9b4b0_row17_col26, #T_9b4b0_row20_col16, #T_9b4b0_row22_col9, #T_9b4b0_row23_col5, #T_9b4b0_row23_col6, #T_9b4b0_row23_col7, #T_9b4b0_row23_col8 {\n",
              "  font-size: 6pt;\n",
              "  background-color: #000000;\n",
              "  color: #f1f1f1;\n",
              "}\n",
              "#T_9b4b0_row5_col13, #T_9b4b0_row6_col22, #T_9b4b0_row7_col5, #T_9b4b0_row10_col20, #T_9b4b0_row12_col12, #T_9b4b0_row13_col5, #T_9b4b0_row18_col11 {\n",
              "  font-size: 6pt;\n",
              "  background-color: #f4f4f4;\n",
              "  color: #000000;\n",
              "}\n",
              "#T_9b4b0_row6_col2, #T_9b4b0_row6_col6, #T_9b4b0_row15_col2, #T_9b4b0_row16_col5, #T_9b4b0_row17_col7, #T_9b4b0_row18_col4, #T_9b4b0_row18_col8, #T_9b4b0_row19_col9, #T_9b4b0_row19_col22, #T_9b4b0_row19_col23, #T_9b4b0_row22_col24, #T_9b4b0_row23_col4, #T_9b4b0_row23_col24, #T_9b4b0_row25_col4, #T_9b4b0_row25_col20, #T_9b4b0_row26_col19, #T_9b4b0_row26_col25, #T_9b4b0_row27_col14, #T_9b4b0_row27_col15, #T_9b4b0_row27_col16 {\n",
              "  font-size: 6pt;\n",
              "  background-color: #fcfcfc;\n",
              "  color: #000000;\n",
              "}\n",
              "#T_9b4b0_row6_col3, #T_9b4b0_row6_col5, #T_9b4b0_row15_col0, #T_9b4b0_row17_col3, #T_9b4b0_row17_col5, #T_9b4b0_row17_col6, #T_9b4b0_row20_col8, #T_9b4b0_row20_col21, #T_9b4b0_row20_col22, #T_9b4b0_row21_col21, #T_9b4b0_row22_col21, #T_9b4b0_row24_col24, #T_9b4b0_row24_col25, #T_9b4b0_row25_col5, #T_9b4b0_row25_col21, #T_9b4b0_row25_col24, #T_9b4b0_row26_col6, #T_9b4b0_row26_col20, #T_9b4b0_row27_col11, #T_9b4b0_row27_col12, #T_9b4b0_row27_col13, #T_9b4b0_row27_col17 {\n",
              "  font-size: 6pt;\n",
              "  background-color: #fdfdfd;\n",
              "  color: #000000;\n",
              "}\n",
              "#T_9b4b0_row6_col4, #T_9b4b0_row6_col7, #T_9b4b0_row15_col5, #T_9b4b0_row16_col3, #T_9b4b0_row17_col4, #T_9b4b0_row17_col8, #T_9b4b0_row20_col9, #T_9b4b0_row21_col9, #T_9b4b0_row21_col11, #T_9b4b0_row21_col20, #T_9b4b0_row25_col19, #T_9b4b0_row26_col7 {\n",
              "  font-size: 6pt;\n",
              "  background-color: #fafafa;\n",
              "  color: #000000;\n",
              "}\n",
              "#T_9b4b0_row6_col8, #T_9b4b0_row6_col16, #T_9b4b0_row14_col5, #T_9b4b0_row14_col6, #T_9b4b0_row15_col3, #T_9b4b0_row18_col21, #T_9b4b0_row18_col22, #T_9b4b0_row23_col25 {\n",
              "  font-size: 6pt;\n",
              "  background-color: #f7f7f7;\n",
              "  color: #000000;\n",
              "}\n",
              "#T_9b4b0_row6_col9, #T_9b4b0_row6_col21, #T_9b4b0_row11_col27, #T_9b4b0_row14_col2, #T_9b4b0_row15_col8, #T_9b4b0_row24_col18, #T_9b4b0_row26_col8 {\n",
              "  font-size: 6pt;\n",
              "  background-color: #f5f5f5;\n",
              "  color: #000000;\n",
              "}\n",
              "#T_9b4b0_row6_col10, #T_9b4b0_row8_col15, #T_9b4b0_row17_col11 {\n",
              "  font-size: 6pt;\n",
              "  background-color: #c3c3c3;\n",
              "  color: #000000;\n",
              "}\n",
              "#T_9b4b0_row6_col11, #T_9b4b0_row10_col21 {\n",
              "  font-size: 6pt;\n",
              "  background-color: #0e0e0e;\n",
              "  color: #f1f1f1;\n",
              "}\n",
              "#T_9b4b0_row6_col12 {\n",
              "  font-size: 6pt;\n",
              "  background-color: #1e1e1e;\n",
              "  color: #f1f1f1;\n",
              "}\n",
              "#T_9b4b0_row6_col13, #T_9b4b0_row10_col23, #T_9b4b0_row10_col25, #T_9b4b0_row16_col9 {\n",
              "  font-size: 6pt;\n",
              "  background-color: #4e4e4e;\n",
              "  color: #f1f1f1;\n",
              "}\n",
              "#T_9b4b0_row6_col14 {\n",
              "  font-size: 6pt;\n",
              "  background-color: #cfcfcf;\n",
              "  color: #000000;\n",
              "}\n",
              "#T_9b4b0_row6_col15, #T_9b4b0_row12_col11, #T_9b4b0_row13_col7, #T_9b4b0_row17_col23, #T_9b4b0_row20_col18, #T_9b4b0_row22_col16, #T_9b4b0_row24_col11, #T_9b4b0_row26_col14 {\n",
              "  font-size: 6pt;\n",
              "  background-color: #e9e9e9;\n",
              "  color: #000000;\n",
              "}\n",
              "#T_9b4b0_row6_col17, #T_9b4b0_row6_col23, #T_9b4b0_row13_col12, #T_9b4b0_row15_col7, #T_9b4b0_row16_col4, #T_9b4b0_row17_col12, #T_9b4b0_row18_col23, #T_9b4b0_row19_col20, #T_9b4b0_row19_col24, #T_9b4b0_row20_col14, #T_9b4b0_row20_col19, #T_9b4b0_row25_col7, #T_9b4b0_row25_col18, #T_9b4b0_row26_col17 {\n",
              "  font-size: 6pt;\n",
              "  background-color: #f6f6f6;\n",
              "  color: #000000;\n",
              "}\n",
              "#T_9b4b0_row6_col19, #T_9b4b0_row6_col20, #T_9b4b0_row7_col0, #T_9b4b0_row7_col1, #T_9b4b0_row15_col4, #T_9b4b0_row22_col25 {\n",
              "  font-size: 6pt;\n",
              "  background-color: #f1f1f1;\n",
              "  color: #000000;\n",
              "}\n",
              "#T_9b4b0_row7_col2, #T_9b4b0_row11_col25, #T_9b4b0_row13_col17, #T_9b4b0_row26_col12, #T_9b4b0_row26_col13 {\n",
              "  font-size: 6pt;\n",
              "  background-color: #e7e7e7;\n",
              "  color: #000000;\n",
              "}\n",
              "#T_9b4b0_row7_col3, #T_9b4b0_row11_col6, #T_9b4b0_row13_col8, #T_9b4b0_row13_col9, #T_9b4b0_row16_col22 {\n",
              "  font-size: 6pt;\n",
              "  background-color: #e1e1e1;\n",
              "  color: #000000;\n",
              "}\n",
              "#T_9b4b0_row7_col4 {\n",
              "  font-size: 6pt;\n",
              "  background-color: #d3d3d3;\n",
              "  color: #000000;\n",
              "}\n",
              "#T_9b4b0_row7_col6, #T_9b4b0_row14_col7, #T_9b4b0_row19_col19, #T_9b4b0_row22_col18 {\n",
              "  font-size: 6pt;\n",
              "  background-color: #f2f2f2;\n",
              "  color: #000000;\n",
              "}\n",
              "#T_9b4b0_row7_col7, #T_9b4b0_row18_col19, #T_9b4b0_row21_col12, #T_9b4b0_row22_col7, #T_9b4b0_row23_col17 {\n",
              "  font-size: 6pt;\n",
              "  background-color: #e8e8e8;\n",
              "  color: #000000;\n",
              "}\n",
              "#T_9b4b0_row7_col8, #T_9b4b0_row12_col18, #T_9b4b0_row13_col3 {\n",
              "  font-size: 6pt;\n",
              "  background-color: #dadada;\n",
              "  color: #000000;\n",
              "}\n",
              "#T_9b4b0_row7_col9 {\n",
              "  font-size: 6pt;\n",
              "  background-color: #c8c8c8;\n",
              "  color: #000000;\n",
              "}\n",
              "#T_9b4b0_row7_col10 {\n",
              "  font-size: 6pt;\n",
              "  background-color: #cecece;\n",
              "  color: #000000;\n",
              "}\n",
              "#T_9b4b0_row7_col11, #T_9b4b0_row9_col13 {\n",
              "  font-size: 6pt;\n",
              "  background-color: #676767;\n",
              "  color: #f1f1f1;\n",
              "}\n",
              "#T_9b4b0_row7_col12, #T_9b4b0_row8_col2, #T_9b4b0_row8_col9, #T_9b4b0_row18_col17 {\n",
              "  font-size: 6pt;\n",
              "  background-color: #787878;\n",
              "  color: #f1f1f1;\n",
              "}\n",
              "#T_9b4b0_row7_col13, #T_9b4b0_row10_col15, #T_9b4b0_row13_col18 {\n",
              "  font-size: 6pt;\n",
              "  background-color: #767676;\n",
              "  color: #f1f1f1;\n",
              "}\n",
              "#T_9b4b0_row7_col14, #T_9b4b0_row15_col15 {\n",
              "  font-size: 6pt;\n",
              "  background-color: #737373;\n",
              "  color: #f1f1f1;\n",
              "}\n",
              "#T_9b4b0_row7_col15 {\n",
              "  font-size: 6pt;\n",
              "  background-color: #565656;\n",
              "  color: #f1f1f1;\n",
              "}\n",
              "#T_9b4b0_row7_col16, #T_9b4b0_row10_col26 {\n",
              "  font-size: 6pt;\n",
              "  background-color: #272727;\n",
              "  color: #f1f1f1;\n",
              "}\n",
              "#T_9b4b0_row7_col17 {\n",
              "  font-size: 6pt;\n",
              "  background-color: #3f3f3f;\n",
              "  color: #f1f1f1;\n",
              "}\n",
              "#T_9b4b0_row7_col18, #T_9b4b0_row8_col22 {\n",
              "  font-size: 6pt;\n",
              "  background-color: #292929;\n",
              "  color: #f1f1f1;\n",
              "}\n",
              "#T_9b4b0_row7_col19 {\n",
              "  font-size: 6pt;\n",
              "  background-color: #656565;\n",
              "  color: #f1f1f1;\n",
              "}\n",
              "#T_9b4b0_row7_col20, #T_9b4b0_row21_col16 {\n",
              "  font-size: 6pt;\n",
              "  background-color: #7d7d7d;\n",
              "  color: #f1f1f1;\n",
              "}\n",
              "#T_9b4b0_row7_col21, #T_9b4b0_row11_col9 {\n",
              "  font-size: 6pt;\n",
              "  background-color: #9f9f9f;\n",
              "  color: #f1f1f1;\n",
              "}\n",
              "#T_9b4b0_row7_col22, #T_9b4b0_row8_col8, #T_9b4b0_row17_col15 {\n",
              "  font-size: 6pt;\n",
              "  background-color: #9e9e9e;\n",
              "  color: #f1f1f1;\n",
              "}\n",
              "#T_9b4b0_row7_col23 {\n",
              "  font-size: 6pt;\n",
              "  background-color: #898989;\n",
              "  color: #f1f1f1;\n",
              "}\n",
              "#T_9b4b0_row7_col24, #T_9b4b0_row21_col14 {\n",
              "  font-size: 6pt;\n",
              "  background-color: #929292;\n",
              "  color: #f1f1f1;\n",
              "}\n",
              "#T_9b4b0_row7_col25 {\n",
              "  font-size: 6pt;\n",
              "  background-color: #828282;\n",
              "  color: #f1f1f1;\n",
              "}\n",
              "#T_9b4b0_row8_col0, #T_9b4b0_row9_col14, #T_9b4b0_row12_col4, #T_9b4b0_row13_col25 {\n",
              "  font-size: 6pt;\n",
              "  background-color: #9d9d9d;\n",
              "  color: #f1f1f1;\n",
              "}\n",
              "#T_9b4b0_row8_col1, #T_9b4b0_row12_col17, #T_9b4b0_row16_col14, #T_9b4b0_row21_col13 {\n",
              "  font-size: 6pt;\n",
              "  background-color: #999999;\n",
              "  color: #f1f1f1;\n",
              "}\n",
              "#T_9b4b0_row8_col3, #T_9b4b0_row16_col18 {\n",
              "  font-size: 6pt;\n",
              "  background-color: #686868;\n",
              "  color: #f1f1f1;\n",
              "}\n",
              "#T_9b4b0_row8_col4 {\n",
              "  font-size: 6pt;\n",
              "  background-color: #616161;\n",
              "  color: #f1f1f1;\n",
              "}\n",
              "#T_9b4b0_row8_col5, #T_9b4b0_row14_col4, #T_9b4b0_row17_col20 {\n",
              "  font-size: 6pt;\n",
              "  background-color: #e2e2e2;\n",
              "  color: #000000;\n",
              "}\n",
              "#T_9b4b0_row8_col6, #T_9b4b0_row11_col13, #T_9b4b0_row11_col14, #T_9b4b0_row13_col2, #T_9b4b0_row13_col23, #T_9b4b0_row14_col16, #T_9b4b0_row20_col11, #T_9b4b0_row22_col6, #T_9b4b0_row25_col16 {\n",
              "  font-size: 6pt;\n",
              "  background-color: #dfdfdf;\n",
              "  color: #000000;\n",
              "}\n",
              "#T_9b4b0_row8_col7, #T_9b4b0_row11_col11, #T_9b4b0_row24_col15 {\n",
              "  font-size: 6pt;\n",
              "  background-color: #c5c5c5;\n",
              "  color: #000000;\n",
              "}\n",
              "#T_9b4b0_row8_col10, #T_9b4b0_row9_col5, #T_9b4b0_row10_col6, #T_9b4b0_row10_col27, #T_9b4b0_row11_col24, #T_9b4b0_row12_col23, #T_9b4b0_row14_col21, #T_9b4b0_row16_col23, #T_9b4b0_row17_col19, #T_9b4b0_row24_col16 {\n",
              "  font-size: 6pt;\n",
              "  background-color: #d4d4d4;\n",
              "  color: #000000;\n",
              "}\n",
              "#T_9b4b0_row8_col11, #T_9b4b0_row22_col8, #T_9b4b0_row24_col14 {\n",
              "  font-size: 6pt;\n",
              "  background-color: #bfbfbf;\n",
              "  color: #000000;\n",
              "}\n",
              "#T_9b4b0_row8_col12, #T_9b4b0_row8_col13, #T_9b4b0_row9_col16, #T_9b4b0_row11_col7, #T_9b4b0_row13_col24, #T_9b4b0_row15_col23, #T_9b4b0_row16_col20, #T_9b4b0_row24_col13 {\n",
              "  font-size: 6pt;\n",
              "  background-color: #cccccc;\n",
              "  color: #000000;\n",
              "}\n",
              "#T_9b4b0_row8_col14, #T_9b4b0_row12_col8, #T_9b4b0_row17_col13 {\n",
              "  font-size: 6pt;\n",
              "  background-color: #cdcdcd;\n",
              "  color: #000000;\n",
              "}\n",
              "#T_9b4b0_row8_col16 {\n",
              "  font-size: 6pt;\n",
              "  background-color: #b3b3b3;\n",
              "  color: #000000;\n",
              "}\n",
              "#T_9b4b0_row8_col17 {\n",
              "  font-size: 6pt;\n",
              "  background-color: #b8b8b8;\n",
              "  color: #000000;\n",
              "}\n",
              "#T_9b4b0_row8_col18, #T_9b4b0_row12_col0 {\n",
              "  font-size: 6pt;\n",
              "  background-color: #838383;\n",
              "  color: #f1f1f1;\n",
              "}\n",
              "#T_9b4b0_row8_col19 {\n",
              "  font-size: 6pt;\n",
              "  background-color: #1b1b1b;\n",
              "  color: #f1f1f1;\n",
              "}\n",
              "#T_9b4b0_row8_col20, #T_9b4b0_row13_col13 {\n",
              "  font-size: 6pt;\n",
              "  background-color: #1d1d1d;\n",
              "  color: #f1f1f1;\n",
              "}\n",
              "#T_9b4b0_row8_col21, #T_9b4b0_row10_col16, #T_9b4b0_row19_col16 {\n",
              "  font-size: 6pt;\n",
              "  background-color: #2f2f2f;\n",
              "  color: #f1f1f1;\n",
              "}\n",
              "#T_9b4b0_row8_col23, #T_9b4b0_row15_col12, #T_9b4b0_row15_col13 {\n",
              "  font-size: 6pt;\n",
              "  background-color: #0f0f0f;\n",
              "  color: #f1f1f1;\n",
              "}\n",
              "#T_9b4b0_row8_col25, #T_9b4b0_row12_col16 {\n",
              "  font-size: 6pt;\n",
              "  background-color: #1f1f1f;\n",
              "  color: #f1f1f1;\n",
              "}\n",
              "#T_9b4b0_row9_col0, #T_9b4b0_row9_col9 {\n",
              "  font-size: 6pt;\n",
              "  background-color: #575757;\n",
              "  color: #f1f1f1;\n",
              "}\n",
              "#T_9b4b0_row9_col1 {\n",
              "  font-size: 6pt;\n",
              "  background-color: #444444;\n",
              "  color: #f1f1f1;\n",
              "}\n",
              "#T_9b4b0_row9_col2, #T_9b4b0_row23_col9 {\n",
              "  font-size: 6pt;\n",
              "  background-color: #090909;\n",
              "  color: #f1f1f1;\n",
              "}\n",
              "#T_9b4b0_row9_col6, #T_9b4b0_row12_col25, #T_9b4b0_row14_col23, #T_9b4b0_row16_col25, #T_9b4b0_row19_col12, #T_9b4b0_row24_col5, #T_9b4b0_row25_col10, #T_9b4b0_row25_col14 {\n",
              "  font-size: 6pt;\n",
              "  background-color: #d1d1d1;\n",
              "  color: #000000;\n",
              "}\n",
              "#T_9b4b0_row9_col7, #T_9b4b0_row15_col16, #T_9b4b0_row15_col20 {\n",
              "  font-size: 6pt;\n",
              "  background-color: #ababab;\n",
              "  color: #000000;\n",
              "}\n",
              "#T_9b4b0_row9_col8, #T_9b4b0_row22_col14, #T_9b4b0_row22_col15 {\n",
              "  font-size: 6pt;\n",
              "  background-color: #7c7c7c;\n",
              "  color: #f1f1f1;\n",
              "}\n",
              "#T_9b4b0_row9_col10 {\n",
              "  font-size: 6pt;\n",
              "  background-color: #7b7b7b;\n",
              "  color: #f1f1f1;\n",
              "}\n",
              "#T_9b4b0_row9_col11, #T_9b4b0_row24_col12 {\n",
              "  font-size: 6pt;\n",
              "  background-color: #ebebeb;\n",
              "  color: #000000;\n",
              "}\n",
              "#T_9b4b0_row9_col12 {\n",
              "  font-size: 6pt;\n",
              "  background-color: #d2d2d2;\n",
              "  color: #000000;\n",
              "}\n",
              "#T_9b4b0_row9_col15 {\n",
              "  font-size: 6pt;\n",
              "  background-color: #c2c2c2;\n",
              "  color: #000000;\n",
              "}\n",
              "#T_9b4b0_row9_col17, #T_9b4b0_row11_col5, #T_9b4b0_row18_col12 {\n",
              "  font-size: 6pt;\n",
              "  background-color: #e3e3e3;\n",
              "  color: #000000;\n",
              "}\n",
              "#T_9b4b0_row9_col18, #T_9b4b0_row11_col8, #T_9b4b0_row18_col13 {\n",
              "  font-size: 6pt;\n",
              "  background-color: #b0b0b0;\n",
              "  color: #000000;\n",
              "}\n",
              "#T_9b4b0_row9_col19, #T_9b4b0_row14_col19 {\n",
              "  font-size: 6pt;\n",
              "  background-color: #5a5a5a;\n",
              "  color: #f1f1f1;\n",
              "}\n",
              "#T_9b4b0_row9_col20, #T_9b4b0_row14_col25 {\n",
              "  font-size: 6pt;\n",
              "  background-color: #2e2e2e;\n",
              "  color: #f1f1f1;\n",
              "}\n",
              "#T_9b4b0_row9_col24 {\n",
              "  font-size: 6pt;\n",
              "  background-color: #161616;\n",
              "  color: #f1f1f1;\n",
              "}\n",
              "#T_9b4b0_row9_col26, #T_9b4b0_row13_col15 {\n",
              "  font-size: 6pt;\n",
              "  background-color: #050505;\n",
              "  color: #f1f1f1;\n",
              "}\n",
              "#T_9b4b0_row10_col5 {\n",
              "  font-size: 6pt;\n",
              "  background-color: #d6d6d6;\n",
              "  color: #000000;\n",
              "}\n",
              "#T_9b4b0_row10_col7 {\n",
              "  font-size: 6pt;\n",
              "  background-color: #b5b5b5;\n",
              "  color: #000000;\n",
              "}\n",
              "#T_9b4b0_row10_col8, #T_9b4b0_row12_col21, #T_9b4b0_row14_col10 {\n",
              "  font-size: 6pt;\n",
              "  background-color: #8c8c8c;\n",
              "  color: #f1f1f1;\n",
              "}\n",
              "#T_9b4b0_row10_col9 {\n",
              "  font-size: 6pt;\n",
              "  background-color: #6f6f6f;\n",
              "  color: #f1f1f1;\n",
              "}\n",
              "#T_9b4b0_row10_col10 {\n",
              "  font-size: 6pt;\n",
              "  background-color: #797979;\n",
              "  color: #f1f1f1;\n",
              "}\n",
              "#T_9b4b0_row10_col11 {\n",
              "  font-size: 6pt;\n",
              "  background-color: #7e7e7e;\n",
              "  color: #f1f1f1;\n",
              "}\n",
              "#T_9b4b0_row10_col12 {\n",
              "  font-size: 6pt;\n",
              "  background-color: #939393;\n",
              "  color: #f1f1f1;\n",
              "}\n",
              "#T_9b4b0_row10_col13, #T_9b4b0_row11_col18 {\n",
              "  font-size: 6pt;\n",
              "  background-color: #9a9a9a;\n",
              "  color: #f1f1f1;\n",
              "}\n",
              "#T_9b4b0_row10_col14, #T_9b4b0_row17_col16 {\n",
              "  font-size: 6pt;\n",
              "  background-color: #9c9c9c;\n",
              "  color: #f1f1f1;\n",
              "}\n",
              "#T_9b4b0_row10_col17, #T_9b4b0_row12_col5, #T_9b4b0_row13_col1, #T_9b4b0_row13_col10, #T_9b4b0_row14_col3, #T_9b4b0_row14_col8, #T_9b4b0_row19_col11 {\n",
              "  font-size: 6pt;\n",
              "  background-color: #eeeeee;\n",
              "  color: #000000;\n",
              "}\n",
              "#T_9b4b0_row10_col18 {\n",
              "  font-size: 6pt;\n",
              "  background-color: #a7a7a7;\n",
              "  color: #f1f1f1;\n",
              "}\n",
              "#T_9b4b0_row10_col19 {\n",
              "  font-size: 6pt;\n",
              "  background-color: #5d5d5d;\n",
              "  color: #f1f1f1;\n",
              "}\n",
              "#T_9b4b0_row10_col22 {\n",
              "  font-size: 6pt;\n",
              "  background-color: #222222;\n",
              "  color: #f1f1f1;\n",
              "}\n",
              "#T_9b4b0_row10_col24 {\n",
              "  font-size: 6pt;\n",
              "  background-color: #777777;\n",
              "  color: #f1f1f1;\n",
              "}\n",
              "#T_9b4b0_row11_col0, #T_9b4b0_row13_col19 {\n",
              "  font-size: 6pt;\n",
              "  background-color: #212121;\n",
              "  color: #f1f1f1;\n",
              "}\n",
              "#T_9b4b0_row11_col1 {\n",
              "  font-size: 6pt;\n",
              "  background-color: #484848;\n",
              "  color: #f1f1f1;\n",
              "}\n",
              "#T_9b4b0_row11_col2, #T_9b4b0_row16_col12 {\n",
              "  font-size: 6pt;\n",
              "  background-color: #434343;\n",
              "  color: #f1f1f1;\n",
              "}\n",
              "#T_9b4b0_row11_col3 {\n",
              "  font-size: 6pt;\n",
              "  background-color: #555555;\n",
              "  color: #f1f1f1;\n",
              "}\n",
              "#T_9b4b0_row11_col4 {\n",
              "  font-size: 6pt;\n",
              "  background-color: #505050;\n",
              "  color: #f1f1f1;\n",
              "}\n",
              "#T_9b4b0_row11_col10 {\n",
              "  font-size: 6pt;\n",
              "  background-color: #b4b4b4;\n",
              "  color: #000000;\n",
              "}\n",
              "#T_9b4b0_row11_col12 {\n",
              "  font-size: 6pt;\n",
              "  background-color: #d8d8d8;\n",
              "  color: #000000;\n",
              "}\n",
              "#T_9b4b0_row11_col15 {\n",
              "  font-size: 6pt;\n",
              "  background-color: #cacaca;\n",
              "  color: #000000;\n",
              "}\n",
              "#T_9b4b0_row11_col16, #T_9b4b0_row11_col20, #T_9b4b0_row20_col12 {\n",
              "  font-size: 6pt;\n",
              "  background-color: #bdbdbd;\n",
              "  color: #000000;\n",
              "}\n",
              "#T_9b4b0_row11_col17, #T_9b4b0_row22_col13 {\n",
              "  font-size: 6pt;\n",
              "  background-color: #8e8e8e;\n",
              "  color: #f1f1f1;\n",
              "}\n",
              "#T_9b4b0_row11_col19, #T_9b4b0_row17_col10 {\n",
              "  font-size: 6pt;\n",
              "  background-color: #858585;\n",
              "  color: #f1f1f1;\n",
              "}\n",
              "#T_9b4b0_row11_col21 {\n",
              "  font-size: 6pt;\n",
              "  background-color: #4d4d4d;\n",
              "  color: #f1f1f1;\n",
              "}\n",
              "#T_9b4b0_row11_col22 {\n",
              "  font-size: 6pt;\n",
              "  background-color: #6d6d6d;\n",
              "  color: #f1f1f1;\n",
              "}\n",
              "#T_9b4b0_row11_col23 {\n",
              "  font-size: 6pt;\n",
              "  background-color: #a0a0a0;\n",
              "  color: #f1f1f1;\n",
              "}\n",
              "#T_9b4b0_row11_col26, #T_9b4b0_row13_col11, #T_9b4b0_row16_col8, #T_9b4b0_row19_col10, #T_9b4b0_row20_col24, #T_9b4b0_row21_col19, #T_9b4b0_row22_col19 {\n",
              "  font-size: 6pt;\n",
              "  background-color: #f8f8f8;\n",
              "  color: #000000;\n",
              "}\n",
              "#T_9b4b0_row12_col1, #T_9b4b0_row16_col17, #T_9b4b0_row17_col25 {\n",
              "  font-size: 6pt;\n",
              "  background-color: #aaaaaa;\n",
              "  color: #f1f1f1;\n",
              "}\n",
              "#T_9b4b0_row12_col2, #T_9b4b0_row14_col24 {\n",
              "  font-size: 6pt;\n",
              "  background-color: #a8a8a8;\n",
              "  color: #f1f1f1;\n",
              "}\n",
              "#T_9b4b0_row12_col3, #T_9b4b0_row17_col9 {\n",
              "  font-size: 6pt;\n",
              "  background-color: #a9a9a9;\n",
              "  color: #f1f1f1;\n",
              "}\n",
              "#T_9b4b0_row12_col6, #T_9b4b0_row18_col0, #T_9b4b0_row24_col17, #T_9b4b0_row25_col8, #T_9b4b0_row26_col10, #T_9b4b0_row26_col15 {\n",
              "  font-size: 6pt;\n",
              "  background-color: #ececec;\n",
              "  color: #000000;\n",
              "}\n",
              "#T_9b4b0_row12_col7 {\n",
              "  font-size: 6pt;\n",
              "  background-color: #dddddd;\n",
              "  color: #000000;\n",
              "}\n",
              "#T_9b4b0_row12_col9, #T_9b4b0_row25_col13 {\n",
              "  font-size: 6pt;\n",
              "  background-color: #c9c9c9;\n",
              "  color: #000000;\n",
              "}\n",
              "#T_9b4b0_row12_col10, #T_9b4b0_row14_col22, #T_9b4b0_row15_col22 {\n",
              "  font-size: 6pt;\n",
              "  background-color: #dbdbdb;\n",
              "  color: #000000;\n",
              "}\n",
              "#T_9b4b0_row12_col14, #T_9b4b0_row15_col19 {\n",
              "  font-size: 6pt;\n",
              "  background-color: #848484;\n",
              "  color: #f1f1f1;\n",
              "}\n",
              "#T_9b4b0_row12_col22, #T_9b4b0_row16_col16 {\n",
              "  font-size: 6pt;\n",
              "  background-color: #b6b6b6;\n",
              "  color: #000000;\n",
              "}\n",
              "#T_9b4b0_row12_col24, #T_9b4b0_row18_col24, #T_9b4b0_row18_col25 {\n",
              "  font-size: 6pt;\n",
              "  background-color: #eaeaea;\n",
              "  color: #000000;\n",
              "}\n",
              "#T_9b4b0_row12_col27, #T_9b4b0_row18_col18, #T_9b4b0_row25_col12 {\n",
              "  font-size: 6pt;\n",
              "  background-color: #c7c7c7;\n",
              "  color: #000000;\n",
              "}\n",
              "#T_9b4b0_row13_col4, #T_9b4b0_row23_col16 {\n",
              "  font-size: 6pt;\n",
              "  background-color: #cbcbcb;\n",
              "  color: #000000;\n",
              "}\n",
              "#T_9b4b0_row13_col6, #T_9b4b0_row16_col0, #T_9b4b0_row20_col10, #T_9b4b0_row23_col18 {\n",
              "  font-size: 6pt;\n",
              "  background-color: #f3f3f3;\n",
              "  color: #000000;\n",
              "}\n",
              "#T_9b4b0_row13_col16, #T_9b4b0_row13_col20 {\n",
              "  font-size: 6pt;\n",
              "  background-color: #525252;\n",
              "  color: #f1f1f1;\n",
              "}\n",
              "#T_9b4b0_row13_col21 {\n",
              "  font-size: 6pt;\n",
              "  background-color: #c1c1c1;\n",
              "  color: #000000;\n",
              "}\n",
              "#T_9b4b0_row13_col22 {\n",
              "  font-size: 6pt;\n",
              "  background-color: #d9d9d9;\n",
              "  color: #000000;\n",
              "}\n",
              "#T_9b4b0_row13_col26 {\n",
              "  font-size: 6pt;\n",
              "  background-color: #7f7f7f;\n",
              "  color: #f1f1f1;\n",
              "}\n",
              "#T_9b4b0_row14_col1, #T_9b4b0_row16_col6, #T_9b4b0_row18_col9, #T_9b4b0_row19_col1, #T_9b4b0_row19_col21, #T_9b4b0_row21_col8, #T_9b4b0_row21_col24, #T_9b4b0_row22_col20, #T_9b4b0_row23_col14, #T_9b4b0_row23_col20, #T_9b4b0_row24_col4, #T_9b4b0_row24_col20, #T_9b4b0_row25_col6 {\n",
              "  font-size: 6pt;\n",
              "  background-color: #fbfbfb;\n",
              "  color: #000000;\n",
              "}\n",
              "#T_9b4b0_row14_col9, #T_9b4b0_row17_col21, #T_9b4b0_row18_col20, #T_9b4b0_row21_col18, #T_9b4b0_row25_col17, #T_9b4b0_row26_col9, #T_9b4b0_row26_col16 {\n",
              "  font-size: 6pt;\n",
              "  background-color: #f0f0f0;\n",
              "  color: #000000;\n",
              "}\n",
              "#T_9b4b0_row14_col11 {\n",
              "  font-size: 6pt;\n",
              "  background-color: #4b4b4b;\n",
              "  color: #f1f1f1;\n",
              "}\n",
              "#T_9b4b0_row14_col12, #T_9b4b0_row16_col11 {\n",
              "  font-size: 6pt;\n",
              "  background-color: #070707;\n",
              "  color: #f1f1f1;\n",
              "}\n",
              "#T_9b4b0_row14_col14 {\n",
              "  font-size: 6pt;\n",
              "  background-color: #111111;\n",
              "  color: #f1f1f1;\n",
              "}\n",
              "#T_9b4b0_row14_col15 {\n",
              "  font-size: 6pt;\n",
              "  background-color: #383838;\n",
              "  color: #f1f1f1;\n",
              "}\n",
              "#T_9b4b0_row14_col20, #T_9b4b0_row23_col12 {\n",
              "  font-size: 6pt;\n",
              "  background-color: #878787;\n",
              "  color: #f1f1f1;\n",
              "}\n",
              "#T_9b4b0_row15_col9 {\n",
              "  font-size: 6pt;\n",
              "  background-color: #adadad;\n",
              "  color: #000000;\n",
              "}\n",
              "#T_9b4b0_row15_col14 {\n",
              "  font-size: 6pt;\n",
              "  background-color: #393939;\n",
              "  color: #f1f1f1;\n",
              "}\n",
              "#T_9b4b0_row15_col17 {\n",
              "  font-size: 6pt;\n",
              "  background-color: #1c1c1c;\n",
              "  color: #f1f1f1;\n",
              "}\n",
              "#T_9b4b0_row15_col18 {\n",
              "  font-size: 6pt;\n",
              "  background-color: #2b2b2b;\n",
              "  color: #f1f1f1;\n",
              "}\n",
              "#T_9b4b0_row15_col21, #T_9b4b0_row19_col15, #T_9b4b0_row20_col13, #T_9b4b0_row24_col6, #T_9b4b0_row25_col9 {\n",
              "  font-size: 6pt;\n",
              "  background-color: #dcdcdc;\n",
              "  color: #000000;\n",
              "}\n",
              "#T_9b4b0_row15_col24, #T_9b4b0_row17_col17 {\n",
              "  font-size: 6pt;\n",
              "  background-color: #8f8f8f;\n",
              "  color: #f1f1f1;\n",
              "}\n",
              "#T_9b4b0_row15_col25, #T_9b4b0_row21_col15 {\n",
              "  font-size: 6pt;\n",
              "  background-color: #515151;\n",
              "  color: #f1f1f1;\n",
              "}\n",
              "#T_9b4b0_row16_col10 {\n",
              "  font-size: 6pt;\n",
              "  background-color: #020202;\n",
              "  color: #f1f1f1;\n",
              "}\n",
              "#T_9b4b0_row16_col13 {\n",
              "  font-size: 6pt;\n",
              "  background-color: #606060;\n",
              "  color: #f1f1f1;\n",
              "}\n",
              "#T_9b4b0_row16_col15, #T_9b4b0_row16_col19, #T_9b4b0_row16_col24 {\n",
              "  font-size: 6pt;\n",
              "  background-color: #b2b2b2;\n",
              "  color: #000000;\n",
              "}\n",
              "#T_9b4b0_row16_col21, #T_9b4b0_row21_col17, #T_9b4b0_row22_col17 {\n",
              "  font-size: 6pt;\n",
              "  background-color: #e4e4e4;\n",
              "  color: #000000;\n",
              "}\n",
              "#T_9b4b0_row17_col14 {\n",
              "  font-size: 6pt;\n",
              "  background-color: #818181;\n",
              "  color: #f1f1f1;\n",
              "}\n",
              "#T_9b4b0_row17_col18 {\n",
              "  font-size: 6pt;\n",
              "  background-color: #c0c0c0;\n",
              "  color: #000000;\n",
              "}\n",
              "#T_9b4b0_row17_col22, #T_9b4b0_row19_col25 {\n",
              "  font-size: 6pt;\n",
              "  background-color: #efefef;\n",
              "  color: #000000;\n",
              "}\n",
              "#T_9b4b0_row17_col24, #T_9b4b0_row25_col11 {\n",
              "  font-size: 6pt;\n",
              "  background-color: #c6c6c6;\n",
              "  color: #000000;\n",
              "}\n",
              "#T_9b4b0_row18_col14 {\n",
              "  font-size: 6pt;\n",
              "  background-color: #6a6a6a;\n",
              "  color: #f1f1f1;\n",
              "}\n",
              "#T_9b4b0_row18_col15 {\n",
              "  font-size: 6pt;\n",
              "  background-color: #909090;\n",
              "  color: #f1f1f1;\n",
              "}\n",
              "#T_9b4b0_row18_col16, #T_9b4b0_row19_col14 {\n",
              "  font-size: 6pt;\n",
              "  background-color: #6b6b6b;\n",
              "  color: #f1f1f1;\n",
              "}\n",
              "#T_9b4b0_row18_col26 {\n",
              "  font-size: 6pt;\n",
              "  background-color: #404040;\n",
              "  color: #f1f1f1;\n",
              "}\n",
              "#T_9b4b0_row19_col13, #T_9b4b0_row23_col13 {\n",
              "  font-size: 6pt;\n",
              "  background-color: #949494;\n",
              "  color: #f1f1f1;\n",
              "}\n",
              "#T_9b4b0_row19_col17 {\n",
              "  font-size: 6pt;\n",
              "  background-color: #a2a2a2;\n",
              "  color: #f1f1f1;\n",
              "}\n",
              "#T_9b4b0_row19_col18 {\n",
              "  font-size: 6pt;\n",
              "  background-color: #dedede;\n",
              "  color: #000000;\n",
              "}\n",
              "#T_9b4b0_row20_col15 {\n",
              "  font-size: 6pt;\n",
              "  background-color: #717171;\n",
              "  color: #f1f1f1;\n",
              "}\n",
              "#T_9b4b0_row20_col17 {\n",
              "  font-size: 6pt;\n",
              "  background-color: #d0d0d0;\n",
              "  color: #000000;\n",
              "}\n",
              "#T_9b4b0_row20_col25, #T_9b4b0_row21_col10, #T_9b4b0_row21_col25 {\n",
              "  font-size: 6pt;\n",
              "  background-color: #e5e5e5;\n",
              "  color: #000000;\n",
              "}\n",
              "#T_9b4b0_row22_col10 {\n",
              "  font-size: 6pt;\n",
              "  background-color: #3c3c3c;\n",
              "  color: #f1f1f1;\n",
              "}\n",
              "#T_9b4b0_row22_col11 {\n",
              "  font-size: 6pt;\n",
              "  background-color: #666666;\n",
              "  color: #f1f1f1;\n",
              "}\n",
              "#T_9b4b0_row22_col12 {\n",
              "  font-size: 6pt;\n",
              "  background-color: #8a8a8a;\n",
              "  color: #f1f1f1;\n",
              "}\n",
              "#T_9b4b0_row23_col10 {\n",
              "  font-size: 6pt;\n",
              "  background-color: #585858;\n",
              "  color: #f1f1f1;\n",
              "}\n",
              "#T_9b4b0_row23_col11 {\n",
              "  font-size: 6pt;\n",
              "  background-color: #727272;\n",
              "  color: #f1f1f1;\n",
              "}\n",
              "#T_9b4b0_row23_col15 {\n",
              "  font-size: 6pt;\n",
              "  background-color: #c4c4c4;\n",
              "  color: #000000;\n",
              "}\n",
              "#T_9b4b0_row24_col8 {\n",
              "  font-size: 6pt;\n",
              "  background-color: #010101;\n",
              "  color: #f1f1f1;\n",
              "}\n",
              "#T_9b4b0_row24_col9 {\n",
              "  font-size: 6pt;\n",
              "  background-color: #151515;\n",
              "  color: #f1f1f1;\n",
              "}\n",
              "#T_9b4b0_row24_col10 {\n",
              "  font-size: 6pt;\n",
              "  background-color: #989898;\n",
              "  color: #f1f1f1;\n",
              "}\n",
              "#T_9b4b0_row25_col15 {\n",
              "  font-size: 6pt;\n",
              "  background-color: #d5d5d5;\n",
              "  color: #000000;\n",
              "}\n",
              "#T_9b4b0_row26_col11 {\n",
              "  font-size: 6pt;\n",
              "  background-color: #e6e6e6;\n",
              "  color: #000000;\n",
              "}\n",
              "</style>\n",
              "<table id=\"T_9b4b0_\" class=\"dataframe\">\n",
              "  <thead>\n",
              "    <tr>\n",
              "      <th class=\"blank level0\" >&nbsp;</th>\n",
              "      <th class=\"col_heading level0 col0\" >0</th>\n",
              "      <th class=\"col_heading level0 col1\" >1</th>\n",
              "      <th class=\"col_heading level0 col2\" >2</th>\n",
              "      <th class=\"col_heading level0 col3\" >3</th>\n",
              "      <th class=\"col_heading level0 col4\" >4</th>\n",
              "      <th class=\"col_heading level0 col5\" >5</th>\n",
              "      <th class=\"col_heading level0 col6\" >6</th>\n",
              "      <th class=\"col_heading level0 col7\" >7</th>\n",
              "      <th class=\"col_heading level0 col8\" >8</th>\n",
              "      <th class=\"col_heading level0 col9\" >9</th>\n",
              "      <th class=\"col_heading level0 col10\" >10</th>\n",
              "      <th class=\"col_heading level0 col11\" >11</th>\n",
              "      <th class=\"col_heading level0 col12\" >12</th>\n",
              "      <th class=\"col_heading level0 col13\" >13</th>\n",
              "      <th class=\"col_heading level0 col14\" >14</th>\n",
              "      <th class=\"col_heading level0 col15\" >15</th>\n",
              "      <th class=\"col_heading level0 col16\" >16</th>\n",
              "      <th class=\"col_heading level0 col17\" >17</th>\n",
              "      <th class=\"col_heading level0 col18\" >18</th>\n",
              "      <th class=\"col_heading level0 col19\" >19</th>\n",
              "      <th class=\"col_heading level0 col20\" >20</th>\n",
              "      <th class=\"col_heading level0 col21\" >21</th>\n",
              "      <th class=\"col_heading level0 col22\" >22</th>\n",
              "      <th class=\"col_heading level0 col23\" >23</th>\n",
              "      <th class=\"col_heading level0 col24\" >24</th>\n",
              "      <th class=\"col_heading level0 col25\" >25</th>\n",
              "      <th class=\"col_heading level0 col26\" >26</th>\n",
              "      <th class=\"col_heading level0 col27\" >27</th>\n",
              "    </tr>\n",
              "  </thead>\n",
              "  <tbody>\n",
              "    <tr>\n",
              "      <th id=\"T_9b4b0_level0_row0\" class=\"row_heading level0 row0\" >0</th>\n",
              "      <td id=\"T_9b4b0_row0_col0\" class=\"data row0 col0\" >0.000000</td>\n",
              "      <td id=\"T_9b4b0_row0_col1\" class=\"data row0 col1\" >0.000000</td>\n",
              "      <td id=\"T_9b4b0_row0_col2\" class=\"data row0 col2\" >0.000000</td>\n",
              "      <td id=\"T_9b4b0_row0_col3\" class=\"data row0 col3\" >0.000000</td>\n",
              "      <td id=\"T_9b4b0_row0_col4\" class=\"data row0 col4\" >0.000000</td>\n",
              "      <td id=\"T_9b4b0_row0_col5\" class=\"data row0 col5\" >0.000000</td>\n",
              "      <td id=\"T_9b4b0_row0_col6\" class=\"data row0 col6\" >0.000000</td>\n",
              "      <td id=\"T_9b4b0_row0_col7\" class=\"data row0 col7\" >0.000000</td>\n",
              "      <td id=\"T_9b4b0_row0_col8\" class=\"data row0 col8\" >0.000000</td>\n",
              "      <td id=\"T_9b4b0_row0_col9\" class=\"data row0 col9\" >0.000000</td>\n",
              "      <td id=\"T_9b4b0_row0_col10\" class=\"data row0 col10\" >0.000000</td>\n",
              "      <td id=\"T_9b4b0_row0_col11\" class=\"data row0 col11\" >0.000000</td>\n",
              "      <td id=\"T_9b4b0_row0_col12\" class=\"data row0 col12\" >0.000000</td>\n",
              "      <td id=\"T_9b4b0_row0_col13\" class=\"data row0 col13\" >0.000000</td>\n",
              "      <td id=\"T_9b4b0_row0_col14\" class=\"data row0 col14\" >0.000000</td>\n",
              "      <td id=\"T_9b4b0_row0_col15\" class=\"data row0 col15\" >0.000000</td>\n",
              "      <td id=\"T_9b4b0_row0_col16\" class=\"data row0 col16\" >0.000000</td>\n",
              "      <td id=\"T_9b4b0_row0_col17\" class=\"data row0 col17\" >0.000000</td>\n",
              "      <td id=\"T_9b4b0_row0_col18\" class=\"data row0 col18\" >0.000000</td>\n",
              "      <td id=\"T_9b4b0_row0_col19\" class=\"data row0 col19\" >0.000000</td>\n",
              "      <td id=\"T_9b4b0_row0_col20\" class=\"data row0 col20\" >0.000000</td>\n",
              "      <td id=\"T_9b4b0_row0_col21\" class=\"data row0 col21\" >0.000000</td>\n",
              "      <td id=\"T_9b4b0_row0_col22\" class=\"data row0 col22\" >0.000000</td>\n",
              "      <td id=\"T_9b4b0_row0_col23\" class=\"data row0 col23\" >0.000000</td>\n",
              "      <td id=\"T_9b4b0_row0_col24\" class=\"data row0 col24\" >0.000000</td>\n",
              "      <td id=\"T_9b4b0_row0_col25\" class=\"data row0 col25\" >0.000000</td>\n",
              "      <td id=\"T_9b4b0_row0_col26\" class=\"data row0 col26\" >0.000000</td>\n",
              "      <td id=\"T_9b4b0_row0_col27\" class=\"data row0 col27\" >0.000000</td>\n",
              "    </tr>\n",
              "    <tr>\n",
              "      <th id=\"T_9b4b0_level0_row1\" class=\"row_heading level0 row1\" >1</th>\n",
              "      <td id=\"T_9b4b0_row1_col0\" class=\"data row1 col0\" >0.000000</td>\n",
              "      <td id=\"T_9b4b0_row1_col1\" class=\"data row1 col1\" >0.000000</td>\n",
              "      <td id=\"T_9b4b0_row1_col2\" class=\"data row1 col2\" >0.000000</td>\n",
              "      <td id=\"T_9b4b0_row1_col3\" class=\"data row1 col3\" >0.000000</td>\n",
              "      <td id=\"T_9b4b0_row1_col4\" class=\"data row1 col4\" >0.000000</td>\n",
              "      <td id=\"T_9b4b0_row1_col5\" class=\"data row1 col5\" >0.000000</td>\n",
              "      <td id=\"T_9b4b0_row1_col6\" class=\"data row1 col6\" >0.000000</td>\n",
              "      <td id=\"T_9b4b0_row1_col7\" class=\"data row1 col7\" >0.000000</td>\n",
              "      <td id=\"T_9b4b0_row1_col8\" class=\"data row1 col8\" >0.000000</td>\n",
              "      <td id=\"T_9b4b0_row1_col9\" class=\"data row1 col9\" >0.000000</td>\n",
              "      <td id=\"T_9b4b0_row1_col10\" class=\"data row1 col10\" >0.000000</td>\n",
              "      <td id=\"T_9b4b0_row1_col11\" class=\"data row1 col11\" >0.000000</td>\n",
              "      <td id=\"T_9b4b0_row1_col12\" class=\"data row1 col12\" >0.000000</td>\n",
              "      <td id=\"T_9b4b0_row1_col13\" class=\"data row1 col13\" >0.000000</td>\n",
              "      <td id=\"T_9b4b0_row1_col14\" class=\"data row1 col14\" >0.000000</td>\n",
              "      <td id=\"T_9b4b0_row1_col15\" class=\"data row1 col15\" >0.000000</td>\n",
              "      <td id=\"T_9b4b0_row1_col16\" class=\"data row1 col16\" >0.000000</td>\n",
              "      <td id=\"T_9b4b0_row1_col17\" class=\"data row1 col17\" >0.000000</td>\n",
              "      <td id=\"T_9b4b0_row1_col18\" class=\"data row1 col18\" >0.000000</td>\n",
              "      <td id=\"T_9b4b0_row1_col19\" class=\"data row1 col19\" >0.000000</td>\n",
              "      <td id=\"T_9b4b0_row1_col20\" class=\"data row1 col20\" >0.000000</td>\n",
              "      <td id=\"T_9b4b0_row1_col21\" class=\"data row1 col21\" >0.000000</td>\n",
              "      <td id=\"T_9b4b0_row1_col22\" class=\"data row1 col22\" >0.000000</td>\n",
              "      <td id=\"T_9b4b0_row1_col23\" class=\"data row1 col23\" >0.000000</td>\n",
              "      <td id=\"T_9b4b0_row1_col24\" class=\"data row1 col24\" >0.000000</td>\n",
              "      <td id=\"T_9b4b0_row1_col25\" class=\"data row1 col25\" >0.000000</td>\n",
              "      <td id=\"T_9b4b0_row1_col26\" class=\"data row1 col26\" >0.000000</td>\n",
              "      <td id=\"T_9b4b0_row1_col27\" class=\"data row1 col27\" >0.000000</td>\n",
              "    </tr>\n",
              "    <tr>\n",
              "      <th id=\"T_9b4b0_level0_row2\" class=\"row_heading level0 row2\" >2</th>\n",
              "      <td id=\"T_9b4b0_row2_col0\" class=\"data row2 col0\" >0.000000</td>\n",
              "      <td id=\"T_9b4b0_row2_col1\" class=\"data row2 col1\" >0.000000</td>\n",
              "      <td id=\"T_9b4b0_row2_col2\" class=\"data row2 col2\" >0.000000</td>\n",
              "      <td id=\"T_9b4b0_row2_col3\" class=\"data row2 col3\" >0.000000</td>\n",
              "      <td id=\"T_9b4b0_row2_col4\" class=\"data row2 col4\" >0.000000</td>\n",
              "      <td id=\"T_9b4b0_row2_col5\" class=\"data row2 col5\" >0.000000</td>\n",
              "      <td id=\"T_9b4b0_row2_col6\" class=\"data row2 col6\" >0.000000</td>\n",
              "      <td id=\"T_9b4b0_row2_col7\" class=\"data row2 col7\" >0.000000</td>\n",
              "      <td id=\"T_9b4b0_row2_col8\" class=\"data row2 col8\" >0.000000</td>\n",
              "      <td id=\"T_9b4b0_row2_col9\" class=\"data row2 col9\" >0.000000</td>\n",
              "      <td id=\"T_9b4b0_row2_col10\" class=\"data row2 col10\" >0.000000</td>\n",
              "      <td id=\"T_9b4b0_row2_col11\" class=\"data row2 col11\" >0.000000</td>\n",
              "      <td id=\"T_9b4b0_row2_col12\" class=\"data row2 col12\" >0.000000</td>\n",
              "      <td id=\"T_9b4b0_row2_col13\" class=\"data row2 col13\" >0.000000</td>\n",
              "      <td id=\"T_9b4b0_row2_col14\" class=\"data row2 col14\" >0.000000</td>\n",
              "      <td id=\"T_9b4b0_row2_col15\" class=\"data row2 col15\" >0.000000</td>\n",
              "      <td id=\"T_9b4b0_row2_col16\" class=\"data row2 col16\" >0.000000</td>\n",
              "      <td id=\"T_9b4b0_row2_col17\" class=\"data row2 col17\" >0.000000</td>\n",
              "      <td id=\"T_9b4b0_row2_col18\" class=\"data row2 col18\" >0.000000</td>\n",
              "      <td id=\"T_9b4b0_row2_col19\" class=\"data row2 col19\" >0.000000</td>\n",
              "      <td id=\"T_9b4b0_row2_col20\" class=\"data row2 col20\" >0.000000</td>\n",
              "      <td id=\"T_9b4b0_row2_col21\" class=\"data row2 col21\" >0.000000</td>\n",
              "      <td id=\"T_9b4b0_row2_col22\" class=\"data row2 col22\" >0.000000</td>\n",
              "      <td id=\"T_9b4b0_row2_col23\" class=\"data row2 col23\" >0.000000</td>\n",
              "      <td id=\"T_9b4b0_row2_col24\" class=\"data row2 col24\" >0.000000</td>\n",
              "      <td id=\"T_9b4b0_row2_col25\" class=\"data row2 col25\" >0.000000</td>\n",
              "      <td id=\"T_9b4b0_row2_col26\" class=\"data row2 col26\" >0.000000</td>\n",
              "      <td id=\"T_9b4b0_row2_col27\" class=\"data row2 col27\" >0.000000</td>\n",
              "    </tr>\n",
              "    <tr>\n",
              "      <th id=\"T_9b4b0_level0_row3\" class=\"row_heading level0 row3\" >3</th>\n",
              "      <td id=\"T_9b4b0_row3_col0\" class=\"data row3 col0\" >0.000000</td>\n",
              "      <td id=\"T_9b4b0_row3_col1\" class=\"data row3 col1\" >0.000000</td>\n",
              "      <td id=\"T_9b4b0_row3_col2\" class=\"data row3 col2\" >0.000000</td>\n",
              "      <td id=\"T_9b4b0_row3_col3\" class=\"data row3 col3\" >0.000000</td>\n",
              "      <td id=\"T_9b4b0_row3_col4\" class=\"data row3 col4\" >0.000000</td>\n",
              "      <td id=\"T_9b4b0_row3_col5\" class=\"data row3 col5\" >0.000000</td>\n",
              "      <td id=\"T_9b4b0_row3_col6\" class=\"data row3 col6\" >0.000000</td>\n",
              "      <td id=\"T_9b4b0_row3_col7\" class=\"data row3 col7\" >0.000000</td>\n",
              "      <td id=\"T_9b4b0_row3_col8\" class=\"data row3 col8\" >0.000000</td>\n",
              "      <td id=\"T_9b4b0_row3_col9\" class=\"data row3 col9\" >0.000000</td>\n",
              "      <td id=\"T_9b4b0_row3_col10\" class=\"data row3 col10\" >0.000000</td>\n",
              "      <td id=\"T_9b4b0_row3_col11\" class=\"data row3 col11\" >0.000000</td>\n",
              "      <td id=\"T_9b4b0_row3_col12\" class=\"data row3 col12\" >0.000000</td>\n",
              "      <td id=\"T_9b4b0_row3_col13\" class=\"data row3 col13\" >0.000000</td>\n",
              "      <td id=\"T_9b4b0_row3_col14\" class=\"data row3 col14\" >0.000000</td>\n",
              "      <td id=\"T_9b4b0_row3_col15\" class=\"data row3 col15\" >0.000000</td>\n",
              "      <td id=\"T_9b4b0_row3_col16\" class=\"data row3 col16\" >0.000000</td>\n",
              "      <td id=\"T_9b4b0_row3_col17\" class=\"data row3 col17\" >0.000000</td>\n",
              "      <td id=\"T_9b4b0_row3_col18\" class=\"data row3 col18\" >0.000000</td>\n",
              "      <td id=\"T_9b4b0_row3_col19\" class=\"data row3 col19\" >0.000000</td>\n",
              "      <td id=\"T_9b4b0_row3_col20\" class=\"data row3 col20\" >0.000000</td>\n",
              "      <td id=\"T_9b4b0_row3_col21\" class=\"data row3 col21\" >0.000000</td>\n",
              "      <td id=\"T_9b4b0_row3_col22\" class=\"data row3 col22\" >0.000000</td>\n",
              "      <td id=\"T_9b4b0_row3_col23\" class=\"data row3 col23\" >0.000000</td>\n",
              "      <td id=\"T_9b4b0_row3_col24\" class=\"data row3 col24\" >0.000000</td>\n",
              "      <td id=\"T_9b4b0_row3_col25\" class=\"data row3 col25\" >0.000000</td>\n",
              "      <td id=\"T_9b4b0_row3_col26\" class=\"data row3 col26\" >0.000000</td>\n",
              "      <td id=\"T_9b4b0_row3_col27\" class=\"data row3 col27\" >0.000000</td>\n",
              "    </tr>\n",
              "    <tr>\n",
              "      <th id=\"T_9b4b0_level0_row4\" class=\"row_heading level0 row4\" >4</th>\n",
              "      <td id=\"T_9b4b0_row4_col0\" class=\"data row4 col0\" >0.000000</td>\n",
              "      <td id=\"T_9b4b0_row4_col1\" class=\"data row4 col1\" >0.000000</td>\n",
              "      <td id=\"T_9b4b0_row4_col2\" class=\"data row4 col2\" >0.000000</td>\n",
              "      <td id=\"T_9b4b0_row4_col3\" class=\"data row4 col3\" >0.000063</td>\n",
              "      <td id=\"T_9b4b0_row4_col4\" class=\"data row4 col4\" >0.000120</td>\n",
              "      <td id=\"T_9b4b0_row4_col5\" class=\"data row4 col5\" >0.000084</td>\n",
              "      <td id=\"T_9b4b0_row4_col6\" class=\"data row4 col6\" >0.000016</td>\n",
              "      <td id=\"T_9b4b0_row4_col7\" class=\"data row4 col7\" >0.000032</td>\n",
              "      <td id=\"T_9b4b0_row4_col8\" class=\"data row4 col8\" >0.000040</td>\n",
              "      <td id=\"T_9b4b0_row4_col9\" class=\"data row4 col9\" >0.000024</td>\n",
              "      <td id=\"T_9b4b0_row4_col10\" class=\"data row4 col10\" >0.000000</td>\n",
              "      <td id=\"T_9b4b0_row4_col11\" class=\"data row4 col11\" >0.000230</td>\n",
              "      <td id=\"T_9b4b0_row4_col12\" class=\"data row4 col12\" >0.000363</td>\n",
              "      <td id=\"T_9b4b0_row4_col13\" class=\"data row4 col13\" >0.000382</td>\n",
              "      <td id=\"T_9b4b0_row4_col14\" class=\"data row4 col14\" >0.000337</td>\n",
              "      <td id=\"T_9b4b0_row4_col15\" class=\"data row4 col15\" >0.000218</td>\n",
              "      <td id=\"T_9b4b0_row4_col16\" class=\"data row4 col16\" >0.000121</td>\n",
              "      <td id=\"T_9b4b0_row4_col17\" class=\"data row4 col17\" >0.000001</td>\n",
              "      <td id=\"T_9b4b0_row4_col18\" class=\"data row4 col18\" >0.000000</td>\n",
              "      <td id=\"T_9b4b0_row4_col19\" class=\"data row4 col19\" >0.000000</td>\n",
              "      <td id=\"T_9b4b0_row4_col20\" class=\"data row4 col20\" >0.000000</td>\n",
              "      <td id=\"T_9b4b0_row4_col21\" class=\"data row4 col21\" >0.000159</td>\n",
              "      <td id=\"T_9b4b0_row4_col22\" class=\"data row4 col22\" >0.000031</td>\n",
              "      <td id=\"T_9b4b0_row4_col23\" class=\"data row4 col23\" >0.000000</td>\n",
              "      <td id=\"T_9b4b0_row4_col24\" class=\"data row4 col24\" >0.000000</td>\n",
              "      <td id=\"T_9b4b0_row4_col25\" class=\"data row4 col25\" >0.000000</td>\n",
              "      <td id=\"T_9b4b0_row4_col26\" class=\"data row4 col26\" >0.000000</td>\n",
              "      <td id=\"T_9b4b0_row4_col27\" class=\"data row4 col27\" >0.000000</td>\n",
              "    </tr>\n",
              "    <tr>\n",
              "      <th id=\"T_9b4b0_level0_row5\" class=\"row_heading level0 row5\" >5</th>\n",
              "      <td id=\"T_9b4b0_row5_col0\" class=\"data row5 col0\" >0.000000</td>\n",
              "      <td id=\"T_9b4b0_row5_col1\" class=\"data row5 col1\" >0.000000</td>\n",
              "      <td id=\"T_9b4b0_row5_col2\" class=\"data row5 col2\" >0.000000</td>\n",
              "      <td id=\"T_9b4b0_row5_col3\" class=\"data row5 col3\" >0.000093</td>\n",
              "      <td id=\"T_9b4b0_row5_col4\" class=\"data row5 col4\" >0.000342</td>\n",
              "      <td id=\"T_9b4b0_row5_col5\" class=\"data row5 col5\" >0.001185</td>\n",
              "      <td id=\"T_9b4b0_row5_col6\" class=\"data row5 col6\" >0.002433</td>\n",
              "      <td id=\"T_9b4b0_row5_col7\" class=\"data row5 col7\" >0.004050</td>\n",
              "      <td id=\"T_9b4b0_row5_col8\" class=\"data row5 col8\" >0.006239</td>\n",
              "      <td id=\"T_9b4b0_row5_col9\" class=\"data row5 col9\" >0.008319</td>\n",
              "      <td id=\"T_9b4b0_row5_col10\" class=\"data row5 col10\" >0.049995</td>\n",
              "      <td id=\"T_9b4b0_row5_col11\" class=\"data row5 col11\" >0.468911</td>\n",
              "      <td id=\"T_9b4b0_row5_col12\" class=\"data row5 col12\" >0.985824</td>\n",
              "      <td id=\"T_9b4b0_row5_col13\" class=\"data row5 col13\" >0.088460</td>\n",
              "      <td id=\"T_9b4b0_row5_col14\" class=\"data row5 col14\" >0.008793</td>\n",
              "      <td id=\"T_9b4b0_row5_col15\" class=\"data row5 col15\" >0.008164</td>\n",
              "      <td id=\"T_9b4b0_row5_col16\" class=\"data row5 col16\" >0.006941</td>\n",
              "      <td id=\"T_9b4b0_row5_col17\" class=\"data row5 col17\" >0.004937</td>\n",
              "      <td id=\"T_9b4b0_row5_col18\" class=\"data row5 col18\" >0.003501</td>\n",
              "      <td id=\"T_9b4b0_row5_col19\" class=\"data row5 col19\" >0.001519</td>\n",
              "      <td id=\"T_9b4b0_row5_col20\" class=\"data row5 col20\" >0.000690</td>\n",
              "      <td id=\"T_9b4b0_row5_col21\" class=\"data row5 col21\" >0.000536</td>\n",
              "      <td id=\"T_9b4b0_row5_col22\" class=\"data row5 col22\" >0.000295</td>\n",
              "      <td id=\"T_9b4b0_row5_col23\" class=\"data row5 col23\" >0.000001</td>\n",
              "      <td id=\"T_9b4b0_row5_col24\" class=\"data row5 col24\" >0.000000</td>\n",
              "      <td id=\"T_9b4b0_row5_col25\" class=\"data row5 col25\" >0.000000</td>\n",
              "      <td id=\"T_9b4b0_row5_col26\" class=\"data row5 col26\" >0.000000</td>\n",
              "      <td id=\"T_9b4b0_row5_col27\" class=\"data row5 col27\" >0.000000</td>\n",
              "    </tr>\n",
              "    <tr>\n",
              "      <th id=\"T_9b4b0_level0_row6\" class=\"row_heading level0 row6\" >6</th>\n",
              "      <td id=\"T_9b4b0_row6_col0\" class=\"data row6 col0\" >0.000000</td>\n",
              "      <td id=\"T_9b4b0_row6_col1\" class=\"data row6 col1\" >0.000000</td>\n",
              "      <td id=\"T_9b4b0_row6_col2\" class=\"data row6 col2\" >0.000513</td>\n",
              "      <td id=\"T_9b4b0_row6_col3\" class=\"data row6 col3\" >0.001144</td>\n",
              "      <td id=\"T_9b4b0_row6_col4\" class=\"data row6 col4\" >0.004512</td>\n",
              "      <td id=\"T_9b4b0_row6_col5\" class=\"data row6 col5\" >0.012454</td>\n",
              "      <td id=\"T_9b4b0_row6_col6\" class=\"data row6 col6\" >0.023687</td>\n",
              "      <td id=\"T_9b4b0_row6_col7\" class=\"data row6 col7\" >0.037022</td>\n",
              "      <td id=\"T_9b4b0_row6_col8\" class=\"data row6 col8\" >0.054341</td>\n",
              "      <td id=\"T_9b4b0_row6_col9\" class=\"data row6 col9\" >0.071389</td>\n",
              "      <td id=\"T_9b4b0_row6_col10\" class=\"data row6 col10\" >0.326828</td>\n",
              "      <td id=\"T_9b4b0_row6_col11\" class=\"data row6 col11\" >0.892861</td>\n",
              "      <td id=\"T_9b4b0_row6_col12\" class=\"data row6 col12\" >0.884944</td>\n",
              "      <td id=\"T_9b4b0_row6_col13\" class=\"data row6 col13\" >0.721920</td>\n",
              "      <td id=\"T_9b4b0_row6_col14\" class=\"data row6 col14\" >0.270120</td>\n",
              "      <td id=\"T_9b4b0_row6_col15\" class=\"data row6 col15\" >0.122601</td>\n",
              "      <td id=\"T_9b4b0_row6_col16\" class=\"data row6 col16\" >0.043442</td>\n",
              "      <td id=\"T_9b4b0_row6_col17\" class=\"data row6 col17\" >0.052841</td>\n",
              "      <td id=\"T_9b4b0_row6_col18\" class=\"data row6 col18\" >0.003274</td>\n",
              "      <td id=\"T_9b4b0_row6_col19\" class=\"data row6 col19\" >0.058155</td>\n",
              "      <td id=\"T_9b4b0_row6_col20\" class=\"data row6 col20\" >0.037206</td>\n",
              "      <td id=\"T_9b4b0_row6_col21\" class=\"data row6 col21\" >0.022864</td>\n",
              "      <td id=\"T_9b4b0_row6_col22\" class=\"data row6 col22\" >0.011055</td>\n",
              "      <td id=\"T_9b4b0_row6_col23\" class=\"data row6 col23\" >0.003341</td>\n",
              "      <td id=\"T_9b4b0_row6_col24\" class=\"data row6 col24\" >0.000456</td>\n",
              "      <td id=\"T_9b4b0_row6_col25\" class=\"data row6 col25\" >0.000011</td>\n",
              "      <td id=\"T_9b4b0_row6_col26\" class=\"data row6 col26\" >0.000000</td>\n",
              "      <td id=\"T_9b4b0_row6_col27\" class=\"data row6 col27\" >0.000000</td>\n",
              "    </tr>\n",
              "    <tr>\n",
              "      <th id=\"T_9b4b0_level0_row7\" class=\"row_heading level0 row7\" >7</th>\n",
              "      <td id=\"T_9b4b0_row7_col0\" class=\"data row7 col0\" >0.000029</td>\n",
              "      <td id=\"T_9b4b0_row7_col1\" class=\"data row7 col1\" >0.000424</td>\n",
              "      <td id=\"T_9b4b0_row7_col2\" class=\"data row7 col2\" >0.003263</td>\n",
              "      <td id=\"T_9b4b0_row7_col3\" class=\"data row7 col3\" >0.010402</td>\n",
              "      <td id=\"T_9b4b0_row7_col4\" class=\"data row7 col4\" >0.028360</td>\n",
              "      <td id=\"T_9b4b0_row7_col5\" class=\"data row7 col5\" >0.059792</td>\n",
              "      <td id=\"T_9b4b0_row7_col6\" class=\"data row7 col6\" >0.104739</td>\n",
              "      <td id=\"T_9b4b0_row7_col7\" class=\"data row7 col7\" >0.157012</td>\n",
              "      <td id=\"T_9b4b0_row7_col8\" class=\"data row7 col8\" >0.214893</td>\n",
              "      <td id=\"T_9b4b0_row7_col9\" class=\"data row7 col9\" >0.272904</td>\n",
              "      <td id=\"T_9b4b0_row7_col10\" class=\"data row7 col10\" >0.279943</td>\n",
              "      <td id=\"T_9b4b0_row7_col11\" class=\"data row7 col11\" >0.628096</td>\n",
              "      <td id=\"T_9b4b0_row7_col12\" class=\"data row7 col12\" >0.599557</td>\n",
              "      <td id=\"T_9b4b0_row7_col13\" class=\"data row7 col13\" >0.582891</td>\n",
              "      <td id=\"T_9b4b0_row7_col14\" class=\"data row7 col14\" >0.567566</td>\n",
              "      <td id=\"T_9b4b0_row7_col15\" class=\"data row7 col15\" >0.558453</td>\n",
              "      <td id=\"T_9b4b0_row7_col16\" class=\"data row7 col16\" >0.554595</td>\n",
              "      <td id=\"T_9b4b0_row7_col17\" class=\"data row7 col17\" >0.569871</td>\n",
              "      <td id=\"T_9b4b0_row7_col18\" class=\"data row7 col18\" >0.519097</td>\n",
              "      <td id=\"T_9b4b0_row7_col19\" class=\"data row7 col19\" >0.347596</td>\n",
              "      <td id=\"T_9b4b0_row7_col20\" class=\"data row7 col20\" >0.182863</td>\n",
              "      <td id=\"T_9b4b0_row7_col21\" class=\"data row7 col21\" >0.121410</td>\n",
              "      <td id=\"T_9b4b0_row7_col22\" class=\"data row7 col22\" >0.058161</td>\n",
              "      <td id=\"T_9b4b0_row7_col23\" class=\"data row7 col23\" >0.023271</td>\n",
              "      <td id=\"T_9b4b0_row7_col24\" class=\"data row7 col24\" >0.004755</td>\n",
              "      <td id=\"T_9b4b0_row7_col25\" class=\"data row7 col25\" >0.000730</td>\n",
              "      <td id=\"T_9b4b0_row7_col26\" class=\"data row7 col26\" >0.000000</td>\n",
              "      <td id=\"T_9b4b0_row7_col27\" class=\"data row7 col27\" >0.000000</td>\n",
              "    </tr>\n",
              "    <tr>\n",
              "      <th id=\"T_9b4b0_level0_row8\" class=\"row_heading level0 row8\" >8</th>\n",
              "      <td id=\"T_9b4b0_row8_col0\" class=\"data row8 col0\" >0.000120</td>\n",
              "      <td id=\"T_9b4b0_row8_col1\" class=\"data row8 col1\" >0.001743</td>\n",
              "      <td id=\"T_9b4b0_row8_col2\" class=\"data row8 col2\" >0.011414</td>\n",
              "      <td id=\"T_9b4b0_row8_col3\" class=\"data row8 col3\" >0.033500</td>\n",
              "      <td id=\"T_9b4b0_row8_col4\" class=\"data row8 col4\" >0.070653</td>\n",
              "      <td id=\"T_9b4b0_row8_col5\" class=\"data row8 col5\" >0.132629</td>\n",
              "      <td id=\"T_9b4b0_row8_col6\" class=\"data row8 col6\" >0.211860</td>\n",
              "      <td id=\"T_9b4b0_row8_col7\" class=\"data row8 col7\" >0.311085</td>\n",
              "      <td id=\"T_9b4b0_row8_col8\" class=\"data row8 col8\" >0.411384</td>\n",
              "      <td id=\"T_9b4b0_row8_col9\" class=\"data row8 col9\" >0.508958</td>\n",
              "      <td id=\"T_9b4b0_row8_col10\" class=\"data row8 col10\" >0.256039</td>\n",
              "      <td id=\"T_9b4b0_row8_col11\" class=\"data row8 col11\" >0.342390</td>\n",
              "      <td id=\"T_9b4b0_row8_col12\" class=\"data row8 col12\" >0.305005</td>\n",
              "      <td id=\"T_9b4b0_row8_col13\" class=\"data row8 col13\" >0.291646</td>\n",
              "      <td id=\"T_9b4b0_row8_col14\" class=\"data row8 col14\" >0.275513</td>\n",
              "      <td id=\"T_9b4b0_row8_col15\" class=\"data row8 col15\" >0.266571</td>\n",
              "      <td id=\"T_9b4b0_row8_col16\" class=\"data row8 col16\" >0.261484</td>\n",
              "      <td id=\"T_9b4b0_row8_col17\" class=\"data row8 col17\" >0.277707</td>\n",
              "      <td id=\"T_9b4b0_row8_col18\" class=\"data row8 col18\" >0.342677</td>\n",
              "      <td id=\"T_9b4b0_row8_col19\" class=\"data row8 col19\" >0.464446</td>\n",
              "      <td id=\"T_9b4b0_row8_col20\" class=\"data row8 col20\" >0.280419</td>\n",
              "      <td id=\"T_9b4b0_row8_col21\" class=\"data row8 col21\" >0.217183</td>\n",
              "      <td id=\"T_9b4b0_row8_col22\" class=\"data row8 col22\" >0.105576</td>\n",
              "      <td id=\"T_9b4b0_row8_col23\" class=\"data row8 col23\" >0.040372</td>\n",
              "      <td id=\"T_9b4b0_row8_col24\" class=\"data row8 col24\" >0.009248</td>\n",
              "      <td id=\"T_9b4b0_row8_col25\" class=\"data row8 col25\" >0.001138</td>\n",
              "      <td id=\"T_9b4b0_row8_col26\" class=\"data row8 col26\" >0.000000</td>\n",
              "      <td id=\"T_9b4b0_row8_col27\" class=\"data row8 col27\" >0.000000</td>\n",
              "    </tr>\n",
              "    <tr>\n",
              "      <th id=\"T_9b4b0_level0_row9\" class=\"row_heading level0 row9\" >9</th>\n",
              "      <td id=\"T_9b4b0_row9_col0\" class=\"data row9 col0\" >0.000183</td>\n",
              "      <td id=\"T_9b4b0_row9_col1\" class=\"data row9 col1\" >0.002802</td>\n",
              "      <td id=\"T_9b4b0_row9_col2\" class=\"data row9 col2\" >0.018204</td>\n",
              "      <td id=\"T_9b4b0_row9_col3\" class=\"data row9 col3\" >0.050405</td>\n",
              "      <td id=\"T_9b4b0_row9_col4\" class=\"data row9 col4\" >0.101714</td>\n",
              "      <td id=\"T_9b4b0_row9_col5\" class=\"data row9 col5\" >0.179732</td>\n",
              "      <td id=\"T_9b4b0_row9_col6\" class=\"data row9 col6\" >0.278085</td>\n",
              "      <td id=\"T_9b4b0_row9_col7\" class=\"data row9 col7\" >0.395733</td>\n",
              "      <td id=\"T_9b4b0_row9_col8\" class=\"data row9 col8\" >0.510971</td>\n",
              "      <td id=\"T_9b4b0_row9_col9\" class=\"data row9 col9\" >0.612353</td>\n",
              "      <td id=\"T_9b4b0_row9_col10\" class=\"data row9 col10\" >0.556306</td>\n",
              "      <td id=\"T_9b4b0_row9_col11\" class=\"data row9 col11\" >0.145653</td>\n",
              "      <td id=\"T_9b4b0_row9_col12\" class=\"data row9 col12\" >0.281099</td>\n",
              "      <td id=\"T_9b4b0_row9_col13\" class=\"data row9 col13\" >0.634107</td>\n",
              "      <td id=\"T_9b4b0_row9_col14\" class=\"data row9 col14\" >0.434543</td>\n",
              "      <td id=\"T_9b4b0_row9_col15\" class=\"data row9 col15\" >0.268093</td>\n",
              "      <td id=\"T_9b4b0_row9_col16\" class=\"data row9 col16\" >0.194981</td>\n",
              "      <td id=\"T_9b4b0_row9_col17\" class=\"data row9 col17\" >0.141612</td>\n",
              "      <td id=\"T_9b4b0_row9_col18\" class=\"data row9 col18\" >0.251808</td>\n",
              "      <td id=\"T_9b4b0_row9_col19\" class=\"data row9 col19\" >0.368273</td>\n",
              "      <td id=\"T_9b4b0_row9_col20\" class=\"data row9 col20\" >0.265211</td>\n",
              "      <td id=\"T_9b4b0_row9_col21\" class=\"data row9 col21\" >0.257098</td>\n",
              "      <td id=\"T_9b4b0_row9_col22\" class=\"data row9 col22\" >0.122494</td>\n",
              "      <td id=\"T_9b4b0_row9_col23\" class=\"data row9 col23\" >0.042672</td>\n",
              "      <td id=\"T_9b4b0_row9_col24\" class=\"data row9 col24\" >0.008554</td>\n",
              "      <td id=\"T_9b4b0_row9_col25\" class=\"data row9 col25\" >0.001276</td>\n",
              "      <td id=\"T_9b4b0_row9_col26\" class=\"data row9 col26\" >0.000098</td>\n",
              "      <td id=\"T_9b4b0_row9_col27\" class=\"data row9 col27\" >0.000128</td>\n",
              "    </tr>\n",
              "    <tr>\n",
              "      <th id=\"T_9b4b0_level0_row10\" class=\"row_heading level0 row10\" >10</th>\n",
              "      <td id=\"T_9b4b0_row10_col0\" class=\"data row10 col0\" >0.000250</td>\n",
              "      <td id=\"T_9b4b0_row10_col1\" class=\"data row10 col1\" >0.003553</td>\n",
              "      <td id=\"T_9b4b0_row10_col2\" class=\"data row10 col2\" >0.018817</td>\n",
              "      <td id=\"T_9b4b0_row10_col3\" class=\"data row10 col3\" >0.050220</td>\n",
              "      <td id=\"T_9b4b0_row10_col4\" class=\"data row10 col4\" >0.101496</td>\n",
              "      <td id=\"T_9b4b0_row10_col5\" class=\"data row10 col5\" >0.172982</td>\n",
              "      <td id=\"T_9b4b0_row10_col6\" class=\"data row10 col6\" >0.264753</td>\n",
              "      <td id=\"T_9b4b0_row10_col7\" class=\"data row10 col7\" >0.367662</td>\n",
              "      <td id=\"T_9b4b0_row10_col8\" class=\"data row10 col8\" >0.464732</td>\n",
              "      <td id=\"T_9b4b0_row10_col9\" class=\"data row10 col9\" >0.535832</td>\n",
              "      <td id=\"T_9b4b0_row10_col10\" class=\"data row10 col10\" >0.566527</td>\n",
              "      <td id=\"T_9b4b0_row10_col11\" class=\"data row10 col11\" >0.548424</td>\n",
              "      <td id=\"T_9b4b0_row10_col12\" class=\"data row10 col12\" >0.501837</td>\n",
              "      <td id=\"T_9b4b0_row10_col13\" class=\"data row10 col13\" >0.460723</td>\n",
              "      <td id=\"T_9b4b0_row10_col14\" class=\"data row10 col14\" >0.439577</td>\n",
              "      <td id=\"T_9b4b0_row10_col15\" class=\"data row10 col15\" >0.468560</td>\n",
              "      <td id=\"T_9b4b0_row10_col16\" class=\"data row10 col16\" >0.538954</td>\n",
              "      <td id=\"T_9b4b0_row10_col17\" class=\"data row10 col17\" >0.094526</td>\n",
              "      <td id=\"T_9b4b0_row10_col18\" class=\"data row10 col18\" >0.270738</td>\n",
              "      <td id=\"T_9b4b0_row10_col19\" class=\"data row10 col19\" >0.363740</td>\n",
              "      <td id=\"T_9b4b0_row10_col20\" class=\"data row10 col20\" >0.029459</td>\n",
              "      <td id=\"T_9b4b0_row10_col21\" class=\"data row10 col21\" >0.244176</td>\n",
              "      <td id=\"T_9b4b0_row10_col22\" class=\"data row10 col22\" >0.108571</td>\n",
              "      <td id=\"T_9b4b0_row10_col23\" class=\"data row10 col23\" >0.032480</td>\n",
              "      <td id=\"T_9b4b0_row10_col24\" class=\"data row10 col24\" >0.005645</td>\n",
              "      <td id=\"T_9b4b0_row10_col25\" class=\"data row10 col25\" >0.000968</td>\n",
              "      <td id=\"T_9b4b0_row10_col26\" class=\"data row10 col26\" >0.000086</td>\n",
              "      <td id=\"T_9b4b0_row10_col27\" class=\"data row10 col27\" >0.000034</td>\n",
              "    </tr>\n",
              "    <tr>\n",
              "      <th id=\"T_9b4b0_level0_row11\" class=\"row_heading level0 row11\" >11</th>\n",
              "      <td id=\"T_9b4b0_row11_col0\" class=\"data row11 col0\" >0.000223</td>\n",
              "      <td id=\"T_9b4b0_row11_col1\" class=\"data row11 col1\" >0.002754</td>\n",
              "      <td id=\"T_9b4b0_row11_col2\" class=\"data row11 col2\" >0.014918</td>\n",
              "      <td id=\"T_9b4b0_row11_col3\" class=\"data row11 col3\" >0.037212</td>\n",
              "      <td id=\"T_9b4b0_row11_col4\" class=\"data row11 col4\" >0.076865</td>\n",
              "      <td id=\"T_9b4b0_row11_col5\" class=\"data row11 col5\" >0.129961</td>\n",
              "      <td id=\"T_9b4b0_row11_col6\" class=\"data row11 col6\" >0.202465</td>\n",
              "      <td id=\"T_9b4b0_row11_col7\" class=\"data row11 col7\" >0.283923</td>\n",
              "      <td id=\"T_9b4b0_row11_col8\" class=\"data row11 col8\" >0.358291</td>\n",
              "      <td id=\"T_9b4b0_row11_col9\" class=\"data row11 col9\" >0.396650</td>\n",
              "      <td id=\"T_9b4b0_row11_col10\" class=\"data row11 col10\" >0.379869</td>\n",
              "      <td id=\"T_9b4b0_row11_col11\" class=\"data row11 col11\" >0.319831</td>\n",
              "      <td id=\"T_9b4b0_row11_col12\" class=\"data row11 col12\" >0.251095</td>\n",
              "      <td id=\"T_9b4b0_row11_col13\" class=\"data row11 col13\" >0.208376</td>\n",
              "      <td id=\"T_9b4b0_row11_col14\" class=\"data row11 col14\" >0.200006</td>\n",
              "      <td id=\"T_9b4b0_row11_col15\" class=\"data row11 col15\" >0.243587</td>\n",
              "      <td id=\"T_9b4b0_row11_col16\" class=\"data row11 col16\" >0.241664</td>\n",
              "      <td id=\"T_9b4b0_row11_col17\" class=\"data row11 col17\" >0.376211</td>\n",
              "      <td id=\"T_9b4b0_row11_col18\" class=\"data row11 col18\" >0.292538</td>\n",
              "      <td id=\"T_9b4b0_row11_col19\" class=\"data row11 col19\" >0.286625</td>\n",
              "      <td id=\"T_9b4b0_row11_col20\" class=\"data row11 col20\" >0.117528</td>\n",
              "      <td id=\"T_9b4b0_row11_col21\" class=\"data row11 col21\" >0.196702</td>\n",
              "      <td id=\"T_9b4b0_row11_col22\" class=\"data row11 col22\" >0.078953</td>\n",
              "      <td id=\"T_9b4b0_row11_col23\" class=\"data row11 col23\" >0.019940</td>\n",
              "      <td id=\"T_9b4b0_row11_col24\" class=\"data row11 col24\" >0.002538</td>\n",
              "      <td id=\"T_9b4b0_row11_col25\" class=\"data row11 col25\" >0.000220</td>\n",
              "      <td id=\"T_9b4b0_row11_col26\" class=\"data row11 col26\" >0.000006</td>\n",
              "      <td id=\"T_9b4b0_row11_col27\" class=\"data row11 col27\" >0.000011</td>\n",
              "    </tr>\n",
              "    <tr>\n",
              "      <th id=\"T_9b4b0_level0_row12\" class=\"row_heading level0 row12\" >12</th>\n",
              "      <td id=\"T_9b4b0_row12_col0\" class=\"data row12 col0\" >0.000143</td>\n",
              "      <td id=\"T_9b4b0_row12_col1\" class=\"data row12 col1\" >0.001542</td>\n",
              "      <td id=\"T_9b4b0_row12_col2\" class=\"data row12 col2\" >0.008351</td>\n",
              "      <td id=\"T_9b4b0_row12_col3\" class=\"data row12 col3\" >0.022083</td>\n",
              "      <td id=\"T_9b4b0_row12_col4\" class=\"data row12 col4\" >0.048842</td>\n",
              "      <td id=\"T_9b4b0_row12_col5\" class=\"data row12 col5\" >0.088445</td>\n",
              "      <td id=\"T_9b4b0_row12_col6\" class=\"data row12 col6\" >0.140848</td>\n",
              "      <td id=\"T_9b4b0_row12_col7\" class=\"data row12 col7\" >0.208752</td>\n",
              "      <td id=\"T_9b4b0_row12_col8\" class=\"data row12 col8\" >0.262378</td>\n",
              "      <td id=\"T_9b4b0_row12_col9\" class=\"data row12 col9\" >0.269437</td>\n",
              "      <td id=\"T_9b4b0_row12_col10\" class=\"data row12 col10\" >0.225658</td>\n",
              "      <td id=\"T_9b4b0_row12_col11\" class=\"data row12 col11\" >0.155350</td>\n",
              "      <td id=\"T_9b4b0_row12_col12\" class=\"data row12 col12\" >0.095224</td>\n",
              "      <td id=\"T_9b4b0_row12_col13\" class=\"data row12 col13\" >0.012157</td>\n",
              "      <td id=\"T_9b4b0_row12_col14\" class=\"data row12 col14\" >0.513417</td>\n",
              "      <td id=\"T_9b4b0_row12_col15\" class=\"data row12 col15\" >0.761801</td>\n",
              "      <td id=\"T_9b4b0_row12_col16\" class=\"data row12 col16\" >0.570917</td>\n",
              "      <td id=\"T_9b4b0_row12_col17\" class=\"data row12 col17\" >0.349318</td>\n",
              "      <td id=\"T_9b4b0_row12_col18\" class=\"data row12 col18\" >0.149364</td>\n",
              "      <td id=\"T_9b4b0_row12_col19\" class=\"data row12 col19\" >0.511711</td>\n",
              "      <td id=\"T_9b4b0_row12_col20\" class=\"data row12 col20\" >0.311851</td>\n",
              "      <td id=\"T_9b4b0_row12_col21\" class=\"data row12 col21\" >0.137755</td>\n",
              "      <td id=\"T_9b4b0_row12_col22\" class=\"data row12 col22\" >0.048628</td>\n",
              "      <td id=\"T_9b4b0_row12_col23\" class=\"data row12 col23\" >0.011711</td>\n",
              "      <td id=\"T_9b4b0_row12_col24\" class=\"data row12 col24\" >0.001472</td>\n",
              "      <td id=\"T_9b4b0_row12_col25\" class=\"data row12 col25\" >0.000364</td>\n",
              "      <td id=\"T_9b4b0_row12_col26\" class=\"data row12 col26\" >0.000100</td>\n",
              "      <td id=\"T_9b4b0_row12_col27\" class=\"data row12 col27\" >0.000042</td>\n",
              "    </tr>\n",
              "    <tr>\n",
              "      <th id=\"T_9b4b0_level0_row13\" class=\"row_heading level0 row13\" >13</th>\n",
              "      <td id=\"T_9b4b0_row13_col0\" class=\"data row13 col0\" >0.000000</td>\n",
              "      <td id=\"T_9b4b0_row13_col1\" class=\"data row13 col1\" >0.000488</td>\n",
              "      <td id=\"T_9b4b0_row13_col2\" class=\"data row13 col2\" >0.004083</td>\n",
              "      <td id=\"T_9b4b0_row13_col3\" class=\"data row13 col3\" >0.012475</td>\n",
              "      <td id=\"T_9b4b0_row13_col4\" class=\"data row13 col4\" >0.031932</td>\n",
              "      <td id=\"T_9b4b0_row13_col5\" class=\"data row13 col5\" >0.060852</td>\n",
              "      <td id=\"T_9b4b0_row13_col6\" class=\"data row13 col6\" >0.100042</td>\n",
              "      <td id=\"T_9b4b0_row13_col7\" class=\"data row13 col7\" >0.148651</td>\n",
              "      <td id=\"T_9b4b0_row13_col8\" class=\"data row13 col8\" >0.181678</td>\n",
              "      <td id=\"T_9b4b0_row13_col9\" class=\"data row13 col9\" >0.172889</td>\n",
              "      <td id=\"T_9b4b0_row13_col10\" class=\"data row13 col10\" >0.126094</td>\n",
              "      <td id=\"T_9b4b0_row13_col11\" class=\"data row13 col11\" >0.052509</td>\n",
              "      <td id=\"T_9b4b0_row13_col12\" class=\"data row13 col12\" >0.077895</td>\n",
              "      <td id=\"T_9b4b0_row13_col13\" class=\"data row13 col13\" >0.853710</td>\n",
              "      <td id=\"T_9b4b0_row13_col14\" class=\"data row13 col14\" >0.911651</td>\n",
              "      <td id=\"T_9b4b0_row13_col15\" class=\"data row13 col15\" >0.748463</td>\n",
              "      <td id=\"T_9b4b0_row13_col16\" class=\"data row13 col16\" >0.478563</td>\n",
              "      <td id=\"T_9b4b0_row13_col17\" class=\"data row13 col17\" >0.122449</td>\n",
              "      <td id=\"T_9b4b0_row13_col18\" class=\"data row13 col18\" >0.369966</td>\n",
              "      <td id=\"T_9b4b0_row13_col19\" class=\"data row13 col19\" >0.455353</td>\n",
              "      <td id=\"T_9b4b0_row13_col20\" class=\"data row13 col20\" >0.233121</td>\n",
              "      <td id=\"T_9b4b0_row13_col21\" class=\"data row13 col21\" >0.092324</td>\n",
              "      <td id=\"T_9b4b0_row13_col22\" class=\"data row13 col22\" >0.030923</td>\n",
              "      <td id=\"T_9b4b0_row13_col23\" class=\"data row13 col23\" >0.009407</td>\n",
              "      <td id=\"T_9b4b0_row13_col24\" class=\"data row13 col24\" >0.002866</td>\n",
              "      <td id=\"T_9b4b0_row13_col25\" class=\"data row13 col25\" >0.000612</td>\n",
              "      <td id=\"T_9b4b0_row13_col26\" class=\"data row13 col26\" >0.000058</td>\n",
              "      <td id=\"T_9b4b0_row13_col27\" class=\"data row13 col27\" >0.000000</td>\n",
              "    </tr>\n",
              "    <tr>\n",
              "      <th id=\"T_9b4b0_level0_row14\" class=\"row_heading level0 row14\" >14</th>\n",
              "      <td id=\"T_9b4b0_row14_col0\" class=\"data row14 col0\" >0.000000</td>\n",
              "      <td id=\"T_9b4b0_row14_col1\" class=\"data row14 col1\" >0.000134</td>\n",
              "      <td id=\"T_9b4b0_row14_col2\" class=\"data row14 col2\" >0.001669</td>\n",
              "      <td id=\"T_9b4b0_row14_col3\" class=\"data row14 col3\" >0.006732</td>\n",
              "      <td id=\"T_9b4b0_row14_col4\" class=\"data row14 col4\" >0.020395</td>\n",
              "      <td id=\"T_9b4b0_row14_col5\" class=\"data row14 col5\" >0.042994</td>\n",
              "      <td id=\"T_9b4b0_row14_col6\" class=\"data row14 col6\" >0.071536</td>\n",
              "      <td id=\"T_9b4b0_row14_col7\" class=\"data row14 col7\" >0.103160</td>\n",
              "      <td id=\"T_9b4b0_row14_col8\" class=\"data row14 col8\" >0.119221</td>\n",
              "      <td id=\"T_9b4b0_row14_col9\" class=\"data row14 col9\" >0.103545</td>\n",
              "      <td id=\"T_9b4b0_row14_col10\" class=\"data row14 col10\" >0.501489</td>\n",
              "      <td id=\"T_9b4b0_row14_col11\" class=\"data row14 col11\" >0.721367</td>\n",
              "      <td id=\"T_9b4b0_row14_col12\" class=\"data row14 col12\" >0.959092</td>\n",
              "      <td id=\"T_9b4b0_row14_col13\" class=\"data row14 col13\" >0.948849</td>\n",
              "      <td id=\"T_9b4b0_row14_col14\" class=\"data row14 col14\" >0.857923</td>\n",
              "      <td id=\"T_9b4b0_row14_col15\" class=\"data row14 col15\" >0.625246</td>\n",
              "      <td id=\"T_9b4b0_row14_col16\" class=\"data row14 col16\" >0.138229</td>\n",
              "      <td id=\"T_9b4b0_row14_col17\" class=\"data row14 col17\" >0.710873</td>\n",
              "      <td id=\"T_9b4b0_row14_col18\" class=\"data row14 col18\" >0.603156</td>\n",
              "      <td id=\"T_9b4b0_row14_col19\" class=\"data row14 col19\" >0.369268</td>\n",
              "      <td id=\"T_9b4b0_row14_col20\" class=\"data row14 col20\" >0.172839</td>\n",
              "      <td id=\"T_9b4b0_row14_col21\" class=\"data row14 col21\" >0.070039</td>\n",
              "      <td id=\"T_9b4b0_row14_col22\" class=\"data row14 col22\" >0.029276</td>\n",
              "      <td id=\"T_9b4b0_row14_col23\" class=\"data row14 col23\" >0.012287</td>\n",
              "      <td id=\"T_9b4b0_row14_col24\" class=\"data row14 col24\" >0.004096</td>\n",
              "      <td id=\"T_9b4b0_row14_col25\" class=\"data row14 col25\" >0.001085</td>\n",
              "      <td id=\"T_9b4b0_row14_col26\" class=\"data row14 col26\" >0.000000</td>\n",
              "      <td id=\"T_9b4b0_row14_col27\" class=\"data row14 col27\" >0.000000</td>\n",
              "    </tr>\n",
              "    <tr>\n",
              "      <th id=\"T_9b4b0_level0_row15\" class=\"row_heading level0 row15\" >15</th>\n",
              "      <td id=\"T_9b4b0_row15_col0\" class=\"data row15 col0\" >0.000004</td>\n",
              "      <td id=\"T_9b4b0_row15_col1\" class=\"data row15 col1\" >0.000000</td>\n",
              "      <td id=\"T_9b4b0_row15_col2\" class=\"data row15 col2\" >0.000568</td>\n",
              "      <td id=\"T_9b4b0_row15_col3\" class=\"data row15 col3\" >0.003730</td>\n",
              "      <td id=\"T_9b4b0_row15_col4\" class=\"data row15 col4\" >0.012270</td>\n",
              "      <td id=\"T_9b4b0_row15_col5\" class=\"data row15 col5\" >0.029221</td>\n",
              "      <td id=\"T_9b4b0_row15_col6\" class=\"data row15 col6\" >0.051234</td>\n",
              "      <td id=\"T_9b4b0_row15_col7\" class=\"data row15 col7\" >0.069077</td>\n",
              "      <td id=\"T_9b4b0_row15_col8\" class=\"data row15 col8\" >0.075365</td>\n",
              "      <td id=\"T_9b4b0_row15_col9\" class=\"data row15 col9\" >0.360332</td>\n",
              "      <td id=\"T_9b4b0_row15_col10\" class=\"data row15 col10\" >0.935773</td>\n",
              "      <td id=\"T_9b4b0_row15_col11\" class=\"data row15 col11\" >0.940107</td>\n",
              "      <td id=\"T_9b4b0_row15_col12\" class=\"data row15 col12\" >0.934150</td>\n",
              "      <td id=\"T_9b4b0_row15_col13\" class=\"data row15 col13\" >0.898140</td>\n",
              "      <td id=\"T_9b4b0_row15_col14\" class=\"data row15 col14\" >0.746856</td>\n",
              "      <td id=\"T_9b4b0_row15_col15\" class=\"data row15 col15\" >0.476020</td>\n",
              "      <td id=\"T_9b4b0_row15_col16\" class=\"data row15 col16\" >0.276604</td>\n",
              "      <td id=\"T_9b4b0_row15_col17\" class=\"data row15 col17\" >0.642324</td>\n",
              "      <td id=\"T_9b4b0_row15_col18\" class=\"data row15 col18\" >0.515995</td>\n",
              "      <td id=\"T_9b4b0_row15_col19\" class=\"data row15 col19\" >0.288053</td>\n",
              "      <td id=\"T_9b4b0_row15_col20\" class=\"data row15 col20\" >0.134012</td>\n",
              "      <td id=\"T_9b4b0_row15_col21\" class=\"data row15 col21\" >0.061220</td>\n",
              "      <td id=\"T_9b4b0_row15_col22\" class=\"data row15 col22\" >0.029522</td>\n",
              "      <td id=\"T_9b4b0_row15_col23\" class=\"data row15 col23\" >0.013213</td>\n",
              "      <td id=\"T_9b4b0_row15_col24\" class=\"data row15 col24\" >0.004869</td>\n",
              "      <td id=\"T_9b4b0_row15_col25\" class=\"data row15 col25\" >0.000958</td>\n",
              "      <td id=\"T_9b4b0_row15_col26\" class=\"data row15 col26\" >0.000000</td>\n",
              "      <td id=\"T_9b4b0_row15_col27\" class=\"data row15 col27\" >0.000000</td>\n",
              "    </tr>\n",
              "    <tr>\n",
              "      <th id=\"T_9b4b0_level0_row16\" class=\"row_heading level0 row16\" >16</th>\n",
              "      <td id=\"T_9b4b0_row16_col0\" class=\"data row16 col0\" >0.000025</td>\n",
              "      <td id=\"T_9b4b0_row16_col1\" class=\"data row16 col1\" >0.000000</td>\n",
              "      <td id=\"T_9b4b0_row16_col2\" class=\"data row16 col2\" >0.000132</td>\n",
              "      <td id=\"T_9b4b0_row16_col3\" class=\"data row16 col3\" >0.002186</td>\n",
              "      <td id=\"T_9b4b0_row16_col4\" class=\"data row16 col4\" >0.007829</td>\n",
              "      <td id=\"T_9b4b0_row16_col5\" class=\"data row16 col5\" >0.018834</td>\n",
              "      <td id=\"T_9b4b0_row16_col6\" class=\"data row16 col6\" >0.033185</td>\n",
              "      <td id=\"T_9b4b0_row16_col7\" class=\"data row16 col7\" >0.044791</td>\n",
              "      <td id=\"T_9b4b0_row16_col8\" class=\"data row16 col8\" >0.052319</td>\n",
              "      <td id=\"T_9b4b0_row16_col9\" class=\"data row16 col9\" >0.638438</td>\n",
              "      <td id=\"T_9b4b0_row16_col10\" class=\"data row16 col10\" >0.926830</td>\n",
              "      <td id=\"T_9b4b0_row16_col11\" class=\"data row16 col11\" >0.917394</td>\n",
              "      <td id=\"T_9b4b0_row16_col12\" class=\"data row16 col12\" >0.780042</td>\n",
              "      <td id=\"T_9b4b0_row16_col13\" class=\"data row16 col13\" >0.660890</td>\n",
              "      <td id=\"T_9b4b0_row16_col14\" class=\"data row16 col14\" >0.446407</td>\n",
              "      <td id=\"T_9b4b0_row16_col15\" class=\"data row16 col15\" >0.313517</td>\n",
              "      <td id=\"T_9b4b0_row16_col16\" class=\"data row16 col16\" >0.252481</td>\n",
              "      <td id=\"T_9b4b0_row16_col17\" class=\"data row16 col17\" >0.309909</td>\n",
              "      <td id=\"T_9b4b0_row16_col18\" class=\"data row16 col18\" >0.401781</td>\n",
              "      <td id=\"T_9b4b0_row16_col19\" class=\"data row16 col19\" >0.210164</td>\n",
              "      <td id=\"T_9b4b0_row16_col20\" class=\"data row16 col20\" >0.096198</td>\n",
              "      <td id=\"T_9b4b0_row16_col21\" class=\"data row16 col21\" >0.048560</td>\n",
              "      <td id=\"T_9b4b0_row16_col22\" class=\"data row16 col22\" >0.025334</td>\n",
              "      <td id=\"T_9b4b0_row16_col23\" class=\"data row16 col23\" >0.011713</td>\n",
              "      <td id=\"T_9b4b0_row16_col24\" class=\"data row16 col24\" >0.003810</td>\n",
              "      <td id=\"T_9b4b0_row16_col25\" class=\"data row16 col25\" >0.000369</td>\n",
              "      <td id=\"T_9b4b0_row16_col26\" class=\"data row16 col26\" >0.000000</td>\n",
              "      <td id=\"T_9b4b0_row16_col27\" class=\"data row16 col27\" >0.000000</td>\n",
              "    </tr>\n",
              "    <tr>\n",
              "      <th id=\"T_9b4b0_level0_row17\" class=\"row_heading level0 row17\" >17</th>\n",
              "      <td id=\"T_9b4b0_row17_col0\" class=\"data row17 col0\" >0.000000</td>\n",
              "      <td id=\"T_9b4b0_row17_col1\" class=\"data row17 col1\" >0.000040</td>\n",
              "      <td id=\"T_9b4b0_row17_col2\" class=\"data row17 col2\" >0.000053</td>\n",
              "      <td id=\"T_9b4b0_row17_col3\" class=\"data row17 col3\" >0.001142</td>\n",
              "      <td id=\"T_9b4b0_row17_col4\" class=\"data row17 col4\" >0.004707</td>\n",
              "      <td id=\"T_9b4b0_row17_col5\" class=\"data row17 col5\" >0.010965</td>\n",
              "      <td id=\"T_9b4b0_row17_col6\" class=\"data row17 col6\" >0.017649</td>\n",
              "      <td id=\"T_9b4b0_row17_col7\" class=\"data row17 col7\" >0.026093</td>\n",
              "      <td id=\"T_9b4b0_row17_col8\" class=\"data row17 col8\" >0.036536</td>\n",
              "      <td id=\"T_9b4b0_row17_col9\" class=\"data row17 col9\" >0.367958</td>\n",
              "      <td id=\"T_9b4b0_row17_col10\" class=\"data row17 col10\" >0.525272</td>\n",
              "      <td id=\"T_9b4b0_row17_col11\" class=\"data row17 col11\" >0.329668</td>\n",
              "      <td id=\"T_9b4b0_row17_col12\" class=\"data row17 col12\" >0.079323</td>\n",
              "      <td id=\"T_9b4b0_row17_col13\" class=\"data row17 col13\" >0.287546</td>\n",
              "      <td id=\"T_9b4b0_row17_col14\" class=\"data row17 col14\" >0.526266</td>\n",
              "      <td id=\"T_9b4b0_row17_col15\" class=\"data row17 col15\" >0.361609</td>\n",
              "      <td id=\"T_9b4b0_row17_col16\" class=\"data row17 col16\" >0.307197</td>\n",
              "      <td id=\"T_9b4b0_row17_col17\" class=\"data row17 col17\" >0.373103</td>\n",
              "      <td id=\"T_9b4b0_row17_col18\" class=\"data row17 col18\" >0.218857</td>\n",
              "      <td id=\"T_9b4b0_row17_col19\" class=\"data row17 col19\" >0.138823</td>\n",
              "      <td id=\"T_9b4b0_row17_col20\" class=\"data row17 col20\" >0.063007</td>\n",
              "      <td id=\"T_9b4b0_row17_col21\" class=\"data row17 col21\" >0.031314</td>\n",
              "      <td id=\"T_9b4b0_row17_col22\" class=\"data row17 col22\" >0.015867</td>\n",
              "      <td id=\"T_9b4b0_row17_col23\" class=\"data row17 col23\" >0.007142</td>\n",
              "      <td id=\"T_9b4b0_row17_col24\" class=\"data row17 col24\" >0.003074</td>\n",
              "      <td id=\"T_9b4b0_row17_col25\" class=\"data row17 col25\" >0.000558</td>\n",
              "      <td id=\"T_9b4b0_row17_col26\" class=\"data row17 col26\" >0.000100</td>\n",
              "      <td id=\"T_9b4b0_row17_col27\" class=\"data row17 col27\" >0.000000</td>\n",
              "    </tr>\n",
              "    <tr>\n",
              "      <th id=\"T_9b4b0_level0_row18\" class=\"row_heading level0 row18\" >18</th>\n",
              "      <td id=\"T_9b4b0_row18_col0\" class=\"data row18 col0\" >0.000038</td>\n",
              "      <td id=\"T_9b4b0_row18_col1\" class=\"data row18 col1\" >0.000026</td>\n",
              "      <td id=\"T_9b4b0_row18_col2\" class=\"data row18 col2\" >0.000179</td>\n",
              "      <td id=\"T_9b4b0_row18_col3\" class=\"data row18 col3\" >0.000689</td>\n",
              "      <td id=\"T_9b4b0_row18_col4\" class=\"data row18 col4\" >0.002655</td>\n",
              "      <td id=\"T_9b4b0_row18_col5\" class=\"data row18 col5\" >0.005033</td>\n",
              "      <td id=\"T_9b4b0_row18_col6\" class=\"data row18 col6\" >0.007927</td>\n",
              "      <td id=\"T_9b4b0_row18_col7\" class=\"data row18 col7\" >0.013184</td>\n",
              "      <td id=\"T_9b4b0_row18_col8\" class=\"data row18 col8\" >0.020997</td>\n",
              "      <td id=\"T_9b4b0_row18_col9\" class=\"data row18 col9\" >0.031284</td>\n",
              "      <td id=\"T_9b4b0_row18_col10\" class=\"data row18 col10\" >0.048276</td>\n",
              "      <td id=\"T_9b4b0_row18_col11\" class=\"data row18 col11\" >0.090860</td>\n",
              "      <td id=\"T_9b4b0_row18_col12\" class=\"data row18 col12\" >0.195333</td>\n",
              "      <td id=\"T_9b4b0_row18_col13\" class=\"data row18 col13\" >0.394805</td>\n",
              "      <td id=\"T_9b4b0_row18_col14\" class=\"data row18 col14\" >0.601067</td>\n",
              "      <td id=\"T_9b4b0_row18_col15\" class=\"data row18 col15\" >0.396246</td>\n",
              "      <td id=\"T_9b4b0_row18_col16\" class=\"data row18 col16\" >0.417075</td>\n",
              "      <td id=\"T_9b4b0_row18_col17\" class=\"data row18 col17\" >0.431641</td>\n",
              "      <td id=\"T_9b4b0_row18_col18\" class=\"data row18 col18\" >0.198639</td>\n",
              "      <td id=\"T_9b4b0_row18_col19\" class=\"data row18 col19\" >0.087894</td>\n",
              "      <td id=\"T_9b4b0_row18_col20\" class=\"data row18 col20\" >0.038680</td>\n",
              "      <td id=\"T_9b4b0_row18_col21\" class=\"data row18 col21\" >0.017555</td>\n",
              "      <td id=\"T_9b4b0_row18_col22\" class=\"data row18 col22\" >0.008185</td>\n",
              "      <td id=\"T_9b4b0_row18_col23\" class=\"data row18 col23\" >0.003203</td>\n",
              "      <td id=\"T_9b4b0_row18_col24\" class=\"data row18 col24\" >0.001447</td>\n",
              "      <td id=\"T_9b4b0_row18_col25\" class=\"data row18 col25\" >0.000204</td>\n",
              "      <td id=\"T_9b4b0_row18_col26\" class=\"data row18 col26\" >0.000079</td>\n",
              "      <td id=\"T_9b4b0_row18_col27\" class=\"data row18 col27\" >0.000000</td>\n",
              "    </tr>\n",
              "    <tr>\n",
              "      <th id=\"T_9b4b0_level0_row19\" class=\"row_heading level0 row19\" >19</th>\n",
              "      <td id=\"T_9b4b0_row19_col0\" class=\"data row19 col0\" >0.000000</td>\n",
              "      <td id=\"T_9b4b0_row19_col1\" class=\"data row19 col1\" >0.000124</td>\n",
              "      <td id=\"T_9b4b0_row19_col2\" class=\"data row19 col2\" >0.000193</td>\n",
              "      <td id=\"T_9b4b0_row19_col3\" class=\"data row19 col3\" >0.000344</td>\n",
              "      <td id=\"T_9b4b0_row19_col4\" class=\"data row19 col4\" >0.001457</td>\n",
              "      <td id=\"T_9b4b0_row19_col5\" class=\"data row19 col5\" >0.002192</td>\n",
              "      <td id=\"T_9b4b0_row19_col6\" class=\"data row19 col6\" >0.003505</td>\n",
              "      <td id=\"T_9b4b0_row19_col7\" class=\"data row19 col7\" >0.006404</td>\n",
              "      <td id=\"T_9b4b0_row19_col8\" class=\"data row19 col8\" >0.012062</td>\n",
              "      <td id=\"T_9b4b0_row19_col9\" class=\"data row19 col9\" >0.023833</td>\n",
              "      <td id=\"T_9b4b0_row19_col10\" class=\"data row19 col10\" >0.054573</td>\n",
              "      <td id=\"T_9b4b0_row19_col11\" class=\"data row19 col11\" >0.130090</td>\n",
              "      <td id=\"T_9b4b0_row19_col12\" class=\"data row19 col12\" >0.283456</td>\n",
              "      <td id=\"T_9b4b0_row19_col13\" class=\"data row19 col13\" >0.479385</td>\n",
              "      <td id=\"T_9b4b0_row19_col14\" class=\"data row19 col14\" >0.595541</td>\n",
              "      <td id=\"T_9b4b0_row19_col15\" class=\"data row19 col15\" >0.179895</td>\n",
              "      <td id=\"T_9b4b0_row19_col16\" class=\"data row19 col16\" >0.539390</td>\n",
              "      <td id=\"T_9b4b0_row19_col17\" class=\"data row19 col17\" >0.327902</td>\n",
              "      <td id=\"T_9b4b0_row19_col18\" class=\"data row19 col18\" >0.134834</td>\n",
              "      <td id=\"T_9b4b0_row19_col19\" class=\"data row19 col19\" >0.057649</td>\n",
              "      <td id=\"T_9b4b0_row19_col20\" class=\"data row19 col20\" >0.023446</td>\n",
              "      <td id=\"T_9b4b0_row19_col21\" class=\"data row19 col21\" >0.008741</td>\n",
              "      <td id=\"T_9b4b0_row19_col22\" class=\"data row19 col22\" >0.003516</td>\n",
              "      <td id=\"T_9b4b0_row19_col23\" class=\"data row19 col23\" >0.001049</td>\n",
              "      <td id=\"T_9b4b0_row19_col24\" class=\"data row19 col24\" >0.000753</td>\n",
              "      <td id=\"T_9b4b0_row19_col25\" class=\"data row19 col25\" >0.000167</td>\n",
              "      <td id=\"T_9b4b0_row19_col26\" class=\"data row19 col26\" >0.000000</td>\n",
              "      <td id=\"T_9b4b0_row19_col27\" class=\"data row19 col27\" >0.000000</td>\n",
              "    </tr>\n",
              "    <tr>\n",
              "      <th id=\"T_9b4b0_level0_row20\" class=\"row_heading level0 row20\" >20</th>\n",
              "      <td id=\"T_9b4b0_row20_col0\" class=\"data row20 col0\" >0.000000</td>\n",
              "      <td id=\"T_9b4b0_row20_col1\" class=\"data row20 col1\" >0.000028</td>\n",
              "      <td id=\"T_9b4b0_row20_col2\" class=\"data row20 col2\" >0.000005</td>\n",
              "      <td id=\"T_9b4b0_row20_col3\" class=\"data row20 col3\" >0.000071</td>\n",
              "      <td id=\"T_9b4b0_row20_col4\" class=\"data row20 col4\" >0.000356</td>\n",
              "      <td id=\"T_9b4b0_row20_col5\" class=\"data row20 col5\" >0.001070</td>\n",
              "      <td id=\"T_9b4b0_row20_col6\" class=\"data row20 col6\" >0.001913</td>\n",
              "      <td id=\"T_9b4b0_row20_col7\" class=\"data row20 col7\" >0.005052</td>\n",
              "      <td id=\"T_9b4b0_row20_col8\" class=\"data row20 col8\" >0.013843</td>\n",
              "      <td id=\"T_9b4b0_row20_col9\" class=\"data row20 col9\" >0.036606</td>\n",
              "      <td id=\"T_9b4b0_row20_col10\" class=\"data row20 col10\" >0.093941</td>\n",
              "      <td id=\"T_9b4b0_row20_col11\" class=\"data row20 col11\" >0.205994</td>\n",
              "      <td id=\"T_9b4b0_row20_col12\" class=\"data row20 col12\" >0.372828</td>\n",
              "      <td id=\"T_9b4b0_row20_col13\" class=\"data row20 col13\" >0.221416</td>\n",
              "      <td id=\"T_9b4b0_row20_col14\" class=\"data row20 col14\" >0.068229</td>\n",
              "      <td id=\"T_9b4b0_row20_col15\" class=\"data row20 col15\" >0.481893</td>\n",
              "      <td id=\"T_9b4b0_row20_col16\" class=\"data row20 col16\" >0.638553</td>\n",
              "      <td id=\"T_9b4b0_row20_col17\" class=\"data row20 col17\" >0.207545</td>\n",
              "      <td id=\"T_9b4b0_row20_col18\" class=\"data row20 col18\" >0.098025</td>\n",
              "      <td id=\"T_9b4b0_row20_col19\" class=\"data row20 col19\" >0.040004</td>\n",
              "      <td id=\"T_9b4b0_row20_col20\" class=\"data row20 col20\" >0.015055</td>\n",
              "      <td id=\"T_9b4b0_row20_col21\" class=\"data row20 col21\" >0.005208</td>\n",
              "      <td id=\"T_9b4b0_row20_col22\" class=\"data row20 col22\" >0.002049</td>\n",
              "      <td id=\"T_9b4b0_row20_col23\" class=\"data row20 col23\" >0.000556</td>\n",
              "      <td id=\"T_9b4b0_row20_col24\" class=\"data row20 col24\" >0.000536</td>\n",
              "      <td id=\"T_9b4b0_row20_col25\" class=\"data row20 col25\" >0.000236</td>\n",
              "      <td id=\"T_9b4b0_row20_col26\" class=\"data row20 col26\" >0.000000</td>\n",
              "      <td id=\"T_9b4b0_row20_col27\" class=\"data row20 col27\" >0.000000</td>\n",
              "    </tr>\n",
              "    <tr>\n",
              "      <th id=\"T_9b4b0_level0_row21\" class=\"row_heading level0 row21\" >21</th>\n",
              "      <td id=\"T_9b4b0_row21_col0\" class=\"data row21 col0\" >0.000000</td>\n",
              "      <td id=\"T_9b4b0_row21_col1\" class=\"data row21 col1\" >0.000000</td>\n",
              "      <td id=\"T_9b4b0_row21_col2\" class=\"data row21 col2\" >0.000000</td>\n",
              "      <td id=\"T_9b4b0_row21_col3\" class=\"data row21 col3\" >0.000000</td>\n",
              "      <td id=\"T_9b4b0_row21_col4\" class=\"data row21 col4\" >0.000453</td>\n",
              "      <td id=\"T_9b4b0_row21_col5\" class=\"data row21 col5\" >0.001710</td>\n",
              "      <td id=\"T_9b4b0_row21_col6\" class=\"data row21 col6\" >0.004247</td>\n",
              "      <td id=\"T_9b4b0_row21_col7\" class=\"data row21 col7\" >0.010677</td>\n",
              "      <td id=\"T_9b4b0_row21_col8\" class=\"data row21 col8\" >0.029013</td>\n",
              "      <td id=\"T_9b4b0_row21_col9\" class=\"data row21 col9\" >0.039164</td>\n",
              "      <td id=\"T_9b4b0_row21_col10\" class=\"data row21 col10\" >0.174826</td>\n",
              "      <td id=\"T_9b4b0_row21_col11\" class=\"data row21 col11\" >0.040575</td>\n",
              "      <td id=\"T_9b4b0_row21_col12\" class=\"data row21 col12\" >0.166152</td>\n",
              "      <td id=\"T_9b4b0_row21_col13\" class=\"data row21 col13\" >0.466498</td>\n",
              "      <td id=\"T_9b4b0_row21_col14\" class=\"data row21 col14\" >0.469012</td>\n",
              "      <td id=\"T_9b4b0_row21_col15\" class=\"data row21 col15\" >0.571770</td>\n",
              "      <td id=\"T_9b4b0_row21_col16\" class=\"data row21 col16\" >0.374372</td>\n",
              "      <td id=\"T_9b4b0_row21_col17\" class=\"data row21 col17\" >0.138794</td>\n",
              "      <td id=\"T_9b4b0_row21_col18\" class=\"data row21 col18\" >0.077310</td>\n",
              "      <td id=\"T_9b4b0_row21_col19\" class=\"data row21 col19\" >0.031631</td>\n",
              "      <td id=\"T_9b4b0_row21_col20\" class=\"data row21 col20\" >0.012327</td>\n",
              "      <td id=\"T_9b4b0_row21_col21\" class=\"data row21 col21\" >0.004532</td>\n",
              "      <td id=\"T_9b4b0_row21_col22\" class=\"data row21 col22\" >0.001687</td>\n",
              "      <td id=\"T_9b4b0_row21_col23\" class=\"data row21 col23\" >0.000312</td>\n",
              "      <td id=\"T_9b4b0_row21_col24\" class=\"data row21 col24\" >0.000359</td>\n",
              "      <td id=\"T_9b4b0_row21_col25\" class=\"data row21 col25\" >0.000238</td>\n",
              "      <td id=\"T_9b4b0_row21_col26\" class=\"data row21 col26\" >0.000000</td>\n",
              "      <td id=\"T_9b4b0_row21_col27\" class=\"data row21 col27\" >0.000000</td>\n",
              "    </tr>\n",
              "    <tr>\n",
              "      <th id=\"T_9b4b0_level0_row22\" class=\"row_heading level0 row22\" >22</th>\n",
              "      <td id=\"T_9b4b0_row22_col0\" class=\"data row22 col0\" >0.000000</td>\n",
              "      <td id=\"T_9b4b0_row22_col1\" class=\"data row22 col1\" >0.000000</td>\n",
              "      <td id=\"T_9b4b0_row22_col2\" class=\"data row22 col2\" >0.000000</td>\n",
              "      <td id=\"T_9b4b0_row22_col3\" class=\"data row22 col3\" >0.000064</td>\n",
              "      <td id=\"T_9b4b0_row22_col4\" class=\"data row22 col4\" >0.001094</td>\n",
              "      <td id=\"T_9b4b0_row22_col5\" class=\"data row22 col5\" >0.007556</td>\n",
              "      <td id=\"T_9b4b0_row22_col6\" class=\"data row22 col6\" >0.213902</td>\n",
              "      <td id=\"T_9b4b0_row22_col7\" class=\"data row22 col7\" >0.155994</td>\n",
              "      <td id=\"T_9b4b0_row22_col8\" class=\"data row22 col8\" >0.315479</td>\n",
              "      <td id=\"T_9b4b0_row22_col9\" class=\"data row22 col9\" >0.840086</td>\n",
              "      <td id=\"T_9b4b0_row22_col10\" class=\"data row22 col10\" >0.759688</td>\n",
              "      <td id=\"T_9b4b0_row22_col11\" class=\"data row22 col11\" >0.635023</td>\n",
              "      <td id=\"T_9b4b0_row22_col12\" class=\"data row22 col12\" >0.532989</td>\n",
              "      <td id=\"T_9b4b0_row22_col13\" class=\"data row22 col13\" >0.501938</td>\n",
              "      <td id=\"T_9b4b0_row22_col14\" class=\"data row22 col14\" >0.538193</td>\n",
              "      <td id=\"T_9b4b0_row22_col15\" class=\"data row22 col15\" >0.451096</td>\n",
              "      <td id=\"T_9b4b0_row22_col16\" class=\"data row22 col16\" >0.103414</td>\n",
              "      <td id=\"T_9b4b0_row22_col17\" class=\"data row22 col17\" >0.136037</td>\n",
              "      <td id=\"T_9b4b0_row22_col18\" class=\"data row22 col18\" >0.065485</td>\n",
              "      <td id=\"T_9b4b0_row22_col19\" class=\"data row22 col19\" >0.028019</td>\n",
              "      <td id=\"T_9b4b0_row22_col20\" class=\"data row22 col20\" >0.011355</td>\n",
              "      <td id=\"T_9b4b0_row22_col21\" class=\"data row22 col21\" >0.004211</td>\n",
              "      <td id=\"T_9b4b0_row22_col22\" class=\"data row22 col22\" >0.001465</td>\n",
              "      <td id=\"T_9b4b0_row22_col23\" class=\"data row22 col23\" >0.000179</td>\n",
              "      <td id=\"T_9b4b0_row22_col24\" class=\"data row22 col24\" >0.000246</td>\n",
              "      <td id=\"T_9b4b0_row22_col25\" class=\"data row22 col25\" >0.000151</td>\n",
              "      <td id=\"T_9b4b0_row22_col26\" class=\"data row22 col26\" >0.000000</td>\n",
              "      <td id=\"T_9b4b0_row22_col27\" class=\"data row22 col27\" >0.000000</td>\n",
              "    </tr>\n",
              "    <tr>\n",
              "      <th id=\"T_9b4b0_level0_row23\" class=\"row_heading level0 row23\" >23</th>\n",
              "      <td id=\"T_9b4b0_row23_col0\" class=\"data row23 col0\" >0.000000</td>\n",
              "      <td id=\"T_9b4b0_row23_col1\" class=\"data row23 col1\" >0.000000</td>\n",
              "      <td id=\"T_9b4b0_row23_col2\" class=\"data row23 col2\" >0.000000</td>\n",
              "      <td id=\"T_9b4b0_row23_col3\" class=\"data row23 col3\" >0.000093</td>\n",
              "      <td id=\"T_9b4b0_row23_col4\" class=\"data row23 col4\" >0.002730</td>\n",
              "      <td id=\"T_9b4b0_row23_col5\" class=\"data row23 col5\" >0.658638</td>\n",
              "      <td id=\"T_9b4b0_row23_col6\" class=\"data row23 col6\" >0.972441</td>\n",
              "      <td id=\"T_9b4b0_row23_col7\" class=\"data row23 col7\" >0.916858</td>\n",
              "      <td id=\"T_9b4b0_row23_col8\" class=\"data row23 col8\" >0.865277</td>\n",
              "      <td id=\"T_9b4b0_row23_col9\" class=\"data row23 col9\" >0.811296</td>\n",
              "      <td id=\"T_9b4b0_row23_col10\" class=\"data row23 col10\" >0.678483</td>\n",
              "      <td id=\"T_9b4b0_row23_col11\" class=\"data row23 col11\" >0.589349</td>\n",
              "      <td id=\"T_9b4b0_row23_col12\" class=\"data row23 col12\" >0.546265</td>\n",
              "      <td id=\"T_9b4b0_row23_col13\" class=\"data row23 col13\" >0.479448</td>\n",
              "      <td id=\"T_9b4b0_row23_col14\" class=\"data row23 col14\" >0.030017</td>\n",
              "      <td id=\"T_9b4b0_row23_col15\" class=\"data row23 col15\" >0.264781</td>\n",
              "      <td id=\"T_9b4b0_row23_col16\" class=\"data row23 col16\" >0.201767</td>\n",
              "      <td id=\"T_9b4b0_row23_col17\" class=\"data row23 col17\" >0.120309</td>\n",
              "      <td id=\"T_9b4b0_row23_col18\" class=\"data row23 col18\" >0.059023</td>\n",
              "      <td id=\"T_9b4b0_row23_col19\" class=\"data row23 col19\" >0.025964</td>\n",
              "      <td id=\"T_9b4b0_row23_col20\" class=\"data row23 col20\" >0.010756</td>\n",
              "      <td id=\"T_9b4b0_row23_col21\" class=\"data row23 col21\" >0.003725</td>\n",
              "      <td id=\"T_9b4b0_row23_col22\" class=\"data row23 col22\" >0.001451</td>\n",
              "      <td id=\"T_9b4b0_row23_col23\" class=\"data row23 col23\" >0.000303</td>\n",
              "      <td id=\"T_9b4b0_row23_col24\" class=\"data row23 col24\" >0.000280</td>\n",
              "      <td id=\"T_9b4b0_row23_col25\" class=\"data row23 col25\" >0.000091</td>\n",
              "      <td id=\"T_9b4b0_row23_col26\" class=\"data row23 col26\" >0.000000</td>\n",
              "      <td id=\"T_9b4b0_row23_col27\" class=\"data row23 col27\" >0.000000</td>\n",
              "    </tr>\n",
              "    <tr>\n",
              "      <th id=\"T_9b4b0_level0_row24\" class=\"row_heading level0 row24\" >24</th>\n",
              "      <td id=\"T_9b4b0_row24_col0\" class=\"data row24 col0\" >0.000000</td>\n",
              "      <td id=\"T_9b4b0_row24_col1\" class=\"data row24 col1\" >0.000000</td>\n",
              "      <td id=\"T_9b4b0_row24_col2\" class=\"data row24 col2\" >0.000066</td>\n",
              "      <td id=\"T_9b4b0_row24_col3\" class=\"data row24 col3\" >0.000449</td>\n",
              "      <td id=\"T_9b4b0_row24_col4\" class=\"data row24 col4\" >0.003826</td>\n",
              "      <td id=\"T_9b4b0_row24_col5\" class=\"data row24 col5\" >0.188598</td>\n",
              "      <td id=\"T_9b4b0_row24_col6\" class=\"data row24 col6\" >0.224954</td>\n",
              "      <td id=\"T_9b4b0_row24_col7\" class=\"data row24 col7\" >0.456189</td>\n",
              "      <td id=\"T_9b4b0_row24_col8\" class=\"data row24 col8\" >0.861429</td>\n",
              "      <td id=\"T_9b4b0_row24_col9\" class=\"data row24 col9\" >0.778660</td>\n",
              "      <td id=\"T_9b4b0_row24_col10\" class=\"data row24 col10\" >0.460880</td>\n",
              "      <td id=\"T_9b4b0_row24_col11\" class=\"data row24 col11\" >0.156952</td>\n",
              "      <td id=\"T_9b4b0_row24_col12\" class=\"data row24 col12\" >0.150375</td>\n",
              "      <td id=\"T_9b4b0_row24_col13\" class=\"data row24 col13\" >0.290019</td>\n",
              "      <td id=\"T_9b4b0_row24_col14\" class=\"data row24 col14\" >0.331440</td>\n",
              "      <td id=\"T_9b4b0_row24_col15\" class=\"data row24 col15\" >0.256191</td>\n",
              "      <td id=\"T_9b4b0_row24_col16\" class=\"data row24 col16\" >0.175228</td>\n",
              "      <td id=\"T_9b4b0_row24_col17\" class=\"data row24 col17\" >0.106010</td>\n",
              "      <td id=\"T_9b4b0_row24_col18\" class=\"data row24 col18\" >0.053060</td>\n",
              "      <td id=\"T_9b4b0_row24_col19\" class=\"data row24 col19\" >0.025163</td>\n",
              "      <td id=\"T_9b4b0_row24_col20\" class=\"data row24 col20\" >0.010371</td>\n",
              "      <td id=\"T_9b4b0_row24_col21\" class=\"data row24 col21\" >0.004004</td>\n",
              "      <td id=\"T_9b4b0_row24_col22\" class=\"data row24 col22\" >0.001169</td>\n",
              "      <td id=\"T_9b4b0_row24_col23\" class=\"data row24 col23\" >0.000074</td>\n",
              "      <td id=\"T_9b4b0_row24_col24\" class=\"data row24 col24\" >0.000163</td>\n",
              "      <td id=\"T_9b4b0_row24_col25\" class=\"data row24 col25\" >0.000028</td>\n",
              "      <td id=\"T_9b4b0_row24_col26\" class=\"data row24 col26\" >0.000000</td>\n",
              "      <td id=\"T_9b4b0_row24_col27\" class=\"data row24 col27\" >0.000000</td>\n",
              "    </tr>\n",
              "    <tr>\n",
              "      <th id=\"T_9b4b0_level0_row25\" class=\"row_heading level0 row25\" >25</th>\n",
              "      <td id=\"T_9b4b0_row25_col0\" class=\"data row25 col0\" >0.000000</td>\n",
              "      <td id=\"T_9b4b0_row25_col1\" class=\"data row25 col1\" >0.000000</td>\n",
              "      <td id=\"T_9b4b0_row25_col2\" class=\"data row25 col2\" >0.000000</td>\n",
              "      <td id=\"T_9b4b0_row25_col3\" class=\"data row25 col3\" >0.000387</td>\n",
              "      <td id=\"T_9b4b0_row25_col4\" class=\"data row25 col4\" >0.002614</td>\n",
              "      <td id=\"T_9b4b0_row25_col5\" class=\"data row25 col5\" >0.010354</td>\n",
              "      <td id=\"T_9b4b0_row25_col6\" class=\"data row25 col6\" >0.031173</td>\n",
              "      <td id=\"T_9b4b0_row25_col7\" class=\"data row25 col7\" >0.071038</td>\n",
              "      <td id=\"T_9b4b0_row25_col8\" class=\"data row25 col8\" >0.131460</td>\n",
              "      <td id=\"T_9b4b0_row25_col9\" class=\"data row25 col9\" >0.199942</td>\n",
              "      <td id=\"T_9b4b0_row25_col10\" class=\"data row25 col10\" >0.268288</td>\n",
              "      <td id=\"T_9b4b0_row25_col11\" class=\"data row25 col11\" >0.314036</td>\n",
              "      <td id=\"T_9b4b0_row25_col12\" class=\"data row25 col12\" >0.326566</td>\n",
              "      <td id=\"T_9b4b0_row25_col13\" class=\"data row25 col13\" >0.306960</td>\n",
              "      <td id=\"T_9b4b0_row25_col14\" class=\"data row25 col14\" >0.261141</td>\n",
              "      <td id=\"T_9b4b0_row25_col15\" class=\"data row25 col15\" >0.202807</td>\n",
              "      <td id=\"T_9b4b0_row25_col16\" class=\"data row25 col16\" >0.139651</td>\n",
              "      <td id=\"T_9b4b0_row25_col17\" class=\"data row25 col17\" >0.086367</td>\n",
              "      <td id=\"T_9b4b0_row25_col18\" class=\"data row25 col18\" >0.046287</td>\n",
              "      <td id=\"T_9b4b0_row25_col19\" class=\"data row25 col19\" >0.022879</td>\n",
              "      <td id=\"T_9b4b0_row25_col20\" class=\"data row25 col20\" >0.009390</td>\n",
              "      <td id=\"T_9b4b0_row25_col21\" class=\"data row25 col21\" >0.004114</td>\n",
              "      <td id=\"T_9b4b0_row25_col22\" class=\"data row25 col22\" >0.001584</td>\n",
              "      <td id=\"T_9b4b0_row25_col23\" class=\"data row25 col23\" >0.000120</td>\n",
              "      <td id=\"T_9b4b0_row25_col24\" class=\"data row25 col24\" >0.000158</td>\n",
              "      <td id=\"T_9b4b0_row25_col25\" class=\"data row25 col25\" >0.000000</td>\n",
              "      <td id=\"T_9b4b0_row25_col26\" class=\"data row25 col26\" >0.000000</td>\n",
              "      <td id=\"T_9b4b0_row25_col27\" class=\"data row25 col27\" >0.000000</td>\n",
              "    </tr>\n",
              "    <tr>\n",
              "      <th id=\"T_9b4b0_level0_row26\" class=\"row_heading level0 row26\" >26</th>\n",
              "      <td id=\"T_9b4b0_row26_col0\" class=\"data row26 col0\" >0.000000</td>\n",
              "      <td id=\"T_9b4b0_row26_col1\" class=\"data row26 col1\" >0.000000</td>\n",
              "      <td id=\"T_9b4b0_row26_col2\" class=\"data row26 col2\" >0.000000</td>\n",
              "      <td id=\"T_9b4b0_row26_col3\" class=\"data row26 col3\" >0.000000</td>\n",
              "      <td id=\"T_9b4b0_row26_col4\" class=\"data row26 col4\" >0.000683</td>\n",
              "      <td id=\"T_9b4b0_row26_col5\" class=\"data row26 col5\" >0.004481</td>\n",
              "      <td id=\"T_9b4b0_row26_col6\" class=\"data row26 col6\" >0.016640</td>\n",
              "      <td id=\"T_9b4b0_row26_col7\" class=\"data row26 col7\" >0.039040</td>\n",
              "      <td id=\"T_9b4b0_row26_col8\" class=\"data row26 col8\" >0.073101</td>\n",
              "      <td id=\"T_9b4b0_row26_col9\" class=\"data row26 col9\" >0.106343</td>\n",
              "      <td id=\"T_9b4b0_row26_col10\" class=\"data row26 col10\" >0.142433</td>\n",
              "      <td id=\"T_9b4b0_row26_col11\" class=\"data row26 col11\" >0.169425</td>\n",
              "      <td id=\"T_9b4b0_row26_col12\" class=\"data row26 col12\" >0.176472</td>\n",
              "      <td id=\"T_9b4b0_row26_col13\" class=\"data row26 col13\" >0.169022</td>\n",
              "      <td id=\"T_9b4b0_row26_col14\" class=\"data row26 col14\" >0.147443</td>\n",
              "      <td id=\"T_9b4b0_row26_col15\" class=\"data row26 col15\" >0.114383</td>\n",
              "      <td id=\"T_9b4b0_row26_col16\" class=\"data row26 col16\" >0.081698</td>\n",
              "      <td id=\"T_9b4b0_row26_col17\" class=\"data row26 col17\" >0.052885</td>\n",
              "      <td id=\"T_9b4b0_row26_col18\" class=\"data row26 col18\" >0.030014</td>\n",
              "      <td id=\"T_9b4b0_row26_col19\" class=\"data row26 col19\" >0.014482</td>\n",
              "      <td id=\"T_9b4b0_row26_col20\" class=\"data row26 col20\" >0.005050</td>\n",
              "      <td id=\"T_9b4b0_row26_col21\" class=\"data row26 col21\" >0.002593</td>\n",
              "      <td id=\"T_9b4b0_row26_col22\" class=\"data row26 col22\" >0.001134</td>\n",
              "      <td id=\"T_9b4b0_row26_col23\" class=\"data row26 col23\" >0.000190</td>\n",
              "      <td id=\"T_9b4b0_row26_col24\" class=\"data row26 col24\" >0.000000</td>\n",
              "      <td id=\"T_9b4b0_row26_col25\" class=\"data row26 col25\" >0.000037</td>\n",
              "      <td id=\"T_9b4b0_row26_col26\" class=\"data row26 col26\" >0.000000</td>\n",
              "      <td id=\"T_9b4b0_row26_col27\" class=\"data row26 col27\" >0.000000</td>\n",
              "    </tr>\n",
              "    <tr>\n",
              "      <th id=\"T_9b4b0_level0_row27\" class=\"row_heading level0 row27\" >27</th>\n",
              "      <td id=\"T_9b4b0_row27_col0\" class=\"data row27 col0\" >0.000000</td>\n",
              "      <td id=\"T_9b4b0_row27_col1\" class=\"data row27 col1\" >0.000000</td>\n",
              "      <td id=\"T_9b4b0_row27_col2\" class=\"data row27 col2\" >0.000000</td>\n",
              "      <td id=\"T_9b4b0_row27_col3\" class=\"data row27 col3\" >0.000000</td>\n",
              "      <td id=\"T_9b4b0_row27_col4\" class=\"data row27 col4\" >0.000095</td>\n",
              "      <td id=\"T_9b4b0_row27_col5\" class=\"data row27 col5\" >0.000585</td>\n",
              "      <td id=\"T_9b4b0_row27_col6\" class=\"data row27 col6\" >0.001538</td>\n",
              "      <td id=\"T_9b4b0_row27_col7\" class=\"data row27 col7\" >0.003204</td>\n",
              "      <td id=\"T_9b4b0_row27_col8\" class=\"data row27 col8\" >0.004670</td>\n",
              "      <td id=\"T_9b4b0_row27_col9\" class=\"data row27 col9\" >0.007148</td>\n",
              "      <td id=\"T_9b4b0_row27_col10\" class=\"data row27 col10\" >0.011993</td>\n",
              "      <td id=\"T_9b4b0_row27_col11\" class=\"data row27 col11\" >0.015394</td>\n",
              "      <td id=\"T_9b4b0_row27_col12\" class=\"data row27 col12\" >0.018726</td>\n",
              "      <td id=\"T_9b4b0_row27_col13\" class=\"data row27 col13\" >0.021517</td>\n",
              "      <td id=\"T_9b4b0_row27_col14\" class=\"data row27 col14\" >0.024382</td>\n",
              "      <td id=\"T_9b4b0_row27_col15\" class=\"data row27 col15\" >0.021448</td>\n",
              "      <td id=\"T_9b4b0_row27_col16\" class=\"data row27 col16\" >0.017374</td>\n",
              "      <td id=\"T_9b4b0_row27_col17\" class=\"data row27 col17\" >0.012364</td>\n",
              "      <td id=\"T_9b4b0_row27_col18\" class=\"data row27 col18\" >0.006924</td>\n",
              "      <td id=\"T_9b4b0_row27_col19\" class=\"data row27 col19\" >0.002638</td>\n",
              "      <td id=\"T_9b4b0_row27_col20\" class=\"data row27 col20\" >0.001012</td>\n",
              "      <td id=\"T_9b4b0_row27_col21\" class=\"data row27 col21\" >0.000413</td>\n",
              "      <td id=\"T_9b4b0_row27_col22\" class=\"data row27 col22\" >0.000440</td>\n",
              "      <td id=\"T_9b4b0_row27_col23\" class=\"data row27 col23\" >0.000075</td>\n",
              "      <td id=\"T_9b4b0_row27_col24\" class=\"data row27 col24\" >0.000000</td>\n",
              "      <td id=\"T_9b4b0_row27_col25\" class=\"data row27 col25\" >0.000000</td>\n",
              "      <td id=\"T_9b4b0_row27_col26\" class=\"data row27 col26\" >0.000000</td>\n",
              "      <td id=\"T_9b4b0_row27_col27\" class=\"data row27 col27\" >0.000000</td>\n",
              "    </tr>\n",
              "  </tbody>\n",
              "</table>\n"
            ]
          },
          "metadata": {},
          "execution_count": 236
        }
      ]
    },
    {
      "cell_type": "code",
      "source": [
        "# mean() 에 인자로 (-1,-2)의 튜플을 넣어주는 이유는 특정 위치의 평균만을 구하고 싶을 때 사용한다.\n",
        "# tensor의 shape는 대게 [1, 40, 40] 이런 식인데 -1, -2의 인덱싱을 통해 가로 세로의 값들만 가지고 평균을 구할 때 사용한다.\n",
        "# 즉 가로 세로를 가지고 구하는 값은 단 rank-1의 텐서를 가지며 이러한 텐서가 stack된 1010개를 가지고 있다. 그래서 텐서의 크기가 (1010)인 이유다."
      ],
      "metadata": {
        "id": "32dgqNPrKa6B"
      },
      "execution_count": 237,
      "outputs": []
    },
    {
      "cell_type": "code",
      "source": [
        "# 특정 숫자의 이미지와 이상적인 숫자의 거리가 짧다면 그 숫자가 동일하다는 판단하는 함수를 가지고 학습한다.\n",
        "def is_3(x): return mnist_distance(x, mean3) < mnist_distance(x, mean7) \n",
        "\n",
        "\n",
        "# 위 함수는 x에 특정 숫자를 넣었을 때 3과의 차이가 7보다 적다면(3과 거의 동일시) True를 반환한다.\n",
        "\n",
        "is_3(valid_3_tens[10]) # True\n",
        "is_3(valid_3_tens).float() # tensor([1., 1., 1.,  ..., 1., 1., 1.]) True면 1을 반환 False는 0을 반환\n",
        "accuracy_3s = is_3(valid_3_tens).float().mean()\n",
        "accuracy_7s = (1 - is_3(valid_7_tens).float()).mean() # 1.0 == 100% 맞다..\n",
        "\n",
        "accuracy_7s, accuracy_3s, (accuracy_7s + accuracy_3s) /2 "
      ],
      "metadata": {
        "colab": {
          "base_uri": "https://localhost:8080/"
        },
        "id": "0x8BjDL6Ka3J",
        "outputId": "959d1297-f2c6-49d9-8124-052998e4ba8e"
      },
      "execution_count": 238,
      "outputs": [
        {
          "output_type": "execute_result",
          "data": {
            "text/plain": [
              "(tensor(1.), tensor(0.9168), tensor(0.9584))"
            ]
          },
          "metadata": {},
          "execution_count": 238
        }
      ]
    },
    {
      "cell_type": "code",
      "source": [
        ""
      ],
      "metadata": {
        "id": "u9UkSJehSIDp"
      },
      "execution_count": 238,
      "outputs": []
    },
    {
      "cell_type": "markdown",
      "source": [
        "# stochastic gradient descent 확률적 경사하강법"
      ],
      "metadata": {
        "id": "L3bZ47m3SEX_"
      }
    },
    {
      "cell_type": "code",
      "source": [
        "def f(x) : return x**2\n",
        "\n",
        "plot_function(f, 'x', 'x**2') # function을 가지고 그래프를 표시, 2,3번째 인자는 각각 가로 세로의 태그"
      ],
      "metadata": {
        "colab": {
          "base_uri": "https://localhost:8080/",
          "height": 279
        },
        "id": "NjGqZ9AIKazw",
        "outputId": "00343af1-893c-48ec-b812-cfc61665c079"
      },
      "execution_count": 239,
      "outputs": [
        {
          "output_type": "display_data",
          "data": {
            "text/plain": [
              "<Figure size 432x288 with 1 Axes>"
            ],
            "image/png": "[encoded data removed]"
          },
          "metadata": {
            "needs_background": "light"
          }
        }
      ]
    },
    {
      "cell_type": "code",
      "source": [
        "plot_function(f, 'x', 'x**2')\n",
        "plt.scatter(-1.5, f(-1.5), color='red')"
      ],
      "metadata": {
        "colab": {
          "base_uri": "https://localhost:8080/",
          "height": 297
        },
        "id": "zyH0MBjFKawY",
        "outputId": "8309f580-1a1b-437b-8f99-ade12d068d8e"
      },
      "execution_count": 240,
      "outputs": [
        {
          "output_type": "execute_result",
          "data": {
            "text/plain": [
              "<matplotlib.collections.PathCollection at 0x7f546a674ed0>"
            ]
          },
          "metadata": {},
          "execution_count": 240
        },
        {
          "output_type": "display_data",
          "data": {
            "text/plain": [
              "<Figure size 432x288 with 1 Axes>"
            ],
            "image/png": "[encoded data removed]"
          },
          "metadata": {
            "needs_background": "light"
          }
        }
      ]
    },
    {
      "cell_type": "code",
      "source": [
        "# 특정값의 변수에 대한 gradient를 계산해달라고 하는 함수 : requires_grad_()\n",
        "\n",
        "xt = tensor(3.).requires_grad_() # tensor(3., requires_grad=True)\n",
        "\n",
        "yt = f(xt)\n",
        "yt.backward() # 그레디언트 계산 initialize\n",
        "\n",
        "xt.grad"
      ],
      "metadata": {
        "colab": {
          "base_uri": "https://localhost:8080/"
        },
        "id": "xQPqqpjkc0u9",
        "outputId": "7b12832c-824f-4148-e5e6-cac5c041c11b"
      },
      "execution_count": 241,
      "outputs": [
        {
          "output_type": "execute_result",
          "data": {
            "text/plain": [
              "tensor(6.)"
            ]
          },
          "metadata": {},
          "execution_count": 241
        }
      ]
    },
    {
      "cell_type": "code",
      "source": [
        "xt = tensor([10., 36., 25.]).requires_grad_()\n",
        "xt # tensor([10., 36., 25.], requires_grad=True)\n",
        "\n",
        "def f(x): return (x**2).sum()\n",
        "yt = f(xt)\n",
        "yt # 100 + 36^2 + 25^2"
      ],
      "metadata": {
        "colab": {
          "base_uri": "https://localhost:8080/"
        },
        "id": "mU82PFhkdh9p",
        "outputId": "9c120762-cf20-4083-a960-10d69e4c29bd"
      },
      "execution_count": 242,
      "outputs": [
        {
          "output_type": "execute_result",
          "data": {
            "text/plain": [
              "tensor(2021., grad_fn=<SumBackward0>)"
            ]
          },
          "metadata": {},
          "execution_count": 242
        }
      ]
    },
    {
      "cell_type": "code",
      "source": [
        "# 위 예제 미분\n",
        "\n",
        "yt.backward()\n",
        "xt.grad # 기울기 2x에 값을 대입"
      ],
      "metadata": {
        "colab": {
          "base_uri": "https://localhost:8080/"
        },
        "id": "ERG5xILGd8kx",
        "outputId": "0c9de9a8-2772-48c5-dc2d-4f88fc5dff07"
      },
      "execution_count": 243,
      "outputs": [
        {
          "output_type": "execute_result",
          "data": {
            "text/plain": [
              "tensor([20., 72., 50.])"
            ]
          },
          "metadata": {},
          "execution_count": 243
        }
      ]
    },
    {
      "cell_type": "markdown",
      "source": [
        "4.4.2"
      ],
      "metadata": {
        "id": "a727BkYwecsJ"
      }
    },
    {
      "cell_type": "code",
      "source": [
        "# 학습률을 사용하여 그레디언트의 파라미터를 조정해 나아갈 수 있다.\n",
        "# 학습률은 대게 0.1 ~ 0.001 사이며, 학습의 과정을 통해 좋은 모델의 결과 속 학습률을 사용할 수도 있다.\n",
        "\n",
        "# w -= w.grad * lr 을 최적화 단계를 사용한 파라미터의 갱신단계라고 불린다.\n",
        "def f(x) : return (x**2)\n",
        "plot_function(f, 'x' , 'x^2')\n",
        "plt.scatter(-5 , f(-5), color='red')\n",
        "\n",
        "# 만약 학습률이 0.01이라면?\n",
        "\n",
        "# -5 -= 2 * 5 * 0.01 = -4.9 << 미비함\n",
        "\n",
        "# 만약 학습률이 1이라면?\n",
        "\n",
        "# -5 -= 2 * 5 * 1 = 5 << 뛰어다니는 현상 발생"
      ],
      "metadata": {
        "colab": {
          "base_uri": "https://localhost:8080/",
          "height": 297
        },
        "id": "Jy3l9NovNn_3",
        "outputId": "a1825797-1540-46c2-cdd9-3d82b04d4247"
      },
      "execution_count": 244,
      "outputs": [
        {
          "output_type": "execute_result",
          "data": {
            "text/plain": [
              "<matplotlib.collections.PathCollection at 0x7f546a73d550>"
            ]
          },
          "metadata": {},
          "execution_count": 244
        },
        {
          "output_type": "display_data",
          "data": {
            "text/plain": [
              "<Figure size 432x288 with 1 Axes>"
            ],
            "image/png": "[encoded data removed]"
          },
          "metadata": {
            "needs_background": "light"
          }
        }
      ]
    },
    {
      "cell_type": "code",
      "source": [
        "# 확률적 경사하강법을 활용하여 시작부터 끝까지 보여주는 예제\n",
        "\n",
        "time = torch.arange(0,20).float() # tensor([ 0.,  1.,  2.,  3.,  4.,  5.,  6.,  7.,  8.,  9., 10., 11., 12., 13., 14., 15., 16., 17., 18., 19.])\n",
        "speed = torch.randn(20)*3 + 0.75 * (time-9.5)**2 + 1\n",
        "plt.scatter(time,speed)\n",
        "\n",
        "# speed => tensor([71.3436, 55.7348, 45.5466, 32.5137, 22.7267, 13.6544,  8.5335, \n",
        "# 11.6544,  5.2311, -0.8985,  2.1044,  3.5602,  0.3670,  8.0736, 15.0035, 29.3479, \n",
        "# 33.2235, 43.0720, 54.9268, 65.1467])\n",
        "\n"
      ],
      "metadata": {
        "colab": {
          "base_uri": "https://localhost:8080/",
          "height": 285
        },
        "id": "MB-knSxsNn84",
        "outputId": "69ba2fd5-a961-405b-db20-2959e99757c1"
      },
      "execution_count": 245,
      "outputs": [
        {
          "output_type": "execute_result",
          "data": {
            "text/plain": [
              "<matplotlib.collections.PathCollection at 0x7f546a6f8c10>"
            ]
          },
          "metadata": {},
          "execution_count": 245
        },
        {
          "output_type": "display_data",
          "data": {
            "text/plain": [
              "<Figure size 432x288 with 1 Axes>"
            ],
            "image/png": "[encoded data removed]"
          },
          "metadata": {
            "needs_background": "light"
          }
        }
      ]
    },
    {
      "cell_type": "code",
      "source": [
        "# 파라미터를 조정할 함수의 입력\n",
        "def f(t, params):\n",
        "  a,b,c = params\n",
        "  return a*(t**2) + (b*t) + c"
      ],
      "metadata": {
        "id": "f4hobVGRNn4d"
      },
      "execution_count": 246,
      "outputs": []
    },
    {
      "cell_type": "code",
      "source": [
        "# 연속적인 값을 예측하는 회귀문제에서는 일반적으로 평균제곱오차 손실함수를 사용한다.\n",
        "def mse(pred, target): return ((pred - target)**2).mean()"
      ],
      "metadata": {
        "id": "sEkQ8abGTlSZ"
      },
      "execution_count": 247,
      "outputs": []
    },
    {
      "cell_type": "code",
      "source": [
        "params = torch.randn(3).requires_grad_() # tensor([-0.1335,  0.3415, -0.0716], requires_grad=True)\n",
        "# randn은 평균이 0이고 표준편차가 1인 정규분포 내에 값들을 크기에 맞게 랜덤으로 부여한다.\n",
        "\n",
        "preds = f(time, params) # 시간에 따라 값이 점점 더 커지는 모습을 보여준다.\n",
        "\n",
        "def show_preds(preds, ax=None):\n",
        "  if ax is None: ax = plt.subplots()[1] # 왜 인덱스 1을 넣어야하는가?\n",
        "  ax.scatter(time,speed) # 기존의 시간 별 속도 plot\n",
        "  ax.scatter(time, to_np(preds), color='red') # to_numpy로 예측값을 바꿔준다. 왜 굳이 넘파이로 변환하지?\n",
        "  ax.set_ylim(-300, 100) # 그래프 y limit\n",
        "\n",
        "# type(preds) => torch.Tensor\n",
        "# type(to_np(preds)) => numpy.ndarray\n",
        "# type(time) => torch.Tensor\n",
        "\n",
        "show_preds(preds)"
      ],
      "metadata": {
        "colab": {
          "base_uri": "https://localhost:8080/",
          "height": 269
        },
        "id": "x8j3pMsWT0fE",
        "outputId": "656bcf78-1001-4dd4-8ac4-7127adc7409c"
      },
      "execution_count": 248,
      "outputs": [
        {
          "output_type": "display_data",
          "data": {
            "text/plain": [
              "<Figure size 432x288 with 1 Axes>"
            ],
            "image/png": "[encoded data removed]"
          },
          "metadata": {
            "needs_background": "light"
          }
        }
      ]
    },
    {
      "cell_type": "code",
      "source": [
        "loss = mse(preds, speed)\n",
        "loss\n",
        "\n",
        "# 다음과 같은 손실평균이 났다.\n",
        "\n",
        "# loss도 그래프처럼 만들어지는데 여기서 파라미터의 그래디언트를 계산해준다"
      ],
      "metadata": {
        "colab": {
          "base_uri": "https://localhost:8080/"
        },
        "id": "grAC3HFRV8fo",
        "outputId": "878267ce-69d3-435f-9bb1-f16c64259a56"
      },
      "execution_count": 249,
      "outputs": [
        {
          "output_type": "execute_result",
          "data": {
            "text/plain": [
              "tensor(10462.2783, grad_fn=<MeanBackward0>)"
            ]
          },
          "metadata": {},
          "execution_count": 249
        }
      ]
    },
    {
      "cell_type": "code",
      "source": [
        "loss.backward() # 한 번만 실행해주고 그 다음부턴 안됨\n",
        "params.grad\n",
        "\n",
        "# tensor([-164.1040,  -10.3645,   -0.7590])\n",
        "\n",
        "params.grad * 1e-5 # 더 작은 가중치로 조정되었다."
      ],
      "metadata": {
        "colab": {
          "base_uri": "https://localhost:8080/"
        },
        "id": "5LjODiEjYaLk",
        "outputId": "c087800f-cc7b-4207-9ff3-bbd5c7842cdd"
      },
      "execution_count": 250,
      "outputs": [
        {
          "output_type": "execute_result",
          "data": {
            "text/plain": [
              "tensor([-0.3325, -0.0213, -0.0016])"
            ]
          },
          "metadata": {},
          "execution_count": 250
        }
      ]
    },
    {
      "cell_type": "code",
      "source": [
        "# 가중치 갱신하기\n",
        "lr = 1e-5\n",
        "\n",
        "params.data -= lr * params.grad.data # 가중치를 조정하고\n",
        "params.grad = None # 다시 미분값을 없음으로 정의한다."
      ],
      "metadata": {
        "id": "fLsQ43x3bBAC"
      },
      "execution_count": 251,
      "outputs": []
    },
    {
      "cell_type": "code",
      "source": [
        "# 조정확인\n",
        "\n",
        "preds = f(time, params)\n",
        "mse(preds, speed) # 오차가 감소하였다."
      ],
      "metadata": {
        "colab": {
          "base_uri": "https://localhost:8080/"
        },
        "id": "GwO6DL4NcukM",
        "outputId": "23097c8d-c886-4d62-80f5-b3b7842a99d2"
      },
      "execution_count": 252,
      "outputs": [
        {
          "output_type": "execute_result",
          "data": {
            "text/plain": [
              "tensor(2495.1694, grad_fn=<MeanBackward0>)"
            ]
          },
          "metadata": {},
          "execution_count": 252
        }
      ]
    },
    {
      "cell_type": "code",
      "source": [
        "show_preds(preds)"
      ],
      "metadata": {
        "colab": {
          "base_uri": "https://localhost:8080/",
          "height": 269
        },
        "id": "GEVu2-ELdODx",
        "outputId": "a515d999-af1b-49b3-9e4b-e17c6cae34f8"
      },
      "execution_count": 253,
      "outputs": [
        {
          "output_type": "display_data",
          "data": {
            "text/plain": [
              "<Figure size 432x288 with 1 Axes>"
            ],
            "image/png": "[encoded data removed]"
          },
          "metadata": {
            "needs_background": "light"
          }
        }
      ]
    },
    {
      "cell_type": "markdown",
      "source": [
        "지금까지의 과정을 다시 함수로"
      ],
      "metadata": {
        "id": "I3Us_jL2dYr_"
      }
    },
    {
      "cell_type": "code",
      "source": [
        "def apply_step(params, prn=True):\n",
        "  preds = f(time, params) # 시간과 파라미터를 곱한 2차함수\n",
        "  loss = mse(preds, speed) # 예측과 스피드를 제곱평균 손실함수로 계산\n",
        "  loss.backward() # 손실을 미분가능한 상태로 만들어준 뒤\n",
        "  params.data -= lr * params.grad.data # 파라미터를 오차율과 그레디언트의 차로 계산함\n",
        "  params.grad = None\n",
        "  if prn: print(loss.item()) # 손실의 정도를 출력해주고,\n",
        "  return preds # 예측값을 반환\n"
      ],
      "metadata": {
        "id": "qiciw_Kmda7o"
      },
      "execution_count": 254,
      "outputs": []
    },
    {
      "cell_type": "code",
      "source": [
        "for i in range(10): apply_step(params)"
      ],
      "metadata": {
        "colab": {
          "base_uri": "https://localhost:8080/"
        },
        "id": "UCbgj6jrmykT",
        "outputId": "8cd7e39a-d085-46b4-97cb-49523a2b5c1b"
      },
      "execution_count": 255,
      "outputs": [
        {
          "output_type": "stream",
          "name": "stdout",
          "text": [
            "2495.16943359375\n",
            "987.5460815429688\n",
            "702.2550659179688\n",
            "648.2666015625\n",
            "638.0474243164062\n",
            "636.1110229492188\n",
            "635.7418212890625\n",
            "635.6691284179688\n",
            "635.6527099609375\n",
            "635.6468505859375\n"
          ]
        }
      ]
    },
    {
      "cell_type": "code",
      "source": [
        "_,axs = plt.subplots(1,4,figsize=(12,3))\n",
        "for ax in axs: show_preds(apply_step(params, False), ax)\n",
        "plt.tight_layout()"
      ],
      "metadata": {
        "colab": {
          "base_uri": "https://localhost:8080/",
          "height": 225
        },
        "id": "SfX0M9Zrnmwt",
        "outputId": "28da70f6-aab9-4705-a565-a0c6461aecfd"
      },
      "execution_count": 256,
      "outputs": [
        {
          "output_type": "display_data",
          "data": {
            "text/plain": [
              "<Figure size 864x216 with 4 Axes>"
            ],
            "image/png": "[encoded data removed]"
          },
          "metadata": {
            "needs_background": "light"
          }
        }
      ]
    }
  ]
}
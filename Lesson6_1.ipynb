{
  "cells": [
    {
      "cell_type": "code",
      "execution_count": 56,
      "metadata": {
        "id": "os5jJFCrpwnC"
      },
      "outputs": [],
      "source": [
        "#hide\n",
        "! [ -e /content ] && pip install -Uqq fastbook\n",
        "import fastbook\n",
        "fastbook.setup_book()"
      ]
    },
    {
      "cell_type": "code",
      "execution_count": 57,
      "metadata": {
        "id": "iJ8nYc4Mp1Jn"
      },
      "outputs": [],
      "source": [
        "#hide\n",
        "from fastbook import *"
      ]
    },
    {
      "cell_type": "code",
      "execution_count": 58,
      "metadata": {
        "id": "BnJJbjFwq65M"
      },
      "outputs": [],
      "source": [
        "from fastai.vision.all import *\n",
        "path = untar_data(URLs.PASCAL_2007)\n",
        "\n",
        "# 파스칼 2007 데이터셋을 path 로 지정"
      ]
    },
    {
      "cell_type": "code",
      "execution_count": 59,
      "metadata": {
        "id": "lbCMMSM5roUa"
      },
      "outputs": [],
      "source": [
        "df = pd.read_csv(path/'train.csv')\n",
        "#df.head() # 상위 다섯 개의 행만 출력해줌"
      ]
    },
    {
      "cell_type": "markdown",
      "metadata": {
        "id": "GnuSmKGOsFo6"
      },
      "source": [
        "# Pandas\n",
        "\n",
        "테이블 데이터와 시계열 데이터를 분석하고 조작하는데 특화된 파이썬 라이브러리다.\n",
        "\n",
        "데이터프레임은 행과 열로 구성된 테이블을 표현하는 능력이 있는데, \\\n",
        "csv 뿐만 아니라 database table, python dictionary 도 전부 데이터프레임으로 \\\n",
        "표현이 가능하다.\n",
        "\n",
        "iloc(index location)으로 인덱싱도 가능하다."
      ]
    },
    {
      "cell_type": "code",
      "execution_count": 60,
      "metadata": {
        "colab": {
          "base_uri": "https://localhost:8080/"
        },
        "id": "IOU0ZcjKrxKk",
        "outputId": "9459bbb1-f6a6-45a9-efb2-674abef6acd3"
      },
      "outputs": [
        {
          "data": {
            "text/plain": [
              "0       000005.jpg\n",
              "1       000007.jpg\n",
              "2       000009.jpg\n",
              "3       000012.jpg\n",
              "4       000016.jpg\n",
              "           ...    \n",
              "5006    009954.jpg\n",
              "5007    009955.jpg\n",
              "5008    009958.jpg\n",
              "5009    009959.jpg\n",
              "5010    009961.jpg\n",
              "Name: fname, Length: 5011, dtype: object"
            ]
          },
          "execution_count": 60,
          "metadata": {},
          "output_type": "execute_result"
        }
      ],
      "source": [
        "df.iloc[:,0]\n",
        "# 1열인 파일 네임을 모든 행에 해당되게 인덱싱함"
      ]
    },
    {
      "cell_type": "code",
      "execution_count": 61,
      "metadata": {
        "colab": {
          "base_uri": "https://localhost:8080/"
        },
        "id": "g2qzDbuVsg9T",
        "outputId": "3cee1665-8923-4863-a4d5-7a20f3a91ba3"
      },
      "outputs": [
        {
          "data": {
            "text/plain": [
              "fname       000005.jpg\n",
              "labels           chair\n",
              "is_valid          True\n",
              "Name: 0, dtype: object"
            ]
          },
          "execution_count": 61,
          "metadata": {},
          "output_type": "execute_result"
        }
      ],
      "source": [
        "df.iloc[0, :]\n",
        "# 1행의 데이터를 모두 가져옴"
      ]
    },
    {
      "cell_type": "code",
      "execution_count": 62,
      "metadata": {
        "colab": {
          "base_uri": "https://localhost:8080/"
        },
        "id": "DNIW1rO1strb",
        "outputId": "e460bf95-214a-4d78-d1fc-feaa2de9cf49"
      },
      "outputs": [
        {
          "data": {
            "text/plain": [
              "0                chair\n",
              "1                  car\n",
              "2         horse person\n",
              "3                  car\n",
              "4              bicycle\n",
              "             ...      \n",
              "5006      horse person\n",
              "5007              boat\n",
              "5008    person bicycle\n",
              "5009               car\n",
              "5010               dog\n",
              "Name: labels, Length: 5011, dtype: object"
            ]
          },
          "execution_count": 62,
          "metadata": {},
          "output_type": "execute_result"
        }
      ],
      "source": [
        "df['labels'] # 열 이름으로 색인할 수 있다. = df.iloc[1]"
      ]
    },
    {
      "cell_type": "code",
      "execution_count": 63,
      "metadata": {
        "colab": {
          "base_uri": "https://localhost:8080/",
          "height": 175
        },
        "id": "2QHEPTqis03t",
        "outputId": "773ac4ce-6de8-412d-fa25-34ac3e83c89e"
      },
      "outputs": [
        {
          "data": {
            "text/html": [
              "\n",
              "  <div id=\"df-0ea93637-a9bb-429c-a0c1-818cf785bfb6\">\n",
              "    <div class=\"colab-df-container\">\n",
              "      <div>\n",
              "<style scoped>\n",
              "    .dataframe tbody tr th:only-of-type {\n",
              "        vertical-align: middle;\n",
              "    }\n",
              "\n",
              "    .dataframe tbody tr th {\n",
              "        vertical-align: top;\n",
              "    }\n",
              "\n",
              "    .dataframe thead th {\n",
              "        text-align: right;\n",
              "    }\n",
              "</style>\n",
              "<table border=\"1\" class=\"dataframe\">\n",
              "  <thead>\n",
              "    <tr style=\"text-align: right;\">\n",
              "      <th></th>\n",
              "      <th>a</th>\n",
              "    </tr>\n",
              "  </thead>\n",
              "  <tbody>\n",
              "    <tr>\n",
              "      <th>0</th>\n",
              "      <td>1</td>\n",
              "    </tr>\n",
              "    <tr>\n",
              "      <th>1</th>\n",
              "      <td>2</td>\n",
              "    </tr>\n",
              "    <tr>\n",
              "      <th>2</th>\n",
              "      <td>3</td>\n",
              "    </tr>\n",
              "    <tr>\n",
              "      <th>3</th>\n",
              "      <td>4</td>\n",
              "    </tr>\n",
              "  </tbody>\n",
              "</table>\n",
              "</div>\n",
              "      <button class=\"colab-df-convert\" onclick=\"convertToInteractive('df-0ea93637-a9bb-429c-a0c1-818cf785bfb6')\"\n",
              "              title=\"Convert this dataframe to an interactive table.\"\n",
              "              style=\"display:none;\">\n",
              "        \n",
              "  <svg xmlns=\"http://www.w3.org/2000/svg\" height=\"24px\"viewBox=\"0 0 24 24\"\n",
              "       width=\"24px\">\n",
              "    <path d=\"M0 0h24v24H0V0z\" fill=\"none\"/>\n",
              "    <path d=\"M18.56 5.44l.94 2.06.94-2.06 2.06-.94-2.06-.94-.94-2.06-.94 2.06-2.06.94zm-11 1L8.5 8.5l.94-2.06 2.06-.94-2.06-.94L8.5 2.5l-.94 2.06-2.06.94zm10 10l.94 2.06.94-2.06 2.06-.94-2.06-.94-.94-2.06-.94 2.06-2.06.94z\"/><path d=\"M17.41 7.96l-1.37-1.37c-.4-.4-.92-.59-1.43-.59-.52 0-1.04.2-1.43.59L10.3 9.45l-7.72 7.72c-.78.78-.78 2.05 0 2.83L4 21.41c.39.39.9.59 1.41.59.51 0 1.02-.2 1.41-.59l7.78-7.78 2.81-2.81c.8-.78.8-2.07 0-2.86zM5.41 20L4 18.59l7.72-7.72 1.47 1.35L5.41 20z\"/>\n",
              "  </svg>\n",
              "      </button>\n",
              "      \n",
              "  <style>\n",
              "    .colab-df-container {\n",
              "      display:flex;\n",
              "      flex-wrap:wrap;\n",
              "      gap: 12px;\n",
              "    }\n",
              "\n",
              "    .colab-df-convert {\n",
              "      background-color: #E8F0FE;\n",
              "      border: none;\n",
              "      border-radius: 50%;\n",
              "      cursor: pointer;\n",
              "      display: none;\n",
              "      fill: #1967D2;\n",
              "      height: 32px;\n",
              "      padding: 0 0 0 0;\n",
              "      width: 32px;\n",
              "    }\n",
              "\n",
              "    .colab-df-convert:hover {\n",
              "      background-color: #E2EBFA;\n",
              "      box-shadow: 0px 1px 2px rgba(60, 64, 67, 0.3), 0px 1px 3px 1px rgba(60, 64, 67, 0.15);\n",
              "      fill: #174EA6;\n",
              "    }\n",
              "\n",
              "    [theme=dark] .colab-df-convert {\n",
              "      background-color: #3B4455;\n",
              "      fill: #D2E3FC;\n",
              "    }\n",
              "\n",
              "    [theme=dark] .colab-df-convert:hover {\n",
              "      background-color: #434B5C;\n",
              "      box-shadow: 0px 1px 3px 1px rgba(0, 0, 0, 0.15);\n",
              "      filter: drop-shadow(0px 1px 2px rgba(0, 0, 0, 0.3));\n",
              "      fill: #FFFFFF;\n",
              "    }\n",
              "  </style>\n",
              "\n",
              "      <script>\n",
              "        const buttonEl =\n",
              "          document.querySelector('#df-0ea93637-a9bb-429c-a0c1-818cf785bfb6 button.colab-df-convert');\n",
              "        buttonEl.style.display =\n",
              "          google.colab.kernel.accessAllowed ? 'block' : 'none';\n",
              "\n",
              "        async function convertToInteractive(key) {\n",
              "          const element = document.querySelector('#df-0ea93637-a9bb-429c-a0c1-818cf785bfb6');\n",
              "          const dataTable =\n",
              "            await google.colab.kernel.invokeFunction('convertToInteractive',\n",
              "                                                     [key], {});\n",
              "          if (!dataTable) return;\n",
              "\n",
              "          const docLinkHtml = 'Like what you see? Visit the ' +\n",
              "            '<a target=\"_blank\" href=https://colab.research.google.com/notebooks/data_table.ipynb>data table notebook</a>'\n",
              "            + ' to learn more about interactive tables.';\n",
              "          element.innerHTML = '';\n",
              "          dataTable['output_type'] = 'display_data';\n",
              "          await google.colab.output.renderOutput(dataTable, element);\n",
              "          const docLink = document.createElement('div');\n",
              "          docLink.innerHTML = docLinkHtml;\n",
              "          element.appendChild(docLink);\n",
              "        }\n",
              "      </script>\n",
              "    </div>\n",
              "  </div>\n",
              "  "
            ],
            "text/plain": [
              "   a\n",
              "0  1\n",
              "1  2\n",
              "2  3\n",
              "3  4"
            ]
          },
          "execution_count": 63,
          "metadata": {},
          "output_type": "execute_result"
        }
      ],
      "source": [
        "# 새로운 열을 만들고 계산도 가능하다.\n",
        "\n",
        "df1 = pd.DataFrame()\n",
        "df1['a'] = [1,2,3,4]\n",
        "df1"
      ]
    },
    {
      "cell_type": "code",
      "execution_count": 64,
      "metadata": {
        "colab": {
          "base_uri": "https://localhost:8080/"
        },
        "id": "k_nye-7FtCKn",
        "outputId": "b738e4b0-b8df-4ea5-8599-eeae3ec1fee8"
      },
      "outputs": [
        {
          "data": {
            "text/plain": [
              "0    24\n",
              "1    43\n",
              "2    36\n",
              "3     6\n",
              "dtype: int64"
            ]
          },
          "execution_count": 64,
          "metadata": {},
          "output_type": "execute_result"
        }
      ],
      "source": [
        "df1['b'] = [23,41,33,2]\n",
        "df1['a'] + df1['b']"
      ]
    },
    {
      "cell_type": "markdown",
      "metadata": {
        "id": "AjMyzWi7t774"
      },
      "source": [
        "# Setup Datablock\n",
        "\n",
        "단계적으로 구축해야 한다.\n",
        "\n",
        "* Dataset \\\n",
        " : 단일 데이터를 표현하는 독립변수 및 종속변수의 튜플을 반환한다.\n",
        "* DataLoader \\\n",
        " : 미니배치 스트림을 제공하는 반복자로, 각 미니배치는 여러 독립변수와 종속변수에 \\ \n",
        " 대한 튜플로 구성된다.\n",
        "\n",
        "뒤에 s 가 붙으면 학습용, 검증용 Dataset or DataLoader가 포함된 반복자 및 객체다"
      ]
    },
    {
      "cell_type": "code",
      "execution_count": 65,
      "metadata": {
        "id": "cq-g5qZovKI9"
      },
      "outputs": [],
      "source": [
        "# 빈 영역의 데이터블록을 생성 클래스의 형식이다.\n",
        "dblock = DataBlock()"
      ]
    },
    {
      "cell_type": "code",
      "execution_count": 66,
      "metadata": {
        "colab": {
          "base_uri": "https://localhost:8080/"
        },
        "id": "Zrzu5FpjvZNz",
        "outputId": "5c5c0c46-3d76-4e75-ee52-94aecdf20d36"
      },
      "outputs": [
        {
          "data": {
            "text/plain": [
              "(fname       005416.jpg\n",
              " labels             dog\n",
              " is_valid          True\n",
              " Name: 2718, dtype: object, fname       005416.jpg\n",
              " labels             dog\n",
              " is_valid          True\n",
              " Name: 2718, dtype: object)"
            ]
          },
          "execution_count": 66,
          "metadata": {},
          "output_type": "execute_result"
        }
      ],
      "source": [
        "# dblock에 데이터셋을 넘기기\n",
        "dsets = dblock.datasets(df) # 모든 데이터를 통째로 넘겨준다.\n",
        "\n",
        "dsets.valid[0] # 똑같은 객체를 두번 반환한다.\n",
        "# 기본적으로 데이터블럭은 입력과 타깃 두 요소가 온다고 가정하기 때문이다."
      ]
    },
    {
      "cell_type": "code",
      "execution_count": 67,
      "metadata": {
        "colab": {
          "base_uri": "https://localhost:8080/"
        },
        "id": "lWvIGVrqwmSz",
        "outputId": "2d92ddfe-f00e-4d1b-b1f9-883091c26a1c"
      },
      "outputs": [
        {
          "data": {
            "text/plain": [
              "('009116.jpg', 'car')"
            ]
          },
          "execution_count": 67,
          "metadata": {},
          "output_type": "execute_result"
        }
      ],
      "source": [
        "dblock = DataBlock(get_x= lambda r : r['fname'], get_y= lambda r : r['labels']) # 여기서 r은 데이터셋의 인덱스로 도출된 데이터를 의미한다.\n",
        "\n",
        "dsets = dblock.datasets(df)\n",
        "dsets.train[0] # ('002549.jpg', 'tvmonitor')"
      ]
    },
    {
      "cell_type": "code",
      "execution_count": 68,
      "metadata": {
        "colab": {
          "base_uri": "https://localhost:8080/"
        },
        "id": "DId7OeFmy0I7",
        "outputId": "22122622-8798-4a76-9be7-2bb3f16e0e59"
      },
      "outputs": [
        {
          "data": {
            "text/plain": [
              "(Path('/root/.fastai/data/pascal_2007/train/009091.jpg'), ['person'])"
            ]
          },
          "execution_count": 68,
          "metadata": {},
          "output_type": "execute_result"
        }
      ],
      "source": [
        "# 람다 말고 그냥 함수 쓰자..\n",
        "\n",
        "def get_x(r): return path/'train'/r['fname'] # r이 진짜 뭐지?\n",
        "def get_y(r): return r['labels'].split(' ') # 공백을 기준으로 나눠서 리스트로 반환\n",
        "dblock = DataBlock(get_x= get_x, get_y = get_y)\n",
        "dsets = dblock.datasets(df)\n",
        "dsets.train[0]"
      ]
    },
    {
      "cell_type": "code",
      "execution_count": 69,
      "metadata": {
        "colab": {
          "base_uri": "https://localhost:8080/"
        },
        "id": "maoy8MFZy7TY",
        "outputId": "010487e5-b7fe-41bc-cb78-386a40aa40c0"
      },
      "outputs": [
        {
          "data": {
            "text/plain": [
              "(PILImage mode=RGB size=431x500,\n",
              " TensorMultiCategory([0., 0., 0., 1., 0., 0., 0., 0., 0., 0., 0., 0., 0., 0., 0., 0., 0., 0., 0., 0.]))"
            ]
          },
          "execution_count": 69,
          "metadata": {},
          "output_type": "execute_result"
        }
      ],
      "source": [
        "# 이미지를 가져올 땐 ImageBlock을 사용해도 좋지만 CategoryBlock은 단일 정수만을 반환하기 때문에 여러 범주에 관한 다른 카테고리 테이블이 있어야 한다.\n",
        "# 그게 바로 MultiCategoryBlock이다.\n",
        "\n",
        "dblock = DataBlock(blocks = (ImageBlock, MultiCategoryBlock),\n",
        "                   get_x=get_x, get_y = get_y)\n",
        "dsets = dblock.datasets(df)\n",
        "dsets.train[0]\n",
        "\n",
        "# (PILImage mode=RGB size=500x333,\n",
        "# TensorMultiCategory([0., 0., 1., 0., 0., 0., 0., 0., 0., 0., 0., 0., 0., 0., 0., 0., 0., 0., 0., 0.]))\n",
        "\n",
        "# blocks에 맞게 적절하게 반환이 되었고 멀티카테고리는 0, 1의 숫자로 나열되는데 이는 \n",
        "# 벡터가 나열되는데 그 벡터 중 데이터가 해당되는 카테고리의 값을 1로 반환해준다.\n",
        "# 위와같은 표현방식을 one-hot encoding 이라 한다."
      ]
    },
    {
      "cell_type": "code",
      "execution_count": 70,
      "metadata": {
        "colab": {
          "base_uri": "https://localhost:8080/"
        },
        "id": "fEVINCio1aSI",
        "outputId": "c5c92257-4c05-4326-b924-654647226253"
      },
      "outputs": [
        {
          "data": {
            "text/plain": [
              "['aeroplane', 'bicycle', 'bird', 'boat', 'bottle', 'bus', 'car', 'cat', 'chair', 'cow', 'diningtable', 'dog', 'horse', 'motorbike', 'person', 'pottedplant', 'sheep', 'sofa', 'train', 'tvmonitor']"
            ]
          },
          "execution_count": 70,
          "metadata": {},
          "output_type": "execute_result"
        }
      ],
      "source": [
        "dsets.train[0][1] == 1. # False , False , True , False..\n",
        "idxs = torch.where(dsets.train[0][1] == 1.)[0] # 1과 일치한 값을 반환하는데 여러개면 튜플을 반환함\n",
        "idxs # TensorMultiCategory([2]) 벡터 내의 인덱스\n",
        "\n",
        "dsets.train.vocab[idxs] # ['bird']\n",
        "dsets.train.vocab"
      ]
    },
    {
      "cell_type": "code",
      "execution_count": 71,
      "metadata": {
        "id": "R6KlAi0Y2QQ7"
      },
      "outputs": [],
      "source": [
        "def splitter(df):\n",
        "  train = df.index[~df['is_valid']].tolist()"
      ]
    },
    {
      "cell_type": "code",
      "execution_count": 72,
      "metadata": {
        "colab": {
          "base_uri": "https://localhost:8080/"
        },
        "id": "Mzi85s5f2QOD",
        "outputId": "326af217-093b-494d-f0cd-2d0ab9bc0f07"
      },
      "outputs": [
        {
          "data": {
            "text/plain": [
              "(Int64Index([   3,    5,    9,   11,   13,   14,   15,   16,   17,   20,\n",
              "             ...\n",
              "             4991, 4993, 4996, 4998, 4999, 5000, 5001, 5004, 5009, 5010],\n",
              "            dtype='int64', length=2501), 0       False\n",
              " 1       False\n",
              " 2       False\n",
              " 3        True\n",
              " 4       False\n",
              "         ...  \n",
              " 5006    False\n",
              " 5007    False\n",
              " 5008    False\n",
              " 5009     True\n",
              " 5010     True\n",
              " Name: is_valid, Length: 5011, dtype: bool)"
            ]
          },
          "execution_count": 72,
          "metadata": {},
          "output_type": "execute_result"
        }
      ],
      "source": [
        "train = df.index[~df['is_valid']]\n",
        "~df['is_valid'] # 유효하면 True , 아니면 False 그러나 ~ 는 결과 역전임\n",
        "\n",
        "train , ~df['is_valid']\n",
        "\n",
        "# True만 가진 값들의 인덱스를 뽑아낸다. 총 데이터 셋에서 ~df['is_valid'] 가 True 인 데이터셋은 2501개 "
      ]
    },
    {
      "cell_type": "code",
      "execution_count": 73,
      "metadata": {
        "colab": {
          "base_uri": "https://localhost:8080/"
        },
        "id": "hy7NN6-e2QLU",
        "outputId": "df379c4e-419f-4448-e460-68c03369d45f"
      },
      "outputs": [
        {
          "data": {
            "text/plain": [
              "(PILImage mode=RGB size=500x333,\n",
              " TensorMultiCategory([0., 0., 0., 0., 0., 0., 1., 0., 0., 0., 0., 0., 0., 0., 0., 0., 0., 0., 0., 0.]))"
            ]
          },
          "execution_count": 73,
          "metadata": {},
          "output_type": "execute_result"
        }
      ],
      "source": [
        "def splitter(df):\n",
        "  train = df.index[~df['is_valid']].tolist() # 인덱스를 모두 리스트로 전환함\n",
        "  valid = df.index[df['is_valid']].tolist()\n",
        "  return train, valid\n",
        "\n",
        "dblock = DataBlock(blocks = (ImageBlock, MultiCategoryBlock),\n",
        "                   splitter = splitter,\n",
        "                   get_x = get_x,\n",
        "                   get_y = get_y)\n",
        "\n",
        "dsets = dblock.datasets(df)\n",
        "dsets.train[0]"
      ]
    },
    {
      "cell_type": "code",
      "execution_count": 74,
      "metadata": {
        "id": "M4Rh6uXc2QIV"
      },
      "outputs": [],
      "source": [
        "# DataLoaders를 통해 모든 데이터의 크기 통일화\n",
        "\n",
        "dblock = DataBlock(blocks = (ImageBlock, MultiCategoryBlock),\n",
        "                   splitter = splitter,\n",
        "                   get_x = get_x,\n",
        "                   get_y = get_y,\n",
        "                   item_tfms = RandomResizedCrop(128, min_scale = 0.35))\n",
        "dls = dblock.dataloaders(df)"
      ]
    },
    {
      "cell_type": "code",
      "execution_count": 75,
      "metadata": {
        "colab": {
          "base_uri": "https://localhost:8080/",
          "height": 196
        },
        "id": "hPJ95BDA2QFu",
        "outputId": "bce728dd-a58e-4e9c-bf09-08fc42ebc132"
      },
      "outputs": [
        {
          "data": {
            "image/png": "[encoded data removed]",
            "text/plain": [
              "<Figure size 648x216 with 3 Axes>"
            ]
          },
          "metadata": {
            "needs_background": "light"
          },
          "output_type": "display_data"
        }
      ],
      "source": [
        "dls.show_batch(nrows=1, ncols=3)"
      ]
    },
    {
      "cell_type": "code",
      "execution_count": 76,
      "metadata": {
        "colab": {
          "base_uri": "https://localhost:8080/"
        },
        "id": "9JSDBY3J2QDA",
        "outputId": "2c9b0e74-cc09-48b3-b17e-a9d08142f7e2"
      },
      "outputs": [
        {
          "name": "stdout",
          "output_type": "stream",
          "text": [
            "Setting-up type transforms pipelines\n",
            "Collecting items from            fname          labels  is_valid\n",
            "0     000005.jpg           chair      True\n",
            "1     000007.jpg             car      True\n",
            "2     000009.jpg    horse person      True\n",
            "3     000012.jpg             car     False\n",
            "4     000016.jpg         bicycle      True\n",
            "...          ...             ...       ...\n",
            "5006  009954.jpg    horse person      True\n",
            "5007  009955.jpg            boat      True\n",
            "5008  009958.jpg  person bicycle      True\n",
            "5009  009959.jpg             car     False\n",
            "5010  009961.jpg             dog     False\n",
            "\n",
            "[5011 rows x 3 columns]\n",
            "Found 5011 items\n",
            "2 datasets of sizes 2501,2510\n",
            "Setting up Pipeline: get_x -> PILBase.create\n",
            "Setting up Pipeline: get_y -> MultiCategorize -- {'vocab': None, 'sort': True, 'add_na': False} -> OneHotEncode -- {'c': None}\n",
            "\n",
            "Building one sample\n",
            "  Pipeline: get_x -> PILBase.create\n",
            "    starting from\n",
            "      fname       000012.jpg\n",
            "labels             car\n",
            "is_valid         False\n",
            "Name: 3, dtype: object\n",
            "    applying get_x gives\n",
            "      /root/.fastai/data/pascal_2007/train/000012.jpg\n",
            "    applying PILBase.create gives\n",
            "      PILImage mode=RGB size=500x333\n",
            "  Pipeline: get_y -> MultiCategorize -- {'vocab': None, 'sort': True, 'add_na': False} -> OneHotEncode -- {'c': None}\n",
            "    starting from\n",
            "      fname       000012.jpg\n",
            "labels             car\n",
            "is_valid         False\n",
            "Name: 3, dtype: object\n",
            "    applying get_y gives\n",
            "      [car]\n",
            "    applying MultiCategorize -- {'vocab': None, 'sort': True, 'add_na': False} gives\n",
            "      TensorMultiCategory([6])\n",
            "    applying OneHotEncode -- {'c': None} gives\n",
            "      TensorMultiCategory([0., 0., 0., 0., 0., 0., 1., 0., 0., 0., 0., 0., 0., 0., 0., 0., 0., 0., 0., 0.])\n",
            "\n",
            "Final sample: (PILImage mode=RGB size=500x333, TensorMultiCategory([0., 0., 0., 0., 0., 0., 1., 0., 0., 0., 0., 0., 0., 0., 0., 0., 0., 0., 0., 0.]))\n",
            "\n",
            "\n",
            "Collecting items from            fname          labels  is_valid\n",
            "0     000005.jpg           chair      True\n",
            "1     000007.jpg             car      True\n",
            "2     000009.jpg    horse person      True\n",
            "3     000012.jpg             car     False\n",
            "4     000016.jpg         bicycle      True\n",
            "...          ...             ...       ...\n",
            "5006  009954.jpg    horse person      True\n",
            "5007  009955.jpg            boat      True\n",
            "5008  009958.jpg  person bicycle      True\n",
            "5009  009959.jpg             car     False\n",
            "5010  009961.jpg             dog     False\n",
            "\n",
            "[5011 rows x 3 columns]\n",
            "Found 5011 items\n",
            "2 datasets of sizes 2501,2510\n",
            "Setting up Pipeline: get_x -> PILBase.create\n",
            "Setting up Pipeline: get_y -> MultiCategorize -- {'vocab': None, 'sort': True, 'add_na': False} -> OneHotEncode -- {'c': None}\n",
            "Setting up after_item: Pipeline: RandomResizedCrop -- {'size': (128, 128), 'min_scale': 0.35, 'ratio': (0.75, 1.3333333333333333), 'resamples': (2, 0), 'val_xtra': 0.14, 'max_scale': 1.0, 'p': 1.0} -> ToTensor\n",
            "Setting up before_batch: Pipeline: \n",
            "Setting up after_batch: Pipeline: IntToFloatTensor -- {'div': 255.0, 'div_mask': 1}\n",
            "\n",
            "Building one batch\n",
            "Applying item_tfms to the first sample:\n",
            "  Pipeline: RandomResizedCrop -- {'size': (128, 128), 'min_scale': 0.35, 'ratio': (0.75, 1.3333333333333333), 'resamples': (2, 0), 'val_xtra': 0.14, 'max_scale': 1.0, 'p': 1.0} -> ToTensor\n",
            "    starting from\n",
            "      (PILImage mode=RGB size=500x333, TensorMultiCategory([0., 0., 0., 0., 0., 0., 1., 0., 0., 0., 0., 0., 0., 0., 0., 0., 0., 0., 0., 0.]))\n",
            "    applying RandomResizedCrop -- {'size': (128, 128), 'min_scale': 0.35, 'ratio': (0.75, 1.3333333333333333), 'resamples': (2, 0), 'val_xtra': 0.14, 'max_scale': 1.0, 'p': 1.0} gives\n",
            "      (PILImage mode=RGB size=128x128, TensorMultiCategory([0., 0., 0., 0., 0., 0., 1., 0., 0., 0., 0., 0., 0., 0., 0., 0., 0., 0., 0., 0.]))\n",
            "    applying ToTensor gives\n",
            "      (TensorImage of size 3x128x128, TensorMultiCategory([0., 0., 0., 0., 0., 0., 1., 0., 0., 0., 0., 0., 0., 0., 0., 0., 0., 0., 0., 0.]))\n",
            "\n",
            "Adding the next 3 samples\n",
            "\n",
            "No before_batch transform to apply\n",
            "\n",
            "Collating items in a batch\n",
            "\n",
            "Applying batch_tfms to the batch built\n",
            "  Pipeline: IntToFloatTensor -- {'div': 255.0, 'div_mask': 1}\n",
            "    starting from\n",
            "      (TensorImage of size 4x3x128x128, TensorMultiCategory of size 4x20)\n",
            "    applying IntToFloatTensor -- {'div': 255.0, 'div_mask': 1} gives\n",
            "      (TensorImage of size 4x3x128x128, TensorMultiCategory of size 4x20)\n"
          ]
        }
      ],
      "source": [
        "dblock.summary(df)"
      ]
    },
    {
      "cell_type": "markdown",
      "metadata": {
        "id": "lkoZ_BAZvcgY"
      },
      "source": [
        "# Binary cross entropy"
      ]
    },
    {
      "cell_type": "code",
      "execution_count": 77,
      "metadata": {
        "colab": {
          "base_uri": "https://localhost:8080/"
        },
        "id": "ds77AeBw6c_O",
        "outputId": "5b8c3875-38cb-45d3-e8f8-87f51d5e00dd"
      },
      "outputs": [
        {
          "name": "stderr",
          "output_type": "stream",
          "text": [
            "/usr/local/lib/python3.7/dist-packages/torchvision/models/_utils.py:209: UserWarning: The parameter 'pretrained' is deprecated since 0.13 and will be removed in 0.15, please use 'weights' instead.\n",
            "  f\"The parameter '{pretrained_param}' is deprecated since 0.13 and will be removed in 0.15, \"\n",
            "/usr/local/lib/python3.7/dist-packages/torchvision/models/_utils.py:223: UserWarning: Arguments other than a weight enum or `None` for 'weights' are deprecated since 0.13 and will be removed in 0.15. The current behavior is equivalent to passing `weights=ResNet18_Weights.IMAGENET1K_V1`. You can also use `weights=ResNet18_Weights.DEFAULT` to get the most up-to-date weights.\n",
            "  warnings.warn(msg)\n"
          ]
        }
      ],
      "source": [
        "learn = vision_learner(dls, resnet18)"
      ]
    },
    {
      "cell_type": "code",
      "execution_count": 78,
      "metadata": {
        "colab": {
          "base_uri": "https://localhost:8080/"
        },
        "id": "6KOFG67K6c8W",
        "outputId": "2ca29e47-fdea-47fd-f8ad-963dda97eb19"
      },
      "outputs": [
        {
          "data": {
            "text/plain": [
              "torch.Size([64, 20])"
            ]
          },
          "execution_count": 78,
          "metadata": {},
          "output_type": "execute_result"
        }
      ],
      "source": [
        "x,y = to_cpu(dls.train.one_batch())\n",
        "activs = learn.model(x)\n",
        "activs.shape\n",
        "\n",
        "# x는 독립변수 y는 종속변수(레이블) 이다.\n",
        "# 행은 각 이미지 텐서고, 열은 카테고리의 vocab 갯수다."
      ]
    },
    {
      "cell_type": "code",
      "execution_count": 79,
      "metadata": {
        "colab": {
          "base_uri": "https://localhost:8080/"
        },
        "id": "_F0Z04qtv4Ib",
        "outputId": "28357dcd-658f-479e-e6d3-15afcf652aa3"
      },
      "outputs": [
        {
          "data": {
            "text/plain": [
              "TensorBase([-4.0412, -1.3334, -2.3237, -2.9404,  1.3875,  1.4053,  0.6759, -2.0999, -1.5656, -1.9857, -1.2084, -1.9695, -0.2615,  2.1374, -0.8206,  1.3310, -1.9808,  0.1913,  0.0524,  3.0180],\n",
              "           grad_fn=<AliasBackward0>)"
            ]
          },
          "execution_count": 79,
          "metadata": {},
          "output_type": "execute_result"
        }
      ],
      "source": [
        "activs[0] # 첫 행 그러니까 배치 안에 들어있는 이미지 텐서 하나에서 모델을 통해 예측한 vocab의 확률 "
      ]
    },
    {
      "cell_type": "code",
      "execution_count": 80,
      "metadata": {
        "id": "H2NpJwjl6c54"
      },
      "outputs": [],
      "source": [
        "def binary_cross_entropy(inputs, targets):\n",
        "  inputs = inputs.sigmoid() # 위의 확률 값을 시그모이드로 조정함\n",
        "  return -torch.where(targets==1, 1-inputs, inputs).log().mean() # 값을 선별하고, 만약 같다면 1에서 빼어 내 0과 가까운 손실함수를 구성하고, 로그를 씌운 뒤, 각 값에 대한 평균값을 구한다.\n",
        "  # 그리고 마이너스는 뭐지? 지수로그 쓰면 1이하의 값은 모두 음수가 되기 때문에 마이너스를 붙여야 한다.\n",
        "\n",
        "# softmax는 모든 확률의 합이 1이기 때문에 다중 레이블 문제에서는 사용되기 어려움\n",
        "# nll_lose도 단일 레이블에 대응하는 값 하나만 반환하기 때문에 의미없는 손실이다. "
      ]
    },
    {
      "cell_type": "code",
      "execution_count": 81,
      "metadata": {
        "colab": {
          "base_uri": "https://localhost:8080/"
        },
        "id": "4_5JOr7R6c2x",
        "outputId": "f00b6d64-63a3-46a4-e51f-9f6210b07a38"
      },
      "outputs": [
        {
          "data": {
            "text/plain": [
              "TensorMultiCategory(1.0780, grad_fn=<AliasBackward0>)"
            ]
          },
          "execution_count": 81,
          "metadata": {},
          "output_type": "execute_result"
        }
      ],
      "source": [
        "# 기존에 이진 교차 엔트로피 함수가 있으나 (nn.BCELoss, F.binary_cross_entropy), 초기에 시그모이드를 적용하지 않음\n",
        "# 시그모이드를 적용하는 F.binary_cross_entropy_with_logits 또는 nn.BCEWithLogitLoss를 사용한다.\n",
        "\n",
        "loss_func = nn.BCEWithLogitsLoss()\n",
        "loss = loss_func(activs, y)\n",
        "# TensorMultiCategory(1.0164, grad_fn=<AliasBackward0>)\n",
        "\n",
        "loss1 = binary_cross_entropy(activs, y)\n",
        "# TensorMultiCategory(1.0888, grad_fn=<AliasBackward0>) # 마이너스 없애고\n",
        "loss1\n",
        "\n",
        "# 자연로그 함수라서 1 이하의 값은 전부 음수로 되니까 마이너스를 붙인 게 아닐까?\n",
        "\n",
        "\n",
        "# 따로 지정할 필요가 없는 게 자동으로 fastai는 손실함수를 자동으로 찾아내서 사용한다."
      ]
    },
    {
      "cell_type": "code",
      "execution_count": 82,
      "metadata": {
        "id": "ShHHCLho6c0C"
      },
      "outputs": [],
      "source": [
        "# argmax는 가장 높은 출력의 활성 단 하나만 반환한다.\n",
        "# 예를 들어 다중 레이블이 존재하는 사진에서 세 개의 높은 값을 지닌 활성을 가졌다면\n",
        "# [0.4, 0.89, 0.96, 0.75, 0.31] 여기서 높은 3개의 index 1,2,3 값 중 단 하나 0.96만 반환한다.\n",
        "\n",
        "# 그래서 다중 레이블의 출력 레이블은 0~1에서 임계점threshold를 잡아줘야 한다. 임계점을 넘으면 1, 그렇지 않으면 0을 반환한다.\n",
        "\n",
        "def accuracy_multi(inp, targ, thresh=0.5, sigmoid=True):\n",
        "  \"'input'과 'targ'의 크기가 같을 때 정확도를 계산한다.\"\n",
        "  if sigmoid: inp = inp.sigmoid() # 인풋의 값을 시그모이드로 전환\n",
        "  return ((inp > thresh) == targ.bool()).float().mean() # 임계점을 넘으면 True로 반환하고 타겟도 역시 불리언으로 바꿔 동일하면 True, 아니면 False,\n",
        "  # 다시 부동소수점으로 바꾸고 평균을 구한다"
      ]
    },
    {
      "cell_type": "markdown",
      "metadata": {
        "id": "zggNSQ-h3q41"
      },
      "source": [
        "# partial\n",
        "\n",
        "기존의 함수 기본 값에서 조정하여 고정하도록 하는 새로운 함수를 생성할 때 사용\n",
        "functools에 내장된 함수다"
      ]
    },
    {
      "cell_type": "code",
      "execution_count": 83,
      "metadata": {
        "colab": {
          "base_uri": "https://localhost:8080/",
          "height": 36
        },
        "id": "zPwHmEyH6cxS",
        "outputId": "f6b4170f-37d1-4366-c73c-30e6d8548127"
      },
      "outputs": [
        {
          "data": {
            "application/vnd.google.colaboratory.intrinsic+json": {
              "type": "string"
            },
            "text/plain": [
              "'beom, bye'"
            ]
          },
          "execution_count": 83,
          "metadata": {},
          "output_type": "execute_result"
        }
      ],
      "source": [
        "def say_hello(name, msg='hello'): return f\"{name}, {msg}\"\n",
        "say_hello('beom')\n",
        "# 'beom, hello' \n",
        "\n",
        "f = partial(say_hello, msg='bye')\n",
        "f('beom')"
      ]
    },
    {
      "cell_type": "code",
      "execution_count": 84,
      "metadata": {
        "colab": {
          "base_uri": "https://localhost:8080/",
          "height": 393
        },
        "id": "5F6D1Ih66cuz",
        "outputId": "c994e726-acb6-4a3d-aad8-f65d1b44311f"
      },
      "outputs": [
        {
          "name": "stderr",
          "output_type": "stream",
          "text": [
            "/usr/local/lib/python3.7/dist-packages/torchvision/models/_utils.py:209: UserWarning: The parameter 'pretrained' is deprecated since 0.13 and will be removed in 0.15, please use 'weights' instead.\n",
            "  f\"The parameter '{pretrained_param}' is deprecated since 0.13 and will be removed in 0.15, \"\n",
            "/usr/local/lib/python3.7/dist-packages/torchvision/models/_utils.py:223: UserWarning: Arguments other than a weight enum or `None` for 'weights' are deprecated since 0.13 and will be removed in 0.15. The current behavior is equivalent to passing `weights=ResNet50_Weights.IMAGENET1K_V1`. You can also use `weights=ResNet50_Weights.DEFAULT` to get the most up-to-date weights.\n",
            "  warnings.warn(msg)\n"
          ]
        },
        {
          "data": {
            "text/html": [
              "\n",
              "<style>\n",
              "    /* Turns off some styling */\n",
              "    progress {\n",
              "        /* gets rid of default border in Firefox and Opera. */\n",
              "        border: none;\n",
              "        /* Needs to be in here for Safari polyfill so background images work as expected. */\n",
              "        background-size: auto;\n",
              "    }\n",
              "    progress:not([value]), progress:not([value])::-webkit-progress-bar {\n",
              "        background: repeating-linear-gradient(45deg, #7e7e7e, #7e7e7e 10px, #5c5c5c 10px, #5c5c5c 20px);\n",
              "    }\n",
              "    .progress-bar-interrupted, .progress-bar-interrupted::-webkit-progress-bar {\n",
              "        background: #F44336;\n",
              "    }\n",
              "</style>\n"
            ],
            "text/plain": [
              "<IPython.core.display.HTML object>"
            ]
          },
          "metadata": {},
          "output_type": "display_data"
        },
        {
          "data": {
            "text/html": [
              "<table border=\"1\" class=\"dataframe\">\n",
              "  <thead>\n",
              "    <tr style=\"text-align: left;\">\n",
              "      <th>epoch</th>\n",
              "      <th>train_loss</th>\n",
              "      <th>valid_loss</th>\n",
              "      <th>accuracy_multi</th>\n",
              "      <th>time</th>\n",
              "    </tr>\n",
              "  </thead>\n",
              "  <tbody>\n",
              "    <tr>\n",
              "      <td>0</td>\n",
              "      <td>0.940352</td>\n",
              "      <td>0.689280</td>\n",
              "      <td>0.230398</td>\n",
              "      <td>00:41</td>\n",
              "    </tr>\n",
              "    <tr>\n",
              "      <td>1</td>\n",
              "      <td>0.821160</td>\n",
              "      <td>0.558126</td>\n",
              "      <td>0.289900</td>\n",
              "      <td>00:29</td>\n",
              "    </tr>\n",
              "    <tr>\n",
              "      <td>2</td>\n",
              "      <td>0.603466</td>\n",
              "      <td>0.202794</td>\n",
              "      <td>0.820518</td>\n",
              "      <td>00:29</td>\n",
              "    </tr>\n",
              "    <tr>\n",
              "      <td>3</td>\n",
              "      <td>0.360673</td>\n",
              "      <td>0.122396</td>\n",
              "      <td>0.942430</td>\n",
              "      <td>00:33</td>\n",
              "    </tr>\n",
              "  </tbody>\n",
              "</table>"
            ],
            "text/plain": [
              "<IPython.core.display.HTML object>"
            ]
          },
          "metadata": {},
          "output_type": "display_data"
        },
        {
          "data": {
            "text/html": [
              "\n",
              "<style>\n",
              "    /* Turns off some styling */\n",
              "    progress {\n",
              "        /* gets rid of default border in Firefox and Opera. */\n",
              "        border: none;\n",
              "        /* Needs to be in here for Safari polyfill so background images work as expected. */\n",
              "        background-size: auto;\n",
              "    }\n",
              "    progress:not([value]), progress:not([value])::-webkit-progress-bar {\n",
              "        background: repeating-linear-gradient(45deg, #7e7e7e, #7e7e7e 10px, #5c5c5c 10px, #5c5c5c 20px);\n",
              "    }\n",
              "    .progress-bar-interrupted, .progress-bar-interrupted::-webkit-progress-bar {\n",
              "        background: #F44336;\n",
              "    }\n",
              "</style>\n"
            ],
            "text/plain": [
              "<IPython.core.display.HTML object>"
            ]
          },
          "metadata": {},
          "output_type": "display_data"
        },
        {
          "data": {
            "text/html": [
              "<table border=\"1\" class=\"dataframe\">\n",
              "  <thead>\n",
              "    <tr style=\"text-align: left;\">\n",
              "      <th>epoch</th>\n",
              "      <th>train_loss</th>\n",
              "      <th>valid_loss</th>\n",
              "      <th>accuracy_multi</th>\n",
              "      <th>time</th>\n",
              "    </tr>\n",
              "  </thead>\n",
              "  <tbody>\n",
              "    <tr>\n",
              "      <td>0</td>\n",
              "      <td>0.133705</td>\n",
              "      <td>0.114956</td>\n",
              "      <td>0.943526</td>\n",
              "      <td>00:30</td>\n",
              "    </tr>\n",
              "    <tr>\n",
              "      <td>1</td>\n",
              "      <td>0.117556</td>\n",
              "      <td>0.107993</td>\n",
              "      <td>0.949582</td>\n",
              "      <td>00:30</td>\n",
              "    </tr>\n",
              "    <tr>\n",
              "      <td>2</td>\n",
              "      <td>0.097555</td>\n",
              "      <td>0.102988</td>\n",
              "      <td>0.952829</td>\n",
              "      <td>00:32</td>\n",
              "    </tr>\n",
              "  </tbody>\n",
              "</table>"
            ],
            "text/plain": [
              "<IPython.core.display.HTML object>"
            ]
          },
          "metadata": {},
          "output_type": "display_data"
        }
      ],
      "source": [
        "learn = vision_learner(dls, resnet50, metrics=partial(accuracy_multi, thresh=0.2))\n",
        "learn.fine_tune(3, base_lr = 3e-3, freeze_epochs=4)"
      ]
    },
    {
      "cell_type": "code",
      "execution_count": 85,
      "metadata": {
        "colab": {
          "base_uri": "https://localhost:8080/",
          "height": 35
        },
        "id": "BQ-LatUx6cr8",
        "outputId": "aa79dea8-13c4-4b5b-a4e0-d97fd6bc6273"
      },
      "outputs": [
        {
          "data": {
            "text/html": [
              "\n",
              "<style>\n",
              "    /* Turns off some styling */\n",
              "    progress {\n",
              "        /* gets rid of default border in Firefox and Opera. */\n",
              "        border: none;\n",
              "        /* Needs to be in here for Safari polyfill so background images work as expected. */\n",
              "        background-size: auto;\n",
              "    }\n",
              "    progress:not([value]), progress:not([value])::-webkit-progress-bar {\n",
              "        background: repeating-linear-gradient(45deg, #7e7e7e, #7e7e7e 10px, #5c5c5c 10px, #5c5c5c 20px);\n",
              "    }\n",
              "    .progress-bar-interrupted, .progress-bar-interrupted::-webkit-progress-bar {\n",
              "        background: #F44336;\n",
              "    }\n",
              "</style>\n"
            ],
            "text/plain": [
              "<IPython.core.display.HTML object>"
            ]
          },
          "metadata": {},
          "output_type": "display_data"
        },
        {
          "data": {
            "text/html": [],
            "text/plain": [
              "<IPython.core.display.HTML object>"
            ]
          },
          "metadata": {},
          "output_type": "display_data"
        },
        {
          "data": {
            "text/plain": [
              "(#2) [0.10298822075128555,0.9343624711036682]"
            ]
          },
          "execution_count": 85,
          "metadata": {},
          "output_type": "execute_result"
        }
      ],
      "source": [
        "# 임계점이 너무 낮을 때\n",
        "learn.metrics = partial(accuracy_multi, thresh=0.1)\n",
        "learn.validate()"
      ]
    },
    {
      "cell_type": "code",
      "execution_count": 86,
      "metadata": {
        "colab": {
          "base_uri": "https://localhost:8080/",
          "height": 35
        },
        "id": "NlFCERMx6cpV",
        "outputId": "5705e34d-fefd-4ee3-9ee2-8d1e4157e328"
      },
      "outputs": [
        {
          "data": {
            "text/html": [
              "\n",
              "<style>\n",
              "    /* Turns off some styling */\n",
              "    progress {\n",
              "        /* gets rid of default border in Firefox and Opera. */\n",
              "        border: none;\n",
              "        /* Needs to be in here for Safari polyfill so background images work as expected. */\n",
              "        background-size: auto;\n",
              "    }\n",
              "    progress:not([value]), progress:not([value])::-webkit-progress-bar {\n",
              "        background: repeating-linear-gradient(45deg, #7e7e7e, #7e7e7e 10px, #5c5c5c 10px, #5c5c5c 20px);\n",
              "    }\n",
              "    .progress-bar-interrupted, .progress-bar-interrupted::-webkit-progress-bar {\n",
              "        background: #F44336;\n",
              "    }\n",
              "</style>\n"
            ],
            "text/plain": [
              "<IPython.core.display.HTML object>"
            ]
          },
          "metadata": {},
          "output_type": "display_data"
        },
        {
          "data": {
            "text/html": [],
            "text/plain": [
              "<IPython.core.display.HTML object>"
            ]
          },
          "metadata": {},
          "output_type": "display_data"
        },
        {
          "data": {
            "text/plain": [
              "(#2) [0.10298822075128555,0.9567329287528992]"
            ]
          },
          "execution_count": 86,
          "metadata": {},
          "output_type": "execute_result"
        }
      ],
      "source": [
        "# 임계점이 너무 높을 때\n",
        "learn.metrics = partial(accuracy_multi, thresh=0.9)\n",
        "learn.validate()"
      ]
    },
    {
      "cell_type": "code",
      "execution_count": 87,
      "metadata": {
        "colab": {
          "base_uri": "https://localhost:8080/",
          "height": 267
        },
        "id": "1ZYKU2IW6cmw",
        "outputId": "1a6bef5c-a5e1-47b0-9fc4-ad209eba1f60"
      },
      "outputs": [
        {
          "data": {
            "text/html": [
              "\n",
              "<style>\n",
              "    /* Turns off some styling */\n",
              "    progress {\n",
              "        /* gets rid of default border in Firefox and Opera. */\n",
              "        border: none;\n",
              "        /* Needs to be in here for Safari polyfill so background images work as expected. */\n",
              "        background-size: auto;\n",
              "    }\n",
              "    progress:not([value]), progress:not([value])::-webkit-progress-bar {\n",
              "        background: repeating-linear-gradient(45deg, #7e7e7e, #7e7e7e 10px, #5c5c5c 10px, #5c5c5c 20px);\n",
              "    }\n",
              "    .progress-bar-interrupted, .progress-bar-interrupted::-webkit-progress-bar {\n",
              "        background: #F44336;\n",
              "    }\n",
              "</style>\n"
            ],
            "text/plain": [
              "<IPython.core.display.HTML object>"
            ]
          },
          "metadata": {},
          "output_type": "display_data"
        },
        {
          "data": {
            "text/html": [],
            "text/plain": [
              "<IPython.core.display.HTML object>"
            ]
          },
          "metadata": {},
          "output_type": "display_data"
        },
        {
          "data": {
            "text/plain": [
              "(TensorBase([[3.7950e-04, 5.0601e-03, 1.7985e-03,  ..., 2.2005e-01, 9.4232e-04, 7.3015e-02],\n",
              "             [1.2893e-04, 9.7282e-03, 1.1595e-03,  ..., 4.0017e-03, 6.3760e-04, 1.1836e-04],\n",
              "             [1.9792e-03, 2.2415e-02, 5.0265e-03,  ..., 9.5803e-04, 6.2804e-04, 8.1086e-04],\n",
              "             ...,\n",
              "             [2.2224e-03, 1.3238e-03, 4.5860e-04,  ..., 5.7846e-03, 2.1574e-03, 1.3286e-02],\n",
              "             [1.8643e-02, 1.9250e-03, 1.2228e-02,  ..., 1.6820e-03, 2.8323e-02, 3.1033e-03],\n",
              "             [2.2489e-03, 9.3134e-01, 4.4183e-03,  ..., 6.0112e-03, 1.2311e-03, 7.3217e-03]]),\n",
              " tensor([[0., 0., 0.,  ..., 0., 0., 0.],\n",
              "         [0., 0., 0.,  ..., 0., 0., 0.],\n",
              "         [0., 0., 0.,  ..., 0., 0., 0.],\n",
              "         ...,\n",
              "         [0., 0., 0.,  ..., 0., 0., 0.],\n",
              "         [0., 0., 0.,  ..., 0., 0., 0.],\n",
              "         [0., 1., 0.,  ..., 0., 0., 0.]]))"
            ]
          },
          "execution_count": 87,
          "metadata": {},
          "output_type": "execute_result"
        }
      ],
      "source": [
        "preds, targs = learn.get_preds()\n",
        "\n",
        "preds, targs # preds는 이미 시그모이드가 적용됐다."
      ]
    },
    {
      "cell_type": "code",
      "execution_count": 89,
      "metadata": {
        "colab": {
          "base_uri": "https://localhost:8080/"
        },
        "id": "FEtaov2wKC4J",
        "outputId": "c465670e-3786-449e-b15d-8dab99654aaa"
      },
      "outputs": [
        {
          "data": {
            "text/plain": [
              "TensorBase(0.9567)"
            ]
          },
          "execution_count": 89,
          "metadata": {},
          "output_type": "execute_result"
        }
      ],
      "source": [
        "accuracy_multi(preds, targs, thresh=0.9, sigmoid=False)\n",
        "\n",
        "# 최적의 임계점 찾기"
      ]
    },
    {
      "cell_type": "code",
      "execution_count": 90,
      "metadata": {
        "colab": {
          "base_uri": "https://localhost:8080/",
          "height": 286
        },
        "id": "01S6cNgVKaXA",
        "outputId": "bb174e95-77f9-4e82-a7c0-2a8ba1b1b667"
      },
      "outputs": [
        {
          "data": {
            "text/plain": [
              "[<matplotlib.lines.Line2D at 0x7ff47c19b0d0>]"
            ]
          },
          "execution_count": 90,
          "metadata": {},
          "output_type": "execute_result"
        },
        {
          "data": {
            "image/png": "[encoded data removed]",
            "text/plain": [
              "<Figure size 432x288 with 1 Axes>"
            ]
          },
          "metadata": {
            "needs_background": "light"
          },
          "output_type": "display_data"
        }
      ],
      "source": [
        "# 임계점마다 변화하는 정확도를 그래프로\n",
        "\n",
        "xs = torch.linspace(0.05, 0.95, 29)\n",
        "accs = [accuracy_multi(preds, targs, thresh = i, sigmoid=False) for i in xs]\n",
        "plt.plot(xs, accs)"
      ]
    }
  ],
  "metadata": {
    "accelerator": "GPU",
    "colab": {
      "collapsed_sections": [],
      "name": "Lesson6-1.ipynb",
      "provenance": []
    },
    "gpuClass": "standard",
    "kernelspec": {
      "display_name": "Python 3",
      "name": "python3"
    },
    "language_info": {
      "name": "python"
    }
  },
  "nbformat": 4,
  "nbformat_minor": 0
}
